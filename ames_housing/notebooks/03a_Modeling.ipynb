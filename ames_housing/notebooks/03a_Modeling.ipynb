{
 "cells": [
  {
   "cell_type": "markdown",
   "metadata": {},
   "source": [
    "# NOTEBOOK 03a: MODELING - Baseline Model"
   ]
  },
  {
   "cell_type": "markdown",
   "metadata": {},
   "source": [
    "Establishing the baseline model and establishing pipeline for optimization of model hyperparameters. The baseline model represents the most simple informed prediction we can make on the target variable, in this case the mean sale price calculated from the training data. This will be scored by r2 and RMSE to be used for comparison against more sophisticated models ranging from linear regression, Lasso & Ridge regression, ElasticNet, and KNearest Neighbors."
   ]
  },
  {
   "cell_type": "code",
   "execution_count": 1,
   "metadata": {},
   "outputs": [],
   "source": [
    "import pandas as pd\n",
    "import numpy as np\n",
    "import matplotlib.pyplot as plt\n",
    "import seaborn as sns\n",
    "import csv\n",
    "import pickle\n",
    "import re\n",
    "import time\n",
    "\n",
    "from scipy import stats\n",
    "from sklearn.pipeline import Pipeline\n",
    "from sklearn.preprocessing import StandardScaler\n",
    "from sklearn.feature_selection import VarianceThreshold, SelectKBest, SelectPercentile, SelectFromModel, f_regression, RFECV\n",
    "from sklearn.linear_model import LinearRegression, LassoCV, RidgeCV, ElasticNetCV\n",
    "from sklearn.model_selection import train_test_split, cross_val_score, GridSearchCV, RandomizedSearchCV\n",
    "from sklearn.metrics import r2_score, mean_squared_error\n",
    "from sklearn.neighbors import KNeighborsRegressor\n",
    "\n",
    "import warnings\n",
    "warnings.simplefilter(action='ignore', category=FutureWarning)\n",
    "warnings.simplefilter(action='ignore', category=DeprecationWarning)\n",
    "\n",
    "np.random.seed(42)\n",
    "\n",
    "%matplotlib inline"
   ]
  },
  {
   "cell_type": "code",
   "execution_count": 2,
   "metadata": {},
   "outputs": [],
   "source": [
    "df = pd.read_csv('../data/train_clean.csv', index_col='Id', na_filter=False)"
   ]
  },
  {
   "cell_type": "markdown",
   "metadata": {},
   "source": [
    "Loading the clean dataframe from Notebook 02 and confirming correct indexing."
   ]
  },
  {
   "cell_type": "code",
   "execution_count": 3,
   "metadata": {},
   "outputs": [
    {
     "data": {
      "text/html": [
       "<div>\n",
       "<style scoped>\n",
       "    .dataframe tbody tr th:only-of-type {\n",
       "        vertical-align: middle;\n",
       "    }\n",
       "\n",
       "    .dataframe tbody tr th {\n",
       "        vertical-align: top;\n",
       "    }\n",
       "\n",
       "    .dataframe thead th {\n",
       "        text-align: right;\n",
       "    }\n",
       "</style>\n",
       "<table border=\"1\" class=\"dataframe\">\n",
       "  <thead>\n",
       "    <tr style=\"text-align: right;\">\n",
       "      <th></th>\n",
       "      <th>Lot Frontage</th>\n",
       "      <th>Lot Area</th>\n",
       "      <th>Overall Qual</th>\n",
       "      <th>Overall Cond</th>\n",
       "      <th>Year Built</th>\n",
       "      <th>Year Remod/Add</th>\n",
       "      <th>Mas Vnr Area</th>\n",
       "      <th>Bsmt Unf SF</th>\n",
       "      <th>Total Bsmt SF</th>\n",
       "      <th>Central Air</th>\n",
       "      <th>...</th>\n",
       "      <th>Misc Feature_none</th>\n",
       "      <th>Sale Type_COD</th>\n",
       "      <th>Sale Type_CWD</th>\n",
       "      <th>Sale Type_Con</th>\n",
       "      <th>Sale Type_ConLD</th>\n",
       "      <th>Sale Type_ConLI</th>\n",
       "      <th>Sale Type_ConLw</th>\n",
       "      <th>Sale Type_New</th>\n",
       "      <th>Sale Type_Oth</th>\n",
       "      <th>Sale Type_WD</th>\n",
       "    </tr>\n",
       "    <tr>\n",
       "      <th>Id</th>\n",
       "      <th></th>\n",
       "      <th></th>\n",
       "      <th></th>\n",
       "      <th></th>\n",
       "      <th></th>\n",
       "      <th></th>\n",
       "      <th></th>\n",
       "      <th></th>\n",
       "      <th></th>\n",
       "      <th></th>\n",
       "      <th></th>\n",
       "      <th></th>\n",
       "      <th></th>\n",
       "      <th></th>\n",
       "      <th></th>\n",
       "      <th></th>\n",
       "      <th></th>\n",
       "      <th></th>\n",
       "      <th></th>\n",
       "      <th></th>\n",
       "      <th></th>\n",
       "    </tr>\n",
       "  </thead>\n",
       "  <tbody>\n",
       "    <tr>\n",
       "      <th>109</th>\n",
       "      <td>0.0</td>\n",
       "      <td>13517</td>\n",
       "      <td>6</td>\n",
       "      <td>8</td>\n",
       "      <td>1976</td>\n",
       "      <td>2005</td>\n",
       "      <td>289.0</td>\n",
       "      <td>192.0</td>\n",
       "      <td>725.0</td>\n",
       "      <td>1</td>\n",
       "      <td>...</td>\n",
       "      <td>1</td>\n",
       "      <td>0</td>\n",
       "      <td>0</td>\n",
       "      <td>0</td>\n",
       "      <td>0</td>\n",
       "      <td>0</td>\n",
       "      <td>0</td>\n",
       "      <td>0</td>\n",
       "      <td>0</td>\n",
       "      <td>1</td>\n",
       "    </tr>\n",
       "    <tr>\n",
       "      <th>544</th>\n",
       "      <td>43.0</td>\n",
       "      <td>11492</td>\n",
       "      <td>7</td>\n",
       "      <td>5</td>\n",
       "      <td>1996</td>\n",
       "      <td>1997</td>\n",
       "      <td>132.0</td>\n",
       "      <td>276.0</td>\n",
       "      <td>913.0</td>\n",
       "      <td>1</td>\n",
       "      <td>...</td>\n",
       "      <td>1</td>\n",
       "      <td>0</td>\n",
       "      <td>0</td>\n",
       "      <td>0</td>\n",
       "      <td>0</td>\n",
       "      <td>0</td>\n",
       "      <td>0</td>\n",
       "      <td>0</td>\n",
       "      <td>0</td>\n",
       "      <td>1</td>\n",
       "    </tr>\n",
       "    <tr>\n",
       "      <th>153</th>\n",
       "      <td>68.0</td>\n",
       "      <td>7922</td>\n",
       "      <td>5</td>\n",
       "      <td>7</td>\n",
       "      <td>1953</td>\n",
       "      <td>2007</td>\n",
       "      <td>0.0</td>\n",
       "      <td>326.0</td>\n",
       "      <td>1057.0</td>\n",
       "      <td>1</td>\n",
       "      <td>...</td>\n",
       "      <td>1</td>\n",
       "      <td>0</td>\n",
       "      <td>0</td>\n",
       "      <td>0</td>\n",
       "      <td>0</td>\n",
       "      <td>0</td>\n",
       "      <td>0</td>\n",
       "      <td>0</td>\n",
       "      <td>0</td>\n",
       "      <td>1</td>\n",
       "    </tr>\n",
       "    <tr>\n",
       "      <th>318</th>\n",
       "      <td>73.0</td>\n",
       "      <td>9802</td>\n",
       "      <td>5</td>\n",
       "      <td>5</td>\n",
       "      <td>2006</td>\n",
       "      <td>2007</td>\n",
       "      <td>0.0</td>\n",
       "      <td>384.0</td>\n",
       "      <td>384.0</td>\n",
       "      <td>1</td>\n",
       "      <td>...</td>\n",
       "      <td>1</td>\n",
       "      <td>0</td>\n",
       "      <td>0</td>\n",
       "      <td>0</td>\n",
       "      <td>0</td>\n",
       "      <td>0</td>\n",
       "      <td>0</td>\n",
       "      <td>0</td>\n",
       "      <td>0</td>\n",
       "      <td>1</td>\n",
       "    </tr>\n",
       "    <tr>\n",
       "      <th>255</th>\n",
       "      <td>82.0</td>\n",
       "      <td>14235</td>\n",
       "      <td>6</td>\n",
       "      <td>8</td>\n",
       "      <td>1900</td>\n",
       "      <td>1993</td>\n",
       "      <td>0.0</td>\n",
       "      <td>676.0</td>\n",
       "      <td>676.0</td>\n",
       "      <td>1</td>\n",
       "      <td>...</td>\n",
       "      <td>1</td>\n",
       "      <td>0</td>\n",
       "      <td>0</td>\n",
       "      <td>0</td>\n",
       "      <td>0</td>\n",
       "      <td>0</td>\n",
       "      <td>0</td>\n",
       "      <td>0</td>\n",
       "      <td>0</td>\n",
       "      <td>1</td>\n",
       "    </tr>\n",
       "  </tbody>\n",
       "</table>\n",
       "<p>5 rows × 255 columns</p>\n",
       "</div>"
      ],
      "text/plain": [
       "     Lot Frontage  Lot Area  Overall Qual  Overall Cond  Year Built  \\\n",
       "Id                                                                    \n",
       "109           0.0     13517             6             8        1976   \n",
       "544          43.0     11492             7             5        1996   \n",
       "153          68.0      7922             5             7        1953   \n",
       "318          73.0      9802             5             5        2006   \n",
       "255          82.0     14235             6             8        1900   \n",
       "\n",
       "     Year Remod/Add  Mas Vnr Area  Bsmt Unf SF  Total Bsmt SF  Central Air  \\\n",
       "Id                                                                           \n",
       "109            2005         289.0        192.0          725.0            1   \n",
       "544            1997         132.0        276.0          913.0            1   \n",
       "153            2007           0.0        326.0         1057.0            1   \n",
       "318            2007           0.0        384.0          384.0            1   \n",
       "255            1993           0.0        676.0          676.0            1   \n",
       "\n",
       "         ...        Misc Feature_none  Sale Type_COD  Sale Type_CWD  \\\n",
       "Id       ...                                                          \n",
       "109      ...                        1              0              0   \n",
       "544      ...                        1              0              0   \n",
       "153      ...                        1              0              0   \n",
       "318      ...                        1              0              0   \n",
       "255      ...                        1              0              0   \n",
       "\n",
       "     Sale Type_Con  Sale Type_ConLD  Sale Type_ConLI  Sale Type_ConLw  \\\n",
       "Id                                                                      \n",
       "109              0                0                0                0   \n",
       "544              0                0                0                0   \n",
       "153              0                0                0                0   \n",
       "318              0                0                0                0   \n",
       "255              0                0                0                0   \n",
       "\n",
       "     Sale Type_New  Sale Type_Oth  Sale Type_WD   \n",
       "Id                                                \n",
       "109              0              0              1  \n",
       "544              0              0              1  \n",
       "153              0              0              1  \n",
       "318              0              0              1  \n",
       "255              0              0              1  \n",
       "\n",
       "[5 rows x 255 columns]"
      ]
     },
     "execution_count": 3,
     "metadata": {},
     "output_type": "execute_result"
    }
   ],
   "source": [
    "df.head()"
   ]
  },
  {
   "cell_type": "markdown",
   "metadata": {},
   "source": [
    "Setting the target and independent variables. We are including all features from the EDA/Preprocesing workflow for initial baseline testing."
   ]
  },
  {
   "cell_type": "code",
   "execution_count": 4,
   "metadata": {},
   "outputs": [],
   "source": [
    "X = df.drop(['SalePrice'],axis=1)\n",
    "y = df['SalePrice']\n",
    "\n",
    "X_train, X_test, y_train, y_test = train_test_split(X, y)"
   ]
  },
  {
   "cell_type": "markdown",
   "metadata": {},
   "source": [
    "Baseline model predicting sale price based on the mean sale price from the training data."
   ]
  },
  {
   "cell_type": "code",
   "execution_count": 35,
   "metadata": {},
   "outputs": [],
   "source": [
    "base = y_train"
   ]
  },
  {
   "cell_type": "markdown",
   "metadata": {},
   "source": [
    "Structuring the baseline predictions off y_train to ensure matching shape."
   ]
  },
  {
   "cell_type": "code",
   "execution_count": 38,
   "metadata": {},
   "outputs": [
    {
     "data": {
      "text/plain": [
       "Id\n",
       "372     180368.805863\n",
       "2234    180368.805863\n",
       "121     180368.805863\n",
       "892     180368.805863\n",
       "2015    180368.805863\n",
       "Name: SalePrice, dtype: float64"
      ]
     },
     "execution_count": 38,
     "metadata": {},
     "output_type": "execute_result"
    }
   ],
   "source": [
    "base = base.map(lambda x: np.mean(y_train))\n",
    "base.head()"
   ]
  },
  {
   "cell_type": "markdown",
   "metadata": {},
   "source": [
    "Setting each  baseline prediction to the mean sale price of y_train"
   ]
  },
  {
   "cell_type": "code",
   "execution_count": 7,
   "metadata": {},
   "outputs": [
    {
     "data": {
      "text/plain": [
       "0.0"
      ]
     },
     "execution_count": 7,
     "metadata": {},
     "output_type": "execute_result"
    }
   ],
   "source": [
    "r2_score(y_train, base)"
   ]
  },
  {
   "cell_type": "markdown",
   "metadata": {},
   "source": [
    "An r2 score of zero shows that we modeling the data with a horizontal line at the mean sale price."
   ]
  },
  {
   "cell_type": "code",
   "execution_count": 8,
   "metadata": {},
   "outputs": [
    {
     "data": {
      "text/plain": [
       "77682.85736250116"
      ]
     },
     "execution_count": 8,
     "metadata": {},
     "output_type": "execute_result"
    }
   ],
   "source": [
    "(mean_squared_error(y_train, base))**.5"
   ]
  },
  {
   "cell_type": "markdown",
   "metadata": {},
   "source": [
    "An RMSE of 77657.57 means that at baseline, our predictions are off by an average of \\$77657.57."
   ]
  },
  {
   "cell_type": "markdown",
   "metadata": {},
   "source": [
    "# Modeling"
   ]
  },
  {
   "cell_type": "markdown",
   "metadata": {},
   "source": [
    "Setting up a model processing pipeline to run a corse test with a range of values for variance thresholding and automated feature selection using a k-best method. This will help guide identification of colinear features through recursive processing.\n",
    "\n",
    "This process includes:\n",
    "- VarianceThreshold: To identify features which may be too sparce to encode enough variance to provide a meaningful signal. \n",
    "\n",
    "- StandardScaler: Normalizes the data to ensure beta coefficients are weighted equally across features. This prevents features with high variance to hold priority in regularizing functions such as Lasso, Ridge, or ElasticNet.\n",
    "\n",
    "- SelectKBest: Selects k-features with the highest f-scores to pass to the model.\n",
    "\n",
    "- LinearRegression: Fitting a linear model to predict y based on its relationship to each contributing feature.\n",
    "\n",
    "Later, this workflow will be utilized for selection and optimization of our production model."
   ]
  },
  {
   "cell_type": "code",
   "execution_count": 9,
   "metadata": {},
   "outputs": [],
   "source": [
    "pipe = Pipeline([\n",
    "    ('var_thresh', VarianceThreshold(0)),\n",
    "    ('ss', StandardScaler()),\n",
    "    ('kbest', SelectKBest(f_regression, k=37)),\n",
    "    ('lr', LinearRegression()), \n",
    "#     ('lasso', LassoCV()),\n",
    "#     ('ridge', RidgeCV()),\n",
    "#     ('enet', ElasticNetCV()),\n",
    "#     ('knn', KNeighborsRegressor),\n",
    "])\n"
   ]
  },
  {
   "cell_type": "markdown",
   "metadata": {},
   "source": [
    "Setting the default VarianceThreshold to 0 and k=37, we can measure initial performance before gridsearch optimization."
   ]
  },
  {
   "cell_type": "code",
   "execution_count": 10,
   "metadata": {},
   "outputs": [
    {
     "data": {
      "text/plain": [
       "Pipeline(memory=None,\n",
       "     steps=[('var_thresh', VarianceThreshold(threshold=0)), ('ss', StandardScaler(copy=True, with_mean=True, with_std=True)), ('kbest', SelectKBest(k=37, score_func=<function f_regression at 0x1a1ae6b620>)), ('lr', LinearRegression(copy_X=True, fit_intercept=True, n_jobs=None,\n",
       "         normalize=False))])"
      ]
     },
     "execution_count": 10,
     "metadata": {},
     "output_type": "execute_result"
    }
   ],
   "source": [
    "pipe.fit(X_train,y_train)"
   ]
  },
  {
   "cell_type": "markdown",
   "metadata": {},
   "source": [
    "Fitting the model to the training data."
   ]
  },
  {
   "cell_type": "code",
   "execution_count": 11,
   "metadata": {},
   "outputs": [
    {
     "data": {
      "text/plain": [
       "0.8398869126205553"
      ]
     },
     "execution_count": 11,
     "metadata": {},
     "output_type": "execute_result"
    }
   ],
   "source": [
    "pipe.score(X_train,y_train)"
   ]
  },
  {
   "cell_type": "markdown",
   "metadata": {},
   "source": [
    "R2 score the training data "
   ]
  },
  {
   "cell_type": "code",
   "execution_count": 12,
   "metadata": {},
   "outputs": [
    {
     "data": {
      "text/plain": [
       "0.8835234443636879"
      ]
     },
     "execution_count": 12,
     "metadata": {},
     "output_type": "execute_result"
    }
   ],
   "source": [
    "pipe.score(X_test,y_test)"
   ]
  },
  {
   "cell_type": "markdown",
   "metadata": {},
   "source": [
    "R2 score for the testing data. Since the model performed better on the test set we will be mindful of possible underfitting, which may suggest high bias and low variance in our model."
   ]
  },
  {
   "cell_type": "code",
   "execution_count": 14,
   "metadata": {},
   "outputs": [],
   "source": [
    "params = {\n",
    "    'var_thresh__threshold': [0, .001, .01, .02, .05],\n",
    "    'kbest__k': [5, 7, 13, 17, 23, 37, 53, 79, 101],\n",
    "#     'lasso__alpha': np.logspace(-3, 3, 7),\n",
    "}"
   ]
  },
  {
   "cell_type": "markdown",
   "metadata": {},
   "source": [
    "Setting hyper parameters for the gridsearch cross validation."
   ]
  },
  {
   "cell_type": "code",
   "execution_count": 15,
   "metadata": {},
   "outputs": [],
   "source": [
    "gs = GridSearchCV(pipe, params, cv=5, scoring='r2', verbose=1)"
   ]
  },
  {
   "cell_type": "markdown",
   "metadata": {},
   "source": [
    "Instantiating the model"
   ]
  },
  {
   "cell_type": "code",
   "execution_count": 16,
   "metadata": {},
   "outputs": [
    {
     "name": "stdout",
     "output_type": "stream",
     "text": [
      "Fitting 5 folds for each of 45 candidates, totalling 225 fits\n"
     ]
    },
    {
     "name": "stderr",
     "output_type": "stream",
     "text": [
      "[Parallel(n_jobs=1)]: Using backend SequentialBackend with 1 concurrent workers.\n",
      "[Parallel(n_jobs=1)]: Done 225 out of 225 | elapsed:    5.7s finished\n"
     ]
    },
    {
     "data": {
      "text/plain": [
       "GridSearchCV(cv=5, error_score='raise-deprecating',\n",
       "       estimator=Pipeline(memory=None,\n",
       "     steps=[('var_thresh', VarianceThreshold(threshold=0)), ('ss', StandardScaler(copy=True, with_mean=True, with_std=True)), ('kbest', SelectKBest(k=37, score_func=<function f_regression at 0x1a1ae6b620>)), ('lr', LinearRegression(copy_X=True, fit_intercept=True, n_jobs=None,\n",
       "         normalize=False))]),\n",
       "       fit_params=None, iid='warn', n_jobs=None,\n",
       "       param_grid={'var_thresh__threshold': [0, 0.001, 0.01, 0.02, 0.05], 'kbest__k': [5, 7, 13, 17, 23, 37, 53, 79, 101]},\n",
       "       pre_dispatch='2*n_jobs', refit=True, return_train_score='warn',\n",
       "       scoring='r2', verbose=1)"
      ]
     },
     "execution_count": 16,
     "metadata": {},
     "output_type": "execute_result"
    }
   ],
   "source": [
    "gs.fit(X_train, y_train)"
   ]
  },
  {
   "cell_type": "markdown",
   "metadata": {},
   "source": [
    "Fitting the model to the training data to learn the best parameters. "
   ]
  },
  {
   "cell_type": "code",
   "execution_count": 18,
   "metadata": {},
   "outputs": [
    {
     "data": {
      "text/plain": [
       "{'kbest__k': 79, 'var_thresh__threshold': 0}"
      ]
     },
     "execution_count": 18,
     "metadata": {},
     "output_type": "execute_result"
    }
   ],
   "source": [
    "gs.best_params_"
   ]
  },
  {
   "cell_type": "markdown",
   "metadata": {},
   "source": [
    "The model has selected 79 features with a variance threshold of 0. This means that none of the features were excluded due to low signal."
   ]
  },
  {
   "cell_type": "code",
   "execution_count": 21,
   "metadata": {},
   "outputs": [],
   "source": [
    "columns = X.columns\n",
    "columns = columns[gs.best_estimator_.named_steps['var_thresh'].get_support()]\n",
    "columns = columns[gs.best_estimator_.named_steps['kbest'].get_support()]\n",
    "\n",
    "X_weights = pd.DataFrame(gs.best_estimator_.named_steps['lr'].coef_, \n",
    "             index = columns, \n",
    "             columns=['weight'])\n",
    "X_weights['abs_weight'] = X_weights['weight'].abs()"
   ]
  },
  {
   "cell_type": "markdown",
   "metadata": {},
   "source": [
    "Matching the beta coefficients to the corresponding feature for interpertation."
   ]
  },
  {
   "cell_type": "code",
   "execution_count": 39,
   "metadata": {},
   "outputs": [
    {
     "data": {
      "text/html": [
       "<div>\n",
       "<style scoped>\n",
       "    .dataframe tbody tr th:only-of-type {\n",
       "        vertical-align: middle;\n",
       "    }\n",
       "\n",
       "    .dataframe tbody tr th {\n",
       "        vertical-align: top;\n",
       "    }\n",
       "\n",
       "    .dataframe thead th {\n",
       "        text-align: right;\n",
       "    }\n",
       "</style>\n",
       "<table border=\"1\" class=\"dataframe\">\n",
       "  <thead>\n",
       "    <tr style=\"text-align: right;\">\n",
       "      <th></th>\n",
       "      <th>weight</th>\n",
       "      <th>abs_weight</th>\n",
       "    </tr>\n",
       "  </thead>\n",
       "  <tbody>\n",
       "    <tr>\n",
       "      <th>Garage Type_none</th>\n",
       "      <td>-1.494662e+16</td>\n",
       "      <td>1.494662e+16</td>\n",
       "    </tr>\n",
       "    <tr>\n",
       "      <th>Garage Finish_Unf</th>\n",
       "      <td>-1.144346e+16</td>\n",
       "      <td>1.144346e+16</td>\n",
       "    </tr>\n",
       "    <tr>\n",
       "      <th>Garage Finish_RFn</th>\n",
       "      <td>-1.045403e+16</td>\n",
       "      <td>1.045403e+16</td>\n",
       "    </tr>\n",
       "    <tr>\n",
       "      <th>Garage Finish_Fin</th>\n",
       "      <td>-1.000833e+16</td>\n",
       "      <td>1.000833e+16</td>\n",
       "    </tr>\n",
       "    <tr>\n",
       "      <th>Garage Qual_none</th>\n",
       "      <td>3.182079e+15</td>\n",
       "      <td>3.182079e+15</td>\n",
       "    </tr>\n",
       "    <tr>\n",
       "      <th>Garage Cond_none</th>\n",
       "      <td>3.182079e+15</td>\n",
       "      <td>3.182079e+15</td>\n",
       "    </tr>\n",
       "    <tr>\n",
       "      <th>Garage Finish_none</th>\n",
       "      <td>3.182079e+15</td>\n",
       "      <td>3.182079e+15</td>\n",
       "    </tr>\n",
       "    <tr>\n",
       "      <th>BsmtFin SF</th>\n",
       "      <td>-2.499910e+15</td>\n",
       "      <td>2.499910e+15</td>\n",
       "    </tr>\n",
       "    <tr>\n",
       "      <th>Total Bsmt SF</th>\n",
       "      <td>2.307848e+15</td>\n",
       "      <td>2.307848e+15</td>\n",
       "    </tr>\n",
       "    <tr>\n",
       "      <th>Bsmt Unf SF</th>\n",
       "      <td>-2.249778e+15</td>\n",
       "      <td>2.249778e+15</td>\n",
       "    </tr>\n",
       "    <tr>\n",
       "      <th>Overall Qual</th>\n",
       "      <td>1.405346e+04</td>\n",
       "      <td>1.405346e+04</td>\n",
       "    </tr>\n",
       "    <tr>\n",
       "      <th>Kitchen Qual_Ex</th>\n",
       "      <td>1.082809e+04</td>\n",
       "      <td>1.082809e+04</td>\n",
       "    </tr>\n",
       "    <tr>\n",
       "      <th>1st Flr SF</th>\n",
       "      <td>9.678000e+03</td>\n",
       "      <td>9.678000e+03</td>\n",
       "    </tr>\n",
       "    <tr>\n",
       "      <th>2nd Flr SF</th>\n",
       "      <td>9.303562e+03</td>\n",
       "      <td>9.303562e+03</td>\n",
       "    </tr>\n",
       "    <tr>\n",
       "      <th>Garage Type_Attchd</th>\n",
       "      <td>8.927562e+03</td>\n",
       "      <td>8.927562e+03</td>\n",
       "    </tr>\n",
       "    <tr>\n",
       "      <th>Neighborhood_NridgHt</th>\n",
       "      <td>6.606750e+03</td>\n",
       "      <td>6.606750e+03</td>\n",
       "    </tr>\n",
       "    <tr>\n",
       "      <th>Garage Type_Detchd</th>\n",
       "      <td>6.575898e+03</td>\n",
       "      <td>6.575898e+03</td>\n",
       "    </tr>\n",
       "    <tr>\n",
       "      <th>Bsmt Qual_Ex</th>\n",
       "      <td>6.345406e+03</td>\n",
       "      <td>6.345406e+03</td>\n",
       "    </tr>\n",
       "    <tr>\n",
       "      <th>Neighborhood_NoRidge</th>\n",
       "      <td>6.241219e+03</td>\n",
       "      <td>6.241219e+03</td>\n",
       "    </tr>\n",
       "    <tr>\n",
       "      <th>MS Zoning_RM</th>\n",
       "      <td>-5.543000e+03</td>\n",
       "      <td>5.543000e+03</td>\n",
       "    </tr>\n",
       "    <tr>\n",
       "      <th>Garage Cars</th>\n",
       "      <td>5.516341e+03</td>\n",
       "      <td>5.516341e+03</td>\n",
       "    </tr>\n",
       "    <tr>\n",
       "      <th>Garage Area</th>\n",
       "      <td>5.407375e+03</td>\n",
       "      <td>5.407375e+03</td>\n",
       "    </tr>\n",
       "    <tr>\n",
       "      <th>Bsmt Exposure_Gd</th>\n",
       "      <td>5.060938e+03</td>\n",
       "      <td>5.060938e+03</td>\n",
       "    </tr>\n",
       "    <tr>\n",
       "      <th>Neighborhood_StoneBr</th>\n",
       "      <td>4.865602e+03</td>\n",
       "      <td>4.865602e+03</td>\n",
       "    </tr>\n",
       "    <tr>\n",
       "      <th>Kitchen Qual_Gd</th>\n",
       "      <td>4.777250e+03</td>\n",
       "      <td>4.777250e+03</td>\n",
       "    </tr>\n",
       "    <tr>\n",
       "      <th>Garage Type_BuiltIn</th>\n",
       "      <td>4.460922e+03</td>\n",
       "      <td>4.460922e+03</td>\n",
       "    </tr>\n",
       "    <tr>\n",
       "      <th>Exter Qual_Ex</th>\n",
       "      <td>4.376531e+03</td>\n",
       "      <td>4.376531e+03</td>\n",
       "    </tr>\n",
       "    <tr>\n",
       "      <th>Lot Area</th>\n",
       "      <td>4.365307e+03</td>\n",
       "      <td>4.365307e+03</td>\n",
       "    </tr>\n",
       "    <tr>\n",
       "      <th>Gr Liv Area</th>\n",
       "      <td>4.106141e+03</td>\n",
       "      <td>4.106141e+03</td>\n",
       "    </tr>\n",
       "    <tr>\n",
       "      <th>Foundation_PConc</th>\n",
       "      <td>4.040188e+03</td>\n",
       "      <td>4.040188e+03</td>\n",
       "    </tr>\n",
       "    <tr>\n",
       "      <th>...</th>\n",
       "      <td>...</td>\n",
       "      <td>...</td>\n",
       "    </tr>\n",
       "    <tr>\n",
       "      <th>Garage Yr Blt</th>\n",
       "      <td>-1.833344e+03</td>\n",
       "      <td>1.833344e+03</td>\n",
       "    </tr>\n",
       "    <tr>\n",
       "      <th>Exter Qual_TA</th>\n",
       "      <td>1.767375e+03</td>\n",
       "      <td>1.767375e+03</td>\n",
       "    </tr>\n",
       "    <tr>\n",
       "      <th>Fireplace Qu_Gd</th>\n",
       "      <td>1.756000e+03</td>\n",
       "      <td>1.756000e+03</td>\n",
       "    </tr>\n",
       "    <tr>\n",
       "      <th>MS Zoning_RL</th>\n",
       "      <td>-1.751250e+03</td>\n",
       "      <td>1.751250e+03</td>\n",
       "    </tr>\n",
       "    <tr>\n",
       "      <th>Foundation_BrkTil</th>\n",
       "      <td>1.686188e+03</td>\n",
       "      <td>1.686188e+03</td>\n",
       "    </tr>\n",
       "    <tr>\n",
       "      <th>Land Contour_HLS</th>\n",
       "      <td>1.676156e+03</td>\n",
       "      <td>1.676156e+03</td>\n",
       "    </tr>\n",
       "    <tr>\n",
       "      <th>Fireplace Qu_Ex</th>\n",
       "      <td>1.647773e+03</td>\n",
       "      <td>1.647773e+03</td>\n",
       "    </tr>\n",
       "    <tr>\n",
       "      <th>Exterior_VinylSd</th>\n",
       "      <td>1.604125e+03</td>\n",
       "      <td>1.604125e+03</td>\n",
       "    </tr>\n",
       "    <tr>\n",
       "      <th>Mas Vnr Type_Stone</th>\n",
       "      <td>1.483062e+03</td>\n",
       "      <td>1.483062e+03</td>\n",
       "    </tr>\n",
       "    <tr>\n",
       "      <th>TotRms AbvGrd</th>\n",
       "      <td>1.474734e+03</td>\n",
       "      <td>1.474734e+03</td>\n",
       "    </tr>\n",
       "    <tr>\n",
       "      <th>Central Air</th>\n",
       "      <td>1.414528e+03</td>\n",
       "      <td>1.414528e+03</td>\n",
       "    </tr>\n",
       "    <tr>\n",
       "      <th>Bsmt Fin_GLQ</th>\n",
       "      <td>1.403844e+03</td>\n",
       "      <td>1.403844e+03</td>\n",
       "    </tr>\n",
       "    <tr>\n",
       "      <th>Wood Deck SF</th>\n",
       "      <td>1.386625e+03</td>\n",
       "      <td>1.386625e+03</td>\n",
       "    </tr>\n",
       "    <tr>\n",
       "      <th>Mas Vnr Area</th>\n",
       "      <td>1.326270e+03</td>\n",
       "      <td>1.326270e+03</td>\n",
       "    </tr>\n",
       "    <tr>\n",
       "      <th>Neighborhood_IDOTRR</th>\n",
       "      <td>-1.174531e+03</td>\n",
       "      <td>1.174531e+03</td>\n",
       "    </tr>\n",
       "    <tr>\n",
       "      <th>Fireplace Qu_none</th>\n",
       "      <td>-1.151250e+03</td>\n",
       "      <td>1.151250e+03</td>\n",
       "    </tr>\n",
       "    <tr>\n",
       "      <th>Roof Style_Gable</th>\n",
       "      <td>1.072672e+03</td>\n",
       "      <td>1.072672e+03</td>\n",
       "    </tr>\n",
       "    <tr>\n",
       "      <th>Neighborhood_OldTown</th>\n",
       "      <td>-1.069438e+03</td>\n",
       "      <td>1.069438e+03</td>\n",
       "    </tr>\n",
       "    <tr>\n",
       "      <th>Garage Cond_TA</th>\n",
       "      <td>1.041062e+03</td>\n",
       "      <td>1.041062e+03</td>\n",
       "    </tr>\n",
       "    <tr>\n",
       "      <th>MS SubClass_1.5_fin</th>\n",
       "      <td>9.426250e+02</td>\n",
       "      <td>9.426250e+02</td>\n",
       "    </tr>\n",
       "    <tr>\n",
       "      <th>MS SubClass_2_1946+</th>\n",
       "      <td>-8.856250e+02</td>\n",
       "      <td>8.856250e+02</td>\n",
       "    </tr>\n",
       "    <tr>\n",
       "      <th>Lot Frontage</th>\n",
       "      <td>-6.620236e+02</td>\n",
       "      <td>6.620236e+02</td>\n",
       "    </tr>\n",
       "    <tr>\n",
       "      <th>MS SubClass_1_1945-</th>\n",
       "      <td>5.659688e+02</td>\n",
       "      <td>5.659688e+02</td>\n",
       "    </tr>\n",
       "    <tr>\n",
       "      <th>Sale Type_WD</th>\n",
       "      <td>5.117500e+02</td>\n",
       "      <td>5.117500e+02</td>\n",
       "    </tr>\n",
       "    <tr>\n",
       "      <th>Year Built</th>\n",
       "      <td>4.499328e+02</td>\n",
       "      <td>4.499328e+02</td>\n",
       "    </tr>\n",
       "    <tr>\n",
       "      <th>Open Porch SF</th>\n",
       "      <td>-2.763125e+02</td>\n",
       "      <td>2.763125e+02</td>\n",
       "    </tr>\n",
       "    <tr>\n",
       "      <th>Lot Shape_IR1</th>\n",
       "      <td>2.741875e+02</td>\n",
       "      <td>2.741875e+02</td>\n",
       "    </tr>\n",
       "    <tr>\n",
       "      <th>Lot Shape_Reg</th>\n",
       "      <td>2.732305e+02</td>\n",
       "      <td>2.732305e+02</td>\n",
       "    </tr>\n",
       "    <tr>\n",
       "      <th>Heating QC_Ex</th>\n",
       "      <td>2.040000e+02</td>\n",
       "      <td>2.040000e+02</td>\n",
       "    </tr>\n",
       "    <tr>\n",
       "      <th>Exterior_Wd</th>\n",
       "      <td>1.492812e+02</td>\n",
       "      <td>1.492812e+02</td>\n",
       "    </tr>\n",
       "  </tbody>\n",
       "</table>\n",
       "<p>79 rows × 2 columns</p>\n",
       "</div>"
      ],
      "text/plain": [
       "                            weight    abs_weight\n",
       "Garage Type_none     -1.494662e+16  1.494662e+16\n",
       "Garage Finish_Unf    -1.144346e+16  1.144346e+16\n",
       "Garage Finish_RFn    -1.045403e+16  1.045403e+16\n",
       "Garage Finish_Fin    -1.000833e+16  1.000833e+16\n",
       "Garage Qual_none      3.182079e+15  3.182079e+15\n",
       "Garage Cond_none      3.182079e+15  3.182079e+15\n",
       "Garage Finish_none    3.182079e+15  3.182079e+15\n",
       "BsmtFin SF           -2.499910e+15  2.499910e+15\n",
       "Total Bsmt SF         2.307848e+15  2.307848e+15\n",
       "Bsmt Unf SF          -2.249778e+15  2.249778e+15\n",
       "Overall Qual          1.405346e+04  1.405346e+04\n",
       "Kitchen Qual_Ex       1.082809e+04  1.082809e+04\n",
       "1st Flr SF            9.678000e+03  9.678000e+03\n",
       "2nd Flr SF            9.303562e+03  9.303562e+03\n",
       "Garage Type_Attchd    8.927562e+03  8.927562e+03\n",
       "Neighborhood_NridgHt  6.606750e+03  6.606750e+03\n",
       "Garage Type_Detchd    6.575898e+03  6.575898e+03\n",
       "Bsmt Qual_Ex          6.345406e+03  6.345406e+03\n",
       "Neighborhood_NoRidge  6.241219e+03  6.241219e+03\n",
       "MS Zoning_RM         -5.543000e+03  5.543000e+03\n",
       "Garage Cars           5.516341e+03  5.516341e+03\n",
       "Garage Area           5.407375e+03  5.407375e+03\n",
       "Bsmt Exposure_Gd      5.060938e+03  5.060938e+03\n",
       "Neighborhood_StoneBr  4.865602e+03  4.865602e+03\n",
       "Kitchen Qual_Gd       4.777250e+03  4.777250e+03\n",
       "Garage Type_BuiltIn   4.460922e+03  4.460922e+03\n",
       "Exter Qual_Ex         4.376531e+03  4.376531e+03\n",
       "Lot Area              4.365307e+03  4.365307e+03\n",
       "Gr Liv Area           4.106141e+03  4.106141e+03\n",
       "Foundation_PConc      4.040188e+03  4.040188e+03\n",
       "...                            ...           ...\n",
       "Garage Yr Blt        -1.833344e+03  1.833344e+03\n",
       "Exter Qual_TA         1.767375e+03  1.767375e+03\n",
       "Fireplace Qu_Gd       1.756000e+03  1.756000e+03\n",
       "MS Zoning_RL         -1.751250e+03  1.751250e+03\n",
       "Foundation_BrkTil     1.686188e+03  1.686188e+03\n",
       "Land Contour_HLS      1.676156e+03  1.676156e+03\n",
       "Fireplace Qu_Ex       1.647773e+03  1.647773e+03\n",
       "Exterior_VinylSd      1.604125e+03  1.604125e+03\n",
       "Mas Vnr Type_Stone    1.483062e+03  1.483062e+03\n",
       "TotRms AbvGrd         1.474734e+03  1.474734e+03\n",
       "Central Air           1.414528e+03  1.414528e+03\n",
       "Bsmt Fin_GLQ          1.403844e+03  1.403844e+03\n",
       "Wood Deck SF          1.386625e+03  1.386625e+03\n",
       "Mas Vnr Area          1.326270e+03  1.326270e+03\n",
       "Neighborhood_IDOTRR  -1.174531e+03  1.174531e+03\n",
       "Fireplace Qu_none    -1.151250e+03  1.151250e+03\n",
       "Roof Style_Gable      1.072672e+03  1.072672e+03\n",
       "Neighborhood_OldTown -1.069438e+03  1.069438e+03\n",
       "Garage Cond_TA        1.041062e+03  1.041062e+03\n",
       "MS SubClass_1.5_fin   9.426250e+02  9.426250e+02\n",
       "MS SubClass_2_1946+  -8.856250e+02  8.856250e+02\n",
       "Lot Frontage         -6.620236e+02  6.620236e+02\n",
       "MS SubClass_1_1945-   5.659688e+02  5.659688e+02\n",
       "Sale Type_WD          5.117500e+02  5.117500e+02\n",
       "Year Built            4.499328e+02  4.499328e+02\n",
       "Open Porch SF        -2.763125e+02  2.763125e+02\n",
       "Lot Shape_IR1         2.741875e+02  2.741875e+02\n",
       "Lot Shape_Reg         2.732305e+02  2.732305e+02\n",
       "Heating QC_Ex         2.040000e+02  2.040000e+02\n",
       "Exterior_Wd           1.492812e+02  1.492812e+02\n",
       "\n",
       "[79 rows x 2 columns]"
      ]
     },
     "execution_count": 39,
     "metadata": {},
     "output_type": "execute_result"
    }
   ],
   "source": [
    "X_weights.sort_values(['abs_weight'],ascending=False)"
   ]
  },
  {
   "cell_type": "markdown",
   "metadata": {},
   "source": [
    "Features such as BsmtFin SF / Bsmt Unf SF / Tot Bsmt SF with very high beta coefficients are indicative of colinearity. These are often coupled with their colinear features which have an inverse counterweight. Based on this model we can identify 10 features that would intuitively encode very similar or identical information. These can be flagged for manual feature elimination to prevent misfitting our model."
   ]
  },
  {
   "cell_type": "code",
   "execution_count": 19,
   "metadata": {},
   "outputs": [],
   "source": [
    "def md_coef_table(labels, weights):\n",
    "    print('| feature | weight |\\n| --- | --- |')\n",
    "    for i in range(len(labels)):\n",
    "        print(f'| {labels[i]} | {weights[i]:.2e} |')"
   ]
  },
  {
   "cell_type": "code",
   "execution_count": null,
   "metadata": {},
   "outputs": [],
   "source": [
    "weights = X_weights.sort_values('abs_weight', ascending=False)['weight']\n",
    "labels = weights.index"
   ]
  },
  {
   "cell_type": "code",
   "execution_count": 20,
   "metadata": {},
   "outputs": [
    {
     "name": "stdout",
     "output_type": "stream",
     "text": [
      "| feature | weight |\n",
      "| --- | --- |\n",
      "| Gr Liv Area | 7.00e+16 |\n",
      "| 2nd Flr SF | -5.88e+16 |\n",
      "| 1st Flr SF | -5.58e+16 |\n",
      "| BsmtFin SF 1 | 4.96e+16 |\n",
      "| Total Bsmt SF | -4.82e+16 |\n",
      "| Bsmt Unf SF | 4.69e+16 |\n",
      "| BsmtFin SF 2 | 1.80e+16 |\n",
      "| Low Qual Fin SF | -7.29e+15 |\n"
     ]
    }
   ],
   "source": [
    "md_coef_table(labels, weights);"
   ]
  },
  {
   "cell_type": "code",
   "execution_count": 23,
   "metadata": {},
   "outputs": [
    {
     "data": {
      "text/plain": [
       "180367.03643566874"
      ]
     },
     "execution_count": 23,
     "metadata": {},
     "output_type": "execute_result"
    }
   ],
   "source": [
    "beta0 = gs.best_estimator_.named_steps['lr'].intercept_\n",
    "beta0"
   ]
  },
  {
   "cell_type": "markdown",
   "metadata": {},
   "source": [
    "Beta0 for this model was set at 180367.04, meaning that the base price of any home before accounting for features is \\$180367.04. This is comparable to the baseline model prediction y-mean = 180368.805863"
   ]
  },
  {
   "cell_type": "code",
   "execution_count": 24,
   "metadata": {},
   "outputs": [
    {
     "data": {
      "text/plain": [
       "0.8638893157845566"
      ]
     },
     "execution_count": 24,
     "metadata": {},
     "output_type": "execute_result"
    }
   ],
   "source": [
    "gs.score(X_train,y_train)"
   ]
  },
  {
   "cell_type": "code",
   "execution_count": 25,
   "metadata": {},
   "outputs": [
    {
     "data": {
      "text/plain": [
       "0.9032055526486709"
      ]
     },
     "execution_count": 25,
     "metadata": {},
     "output_type": "execute_result"
    }
   ],
   "source": [
    "gs.score(X_test,y_test)"
   ]
  },
  {
   "cell_type": "markdown",
   "metadata": {},
   "source": [
    "The model scored better on the test data than on the training data, suggesting it is likely underfit and suffers from high bias an low variance. This is to be expected considering the exceptionally large beta coefficients that prevent more appropriate features from influencing our predictions."
   ]
  },
  {
   "cell_type": "code",
   "execution_count": 41,
   "metadata": {},
   "outputs": [],
   "source": [
    "preds = gs.predict(X_test)"
   ]
  },
  {
   "cell_type": "code",
   "execution_count": 42,
   "metadata": {},
   "outputs": [
    {
     "data": {
      "text/plain": [
       "0.8885004179412322"
      ]
     },
     "execution_count": 42,
     "metadata": {},
     "output_type": "execute_result"
    }
   ],
   "source": [
    "r2_score(preds, y_test)"
   ]
  },
  {
   "cell_type": "code",
   "execution_count": 43,
   "metadata": {},
   "outputs": [
    {
     "data": {
      "text/plain": [
       "25818.871847281916"
      ]
     },
     "execution_count": 43,
     "metadata": {},
     "output_type": "execute_result"
    }
   ],
   "source": [
    "(mean_squared_error(preds,y_test))**.5"
   ]
  },
  {
   "cell_type": "markdown",
   "metadata": {},
   "source": [
    "This r2 and RMSE are huge improvements over the naive model and align well with the training scores. There is a slight drop but overall the evaluation metrics are better than expected."
   ]
  },
  {
   "cell_type": "code",
   "execution_count": 26,
   "metadata": {},
   "outputs": [
    {
     "data": {
      "text/plain": [
       "<matplotlib.legend.Legend at 0x1a1dcaa8d0>"
      ]
     },
     "execution_count": 26,
     "metadata": {},
     "output_type": "execute_result"
    },
    {
     "data": {
      "image/png": "[encoded data removed]",
      "text/plain": [
       "<Figure size 1152x648 with 1 Axes>"
      ]
     },
     "metadata": {
      "needs_background": "light"
     },
     "output_type": "display_data"
    }
   ],
   "source": [
    "plt.figure(figsize=(16,9))\n",
    "plt.title(f'Predicted vs. True: Linear Regression \\nRMSE: {mean_squared_error(y_test, gs.predict(X_test))**.5:.2f}', fontsize=30);\n",
    "\n",
    "plt.scatter(y_test, gs.predict(X_test))\n",
    "plt.plot([0, 600000], [0, 600000], color='r')\n",
    "\n",
    "plt.ylabel('Predicted', fontsize=20)\n",
    "plt.xlabel('True', fontsize=20)\n",
    "plt.legend(['Actual'])\n",
    " \n",
    "    \n",
    "# plt.savefig('../images/lr_kbest73_preds.png', dpi=300)"
   ]
  },
  {
   "cell_type": "code",
   "execution_count": null,
   "metadata": {},
   "outputs": [],
   "source": [
    "This plot compares predicted vs true values for y."
   ]
  },
  {
   "cell_type": "markdown",
   "metadata": {},
   "source": [
    "## Plotting Beta Weights"
   ]
  },
  {
   "cell_type": "code",
   "execution_count": 47,
   "metadata": {},
   "outputs": [
    {
     "data": {
      "image/png": "[encoded data removed]",
      "text/plain": [
       "<Figure size 1440x720 with 1 Axes>"
      ]
     },
     "metadata": {
      "needs_background": "light"
     },
     "output_type": "display_data"
    }
   ],
   "source": [
    "X_weights['abs_weight'] = X_weights['weight'].abs()\n",
    "weights = X_weights.sort_values('abs_weight', ascending=False)['weight'].head(10)\n",
    "\n",
    "beta_0 = gs.best_estimator_.named_steps['lr'].intercept_\n",
    "labels = weights.index\n",
    "\n",
    "plt.figure(figsize=(20,10))\n",
    "\n",
    "plt.barh(labels, weights)\n",
    "plt.yticks(fontsize=20)\n",
    "plt.xticks(fontsize=20)\n",
    "plt.xlabel('Weights', fontsize=30)\n",
    "plt.title(f'Most Important Features and Weights\\ny intercept: ${beta_0:0.02f}', fontsize=42)\n",
    "plt.tight_layout()\n",
    "\n",
    "# plt.savefig('../images/lr_kbest73.png', dpi=300)"
   ]
  },
  {
   "cell_type": "markdown",
   "metadata": {},
   "source": [
    "7/10 features with the highest impact on our model predictions pertain to the garage. This intuitively makes little sense. The other 3 features all relate to the basement, which helps highlight the impact colinearity can have on model fit."
   ]
  },
  {
   "cell_type": "code",
   "execution_count": null,
   "metadata": {},
   "outputs": [],
   "source": [
    "X_test.shape"
   ]
  },
  {
   "cell_type": "markdown",
   "metadata": {},
   "source": [
    "Confirming shape of X_test for alignment with testing data."
   ]
  },
  {
   "cell_type": "markdown",
   "metadata": {},
   "source": [
    "# Saving out column names and scaled data for use in future models."
   ]
  },
  {
   "cell_type": "markdown",
   "metadata": {},
   "source": [
    "Function to save out files with a clear description of each run. Source: Douglas Strodman."
   ]
  },
  {
   "cell_type": "code",
   "execution_count": 31,
   "metadata": {},
   "outputs": [],
   "source": [
    "def filename_format_log(file_path, #path for saving out file of interest\n",
    "                        logfile='../assets/file_log.txt', #default value\n",
    "                        now=round(time.time()), #time in epoch time\n",
    "                        file_description=None): \n",
    "    try:\n",
    "        ext = re.search('(?<!^)(?<!\\.)\\.(?!\\.)', file_path).start() #regx arg to search string for patterns \n",
    "                                                                    #(period not followed or preceeded by a period or follows string)\n",
    "    except:\n",
    "        raise NameError('Please enter a relative path with a file extension.') \n",
    "\n",
    "    formatted_name = f'{file_path[:ext]}_{now}{file_path[ext:]}' #capture everything to (.) and then add (_) time\n",
    "    if not file_description:\n",
    "        file_description = input('Please provide a brief description: ')\n",
    "    with open(logfile, 'a+') as f:\n",
    "        f.write(f'{formatted_name}: {file_description}\\n')\n",
    "    return formatted_name, now, file_description"
   ]
  },
  {
   "cell_type": "markdown",
   "metadata": {},
   "source": [
    "Saving columns that were retained by the model"
   ]
  },
  {
   "cell_type": "code",
   "execution_count": 48,
   "metadata": {},
   "outputs": [],
   "source": [
    "columns = X_train.columns"
   ]
  },
  {
   "cell_type": "code",
   "execution_count": 1,
   "metadata": {},
   "outputs": [
    {
     "ename": "NameError",
     "evalue": "name 'filename_format_log' is not defined",
     "output_type": "error",
     "traceback": [
      "\u001b[0;31m---------------------------------------------------------------------------\u001b[0m",
      "\u001b[0;31mNameError\u001b[0m                                 Traceback (most recent call last)",
      "\u001b[0;32m<ipython-input-1-8eb698e64393>\u001b[0m in \u001b[0;36m<module>\u001b[0;34m\u001b[0m\n\u001b[0;32m----> 1\u001b[0;31m \u001b[0mformatted_name\u001b[0m\u001b[0;34m,\u001b[0m \u001b[0mnow\u001b[0m\u001b[0;34m,\u001b[0m \u001b[0mfile_description\u001b[0m\u001b[0;34m=\u001b[0m \u001b[0mfilename_format_log\u001b[0m\u001b[0;34m(\u001b[0m\u001b[0;34m'../assets/columns.pkl'\u001b[0m\u001b[0;34m)\u001b[0m\u001b[0;34m\u001b[0m\u001b[0m\n\u001b[0m\u001b[1;32m      2\u001b[0m \u001b[0;34m\u001b[0m\u001b[0m\n\u001b[1;32m      3\u001b[0m \u001b[0;32mwith\u001b[0m \u001b[0mopen\u001b[0m\u001b[0;34m(\u001b[0m\u001b[0mformatted_name\u001b[0m\u001b[0;34m,\u001b[0m \u001b[0;34m'wb+'\u001b[0m\u001b[0;34m)\u001b[0m \u001b[0;32mas\u001b[0m \u001b[0mf\u001b[0m\u001b[0;34m:\u001b[0m\u001b[0;34m\u001b[0m\u001b[0m\n\u001b[1;32m      4\u001b[0m     \u001b[0mpickle\u001b[0m\u001b[0;34m.\u001b[0m\u001b[0mdump\u001b[0m\u001b[0;34m(\u001b[0m\u001b[0mcolumns\u001b[0m\u001b[0;34m,\u001b[0m \u001b[0mf\u001b[0m\u001b[0;34m)\u001b[0m\u001b[0;34m\u001b[0m\u001b[0m\n",
      "\u001b[0;31mNameError\u001b[0m: name 'filename_format_log' is not defined"
     ]
    }
   ],
   "source": [
    "formatted_name, now, file_description= filename_format_log('../assets/columns.pkl')\n",
    "\n",
    "with open(formatted_name, 'wb+') as f:\n",
    "    pickle.dump(columns, f)"
   ]
  },
  {
   "cell_type": "code",
   "execution_count": 33,
   "metadata": {},
   "outputs": [],
   "source": [
    "formatted_name, _, _= filename_format_log('../assets/gs.pkl', now=now, file_description=file_description)\n",
    "\n",
    "with open(formatted_name, 'wb+') as f:\n",
    "    pickle.dump(gs, f)"
   ]
  }
 ],
 "metadata": {
  "kernelspec": {
   "display_name": "Python 3",
   "language": "python",
   "name": "python3"
  },
  "language_info": {
   "codemirror_mode": {
    "name": "ipython",
    "version": 3
   },
   "file_extension": ".py",
   "mimetype": "text/x-python",
   "name": "python",
   "nbconvert_exporter": "python",
   "pygments_lexer": "ipython3",
   "version": "3.7.0"
  }
 },
 "nbformat": 4,
 "nbformat_minor": 2
}
