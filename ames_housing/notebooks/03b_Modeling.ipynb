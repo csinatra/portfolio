{
 "cells": [
  {
   "cell_type": "markdown",
   "metadata": {},
   "source": [
    "# NOTEBOOK 3b: MODELING - Manual Feature Selection "
   ]
  },
  {
   "cell_type": "markdown",
   "metadata": {},
   "source": [
    "Since many of the features selected by variance threshold and kbest were colinear we will use recursive runs through the lr model to identify and drop these columns so we can streamline predictions with more sophisticated algorithms."
   ]
  },
  {
   "cell_type": "code",
   "execution_count": 1,
   "metadata": {},
   "outputs": [],
   "source": [
    "import pandas as pd\n",
    "import numpy as np\n",
    "import matplotlib.pyplot as plt\n",
    "import seaborn as sns\n",
    "import csv\n",
    "import pickle\n",
    "import re\n",
    "import time\n",
    "\n",
    "from scipy import stats\n",
    "from sklearn.pipeline import Pipeline\n",
    "from sklearn.preprocessing import StandardScaler\n",
    "from sklearn.feature_selection import VarianceThreshold, SelectKBest, SelectPercentile, SelectFromModel, f_regression, RFECV\n",
    "from sklearn.linear_model import LinearRegression, LassoCV, RidgeCV, ElasticNetCV\n",
    "from sklearn.model_selection import train_test_split, cross_val_score, GridSearchCV, RandomizedSearchCV\n",
    "from sklearn.metrics import r2_score, mean_squared_error\n",
    "from sklearn.neighbors import KNeighborsRegressor\n",
    "\n",
    "import warnings\n",
    "warnings.simplefilter(action='ignore', category=FutureWarning)\n",
    "warnings.simplefilter(action='ignore', category=DeprecationWarning)\n",
    "\n",
    "np.random.seed(42)\n",
    "\n",
    "%matplotlib inline"
   ]
  },
  {
   "cell_type": "code",
   "execution_count": 2,
   "metadata": {},
   "outputs": [],
   "source": [
    "df = pd.read_csv('../data/train_clean.csv', index_col='Id', na_filter=False)"
   ]
  },
  {
   "cell_type": "markdown",
   "metadata": {},
   "source": [
    "Loading the clean dataframe from Notebook 02 and confirming correct indexing."
   ]
  },
  {
   "cell_type": "code",
   "execution_count": 3,
   "metadata": {},
   "outputs": [
    {
     "data": {
      "text/html": [
       "<div>\n",
       "<style scoped>\n",
       "    .dataframe tbody tr th:only-of-type {\n",
       "        vertical-align: middle;\n",
       "    }\n",
       "\n",
       "    .dataframe tbody tr th {\n",
       "        vertical-align: top;\n",
       "    }\n",
       "\n",
       "    .dataframe thead th {\n",
       "        text-align: right;\n",
       "    }\n",
       "</style>\n",
       "<table border=\"1\" class=\"dataframe\">\n",
       "  <thead>\n",
       "    <tr style=\"text-align: right;\">\n",
       "      <th></th>\n",
       "      <th>Lot Frontage</th>\n",
       "      <th>Lot Area</th>\n",
       "      <th>Overall Qual</th>\n",
       "      <th>Overall Cond</th>\n",
       "      <th>Year Built</th>\n",
       "      <th>Year Remod/Add</th>\n",
       "      <th>Mas Vnr Area</th>\n",
       "      <th>Bsmt Unf SF</th>\n",
       "      <th>Total Bsmt SF</th>\n",
       "      <th>Central Air</th>\n",
       "      <th>...</th>\n",
       "      <th>Misc Feature_none</th>\n",
       "      <th>Sale Type_COD</th>\n",
       "      <th>Sale Type_CWD</th>\n",
       "      <th>Sale Type_Con</th>\n",
       "      <th>Sale Type_ConLD</th>\n",
       "      <th>Sale Type_ConLI</th>\n",
       "      <th>Sale Type_ConLw</th>\n",
       "      <th>Sale Type_New</th>\n",
       "      <th>Sale Type_Oth</th>\n",
       "      <th>Sale Type_WD</th>\n",
       "    </tr>\n",
       "    <tr>\n",
       "      <th>Id</th>\n",
       "      <th></th>\n",
       "      <th></th>\n",
       "      <th></th>\n",
       "      <th></th>\n",
       "      <th></th>\n",
       "      <th></th>\n",
       "      <th></th>\n",
       "      <th></th>\n",
       "      <th></th>\n",
       "      <th></th>\n",
       "      <th></th>\n",
       "      <th></th>\n",
       "      <th></th>\n",
       "      <th></th>\n",
       "      <th></th>\n",
       "      <th></th>\n",
       "      <th></th>\n",
       "      <th></th>\n",
       "      <th></th>\n",
       "      <th></th>\n",
       "      <th></th>\n",
       "    </tr>\n",
       "  </thead>\n",
       "  <tbody>\n",
       "    <tr>\n",
       "      <th>109</th>\n",
       "      <td>0.0</td>\n",
       "      <td>13517</td>\n",
       "      <td>6</td>\n",
       "      <td>8</td>\n",
       "      <td>1976</td>\n",
       "      <td>2005</td>\n",
       "      <td>289.0</td>\n",
       "      <td>192.0</td>\n",
       "      <td>725.0</td>\n",
       "      <td>1</td>\n",
       "      <td>...</td>\n",
       "      <td>1</td>\n",
       "      <td>0</td>\n",
       "      <td>0</td>\n",
       "      <td>0</td>\n",
       "      <td>0</td>\n",
       "      <td>0</td>\n",
       "      <td>0</td>\n",
       "      <td>0</td>\n",
       "      <td>0</td>\n",
       "      <td>1</td>\n",
       "    </tr>\n",
       "    <tr>\n",
       "      <th>544</th>\n",
       "      <td>43.0</td>\n",
       "      <td>11492</td>\n",
       "      <td>7</td>\n",
       "      <td>5</td>\n",
       "      <td>1996</td>\n",
       "      <td>1997</td>\n",
       "      <td>132.0</td>\n",
       "      <td>276.0</td>\n",
       "      <td>913.0</td>\n",
       "      <td>1</td>\n",
       "      <td>...</td>\n",
       "      <td>1</td>\n",
       "      <td>0</td>\n",
       "      <td>0</td>\n",
       "      <td>0</td>\n",
       "      <td>0</td>\n",
       "      <td>0</td>\n",
       "      <td>0</td>\n",
       "      <td>0</td>\n",
       "      <td>0</td>\n",
       "      <td>1</td>\n",
       "    </tr>\n",
       "    <tr>\n",
       "      <th>153</th>\n",
       "      <td>68.0</td>\n",
       "      <td>7922</td>\n",
       "      <td>5</td>\n",
       "      <td>7</td>\n",
       "      <td>1953</td>\n",
       "      <td>2007</td>\n",
       "      <td>0.0</td>\n",
       "      <td>326.0</td>\n",
       "      <td>1057.0</td>\n",
       "      <td>1</td>\n",
       "      <td>...</td>\n",
       "      <td>1</td>\n",
       "      <td>0</td>\n",
       "      <td>0</td>\n",
       "      <td>0</td>\n",
       "      <td>0</td>\n",
       "      <td>0</td>\n",
       "      <td>0</td>\n",
       "      <td>0</td>\n",
       "      <td>0</td>\n",
       "      <td>1</td>\n",
       "    </tr>\n",
       "    <tr>\n",
       "      <th>318</th>\n",
       "      <td>73.0</td>\n",
       "      <td>9802</td>\n",
       "      <td>5</td>\n",
       "      <td>5</td>\n",
       "      <td>2006</td>\n",
       "      <td>2007</td>\n",
       "      <td>0.0</td>\n",
       "      <td>384.0</td>\n",
       "      <td>384.0</td>\n",
       "      <td>1</td>\n",
       "      <td>...</td>\n",
       "      <td>1</td>\n",
       "      <td>0</td>\n",
       "      <td>0</td>\n",
       "      <td>0</td>\n",
       "      <td>0</td>\n",
       "      <td>0</td>\n",
       "      <td>0</td>\n",
       "      <td>0</td>\n",
       "      <td>0</td>\n",
       "      <td>1</td>\n",
       "    </tr>\n",
       "    <tr>\n",
       "      <th>255</th>\n",
       "      <td>82.0</td>\n",
       "      <td>14235</td>\n",
       "      <td>6</td>\n",
       "      <td>8</td>\n",
       "      <td>1900</td>\n",
       "      <td>1993</td>\n",
       "      <td>0.0</td>\n",
       "      <td>676.0</td>\n",
       "      <td>676.0</td>\n",
       "      <td>1</td>\n",
       "      <td>...</td>\n",
       "      <td>1</td>\n",
       "      <td>0</td>\n",
       "      <td>0</td>\n",
       "      <td>0</td>\n",
       "      <td>0</td>\n",
       "      <td>0</td>\n",
       "      <td>0</td>\n",
       "      <td>0</td>\n",
       "      <td>0</td>\n",
       "      <td>1</td>\n",
       "    </tr>\n",
       "  </tbody>\n",
       "</table>\n",
       "<p>5 rows × 255 columns</p>\n",
       "</div>"
      ],
      "text/plain": [
       "     Lot Frontage  Lot Area  Overall Qual  Overall Cond  Year Built  \\\n",
       "Id                                                                    \n",
       "109           0.0     13517             6             8        1976   \n",
       "544          43.0     11492             7             5        1996   \n",
       "153          68.0      7922             5             7        1953   \n",
       "318          73.0      9802             5             5        2006   \n",
       "255          82.0     14235             6             8        1900   \n",
       "\n",
       "     Year Remod/Add  Mas Vnr Area  Bsmt Unf SF  Total Bsmt SF  Central Air  \\\n",
       "Id                                                                           \n",
       "109            2005         289.0        192.0          725.0            1   \n",
       "544            1997         132.0        276.0          913.0            1   \n",
       "153            2007           0.0        326.0         1057.0            1   \n",
       "318            2007           0.0        384.0          384.0            1   \n",
       "255            1993           0.0        676.0          676.0            1   \n",
       "\n",
       "         ...        Misc Feature_none  Sale Type_COD  Sale Type_CWD  \\\n",
       "Id       ...                                                          \n",
       "109      ...                        1              0              0   \n",
       "544      ...                        1              0              0   \n",
       "153      ...                        1              0              0   \n",
       "318      ...                        1              0              0   \n",
       "255      ...                        1              0              0   \n",
       "\n",
       "     Sale Type_Con  Sale Type_ConLD  Sale Type_ConLI  Sale Type_ConLw  \\\n",
       "Id                                                                      \n",
       "109              0                0                0                0   \n",
       "544              0                0                0                0   \n",
       "153              0                0                0                0   \n",
       "318              0                0                0                0   \n",
       "255              0                0                0                0   \n",
       "\n",
       "     Sale Type_New  Sale Type_Oth  Sale Type_WD   \n",
       "Id                                                \n",
       "109              0              0              1  \n",
       "544              0              0              1  \n",
       "153              0              0              1  \n",
       "318              0              0              1  \n",
       "255              0              0              1  \n",
       "\n",
       "[5 rows x 255 columns]"
      ]
     },
     "execution_count": 3,
     "metadata": {},
     "output_type": "execute_result"
    }
   ],
   "source": [
    "df.head()"
   ]
  },
  {
   "cell_type": "code",
   "execution_count": 4,
   "metadata": {},
   "outputs": [],
   "source": [
    "df.drop([        \n",
    "        'Garage Finish_Fin',    \n",
    "        'Garage Finish_RFn',\n",
    "        'Garage Finish_Unf',\n",
    "        'Garage Finish_none',\n",
    "        'Garage Cars',\n",
    "        'TotRms AbvGrd',\n",
    "        'Bsmt Unf SF',\n",
    "        'BsmtFin SF', \n",
    "        \n",
    "        'Garage Qual_none',        \n",
    "        'Garage Cond_none', \n",
    "\n",
    "        'Bsmt Exposure_none',\n",
    "        ], axis=1, inplace=True)"
   ]
  },
  {
   "cell_type": "markdown",
   "metadata": {},
   "source": [
    "Dropping the features identified as colinear in Notebook 03a. Since these often outweigh features that are better predictors, these will prevent our models from acheiving the best fit. While the lasso model can apply a beta=0 to prevent this effect, ridge will still be impacted, though not as heavily as lr.\n",
    "\n",
    "- Run 1:'Garage Finish_Fin','Garage Finish_RFn','Garage Finish_Unf','Garage Finish_none','Garage Cars','TotRms AbvGrd','Bsmt Unf SF','BsmtFin SF'\n",
    "  \n",
    "- Run 2:'Garage Qual_none','Garage Cond_none',\n",
    "        \n",
    "- Run 3:'Bsmt Exposure_none'"
   ]
  },
  {
   "cell_type": "code",
   "execution_count": 5,
   "metadata": {},
   "outputs": [],
   "source": [
    "X = df.drop(['SalePrice'],axis=1)\n",
    "y = df['SalePrice']\n",
    "\n",
    "X_train, X_test, y_train, y_test = train_test_split(X, y)"
   ]
  },
  {
   "cell_type": "code",
   "execution_count": 6,
   "metadata": {},
   "outputs": [],
   "source": [
    "pipe = Pipeline([\n",
    "    ('var_thresh', VarianceThreshold(0)),\n",
    "    ('ss', StandardScaler()),\n",
    "    ('kbest', SelectKBest(f_regression, k=37)),\n",
    "    ('lr', LinearRegression()), \n",
    "#     ('lasso', LassoCV()),\n",
    "#     ('ridge', RidgeCV()),\n",
    "#     ('enet', ElasticNetCV()),\n",
    "#     ('knn', KNeighborsRegressor),\n",
    "])\n"
   ]
  },
  {
   "cell_type": "code",
   "execution_count": 7,
   "metadata": {},
   "outputs": [
    {
     "data": {
      "text/plain": [
       "Pipeline(memory=None,\n",
       "     steps=[('var_thresh', VarianceThreshold(threshold=0)), ('ss', StandardScaler(copy=True, with_mean=True, with_std=True)), ('kbest', SelectKBest(k=37, score_func=<function f_regression at 0x1a22c80f28>)), ('lr', LinearRegression(copy_X=True, fit_intercept=True, n_jobs=None,\n",
       "         normalize=False))])"
      ]
     },
     "execution_count": 7,
     "metadata": {},
     "output_type": "execute_result"
    }
   ],
   "source": [
    "pipe.fit(X_train,y_train)"
   ]
  },
  {
   "cell_type": "code",
   "execution_count": 9,
   "metadata": {},
   "outputs": [
    {
     "data": {
      "text/plain": [
       "0.8401112266305261"
      ]
     },
     "execution_count": 9,
     "metadata": {},
     "output_type": "execute_result"
    }
   ],
   "source": [
    "pipe.score(X_train,y_train)"
   ]
  },
  {
   "cell_type": "code",
   "execution_count": 10,
   "metadata": {},
   "outputs": [
    {
     "data": {
      "text/plain": [
       "0.888200722527551"
      ]
     },
     "execution_count": 10,
     "metadata": {},
     "output_type": "execute_result"
    }
   ],
   "source": [
    "pipe.score(X_test,y_test)"
   ]
  },
  {
   "cell_type": "code",
   "execution_count": 11,
   "metadata": {},
   "outputs": [],
   "source": [
    "params = {\n",
    "    'var_thresh__threshold': [0, .001, .01, .02, .05],\n",
    "    'kbest__k': [5, 7, 13, 17, 23, 37, 53, 79],\n",
    "#     'lasso__alpha': np.logspace(-3, 3, 7),\n",
    "}"
   ]
  },
  {
   "cell_type": "code",
   "execution_count": 12,
   "metadata": {},
   "outputs": [],
   "source": [
    "gs = GridSearchCV(pipe, params, cv=5, scoring='r2', verbose=1)"
   ]
  },
  {
   "cell_type": "code",
   "execution_count": 13,
   "metadata": {},
   "outputs": [
    {
     "name": "stdout",
     "output_type": "stream",
     "text": [
      "Fitting 5 folds for each of 40 candidates, totalling 200 fits\n"
     ]
    },
    {
     "name": "stderr",
     "output_type": "stream",
     "text": [
      "[Parallel(n_jobs=1)]: Using backend SequentialBackend with 1 concurrent workers.\n",
      "[Parallel(n_jobs=1)]: Done 200 out of 200 | elapsed:    4.8s finished\n"
     ]
    },
    {
     "data": {
      "text/plain": [
       "GridSearchCV(cv=5, error_score='raise-deprecating',\n",
       "       estimator=Pipeline(memory=None,\n",
       "     steps=[('var_thresh', VarianceThreshold(threshold=0)), ('ss', StandardScaler(copy=True, with_mean=True, with_std=True)), ('kbest', SelectKBest(k=37, score_func=<function f_regression at 0x1a22c80f28>)), ('lr', LinearRegression(copy_X=True, fit_intercept=True, n_jobs=None,\n",
       "         normalize=False))]),\n",
       "       fit_params=None, iid='warn', n_jobs=None,\n",
       "       param_grid={'var_thresh__threshold': [0, 0.001, 0.01, 0.02, 0.05], 'kbest__k': [5, 7, 13, 17, 23, 37, 53, 79]},\n",
       "       pre_dispatch='2*n_jobs', refit=True, return_train_score='warn',\n",
       "       scoring='r2', verbose=1)"
      ]
     },
     "execution_count": 13,
     "metadata": {},
     "output_type": "execute_result"
    }
   ],
   "source": [
    "gs.fit(X_train, y_train)"
   ]
  },
  {
   "cell_type": "code",
   "execution_count": 14,
   "metadata": {},
   "outputs": [
    {
     "data": {
      "text/plain": [
       "{'kbest__k': 79, 'var_thresh__threshold': 0}"
      ]
     },
     "execution_count": 14,
     "metadata": {},
     "output_type": "execute_result"
    }
   ],
   "source": [
    "gs.best_params_"
   ]
  },
  {
   "cell_type": "markdown",
   "metadata": {},
   "source": [
    "After eliminating the first round of colinear features, the optimal hyperparameters have remained unchanged. This held true for two more subsequent runs. "
   ]
  },
  {
   "cell_type": "code",
   "execution_count": 15,
   "metadata": {},
   "outputs": [],
   "source": [
    "columns = X.columns\n",
    "columns = columns[gs.best_estimator_.named_steps['var_thresh'].get_support()]\n",
    "columns = columns[gs.best_estimator_.named_steps['kbest'].get_support()]\n",
    "\n",
    "X_weights = pd.DataFrame(gs.best_estimator_.named_steps['lr'].coef_, \n",
    "             index = columns, \n",
    "             columns=['weight'])\n",
    "X_weights['abs_weight'] = X_weights['weight'].abs()"
   ]
  },
  {
   "cell_type": "code",
   "execution_count": 16,
   "metadata": {},
   "outputs": [
    {
     "data": {
      "text/html": [
       "<div>\n",
       "<style scoped>\n",
       "    .dataframe tbody tr th:only-of-type {\n",
       "        vertical-align: middle;\n",
       "    }\n",
       "\n",
       "    .dataframe tbody tr th {\n",
       "        vertical-align: top;\n",
       "    }\n",
       "\n",
       "    .dataframe thead th {\n",
       "        text-align: right;\n",
       "    }\n",
       "</style>\n",
       "<table border=\"1\" class=\"dataframe\">\n",
       "  <thead>\n",
       "    <tr style=\"text-align: right;\">\n",
       "      <th></th>\n",
       "      <th>weight</th>\n",
       "      <th>abs_weight</th>\n",
       "    </tr>\n",
       "  </thead>\n",
       "  <tbody>\n",
       "    <tr>\n",
       "      <th>Overall Qual</th>\n",
       "      <td>12824.825562</td>\n",
       "      <td>12824.825562</td>\n",
       "    </tr>\n",
       "    <tr>\n",
       "      <th>1st Flr SF</th>\n",
       "      <td>11110.323926</td>\n",
       "      <td>11110.323926</td>\n",
       "    </tr>\n",
       "    <tr>\n",
       "      <th>Kitchen Qual_Ex</th>\n",
       "      <td>11092.439631</td>\n",
       "      <td>11092.439631</td>\n",
       "    </tr>\n",
       "    <tr>\n",
       "      <th>2nd Flr SF</th>\n",
       "      <td>9879.557550</td>\n",
       "      <td>9879.557550</td>\n",
       "    </tr>\n",
       "    <tr>\n",
       "      <th>Garage Type_Attchd</th>\n",
       "      <td>8828.146386</td>\n",
       "      <td>8828.146386</td>\n",
       "    </tr>\n",
       "    <tr>\n",
       "      <th>Garage Area</th>\n",
       "      <td>8777.562923</td>\n",
       "      <td>8777.562923</td>\n",
       "    </tr>\n",
       "    <tr>\n",
       "      <th>Neighborhood_NridgHt</th>\n",
       "      <td>7571.334289</td>\n",
       "      <td>7571.334289</td>\n",
       "    </tr>\n",
       "    <tr>\n",
       "      <th>Garage Qual_TA</th>\n",
       "      <td>-7251.117146</td>\n",
       "      <td>7251.117146</td>\n",
       "    </tr>\n",
       "    <tr>\n",
       "      <th>Garage Type_Detchd</th>\n",
       "      <td>6800.992160</td>\n",
       "      <td>6800.992160</td>\n",
       "    </tr>\n",
       "    <tr>\n",
       "      <th>Neighborhood_NoRidge</th>\n",
       "      <td>6403.134087</td>\n",
       "      <td>6403.134087</td>\n",
       "    </tr>\n",
       "    <tr>\n",
       "      <th>Bsmt Qual_Ex</th>\n",
       "      <td>6122.790887</td>\n",
       "      <td>6122.790887</td>\n",
       "    </tr>\n",
       "    <tr>\n",
       "      <th>Bsmt Exposure_Gd</th>\n",
       "      <td>5188.587472</td>\n",
       "      <td>5188.587472</td>\n",
       "    </tr>\n",
       "    <tr>\n",
       "      <th>Kitchen Qual_Gd</th>\n",
       "      <td>5094.039596</td>\n",
       "      <td>5094.039596</td>\n",
       "    </tr>\n",
       "    <tr>\n",
       "      <th>Neighborhood_StoneBr</th>\n",
       "      <td>4804.907758</td>\n",
       "      <td>4804.907758</td>\n",
       "    </tr>\n",
       "    <tr>\n",
       "      <th>Baths</th>\n",
       "      <td>4761.099076</td>\n",
       "      <td>4761.099076</td>\n",
       "    </tr>\n",
       "    <tr>\n",
       "      <th>Garage Type_BuiltIn</th>\n",
       "      <td>4747.512140</td>\n",
       "      <td>4747.512140</td>\n",
       "    </tr>\n",
       "    <tr>\n",
       "      <th>Neighborhood_Edwards</th>\n",
       "      <td>-4583.370551</td>\n",
       "      <td>4583.370551</td>\n",
       "    </tr>\n",
       "    <tr>\n",
       "      <th>Gr Liv Area</th>\n",
       "      <td>4568.339041</td>\n",
       "      <td>4568.339041</td>\n",
       "    </tr>\n",
       "    <tr>\n",
       "      <th>Lot Area</th>\n",
       "      <td>4313.200636</td>\n",
       "      <td>4313.200636</td>\n",
       "    </tr>\n",
       "    <tr>\n",
       "      <th>Neighborhood_Somerst</th>\n",
       "      <td>4243.370007</td>\n",
       "      <td>4243.370007</td>\n",
       "    </tr>\n",
       "    <tr>\n",
       "      <th>Garage Qual_Fa</th>\n",
       "      <td>-4179.220787</td>\n",
       "      <td>4179.220787</td>\n",
       "    </tr>\n",
       "    <tr>\n",
       "      <th>Bsmt Baths</th>\n",
       "      <td>4145.147863</td>\n",
       "      <td>4145.147863</td>\n",
       "    </tr>\n",
       "    <tr>\n",
       "      <th>Mas Vnr Type_None</th>\n",
       "      <td>4004.620551</td>\n",
       "      <td>4004.620551</td>\n",
       "    </tr>\n",
       "    <tr>\n",
       "      <th>Exter Qual_Ex</th>\n",
       "      <td>3948.741998</td>\n",
       "      <td>3948.741998</td>\n",
       "    </tr>\n",
       "    <tr>\n",
       "      <th>Sale Type_New</th>\n",
       "      <td>3941.765800</td>\n",
       "      <td>3941.765800</td>\n",
       "    </tr>\n",
       "    <tr>\n",
       "      <th>Roof Style_Hip</th>\n",
       "      <td>3364.797001</td>\n",
       "      <td>3364.797001</td>\n",
       "    </tr>\n",
       "    <tr>\n",
       "      <th>Condition_Street</th>\n",
       "      <td>-3255.122292</td>\n",
       "      <td>3255.122292</td>\n",
       "    </tr>\n",
       "    <tr>\n",
       "      <th>MS Zoning_RL</th>\n",
       "      <td>3146.786233</td>\n",
       "      <td>3146.786233</td>\n",
       "    </tr>\n",
       "    <tr>\n",
       "      <th>Mas Vnr Type_BrkFace</th>\n",
       "      <td>3039.136756</td>\n",
       "      <td>3039.136756</td>\n",
       "    </tr>\n",
       "    <tr>\n",
       "      <th>Heating QC_TA</th>\n",
       "      <td>-3037.479919</td>\n",
       "      <td>3037.479919</td>\n",
       "    </tr>\n",
       "    <tr>\n",
       "      <th>...</th>\n",
       "      <td>...</td>\n",
       "      <td>...</td>\n",
       "    </tr>\n",
       "    <tr>\n",
       "      <th>Exter Cond_Fa</th>\n",
       "      <td>-1378.754860</td>\n",
       "      <td>1378.754860</td>\n",
       "    </tr>\n",
       "    <tr>\n",
       "      <th>Bsmt Fin_Unf</th>\n",
       "      <td>-1290.078713</td>\n",
       "      <td>1290.078713</td>\n",
       "    </tr>\n",
       "    <tr>\n",
       "      <th>Fireplace Qu_none</th>\n",
       "      <td>-1267.977323</td>\n",
       "      <td>1267.977323</td>\n",
       "    </tr>\n",
       "    <tr>\n",
       "      <th>Neighborhood_NAmes</th>\n",
       "      <td>-1248.541792</td>\n",
       "      <td>1248.541792</td>\n",
       "    </tr>\n",
       "    <tr>\n",
       "      <th>Wood Deck SF</th>\n",
       "      <td>1231.575199</td>\n",
       "      <td>1231.575199</td>\n",
       "    </tr>\n",
       "    <tr>\n",
       "      <th>Neighborhood_OldTown</th>\n",
       "      <td>-1087.671196</td>\n",
       "      <td>1087.671196</td>\n",
       "    </tr>\n",
       "    <tr>\n",
       "      <th>Bsmt Qual_Gd</th>\n",
       "      <td>1073.372481</td>\n",
       "      <td>1073.372481</td>\n",
       "    </tr>\n",
       "    <tr>\n",
       "      <th>Central Air</th>\n",
       "      <td>1055.840648</td>\n",
       "      <td>1055.840648</td>\n",
       "    </tr>\n",
       "    <tr>\n",
       "      <th>Mas Vnr Area</th>\n",
       "      <td>1008.211277</td>\n",
       "      <td>1008.211277</td>\n",
       "    </tr>\n",
       "    <tr>\n",
       "      <th>MS SubClass_1.5_fin</th>\n",
       "      <td>1007.102977</td>\n",
       "      <td>1007.102977</td>\n",
       "    </tr>\n",
       "    <tr>\n",
       "      <th>Roof Style_Gable</th>\n",
       "      <td>946.726913</td>\n",
       "      <td>946.726913</td>\n",
       "    </tr>\n",
       "    <tr>\n",
       "      <th>Lot Shape_IR1</th>\n",
       "      <td>932.762573</td>\n",
       "      <td>932.762573</td>\n",
       "    </tr>\n",
       "    <tr>\n",
       "      <th>Garage Cond_TA</th>\n",
       "      <td>889.122444</td>\n",
       "      <td>889.122444</td>\n",
       "    </tr>\n",
       "    <tr>\n",
       "      <th>Neighborhood_IDOTRR</th>\n",
       "      <td>-876.231426</td>\n",
       "      <td>876.231426</td>\n",
       "    </tr>\n",
       "    <tr>\n",
       "      <th>Bsmt Cond_none</th>\n",
       "      <td>-807.818063</td>\n",
       "      <td>807.818063</td>\n",
       "    </tr>\n",
       "    <tr>\n",
       "      <th>Bsmt Qual_none</th>\n",
       "      <td>-807.818063</td>\n",
       "      <td>807.818063</td>\n",
       "    </tr>\n",
       "    <tr>\n",
       "      <th>Total Bsmt SF</th>\n",
       "      <td>793.745582</td>\n",
       "      <td>793.745582</td>\n",
       "    </tr>\n",
       "    <tr>\n",
       "      <th>Year Built</th>\n",
       "      <td>779.144318</td>\n",
       "      <td>779.144318</td>\n",
       "    </tr>\n",
       "    <tr>\n",
       "      <th>Open Porch SF</th>\n",
       "      <td>-679.234701</td>\n",
       "      <td>679.234701</td>\n",
       "    </tr>\n",
       "    <tr>\n",
       "      <th>Sale Type_WD</th>\n",
       "      <td>631.241838</td>\n",
       "      <td>631.241838</td>\n",
       "    </tr>\n",
       "    <tr>\n",
       "      <th>Exter Qual_TA</th>\n",
       "      <td>572.515853</td>\n",
       "      <td>572.515853</td>\n",
       "    </tr>\n",
       "    <tr>\n",
       "      <th>Foundation_CBlock</th>\n",
       "      <td>560.718095</td>\n",
       "      <td>560.718095</td>\n",
       "    </tr>\n",
       "    <tr>\n",
       "      <th>MS SubClass_2_1946+</th>\n",
       "      <td>-468.525626</td>\n",
       "      <td>468.525626</td>\n",
       "    </tr>\n",
       "    <tr>\n",
       "      <th>Alley_Grvl</th>\n",
       "      <td>-348.728913</td>\n",
       "      <td>348.728913</td>\n",
       "    </tr>\n",
       "    <tr>\n",
       "      <th>Garage Type_none</th>\n",
       "      <td>342.223330</td>\n",
       "      <td>342.223330</td>\n",
       "    </tr>\n",
       "    <tr>\n",
       "      <th>MS SubClass_1_1945-</th>\n",
       "      <td>311.631056</td>\n",
       "      <td>311.631056</td>\n",
       "    </tr>\n",
       "    <tr>\n",
       "      <th>Exterior_Wd</th>\n",
       "      <td>308.146637</td>\n",
       "      <td>308.146637</td>\n",
       "    </tr>\n",
       "    <tr>\n",
       "      <th>Lot Frontage</th>\n",
       "      <td>-222.665054</td>\n",
       "      <td>222.665054</td>\n",
       "    </tr>\n",
       "    <tr>\n",
       "      <th>Heating QC_Ex</th>\n",
       "      <td>-161.159198</td>\n",
       "      <td>161.159198</td>\n",
       "    </tr>\n",
       "    <tr>\n",
       "      <th>Foundation_BrkTil</th>\n",
       "      <td>139.240546</td>\n",
       "      <td>139.240546</td>\n",
       "    </tr>\n",
       "  </tbody>\n",
       "</table>\n",
       "<p>79 rows × 2 columns</p>\n",
       "</div>"
      ],
      "text/plain": [
       "                            weight    abs_weight\n",
       "Overall Qual          12824.825562  12824.825562\n",
       "1st Flr SF            11110.323926  11110.323926\n",
       "Kitchen Qual_Ex       11092.439631  11092.439631\n",
       "2nd Flr SF             9879.557550   9879.557550\n",
       "Garage Type_Attchd     8828.146386   8828.146386\n",
       "Garage Area            8777.562923   8777.562923\n",
       "Neighborhood_NridgHt   7571.334289   7571.334289\n",
       "Garage Qual_TA        -7251.117146   7251.117146\n",
       "Garage Type_Detchd     6800.992160   6800.992160\n",
       "Neighborhood_NoRidge   6403.134087   6403.134087\n",
       "Bsmt Qual_Ex           6122.790887   6122.790887\n",
       "Bsmt Exposure_Gd       5188.587472   5188.587472\n",
       "Kitchen Qual_Gd        5094.039596   5094.039596\n",
       "Neighborhood_StoneBr   4804.907758   4804.907758\n",
       "Baths                  4761.099076   4761.099076\n",
       "Garage Type_BuiltIn    4747.512140   4747.512140\n",
       "Neighborhood_Edwards  -4583.370551   4583.370551\n",
       "Gr Liv Area            4568.339041   4568.339041\n",
       "Lot Area               4313.200636   4313.200636\n",
       "Neighborhood_Somerst   4243.370007   4243.370007\n",
       "Garage Qual_Fa        -4179.220787   4179.220787\n",
       "Bsmt Baths             4145.147863   4145.147863\n",
       "Mas Vnr Type_None      4004.620551   4004.620551\n",
       "Exter Qual_Ex          3948.741998   3948.741998\n",
       "Sale Type_New          3941.765800   3941.765800\n",
       "Roof Style_Hip         3364.797001   3364.797001\n",
       "Condition_Street      -3255.122292   3255.122292\n",
       "MS Zoning_RL           3146.786233   3146.786233\n",
       "Mas Vnr Type_BrkFace   3039.136756   3039.136756\n",
       "Heating QC_TA         -3037.479919   3037.479919\n",
       "...                            ...           ...\n",
       "Exter Cond_Fa         -1378.754860   1378.754860\n",
       "Bsmt Fin_Unf          -1290.078713   1290.078713\n",
       "Fireplace Qu_none     -1267.977323   1267.977323\n",
       "Neighborhood_NAmes    -1248.541792   1248.541792\n",
       "Wood Deck SF           1231.575199   1231.575199\n",
       "Neighborhood_OldTown  -1087.671196   1087.671196\n",
       "Bsmt Qual_Gd           1073.372481   1073.372481\n",
       "Central Air            1055.840648   1055.840648\n",
       "Mas Vnr Area           1008.211277   1008.211277\n",
       "MS SubClass_1.5_fin    1007.102977   1007.102977\n",
       "Roof Style_Gable        946.726913    946.726913\n",
       "Lot Shape_IR1           932.762573    932.762573\n",
       "Garage Cond_TA          889.122444    889.122444\n",
       "Neighborhood_IDOTRR    -876.231426    876.231426\n",
       "Bsmt Cond_none         -807.818063    807.818063\n",
       "Bsmt Qual_none         -807.818063    807.818063\n",
       "Total Bsmt SF           793.745582    793.745582\n",
       "Year Built              779.144318    779.144318\n",
       "Open Porch SF          -679.234701    679.234701\n",
       "Sale Type_WD            631.241838    631.241838\n",
       "Exter Qual_TA           572.515853    572.515853\n",
       "Foundation_CBlock       560.718095    560.718095\n",
       "MS SubClass_2_1946+    -468.525626    468.525626\n",
       "Alley_Grvl             -348.728913    348.728913\n",
       "Garage Type_none        342.223330    342.223330\n",
       "MS SubClass_1_1945-     311.631056    311.631056\n",
       "Exterior_Wd             308.146637    308.146637\n",
       "Lot Frontage           -222.665054    222.665054\n",
       "Heating QC_Ex          -161.159198    161.159198\n",
       "Foundation_BrkTil       139.240546    139.240546\n",
       "\n",
       "[79 rows x 2 columns]"
      ]
     },
     "execution_count": 16,
     "metadata": {},
     "output_type": "execute_result"
    }
   ],
   "source": [
    "X_weights.sort_values(['abs_weight'],ascending=False)"
   ]
  },
  {
   "cell_type": "markdown",
   "metadata": {},
   "source": [
    "After 3 runs we finally have beta coefficients that are reasonably scaled to our data. The features represented align with the correlations seen in EDA and match up with our intuitive sense of what would impact home value."
   ]
  },
  {
   "cell_type": "code",
   "execution_count": 17,
   "metadata": {},
   "outputs": [],
   "source": [
    "def md_coef_table(labels, weights):\n",
    "    print('| feature | weight |\\n| --- | --- |')\n",
    "    for i in range(len(labels)):\n",
    "        print(f'| {labels[i]} | {weights[i]:.2e} |')"
   ]
  },
  {
   "cell_type": "code",
   "execution_count": 18,
   "metadata": {},
   "outputs": [],
   "source": [
    "weights = X_weights.sort_values('abs_weight', ascending=False)['weight']\n",
    "labels = weights.index"
   ]
  },
  {
   "cell_type": "code",
   "execution_count": 19,
   "metadata": {},
   "outputs": [
    {
     "name": "stdout",
     "output_type": "stream",
     "text": [
      "| feature | weight |\n",
      "| --- | --- |\n",
      "| Overall Qual | 1.28e+04 |\n",
      "| 1st Flr SF | 1.11e+04 |\n",
      "| Kitchen Qual_Ex | 1.11e+04 |\n",
      "| 2nd Flr SF | 9.88e+03 |\n",
      "| Garage Type_Attchd | 8.83e+03 |\n",
      "| Garage Area | 8.78e+03 |\n",
      "| Neighborhood_NridgHt | 7.57e+03 |\n",
      "| Garage Qual_TA | -7.25e+03 |\n",
      "| Garage Type_Detchd | 6.80e+03 |\n",
      "| Neighborhood_NoRidge | 6.40e+03 |\n",
      "| Bsmt Qual_Ex | 6.12e+03 |\n",
      "| Bsmt Exposure_Gd | 5.19e+03 |\n",
      "| Kitchen Qual_Gd | 5.09e+03 |\n",
      "| Neighborhood_StoneBr | 4.80e+03 |\n",
      "| Baths | 4.76e+03 |\n",
      "| Garage Type_BuiltIn | 4.75e+03 |\n",
      "| Neighborhood_Edwards | -4.58e+03 |\n",
      "| Gr Liv Area | 4.57e+03 |\n",
      "| Lot Area | 4.31e+03 |\n",
      "| Neighborhood_Somerst | 4.24e+03 |\n",
      "| Garage Qual_Fa | -4.18e+03 |\n",
      "| Bsmt Baths | 4.15e+03 |\n",
      "| Mas Vnr Type_None | 4.00e+03 |\n",
      "| Exter Qual_Ex | 3.95e+03 |\n",
      "| Sale Type_New | 3.94e+03 |\n",
      "| Roof Style_Hip | 3.36e+03 |\n",
      "| Condition_Street | -3.26e+03 |\n",
      "| MS Zoning_RL | 3.15e+03 |\n",
      "| Mas Vnr Type_BrkFace | 3.04e+03 |\n",
      "| Heating QC_TA | -3.04e+03 |\n",
      "| Exter Qual_Gd | 2.66e+03 |\n",
      "| Kitchen Qual_TA | 2.62e+03 |\n",
      "| Garage Yr Blt | -2.57e+03 |\n",
      "| Bsmt Qual_TA | 2.38e+03 |\n",
      "| Lot Config_CulDSac | 2.35e+03 |\n",
      "| Bsmt Exposure_No | -2.27e+03 |\n",
      "| Year Remod/Add | 2.05e+03 |\n",
      "| Land Contour_HLS | 2.04e+03 |\n",
      "| Fireplaces | 1.88e+03 |\n",
      "| Fireplace Qu_Gd | 1.83e+03 |\n",
      "| Foundation_PConc | 1.78e+03 |\n",
      "| Mas Vnr Type_Stone | 1.77e+03 |\n",
      "| Exterior_VinylSd | 1.77e+03 |\n",
      "| Fireplace Qu_Ex | 1.65e+03 |\n",
      "| Fence_none | -1.63e+03 |\n",
      "| MS Zoning_RM | -1.61e+03 |\n",
      "| Bsmt Fin_GLQ | 1.55e+03 |\n",
      "| Paved Drive | 1.51e+03 |\n",
      "| Lot Shape_Reg | 1.40e+03 |\n",
      "| Exter Cond_Fa | -1.38e+03 |\n",
      "| Bsmt Fin_Unf | -1.29e+03 |\n",
      "| Fireplace Qu_none | -1.27e+03 |\n",
      "| Neighborhood_NAmes | -1.25e+03 |\n",
      "| Wood Deck SF | 1.23e+03 |\n",
      "| Neighborhood_OldTown | -1.09e+03 |\n",
      "| Bsmt Qual_Gd | 1.07e+03 |\n",
      "| Central Air | 1.06e+03 |\n",
      "| Mas Vnr Area | 1.01e+03 |\n",
      "| MS SubClass_1.5_fin | 1.01e+03 |\n",
      "| Roof Style_Gable | 9.47e+02 |\n",
      "| Lot Shape_IR1 | 9.33e+02 |\n",
      "| Garage Cond_TA | 8.89e+02 |\n",
      "| Neighborhood_IDOTRR | -8.76e+02 |\n",
      "| Bsmt Cond_none | -8.08e+02 |\n",
      "| Bsmt Qual_none | -8.08e+02 |\n",
      "| Total Bsmt SF | 7.94e+02 |\n",
      "| Year Built | 7.79e+02 |\n",
      "| Open Porch SF | -6.79e+02 |\n",
      "| Sale Type_WD  | 6.31e+02 |\n",
      "| Exter Qual_TA | 5.73e+02 |\n",
      "| Foundation_CBlock | 5.61e+02 |\n",
      "| MS SubClass_2_1946+ | -4.69e+02 |\n",
      "| Alley_Grvl | -3.49e+02 |\n",
      "| Garage Type_none | 3.42e+02 |\n",
      "| MS SubClass_1_1945- | 3.12e+02 |\n",
      "| Exterior_Wd | 3.08e+02 |\n",
      "| Lot Frontage | -2.23e+02 |\n",
      "| Heating QC_Ex | -1.61e+02 |\n",
      "| Foundation_BrkTil | 1.39e+02 |\n"
     ]
    }
   ],
   "source": [
    "md_coef_table(labels, weights);"
   ]
  },
  {
   "cell_type": "code",
   "execution_count": 20,
   "metadata": {},
   "outputs": [
    {
     "data": {
      "text/plain": [
       "180368.8058631922"
      ]
     },
     "execution_count": 20,
     "metadata": {},
     "output_type": "execute_result"
    }
   ],
   "source": [
    "beta0 = gs.best_estimator_.named_steps['lr'].intercept_\n",
    "beta0"
   ]
  },
  {
   "cell_type": "markdown",
   "metadata": {},
   "source": [
    "Beta0 is still effectively the mean of our y_test."
   ]
  },
  {
   "cell_type": "code",
   "execution_count": 21,
   "metadata": {},
   "outputs": [
    {
     "data": {
      "text/plain": [
       "0.8661409078862077"
      ]
     },
     "execution_count": 21,
     "metadata": {},
     "output_type": "execute_result"
    }
   ],
   "source": [
    "gs.score(X_train,y_train)"
   ]
  },
  {
   "cell_type": "code",
   "execution_count": 22,
   "metadata": {},
   "outputs": [
    {
     "data": {
      "text/plain": [
       "0.9058140928141567"
      ]
     },
     "execution_count": 22,
     "metadata": {},
     "output_type": "execute_result"
    }
   ],
   "source": [
    "gs.score(X_test,y_test)"
   ]
  },
  {
   "cell_type": "markdown",
   "metadata": {},
   "source": [
    "Interestingly, out train and test scores have not changed after eliminating colinear features."
   ]
  },
  {
   "cell_type": "code",
   "execution_count": 23,
   "metadata": {},
   "outputs": [],
   "source": [
    "preds = gs.predict(X_test)"
   ]
  },
  {
   "cell_type": "code",
   "execution_count": 24,
   "metadata": {},
   "outputs": [
    {
     "data": {
      "text/plain": [
       "0.8916117934549042"
      ]
     },
     "execution_count": 24,
     "metadata": {},
     "output_type": "execute_result"
    }
   ],
   "source": [
    "r2_score(preds, y_test)"
   ]
  },
  {
   "cell_type": "code",
   "execution_count": 25,
   "metadata": {},
   "outputs": [
    {
     "data": {
      "text/plain": [
       "25468.595872096106"
      ]
     },
     "execution_count": 25,
     "metadata": {},
     "output_type": "execute_result"
    }
   ],
   "source": [
    "(mean_squared_error(preds, y_test))**.5"
   ]
  },
  {
   "cell_type": "markdown",
   "metadata": {},
   "source": [
    "The model did score better on the r2 and RMSE after feature selection. "
   ]
  },
  {
   "cell_type": "code",
   "execution_count": 26,
   "metadata": {},
   "outputs": [
    {
     "data": {
      "text/plain": [
       "<matplotlib.legend.Legend at 0x1a23b9d160>"
      ]
     },
     "execution_count": 26,
     "metadata": {},
     "output_type": "execute_result"
    },
    {
     "data": {
      "image/png": "[encoded data removed]",
      "text/plain": [
       "<Figure size 1152x648 with 1 Axes>"
      ]
     },
     "metadata": {
      "needs_background": "light"
     },
     "output_type": "display_data"
    }
   ],
   "source": [
    "plt.figure(figsize=(16,9))\n",
    "plt.title(f'Predicted vs. True: Linear Regression \\nRMSE: {mean_squared_error(y_test, gs.predict(X_test))**.5:.2f}', fontsize=30);\n",
    "\n",
    "plt.scatter(y_test, gs.predict(X_test))\n",
    "plt.plot([0, 600000], [0, 600000], color='r')\n",
    "\n",
    "plt.ylabel('Predicted', fontsize=20)\n",
    "plt.xlabel('True', fontsize=20)\n",
    "plt.legend(['Actual'])\n",
    " \n",
    "    \n",
    "#plt.savefig('../images/lr_MFS_preds.png', dpi=300)"
   ]
  },
  {
   "cell_type": "markdown",
   "metadata": {},
   "source": [
    "Visually, there is little change in the distribution of true vs. predicted values."
   ]
  },
  {
   "cell_type": "markdown",
   "metadata": {},
   "source": [
    "## Plotting Beta Weights"
   ]
  },
  {
   "cell_type": "code",
   "execution_count": 27,
   "metadata": {},
   "outputs": [
    {
     "data": {
      "image/png": "[encoded data removed]",
      "text/plain": [
       "<Figure size 1440x720 with 1 Axes>"
      ]
     },
     "metadata": {
      "needs_background": "light"
     },
     "output_type": "display_data"
    }
   ],
   "source": [
    "weights = X_weights.sort_values('abs_weight', ascending=False)['weight'].head(10)\n",
    "beta_0 = gs.best_estimator_.named_steps['lr'].intercept_\n",
    "labels = weights.index\n",
    "\n",
    "plt.figure(figsize=(20,10))\n",
    "plt.barh(labels, weights)\n",
    "plt.yticks(fontsize=20)\n",
    "plt.xticks(fontsize=20)\n",
    "plt.xlabel('Weights', fontsize=30)\n",
    "plt.title(f'Most Important Features and Weights\\ny intercept: ${beta_0:0.02f}', fontsize=42)\n",
    "plt.tight_layout()\n",
    "\n",
    "#plt.savefig('../images/lr_MFS.png', dpi=300)"
   ]
  },
  {
   "cell_type": "markdown",
   "metadata": {},
   "source": [
    "Our top ten features impacting model predictions are now much more representative. It is interesting that features relating to the garage still account for 4/10 predictors."
   ]
  },
  {
   "cell_type": "code",
   "execution_count": 33,
   "metadata": {},
   "outputs": [
    {
     "data": {
      "text/plain": [
       "(1535, 243)"
      ]
     },
     "execution_count": 33,
     "metadata": {},
     "output_type": "execute_result"
    }
   ],
   "source": [
    "X_train.shape"
   ]
  },
  {
   "cell_type": "markdown",
   "metadata": {},
   "source": [
    "Noting shape of training data to ensure complete preprocessing of unseen testing data."
   ]
  },
  {
   "cell_type": "markdown",
   "metadata": {},
   "source": [
    "# Saving out column names and scaled data for use in future models."
   ]
  },
  {
   "cell_type": "markdown",
   "metadata": {},
   "source": [
    "Function to save out files with a clear description of each run. Source: Douglas Strodman."
   ]
  },
  {
   "cell_type": "code",
   "execution_count": 29,
   "metadata": {},
   "outputs": [],
   "source": [
    "def filename_format_log(file_path, #path for saving out file of interest\n",
    "                        logfile='../assets/file_log.txt', #default value\n",
    "                        now=round(time.time()), #time in epoch time\n",
    "                        file_description=None): \n",
    "    try:\n",
    "        ext = re.search('(?<!^)(?<!\\.)\\.(?!\\.)', file_path).start() #regx arg to search string for patterns \n",
    "                                                                    #(period not followed or preceeded by a period or follows string)\n",
    "    except:\n",
    "        raise NameError('Please enter a relative path with a file extension.') \n",
    "    formatted_name = f'{file_path[:ext]}_{now}{file_path[ext:]}' #capture everything to (.) and then add (_) time\n",
    "    if not file_description:\n",
    "        file_description = input('Please provide a brief description: ')\n",
    "    with open(logfile, 'a+') as f:\n",
    "        f.write(f'{formatted_name}: {file_description}\\n')\n",
    "    return formatted_name, now, file_description"
   ]
  },
  {
   "cell_type": "markdown",
   "metadata": {},
   "source": [
    "Saving columns that were retained by the model"
   ]
  },
  {
   "cell_type": "code",
   "execution_count": 30,
   "metadata": {},
   "outputs": [],
   "source": [
    "columns = X_train.columns"
   ]
  },
  {
   "cell_type": "code",
   "execution_count": 31,
   "metadata": {},
   "outputs": [
    {
     "name": "stdin",
     "output_type": "stream",
     "text": [
      "Please provide a brief description:  Clean run for Kaggle\n"
     ]
    }
   ],
   "source": [
    "formatted_name, now, file_description= filename_format_log('../assets/columns.pkl')\n",
    "\n",
    "with open(formatted_name, 'wb+') as f:\n",
    "    pickle.dump(columns, f)"
   ]
  },
  {
   "cell_type": "code",
   "execution_count": 32,
   "metadata": {},
   "outputs": [],
   "source": [
    "formatted_name, _, _= filename_format_log('../assets/gs.pkl', now=now, file_description=file_description)\n",
    "\n",
    "with open(formatted_name, 'wb+') as f:\n",
    "    pickle.dump(gs, f)"
   ]
  }
 ],
 "metadata": {
  "kernelspec": {
   "display_name": "Python 3",
   "language": "python",
   "name": "python3"
  },
  "language_info": {
   "codemirror_mode": {
    "name": "ipython",
    "version": 3
   },
   "file_extension": ".py",
   "mimetype": "text/x-python",
   "name": "python",
   "nbconvert_exporter": "python",
   "pygments_lexer": "ipython3",
   "version": "3.6.7"
  }
 },
 "nbformat": 4,
 "nbformat_minor": 2
}
