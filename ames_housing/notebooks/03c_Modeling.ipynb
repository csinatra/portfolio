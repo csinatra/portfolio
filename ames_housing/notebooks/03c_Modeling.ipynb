{
 "cells": [
  {
   "cell_type": "markdown",
   "metadata": {},
   "source": [
    "# NOTEBOOK 3c: MODELING - ElasticNetCV"
   ]
  },
  {
   "cell_type": "markdown",
   "metadata": {},
   "source": [
    "Now that we have tuned our dataset we will begin optimizing models and allow more feature to contribute to our predictions. Since the ElasticNet algorithm takes on characteristics of both ridge and lasso regression approaches to feature selection, this will be our starting point. If there is a stong indication that one model is favored over the other we can investigate that more fully to compare performance."
   ]
  },
  {
   "cell_type": "code",
   "execution_count": 13,
   "metadata": {},
   "outputs": [],
   "source": [
    "import pandas as pd\n",
    "import numpy as np\n",
    "import matplotlib.pyplot as plt\n",
    "import seaborn as sns\n",
    "import csv\n",
    "import pickle\n",
    "import re\n",
    "import time\n",
    "\n",
    "from scipy import stats\n",
    "from sklearn.pipeline import Pipeline\n",
    "from sklearn.preprocessing import StandardScaler\n",
    "from sklearn.feature_selection import VarianceThreshold, SelectKBest, SelectPercentile, SelectFromModel, f_regression, RFECV\n",
    "from sklearn.linear_model import LinearRegression, LassoCV, RidgeCV, ElasticNetCV\n",
    "from sklearn.model_selection import train_test_split, cross_val_score, GridSearchCV, RandomizedSearchCV\n",
    "from sklearn.metrics import r2_score, mean_squared_error\n",
    "from sklearn.neighbors import KNeighborsRegressor\n",
    "\n",
    "import warnings\n",
    "warnings.simplefilter(action='ignore', category=FutureWarning)\n",
    "warnings.simplefilter(action='ignore', category=DeprecationWarning)\n",
    "\n",
    "np.random.seed(42)\n",
    "\n",
    "%matplotlib inline"
   ]
  },
  {
   "cell_type": "markdown",
   "metadata": {},
   "source": [
    "Loading the clean training data from Notebook 02"
   ]
  },
  {
   "cell_type": "code",
   "execution_count": 14,
   "metadata": {},
   "outputs": [],
   "source": [
    "df = pd.read_csv('../data/train_clean.csv', index_col='Id', na_filter=False)"
   ]
  },
  {
   "cell_type": "code",
   "execution_count": 15,
   "metadata": {},
   "outputs": [
    {
     "data": {
      "text/html": [
       "<div>\n",
       "<style scoped>\n",
       "    .dataframe tbody tr th:only-of-type {\n",
       "        vertical-align: middle;\n",
       "    }\n",
       "\n",
       "    .dataframe tbody tr th {\n",
       "        vertical-align: top;\n",
       "    }\n",
       "\n",
       "    .dataframe thead th {\n",
       "        text-align: right;\n",
       "    }\n",
       "</style>\n",
       "<table border=\"1\" class=\"dataframe\">\n",
       "  <thead>\n",
       "    <tr style=\"text-align: right;\">\n",
       "      <th></th>\n",
       "      <th>Lot Frontage</th>\n",
       "      <th>Lot Area</th>\n",
       "      <th>Overall Qual</th>\n",
       "      <th>Overall Cond</th>\n",
       "      <th>Year Built</th>\n",
       "      <th>Year Remod/Add</th>\n",
       "      <th>Mas Vnr Area</th>\n",
       "      <th>Bsmt Unf SF</th>\n",
       "      <th>Total Bsmt SF</th>\n",
       "      <th>Central Air</th>\n",
       "      <th>...</th>\n",
       "      <th>Misc Feature_none</th>\n",
       "      <th>Sale Type_COD</th>\n",
       "      <th>Sale Type_CWD</th>\n",
       "      <th>Sale Type_Con</th>\n",
       "      <th>Sale Type_ConLD</th>\n",
       "      <th>Sale Type_ConLI</th>\n",
       "      <th>Sale Type_ConLw</th>\n",
       "      <th>Sale Type_New</th>\n",
       "      <th>Sale Type_Oth</th>\n",
       "      <th>Sale Type_WD</th>\n",
       "    </tr>\n",
       "    <tr>\n",
       "      <th>Id</th>\n",
       "      <th></th>\n",
       "      <th></th>\n",
       "      <th></th>\n",
       "      <th></th>\n",
       "      <th></th>\n",
       "      <th></th>\n",
       "      <th></th>\n",
       "      <th></th>\n",
       "      <th></th>\n",
       "      <th></th>\n",
       "      <th></th>\n",
       "      <th></th>\n",
       "      <th></th>\n",
       "      <th></th>\n",
       "      <th></th>\n",
       "      <th></th>\n",
       "      <th></th>\n",
       "      <th></th>\n",
       "      <th></th>\n",
       "      <th></th>\n",
       "      <th></th>\n",
       "    </tr>\n",
       "  </thead>\n",
       "  <tbody>\n",
       "    <tr>\n",
       "      <th>109</th>\n",
       "      <td>0.0</td>\n",
       "      <td>13517</td>\n",
       "      <td>6</td>\n",
       "      <td>8</td>\n",
       "      <td>1976</td>\n",
       "      <td>2005</td>\n",
       "      <td>289.0</td>\n",
       "      <td>192.0</td>\n",
       "      <td>725.0</td>\n",
       "      <td>1</td>\n",
       "      <td>...</td>\n",
       "      <td>1</td>\n",
       "      <td>0</td>\n",
       "      <td>0</td>\n",
       "      <td>0</td>\n",
       "      <td>0</td>\n",
       "      <td>0</td>\n",
       "      <td>0</td>\n",
       "      <td>0</td>\n",
       "      <td>0</td>\n",
       "      <td>1</td>\n",
       "    </tr>\n",
       "    <tr>\n",
       "      <th>544</th>\n",
       "      <td>43.0</td>\n",
       "      <td>11492</td>\n",
       "      <td>7</td>\n",
       "      <td>5</td>\n",
       "      <td>1996</td>\n",
       "      <td>1997</td>\n",
       "      <td>132.0</td>\n",
       "      <td>276.0</td>\n",
       "      <td>913.0</td>\n",
       "      <td>1</td>\n",
       "      <td>...</td>\n",
       "      <td>1</td>\n",
       "      <td>0</td>\n",
       "      <td>0</td>\n",
       "      <td>0</td>\n",
       "      <td>0</td>\n",
       "      <td>0</td>\n",
       "      <td>0</td>\n",
       "      <td>0</td>\n",
       "      <td>0</td>\n",
       "      <td>1</td>\n",
       "    </tr>\n",
       "    <tr>\n",
       "      <th>153</th>\n",
       "      <td>68.0</td>\n",
       "      <td>7922</td>\n",
       "      <td>5</td>\n",
       "      <td>7</td>\n",
       "      <td>1953</td>\n",
       "      <td>2007</td>\n",
       "      <td>0.0</td>\n",
       "      <td>326.0</td>\n",
       "      <td>1057.0</td>\n",
       "      <td>1</td>\n",
       "      <td>...</td>\n",
       "      <td>1</td>\n",
       "      <td>0</td>\n",
       "      <td>0</td>\n",
       "      <td>0</td>\n",
       "      <td>0</td>\n",
       "      <td>0</td>\n",
       "      <td>0</td>\n",
       "      <td>0</td>\n",
       "      <td>0</td>\n",
       "      <td>1</td>\n",
       "    </tr>\n",
       "    <tr>\n",
       "      <th>318</th>\n",
       "      <td>73.0</td>\n",
       "      <td>9802</td>\n",
       "      <td>5</td>\n",
       "      <td>5</td>\n",
       "      <td>2006</td>\n",
       "      <td>2007</td>\n",
       "      <td>0.0</td>\n",
       "      <td>384.0</td>\n",
       "      <td>384.0</td>\n",
       "      <td>1</td>\n",
       "      <td>...</td>\n",
       "      <td>1</td>\n",
       "      <td>0</td>\n",
       "      <td>0</td>\n",
       "      <td>0</td>\n",
       "      <td>0</td>\n",
       "      <td>0</td>\n",
       "      <td>0</td>\n",
       "      <td>0</td>\n",
       "      <td>0</td>\n",
       "      <td>1</td>\n",
       "    </tr>\n",
       "    <tr>\n",
       "      <th>255</th>\n",
       "      <td>82.0</td>\n",
       "      <td>14235</td>\n",
       "      <td>6</td>\n",
       "      <td>8</td>\n",
       "      <td>1900</td>\n",
       "      <td>1993</td>\n",
       "      <td>0.0</td>\n",
       "      <td>676.0</td>\n",
       "      <td>676.0</td>\n",
       "      <td>1</td>\n",
       "      <td>...</td>\n",
       "      <td>1</td>\n",
       "      <td>0</td>\n",
       "      <td>0</td>\n",
       "      <td>0</td>\n",
       "      <td>0</td>\n",
       "      <td>0</td>\n",
       "      <td>0</td>\n",
       "      <td>0</td>\n",
       "      <td>0</td>\n",
       "      <td>1</td>\n",
       "    </tr>\n",
       "  </tbody>\n",
       "</table>\n",
       "<p>5 rows × 255 columns</p>\n",
       "</div>"
      ],
      "text/plain": [
       "     Lot Frontage  Lot Area  Overall Qual  Overall Cond  Year Built  \\\n",
       "Id                                                                    \n",
       "109           0.0     13517             6             8        1976   \n",
       "544          43.0     11492             7             5        1996   \n",
       "153          68.0      7922             5             7        1953   \n",
       "318          73.0      9802             5             5        2006   \n",
       "255          82.0     14235             6             8        1900   \n",
       "\n",
       "     Year Remod/Add  Mas Vnr Area  Bsmt Unf SF  Total Bsmt SF  Central Air  \\\n",
       "Id                                                                           \n",
       "109            2005         289.0        192.0          725.0            1   \n",
       "544            1997         132.0        276.0          913.0            1   \n",
       "153            2007           0.0        326.0         1057.0            1   \n",
       "318            2007           0.0        384.0          384.0            1   \n",
       "255            1993           0.0        676.0          676.0            1   \n",
       "\n",
       "         ...        Misc Feature_none  Sale Type_COD  Sale Type_CWD  \\\n",
       "Id       ...                                                          \n",
       "109      ...                        1              0              0   \n",
       "544      ...                        1              0              0   \n",
       "153      ...                        1              0              0   \n",
       "318      ...                        1              0              0   \n",
       "255      ...                        1              0              0   \n",
       "\n",
       "     Sale Type_Con  Sale Type_ConLD  Sale Type_ConLI  Sale Type_ConLw  \\\n",
       "Id                                                                      \n",
       "109              0                0                0                0   \n",
       "544              0                0                0                0   \n",
       "153              0                0                0                0   \n",
       "318              0                0                0                0   \n",
       "255              0                0                0                0   \n",
       "\n",
       "     Sale Type_New  Sale Type_Oth  Sale Type_WD   \n",
       "Id                                                \n",
       "109              0              0              1  \n",
       "544              0              0              1  \n",
       "153              0              0              1  \n",
       "318              0              0              1  \n",
       "255              0              0              1  \n",
       "\n",
       "[5 rows x 255 columns]"
      ]
     },
     "execution_count": 15,
     "metadata": {},
     "output_type": "execute_result"
    }
   ],
   "source": [
    "df.head()"
   ]
  },
  {
   "cell_type": "code",
   "execution_count": 16,
   "metadata": {},
   "outputs": [],
   "source": [
    "X = df.drop(['SalePrice'],axis=1)\n",
    "y = df['SalePrice']\n",
    "\n",
    "X_train, X_test, y_train, y_test = train_test_split(X, y)"
   ]
  },
  {
   "cell_type": "code",
   "execution_count": 17,
   "metadata": {},
   "outputs": [],
   "source": [
    "model = 'enet'"
   ]
  },
  {
   "cell_type": "code",
   "execution_count": 18,
   "metadata": {},
   "outputs": [],
   "source": [
    "pipe = Pipeline([\n",
    "    ('var_thresh', VarianceThreshold(0)),\n",
    "    ('ss', StandardScaler()),\n",
    "    ('kbest', SelectKBest(f_regression)),\n",
    "    ('enet', ElasticNetCV(selection='random')),\n",
    "#     ('lasso', LassoCV()),\n",
    "#     ('ridge', RidgeCV()),\n",
    "#     ('knn', KNeighborsRegressor),\n",
    "])\n"
   ]
  },
  {
   "cell_type": "code",
   "execution_count": 19,
   "metadata": {},
   "outputs": [
    {
     "data": {
      "text/plain": [
       "Pipeline(memory=None,\n",
       "     steps=[('var_thresh', VarianceThreshold(threshold=0)), ('ss', StandardScaler(copy=True, with_mean=True, with_std=True)), ('kbest', SelectKBest(k=10, score_func=<function f_regression at 0x1a20415620>)), ('enet', ElasticNetCV(alphas=None, copy_X=True, cv='warn', eps=0.001,\n",
       "       fit_intercept=True, l1_ratio=0.5, max_iter=1000, n_alphas=100,\n",
       "       n_jobs=None, normalize=False, positive=False, precompute='auto',\n",
       "       random_state=None, selection='random', tol=0.0001, verbose=0))])"
      ]
     },
     "execution_count": 19,
     "metadata": {},
     "output_type": "execute_result"
    }
   ],
   "source": [
    "pipe.fit(X_train,y_train)"
   ]
  },
  {
   "cell_type": "code",
   "execution_count": 20,
   "metadata": {},
   "outputs": [
    {
     "data": {
      "text/plain": [
       "0.11551320710658963"
      ]
     },
     "execution_count": 20,
     "metadata": {},
     "output_type": "execute_result"
    }
   ],
   "source": [
    "pipe.score(X_train,y_train)"
   ]
  },
  {
   "cell_type": "code",
   "execution_count": 21,
   "metadata": {},
   "outputs": [
    {
     "data": {
      "text/plain": [
       "0.11220434208444452"
      ]
     },
     "execution_count": 21,
     "metadata": {},
     "output_type": "execute_result"
    }
   ],
   "source": [
    "pipe.score(X_test,y_test)"
   ]
  },
  {
   "cell_type": "markdown",
   "metadata": {},
   "source": [
    "The unfit scores are consistent from training to test set, however they are very low compared to the lr model. This is expected as ElasticNet is much more complex and requires more tuning than lr."
   ]
  },
  {
   "cell_type": "code",
   "execution_count": 25,
   "metadata": {},
   "outputs": [],
   "source": [
    "params = {\n",
    "    'var_thresh__threshold': [0,.001,.2],\n",
    "    'kbest__k': [37,'all'],\n",
    "    'enet__l1_ratio': np.linspace(.001,1,300),\n",
    "    'enet__n_alphas': [100],\n",
    "    'enet__alphas': [np.logspace(0,50,100)],\n",
    "}"
   ]
  },
  {
   "cell_type": "markdown",
   "metadata": {},
   "source": [
    "We will search over 500 values for the l1 ratio as this hyperparameter has the most impact on this model. The l1 ratio tunes how much the ElasticNet takes on Lasso vs. Ridge characterists. N_alphas denotes how many alpha coefficients are searched at each l1 parameter. The alpha value tunes how much terms are regularized and drop to 0 "
   ]
  },
  {
   "cell_type": "code",
   "execution_count": 26,
   "metadata": {},
   "outputs": [],
   "source": [
    "gs = GridSearchCV(pipe, params, cv=5, scoring='r2', verbose=1)"
   ]
  },
  {
   "cell_type": "code",
   "execution_count": 27,
   "metadata": {},
   "outputs": [
    {
     "name": "stdout",
     "output_type": "stream",
     "text": [
      "Fitting 5 folds for each of 1800 candidates, totalling 9000 fits\n"
     ]
    },
    {
     "name": "stderr",
     "output_type": "stream",
     "text": [
      "[Parallel(n_jobs=1)]: Using backend SequentialBackend with 1 concurrent workers.\n",
      "/Users/Chris/anaconda3/lib/python3.7/site-packages/sklearn/linear_model/coordinate_descent.py:492: ConvergenceWarning: Objective did not converge. You might want to increase the number of iterations. Fitting data with very small alpha may cause precision problems.\n",
      "  ConvergenceWarning)\n",
      "/Users/Chris/anaconda3/lib/python3.7/site-packages/sklearn/linear_model/coordinate_descent.py:492: ConvergenceWarning: Objective did not converge. You might want to increase the number of iterations. Fitting data with very small alpha may cause precision problems.\n",
      "  ConvergenceWarning)\n",
      "/Users/Chris/anaconda3/lib/python3.7/site-packages/sklearn/linear_model/coordinate_descent.py:492: ConvergenceWarning: Objective did not converge. You might want to increase the number of iterations. Fitting data with very small alpha may cause precision problems.\n",
      "  ConvergenceWarning)\n",
      "/Users/Chris/anaconda3/lib/python3.7/site-packages/sklearn/linear_model/coordinate_descent.py:492: ConvergenceWarning: Objective did not converge. You might want to increase the number of iterations. Fitting data with very small alpha may cause precision problems.\n",
      "  ConvergenceWarning)\n",
      "/Users/Chris/anaconda3/lib/python3.7/site-packages/sklearn/linear_model/coordinate_descent.py:492: ConvergenceWarning: Objective did not converge. You might want to increase the number of iterations. Fitting data with very small alpha may cause precision problems.\n",
      "  ConvergenceWarning)\n",
      "/Users/Chris/anaconda3/lib/python3.7/site-packages/sklearn/linear_model/coordinate_descent.py:492: ConvergenceWarning: Objective did not converge. You might want to increase the number of iterations. Fitting data with very small alpha may cause precision problems.\n",
      "  ConvergenceWarning)\n",
      "/Users/Chris/anaconda3/lib/python3.7/site-packages/sklearn/linear_model/coordinate_descent.py:492: ConvergenceWarning: Objective did not converge. You might want to increase the number of iterations. Fitting data with very small alpha may cause precision problems.\n",
      "  ConvergenceWarning)\n",
      "/Users/Chris/anaconda3/lib/python3.7/site-packages/sklearn/linear_model/coordinate_descent.py:492: ConvergenceWarning: Objective did not converge. You might want to increase the number of iterations. Fitting data with very small alpha may cause precision problems.\n",
      "  ConvergenceWarning)\n",
      "/Users/Chris/anaconda3/lib/python3.7/site-packages/sklearn/linear_model/coordinate_descent.py:492: ConvergenceWarning: Objective did not converge. You might want to increase the number of iterations. Fitting data with very small alpha may cause precision problems.\n",
      "  ConvergenceWarning)\n",
      "/Users/Chris/anaconda3/lib/python3.7/site-packages/sklearn/linear_model/coordinate_descent.py:492: ConvergenceWarning: Objective did not converge. You might want to increase the number of iterations. Fitting data with very small alpha may cause precision problems.\n",
      "  ConvergenceWarning)\n",
      "/Users/Chris/anaconda3/lib/python3.7/site-packages/sklearn/linear_model/coordinate_descent.py:492: ConvergenceWarning: Objective did not converge. You might want to increase the number of iterations. Fitting data with very small alpha may cause precision problems.\n",
      "  ConvergenceWarning)\n",
      "/Users/Chris/anaconda3/lib/python3.7/site-packages/sklearn/linear_model/coordinate_descent.py:492: ConvergenceWarning: Objective did not converge. You might want to increase the number of iterations. Fitting data with very small alpha may cause precision problems.\n",
      "  ConvergenceWarning)\n",
      "/Users/Chris/anaconda3/lib/python3.7/site-packages/sklearn/linear_model/coordinate_descent.py:492: ConvergenceWarning: Objective did not converge. You might want to increase the number of iterations. Fitting data with very small alpha may cause precision problems.\n",
      "  ConvergenceWarning)\n",
      "/Users/Chris/anaconda3/lib/python3.7/site-packages/sklearn/linear_model/coordinate_descent.py:492: ConvergenceWarning: Objective did not converge. You might want to increase the number of iterations. Fitting data with very small alpha may cause precision problems.\n",
      "  ConvergenceWarning)\n",
      "/Users/Chris/anaconda3/lib/python3.7/site-packages/sklearn/linear_model/coordinate_descent.py:492: ConvergenceWarning: Objective did not converge. You might want to increase the number of iterations. Fitting data with very small alpha may cause precision problems.\n",
      "  ConvergenceWarning)\n",
      "/Users/Chris/anaconda3/lib/python3.7/site-packages/sklearn/linear_model/coordinate_descent.py:492: ConvergenceWarning: Objective did not converge. You might want to increase the number of iterations. Fitting data with very small alpha may cause precision problems.\n",
      "  ConvergenceWarning)\n",
      "/Users/Chris/anaconda3/lib/python3.7/site-packages/sklearn/linear_model/coordinate_descent.py:492: ConvergenceWarning: Objective did not converge. You might want to increase the number of iterations. Fitting data with very small alpha may cause precision problems.\n",
      "  ConvergenceWarning)\n",
      "/Users/Chris/anaconda3/lib/python3.7/site-packages/sklearn/linear_model/coordinate_descent.py:492: ConvergenceWarning: Objective did not converge. You might want to increase the number of iterations. Fitting data with very small alpha may cause precision problems.\n",
      "  ConvergenceWarning)\n",
      "/Users/Chris/anaconda3/lib/python3.7/site-packages/sklearn/linear_model/coordinate_descent.py:492: ConvergenceWarning: Objective did not converge. You might want to increase the number of iterations. Fitting data with very small alpha may cause precision problems.\n",
      "  ConvergenceWarning)\n",
      "/Users/Chris/anaconda3/lib/python3.7/site-packages/sklearn/linear_model/coordinate_descent.py:492: ConvergenceWarning: Objective did not converge. You might want to increase the number of iterations. Fitting data with very small alpha may cause precision problems.\n",
      "  ConvergenceWarning)\n",
      "/Users/Chris/anaconda3/lib/python3.7/site-packages/sklearn/linear_model/coordinate_descent.py:492: ConvergenceWarning: Objective did not converge. You might want to increase the number of iterations. Fitting data with very small alpha may cause precision problems.\n",
      "  ConvergenceWarning)\n",
      "/Users/Chris/anaconda3/lib/python3.7/site-packages/sklearn/linear_model/coordinate_descent.py:492: ConvergenceWarning: Objective did not converge. You might want to increase the number of iterations. Fitting data with very small alpha may cause precision problems.\n",
      "  ConvergenceWarning)\n",
      "/Users/Chris/anaconda3/lib/python3.7/site-packages/sklearn/linear_model/coordinate_descent.py:492: ConvergenceWarning: Objective did not converge. You might want to increase the number of iterations. Fitting data with very small alpha may cause precision problems.\n",
      "  ConvergenceWarning)\n",
      "/Users/Chris/anaconda3/lib/python3.7/site-packages/sklearn/linear_model/coordinate_descent.py:492: ConvergenceWarning: Objective did not converge. You might want to increase the number of iterations. Fitting data with very small alpha may cause precision problems.\n",
      "  ConvergenceWarning)\n",
      "/Users/Chris/anaconda3/lib/python3.7/site-packages/sklearn/linear_model/coordinate_descent.py:492: ConvergenceWarning: Objective did not converge. You might want to increase the number of iterations. Fitting data with very small alpha may cause precision problems.\n",
      "  ConvergenceWarning)\n",
      "/Users/Chris/anaconda3/lib/python3.7/site-packages/sklearn/linear_model/coordinate_descent.py:492: ConvergenceWarning: Objective did not converge. You might want to increase the number of iterations. Fitting data with very small alpha may cause precision problems.\n",
      "  ConvergenceWarning)\n",
      "/Users/Chris/anaconda3/lib/python3.7/site-packages/sklearn/linear_model/coordinate_descent.py:492: ConvergenceWarning: Objective did not converge. You might want to increase the number of iterations. Fitting data with very small alpha may cause precision problems.\n",
      "  ConvergenceWarning)\n",
      "/Users/Chris/anaconda3/lib/python3.7/site-packages/sklearn/linear_model/coordinate_descent.py:492: ConvergenceWarning: Objective did not converge. You might want to increase the number of iterations. Fitting data with very small alpha may cause precision problems.\n",
      "  ConvergenceWarning)\n",
      "/Users/Chris/anaconda3/lib/python3.7/site-packages/sklearn/linear_model/coordinate_descent.py:492: ConvergenceWarning: Objective did not converge. You might want to increase the number of iterations. Fitting data with very small alpha may cause precision problems.\n",
      "  ConvergenceWarning)\n",
      "/Users/Chris/anaconda3/lib/python3.7/site-packages/sklearn/linear_model/coordinate_descent.py:492: ConvergenceWarning: Objective did not converge. You might want to increase the number of iterations. Fitting data with very small alpha may cause precision problems.\n",
      "  ConvergenceWarning)\n",
      "/Users/Chris/anaconda3/lib/python3.7/site-packages/sklearn/linear_model/coordinate_descent.py:492: ConvergenceWarning: Objective did not converge. You might want to increase the number of iterations. Fitting data with very small alpha may cause precision problems.\n",
      "  ConvergenceWarning)\n",
      "/Users/Chris/anaconda3/lib/python3.7/site-packages/sklearn/linear_model/coordinate_descent.py:492: ConvergenceWarning: Objective did not converge. You might want to increase the number of iterations. Fitting data with very small alpha may cause precision problems.\n",
      "  ConvergenceWarning)\n",
      "/Users/Chris/anaconda3/lib/python3.7/site-packages/sklearn/linear_model/coordinate_descent.py:492: ConvergenceWarning: Objective did not converge. You might want to increase the number of iterations. Fitting data with very small alpha may cause precision problems.\n",
      "  ConvergenceWarning)\n",
      "/Users/Chris/anaconda3/lib/python3.7/site-packages/sklearn/linear_model/coordinate_descent.py:492: ConvergenceWarning: Objective did not converge. You might want to increase the number of iterations. Fitting data with very small alpha may cause precision problems.\n",
      "  ConvergenceWarning)\n",
      "/Users/Chris/anaconda3/lib/python3.7/site-packages/sklearn/linear_model/coordinate_descent.py:492: ConvergenceWarning: Objective did not converge. You might want to increase the number of iterations. Fitting data with very small alpha may cause precision problems.\n",
      "  ConvergenceWarning)\n",
      "/Users/Chris/anaconda3/lib/python3.7/site-packages/sklearn/linear_model/coordinate_descent.py:492: ConvergenceWarning: Objective did not converge. You might want to increase the number of iterations. Fitting data with very small alpha may cause precision problems.\n",
      "  ConvergenceWarning)\n",
      "/Users/Chris/anaconda3/lib/python3.7/site-packages/sklearn/linear_model/coordinate_descent.py:492: ConvergenceWarning: Objective did not converge. You might want to increase the number of iterations. Fitting data with very small alpha may cause precision problems.\n",
      "  ConvergenceWarning)\n",
      "/Users/Chris/anaconda3/lib/python3.7/site-packages/sklearn/linear_model/coordinate_descent.py:492: ConvergenceWarning: Objective did not converge. You might want to increase the number of iterations. Fitting data with very small alpha may cause precision problems.\n",
      "  ConvergenceWarning)\n",
      "/Users/Chris/anaconda3/lib/python3.7/site-packages/sklearn/linear_model/coordinate_descent.py:492: ConvergenceWarning: Objective did not converge. You might want to increase the number of iterations. Fitting data with very small alpha may cause precision problems.\n",
      "  ConvergenceWarning)\n",
      "/Users/Chris/anaconda3/lib/python3.7/site-packages/sklearn/linear_model/coordinate_descent.py:492: ConvergenceWarning: Objective did not converge. You might want to increase the number of iterations. Fitting data with very small alpha may cause precision problems.\n",
      "  ConvergenceWarning)\n",
      "/Users/Chris/anaconda3/lib/python3.7/site-packages/sklearn/linear_model/coordinate_descent.py:492: ConvergenceWarning: Objective did not converge. You might want to increase the number of iterations. Fitting data with very small alpha may cause precision problems.\n",
      "  ConvergenceWarning)\n",
      "/Users/Chris/anaconda3/lib/python3.7/site-packages/sklearn/linear_model/coordinate_descent.py:492: ConvergenceWarning: Objective did not converge. You might want to increase the number of iterations. Fitting data with very small alpha may cause precision problems.\n",
      "  ConvergenceWarning)\n",
      "/Users/Chris/anaconda3/lib/python3.7/site-packages/sklearn/linear_model/coordinate_descent.py:492: ConvergenceWarning: Objective did not converge. You might want to increase the number of iterations. Fitting data with very small alpha may cause precision problems.\n",
      "  ConvergenceWarning)\n",
      "/Users/Chris/anaconda3/lib/python3.7/site-packages/sklearn/linear_model/coordinate_descent.py:492: ConvergenceWarning: Objective did not converge. You might want to increase the number of iterations. Fitting data with very small alpha may cause precision problems.\n",
      "  ConvergenceWarning)\n",
      "/Users/Chris/anaconda3/lib/python3.7/site-packages/sklearn/linear_model/coordinate_descent.py:492: ConvergenceWarning: Objective did not converge. You might want to increase the number of iterations. Fitting data with very small alpha may cause precision problems.\n",
      "  ConvergenceWarning)\n",
      "/Users/Chris/anaconda3/lib/python3.7/site-packages/sklearn/linear_model/coordinate_descent.py:492: ConvergenceWarning: Objective did not converge. You might want to increase the number of iterations. Fitting data with very small alpha may cause precision problems.\n",
      "  ConvergenceWarning)\n",
      "/Users/Chris/anaconda3/lib/python3.7/site-packages/sklearn/linear_model/coordinate_descent.py:492: ConvergenceWarning: Objective did not converge. You might want to increase the number of iterations. Fitting data with very small alpha may cause precision problems.\n",
      "  ConvergenceWarning)\n",
      "/Users/Chris/anaconda3/lib/python3.7/site-packages/sklearn/linear_model/coordinate_descent.py:492: ConvergenceWarning: Objective did not converge. You might want to increase the number of iterations. Fitting data with very small alpha may cause precision problems.\n",
      "  ConvergenceWarning)\n",
      "/Users/Chris/anaconda3/lib/python3.7/site-packages/sklearn/linear_model/coordinate_descent.py:492: ConvergenceWarning: Objective did not converge. You might want to increase the number of iterations. Fitting data with very small alpha may cause precision problems.\n",
      "  ConvergenceWarning)\n",
      "/Users/Chris/anaconda3/lib/python3.7/site-packages/sklearn/linear_model/coordinate_descent.py:492: ConvergenceWarning: Objective did not converge. You might want to increase the number of iterations. Fitting data with very small alpha may cause precision problems.\n",
      "  ConvergenceWarning)\n",
      "/Users/Chris/anaconda3/lib/python3.7/site-packages/sklearn/linear_model/coordinate_descent.py:492: ConvergenceWarning: Objective did not converge. You might want to increase the number of iterations. Fitting data with very small alpha may cause precision problems.\n",
      "  ConvergenceWarning)\n",
      "/Users/Chris/anaconda3/lib/python3.7/site-packages/sklearn/linear_model/coordinate_descent.py:492: ConvergenceWarning: Objective did not converge. You might want to increase the number of iterations. Fitting data with very small alpha may cause precision problems.\n",
      "  ConvergenceWarning)\n",
      "/Users/Chris/anaconda3/lib/python3.7/site-packages/sklearn/linear_model/coordinate_descent.py:492: ConvergenceWarning: Objective did not converge. You might want to increase the number of iterations. Fitting data with very small alpha may cause precision problems.\n",
      "  ConvergenceWarning)\n",
      "/Users/Chris/anaconda3/lib/python3.7/site-packages/sklearn/linear_model/coordinate_descent.py:492: ConvergenceWarning: Objective did not converge. You might want to increase the number of iterations. Fitting data with very small alpha may cause precision problems.\n",
      "  ConvergenceWarning)\n",
      "/Users/Chris/anaconda3/lib/python3.7/site-packages/sklearn/linear_model/coordinate_descent.py:492: ConvergenceWarning: Objective did not converge. You might want to increase the number of iterations. Fitting data with very small alpha may cause precision problems.\n",
      "  ConvergenceWarning)\n",
      "/Users/Chris/anaconda3/lib/python3.7/site-packages/sklearn/linear_model/coordinate_descent.py:492: ConvergenceWarning: Objective did not converge. You might want to increase the number of iterations. Fitting data with very small alpha may cause precision problems.\n",
      "  ConvergenceWarning)\n",
      "/Users/Chris/anaconda3/lib/python3.7/site-packages/sklearn/linear_model/coordinate_descent.py:492: ConvergenceWarning: Objective did not converge. You might want to increase the number of iterations. Fitting data with very small alpha may cause precision problems.\n",
      "  ConvergenceWarning)\n",
      "/Users/Chris/anaconda3/lib/python3.7/site-packages/sklearn/linear_model/coordinate_descent.py:492: ConvergenceWarning: Objective did not converge. You might want to increase the number of iterations. Fitting data with very small alpha may cause precision problems.\n",
      "  ConvergenceWarning)\n",
      "/Users/Chris/anaconda3/lib/python3.7/site-packages/sklearn/linear_model/coordinate_descent.py:492: ConvergenceWarning: Objective did not converge. You might want to increase the number of iterations. Fitting data with very small alpha may cause precision problems.\n",
      "  ConvergenceWarning)\n",
      "/Users/Chris/anaconda3/lib/python3.7/site-packages/sklearn/linear_model/coordinate_descent.py:492: ConvergenceWarning: Objective did not converge. You might want to increase the number of iterations. Fitting data with very small alpha may cause precision problems.\n",
      "  ConvergenceWarning)\n",
      "/Users/Chris/anaconda3/lib/python3.7/site-packages/sklearn/linear_model/coordinate_descent.py:492: ConvergenceWarning: Objective did not converge. You might want to increase the number of iterations. Fitting data with very small alpha may cause precision problems.\n",
      "  ConvergenceWarning)\n",
      "/Users/Chris/anaconda3/lib/python3.7/site-packages/sklearn/linear_model/coordinate_descent.py:492: ConvergenceWarning: Objective did not converge. You might want to increase the number of iterations. Fitting data with very small alpha may cause precision problems.\n",
      "  ConvergenceWarning)\n",
      "/Users/Chris/anaconda3/lib/python3.7/site-packages/sklearn/linear_model/coordinate_descent.py:492: ConvergenceWarning: Objective did not converge. You might want to increase the number of iterations. Fitting data with very small alpha may cause precision problems.\n",
      "  ConvergenceWarning)\n",
      "/Users/Chris/anaconda3/lib/python3.7/site-packages/sklearn/linear_model/coordinate_descent.py:492: ConvergenceWarning: Objective did not converge. You might want to increase the number of iterations. Fitting data with very small alpha may cause precision problems.\n",
      "  ConvergenceWarning)\n",
      "/Users/Chris/anaconda3/lib/python3.7/site-packages/sklearn/linear_model/coordinate_descent.py:492: ConvergenceWarning: Objective did not converge. You might want to increase the number of iterations. Fitting data with very small alpha may cause precision problems.\n",
      "  ConvergenceWarning)\n",
      "/Users/Chris/anaconda3/lib/python3.7/site-packages/sklearn/linear_model/coordinate_descent.py:492: ConvergenceWarning: Objective did not converge. You might want to increase the number of iterations. Fitting data with very small alpha may cause precision problems.\n",
      "  ConvergenceWarning)\n",
      "/Users/Chris/anaconda3/lib/python3.7/site-packages/sklearn/linear_model/coordinate_descent.py:492: ConvergenceWarning: Objective did not converge. You might want to increase the number of iterations. Fitting data with very small alpha may cause precision problems.\n",
      "  ConvergenceWarning)\n",
      "/Users/Chris/anaconda3/lib/python3.7/site-packages/sklearn/linear_model/coordinate_descent.py:492: ConvergenceWarning: Objective did not converge. You might want to increase the number of iterations. Fitting data with very small alpha may cause precision problems.\n",
      "  ConvergenceWarning)\n",
      "/Users/Chris/anaconda3/lib/python3.7/site-packages/sklearn/linear_model/coordinate_descent.py:492: ConvergenceWarning: Objective did not converge. You might want to increase the number of iterations. Fitting data with very small alpha may cause precision problems.\n",
      "  ConvergenceWarning)\n",
      "/Users/Chris/anaconda3/lib/python3.7/site-packages/sklearn/linear_model/coordinate_descent.py:492: ConvergenceWarning: Objective did not converge. You might want to increase the number of iterations. Fitting data with very small alpha may cause precision problems.\n",
      "  ConvergenceWarning)\n",
      "/Users/Chris/anaconda3/lib/python3.7/site-packages/sklearn/linear_model/coordinate_descent.py:492: ConvergenceWarning: Objective did not converge. You might want to increase the number of iterations. Fitting data with very small alpha may cause precision problems.\n",
      "  ConvergenceWarning)\n",
      "/Users/Chris/anaconda3/lib/python3.7/site-packages/sklearn/linear_model/coordinate_descent.py:492: ConvergenceWarning: Objective did not converge. You might want to increase the number of iterations. Fitting data with very small alpha may cause precision problems.\n",
      "  ConvergenceWarning)\n",
      "[Parallel(n_jobs=1)]: Done 9000 out of 9000 | elapsed: 12.5min finished\n"
     ]
    },
    {
     "data": {
      "text/plain": [
       "GridSearchCV(cv=5, error_score='raise-deprecating',\n",
       "       estimator=Pipeline(memory=None,\n",
       "     steps=[('var_thresh', VarianceThreshold(threshold=0)), ('ss', StandardScaler(copy=True, with_mean=True, with_std=True)), ('kbest', SelectKBest(k=10, score_func=<function f_regression at 0x1a20415620>)), ('enet', ElasticNetCV(alphas=None, copy_X=True, cv='warn', e...ve=False, precompute='auto',\n",
       "       random_state=None, selection='random', tol=0.0001, verbose=0))]),\n",
       "       fit_params=None, iid='warn', n_jobs=None,\n",
       "       param_grid={'var_thresh__threshold': [0, 0.001, 0.2], 'kbest__k': [37, 'all'], 'enet__l1_ratio': array([0.001  , 0.00434, ..., 0.99666, 1.     ]), 'enet__n_alphas': [100], 'enet__alphas': [array([1.00000e+00, 3.19927e+00, ..., 3.12572e+49, 1.00000e+50])]},\n",
       "       pre_dispatch='2*n_jobs', refit=True, return_train_score='warn',\n",
       "       scoring='r2', verbose=1)"
      ]
     },
     "execution_count": 27,
     "metadata": {},
     "output_type": "execute_result"
    }
   ],
   "source": [
    "gs.fit(X_train, y_train)"
   ]
  },
  {
   "cell_type": "code",
   "execution_count": 31,
   "metadata": {},
   "outputs": [
    {
     "data": {
      "text/plain": [
       "{'enet__alphas': array([1.00000000e+00, 3.19926714e+00, 1.02353102e+01, 3.27454916e+01,\n",
       "        1.04761575e+02, 3.35160265e+02, 1.07226722e+03, 3.43046929e+03,\n",
       "        1.09749877e+04, 3.51119173e+04, 1.12332403e+05, 3.59381366e+05,\n",
       "        1.14975700e+06, 3.67837977e+06, 1.17681195e+07, 3.76493581e+07,\n",
       "        1.20450354e+08, 3.85352859e+08, 1.23284674e+09, 3.94420606e+09,\n",
       "        1.26185688e+10, 4.03701726e+10, 1.29154967e+11, 4.13201240e+11,\n",
       "        1.32194115e+12, 4.22924287e+12, 1.35304777e+13, 4.32876128e+13,\n",
       "        1.38488637e+14, 4.43062146e+14, 1.41747416e+15, 4.53487851e+15,\n",
       "        1.45082878e+16, 4.64158883e+16, 1.48496826e+17, 4.75081016e+17,\n",
       "        1.51991108e+18, 4.86260158e+18, 1.55567614e+19, 4.97702356e+19,\n",
       "        1.59228279e+20, 5.09413801e+20, 1.62975083e+21, 5.21400829e+21,\n",
       "        1.66810054e+22, 5.33669923e+22, 1.70735265e+23, 5.46227722e+23,\n",
       "        1.74752840e+24, 5.59081018e+24, 1.78864953e+25, 5.72236766e+25,\n",
       "        1.83073828e+26, 5.85702082e+26, 1.87381742e+27, 5.99484250e+27,\n",
       "        1.91791026e+28, 6.13590727e+28, 1.96304065e+29, 6.28029144e+29,\n",
       "        2.00923300e+30, 6.42807312e+30, 2.05651231e+31, 6.57933225e+31,\n",
       "        2.10490414e+32, 6.73415066e+32, 2.15443469e+33, 6.89261210e+33,\n",
       "        2.20513074e+34, 7.05480231e+34, 2.25701972e+35, 7.22080902e+35,\n",
       "        2.31012970e+36, 7.39072203e+36, 2.36448941e+37, 7.56463328e+37,\n",
       "        2.42012826e+38, 7.74263683e+38, 2.47707636e+39, 7.92482898e+39,\n",
       "        2.53536449e+40, 8.11130831e+40, 2.59502421e+41, 8.30217568e+41,\n",
       "        2.65608778e+42, 8.49753436e+42, 2.71858824e+43, 8.69749003e+43,\n",
       "        2.78255940e+44, 8.90215085e+44, 2.84803587e+45, 9.11162756e+45,\n",
       "        2.91505306e+46, 9.32603347e+46, 2.98364724e+47, 9.54548457e+47,\n",
       "        3.05385551e+48, 9.77009957e+48, 3.12571585e+49, 1.00000000e+50]),\n",
       " 'enet__l1_ratio': 0.48546488294314377,\n",
       " 'enet__n_alphas': 100,\n",
       " 'kbest__k': 'all',\n",
       " 'var_thresh__threshold': 0}"
      ]
     },
     "execution_count": 31,
     "metadata": {},
     "output_type": "execute_result"
    }
   ],
   "source": [
    "gs.best_params_"
   ]
  },
  {
   "cell_type": "code",
   "execution_count": 32,
   "metadata": {},
   "outputs": [
    {
     "data": {
      "text/plain": [
       "1.0"
      ]
     },
     "execution_count": 32,
     "metadata": {},
     "output_type": "execute_result"
    }
   ],
   "source": [
    "gs.best_estimator_.named_steps['enet'].alpha_"
   ]
  },
  {
   "cell_type": "code",
   "execution_count": 33,
   "metadata": {},
   "outputs": [
    {
     "data": {
      "text/plain": [
       "0.48546488294314377"
      ]
     },
     "execution_count": 33,
     "metadata": {},
     "output_type": "execute_result"
    }
   ],
   "source": [
    "gs.best_estimator_.named_steps['enet'].l1_ratio_"
   ]
  },
  {
   "cell_type": "code",
   "execution_count": 34,
   "metadata": {},
   "outputs": [],
   "source": [
    "columns = X.columns\n",
    "columns = columns[gs.best_estimator_.named_steps['var_thresh'].get_support()]\n",
    "columns = columns[gs.best_estimator_.named_steps['kbest'].get_support()]\n",
    "\n",
    "X_weights = pd.DataFrame(gs.best_estimator_.named_steps[f'{model}'].coef_, \n",
    "             index = columns, \n",
    "             columns=['weight'])\n",
    "X_weights['abs_weight'] = X_weights['weight'].abs()"
   ]
  },
  {
   "cell_type": "code",
   "execution_count": 35,
   "metadata": {},
   "outputs": [
    {
     "data": {
      "text/html": [
       "<div>\n",
       "<style scoped>\n",
       "    .dataframe tbody tr th:only-of-type {\n",
       "        vertical-align: middle;\n",
       "    }\n",
       "\n",
       "    .dataframe tbody tr th {\n",
       "        vertical-align: top;\n",
       "    }\n",
       "\n",
       "    .dataframe thead th {\n",
       "        text-align: right;\n",
       "    }\n",
       "</style>\n",
       "<table border=\"1\" class=\"dataframe\">\n",
       "  <thead>\n",
       "    <tr style=\"text-align: right;\">\n",
       "      <th></th>\n",
       "      <th>weight</th>\n",
       "      <th>abs_weight</th>\n",
       "    </tr>\n",
       "  </thead>\n",
       "  <tbody>\n",
       "    <tr>\n",
       "      <th>Roof Matl_ClyTile</th>\n",
       "      <td>-7274.839932</td>\n",
       "      <td>7274.839932</td>\n",
       "    </tr>\n",
       "    <tr>\n",
       "      <th>Gr Liv Area</th>\n",
       "      <td>6741.003379</td>\n",
       "      <td>6741.003379</td>\n",
       "    </tr>\n",
       "    <tr>\n",
       "      <th>Overall Qual</th>\n",
       "      <td>6407.924964</td>\n",
       "      <td>6407.924964</td>\n",
       "    </tr>\n",
       "    <tr>\n",
       "      <th>Kitchen Qual_Ex</th>\n",
       "      <td>5610.481204</td>\n",
       "      <td>5610.481204</td>\n",
       "    </tr>\n",
       "    <tr>\n",
       "      <th>1st Flr SF</th>\n",
       "      <td>5340.035875</td>\n",
       "      <td>5340.035875</td>\n",
       "    </tr>\n",
       "    <tr>\n",
       "      <th>Misc Feature_Elev</th>\n",
       "      <td>-5253.545527</td>\n",
       "      <td>5253.545527</td>\n",
       "    </tr>\n",
       "    <tr>\n",
       "      <th>Total Bsmt SF</th>\n",
       "      <td>4600.628589</td>\n",
       "      <td>4600.628589</td>\n",
       "    </tr>\n",
       "    <tr>\n",
       "      <th>Exter Qual_Ex</th>\n",
       "      <td>4470.286357</td>\n",
       "      <td>4470.286357</td>\n",
       "    </tr>\n",
       "    <tr>\n",
       "      <th>Bsmt Qual_Ex</th>\n",
       "      <td>4337.111322</td>\n",
       "      <td>4337.111322</td>\n",
       "    </tr>\n",
       "    <tr>\n",
       "      <th>Neighborhood_NridgHt</th>\n",
       "      <td>4260.258298</td>\n",
       "      <td>4260.258298</td>\n",
       "    </tr>\n",
       "    <tr>\n",
       "      <th>BsmtFin SF</th>\n",
       "      <td>4050.342918</td>\n",
       "      <td>4050.342918</td>\n",
       "    </tr>\n",
       "    <tr>\n",
       "      <th>Garage Area</th>\n",
       "      <td>4039.022412</td>\n",
       "      <td>4039.022412</td>\n",
       "    </tr>\n",
       "    <tr>\n",
       "      <th>Neighborhood_StoneBr</th>\n",
       "      <td>3863.002420</td>\n",
       "      <td>3863.002420</td>\n",
       "    </tr>\n",
       "    <tr>\n",
       "      <th>TotRms AbvGrd</th>\n",
       "      <td>3834.688816</td>\n",
       "      <td>3834.688816</td>\n",
       "    </tr>\n",
       "    <tr>\n",
       "      <th>Baths</th>\n",
       "      <td>3743.313319</td>\n",
       "      <td>3743.313319</td>\n",
       "    </tr>\n",
       "    <tr>\n",
       "      <th>Mas Vnr Area</th>\n",
       "      <td>3650.417852</td>\n",
       "      <td>3650.417852</td>\n",
       "    </tr>\n",
       "    <tr>\n",
       "      <th>Garage Cars</th>\n",
       "      <td>3516.133374</td>\n",
       "      <td>3516.133374</td>\n",
       "    </tr>\n",
       "    <tr>\n",
       "      <th>Bsmt Exposure_Gd</th>\n",
       "      <td>3506.282953</td>\n",
       "      <td>3506.282953</td>\n",
       "    </tr>\n",
       "    <tr>\n",
       "      <th>Neighborhood_NoRidge</th>\n",
       "      <td>3430.438793</td>\n",
       "      <td>3430.438793</td>\n",
       "    </tr>\n",
       "    <tr>\n",
       "      <th>2nd Flr SF</th>\n",
       "      <td>3424.732124</td>\n",
       "      <td>3424.732124</td>\n",
       "    </tr>\n",
       "    <tr>\n",
       "      <th>Misc Val</th>\n",
       "      <td>-3167.372702</td>\n",
       "      <td>3167.372702</td>\n",
       "    </tr>\n",
       "    <tr>\n",
       "      <th>Lot Area</th>\n",
       "      <td>2942.654887</td>\n",
       "      <td>2942.654887</td>\n",
       "    </tr>\n",
       "    <tr>\n",
       "      <th>Overall Cond</th>\n",
       "      <td>2747.063001</td>\n",
       "      <td>2747.063001</td>\n",
       "    </tr>\n",
       "    <tr>\n",
       "      <th>Exterior_Brk</th>\n",
       "      <td>2463.177559</td>\n",
       "      <td>2463.177559</td>\n",
       "    </tr>\n",
       "    <tr>\n",
       "      <th>Bsmt Fin_GLQ</th>\n",
       "      <td>2434.601135</td>\n",
       "      <td>2434.601135</td>\n",
       "    </tr>\n",
       "    <tr>\n",
       "      <th>Exter Qual_TA</th>\n",
       "      <td>-2376.596057</td>\n",
       "      <td>2376.596057</td>\n",
       "    </tr>\n",
       "    <tr>\n",
       "      <th>Sale Type_New</th>\n",
       "      <td>2319.524450</td>\n",
       "      <td>2319.524450</td>\n",
       "    </tr>\n",
       "    <tr>\n",
       "      <th>Bsmt Baths</th>\n",
       "      <td>2277.799311</td>\n",
       "      <td>2277.799311</td>\n",
       "    </tr>\n",
       "    <tr>\n",
       "      <th>Fireplaces</th>\n",
       "      <td>2239.396610</td>\n",
       "      <td>2239.396610</td>\n",
       "    </tr>\n",
       "    <tr>\n",
       "      <th>Roof Matl_WdShngl</th>\n",
       "      <td>2218.276482</td>\n",
       "      <td>2218.276482</td>\n",
       "    </tr>\n",
       "    <tr>\n",
       "      <th>...</th>\n",
       "      <td>...</td>\n",
       "      <td>...</td>\n",
       "    </tr>\n",
       "    <tr>\n",
       "      <th>Exter Cond_Gd</th>\n",
       "      <td>-136.832899</td>\n",
       "      <td>136.832899</td>\n",
       "    </tr>\n",
       "    <tr>\n",
       "      <th>Sale Type_ConLD</th>\n",
       "      <td>-129.209522</td>\n",
       "      <td>129.209522</td>\n",
       "    </tr>\n",
       "    <tr>\n",
       "      <th>Lot Config_Inside</th>\n",
       "      <td>-123.811808</td>\n",
       "      <td>123.811808</td>\n",
       "    </tr>\n",
       "    <tr>\n",
       "      <th>Neighborhood_ClearCr</th>\n",
       "      <td>114.929128</td>\n",
       "      <td>114.929128</td>\n",
       "    </tr>\n",
       "    <tr>\n",
       "      <th>MS SubClass_split_foyer</th>\n",
       "      <td>-103.659182</td>\n",
       "      <td>103.659182</td>\n",
       "    </tr>\n",
       "    <tr>\n",
       "      <th>Fence_none</th>\n",
       "      <td>-100.508520</td>\n",
       "      <td>100.508520</td>\n",
       "    </tr>\n",
       "    <tr>\n",
       "      <th>Roof Matl_Tar&amp;Grv</th>\n",
       "      <td>98.351402</td>\n",
       "      <td>98.351402</td>\n",
       "    </tr>\n",
       "    <tr>\n",
       "      <th>Neighborhood_NPkVill</th>\n",
       "      <td>-96.854002</td>\n",
       "      <td>96.854002</td>\n",
       "    </tr>\n",
       "    <tr>\n",
       "      <th>Garage Cond_none</th>\n",
       "      <td>94.160533</td>\n",
       "      <td>94.160533</td>\n",
       "    </tr>\n",
       "    <tr>\n",
       "      <th>Garage Qual_none</th>\n",
       "      <td>94.158822</td>\n",
       "      <td>94.158822</td>\n",
       "    </tr>\n",
       "    <tr>\n",
       "      <th>Garage Type_none</th>\n",
       "      <td>94.157629</td>\n",
       "      <td>94.157629</td>\n",
       "    </tr>\n",
       "    <tr>\n",
       "      <th>Garage Finish_none</th>\n",
       "      <td>94.156272</td>\n",
       "      <td>94.156272</td>\n",
       "    </tr>\n",
       "    <tr>\n",
       "      <th>Garage Cond_Gd</th>\n",
       "      <td>83.536716</td>\n",
       "      <td>83.536716</td>\n",
       "    </tr>\n",
       "    <tr>\n",
       "      <th>Garage Cond_Po</th>\n",
       "      <td>-81.418663</td>\n",
       "      <td>81.418663</td>\n",
       "    </tr>\n",
       "    <tr>\n",
       "      <th>Bsmt Qual_Po</th>\n",
       "      <td>77.067636</td>\n",
       "      <td>77.067636</td>\n",
       "    </tr>\n",
       "    <tr>\n",
       "      <th>Land Contour_Low</th>\n",
       "      <td>74.259294</td>\n",
       "      <td>74.259294</td>\n",
       "    </tr>\n",
       "    <tr>\n",
       "      <th>MS Zoning_A (agr)</th>\n",
       "      <td>-72.036967</td>\n",
       "      <td>72.036967</td>\n",
       "    </tr>\n",
       "    <tr>\n",
       "      <th>Misc Feature_none</th>\n",
       "      <td>-64.123159</td>\n",
       "      <td>64.123159</td>\n",
       "    </tr>\n",
       "    <tr>\n",
       "      <th>Paved Street</th>\n",
       "      <td>60.999333</td>\n",
       "      <td>60.999333</td>\n",
       "    </tr>\n",
       "    <tr>\n",
       "      <th>Bsmt Cond_Ex</th>\n",
       "      <td>-58.240533</td>\n",
       "      <td>58.240533</td>\n",
       "    </tr>\n",
       "    <tr>\n",
       "      <th>Functional_Min2</th>\n",
       "      <td>-52.660895</td>\n",
       "      <td>52.660895</td>\n",
       "    </tr>\n",
       "    <tr>\n",
       "      <th>Exterior_WdShing</th>\n",
       "      <td>50.486374</td>\n",
       "      <td>50.486374</td>\n",
       "    </tr>\n",
       "    <tr>\n",
       "      <th>Fence_MnPrv</th>\n",
       "      <td>-50.130938</td>\n",
       "      <td>50.130938</td>\n",
       "    </tr>\n",
       "    <tr>\n",
       "      <th>MS SubClass_1_fin_attic</th>\n",
       "      <td>48.045678</td>\n",
       "      <td>48.045678</td>\n",
       "    </tr>\n",
       "    <tr>\n",
       "      <th>Neighborhood_Timber</th>\n",
       "      <td>-32.784696</td>\n",
       "      <td>32.784696</td>\n",
       "    </tr>\n",
       "    <tr>\n",
       "      <th>Foundation_Stone</th>\n",
       "      <td>-30.967595</td>\n",
       "      <td>30.967595</td>\n",
       "    </tr>\n",
       "    <tr>\n",
       "      <th>Mas Vnr Type_BrkFace</th>\n",
       "      <td>-26.574977</td>\n",
       "      <td>26.574977</td>\n",
       "    </tr>\n",
       "    <tr>\n",
       "      <th>Neighborhood_Blueste</th>\n",
       "      <td>-25.039297</td>\n",
       "      <td>25.039297</td>\n",
       "    </tr>\n",
       "    <tr>\n",
       "      <th>Fence_GdWo</th>\n",
       "      <td>21.891885</td>\n",
       "      <td>21.891885</td>\n",
       "    </tr>\n",
       "    <tr>\n",
       "      <th>Heating_Wall</th>\n",
       "      <td>8.169816</td>\n",
       "      <td>8.169816</td>\n",
       "    </tr>\n",
       "  </tbody>\n",
       "</table>\n",
       "<p>248 rows × 2 columns</p>\n",
       "</div>"
      ],
      "text/plain": [
       "                              weight   abs_weight\n",
       "Roof Matl_ClyTile       -7274.839932  7274.839932\n",
       "Gr Liv Area              6741.003379  6741.003379\n",
       "Overall Qual             6407.924964  6407.924964\n",
       "Kitchen Qual_Ex          5610.481204  5610.481204\n",
       "1st Flr SF               5340.035875  5340.035875\n",
       "Misc Feature_Elev       -5253.545527  5253.545527\n",
       "Total Bsmt SF            4600.628589  4600.628589\n",
       "Exter Qual_Ex            4470.286357  4470.286357\n",
       "Bsmt Qual_Ex             4337.111322  4337.111322\n",
       "Neighborhood_NridgHt     4260.258298  4260.258298\n",
       "BsmtFin SF               4050.342918  4050.342918\n",
       "Garage Area              4039.022412  4039.022412\n",
       "Neighborhood_StoneBr     3863.002420  3863.002420\n",
       "TotRms AbvGrd            3834.688816  3834.688816\n",
       "Baths                    3743.313319  3743.313319\n",
       "Mas Vnr Area             3650.417852  3650.417852\n",
       "Garage Cars              3516.133374  3516.133374\n",
       "Bsmt Exposure_Gd         3506.282953  3506.282953\n",
       "Neighborhood_NoRidge     3430.438793  3430.438793\n",
       "2nd Flr SF               3424.732124  3424.732124\n",
       "Misc Val                -3167.372702  3167.372702\n",
       "Lot Area                 2942.654887  2942.654887\n",
       "Overall Cond             2747.063001  2747.063001\n",
       "Exterior_Brk             2463.177559  2463.177559\n",
       "Bsmt Fin_GLQ             2434.601135  2434.601135\n",
       "Exter Qual_TA           -2376.596057  2376.596057\n",
       "Sale Type_New            2319.524450  2319.524450\n",
       "Bsmt Baths               2277.799311  2277.799311\n",
       "Fireplaces               2239.396610  2239.396610\n",
       "Roof Matl_WdShngl        2218.276482  2218.276482\n",
       "...                              ...          ...\n",
       "Exter Cond_Gd            -136.832899   136.832899\n",
       "Sale Type_ConLD          -129.209522   129.209522\n",
       "Lot Config_Inside        -123.811808   123.811808\n",
       "Neighborhood_ClearCr      114.929128   114.929128\n",
       "MS SubClass_split_foyer  -103.659182   103.659182\n",
       "Fence_none               -100.508520   100.508520\n",
       "Roof Matl_Tar&Grv          98.351402    98.351402\n",
       "Neighborhood_NPkVill      -96.854002    96.854002\n",
       "Garage Cond_none           94.160533    94.160533\n",
       "Garage Qual_none           94.158822    94.158822\n",
       "Garage Type_none           94.157629    94.157629\n",
       "Garage Finish_none         94.156272    94.156272\n",
       "Garage Cond_Gd             83.536716    83.536716\n",
       "Garage Cond_Po            -81.418663    81.418663\n",
       "Bsmt Qual_Po               77.067636    77.067636\n",
       "Land Contour_Low           74.259294    74.259294\n",
       "MS Zoning_A (agr)         -72.036967    72.036967\n",
       "Misc Feature_none         -64.123159    64.123159\n",
       "Paved Street               60.999333    60.999333\n",
       "Bsmt Cond_Ex              -58.240533    58.240533\n",
       "Functional_Min2           -52.660895    52.660895\n",
       "Exterior_WdShing           50.486374    50.486374\n",
       "Fence_MnPrv               -50.130938    50.130938\n",
       "MS SubClass_1_fin_attic    48.045678    48.045678\n",
       "Neighborhood_Timber       -32.784696    32.784696\n",
       "Foundation_Stone          -30.967595    30.967595\n",
       "Mas Vnr Type_BrkFace      -26.574977    26.574977\n",
       "Neighborhood_Blueste      -25.039297    25.039297\n",
       "Fence_GdWo                 21.891885    21.891885\n",
       "Heating_Wall                8.169816     8.169816\n",
       "\n",
       "[248 rows x 2 columns]"
      ]
     },
     "execution_count": 35,
     "metadata": {},
     "output_type": "execute_result"
    }
   ],
   "source": [
    "X_weights.sort_values(['abs_weight'],ascending=False)"
   ]
  },
  {
   "cell_type": "code",
   "execution_count": 19,
   "metadata": {},
   "outputs": [],
   "source": [
    "def md_coef_table(labels, weights):\n",
    "    print('| feature | weight |\\n| --- | --- |')\n",
    "    for i in range(len(labels)):\n",
    "        print(f'| {labels[i]} | {weights[i]:.2e} |')"
   ]
  },
  {
   "cell_type": "code",
   "execution_count": null,
   "metadata": {},
   "outputs": [],
   "source": [
    "weights = X_weights.sort_values('abs_weight', ascending=False)['weight']\n",
    "labels = weights.index"
   ]
  },
  {
   "cell_type": "code",
   "execution_count": 20,
   "metadata": {},
   "outputs": [
    {
     "name": "stdout",
     "output_type": "stream",
     "text": [
      "| feature | weight |\n",
      "| --- | --- |\n",
      "| Gr Liv Area | 7.00e+16 |\n",
      "| 2nd Flr SF | -5.88e+16 |\n",
      "| 1st Flr SF | -5.58e+16 |\n",
      "| BsmtFin SF 1 | 4.96e+16 |\n",
      "| Total Bsmt SF | -4.82e+16 |\n",
      "| Bsmt Unf SF | 4.69e+16 |\n",
      "| BsmtFin SF 2 | 1.80e+16 |\n",
      "| Low Qual Fin SF | -7.29e+15 |\n"
     ]
    }
   ],
   "source": [
    "md_coef_table(labels, weights);"
   ]
  },
  {
   "cell_type": "code",
   "execution_count": 36,
   "metadata": {},
   "outputs": [
    {
     "data": {
      "text/plain": [
       "180368.8058631922"
      ]
     },
     "execution_count": 36,
     "metadata": {},
     "output_type": "execute_result"
    }
   ],
   "source": [
    "beta0 = gs.best_estimator_.named_steps[f'{model}'].intercept_\n",
    "beta0"
   ]
  },
  {
   "cell_type": "code",
   "execution_count": 37,
   "metadata": {},
   "outputs": [
    {
     "data": {
      "text/plain": [
       "0.9160891332278907"
      ]
     },
     "execution_count": 37,
     "metadata": {},
     "output_type": "execute_result"
    }
   ],
   "source": [
    "gs.score(X_train,y_train)"
   ]
  },
  {
   "cell_type": "code",
   "execution_count": 38,
   "metadata": {},
   "outputs": [
    {
     "data": {
      "text/plain": [
       "0.9238392845505359"
      ]
     },
     "execution_count": 38,
     "metadata": {},
     "output_type": "execute_result"
    }
   ],
   "source": [
    "gs.score(X_test,y_test)"
   ]
  },
  {
   "cell_type": "code",
   "execution_count": 39,
   "metadata": {},
   "outputs": [],
   "source": [
    "preds = gs.predict(X_test)"
   ]
  },
  {
   "cell_type": "code",
   "execution_count": 40,
   "metadata": {},
   "outputs": [
    {
     "data": {
      "text/plain": [
       "0.9095696486532536"
      ]
     },
     "execution_count": 40,
     "metadata": {},
     "output_type": "execute_result"
    }
   ],
   "source": [
    "r2_score(preds, y_test)"
   ]
  },
  {
   "cell_type": "code",
   "execution_count": 41,
   "metadata": {},
   "outputs": [
    {
     "data": {
      "text/plain": [
       "22902.218152827776"
      ]
     },
     "execution_count": 41,
     "metadata": {},
     "output_type": "execute_result"
    }
   ],
   "source": [
    "(mean_squared_error(preds, y_test))**.5"
   ]
  },
  {
   "cell_type": "markdown",
   "metadata": {},
   "source": [
    "This model originally performed worse than the lr model, as indicated by a lower r2 score and a higher RMSE. This is likely due to the need for more feature regularization. A full lasso model may be beter suited for modeling this dataset. Which we showed in Notebook 03d. After re-running with more broad hyperparameters we increased perfomance to an r2 of 90.57 and rmse of 22902.22."
   ]
  },
  {
   "cell_type": "code",
   "execution_count": 42,
   "metadata": {},
   "outputs": [
    {
     "data": {
      "text/plain": [
       "<matplotlib.legend.Legend at 0x1a24b622e8>"
      ]
     },
     "execution_count": 42,
     "metadata": {},
     "output_type": "execute_result"
    },
    {
     "data": {
      "image/png": "[encoded data removed]",
      "text/plain": [
       "<Figure size 1152x648 with 1 Axes>"
      ]
     },
     "metadata": {
      "needs_background": "light"
     },
     "output_type": "display_data"
    }
   ],
   "source": [
    "plt.figure(figsize=(16,9))\n",
    "plt.title(f'Predicted vs. True: ElasticNetCV \\nRMSE: {mean_squared_error(y_test, gs.predict(X_test))**.5:.2f}', fontsize=30);\n",
    "\n",
    "plt.scatter(y_test, gs.predict(X_test))\n",
    "plt.plot([0, 600000], [0, 600000], color='r')\n",
    "\n",
    "plt.ylabel('Predicted', fontsize=20)\n",
    "plt.xlabel('True', fontsize=20)\n",
    "plt.legend(['Actual'])\n",
    " \n",
    "    \n",
    "#plt.savefig('../images/enet_preds979.png', dpi=300)"
   ]
  },
  {
   "cell_type": "markdown",
   "metadata": {},
   "source": [
    "The model seems to predict more consistently above \\\\$280000 however there is a larger error above $400000"
   ]
  },
  {
   "cell_type": "markdown",
   "metadata": {},
   "source": [
    "## Plotting Beta Weights"
   ]
  },
  {
   "cell_type": "code",
   "execution_count": 43,
   "metadata": {},
   "outputs": [
    {
     "data": {
      "image/png": "[encoded data removed]",
      "text/plain": [
       "<Figure size 1440x720 with 1 Axes>"
      ]
     },
     "metadata": {
      "needs_background": "light"
     },
     "output_type": "display_data"
    }
   ],
   "source": [
    "weights = X_weights.sort_values('abs_weight', ascending=False)['weight'].head(10)\n",
    "beta_0 = gs.best_estimator_.named_steps[f'{model}'].intercept_\n",
    "labels = weights.index\n",
    "\n",
    "plt.figure(figsize=(20,10))\n",
    "plt.barh(labels, weights)\n",
    "plt.yticks(fontsize=20)\n",
    "plt.xticks(fontsize=20)\n",
    "plt.xlabel('Weights', fontsize=30)\n",
    "plt.title(f'Most Important Features and Weights\\ny intercept: ${beta_0:0.02f}', fontsize=42)\n",
    "plt.tight_layout()\n",
    "\n",
    "#plt.savefig('../images/enet979.png', dpi=300)"
   ]
  },
  {
   "cell_type": "markdown",
   "metadata": {},
   "source": [
    "This model puts much less emphasis on garage related features, although Clay Tile does seem to have a surprisingly large negative impact on home value."
   ]
  },
  {
   "cell_type": "code",
   "execution_count": 44,
   "metadata": {},
   "outputs": [
    {
     "data": {
      "text/plain": [
       "(512, 254)"
      ]
     },
     "execution_count": 44,
     "metadata": {},
     "output_type": "execute_result"
    }
   ],
   "source": [
    "X_test.shape"
   ]
  },
  {
   "cell_type": "markdown",
   "metadata": {},
   "source": [
    "# Saving out column names and scaled data for use in future models."
   ]
  },
  {
   "cell_type": "markdown",
   "metadata": {},
   "source": [
    "Function to save out files with a clear description of each run. Source: Douglas Strodman."
   ]
  },
  {
   "cell_type": "code",
   "execution_count": 45,
   "metadata": {},
   "outputs": [],
   "source": [
    "def filename_format_log(file_path, \n",
    "                        logfile='../assets/file_log.txt',\n",
    "                        now=round(time.time()), \n",
    "                        file_description=None): \n",
    "    try:\n",
    "        ext = re.search('(?<!^)(?<!\\.)\\.(?!\\.)', file_path).start() \n",
    "    except:\n",
    "        raise NameError('Please enter a relative path with a file extension.') \n",
    "    formatted_name = f'{file_path[:ext]}_{now}{file_path[ext:]}' \n",
    "    if not file_description:\n",
    "        file_description = input('Please provide a brief description: ')\n",
    "    with open(logfile, 'a+') as f:\n",
    "        f.write(f'{formatted_name}: {file_description}\\n')\n",
    "    return formatted_name, now, file_description"
   ]
  },
  {
   "cell_type": "markdown",
   "metadata": {},
   "source": [
    "Saving columns that were retained by the model"
   ]
  },
  {
   "cell_type": "code",
   "execution_count": 46,
   "metadata": {},
   "outputs": [],
   "source": [
    "columns = X_train.columns"
   ]
  },
  {
   "cell_type": "code",
   "execution_count": 47,
   "metadata": {},
   "outputs": [
    {
     "name": "stdin",
     "output_type": "stream",
     "text": [
      "Please provide a brief description:  enet 'enet__l1_ratio': 0.48546488294314377,  'enet__n_alphas': 100,  'kbest__k': 'all',\n"
     ]
    }
   ],
   "source": [
    "formatted_name, now, file_description= filename_format_log('../assets/columns.pkl')\n",
    "\n",
    "with open(formatted_name, 'wb+') as f:\n",
    "    pickle.dump(columns, f)"
   ]
  },
  {
   "cell_type": "code",
   "execution_count": 48,
   "metadata": {},
   "outputs": [],
   "source": [
    "formatted_name, _, _= filename_format_log('../assets/gs.pkl', now=now, file_description=file_description)\n",
    "\n",
    "with open(formatted_name, 'wb+') as f:\n",
    "    pickle.dump(gs, f)"
   ]
  },
  {
   "cell_type": "markdown",
   "metadata": {},
   "source": [
    "# Continue to NOTEBOOK 03d: MODELING - LassoCV"
   ]
  }
 ],
 "metadata": {
  "kernelspec": {
   "display_name": "Python 3",
   "language": "python",
   "name": "python3"
  },
  "language_info": {
   "codemirror_mode": {
    "name": "ipython",
    "version": 3
   },
   "file_extension": ".py",
   "mimetype": "text/x-python",
   "name": "python",
   "nbconvert_exporter": "python",
   "pygments_lexer": "ipython3",
   "version": "3.7.0"
  }
 },
 "nbformat": 4,
 "nbformat_minor": 2
}
