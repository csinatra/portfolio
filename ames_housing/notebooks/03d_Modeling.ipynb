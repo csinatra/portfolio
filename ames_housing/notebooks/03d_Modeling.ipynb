{
 "cells": [
  {
   "cell_type": "markdown",
   "metadata": {},
   "source": [
    "# NOTEBOOK 3c: MODELING - LassoCV"
   ]
  },
  {
   "cell_type": "markdown",
   "metadata": {},
   "source": [
    "Since the ElasticNet l1_ratio stongly favored Lasso regression we will implement the LassoCV algorithm to try and fine-tune our predictions. "
   ]
  },
  {
   "cell_type": "code",
   "execution_count": 1,
   "metadata": {},
   "outputs": [],
   "source": [
    "import pandas as pd\n",
    "import numpy as np\n",
    "import matplotlib.pyplot as plt\n",
    "import seaborn as sns\n",
    "import csv\n",
    "import pickle\n",
    "import re\n",
    "import time\n",
    "\n",
    "from scipy import stats\n",
    "from sklearn.pipeline import Pipeline\n",
    "from sklearn.preprocessing import StandardScaler\n",
    "from sklearn.feature_selection import VarianceThreshold, SelectKBest, SelectPercentile, SelectFromModel, f_regression, RFECV\n",
    "from sklearn.linear_model import LinearRegression, LassoCV, RidgeCV, ElasticNetCV\n",
    "from sklearn.model_selection import train_test_split, cross_val_score, GridSearchCV, RandomizedSearchCV\n",
    "from sklearn.metrics import r2_score, mean_squared_error\n",
    "from sklearn.neighbors import KNeighborsRegressor\n",
    "\n",
    "import warnings\n",
    "warnings.simplefilter(action='ignore', category=FutureWarning)\n",
    "warnings.simplefilter(action='ignore', category=DeprecationWarning)\n",
    "\n",
    "np.random.seed(42)\n",
    "\n",
    "%matplotlib inline"
   ]
  },
  {
   "cell_type": "markdown",
   "metadata": {},
   "source": [
    "Loading the clean training data from Notebook 02"
   ]
  },
  {
   "cell_type": "code",
   "execution_count": 2,
   "metadata": {},
   "outputs": [],
   "source": [
    "df = pd.read_csv('../data/train_clean.csv', index_col='Id', na_filter=False)"
   ]
  },
  {
   "cell_type": "code",
   "execution_count": 3,
   "metadata": {},
   "outputs": [
    {
     "data": {
      "text/html": [
       "<div>\n",
       "<style scoped>\n",
       "    .dataframe tbody tr th:only-of-type {\n",
       "        vertical-align: middle;\n",
       "    }\n",
       "\n",
       "    .dataframe tbody tr th {\n",
       "        vertical-align: top;\n",
       "    }\n",
       "\n",
       "    .dataframe thead th {\n",
       "        text-align: right;\n",
       "    }\n",
       "</style>\n",
       "<table border=\"1\" class=\"dataframe\">\n",
       "  <thead>\n",
       "    <tr style=\"text-align: right;\">\n",
       "      <th></th>\n",
       "      <th>Lot Frontage</th>\n",
       "      <th>Lot Area</th>\n",
       "      <th>Overall Qual</th>\n",
       "      <th>Overall Cond</th>\n",
       "      <th>Year Built</th>\n",
       "      <th>Year Remod/Add</th>\n",
       "      <th>Mas Vnr Area</th>\n",
       "      <th>Bsmt Unf SF</th>\n",
       "      <th>Total Bsmt SF</th>\n",
       "      <th>Central Air</th>\n",
       "      <th>...</th>\n",
       "      <th>Misc Feature_none</th>\n",
       "      <th>Sale Type_COD</th>\n",
       "      <th>Sale Type_CWD</th>\n",
       "      <th>Sale Type_Con</th>\n",
       "      <th>Sale Type_ConLD</th>\n",
       "      <th>Sale Type_ConLI</th>\n",
       "      <th>Sale Type_ConLw</th>\n",
       "      <th>Sale Type_New</th>\n",
       "      <th>Sale Type_Oth</th>\n",
       "      <th>Sale Type_WD</th>\n",
       "    </tr>\n",
       "    <tr>\n",
       "      <th>Id</th>\n",
       "      <th></th>\n",
       "      <th></th>\n",
       "      <th></th>\n",
       "      <th></th>\n",
       "      <th></th>\n",
       "      <th></th>\n",
       "      <th></th>\n",
       "      <th></th>\n",
       "      <th></th>\n",
       "      <th></th>\n",
       "      <th></th>\n",
       "      <th></th>\n",
       "      <th></th>\n",
       "      <th></th>\n",
       "      <th></th>\n",
       "      <th></th>\n",
       "      <th></th>\n",
       "      <th></th>\n",
       "      <th></th>\n",
       "      <th></th>\n",
       "      <th></th>\n",
       "    </tr>\n",
       "  </thead>\n",
       "  <tbody>\n",
       "    <tr>\n",
       "      <th>109</th>\n",
       "      <td>0.0</td>\n",
       "      <td>13517</td>\n",
       "      <td>6</td>\n",
       "      <td>8</td>\n",
       "      <td>1976</td>\n",
       "      <td>2005</td>\n",
       "      <td>289.0</td>\n",
       "      <td>192.0</td>\n",
       "      <td>725.0</td>\n",
       "      <td>1</td>\n",
       "      <td>...</td>\n",
       "      <td>1</td>\n",
       "      <td>0</td>\n",
       "      <td>0</td>\n",
       "      <td>0</td>\n",
       "      <td>0</td>\n",
       "      <td>0</td>\n",
       "      <td>0</td>\n",
       "      <td>0</td>\n",
       "      <td>0</td>\n",
       "      <td>1</td>\n",
       "    </tr>\n",
       "    <tr>\n",
       "      <th>544</th>\n",
       "      <td>43.0</td>\n",
       "      <td>11492</td>\n",
       "      <td>7</td>\n",
       "      <td>5</td>\n",
       "      <td>1996</td>\n",
       "      <td>1997</td>\n",
       "      <td>132.0</td>\n",
       "      <td>276.0</td>\n",
       "      <td>913.0</td>\n",
       "      <td>1</td>\n",
       "      <td>...</td>\n",
       "      <td>1</td>\n",
       "      <td>0</td>\n",
       "      <td>0</td>\n",
       "      <td>0</td>\n",
       "      <td>0</td>\n",
       "      <td>0</td>\n",
       "      <td>0</td>\n",
       "      <td>0</td>\n",
       "      <td>0</td>\n",
       "      <td>1</td>\n",
       "    </tr>\n",
       "    <tr>\n",
       "      <th>153</th>\n",
       "      <td>68.0</td>\n",
       "      <td>7922</td>\n",
       "      <td>5</td>\n",
       "      <td>7</td>\n",
       "      <td>1953</td>\n",
       "      <td>2007</td>\n",
       "      <td>0.0</td>\n",
       "      <td>326.0</td>\n",
       "      <td>1057.0</td>\n",
       "      <td>1</td>\n",
       "      <td>...</td>\n",
       "      <td>1</td>\n",
       "      <td>0</td>\n",
       "      <td>0</td>\n",
       "      <td>0</td>\n",
       "      <td>0</td>\n",
       "      <td>0</td>\n",
       "      <td>0</td>\n",
       "      <td>0</td>\n",
       "      <td>0</td>\n",
       "      <td>1</td>\n",
       "    </tr>\n",
       "    <tr>\n",
       "      <th>318</th>\n",
       "      <td>73.0</td>\n",
       "      <td>9802</td>\n",
       "      <td>5</td>\n",
       "      <td>5</td>\n",
       "      <td>2006</td>\n",
       "      <td>2007</td>\n",
       "      <td>0.0</td>\n",
       "      <td>384.0</td>\n",
       "      <td>384.0</td>\n",
       "      <td>1</td>\n",
       "      <td>...</td>\n",
       "      <td>1</td>\n",
       "      <td>0</td>\n",
       "      <td>0</td>\n",
       "      <td>0</td>\n",
       "      <td>0</td>\n",
       "      <td>0</td>\n",
       "      <td>0</td>\n",
       "      <td>0</td>\n",
       "      <td>0</td>\n",
       "      <td>1</td>\n",
       "    </tr>\n",
       "    <tr>\n",
       "      <th>255</th>\n",
       "      <td>82.0</td>\n",
       "      <td>14235</td>\n",
       "      <td>6</td>\n",
       "      <td>8</td>\n",
       "      <td>1900</td>\n",
       "      <td>1993</td>\n",
       "      <td>0.0</td>\n",
       "      <td>676.0</td>\n",
       "      <td>676.0</td>\n",
       "      <td>1</td>\n",
       "      <td>...</td>\n",
       "      <td>1</td>\n",
       "      <td>0</td>\n",
       "      <td>0</td>\n",
       "      <td>0</td>\n",
       "      <td>0</td>\n",
       "      <td>0</td>\n",
       "      <td>0</td>\n",
       "      <td>0</td>\n",
       "      <td>0</td>\n",
       "      <td>1</td>\n",
       "    </tr>\n",
       "  </tbody>\n",
       "</table>\n",
       "<p>5 rows × 255 columns</p>\n",
       "</div>"
      ],
      "text/plain": [
       "     Lot Frontage  Lot Area  Overall Qual  Overall Cond  Year Built  \\\n",
       "Id                                                                    \n",
       "109           0.0     13517             6             8        1976   \n",
       "544          43.0     11492             7             5        1996   \n",
       "153          68.0      7922             5             7        1953   \n",
       "318          73.0      9802             5             5        2006   \n",
       "255          82.0     14235             6             8        1900   \n",
       "\n",
       "     Year Remod/Add  Mas Vnr Area  Bsmt Unf SF  Total Bsmt SF  Central Air  \\\n",
       "Id                                                                           \n",
       "109            2005         289.0        192.0          725.0            1   \n",
       "544            1997         132.0        276.0          913.0            1   \n",
       "153            2007           0.0        326.0         1057.0            1   \n",
       "318            2007           0.0        384.0          384.0            1   \n",
       "255            1993           0.0        676.0          676.0            1   \n",
       "\n",
       "         ...        Misc Feature_none  Sale Type_COD  Sale Type_CWD  \\\n",
       "Id       ...                                                          \n",
       "109      ...                        1              0              0   \n",
       "544      ...                        1              0              0   \n",
       "153      ...                        1              0              0   \n",
       "318      ...                        1              0              0   \n",
       "255      ...                        1              0              0   \n",
       "\n",
       "     Sale Type_Con  Sale Type_ConLD  Sale Type_ConLI  Sale Type_ConLw  \\\n",
       "Id                                                                      \n",
       "109              0                0                0                0   \n",
       "544              0                0                0                0   \n",
       "153              0                0                0                0   \n",
       "318              0                0                0                0   \n",
       "255              0                0                0                0   \n",
       "\n",
       "     Sale Type_New  Sale Type_Oth  Sale Type_WD   \n",
       "Id                                                \n",
       "109              0              0              1  \n",
       "544              0              0              1  \n",
       "153              0              0              1  \n",
       "318              0              0              1  \n",
       "255              0              0              1  \n",
       "\n",
       "[5 rows x 255 columns]"
      ]
     },
     "execution_count": 3,
     "metadata": {},
     "output_type": "execute_result"
    }
   ],
   "source": [
    "df.head()"
   ]
  },
  {
   "cell_type": "code",
   "execution_count": 4,
   "metadata": {},
   "outputs": [],
   "source": [
    "X = df.drop(['SalePrice'],axis=1)\n",
    "y = df['SalePrice']\n",
    "\n",
    "X_train, X_test, y_train, y_test = train_test_split(X, y)"
   ]
  },
  {
   "cell_type": "code",
   "execution_count": 5,
   "metadata": {},
   "outputs": [],
   "source": [
    "model = 'lasso'"
   ]
  },
  {
   "cell_type": "code",
   "execution_count": 6,
   "metadata": {},
   "outputs": [],
   "source": [
    "pipe = Pipeline([\n",
    "    ('var_thresh', VarianceThreshold(0)),\n",
    "    ('ss', StandardScaler()),\n",
    "    ('kbest', SelectKBest(f_regression, k=37)),\n",
    "#    ('enet', ElasticNetCV()),\n",
    "    ('lasso', LassoCV()),\n",
    "#     ('ridge', RidgeCV()),\n",
    "#     ('knn', KNeighborsRegressor),\n",
    "])\n"
   ]
  },
  {
   "cell_type": "code",
   "execution_count": 7,
   "metadata": {},
   "outputs": [
    {
     "data": {
      "text/plain": [
       "Pipeline(memory=None,\n",
       "     steps=[('var_thresh', VarianceThreshold(threshold=0)), ('ss', StandardScaler(copy=True, with_mean=True, with_std=True)), ('kbest', SelectKBest(k=37, score_func=<function f_regression at 0x1a22f62620>)), ('lasso', LassoCV(alphas=None, copy_X=True, cv='warn', eps=0.001, fit_intercept=True,\n",
       "    max_iter=1000, n_alphas=100, n_jobs=None, normalize=False,\n",
       "    positive=False, precompute='auto', random_state=None,\n",
       "    selection='cyclic', tol=0.0001, verbose=False))])"
      ]
     },
     "execution_count": 7,
     "metadata": {},
     "output_type": "execute_result"
    }
   ],
   "source": [
    "pipe.fit(X_train,y_train)"
   ]
  },
  {
   "cell_type": "code",
   "execution_count": 8,
   "metadata": {},
   "outputs": [
    {
     "data": {
      "text/plain": [
       "0.8393892080135616"
      ]
     },
     "execution_count": 8,
     "metadata": {},
     "output_type": "execute_result"
    }
   ],
   "source": [
    "pipe.score(X_train,y_train)"
   ]
  },
  {
   "cell_type": "code",
   "execution_count": 9,
   "metadata": {},
   "outputs": [
    {
     "data": {
      "text/plain": [
       "0.883067189406049"
      ]
     },
     "execution_count": 9,
     "metadata": {},
     "output_type": "execute_result"
    }
   ],
   "source": [
    "pipe.score(X_test,y_test)"
   ]
  },
  {
   "cell_type": "markdown",
   "metadata": {},
   "source": [
    "The unfit Lasso model performs much better than the ElasticNet unfit pipe score."
   ]
  },
  {
   "cell_type": "code",
   "execution_count": 10,
   "metadata": {},
   "outputs": [],
   "source": [
    "params = {\n",
    "    'var_thresh__threshold': [0,.001,.01,.02,.05],\n",
    "    'kbest__k': [5,7,13,17,23,37,53,79,'all'],\n",
    "    'lasso__n_alphas': [1000],\n",
    "}"
   ]
  },
  {
   "cell_type": "markdown",
   "metadata": {},
   "source": [
    "We will search over 1000 alphas to optimize our mode fit."
   ]
  },
  {
   "cell_type": "code",
   "execution_count": 11,
   "metadata": {},
   "outputs": [],
   "source": [
    "gs = GridSearchCV(pipe, params, cv=5, scoring='r2', verbose=1)"
   ]
  },
  {
   "cell_type": "code",
   "execution_count": 12,
   "metadata": {},
   "outputs": [
    {
     "name": "stdout",
     "output_type": "stream",
     "text": [
      "Fitting 5 folds for each of 45 candidates, totalling 225 fits\n"
     ]
    },
    {
     "name": "stderr",
     "output_type": "stream",
     "text": [
      "[Parallel(n_jobs=1)]: Using backend SequentialBackend with 1 concurrent workers.\n",
      "[Parallel(n_jobs=1)]: Done 225 out of 225 | elapsed:  2.0min finished\n"
     ]
    },
    {
     "data": {
      "text/plain": [
       "GridSearchCV(cv=5, error_score='raise-deprecating',\n",
       "       estimator=Pipeline(memory=None,\n",
       "     steps=[('var_thresh', VarianceThreshold(threshold=0)), ('ss', StandardScaler(copy=True, with_mean=True, with_std=True)), ('kbest', SelectKBest(k=37, score_func=<function f_regression at 0x1a22f62620>)), ('lasso', LassoCV(alphas=None, copy_X=True, cv='warn', eps=0.001, fit_intercept=True,\n",
       "    max_iter=1000, n_alphas=100, n_jobs=None, normalize=False,\n",
       "    positive=False, precompute='auto', random_state=None,\n",
       "    selection='cyclic', tol=0.0001, verbose=False))]),\n",
       "       fit_params=None, iid='warn', n_jobs=None,\n",
       "       param_grid={'var_thresh__threshold': [0, 0.001, 0.01, 0.02, 0.05], 'kbest__k': [5, 7, 13, 17, 23, 37, 53, 79, 'all'], 'lasso__n_alphas': [1000]},\n",
       "       pre_dispatch='2*n_jobs', refit=True, return_train_score='warn',\n",
       "       scoring='r2', verbose=1)"
      ]
     },
     "execution_count": 12,
     "metadata": {},
     "output_type": "execute_result"
    }
   ],
   "source": [
    "gs.fit(X_train, y_train)"
   ]
  },
  {
   "cell_type": "code",
   "execution_count": 13,
   "metadata": {},
   "outputs": [
    {
     "data": {
      "text/plain": [
       "{'kbest__k': 'all', 'lasso__n_alphas': 1000, 'var_thresh__threshold': 0}"
      ]
     },
     "execution_count": 13,
     "metadata": {},
     "output_type": "execute_result"
    }
   ],
   "source": [
    "gs.best_params_"
   ]
  },
  {
   "cell_type": "code",
   "execution_count": 14,
   "metadata": {},
   "outputs": [
    {
     "data": {
      "text/plain": [
       "1019.9537141596129"
      ]
     },
     "execution_count": 14,
     "metadata": {},
     "output_type": "execute_result"
    }
   ],
   "source": [
    "gs.best_estimator_.named_steps['lasso'].alpha_"
   ]
  },
  {
   "cell_type": "code",
   "execution_count": 15,
   "metadata": {},
   "outputs": [],
   "source": [
    "columns = X.columns\n",
    "columns = columns[gs.best_estimator_.named_steps['var_thresh'].get_support()]\n",
    "columns = columns[gs.best_estimator_.named_steps['kbest'].get_support()]\n",
    "\n",
    "X_weights = pd.DataFrame(gs.best_estimator_.named_steps[f'{model}'].coef_, \n",
    "             index = columns, \n",
    "             columns=['weight'])\n",
    "X_weights['abs_weight'] = X_weights['weight'].abs()"
   ]
  },
  {
   "cell_type": "code",
   "execution_count": 16,
   "metadata": {},
   "outputs": [
    {
     "data": {
      "text/html": [
       "<div>\n",
       "<style scoped>\n",
       "    .dataframe tbody tr th:only-of-type {\n",
       "        vertical-align: middle;\n",
       "    }\n",
       "\n",
       "    .dataframe tbody tr th {\n",
       "        vertical-align: top;\n",
       "    }\n",
       "\n",
       "    .dataframe thead th {\n",
       "        text-align: right;\n",
       "    }\n",
       "</style>\n",
       "<table border=\"1\" class=\"dataframe\">\n",
       "  <thead>\n",
       "    <tr style=\"text-align: right;\">\n",
       "      <th></th>\n",
       "      <th>weight</th>\n",
       "      <th>abs_weight</th>\n",
       "    </tr>\n",
       "  </thead>\n",
       "  <tbody>\n",
       "    <tr>\n",
       "      <th>Gr Liv Area</th>\n",
       "      <td>21734.381695</td>\n",
       "      <td>21734.381695</td>\n",
       "    </tr>\n",
       "    <tr>\n",
       "      <th>Roof Matl_ClyTile</th>\n",
       "      <td>-14337.323352</td>\n",
       "      <td>14337.323352</td>\n",
       "    </tr>\n",
       "    <tr>\n",
       "      <th>Overall Qual</th>\n",
       "      <td>12668.845549</td>\n",
       "      <td>12668.845549</td>\n",
       "    </tr>\n",
       "    <tr>\n",
       "      <th>Misc Feature_Elev</th>\n",
       "      <td>-11878.158808</td>\n",
       "      <td>11878.158808</td>\n",
       "    </tr>\n",
       "    <tr>\n",
       "      <th>BsmtFin SF</th>\n",
       "      <td>7608.951044</td>\n",
       "      <td>7608.951044</td>\n",
       "    </tr>\n",
       "    <tr>\n",
       "      <th>Kitchen Qual_Ex</th>\n",
       "      <td>7281.556933</td>\n",
       "      <td>7281.556933</td>\n",
       "    </tr>\n",
       "    <tr>\n",
       "      <th>Year Built</th>\n",
       "      <td>6874.679671</td>\n",
       "      <td>6874.679671</td>\n",
       "    </tr>\n",
       "    <tr>\n",
       "      <th>Total Bsmt SF</th>\n",
       "      <td>6384.445430</td>\n",
       "      <td>6384.445430</td>\n",
       "    </tr>\n",
       "    <tr>\n",
       "      <th>Garage Area</th>\n",
       "      <td>5755.149271</td>\n",
       "      <td>5755.149271</td>\n",
       "    </tr>\n",
       "    <tr>\n",
       "      <th>Bldg Type_1Fam</th>\n",
       "      <td>5301.715616</td>\n",
       "      <td>5301.715616</td>\n",
       "    </tr>\n",
       "    <tr>\n",
       "      <th>Bsmt Qual_Ex</th>\n",
       "      <td>5208.936370</td>\n",
       "      <td>5208.936370</td>\n",
       "    </tr>\n",
       "    <tr>\n",
       "      <th>Exter Qual_Ex</th>\n",
       "      <td>4804.393960</td>\n",
       "      <td>4804.393960</td>\n",
       "    </tr>\n",
       "    <tr>\n",
       "      <th>Neighborhood_NridgHt</th>\n",
       "      <td>4580.236876</td>\n",
       "      <td>4580.236876</td>\n",
       "    </tr>\n",
       "    <tr>\n",
       "      <th>Lot Area</th>\n",
       "      <td>4539.527301</td>\n",
       "      <td>4539.527301</td>\n",
       "    </tr>\n",
       "    <tr>\n",
       "      <th>Neighborhood_StoneBr</th>\n",
       "      <td>4295.411034</td>\n",
       "      <td>4295.411034</td>\n",
       "    </tr>\n",
       "    <tr>\n",
       "      <th>Overall Cond</th>\n",
       "      <td>4250.874265</td>\n",
       "      <td>4250.874265</td>\n",
       "    </tr>\n",
       "    <tr>\n",
       "      <th>Bsmt Exposure_Gd</th>\n",
       "      <td>4074.220586</td>\n",
       "      <td>4074.220586</td>\n",
       "    </tr>\n",
       "    <tr>\n",
       "      <th>Sale Type_New</th>\n",
       "      <td>3852.550566</td>\n",
       "      <td>3852.550566</td>\n",
       "    </tr>\n",
       "    <tr>\n",
       "      <th>Neighborhood_NoRidge</th>\n",
       "      <td>3646.374542</td>\n",
       "      <td>3646.374542</td>\n",
       "    </tr>\n",
       "    <tr>\n",
       "      <th>Mas Vnr Area</th>\n",
       "      <td>3149.931135</td>\n",
       "      <td>3149.931135</td>\n",
       "    </tr>\n",
       "    <tr>\n",
       "      <th>Functional_Typ</th>\n",
       "      <td>2520.061159</td>\n",
       "      <td>2520.061159</td>\n",
       "    </tr>\n",
       "    <tr>\n",
       "      <th>Exter Qual_TA</th>\n",
       "      <td>-2413.596519</td>\n",
       "      <td>2413.596519</td>\n",
       "    </tr>\n",
       "    <tr>\n",
       "      <th>Foundation_PConc</th>\n",
       "      <td>2388.304698</td>\n",
       "      <td>2388.304698</td>\n",
       "    </tr>\n",
       "    <tr>\n",
       "      <th>Fireplaces</th>\n",
       "      <td>2343.084353</td>\n",
       "      <td>2343.084353</td>\n",
       "    </tr>\n",
       "    <tr>\n",
       "      <th>Exterior_Brk</th>\n",
       "      <td>2078.828192</td>\n",
       "      <td>2078.828192</td>\n",
       "    </tr>\n",
       "    <tr>\n",
       "      <th>Year Remod/Add</th>\n",
       "      <td>2042.484475</td>\n",
       "      <td>2042.484475</td>\n",
       "    </tr>\n",
       "    <tr>\n",
       "      <th>Neighborhood_Crawfor</th>\n",
       "      <td>1840.599441</td>\n",
       "      <td>1840.599441</td>\n",
       "    </tr>\n",
       "    <tr>\n",
       "      <th>Condition_Street</th>\n",
       "      <td>-1586.039499</td>\n",
       "      <td>1586.039499</td>\n",
       "    </tr>\n",
       "    <tr>\n",
       "      <th>Roof Matl_WdShngl</th>\n",
       "      <td>1563.720162</td>\n",
       "      <td>1563.720162</td>\n",
       "    </tr>\n",
       "    <tr>\n",
       "      <th>Heating QC_TA</th>\n",
       "      <td>-1507.886250</td>\n",
       "      <td>1507.886250</td>\n",
       "    </tr>\n",
       "    <tr>\n",
       "      <th>...</th>\n",
       "      <td>...</td>\n",
       "      <td>...</td>\n",
       "    </tr>\n",
       "    <tr>\n",
       "      <th>Roof Style_Shed</th>\n",
       "      <td>-0.000000</td>\n",
       "      <td>0.000000</td>\n",
       "    </tr>\n",
       "    <tr>\n",
       "      <th>Roof Matl_CompShg</th>\n",
       "      <td>-0.000000</td>\n",
       "      <td>0.000000</td>\n",
       "    </tr>\n",
       "    <tr>\n",
       "      <th>Roof Matl_Tar&amp;Grv</th>\n",
       "      <td>0.000000</td>\n",
       "      <td>0.000000</td>\n",
       "    </tr>\n",
       "    <tr>\n",
       "      <th>Neighborhood_Greens</th>\n",
       "      <td>0.000000</td>\n",
       "      <td>0.000000</td>\n",
       "    </tr>\n",
       "    <tr>\n",
       "      <th>Neighborhood_CollgCr</th>\n",
       "      <td>0.000000</td>\n",
       "      <td>0.000000</td>\n",
       "    </tr>\n",
       "    <tr>\n",
       "      <th>Alley_Grvl</th>\n",
       "      <td>-0.000000</td>\n",
       "      <td>0.000000</td>\n",
       "    </tr>\n",
       "    <tr>\n",
       "      <th>Utilities_NoSeWa</th>\n",
       "      <td>-0.000000</td>\n",
       "      <td>0.000000</td>\n",
       "    </tr>\n",
       "    <tr>\n",
       "      <th>Alley_Pave</th>\n",
       "      <td>-0.000000</td>\n",
       "      <td>0.000000</td>\n",
       "    </tr>\n",
       "    <tr>\n",
       "      <th>Alley_none</th>\n",
       "      <td>0.000000</td>\n",
       "      <td>0.000000</td>\n",
       "    </tr>\n",
       "    <tr>\n",
       "      <th>Lot Shape_IR1</th>\n",
       "      <td>0.000000</td>\n",
       "      <td>0.000000</td>\n",
       "    </tr>\n",
       "    <tr>\n",
       "      <th>Lot Shape_IR2</th>\n",
       "      <td>0.000000</td>\n",
       "      <td>0.000000</td>\n",
       "    </tr>\n",
       "    <tr>\n",
       "      <th>Lot Shape_IR3</th>\n",
       "      <td>-0.000000</td>\n",
       "      <td>0.000000</td>\n",
       "    </tr>\n",
       "    <tr>\n",
       "      <th>Lot Shape_Reg</th>\n",
       "      <td>-0.000000</td>\n",
       "      <td>0.000000</td>\n",
       "    </tr>\n",
       "    <tr>\n",
       "      <th>Land Contour_Bnk</th>\n",
       "      <td>-0.000000</td>\n",
       "      <td>0.000000</td>\n",
       "    </tr>\n",
       "    <tr>\n",
       "      <th>Land Contour_Low</th>\n",
       "      <td>0.000000</td>\n",
       "      <td>0.000000</td>\n",
       "    </tr>\n",
       "    <tr>\n",
       "      <th>Land Contour_Lvl</th>\n",
       "      <td>-0.000000</td>\n",
       "      <td>0.000000</td>\n",
       "    </tr>\n",
       "    <tr>\n",
       "      <th>Utilities_AllPub</th>\n",
       "      <td>0.000000</td>\n",
       "      <td>0.000000</td>\n",
       "    </tr>\n",
       "    <tr>\n",
       "      <th>Lot Config_Corner</th>\n",
       "      <td>-0.000000</td>\n",
       "      <td>0.000000</td>\n",
       "    </tr>\n",
       "    <tr>\n",
       "      <th>Neighborhood_ClearCr</th>\n",
       "      <td>0.000000</td>\n",
       "      <td>0.000000</td>\n",
       "    </tr>\n",
       "    <tr>\n",
       "      <th>Lot Config_CulDSac</th>\n",
       "      <td>0.000000</td>\n",
       "      <td>0.000000</td>\n",
       "    </tr>\n",
       "    <tr>\n",
       "      <th>Lot Config_FR2</th>\n",
       "      <td>-0.000000</td>\n",
       "      <td>0.000000</td>\n",
       "    </tr>\n",
       "    <tr>\n",
       "      <th>Lot Config_FR3</th>\n",
       "      <td>-0.000000</td>\n",
       "      <td>0.000000</td>\n",
       "    </tr>\n",
       "    <tr>\n",
       "      <th>Lot Config_Inside</th>\n",
       "      <td>-0.000000</td>\n",
       "      <td>0.000000</td>\n",
       "    </tr>\n",
       "    <tr>\n",
       "      <th>Land Slope_Gtl</th>\n",
       "      <td>-0.000000</td>\n",
       "      <td>0.000000</td>\n",
       "    </tr>\n",
       "    <tr>\n",
       "      <th>Land Slope_Mod</th>\n",
       "      <td>0.000000</td>\n",
       "      <td>0.000000</td>\n",
       "    </tr>\n",
       "    <tr>\n",
       "      <th>Land Slope_Sev</th>\n",
       "      <td>-0.000000</td>\n",
       "      <td>0.000000</td>\n",
       "    </tr>\n",
       "    <tr>\n",
       "      <th>Neighborhood_Blmngtn</th>\n",
       "      <td>-0.000000</td>\n",
       "      <td>0.000000</td>\n",
       "    </tr>\n",
       "    <tr>\n",
       "      <th>Neighborhood_Blueste</th>\n",
       "      <td>0.000000</td>\n",
       "      <td>0.000000</td>\n",
       "    </tr>\n",
       "    <tr>\n",
       "      <th>Neighborhood_BrDale</th>\n",
       "      <td>0.000000</td>\n",
       "      <td>0.000000</td>\n",
       "    </tr>\n",
       "    <tr>\n",
       "      <th>Sale Type_WD</th>\n",
       "      <td>-0.000000</td>\n",
       "      <td>0.000000</td>\n",
       "    </tr>\n",
       "  </tbody>\n",
       "</table>\n",
       "<p>248 rows × 2 columns</p>\n",
       "</div>"
      ],
      "text/plain": [
       "                            weight    abs_weight\n",
       "Gr Liv Area           21734.381695  21734.381695\n",
       "Roof Matl_ClyTile    -14337.323352  14337.323352\n",
       "Overall Qual          12668.845549  12668.845549\n",
       "Misc Feature_Elev    -11878.158808  11878.158808\n",
       "BsmtFin SF             7608.951044   7608.951044\n",
       "Kitchen Qual_Ex        7281.556933   7281.556933\n",
       "Year Built             6874.679671   6874.679671\n",
       "Total Bsmt SF          6384.445430   6384.445430\n",
       "Garage Area            5755.149271   5755.149271\n",
       "Bldg Type_1Fam         5301.715616   5301.715616\n",
       "Bsmt Qual_Ex           5208.936370   5208.936370\n",
       "Exter Qual_Ex          4804.393960   4804.393960\n",
       "Neighborhood_NridgHt   4580.236876   4580.236876\n",
       "Lot Area               4539.527301   4539.527301\n",
       "Neighborhood_StoneBr   4295.411034   4295.411034\n",
       "Overall Cond           4250.874265   4250.874265\n",
       "Bsmt Exposure_Gd       4074.220586   4074.220586\n",
       "Sale Type_New          3852.550566   3852.550566\n",
       "Neighborhood_NoRidge   3646.374542   3646.374542\n",
       "Mas Vnr Area           3149.931135   3149.931135\n",
       "Functional_Typ         2520.061159   2520.061159\n",
       "Exter Qual_TA         -2413.596519   2413.596519\n",
       "Foundation_PConc       2388.304698   2388.304698\n",
       "Fireplaces             2343.084353   2343.084353\n",
       "Exterior_Brk           2078.828192   2078.828192\n",
       "Year Remod/Add         2042.484475   2042.484475\n",
       "Neighborhood_Crawfor   1840.599441   1840.599441\n",
       "Condition_Street      -1586.039499   1586.039499\n",
       "Roof Matl_WdShngl      1563.720162   1563.720162\n",
       "Heating QC_TA         -1507.886250   1507.886250\n",
       "...                            ...           ...\n",
       "Roof Style_Shed          -0.000000      0.000000\n",
       "Roof Matl_CompShg        -0.000000      0.000000\n",
       "Roof Matl_Tar&Grv         0.000000      0.000000\n",
       "Neighborhood_Greens       0.000000      0.000000\n",
       "Neighborhood_CollgCr      0.000000      0.000000\n",
       "Alley_Grvl               -0.000000      0.000000\n",
       "Utilities_NoSeWa         -0.000000      0.000000\n",
       "Alley_Pave               -0.000000      0.000000\n",
       "Alley_none                0.000000      0.000000\n",
       "Lot Shape_IR1             0.000000      0.000000\n",
       "Lot Shape_IR2             0.000000      0.000000\n",
       "Lot Shape_IR3            -0.000000      0.000000\n",
       "Lot Shape_Reg            -0.000000      0.000000\n",
       "Land Contour_Bnk         -0.000000      0.000000\n",
       "Land Contour_Low          0.000000      0.000000\n",
       "Land Contour_Lvl         -0.000000      0.000000\n",
       "Utilities_AllPub          0.000000      0.000000\n",
       "Lot Config_Corner        -0.000000      0.000000\n",
       "Neighborhood_ClearCr      0.000000      0.000000\n",
       "Lot Config_CulDSac        0.000000      0.000000\n",
       "Lot Config_FR2           -0.000000      0.000000\n",
       "Lot Config_FR3           -0.000000      0.000000\n",
       "Lot Config_Inside        -0.000000      0.000000\n",
       "Land Slope_Gtl           -0.000000      0.000000\n",
       "Land Slope_Mod            0.000000      0.000000\n",
       "Land Slope_Sev           -0.000000      0.000000\n",
       "Neighborhood_Blmngtn     -0.000000      0.000000\n",
       "Neighborhood_Blueste      0.000000      0.000000\n",
       "Neighborhood_BrDale       0.000000      0.000000\n",
       "Sale Type_WD             -0.000000      0.000000\n",
       "\n",
       "[248 rows x 2 columns]"
      ]
     },
     "execution_count": 16,
     "metadata": {},
     "output_type": "execute_result"
    }
   ],
   "source": [
    "X_weights.sort_values(['abs_weight'],ascending=False)"
   ]
  },
  {
   "cell_type": "code",
   "execution_count": 17,
   "metadata": {},
   "outputs": [],
   "source": [
    "def md_coef_table(labels, weights):\n",
    "    print('| feature | weight |\\n| --- | --- |')\n",
    "    for i in range(len(labels)):\n",
    "        print(f'| {labels[i]} | {weights[i]:.2e} |')"
   ]
  },
  {
   "cell_type": "code",
   "execution_count": 18,
   "metadata": {},
   "outputs": [],
   "source": [
    "weights = X_weights.sort_values('weight', ascending=False)['weight']\n",
    "labels = weights.index"
   ]
  },
  {
   "cell_type": "code",
   "execution_count": 19,
   "metadata": {},
   "outputs": [
    {
     "name": "stdout",
     "output_type": "stream",
     "text": [
      "| feature | weight |\n",
      "| --- | --- |\n",
      "| Gr Liv Area | 2.17e+04 |\n",
      "| Overall Qual | 1.27e+04 |\n",
      "| BsmtFin SF | 7.61e+03 |\n",
      "| Kitchen Qual_Ex | 7.28e+03 |\n",
      "| Year Built | 6.87e+03 |\n",
      "| Total Bsmt SF | 6.38e+03 |\n",
      "| Garage Area | 5.76e+03 |\n",
      "| Bldg Type_1Fam | 5.30e+03 |\n",
      "| Bsmt Qual_Ex | 5.21e+03 |\n",
      "| Exter Qual_Ex | 4.80e+03 |\n",
      "| Neighborhood_NridgHt | 4.58e+03 |\n",
      "| Lot Area | 4.54e+03 |\n",
      "| Neighborhood_StoneBr | 4.30e+03 |\n",
      "| Overall Cond | 4.25e+03 |\n",
      "| Bsmt Exposure_Gd | 4.07e+03 |\n",
      "| Sale Type_New | 3.85e+03 |\n",
      "| Neighborhood_NoRidge | 3.65e+03 |\n",
      "| Mas Vnr Area | 3.15e+03 |\n",
      "| Functional_Typ | 2.52e+03 |\n",
      "| Foundation_PConc | 2.39e+03 |\n",
      "| Fireplaces | 2.34e+03 |\n",
      "| Exterior_Brk | 2.08e+03 |\n",
      "| Year Remod/Add | 2.04e+03 |\n",
      "| Neighborhood_Crawfor | 1.84e+03 |\n",
      "| Roof Matl_WdShngl | 1.56e+03 |\n",
      "| Neighborhood_Somerst | 1.31e+03 |\n",
      "| Neighborhood_GrnHill | 1.29e+03 |\n",
      "| Baths | 1.25e+03 |\n",
      "| 1st Flr SF | 1.21e+03 |\n",
      "| Exterior_Cmnt | 9.88e+02 |\n",
      "| Bsmt Fin_GLQ | 9.78e+02 |\n",
      "| Wood Deck SF | 7.05e+02 |\n",
      "| Garage Qual_Gd | 5.71e+02 |\n",
      "| Garage Qual_Ex | 4.89e+02 |\n",
      "| Garage Cars | 4.49e+02 |\n",
      "| Fireplace Qu_Gd | 4.24e+02 |\n",
      "| Bsmt Baths | 3.45e+02 |\n",
      "| Mas Vnr Type_Stone | 3.15e+02 |\n",
      "| Neighborhood_BrkSide | 2.57e+02 |\n",
      "| Land Contour_HLS | 2.55e+02 |\n",
      "| Garage Type_BuiltIn | 2.39e+02 |\n",
      "| Sale Type_Con | 1.95e+02 |\n",
      "| Heating QC_Ex | 1.68e+01 |\n",
      "| Bsmt Exposure_Mn | -0.00e+00 |\n",
      "| Bsmt Qual_Gd | 0.00e+00 |\n",
      "| Bsmt Qual_Fa | -0.00e+00 |\n",
      "| Bsmt Cond_Po | -0.00e+00 |\n",
      "| Bsmt Qual_Po | 0.00e+00 |\n",
      "| Bsmt Qual_none | 0.00e+00 |\n",
      "| Bsmt Cond_Ex | -0.00e+00 |\n",
      "| Bsmt Cond_Fa | -0.00e+00 |\n",
      "| Bsmt Cond_Gd | -0.00e+00 |\n",
      "| Bsmt Cond_TA | 0.00e+00 |\n",
      "| Foundation_Wood | 0.00e+00 |\n",
      "| Bsmt Cond_none | 0.00e+00 |\n",
      "| Bsmt Exposure_Av | 0.00e+00 |\n",
      "| Lot Frontage | 0.00e+00 |\n",
      "| Exter Cond_Ex | 0.00e+00 |\n",
      "| Foundation_Stone | 0.00e+00 |\n",
      "| Foundation_Slab | 0.00e+00 |\n",
      "| Roof Style_Gambrel | -0.00e+00 |\n",
      "| Roof Style_Hip | 0.00e+00 |\n",
      "| Roof Style_Shed | -0.00e+00 |\n",
      "| Roof Matl_CompShg | -0.00e+00 |\n",
      "| Roof Matl_Tar&Grv | 0.00e+00 |\n",
      "| Roof Matl_WdShake | 0.00e+00 |\n",
      "| Mas Vnr Type_BrkFace | -0.00e+00 |\n",
      "| Mas Vnr Type_None | 0.00e+00 |\n",
      "| Mas Vnr Type_none | 0.00e+00 |\n",
      "| Exter Qual_Fa | -0.00e+00 |\n",
      "| Exter Qual_Gd | 0.00e+00 |\n",
      "| Heating_GasA | 0.00e+00 |\n",
      "| Exter Cond_Fa | -0.00e+00 |\n",
      "| Exter Cond_Gd | -0.00e+00 |\n",
      "| Exter Cond_TA | 0.00e+00 |\n",
      "| Foundation_BrkTil | -0.00e+00 |\n",
      "| Foundation_CBlock | -0.00e+00 |\n",
      "| Bsmt Exposure_none | 0.00e+00 |\n",
      "| Functional_Sal | -0.00e+00 |\n",
      "| Heating_GasW | -0.00e+00 |\n",
      "| Fence_MnPrv | -0.00e+00 |\n",
      "| Garage Qual_TA | -0.00e+00 |\n",
      "| Garage Qual_none | 0.00e+00 |\n",
      "| Garage Cond_Ex | -0.00e+00 |\n",
      "| Garage Cond_Fa | -0.00e+00 |\n",
      "| Garage Cond_Gd | 0.00e+00 |\n",
      "| Garage Cond_Po | -0.00e+00 |\n",
      "| Garage Cond_TA | -0.00e+00 |\n",
      "| Garage Cond_none | 0.00e+00 |\n",
      "| Fence_GdPrv | 0.00e+00 |\n",
      "| Fence_GdWo | -0.00e+00 |\n",
      "| Fence_MnWw | -0.00e+00 |\n",
      "| Garage Qual_Fa | -0.00e+00 |\n",
      "| Fence_none | 0.00e+00 |\n",
      "| Misc Feature_Gar2 | -0.00e+00 |\n",
      "| Misc Feature_Othr | 0.00e+00 |\n",
      "| Misc Feature_Shed | 0.00e+00 |\n",
      "| Misc Feature_TenC | -0.00e+00 |\n",
      "| Misc Feature_none | 0.00e+00 |\n",
      "| Sale Type_CWD | 0.00e+00 |\n",
      "| Sale Type_ConLD | -0.00e+00 |\n",
      "| Sale Type_ConLw | -0.00e+00 |\n",
      "| Sale Type_Oth | 0.00e+00 |\n",
      "| Garage Qual_Po | -0.00e+00 |\n",
      "| Garage Finish_none | 0.00e+00 |\n",
      "| Heating_Wall | 0.00e+00 |\n",
      "| Fireplace Qu_Ex | 0.00e+00 |\n",
      "| Heating QC_Fa | -0.00e+00 |\n",
      "| Heating QC_Gd | 0.00e+00 |\n",
      "| Heating QC_Po | -0.00e+00 |\n",
      "| Kitchen Qual_Fa | -0.00e+00 |\n",
      "| Kitchen Qual_Gd | 0.00e+00 |\n",
      "| Functional_Maj2 | -0.00e+00 |\n",
      "| Functional_Min1 | -0.00e+00 |\n",
      "| Functional_Min2 | 0.00e+00 |\n",
      "| Functional_Mod | -0.00e+00 |\n",
      "| Roof Style_Flat | 0.00e+00 |\n",
      "| Fireplace Qu_Fa | -0.00e+00 |\n",
      "| Garage Finish_Unf | -0.00e+00 |\n",
      "| Fireplace Qu_Po | -0.00e+00 |\n",
      "| Fireplace Qu_TA | 0.00e+00 |\n",
      "| Fireplace Qu_none | -0.00e+00 |\n",
      "| Garage Type_2Types | -0.00e+00 |\n",
      "| Garage Type_Attchd | 0.00e+00 |\n",
      "| Garage Type_CarPort | -0.00e+00 |\n",
      "| Garage Type_Detchd | -0.00e+00 |\n",
      "| Garage Type_none | 0.00e+00 |\n",
      "| Garage Finish_Fin | 0.00e+00 |\n",
      "| Garage Finish_RFn | -0.00e+00 |\n",
      "| Roof Style_Gable | -0.00e+00 |\n",
      "| Neighborhood_Timber | 0.00e+00 |\n",
      "| Bldg Type_TwnhsE | -0.00e+00 |\n",
      "| MS Zoning_RH | 0.00e+00 |\n",
      "| Exterior_Wd | -0.00e+00 |\n",
      "| Bsmt Fin_Unf | -0.00e+00 |\n",
      "| Bsmt Fin_Rec | -0.00e+00 |\n",
      "| Bsmt Fin_ALQ | 0.00e+00 |\n",
      "| Bsmt Fin_none | 0.00e+00 |\n",
      "| MS SubClass_1.5_fin | -0.00e+00 |\n",
      "| MS SubClass_1.5_pud | -0.00e+00 |\n",
      "| MS SubClass_1.5_unfin | 0.00e+00 |\n",
      "| MS SubClass_1_1945- | 0.00e+00 |\n",
      "| MS SubClass_1_1946+ | 0.00e+00 |\n",
      "| MS SubClass_1_fin_attic | -0.00e+00 |\n",
      "| MS SubClass_1_pud | -0.00e+00 |\n",
      "| MS SubClass_2.5_all | 0.00e+00 |\n",
      "| MS SubClass_2_1945- | -0.00e+00 |\n",
      "| MS SubClass_2_1946+ | 0.00e+00 |\n",
      "| MS SubClass_2_fam_conv | 0.00e+00 |\n",
      "| MS SubClass_2_pud_1946+ | -0.00e+00 |\n",
      "| MS SubClass_duplex_all | -0.00e+00 |\n",
      "| MS SubClass_multi_pud | -0.00e+00 |\n",
      "| MS SubClass_split_foyer | 0.00e+00 |\n",
      "| Bldg Type_Twnhs | -0.00e+00 |\n",
      "| MS Zoning_A (agr) | 0.00e+00 |\n",
      "| MS Zoning_C (all) | -0.00e+00 |\n",
      "| Exterior_Asph | 0.00e+00 |\n",
      "| Exterior_HdBoard | -0.00e+00 |\n",
      "| Exterior_ImStucc | -0.00e+00 |\n",
      "| Misc Val | -0.00e+00 |\n",
      "| Bsmt Unf SF | -0.00e+00 |\n",
      "| Central Air | -0.00e+00 |\n",
      "| 2nd Flr SF | 0.00e+00 |\n",
      "| Bedroom AbvGr | -0.00e+00 |\n",
      "| Kitchen AbvGr | -0.00e+00 |\n",
      "| TotRms AbvGrd | 0.00e+00 |\n",
      "| Garage Yr Blt | 0.00e+00 |\n",
      "| Paved Drive | 0.00e+00 |\n",
      "| Open Porch SF | 0.00e+00 |\n",
      "| Pool Area | 0.00e+00 |\n",
      "| Basement | -0.00e+00 |\n",
      "| Exterior_VinylSd | 0.00e+00 |\n",
      "| Paved Street | 0.00e+00 |\n",
      "| Porch | 0.00e+00 |\n",
      "| Condition_Norm | 0.00e+00 |\n",
      "| Condition_Park_Sch | 0.00e+00 |\n",
      "| Exterior_MetalSd | 0.00e+00 |\n",
      "| Exterior_Stone | -0.00e+00 |\n",
      "| Exterior_CBlock | 0.00e+00 |\n",
      "| Exterior_WdShing | 0.00e+00 |\n",
      "| Exterior_AsphShn | 0.00e+00 |\n",
      "| Exterior_Stucco | 0.00e+00 |\n",
      "| MS Zoning_FV | 0.00e+00 |\n",
      "| MS SubClass_split_multi | -0.00e+00 |\n",
      "| MS Zoning_RL | 0.00e+00 |\n",
      "| Neighborhood_MeadowV | -0.00e+00 |\n",
      "| Land Slope_Gtl | -0.00e+00 |\n",
      "| Land Slope_Mod | 0.00e+00 |\n",
      "| Land Slope_Sev | -0.00e+00 |\n",
      "| Neighborhood_Blueste | 0.00e+00 |\n",
      "| Neighborhood_BrDale | 0.00e+00 |\n",
      "| Neighborhood_ClearCr | 0.00e+00 |\n",
      "| Neighborhood_CollgCr | 0.00e+00 |\n",
      "| Neighborhood_Gilbert | -0.00e+00 |\n",
      "| Neighborhood_Greens | 0.00e+00 |\n",
      "| Neighborhood_IDOTRR | -0.00e+00 |\n",
      "| Neighborhood_Mitchel | -0.00e+00 |\n",
      "| Lot Config_FR3 | -0.00e+00 |\n",
      "| Neighborhood_NAmes | -0.00e+00 |\n",
      "| Neighborhood_NPkVill | -0.00e+00 |\n",
      "| Neighborhood_NWAmes | -0.00e+00 |\n",
      "| Neighborhood_OldTown | -0.00e+00 |\n",
      "| Neighborhood_SWISU | -0.00e+00 |\n",
      "| Neighborhood_Sawyer | -0.00e+00 |\n",
      "| Neighborhood_SawyerW | -0.00e+00 |\n",
      "| Neighborhood_Veenker | 0.00e+00 |\n",
      "| Bldg Type_2fmCon | 0.00e+00 |\n",
      "| Bldg Type_Duplex | -0.00e+00 |\n",
      "| Lot Config_Inside | -0.00e+00 |\n",
      "| Neighborhood_Blmngtn | -0.00e+00 |\n",
      "| Lot Config_FR2 | -0.00e+00 |\n",
      "| Land Contour_Lvl | -0.00e+00 |\n",
      "| Alley_Grvl | -0.00e+00 |\n",
      "| Alley_Pave | -0.00e+00 |\n",
      "| Alley_none | 0.00e+00 |\n",
      "| Lot Shape_IR1 | 0.00e+00 |\n",
      "| Lot Shape_IR2 | 0.00e+00 |\n",
      "| Lot Shape_Reg | -0.00e+00 |\n",
      "| Land Contour_Bnk | -0.00e+00 |\n",
      "| Land Contour_Low | 0.00e+00 |\n",
      "| Lot Shape_IR3 | -0.00e+00 |\n",
      "| Utilities_AllPub | 0.00e+00 |\n",
      "| Lot Config_Corner | -0.00e+00 |\n",
      "| Lot Config_CulDSac | 0.00e+00 |\n",
      "| Sale Type_WD  | -0.00e+00 |\n",
      "| Utilities_NoSeWa | -0.00e+00 |\n",
      "| Bsmt Fin_BLQ | -2.33e+01 |\n",
      "| Heating_Grav | -2.96e+01 |\n",
      "| Mas Vnr Type_BrkCmn | -7.31e+01 |\n",
      "| Neighborhood_Edwards | -1.30e+02 |\n",
      "| Garage Type_Basment | -1.84e+02 |\n",
      "| Condition_RR | -2.76e+02 |\n",
      "| Sale Type_ConLI | -2.82e+02 |\n",
      "| Heating_OthW | -2.83e+02 |\n",
      "| Bsmt Qual_TA | -3.11e+02 |\n",
      "| Kitchen Qual_TA | -3.12e+02 |\n",
      "| Bsmt Fin_LwQ | -3.27e+02 |\n",
      "| Exterior_Plywood | -4.79e+02 |\n",
      "| Functional_Maj1 | -5.74e+02 |\n",
      "| Roof Style_Mansard | -7.78e+02 |\n",
      "| Bsmt Exposure_No | -1.07e+03 |\n",
      "| Sale Type_COD | -1.13e+03 |\n",
      "| MS Zoning_RM | -1.28e+03 |\n",
      "| Heating QC_TA | -1.51e+03 |\n",
      "| Condition_Street | -1.59e+03 |\n",
      "| Exter Qual_TA | -2.41e+03 |\n",
      "| Misc Feature_Elev | -1.19e+04 |\n",
      "| Roof Matl_ClyTile | -1.43e+04 |\n"
     ]
    }
   ],
   "source": [
    "md_coef_table(labels, weights);"
   ]
  },
  {
   "cell_type": "code",
   "execution_count": 20,
   "metadata": {},
   "outputs": [
    {
     "data": {
      "text/plain": [
       "180368.8058631922"
      ]
     },
     "execution_count": 20,
     "metadata": {},
     "output_type": "execute_result"
    }
   ],
   "source": [
    "beta0 = gs.best_estimator_.named_steps[f'{model}'].intercept_\n",
    "beta0"
   ]
  },
  {
   "cell_type": "code",
   "execution_count": 21,
   "metadata": {},
   "outputs": [
    {
     "data": {
      "text/plain": [
       "0.9230697894347617"
      ]
     },
     "execution_count": 21,
     "metadata": {},
     "output_type": "execute_result"
    }
   ],
   "source": [
    "gs.score(X_train,y_train)"
   ]
  },
  {
   "cell_type": "code",
   "execution_count": 22,
   "metadata": {},
   "outputs": [
    {
     "data": {
      "text/plain": [
       "0.9274910729747848"
      ]
     },
     "execution_count": 22,
     "metadata": {},
     "output_type": "execute_result"
    }
   ],
   "source": [
    "gs.score(X_test,y_test)"
   ]
  },
  {
   "cell_type": "markdown",
   "metadata": {},
   "source": [
    "The train/test scores align well and suggest we have a well fit model."
   ]
  },
  {
   "cell_type": "code",
   "execution_count": 23,
   "metadata": {},
   "outputs": [],
   "source": [
    "preds = gs.predict(X_test)"
   ]
  },
  {
   "cell_type": "code",
   "execution_count": 24,
   "metadata": {},
   "outputs": [
    {
     "data": {
      "text/plain": [
       "0.9200296538259437"
      ]
     },
     "execution_count": 24,
     "metadata": {},
     "output_type": "execute_result"
    }
   ],
   "source": [
    "r2_score(preds, y_test)"
   ]
  },
  {
   "cell_type": "code",
   "execution_count": 25,
   "metadata": {},
   "outputs": [
    {
     "data": {
      "text/plain": [
       "22346.41083295515"
      ]
     },
     "execution_count": 25,
     "metadata": {},
     "output_type": "execute_result"
    }
   ],
   "source": [
    "(mean_squared_error(preds, y_test))**.5"
   ]
  },
  {
   "cell_type": "markdown",
   "metadata": {},
   "source": [
    "The r2 and rmse also suggest a much better model for our data than lr or ElasticNet. It would be interesting to see if further tuning of the model can improve our predictions."
   ]
  },
  {
   "cell_type": "code",
   "execution_count": 26,
   "metadata": {},
   "outputs": [
    {
     "data": {
      "text/plain": [
       "<matplotlib.legend.Legend at 0x1a258eb588>"
      ]
     },
     "execution_count": 26,
     "metadata": {},
     "output_type": "execute_result"
    },
    {
     "data": {
      "image/png": "[encoded data removed]",
      "text/plain": [
       "<Figure size 1152x648 with 1 Axes>"
      ]
     },
     "metadata": {
      "needs_background": "light"
     },
     "output_type": "display_data"
    }
   ],
   "source": [
    "plt.figure(figsize=(16,9))\n",
    "plt.title(f'Predicted vs. True: LassoCV \\nRMSE: {mean_squared_error(y_test, gs.predict(X_test))**.5:.2f}', fontsize=30);\n",
    "\n",
    "plt.scatter(y_test, gs.predict(X_test))\n",
    "plt.plot([0, 600000], [0, 600000], color='r')\n",
    "\n",
    "plt.ylabel('Predicted', fontsize=20)\n",
    "plt.xlabel('True', fontsize=20)\n",
    "plt.legend(['Actual'])\n",
    " \n",
    "    \n",
    "#plt.savefig('../images/lasso1000.png', dpi=300)"
   ]
  },
  {
   "cell_type": "markdown",
   "metadata": {},
   "source": [
    "This model performs better than our previous models across all values. Most importantly, it more closely predicts the values of the outliers at \\$550000-600000."
   ]
  },
  {
   "cell_type": "markdown",
   "metadata": {},
   "source": [
    "## Plotting Beta Weights"
   ]
  },
  {
   "cell_type": "code",
   "execution_count": 27,
   "metadata": {},
   "outputs": [
    {
     "data": {
      "image/png": "[encoded data removed]",
      "text/plain": [
       "<Figure size 1440x720 with 1 Axes>"
      ]
     },
     "metadata": {
      "needs_background": "light"
     },
     "output_type": "display_data"
    }
   ],
   "source": [
    "weights = X_weights.sort_values('abs_weight', ascending=False)['weight'].head(20)\n",
    "beta_0 = gs.best_estimator_.named_steps[f'{model}'].intercept_\n",
    "labels = weights.index\n",
    "\n",
    "plt.figure(figsize=(20,10))\n",
    "plt.barh(labels, weights)\n",
    "plt.yticks(fontsize=20)\n",
    "plt.xticks(fontsize=20)\n",
    "plt.xlabel('Weights', fontsize=30)\n",
    "plt.title(f'Most Important Features and Weights\\ny intercept: ${beta_0:0.02f}', fontsize=42)\n",
    "plt.tight_layout()\n",
    "\n",
    "plt.savefig('../images/lasso1000feat.png', dpi=300)"
   ]
  },
  {
   "cell_type": "code",
   "execution_count": 28,
   "metadata": {},
   "outputs": [
    {
     "data": {
      "text/plain": [
       "(512, 254)"
      ]
     },
     "execution_count": 28,
     "metadata": {},
     "output_type": "execute_result"
    }
   ],
   "source": [
    "X_test.shape"
   ]
  },
  {
   "cell_type": "markdown",
   "metadata": {},
   "source": [
    "# Saving out column names and scaled data for use in future models."
   ]
  },
  {
   "cell_type": "markdown",
   "metadata": {},
   "source": [
    "Function to save out files with a clear description of each run. Source: Douglas Strodman."
   ]
  },
  {
   "cell_type": "code",
   "execution_count": 29,
   "metadata": {},
   "outputs": [],
   "source": [
    "def filename_format_log(file_path, \n",
    "                        logfile='../assets/file_log.txt', \n",
    "                        now=round(time.time()), \n",
    "                        file_description=None): \n",
    "    try:\n",
    "        ext = re.search('(?<!^)(?<!\\.)\\.(?!\\.)', file_path).start() \n",
    "    except:\n",
    "        raise NameError('Please enter a relative path with a file extension.') \n",
    "    formatted_name = f'{file_path[:ext]}_{now}{file_path[ext:]}'\n",
    "    if not file_description:\n",
    "        file_description = input('Please provide a brief description: ')\n",
    "    with open(logfile, 'a+') as f:\n",
    "        f.write(f'{formatted_name}: {file_description}\\n')\n",
    "    return formatted_name, now, file_description"
   ]
  },
  {
   "cell_type": "markdown",
   "metadata": {},
   "source": [
    "Saving columns that were retained by the model"
   ]
  },
  {
   "cell_type": "code",
   "execution_count": 30,
   "metadata": {},
   "outputs": [],
   "source": [
    "columns = X_train.columns"
   ]
  },
  {
   "cell_type": "code",
   "execution_count": 31,
   "metadata": {},
   "outputs": [
    {
     "name": "stdin",
     "output_type": "stream",
     "text": [
      "Please provide a brief description:  re-run for data dictionary\n"
     ]
    }
   ],
   "source": [
    "formatted_name, now, file_description= filename_format_log('../assets/columns.pkl')\n",
    "\n",
    "with open(formatted_name, 'wb+') as f:\n",
    "    pickle.dump(columns, f)"
   ]
  },
  {
   "cell_type": "code",
   "execution_count": 33,
   "metadata": {},
   "outputs": [],
   "source": [
    "formatted_name, _, _= filename_format_log('../assets/gs.pkl', now=now, file_description=file_description)\n",
    "\n",
    "with open(formatted_name, 'wb+') as f:\n",
    "    pickle.dump(gs, f)"
   ]
  },
  {
   "cell_type": "markdown",
   "metadata": {},
   "source": [
    "# Continue to NOTEBOOK 03e: MODELING - KNearestNeighbors"
   ]
  }
 ],
 "metadata": {
  "kernelspec": {
   "display_name": "Python 3",
   "language": "python",
   "name": "python3"
  },
  "language_info": {
   "codemirror_mode": {
    "name": "ipython",
    "version": 3
   },
   "file_extension": ".py",
   "mimetype": "text/x-python",
   "name": "python",
   "nbconvert_exporter": "python",
   "pygments_lexer": "ipython3",
   "version": "3.7.0"
  }
 },
 "nbformat": 4,
 "nbformat_minor": 2
}
