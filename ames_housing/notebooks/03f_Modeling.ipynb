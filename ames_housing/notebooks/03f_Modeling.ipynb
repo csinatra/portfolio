{
 "cells": [
  {
   "cell_type": "markdown",
   "metadata": {},
   "source": [
    "# NOTEBOOK 3f: MODELING - RidgeCV"
   ]
  },
  {
   "cell_type": "markdown",
   "metadata": {},
   "source": [
    "Now that we have tuned our dataset we will begin optimizing models and allow more feature to contribute to our predictions. Since the ElasticNet algorithm takes on characteristics of both ridge and lasso regression approaches to feature selection, this will be our starting point. If there is a stong indication that one model is favored over the other we can investigate that more fully to compare performance."
   ]
  },
  {
   "cell_type": "code",
   "execution_count": 2,
   "metadata": {},
   "outputs": [],
   "source": [
    "import pandas as pd\n",
    "import numpy as np\n",
    "import matplotlib.pyplot as plt\n",
    "import seaborn as sns\n",
    "import csv\n",
    "import pickle\n",
    "import re\n",
    "import time\n",
    "\n",
    "from scipy import stats\n",
    "from sklearn.pipeline import Pipeline\n",
    "from sklearn.preprocessing import StandardScaler\n",
    "from sklearn.feature_selection import VarianceThreshold, SelectKBest, SelectPercentile, SelectFromModel, f_regression, RFECV\n",
    "from sklearn.linear_model import LinearRegression, LassoCV, RidgeCV, ElasticNetCV\n",
    "from sklearn.model_selection import train_test_split, cross_val_score, GridSearchCV, RandomizedSearchCV\n",
    "from sklearn.metrics import r2_score, mean_squared_error\n",
    "from sklearn.neighbors import KNeighborsRegressor\n",
    "\n",
    "import warnings\n",
    "warnings.simplefilter(action='ignore', category=FutureWarning)\n",
    "warnings.simplefilter(action='ignore', category=DeprecationWarning)\n",
    "\n",
    "np.random.seed(42)\n",
    "\n",
    "%matplotlib inline"
   ]
  },
  {
   "cell_type": "markdown",
   "metadata": {},
   "source": [
    "Loading the clean training data from Notebook 02"
   ]
  },
  {
   "cell_type": "code",
   "execution_count": 3,
   "metadata": {},
   "outputs": [],
   "source": [
    "df = pd.read_csv('../data/train_clean.csv', index_col='Id', na_filter=False)"
   ]
  },
  {
   "cell_type": "code",
   "execution_count": 4,
   "metadata": {},
   "outputs": [
    {
     "data": {
      "text/html": [
       "<div>\n",
       "<style scoped>\n",
       "    .dataframe tbody tr th:only-of-type {\n",
       "        vertical-align: middle;\n",
       "    }\n",
       "\n",
       "    .dataframe tbody tr th {\n",
       "        vertical-align: top;\n",
       "    }\n",
       "\n",
       "    .dataframe thead th {\n",
       "        text-align: right;\n",
       "    }\n",
       "</style>\n",
       "<table border=\"1\" class=\"dataframe\">\n",
       "  <thead>\n",
       "    <tr style=\"text-align: right;\">\n",
       "      <th></th>\n",
       "      <th>Lot Frontage</th>\n",
       "      <th>Lot Area</th>\n",
       "      <th>Overall Qual</th>\n",
       "      <th>Overall Cond</th>\n",
       "      <th>Year Built</th>\n",
       "      <th>Year Remod/Add</th>\n",
       "      <th>Mas Vnr Area</th>\n",
       "      <th>Bsmt Unf SF</th>\n",
       "      <th>Total Bsmt SF</th>\n",
       "      <th>Central Air</th>\n",
       "      <th>...</th>\n",
       "      <th>Misc Feature_none</th>\n",
       "      <th>Sale Type_COD</th>\n",
       "      <th>Sale Type_CWD</th>\n",
       "      <th>Sale Type_Con</th>\n",
       "      <th>Sale Type_ConLD</th>\n",
       "      <th>Sale Type_ConLI</th>\n",
       "      <th>Sale Type_ConLw</th>\n",
       "      <th>Sale Type_New</th>\n",
       "      <th>Sale Type_Oth</th>\n",
       "      <th>Sale Type_WD</th>\n",
       "    </tr>\n",
       "    <tr>\n",
       "      <th>Id</th>\n",
       "      <th></th>\n",
       "      <th></th>\n",
       "      <th></th>\n",
       "      <th></th>\n",
       "      <th></th>\n",
       "      <th></th>\n",
       "      <th></th>\n",
       "      <th></th>\n",
       "      <th></th>\n",
       "      <th></th>\n",
       "      <th></th>\n",
       "      <th></th>\n",
       "      <th></th>\n",
       "      <th></th>\n",
       "      <th></th>\n",
       "      <th></th>\n",
       "      <th></th>\n",
       "      <th></th>\n",
       "      <th></th>\n",
       "      <th></th>\n",
       "      <th></th>\n",
       "    </tr>\n",
       "  </thead>\n",
       "  <tbody>\n",
       "    <tr>\n",
       "      <th>109</th>\n",
       "      <td>0.0</td>\n",
       "      <td>13517</td>\n",
       "      <td>6</td>\n",
       "      <td>8</td>\n",
       "      <td>1976</td>\n",
       "      <td>2005</td>\n",
       "      <td>289.0</td>\n",
       "      <td>192.0</td>\n",
       "      <td>725.0</td>\n",
       "      <td>1</td>\n",
       "      <td>...</td>\n",
       "      <td>1</td>\n",
       "      <td>0</td>\n",
       "      <td>0</td>\n",
       "      <td>0</td>\n",
       "      <td>0</td>\n",
       "      <td>0</td>\n",
       "      <td>0</td>\n",
       "      <td>0</td>\n",
       "      <td>0</td>\n",
       "      <td>1</td>\n",
       "    </tr>\n",
       "    <tr>\n",
       "      <th>544</th>\n",
       "      <td>43.0</td>\n",
       "      <td>11492</td>\n",
       "      <td>7</td>\n",
       "      <td>5</td>\n",
       "      <td>1996</td>\n",
       "      <td>1997</td>\n",
       "      <td>132.0</td>\n",
       "      <td>276.0</td>\n",
       "      <td>913.0</td>\n",
       "      <td>1</td>\n",
       "      <td>...</td>\n",
       "      <td>1</td>\n",
       "      <td>0</td>\n",
       "      <td>0</td>\n",
       "      <td>0</td>\n",
       "      <td>0</td>\n",
       "      <td>0</td>\n",
       "      <td>0</td>\n",
       "      <td>0</td>\n",
       "      <td>0</td>\n",
       "      <td>1</td>\n",
       "    </tr>\n",
       "    <tr>\n",
       "      <th>153</th>\n",
       "      <td>68.0</td>\n",
       "      <td>7922</td>\n",
       "      <td>5</td>\n",
       "      <td>7</td>\n",
       "      <td>1953</td>\n",
       "      <td>2007</td>\n",
       "      <td>0.0</td>\n",
       "      <td>326.0</td>\n",
       "      <td>1057.0</td>\n",
       "      <td>1</td>\n",
       "      <td>...</td>\n",
       "      <td>1</td>\n",
       "      <td>0</td>\n",
       "      <td>0</td>\n",
       "      <td>0</td>\n",
       "      <td>0</td>\n",
       "      <td>0</td>\n",
       "      <td>0</td>\n",
       "      <td>0</td>\n",
       "      <td>0</td>\n",
       "      <td>1</td>\n",
       "    </tr>\n",
       "    <tr>\n",
       "      <th>318</th>\n",
       "      <td>73.0</td>\n",
       "      <td>9802</td>\n",
       "      <td>5</td>\n",
       "      <td>5</td>\n",
       "      <td>2006</td>\n",
       "      <td>2007</td>\n",
       "      <td>0.0</td>\n",
       "      <td>384.0</td>\n",
       "      <td>384.0</td>\n",
       "      <td>1</td>\n",
       "      <td>...</td>\n",
       "      <td>1</td>\n",
       "      <td>0</td>\n",
       "      <td>0</td>\n",
       "      <td>0</td>\n",
       "      <td>0</td>\n",
       "      <td>0</td>\n",
       "      <td>0</td>\n",
       "      <td>0</td>\n",
       "      <td>0</td>\n",
       "      <td>1</td>\n",
       "    </tr>\n",
       "    <tr>\n",
       "      <th>255</th>\n",
       "      <td>82.0</td>\n",
       "      <td>14235</td>\n",
       "      <td>6</td>\n",
       "      <td>8</td>\n",
       "      <td>1900</td>\n",
       "      <td>1993</td>\n",
       "      <td>0.0</td>\n",
       "      <td>676.0</td>\n",
       "      <td>676.0</td>\n",
       "      <td>1</td>\n",
       "      <td>...</td>\n",
       "      <td>1</td>\n",
       "      <td>0</td>\n",
       "      <td>0</td>\n",
       "      <td>0</td>\n",
       "      <td>0</td>\n",
       "      <td>0</td>\n",
       "      <td>0</td>\n",
       "      <td>0</td>\n",
       "      <td>0</td>\n",
       "      <td>1</td>\n",
       "    </tr>\n",
       "  </tbody>\n",
       "</table>\n",
       "<p>5 rows × 255 columns</p>\n",
       "</div>"
      ],
      "text/plain": [
       "     Lot Frontage  Lot Area  Overall Qual  Overall Cond  Year Built  \\\n",
       "Id                                                                    \n",
       "109           0.0     13517             6             8        1976   \n",
       "544          43.0     11492             7             5        1996   \n",
       "153          68.0      7922             5             7        1953   \n",
       "318          73.0      9802             5             5        2006   \n",
       "255          82.0     14235             6             8        1900   \n",
       "\n",
       "     Year Remod/Add  Mas Vnr Area  Bsmt Unf SF  Total Bsmt SF  Central Air  \\\n",
       "Id                                                                           \n",
       "109            2005         289.0        192.0          725.0            1   \n",
       "544            1997         132.0        276.0          913.0            1   \n",
       "153            2007           0.0        326.0         1057.0            1   \n",
       "318            2007           0.0        384.0          384.0            1   \n",
       "255            1993           0.0        676.0          676.0            1   \n",
       "\n",
       "         ...        Misc Feature_none  Sale Type_COD  Sale Type_CWD  \\\n",
       "Id       ...                                                          \n",
       "109      ...                        1              0              0   \n",
       "544      ...                        1              0              0   \n",
       "153      ...                        1              0              0   \n",
       "318      ...                        1              0              0   \n",
       "255      ...                        1              0              0   \n",
       "\n",
       "     Sale Type_Con  Sale Type_ConLD  Sale Type_ConLI  Sale Type_ConLw  \\\n",
       "Id                                                                      \n",
       "109              0                0                0                0   \n",
       "544              0                0                0                0   \n",
       "153              0                0                0                0   \n",
       "318              0                0                0                0   \n",
       "255              0                0                0                0   \n",
       "\n",
       "     Sale Type_New  Sale Type_Oth  Sale Type_WD   \n",
       "Id                                                \n",
       "109              0              0              1  \n",
       "544              0              0              1  \n",
       "153              0              0              1  \n",
       "318              0              0              1  \n",
       "255              0              0              1  \n",
       "\n",
       "[5 rows x 255 columns]"
      ]
     },
     "execution_count": 4,
     "metadata": {},
     "output_type": "execute_result"
    }
   ],
   "source": [
    "df.head()"
   ]
  },
  {
   "cell_type": "code",
   "execution_count": 5,
   "metadata": {},
   "outputs": [],
   "source": [
    "X = df.drop(['SalePrice'],axis=1)\n",
    "y = df['SalePrice']\n",
    "\n",
    "X_train, X_test, y_train, y_test = train_test_split(X, y)"
   ]
  },
  {
   "cell_type": "code",
   "execution_count": 6,
   "metadata": {},
   "outputs": [],
   "source": [
    "model = 'ridge'"
   ]
  },
  {
   "cell_type": "code",
   "execution_count": 7,
   "metadata": {},
   "outputs": [],
   "source": [
    "pipe = Pipeline([\n",
    "    ('var_thresh', VarianceThreshold(0)),\n",
    "    ('ss', StandardScaler()),\n",
    "    ('kbest', SelectKBest(f_regression, k='all')),\n",
    "#     ('enet', ElasticNetCV()),\n",
    "#     ('lasso', LassoCV()),\n",
    "    ('ridge', RidgeCV(gcv_mode='auto')),\n",
    "#     ('knn', KNeighborsRegressor),\n",
    "])\n"
   ]
  },
  {
   "cell_type": "code",
   "execution_count": 8,
   "metadata": {},
   "outputs": [
    {
     "data": {
      "text/plain": [
       "(1535, 254)"
      ]
     },
     "execution_count": 8,
     "metadata": {},
     "output_type": "execute_result"
    }
   ],
   "source": [
    "X_train.shape"
   ]
  },
  {
   "cell_type": "code",
   "execution_count": 44,
   "metadata": {},
   "outputs": [
    {
     "data": {
      "text/plain": [
       "Pipeline(memory=None,\n",
       "     steps=[('var_thresh', VarianceThreshold(threshold=0)), ('ss', StandardScaler(copy=True, with_mean=True, with_std=True)), ('kbest', SelectKBest(k='all', score_func=<function f_regression at 0x1a1bb69620>)), ('ridge', RidgeCV(alphas=array([ 0.1,  1. , 10. ]), cv=None, fit_intercept=True,\n",
       "    gcv_mode='auto', normalize=False, scoring=None, store_cv_values=False))])"
      ]
     },
     "execution_count": 44,
     "metadata": {},
     "output_type": "execute_result"
    }
   ],
   "source": [
    "pipe.fit(X_train,y_train)"
   ]
  },
  {
   "cell_type": "code",
   "execution_count": 45,
   "metadata": {},
   "outputs": [
    {
     "data": {
      "text/plain": [
       "0.9406974313868397"
      ]
     },
     "execution_count": 45,
     "metadata": {},
     "output_type": "execute_result"
    }
   ],
   "source": [
    "pipe.score(X_train,y_train)"
   ]
  },
  {
   "cell_type": "code",
   "execution_count": 46,
   "metadata": {},
   "outputs": [
    {
     "data": {
      "text/plain": [
       "0.9301760249643415"
      ]
     },
     "execution_count": 46,
     "metadata": {},
     "output_type": "execute_result"
    }
   ],
   "source": [
    "pipe.score(X_test,y_test)"
   ]
  },
  {
   "cell_type": "code",
   "execution_count": 47,
   "metadata": {},
   "outputs": [],
   "source": [
    "params = {\n",
    "#     'var_thresh__threshold': [0,.001,.01,.02,.05],\n",
    "#     'kbest__k': [5,7,13,17,23,37,53,79,'all'],\n",
    "    'ridge__alphas': [np.logspace(0,50,200)],\n",
    "    \n",
    "}"
   ]
  },
  {
   "cell_type": "markdown",
   "metadata": {},
   "source": [
    "We will search over 200 values for the optimal alpha value as this hyperparameter has the most impact on this model. Alpha tunes how quickly beta coefficients approach 0 and therefore maximizes the regularization power of this model."
   ]
  },
  {
   "cell_type": "code",
   "execution_count": 48,
   "metadata": {},
   "outputs": [],
   "source": [
    "gs = GridSearchCV(pipe, params, cv=5, scoring='r2', verbose=1)"
   ]
  },
  {
   "cell_type": "code",
   "execution_count": 49,
   "metadata": {},
   "outputs": [
    {
     "name": "stdout",
     "output_type": "stream",
     "text": [
      "Fitting 5 folds for each of 1 candidates, totalling 5 fits\n"
     ]
    },
    {
     "name": "stderr",
     "output_type": "stream",
     "text": [
      "[Parallel(n_jobs=1)]: Using backend SequentialBackend with 1 concurrent workers.\n",
      "[Parallel(n_jobs=1)]: Done   5 out of   5 | elapsed:    1.9s finished\n"
     ]
    },
    {
     "data": {
      "text/plain": [
       "GridSearchCV(cv=5, error_score='raise-deprecating',\n",
       "       estimator=Pipeline(memory=None,\n",
       "     steps=[('var_thresh', VarianceThreshold(threshold=0)), ('ss', StandardScaler(copy=True, with_mean=True, with_std=True)), ('kbest', SelectKBest(k='all', score_func=<function f_regression at 0x1a1bb69620>)), ('ridge', RidgeCV(alphas=array([ 0.1,  1. , 10. ]), cv=None, fit_intercept=True,\n",
       "    gcv_mode='auto', normalize=False, scoring=None, store_cv_values=False))]),\n",
       "       fit_params=None, iid='warn', n_jobs=None,\n",
       "       param_grid={'ridge__alphas': [array([1.00000e+00, 1.78343e+00, ..., 5.60717e+49, 1.00000e+50])]},\n",
       "       pre_dispatch='2*n_jobs', refit=True, return_train_score='warn',\n",
       "       scoring='r2', verbose=1)"
      ]
     },
     "execution_count": 49,
     "metadata": {},
     "output_type": "execute_result"
    }
   ],
   "source": [
    "gs.fit(X_train, y_train)"
   ]
  },
  {
   "cell_type": "code",
   "execution_count": 50,
   "metadata": {},
   "outputs": [
    {
     "data": {
      "text/plain": [
       "{'ridge__alphas': array([1.00000000e+00, 1.78343088e+00, 3.18062569e+00, 5.67242607e+00,\n",
       "        1.01163798e+01, 1.80418641e+01, 3.21764175e+01, 5.73844165e+01,\n",
       "        1.02341140e+02, 1.82518349e+02, 3.25508860e+02, 5.80522552e+02,\n",
       "        1.03532184e+03, 1.84642494e+03, 3.29297126e+03, 5.87278661e+03,\n",
       "        1.04737090e+04, 1.86791360e+04, 3.33129479e+04, 5.94113398e+04,\n",
       "        1.05956018e+05, 1.88965234e+05, 3.37006433e+05, 6.01027678e+05,\n",
       "        1.07189132e+06, 1.91164408e+06, 3.40928507e+06, 6.08022426e+06,\n",
       "        1.08436597e+07, 1.93389175e+07, 3.44896226e+07, 6.15098579e+07,\n",
       "        1.09698580e+08, 1.95639834e+08, 3.48910121e+08, 6.22257084e+08,\n",
       "        1.10975250e+09, 1.97916687e+09, 3.52970730e+09, 6.29498899e+09,\n",
       "        1.12266777e+10, 2.00220037e+10, 3.57078596e+10, 6.36824994e+10,\n",
       "        1.13573336e+11, 2.02550194e+11, 3.61234270e+11, 6.44236351e+11,\n",
       "        1.14895100e+12, 2.04907469e+12, 3.65438307e+12, 6.51733960e+12,\n",
       "        1.16232247e+13, 2.07292178e+13, 3.69691271e+13, 6.59318827e+13,\n",
       "        1.17584955e+14, 2.09704640e+14, 3.73993730e+14, 6.66991966e+14,\n",
       "        1.18953407e+15, 2.12145178e+15, 3.78346262e+15, 6.74754405e+15,\n",
       "        1.20337784e+16, 2.14614120e+16, 3.82749448e+16, 6.82607183e+16,\n",
       "        1.21738273e+17, 2.17111795e+17, 3.87203878e+17, 6.90551352e+17,\n",
       "        1.23155060e+18, 2.19638537e+18, 3.91710149e+18, 6.98587975e+18,\n",
       "        1.24588336e+19, 2.22194686e+19, 3.96268864e+19, 7.06718127e+19,\n",
       "        1.26038293e+20, 2.24780583e+20, 4.00880633e+20, 7.14942899e+20,\n",
       "        1.27505124e+21, 2.27396575e+21, 4.05546074e+21, 7.23263390e+21,\n",
       "        1.28989026e+22, 2.30043012e+22, 4.10265811e+22, 7.31680714e+22,\n",
       "        1.30490198e+23, 2.32720248e+23, 4.15040476e+23, 7.40196000e+23,\n",
       "        1.32008840e+24, 2.35428641e+24, 4.19870708e+24, 7.48810386e+24,\n",
       "        1.33545156e+25, 2.38168555e+25, 4.24757155e+25, 7.57525026e+25,\n",
       "        1.35099352e+26, 2.40940356e+26, 4.29700470e+26, 7.66341087e+26,\n",
       "        1.36671636e+27, 2.43744415e+27, 4.34701316e+27, 7.75259749e+27,\n",
       "        1.38262217e+28, 2.46581108e+28, 4.39760361e+28, 7.84282206e+28,\n",
       "        1.39871310e+29, 2.49450814e+29, 4.44878283e+29, 7.93409667e+29,\n",
       "        1.41499130e+30, 2.52353917e+30, 4.50055768e+30, 8.02643352e+30,\n",
       "        1.43145894e+31, 2.55290807e+31, 4.55293507e+31, 8.11984499e+31,\n",
       "        1.44811823e+32, 2.58261876e+32, 4.60592204e+32, 8.21434358e+32,\n",
       "        1.46497140e+33, 2.61267523e+33, 4.65952567e+33, 8.30994195e+33,\n",
       "        1.48202071e+34, 2.64308149e+34, 4.71375313e+34, 8.40665289e+34,\n",
       "        1.49926843e+35, 2.67384162e+35, 4.76861170e+35, 8.50448934e+35,\n",
       "        1.51671689e+36, 2.70495973e+36, 4.82410870e+36, 8.60346442e+36,\n",
       "        1.53436841e+37, 2.73644000e+37, 4.88025158e+37, 8.70359136e+37,\n",
       "        1.55222536e+38, 2.76828663e+38, 4.93704785e+38, 8.80488358e+38,\n",
       "        1.57029012e+39, 2.80050389e+39, 4.99450512e+39, 8.90735464e+39,\n",
       "        1.58856513e+40, 2.83309610e+40, 5.05263107e+40, 9.01101825e+40,\n",
       "        1.60705282e+41, 2.86606762e+41, 5.11143348e+41, 9.11588830e+41,\n",
       "        1.62575567e+42, 2.89942285e+42, 5.17092024e+42, 9.22197882e+42,\n",
       "        1.64467618e+43, 2.93316628e+43, 5.23109931e+43, 9.32930403e+43,\n",
       "        1.66381689e+44, 2.96730241e+44, 5.29197874e+44, 9.43787828e+44,\n",
       "        1.68318035e+45, 3.00183581e+45, 5.35356668e+45, 9.54771611e+45,\n",
       "        1.70276917e+46, 3.03677112e+46, 5.41587138e+46, 9.65883224e+46,\n",
       "        1.72258597e+47, 3.07211300e+47, 5.47890118e+47, 9.77124154e+47,\n",
       "        1.74263339e+48, 3.10786619e+48, 5.54266452e+48, 9.88495905e+48,\n",
       "        1.76291412e+49, 3.14403547e+49, 5.60716994e+49, 1.00000000e+50])}"
      ]
     },
     "execution_count": 50,
     "metadata": {},
     "output_type": "execute_result"
    }
   ],
   "source": [
    "gs.best_params_"
   ]
  },
  {
   "cell_type": "markdown",
   "metadata": {},
   "source": [
    "These alpha values are huge, sugesting very strong regularization which indicates an effort to drop some betas to zero. We expect this model to perform poorly compared to lasso."
   ]
  },
  {
   "cell_type": "code",
   "execution_count": 51,
   "metadata": {},
   "outputs": [
    {
     "data": {
      "text/plain": [
       "580.5225516094896"
      ]
     },
     "execution_count": 51,
     "metadata": {},
     "output_type": "execute_result"
    }
   ],
   "source": [
    "gs.best_estimator_.named_steps['ridge'].alpha_"
   ]
  },
  {
   "cell_type": "code",
   "execution_count": 52,
   "metadata": {},
   "outputs": [],
   "source": [
    "columns = X.columns\n",
    "columns = columns[gs.best_estimator_.named_steps['var_thresh'].get_support()]\n",
    "columns = columns[gs.best_estimator_.named_steps['kbest'].get_support()]\n",
    "\n",
    "X_weights = pd.DataFrame(gs.best_estimator_.named_steps[f'{model}'].coef_, \n",
    "             index = columns, \n",
    "             columns=['weight'])\n",
    "X_weights['abs_weight'] = X_weights['weight'].abs()"
   ]
  },
  {
   "cell_type": "code",
   "execution_count": 53,
   "metadata": {},
   "outputs": [
    {
     "data": {
      "text/html": [
       "<div>\n",
       "<style scoped>\n",
       "    .dataframe tbody tr th:only-of-type {\n",
       "        vertical-align: middle;\n",
       "    }\n",
       "\n",
       "    .dataframe tbody tr th {\n",
       "        vertical-align: top;\n",
       "    }\n",
       "\n",
       "    .dataframe thead th {\n",
       "        text-align: right;\n",
       "    }\n",
       "</style>\n",
       "<table border=\"1\" class=\"dataframe\">\n",
       "  <thead>\n",
       "    <tr style=\"text-align: right;\">\n",
       "      <th></th>\n",
       "      <th>weight</th>\n",
       "      <th>abs_weight</th>\n",
       "    </tr>\n",
       "  </thead>\n",
       "  <tbody>\n",
       "    <tr>\n",
       "      <th>Roof Matl_ClyTile</th>\n",
       "      <td>-8415.741238</td>\n",
       "      <td>8415.741238</td>\n",
       "    </tr>\n",
       "    <tr>\n",
       "      <th>Gr Liv Area</th>\n",
       "      <td>7286.766679</td>\n",
       "      <td>7286.766679</td>\n",
       "    </tr>\n",
       "    <tr>\n",
       "      <th>Overall Qual</th>\n",
       "      <td>6810.123151</td>\n",
       "      <td>6810.123151</td>\n",
       "    </tr>\n",
       "    <tr>\n",
       "      <th>Misc Feature_Elev</th>\n",
       "      <td>-5968.672599</td>\n",
       "      <td>5968.672599</td>\n",
       "    </tr>\n",
       "    <tr>\n",
       "      <th>1st Flr SF</th>\n",
       "      <td>5828.781121</td>\n",
       "      <td>5828.781121</td>\n",
       "    </tr>\n",
       "    <tr>\n",
       "      <th>Kitchen Qual_Ex</th>\n",
       "      <td>5737.005833</td>\n",
       "      <td>5737.005833</td>\n",
       "    </tr>\n",
       "    <tr>\n",
       "      <th>Total Bsmt SF</th>\n",
       "      <td>5012.538169</td>\n",
       "      <td>5012.538169</td>\n",
       "    </tr>\n",
       "    <tr>\n",
       "      <th>Exter Qual_Ex</th>\n",
       "      <td>4598.891785</td>\n",
       "      <td>4598.891785</td>\n",
       "    </tr>\n",
       "    <tr>\n",
       "      <th>Neighborhood_NridgHt</th>\n",
       "      <td>4457.640715</td>\n",
       "      <td>4457.640715</td>\n",
       "    </tr>\n",
       "    <tr>\n",
       "      <th>BsmtFin SF</th>\n",
       "      <td>4454.329405</td>\n",
       "      <td>4454.329405</td>\n",
       "    </tr>\n",
       "    <tr>\n",
       "      <th>Bsmt Qual_Ex</th>\n",
       "      <td>4339.990864</td>\n",
       "      <td>4339.990864</td>\n",
       "    </tr>\n",
       "    <tr>\n",
       "      <th>Garage Area</th>\n",
       "      <td>4156.956655</td>\n",
       "      <td>4156.956655</td>\n",
       "    </tr>\n",
       "    <tr>\n",
       "      <th>Neighborhood_StoneBr</th>\n",
       "      <td>4127.891822</td>\n",
       "      <td>4127.891822</td>\n",
       "    </tr>\n",
       "    <tr>\n",
       "      <th>Mas Vnr Area</th>\n",
       "      <td>3849.709715</td>\n",
       "      <td>3849.709715</td>\n",
       "    </tr>\n",
       "    <tr>\n",
       "      <th>2nd Flr SF</th>\n",
       "      <td>3843.393254</td>\n",
       "      <td>3843.393254</td>\n",
       "    </tr>\n",
       "    <tr>\n",
       "      <th>Baths</th>\n",
       "      <td>3840.760720</td>\n",
       "      <td>3840.760720</td>\n",
       "    </tr>\n",
       "    <tr>\n",
       "      <th>TotRms AbvGrd</th>\n",
       "      <td>3830.336950</td>\n",
       "      <td>3830.336950</td>\n",
       "    </tr>\n",
       "    <tr>\n",
       "      <th>Bsmt Exposure_Gd</th>\n",
       "      <td>3655.946341</td>\n",
       "      <td>3655.946341</td>\n",
       "    </tr>\n",
       "    <tr>\n",
       "      <th>Neighborhood_NoRidge</th>\n",
       "      <td>3604.542454</td>\n",
       "      <td>3604.542454</td>\n",
       "    </tr>\n",
       "    <tr>\n",
       "      <th>Garage Cars</th>\n",
       "      <td>3520.324405</td>\n",
       "      <td>3520.324405</td>\n",
       "    </tr>\n",
       "    <tr>\n",
       "      <th>Misc Val</th>\n",
       "      <td>-3459.676313</td>\n",
       "      <td>3459.676313</td>\n",
       "    </tr>\n",
       "    <tr>\n",
       "      <th>Lot Area</th>\n",
       "      <td>3198.989450</td>\n",
       "      <td>3198.989450</td>\n",
       "    </tr>\n",
       "    <tr>\n",
       "      <th>Overall Cond</th>\n",
       "      <td>3187.839306</td>\n",
       "      <td>3187.839306</td>\n",
       "    </tr>\n",
       "    <tr>\n",
       "      <th>Exterior_Brk</th>\n",
       "      <td>2673.482527</td>\n",
       "      <td>2673.482527</td>\n",
       "    </tr>\n",
       "    <tr>\n",
       "      <th>Bsmt Fin_GLQ</th>\n",
       "      <td>2411.305285</td>\n",
       "      <td>2411.305285</td>\n",
       "    </tr>\n",
       "    <tr>\n",
       "      <th>Sale Type_New</th>\n",
       "      <td>2396.506701</td>\n",
       "      <td>2396.506701</td>\n",
       "    </tr>\n",
       "    <tr>\n",
       "      <th>Year Built</th>\n",
       "      <td>2323.952040</td>\n",
       "      <td>2323.952040</td>\n",
       "    </tr>\n",
       "    <tr>\n",
       "      <th>Exter Qual_TA</th>\n",
       "      <td>-2319.466437</td>\n",
       "      <td>2319.466437</td>\n",
       "    </tr>\n",
       "    <tr>\n",
       "      <th>Roof Matl_WdShngl</th>\n",
       "      <td>2315.512441</td>\n",
       "      <td>2315.512441</td>\n",
       "    </tr>\n",
       "    <tr>\n",
       "      <th>Bsmt Baths</th>\n",
       "      <td>2301.685932</td>\n",
       "      <td>2301.685932</td>\n",
       "    </tr>\n",
       "    <tr>\n",
       "      <th>...</th>\n",
       "      <td>...</td>\n",
       "      <td>...</td>\n",
       "    </tr>\n",
       "    <tr>\n",
       "      <th>Exter Cond_Ex</th>\n",
       "      <td>118.967205</td>\n",
       "      <td>118.967205</td>\n",
       "    </tr>\n",
       "    <tr>\n",
       "      <th>Bsmt Cond_Gd</th>\n",
       "      <td>117.500854</td>\n",
       "      <td>117.500854</td>\n",
       "    </tr>\n",
       "    <tr>\n",
       "      <th>Bsmt Fin_none</th>\n",
       "      <td>-113.334117</td>\n",
       "      <td>113.334117</td>\n",
       "    </tr>\n",
       "    <tr>\n",
       "      <th>Bsmt Cond_none</th>\n",
       "      <td>-113.334117</td>\n",
       "      <td>113.334117</td>\n",
       "    </tr>\n",
       "    <tr>\n",
       "      <th>Bsmt Exposure_none</th>\n",
       "      <td>-113.334117</td>\n",
       "      <td>113.334117</td>\n",
       "    </tr>\n",
       "    <tr>\n",
       "      <th>Bsmt Qual_none</th>\n",
       "      <td>-113.334117</td>\n",
       "      <td>113.334117</td>\n",
       "    </tr>\n",
       "    <tr>\n",
       "      <th>Basement</th>\n",
       "      <td>113.334117</td>\n",
       "      <td>113.334117</td>\n",
       "    </tr>\n",
       "    <tr>\n",
       "      <th>Alley_Grvl</th>\n",
       "      <td>-110.454436</td>\n",
       "      <td>110.454436</td>\n",
       "    </tr>\n",
       "    <tr>\n",
       "      <th>Sale Type_ConLD</th>\n",
       "      <td>-106.729471</td>\n",
       "      <td>106.729471</td>\n",
       "    </tr>\n",
       "    <tr>\n",
       "      <th>Bsmt Qual_Po</th>\n",
       "      <td>102.948987</td>\n",
       "      <td>102.948987</td>\n",
       "    </tr>\n",
       "    <tr>\n",
       "      <th>Bsmt Cond_Ex</th>\n",
       "      <td>-99.675282</td>\n",
       "      <td>99.675282</td>\n",
       "    </tr>\n",
       "    <tr>\n",
       "      <th>Lot Config_Inside</th>\n",
       "      <td>-92.836130</td>\n",
       "      <td>92.836130</td>\n",
       "    </tr>\n",
       "    <tr>\n",
       "      <th>Exterior_WdShing</th>\n",
       "      <td>92.800472</td>\n",
       "      <td>92.800472</td>\n",
       "    </tr>\n",
       "    <tr>\n",
       "      <th>MS SubClass_split_foyer</th>\n",
       "      <td>-88.492669</td>\n",
       "      <td>88.492669</td>\n",
       "    </tr>\n",
       "    <tr>\n",
       "      <th>Garage Cond_Gd</th>\n",
       "      <td>87.350227</td>\n",
       "      <td>87.350227</td>\n",
       "    </tr>\n",
       "    <tr>\n",
       "      <th>MS SubClass_1_fin_attic</th>\n",
       "      <td>86.562808</td>\n",
       "      <td>86.562808</td>\n",
       "    </tr>\n",
       "    <tr>\n",
       "      <th>Neighborhood_NPkVill</th>\n",
       "      <td>-86.260565</td>\n",
       "      <td>86.260565</td>\n",
       "    </tr>\n",
       "    <tr>\n",
       "      <th>Neighborhood_ClearCr</th>\n",
       "      <td>82.577836</td>\n",
       "      <td>82.577836</td>\n",
       "    </tr>\n",
       "    <tr>\n",
       "      <th>Neighborhood_Timber</th>\n",
       "      <td>-80.925919</td>\n",
       "      <td>80.925919</td>\n",
       "    </tr>\n",
       "    <tr>\n",
       "      <th>Neighborhood_Blueste</th>\n",
       "      <td>66.043871</td>\n",
       "      <td>66.043871</td>\n",
       "    </tr>\n",
       "    <tr>\n",
       "      <th>Heating_Wall</th>\n",
       "      <td>64.960163</td>\n",
       "      <td>64.960163</td>\n",
       "    </tr>\n",
       "    <tr>\n",
       "      <th>MS Zoning_A (agr)</th>\n",
       "      <td>-54.694713</td>\n",
       "      <td>54.694713</td>\n",
       "    </tr>\n",
       "    <tr>\n",
       "      <th>Garage Finish_Unf</th>\n",
       "      <td>43.658783</td>\n",
       "      <td>43.658783</td>\n",
       "    </tr>\n",
       "    <tr>\n",
       "      <th>Paved Street</th>\n",
       "      <td>40.370118</td>\n",
       "      <td>40.370118</td>\n",
       "    </tr>\n",
       "    <tr>\n",
       "      <th>Foundation_Stone</th>\n",
       "      <td>-37.004105</td>\n",
       "      <td>37.004105</td>\n",
       "    </tr>\n",
       "    <tr>\n",
       "      <th>Functional_Min2</th>\n",
       "      <td>-33.573591</td>\n",
       "      <td>33.573591</td>\n",
       "    </tr>\n",
       "    <tr>\n",
       "      <th>Fence_GdWo</th>\n",
       "      <td>31.508645</td>\n",
       "      <td>31.508645</td>\n",
       "    </tr>\n",
       "    <tr>\n",
       "      <th>Garage Cond_Po</th>\n",
       "      <td>-16.849125</td>\n",
       "      <td>16.849125</td>\n",
       "    </tr>\n",
       "    <tr>\n",
       "      <th>Land Contour_Low</th>\n",
       "      <td>12.680353</td>\n",
       "      <td>12.680353</td>\n",
       "    </tr>\n",
       "    <tr>\n",
       "      <th>Fence_MnPrv</th>\n",
       "      <td>-1.183030</td>\n",
       "      <td>1.183030</td>\n",
       "    </tr>\n",
       "  </tbody>\n",
       "</table>\n",
       "<p>248 rows × 2 columns</p>\n",
       "</div>"
      ],
      "text/plain": [
       "                              weight   abs_weight\n",
       "Roof Matl_ClyTile       -8415.741238  8415.741238\n",
       "Gr Liv Area              7286.766679  7286.766679\n",
       "Overall Qual             6810.123151  6810.123151\n",
       "Misc Feature_Elev       -5968.672599  5968.672599\n",
       "1st Flr SF               5828.781121  5828.781121\n",
       "Kitchen Qual_Ex          5737.005833  5737.005833\n",
       "Total Bsmt SF            5012.538169  5012.538169\n",
       "Exter Qual_Ex            4598.891785  4598.891785\n",
       "Neighborhood_NridgHt     4457.640715  4457.640715\n",
       "BsmtFin SF               4454.329405  4454.329405\n",
       "Bsmt Qual_Ex             4339.990864  4339.990864\n",
       "Garage Area              4156.956655  4156.956655\n",
       "Neighborhood_StoneBr     4127.891822  4127.891822\n",
       "Mas Vnr Area             3849.709715  3849.709715\n",
       "2nd Flr SF               3843.393254  3843.393254\n",
       "Baths                    3840.760720  3840.760720\n",
       "TotRms AbvGrd            3830.336950  3830.336950\n",
       "Bsmt Exposure_Gd         3655.946341  3655.946341\n",
       "Neighborhood_NoRidge     3604.542454  3604.542454\n",
       "Garage Cars              3520.324405  3520.324405\n",
       "Misc Val                -3459.676313  3459.676313\n",
       "Lot Area                 3198.989450  3198.989450\n",
       "Overall Cond             3187.839306  3187.839306\n",
       "Exterior_Brk             2673.482527  2673.482527\n",
       "Bsmt Fin_GLQ             2411.305285  2411.305285\n",
       "Sale Type_New            2396.506701  2396.506701\n",
       "Year Built               2323.952040  2323.952040\n",
       "Exter Qual_TA           -2319.466437  2319.466437\n",
       "Roof Matl_WdShngl        2315.512441  2315.512441\n",
       "Bsmt Baths               2301.685932  2301.685932\n",
       "...                              ...          ...\n",
       "Exter Cond_Ex             118.967205   118.967205\n",
       "Bsmt Cond_Gd              117.500854   117.500854\n",
       "Bsmt Fin_none            -113.334117   113.334117\n",
       "Bsmt Cond_none           -113.334117   113.334117\n",
       "Bsmt Exposure_none       -113.334117   113.334117\n",
       "Bsmt Qual_none           -113.334117   113.334117\n",
       "Basement                  113.334117   113.334117\n",
       "Alley_Grvl               -110.454436   110.454436\n",
       "Sale Type_ConLD          -106.729471   106.729471\n",
       "Bsmt Qual_Po              102.948987   102.948987\n",
       "Bsmt Cond_Ex              -99.675282    99.675282\n",
       "Lot Config_Inside         -92.836130    92.836130\n",
       "Exterior_WdShing           92.800472    92.800472\n",
       "MS SubClass_split_foyer   -88.492669    88.492669\n",
       "Garage Cond_Gd             87.350227    87.350227\n",
       "MS SubClass_1_fin_attic    86.562808    86.562808\n",
       "Neighborhood_NPkVill      -86.260565    86.260565\n",
       "Neighborhood_ClearCr       82.577836    82.577836\n",
       "Neighborhood_Timber       -80.925919    80.925919\n",
       "Neighborhood_Blueste       66.043871    66.043871\n",
       "Heating_Wall               64.960163    64.960163\n",
       "MS Zoning_A (agr)         -54.694713    54.694713\n",
       "Garage Finish_Unf          43.658783    43.658783\n",
       "Paved Street               40.370118    40.370118\n",
       "Foundation_Stone          -37.004105    37.004105\n",
       "Functional_Min2           -33.573591    33.573591\n",
       "Fence_GdWo                 31.508645    31.508645\n",
       "Garage Cond_Po            -16.849125    16.849125\n",
       "Land Contour_Low           12.680353    12.680353\n",
       "Fence_MnPrv                -1.183030     1.183030\n",
       "\n",
       "[248 rows x 2 columns]"
      ]
     },
     "execution_count": 53,
     "metadata": {},
     "output_type": "execute_result"
    }
   ],
   "source": [
    "X_weights.sort_values(['abs_weight'],ascending=False)"
   ]
  },
  {
   "cell_type": "code",
   "execution_count": 19,
   "metadata": {},
   "outputs": [],
   "source": [
    "def md_coef_table(labels, weights):\n",
    "    print('| feature | weight |\\n| --- | --- |')\n",
    "    for i in range(len(labels)):\n",
    "        print(f'| {labels[i]} | {weights[i]:.2e} |')"
   ]
  },
  {
   "cell_type": "code",
   "execution_count": null,
   "metadata": {},
   "outputs": [],
   "source": [
    "weights = X_weights.sort_values('abs_weight', ascending=False)['weight']\n",
    "labels = weights.index"
   ]
  },
  {
   "cell_type": "code",
   "execution_count": 20,
   "metadata": {},
   "outputs": [
    {
     "name": "stdout",
     "output_type": "stream",
     "text": [
      "| feature | weight |\n",
      "| --- | --- |\n",
      "| Gr Liv Area | 7.00e+16 |\n",
      "| 2nd Flr SF | -5.88e+16 |\n",
      "| 1st Flr SF | -5.58e+16 |\n",
      "| BsmtFin SF 1 | 4.96e+16 |\n",
      "| Total Bsmt SF | -4.82e+16 |\n",
      "| Bsmt Unf SF | 4.69e+16 |\n",
      "| BsmtFin SF 2 | 1.80e+16 |\n",
      "| Low Qual Fin SF | -7.29e+15 |\n"
     ]
    }
   ],
   "source": [
    "md_coef_table(labels, weights);"
   ]
  },
  {
   "cell_type": "code",
   "execution_count": 54,
   "metadata": {},
   "outputs": [
    {
     "data": {
      "text/plain": [
       "180368.8058631922"
      ]
     },
     "execution_count": 54,
     "metadata": {},
     "output_type": "execute_result"
    }
   ],
   "source": [
    "beta0 = gs.best_estimator_.named_steps[f'{model}'].intercept_\n",
    "beta0"
   ]
  },
  {
   "cell_type": "code",
   "execution_count": 55,
   "metadata": {},
   "outputs": [
    {
     "data": {
      "text/plain": [
       "0.9222259395401674"
      ]
     },
     "execution_count": 55,
     "metadata": {},
     "output_type": "execute_result"
    }
   ],
   "source": [
    "gs.score(X_train,y_train)"
   ]
  },
  {
   "cell_type": "code",
   "execution_count": 56,
   "metadata": {},
   "outputs": [
    {
     "data": {
      "text/plain": [
       "0.9265042756043473"
      ]
     },
     "execution_count": 56,
     "metadata": {},
     "output_type": "execute_result"
    }
   ],
   "source": [
    "gs.score(X_test,y_test)"
   ]
  },
  {
   "cell_type": "markdown",
   "metadata": {},
   "source": [
    "The training and test scores align well, suggesting a well-fit model."
   ]
  },
  {
   "cell_type": "code",
   "execution_count": 57,
   "metadata": {},
   "outputs": [],
   "source": [
    "preds = gs.predict(X_test)"
   ]
  },
  {
   "cell_type": "code",
   "execution_count": 58,
   "metadata": {},
   "outputs": [
    {
     "data": {
      "text/plain": [
       "0.9160713749893945"
      ]
     },
     "execution_count": 58,
     "metadata": {},
     "output_type": "execute_result"
    }
   ],
   "source": [
    "r2_score(preds, y_test)"
   ]
  },
  {
   "cell_type": "code",
   "execution_count": 59,
   "metadata": {},
   "outputs": [
    {
     "data": {
      "text/plain": [
       "22497.956721802126"
      ]
     },
     "execution_count": 59,
     "metadata": {},
     "output_type": "execute_result"
    }
   ],
   "source": [
    "(mean_squared_error(preds, y_test))**.5"
   ]
  },
  {
   "cell_type": "markdown",
   "metadata": {},
   "source": [
    "Surprisingly, this model performs better than all but Lasso. This is interesting considering the very large alpha found during the gridsearch optimization. This suggests that with more tuning, the ElasticNet may be a better predictive model."
   ]
  },
  {
   "cell_type": "code",
   "execution_count": 60,
   "metadata": {},
   "outputs": [
    {
     "data": {
      "image/png": "[encoded data removed]",
      "text/plain": [
       "<Figure size 1152x648 with 1 Axes>"
      ]
     },
     "metadata": {
      "needs_background": "light"
     },
     "output_type": "display_data"
    }
   ],
   "source": [
    "plt.figure(figsize=(16,9))\n",
    "plt.title(f'Predicted vs. True: RidgeCV \\nRMSE: {mean_squared_error(y_test, gs.predict(X_test))**.5:.2f}', fontsize=30);\n",
    "\n",
    "plt.scatter(y_test, gs.predict(X_test))\n",
    "plt.plot([0, 600000], [0, 600000], color='r')\n",
    "\n",
    "plt.ylabel('Predicted', fontsize=20)\n",
    "plt.xlabel('True', fontsize=20)\n",
    "plt.legend(['Actual'])\n",
    " \n",
    "    \n",
    "plt.savefig('../images/ridge_preds_a547.png', dpi=300)"
   ]
  },
  {
   "cell_type": "markdown",
   "metadata": {},
   "source": [
    "The model seems to manage the outliers best of any model so far. Very conistent error across all values."
   ]
  },
  {
   "cell_type": "markdown",
   "metadata": {},
   "source": [
    "## Plotting Beta Weights"
   ]
  },
  {
   "cell_type": "code",
   "execution_count": 61,
   "metadata": {},
   "outputs": [
    {
     "data": {
      "image/png": "[encoded data removed]",
      "text/plain": [
       "<Figure size 1440x720 with 1 Axes>"
      ]
     },
     "metadata": {
      "needs_background": "light"
     },
     "output_type": "display_data"
    }
   ],
   "source": [
    "weights = X_weights.sort_values('abs_weight', ascending=False)['weight'].head(10)\n",
    "beta_0 = gs.best_estimator_.named_steps[f'{model}'].intercept_\n",
    "labels = weights.index\n",
    "\n",
    "plt.figure(figsize=(20,10))\n",
    "plt.barh(labels, weights)\n",
    "plt.yticks(fontsize=20)\n",
    "plt.xticks(fontsize=20)\n",
    "plt.xlabel('Weights', fontsize=30)\n",
    "plt.title(f'Most Important Features and Weights\\ny intercept: ${beta_0:0.02f}', fontsize=42)\n",
    "plt.tight_layout()\n",
    "\n",
    "#plt.savefig('../images/ridge_a547.png', dpi=300)"
   ]
  },
  {
   "cell_type": "markdown",
   "metadata": {},
   "source": [
    "This model puts much less emphasis on garage related features, although Clay Tile does seem to have a surprisingly large negative impact on home value."
   ]
  },
  {
   "cell_type": "code",
   "execution_count": 62,
   "metadata": {},
   "outputs": [
    {
     "data": {
      "text/plain": [
       "(512, 254)"
      ]
     },
     "execution_count": 62,
     "metadata": {},
     "output_type": "execute_result"
    }
   ],
   "source": [
    "X_test.shape"
   ]
  },
  {
   "cell_type": "markdown",
   "metadata": {},
   "source": [
    "# Saving out column names and scaled data for use in future models."
   ]
  },
  {
   "cell_type": "markdown",
   "metadata": {},
   "source": [
    "Function to save out files with a clear description of each run. Source: Douglas Strodman."
   ]
  },
  {
   "cell_type": "code",
   "execution_count": 39,
   "metadata": {},
   "outputs": [],
   "source": [
    "def filename_format_log(file_path, #path for saving out file of interest\n",
    "                        logfile='../assets/file_log.txt', #default value\n",
    "                        now=round(time.time()), #time in epoch time\n",
    "                        file_description=None): \n",
    "    try:\n",
    "        ext = re.search('(?<!^)(?<!\\.)\\.(?!\\.)', file_path).start() #regx arg to search string for patterns \n",
    "                                                                    #(period not followed or preceeded by a period or follows string)\n",
    "    except:\n",
    "        raise NameError('Please enter a relative path with a file extension.') \n",
    "    formatted_name = f'{file_path[:ext]}_{now}{file_path[ext:]}' #capture everything to (.) and then add (_) time\n",
    "    if not file_description:\n",
    "        file_description = input('Please provide a brief description: ')\n",
    "    with open(logfile, 'a+') as f:\n",
    "        f.write(f'{formatted_name}: {file_description}\\n')\n",
    "    return formatted_name, now, file_description"
   ]
  },
  {
   "cell_type": "markdown",
   "metadata": {},
   "source": [
    "Saving columns that were retained by the model"
   ]
  },
  {
   "cell_type": "code",
   "execution_count": 40,
   "metadata": {},
   "outputs": [],
   "source": [
    "columns = X_train.columns"
   ]
  },
  {
   "cell_type": "code",
   "execution_count": 41,
   "metadata": {},
   "outputs": [
    {
     "name": "stdin",
     "output_type": "stream",
     "text": [
      "Please provide a brief description:  Ridge a=547\n"
     ]
    }
   ],
   "source": [
    "formatted_name, now, file_description= filename_format_log('../assets/columns.pkl')\n",
    "\n",
    "with open(formatted_name, 'wb+') as f:\n",
    "    pickle.dump(columns, f)"
   ]
  },
  {
   "cell_type": "code",
   "execution_count": 42,
   "metadata": {},
   "outputs": [],
   "source": [
    "formatted_name, _, _= filename_format_log('../assets/gs.pkl', now=now, file_description=file_description)\n",
    "\n",
    "with open(formatted_name, 'wb+') as f:\n",
    "    pickle.dump(gs, f)"
   ]
  },
  {
   "cell_type": "code",
   "execution_count": null,
   "metadata": {},
   "outputs": [],
   "source": []
  }
 ],
 "metadata": {
  "kernelspec": {
   "display_name": "Python 3",
   "language": "python",
   "name": "python3"
  },
  "language_info": {
   "codemirror_mode": {
    "name": "ipython",
    "version": 3
   },
   "file_extension": ".py",
   "mimetype": "text/x-python",
   "name": "python",
   "nbconvert_exporter": "python",
   "pygments_lexer": "ipython3",
   "version": "3.6.7"
  }
 },
 "nbformat": 4,
 "nbformat_minor": 2
}
