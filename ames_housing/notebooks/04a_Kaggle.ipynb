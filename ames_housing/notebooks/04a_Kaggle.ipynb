{
 "cells": [
  {
   "cell_type": "markdown",
   "metadata": {},
   "source": [
    "# NOTEBOOK 04a: KAGGLE - Preprocessing"
   ]
  },
  {
   "cell_type": "code",
   "execution_count": 1,
   "metadata": {},
   "outputs": [],
   "source": [
    "import pandas as pd\n",
    "import numpy as np\n",
    "import matplotlib.pyplot as plt\n",
    "import seaborn as sns\n",
    "import csv\n",
    "import pickle\n",
    "import re\n",
    "import time\n",
    "\n",
    "from scipy import stats\n",
    "from sklearn.pipeline import Pipeline\n",
    "from sklearn.preprocessing import StandardScaler\n",
    "from sklearn.feature_selection import VarianceThreshold, SelectKBest, SelectPercentile, SelectFromModel, f_regression, RFECV\n",
    "from sklearn.linear_model import LinearRegression, LassoCV, RidgeCV, ElasticNetCV\n",
    "from sklearn.model_selection import train_test_split, cross_val_score, GridSearchCV, RandomizedSearchCV\n",
    "from sklearn.metrics import r2_score, mean_squared_error\n",
    "from sklearn.neighbors import KNeighborsRegressor\n",
    "\n",
    "import warnings\n",
    "warnings.simplefilter(action='ignore', category=FutureWarning)\n",
    "warnings.simplefilter(action='ignore', category=DeprecationWarning)\n",
    "\n",
    "np.random.seed(42)\n",
    "\n",
    "%matplotlib inline"
   ]
  },
  {
   "cell_type": "code",
   "execution_count": 2,
   "metadata": {},
   "outputs": [],
   "source": [
    "now ='1544174228'"
   ]
  },
  {
   "cell_type": "code",
   "execution_count": 3,
   "metadata": {},
   "outputs": [],
   "source": [
    "def extract_element_name(file_path, now):\n",
    "    return re.findall(f'/([^/]*)_{now}', file_path)[0]"
   ]
  },
  {
   "cell_type": "code",
   "execution_count": 4,
   "metadata": {},
   "outputs": [],
   "source": [
    "def make_file_dict(now):\n",
    "    file_dict = {}\n",
    "    file_list = !ls ../*/*'{now}'*\n",
    "    for file in file_list:\n",
    "        file_dict[extract_element_name(file, now)] = file\n",
    "    return file_dict"
   ]
  },
  {
   "cell_type": "code",
   "execution_count": 5,
   "metadata": {},
   "outputs": [],
   "source": [
    "file_dict = make_file_dict(f'{now}')"
   ]
  },
  {
   "cell_type": "code",
   "execution_count": 6,
   "metadata": {},
   "outputs": [
    {
     "data": {
      "text/plain": [
       "{'columns': '../assets/columns_1544174228.pkl',\n",
       " 'gs': '../assets/gs_1544174228.pkl'}"
      ]
     },
     "execution_count": 6,
     "metadata": {},
     "output_type": "execute_result"
    }
   ],
   "source": [
    "file_dict"
   ]
  },
  {
   "cell_type": "code",
   "execution_count": 7,
   "metadata": {},
   "outputs": [],
   "source": [
    "# use pickle.load to load in these assets\n",
    "with open(f'../assets/columns_{now}.pkl', 'rb') as f:\n",
    "    columns = pickle.load(f)\n",
    "    \n",
    "with open(f'../assets/gs_{now}.pkl', 'rb') as f:\n",
    "    gs = pickle.load(f)"
   ]
  },
  {
   "cell_type": "code",
   "execution_count": 8,
   "metadata": {},
   "outputs": [
    {
     "data": {
      "text/plain": [
       "GridSearchCV(cv=5, error_score='raise-deprecating',\n",
       "       estimator=Pipeline(memory=None,\n",
       "     steps=[('var_thresh', VarianceThreshold(threshold=0)), ('ss', StandardScaler(copy=True, with_mean=True, with_std=True)), ('kbest', SelectKBest(k=37, score_func=<function f_regression at 0x1a2103cf28>)), ('ridge', RidgeCV(alphas=array([ 0.1,  1. , 10. ]), cv=None, fit_intercept=True,\n",
       "    gcv_mode=None, normalize=False, scoring=None, store_cv_values=False))]),\n",
       "       fit_params=None, iid='warn', n_jobs=None,\n",
       "       param_grid={'var_thresh__threshold': [0, 0.001, 0.01, 0.02, 0.05], 'kbest__k': [5, 7, 13, 17, 23, 37, 53, 79, 'all'], 'ridge__alphas': [array([1.00000e-05, 1.88965e-05, ..., 5.29198e+49, 1.00000e+50])]},\n",
       "       pre_dispatch='2*n_jobs', refit=True, return_train_score='warn',\n",
       "       scoring='r2', verbose=1)"
      ]
     },
     "execution_count": 8,
     "metadata": {},
     "output_type": "execute_result"
    }
   ],
   "source": [
    "gs"
   ]
  },
  {
   "cell_type": "code",
   "execution_count": 9,
   "metadata": {},
   "outputs": [
    {
     "data": {
      "text/plain": [
       "Index(['Lot Frontage', 'Lot Area', 'Overall Qual', 'Overall Cond',\n",
       "       'Year Built', 'Year Remod/Add', 'Mas Vnr Area', 'Bsmt Unf SF',\n",
       "       'Total Bsmt SF', 'Central Air',\n",
       "       ...\n",
       "       'Misc Feature_none', 'Sale Type_COD', 'Sale Type_CWD', 'Sale Type_Con',\n",
       "       'Sale Type_ConLD', 'Sale Type_ConLI', 'Sale Type_ConLw',\n",
       "       'Sale Type_New', 'Sale Type_Oth', 'Sale Type_WD '],\n",
       "      dtype='object', length=254)"
      ]
     },
     "execution_count": 9,
     "metadata": {},
     "output_type": "execute_result"
    }
   ],
   "source": [
    "columns"
   ]
  },
  {
   "cell_type": "code",
   "execution_count": 10,
   "metadata": {},
   "outputs": [],
   "source": [
    "kaggle = pd.read_csv('../data/test.csv', index_col='Id')"
   ]
  },
  {
   "cell_type": "code",
   "execution_count": 11,
   "metadata": {},
   "outputs": [
    {
     "data": {
      "text/html": [
       "<div>\n",
       "<style scoped>\n",
       "    .dataframe tbody tr th:only-of-type {\n",
       "        vertical-align: middle;\n",
       "    }\n",
       "\n",
       "    .dataframe tbody tr th {\n",
       "        vertical-align: top;\n",
       "    }\n",
       "\n",
       "    .dataframe thead th {\n",
       "        text-align: right;\n",
       "    }\n",
       "</style>\n",
       "<table border=\"1\" class=\"dataframe\">\n",
       "  <thead>\n",
       "    <tr style=\"text-align: right;\">\n",
       "      <th></th>\n",
       "      <th>PID</th>\n",
       "      <th>MS SubClass</th>\n",
       "      <th>MS Zoning</th>\n",
       "      <th>Lot Frontage</th>\n",
       "      <th>Lot Area</th>\n",
       "      <th>Street</th>\n",
       "      <th>Alley</th>\n",
       "      <th>Lot Shape</th>\n",
       "      <th>Land Contour</th>\n",
       "      <th>Utilities</th>\n",
       "      <th>...</th>\n",
       "      <th>3Ssn Porch</th>\n",
       "      <th>Screen Porch</th>\n",
       "      <th>Pool Area</th>\n",
       "      <th>Pool QC</th>\n",
       "      <th>Fence</th>\n",
       "      <th>Misc Feature</th>\n",
       "      <th>Misc Val</th>\n",
       "      <th>Mo Sold</th>\n",
       "      <th>Yr Sold</th>\n",
       "      <th>Sale Type</th>\n",
       "    </tr>\n",
       "    <tr>\n",
       "      <th>Id</th>\n",
       "      <th></th>\n",
       "      <th></th>\n",
       "      <th></th>\n",
       "      <th></th>\n",
       "      <th></th>\n",
       "      <th></th>\n",
       "      <th></th>\n",
       "      <th></th>\n",
       "      <th></th>\n",
       "      <th></th>\n",
       "      <th></th>\n",
       "      <th></th>\n",
       "      <th></th>\n",
       "      <th></th>\n",
       "      <th></th>\n",
       "      <th></th>\n",
       "      <th></th>\n",
       "      <th></th>\n",
       "      <th></th>\n",
       "      <th></th>\n",
       "      <th></th>\n",
       "    </tr>\n",
       "  </thead>\n",
       "  <tbody>\n",
       "    <tr>\n",
       "      <th>2658</th>\n",
       "      <td>902301120</td>\n",
       "      <td>190</td>\n",
       "      <td>RM</td>\n",
       "      <td>69.0</td>\n",
       "      <td>9142</td>\n",
       "      <td>Pave</td>\n",
       "      <td>Grvl</td>\n",
       "      <td>Reg</td>\n",
       "      <td>Lvl</td>\n",
       "      <td>AllPub</td>\n",
       "      <td>...</td>\n",
       "      <td>0</td>\n",
       "      <td>0</td>\n",
       "      <td>0</td>\n",
       "      <td>NaN</td>\n",
       "      <td>NaN</td>\n",
       "      <td>NaN</td>\n",
       "      <td>0</td>\n",
       "      <td>4</td>\n",
       "      <td>2006</td>\n",
       "      <td>WD</td>\n",
       "    </tr>\n",
       "    <tr>\n",
       "      <th>2718</th>\n",
       "      <td>905108090</td>\n",
       "      <td>90</td>\n",
       "      <td>RL</td>\n",
       "      <td>NaN</td>\n",
       "      <td>9662</td>\n",
       "      <td>Pave</td>\n",
       "      <td>NaN</td>\n",
       "      <td>IR1</td>\n",
       "      <td>Lvl</td>\n",
       "      <td>AllPub</td>\n",
       "      <td>...</td>\n",
       "      <td>0</td>\n",
       "      <td>0</td>\n",
       "      <td>0</td>\n",
       "      <td>NaN</td>\n",
       "      <td>NaN</td>\n",
       "      <td>NaN</td>\n",
       "      <td>0</td>\n",
       "      <td>8</td>\n",
       "      <td>2006</td>\n",
       "      <td>WD</td>\n",
       "    </tr>\n",
       "    <tr>\n",
       "      <th>2414</th>\n",
       "      <td>528218130</td>\n",
       "      <td>60</td>\n",
       "      <td>RL</td>\n",
       "      <td>58.0</td>\n",
       "      <td>17104</td>\n",
       "      <td>Pave</td>\n",
       "      <td>NaN</td>\n",
       "      <td>IR1</td>\n",
       "      <td>Lvl</td>\n",
       "      <td>AllPub</td>\n",
       "      <td>...</td>\n",
       "      <td>0</td>\n",
       "      <td>0</td>\n",
       "      <td>0</td>\n",
       "      <td>NaN</td>\n",
       "      <td>NaN</td>\n",
       "      <td>NaN</td>\n",
       "      <td>0</td>\n",
       "      <td>9</td>\n",
       "      <td>2006</td>\n",
       "      <td>New</td>\n",
       "    </tr>\n",
       "    <tr>\n",
       "      <th>1989</th>\n",
       "      <td>902207150</td>\n",
       "      <td>30</td>\n",
       "      <td>RM</td>\n",
       "      <td>60.0</td>\n",
       "      <td>8520</td>\n",
       "      <td>Pave</td>\n",
       "      <td>NaN</td>\n",
       "      <td>Reg</td>\n",
       "      <td>Lvl</td>\n",
       "      <td>AllPub</td>\n",
       "      <td>...</td>\n",
       "      <td>0</td>\n",
       "      <td>0</td>\n",
       "      <td>0</td>\n",
       "      <td>NaN</td>\n",
       "      <td>NaN</td>\n",
       "      <td>NaN</td>\n",
       "      <td>0</td>\n",
       "      <td>7</td>\n",
       "      <td>2007</td>\n",
       "      <td>WD</td>\n",
       "    </tr>\n",
       "    <tr>\n",
       "      <th>625</th>\n",
       "      <td>535105100</td>\n",
       "      <td>20</td>\n",
       "      <td>RL</td>\n",
       "      <td>NaN</td>\n",
       "      <td>9500</td>\n",
       "      <td>Pave</td>\n",
       "      <td>NaN</td>\n",
       "      <td>IR1</td>\n",
       "      <td>Lvl</td>\n",
       "      <td>AllPub</td>\n",
       "      <td>...</td>\n",
       "      <td>0</td>\n",
       "      <td>185</td>\n",
       "      <td>0</td>\n",
       "      <td>NaN</td>\n",
       "      <td>NaN</td>\n",
       "      <td>NaN</td>\n",
       "      <td>0</td>\n",
       "      <td>7</td>\n",
       "      <td>2009</td>\n",
       "      <td>WD</td>\n",
       "    </tr>\n",
       "  </tbody>\n",
       "</table>\n",
       "<p>5 rows × 79 columns</p>\n",
       "</div>"
      ],
      "text/plain": [
       "            PID  MS SubClass MS Zoning  Lot Frontage  Lot Area Street Alley  \\\n",
       "Id                                                                            \n",
       "2658  902301120          190        RM          69.0      9142   Pave  Grvl   \n",
       "2718  905108090           90        RL           NaN      9662   Pave   NaN   \n",
       "2414  528218130           60        RL          58.0     17104   Pave   NaN   \n",
       "1989  902207150           30        RM          60.0      8520   Pave   NaN   \n",
       "625   535105100           20        RL           NaN      9500   Pave   NaN   \n",
       "\n",
       "     Lot Shape Land Contour Utilities    ...     3Ssn Porch Screen Porch  \\\n",
       "Id                                       ...                               \n",
       "2658       Reg          Lvl    AllPub    ...              0            0   \n",
       "2718       IR1          Lvl    AllPub    ...              0            0   \n",
       "2414       IR1          Lvl    AllPub    ...              0            0   \n",
       "1989       Reg          Lvl    AllPub    ...              0            0   \n",
       "625        IR1          Lvl    AllPub    ...              0          185   \n",
       "\n",
       "     Pool Area Pool QC Fence Misc Feature Misc Val  Mo Sold  Yr Sold  \\\n",
       "Id                                                                     \n",
       "2658         0     NaN   NaN          NaN        0        4     2006   \n",
       "2718         0     NaN   NaN          NaN        0        8     2006   \n",
       "2414         0     NaN   NaN          NaN        0        9     2006   \n",
       "1989         0     NaN   NaN          NaN        0        7     2007   \n",
       "625          0     NaN   NaN          NaN        0        7     2009   \n",
       "\n",
       "      Sale Type  \n",
       "Id               \n",
       "2658        WD   \n",
       "2718        WD   \n",
       "2414        New  \n",
       "1989        WD   \n",
       "625         WD   \n",
       "\n",
       "[5 rows x 79 columns]"
      ]
     },
     "execution_count": 11,
     "metadata": {},
     "output_type": "execute_result"
    }
   ],
   "source": [
    "kaggle.head()"
   ]
  },
  {
   "cell_type": "code",
   "execution_count": 12,
   "metadata": {},
   "outputs": [
    {
     "data": {
      "text/plain": [
       "PID                 0\n",
       "MS SubClass         0\n",
       "MS Zoning           0\n",
       "Lot Frontage      160\n",
       "Lot Area            0\n",
       "Street              0\n",
       "Alley             821\n",
       "Lot Shape           0\n",
       "Land Contour        0\n",
       "Utilities           0\n",
       "Lot Config          0\n",
       "Land Slope          0\n",
       "Neighborhood        0\n",
       "Condition 1         0\n",
       "Condition 2         0\n",
       "Bldg Type           0\n",
       "House Style         0\n",
       "Overall Qual        0\n",
       "Overall Cond        0\n",
       "Year Built          0\n",
       "Year Remod/Add      0\n",
       "Roof Style          0\n",
       "Roof Matl           0\n",
       "Exterior 1st        0\n",
       "Exterior 2nd        0\n",
       "Mas Vnr Type        1\n",
       "Mas Vnr Area        1\n",
       "Exter Qual          0\n",
       "Exter Cond          0\n",
       "Foundation          0\n",
       "                 ... \n",
       "Full Bath           0\n",
       "Half Bath           0\n",
       "Bedroom AbvGr       0\n",
       "Kitchen AbvGr       0\n",
       "Kitchen Qual        0\n",
       "TotRms AbvGrd       0\n",
       "Functional          0\n",
       "Fireplaces          0\n",
       "Fireplace Qu      422\n",
       "Garage Type        44\n",
       "Garage Yr Blt      45\n",
       "Garage Finish      45\n",
       "Garage Cars         0\n",
       "Garage Area         0\n",
       "Garage Qual        45\n",
       "Garage Cond        45\n",
       "Paved Drive         0\n",
       "Wood Deck SF        0\n",
       "Open Porch SF       0\n",
       "Enclosed Porch      0\n",
       "3Ssn Porch          0\n",
       "Screen Porch        0\n",
       "Pool Area           0\n",
       "Pool QC           875\n",
       "Fence             707\n",
       "Misc Feature      838\n",
       "Misc Val            0\n",
       "Mo Sold             0\n",
       "Yr Sold             0\n",
       "Sale Type           0\n",
       "Length: 79, dtype: int64"
      ]
     },
     "execution_count": 12,
     "metadata": {},
     "output_type": "execute_result"
    }
   ],
   "source": [
    "kaggle.isna().sum()"
   ]
  },
  {
   "cell_type": "markdown",
   "metadata": {},
   "source": [
    "## Data Cleaning / Converting Null Values"
   ]
  },
  {
   "cell_type": "code",
   "execution_count": 13,
   "metadata": {},
   "outputs": [],
   "source": [
    "df = kaggle"
   ]
  },
  {
   "cell_type": "code",
   "execution_count": 14,
   "metadata": {},
   "outputs": [],
   "source": [
    "df.drop(['PID'], axis=1, inplace=True)"
   ]
  },
  {
   "cell_type": "code",
   "execution_count": 15,
   "metadata": {},
   "outputs": [],
   "source": [
    "df.drop(['Mo Sold','Yr Sold'], axis=1, inplace=True)"
   ]
  },
  {
   "cell_type": "code",
   "execution_count": 16,
   "metadata": {},
   "outputs": [],
   "source": [
    "df.drop(['Pool QC'], axis=1, inplace=True)"
   ]
  },
  {
   "cell_type": "code",
   "execution_count": 17,
   "metadata": {},
   "outputs": [],
   "source": [
    "df['Misc Feature'].fillna('none',inplace=True)"
   ]
  },
  {
   "cell_type": "code",
   "execution_count": 18,
   "metadata": {},
   "outputs": [],
   "source": [
    "df['Alley'].fillna(value='none', inplace=True)"
   ]
  },
  {
   "cell_type": "code",
   "execution_count": 19,
   "metadata": {},
   "outputs": [],
   "source": [
    "df['Fence'].fillna(value='none', inplace=True)"
   ]
  },
  {
   "cell_type": "code",
   "execution_count": 20,
   "metadata": {},
   "outputs": [],
   "source": [
    "df['Fireplace Qu'].fillna('none', inplace=True)"
   ]
  },
  {
   "cell_type": "code",
   "execution_count": 21,
   "metadata": {},
   "outputs": [],
   "source": [
    "df['Lot Frontage'].fillna(value=0.0, inplace=True)"
   ]
  },
  {
   "cell_type": "code",
   "execution_count": 22,
   "metadata": {},
   "outputs": [],
   "source": [
    "df['Garage Cond'].fillna(value='none', inplace=True)\n",
    "df['Garage Qual'].fillna(value='none', inplace=True)\n",
    "df['Garage Yr Blt'].fillna(value=df['Year Built'], inplace=True)\n",
    "df['Garage Finish'].fillna(value='none', inplace=True)\n",
    "df['Garage Type'].fillna(value='none', inplace=True)"
   ]
  },
  {
   "cell_type": "code",
   "execution_count": 23,
   "metadata": {},
   "outputs": [],
   "source": [
    "df['Garage Yr Blt'] = df['Garage Yr Blt'].astype(int)"
   ]
  },
  {
   "cell_type": "code",
   "execution_count": 24,
   "metadata": {},
   "outputs": [],
   "source": [
    "df['Basement'] = df['Bsmt Qual'].map(lambda x: 1 if type(x)==str else 0)"
   ]
  },
  {
   "cell_type": "code",
   "execution_count": 25,
   "metadata": {},
   "outputs": [],
   "source": [
    "df['Bsmt Exposure'].fillna(value='none', inplace=True)\n",
    "df['BsmtFin Type 2'].fillna(value='none', inplace=True)\n",
    "df['Bsmt Qual'].fillna(value='none', inplace=True)\n",
    "df['BsmtFin Type 1'].fillna(value='none', inplace=True)\n",
    "df['Bsmt Cond'].fillna(value='none', inplace=True)"
   ]
  },
  {
   "cell_type": "code",
   "execution_count": 26,
   "metadata": {},
   "outputs": [],
   "source": [
    "df['Mas Vnr Type'].fillna(value='none', inplace=True)\n",
    "df['Mas Vnr Area'].fillna(value=0, inplace=True)"
   ]
  },
  {
   "cell_type": "code",
   "execution_count": 27,
   "metadata": {},
   "outputs": [],
   "source": [
    "df['Bsmt Half Bath'].fillna(value=0, inplace=True)\n",
    "df['Bsmt Full Bath'].fillna(value=0, inplace=True)\n",
    "df['Total Bsmt SF'].fillna(value=0.0, inplace=True)\n",
    "df['Bsmt Unf SF'].fillna(value=0.0, inplace=True)\n",
    "df['BsmtFin SF 1'].fillna(value=0.0, inplace=True)\n",
    "df['BsmtFin SF 2'].fillna(value=0.0, inplace=True)"
   ]
  },
  {
   "cell_type": "code",
   "execution_count": 28,
   "metadata": {},
   "outputs": [],
   "source": [
    "df['Bsmt Baths']=(df['Bsmt Half Bath']*0.5)+df['Bsmt Full Bath']"
   ]
  },
  {
   "cell_type": "code",
   "execution_count": 29,
   "metadata": {},
   "outputs": [],
   "source": [
    "df.drop(['Bsmt Half Bath','Bsmt Full Bath'], axis=1, inplace=True)"
   ]
  },
  {
   "cell_type": "code",
   "execution_count": 30,
   "metadata": {},
   "outputs": [],
   "source": [
    "df['Garage Cars'].fillna(value=0, inplace=True)\n",
    "df['Garage Area'].fillna(value=0.0, inplace=True)"
   ]
  },
  {
   "cell_type": "code",
   "execution_count": 31,
   "metadata": {},
   "outputs": [],
   "source": [
    "df.drop('Electrical',axis=1, inplace=True)"
   ]
  },
  {
   "cell_type": "markdown",
   "metadata": {},
   "source": [
    "Confirming that all NaNs have now been corrected."
   ]
  },
  {
   "cell_type": "code",
   "execution_count": 32,
   "metadata": {},
   "outputs": [
    {
     "data": {
      "text/plain": [
       "0"
      ]
     },
     "execution_count": 32,
     "metadata": {},
     "output_type": "execute_result"
    }
   ],
   "source": [
    "df.isna().sum().sum()"
   ]
  },
  {
   "cell_type": "code",
   "execution_count": 33,
   "metadata": {},
   "outputs": [
    {
     "data": {
      "text/plain": [
       "Bsmt Baths         0\n",
       "Year Built         0\n",
       "Roof Style         0\n",
       "Roof Matl          0\n",
       "Exterior 1st       0\n",
       "Exterior 2nd       0\n",
       "Mas Vnr Type       0\n",
       "Mas Vnr Area       0\n",
       "Exter Qual         0\n",
       "Exter Cond         0\n",
       "Foundation         0\n",
       "Bsmt Qual          0\n",
       "Bsmt Cond          0\n",
       "Bsmt Exposure      0\n",
       "BsmtFin Type 1     0\n",
       "BsmtFin SF 1       0\n",
       "BsmtFin Type 2     0\n",
       "Year Remod/Add     0\n",
       "Overall Cond       0\n",
       "Basement           0\n",
       "Overall Qual       0\n",
       "MS Zoning          0\n",
       "Lot Frontage       0\n",
       "Lot Area           0\n",
       "Street             0\n",
       "Alley              0\n",
       "Lot Shape          0\n",
       "Land Contour       0\n",
       "Utilities          0\n",
       "Lot Config         0\n",
       "                  ..\n",
       "Paved Drive        0\n",
       "Wood Deck SF       0\n",
       "Open Porch SF      0\n",
       "Enclosed Porch     0\n",
       "3Ssn Porch         0\n",
       "Screen Porch       0\n",
       "Pool Area          0\n",
       "Fence              0\n",
       "Misc Feature       0\n",
       "Misc Val           0\n",
       "Sale Type          0\n",
       "Garage Finish      0\n",
       "Garage Yr Blt      0\n",
       "Garage Type        0\n",
       "Full Bath          0\n",
       "Heating QC         0\n",
       "Central Air        0\n",
       "1st Flr SF         0\n",
       "2nd Flr SF         0\n",
       "Low Qual Fin SF    0\n",
       "Gr Liv Area        0\n",
       "Half Bath          0\n",
       "Fireplace Qu       0\n",
       "Bedroom AbvGr      0\n",
       "Kitchen AbvGr      0\n",
       "Kitchen Qual       0\n",
       "TotRms AbvGrd      0\n",
       "Functional         0\n",
       "Fireplaces         0\n",
       "MS SubClass        0\n",
       "Length: 74, dtype: int64"
      ]
     },
     "execution_count": 33,
     "metadata": {},
     "output_type": "execute_result"
    }
   ],
   "source": [
    "df.isna().sum().sort_values(ascending=False)"
   ]
  },
  {
   "cell_type": "markdown",
   "metadata": {},
   "source": [
    "# Feature Engineering"
   ]
  },
  {
   "cell_type": "code",
   "execution_count": 34,
   "metadata": {},
   "outputs": [],
   "source": [
    "df['Central Air'] = df['Central Air'].map({'N':0, 'Y':1})"
   ]
  },
  {
   "cell_type": "code",
   "execution_count": 35,
   "metadata": {},
   "outputs": [],
   "source": [
    "df['Paved Street'] = df['Street'].map({'Grvl':0, 'Pave':1})"
   ]
  },
  {
   "cell_type": "code",
   "execution_count": 36,
   "metadata": {},
   "outputs": [],
   "source": [
    "df.drop('Street', axis=1, inplace=True)"
   ]
  },
  {
   "cell_type": "code",
   "execution_count": 37,
   "metadata": {},
   "outputs": [],
   "source": [
    "df['Paved Drive'] = df['Paved Drive'].map({'N':0,'P':0,'Y':1})"
   ]
  },
  {
   "cell_type": "code",
   "execution_count": 38,
   "metadata": {},
   "outputs": [],
   "source": [
    "df['Porch'] = df['Enclosed Porch']+df['3Ssn Porch']+df['Screen Porch']"
   ]
  },
  {
   "cell_type": "code",
   "execution_count": 39,
   "metadata": {},
   "outputs": [],
   "source": [
    "df['Porch']=df['Porch'].map(lambda x: 0 if x==0 else 1)"
   ]
  },
  {
   "cell_type": "code",
   "execution_count": 40,
   "metadata": {},
   "outputs": [],
   "source": [
    "df.drop(['Enclosed Porch','3Ssn Porch','Screen Porch'], axis=1, inplace=True)"
   ]
  },
  {
   "cell_type": "code",
   "execution_count": 41,
   "metadata": {},
   "outputs": [],
   "source": [
    "df['Gr Liv Area'] = df['Low Qual Fin SF']+df['Gr Liv Area']"
   ]
  },
  {
   "cell_type": "code",
   "execution_count": 42,
   "metadata": {},
   "outputs": [],
   "source": [
    "df.drop('Low Qual Fin SF',axis=1,inplace=True)"
   ]
  },
  {
   "cell_type": "code",
   "execution_count": 43,
   "metadata": {},
   "outputs": [],
   "source": [
    "df['Baths']= (df['Half Bath']*0.5)+df['Full Bath']"
   ]
  },
  {
   "cell_type": "code",
   "execution_count": 44,
   "metadata": {},
   "outputs": [],
   "source": [
    "df.drop(['Half Bath', 'Full Bath'], axis=1,inplace=True)"
   ]
  },
  {
   "cell_type": "code",
   "execution_count": 45,
   "metadata": {},
   "outputs": [
    {
     "data": {
      "text/plain": [
       "Index(['MS SubClass', 'MS Zoning', 'Lot Frontage', 'Lot Area', 'Alley',\n",
       "       'Lot Shape', 'Land Contour', 'Utilities', 'Lot Config', 'Land Slope',\n",
       "       'Neighborhood', 'Condition 1', 'Condition 2', 'Bldg Type',\n",
       "       'House Style', 'Overall Qual', 'Overall Cond', 'Year Built',\n",
       "       'Year Remod/Add', 'Roof Style', 'Roof Matl', 'Exterior 1st',\n",
       "       'Exterior 2nd', 'Mas Vnr Type', 'Mas Vnr Area', 'Exter Qual',\n",
       "       'Exter Cond', 'Foundation', 'Bsmt Qual', 'Bsmt Cond', 'Bsmt Exposure',\n",
       "       'BsmtFin Type 1', 'BsmtFin SF 1', 'BsmtFin Type 2', 'BsmtFin SF 2',\n",
       "       'Bsmt Unf SF', 'Total Bsmt SF', 'Heating', 'Heating QC', 'Central Air',\n",
       "       '1st Flr SF', '2nd Flr SF', 'Gr Liv Area', 'Bedroom AbvGr',\n",
       "       'Kitchen AbvGr', 'Kitchen Qual', 'TotRms AbvGrd', 'Functional',\n",
       "       'Fireplaces', 'Fireplace Qu', 'Garage Type', 'Garage Yr Blt',\n",
       "       'Garage Finish', 'Garage Cars', 'Garage Area', 'Garage Qual',\n",
       "       'Garage Cond', 'Paved Drive', 'Wood Deck SF', 'Open Porch SF',\n",
       "       'Pool Area', 'Fence', 'Misc Feature', 'Misc Val', 'Sale Type',\n",
       "       'Basement', 'Bsmt Baths', 'Paved Street', 'Porch', 'Baths'],\n",
       "      dtype='object')"
      ]
     },
     "execution_count": 45,
     "metadata": {},
     "output_type": "execute_result"
    }
   ],
   "source": [
    "df.columns"
   ]
  },
  {
   "cell_type": "markdown",
   "metadata": {},
   "source": [
    "# Pre-processing\n",
    "One-hot encode categorical variables.\n",
    "Train/test split your data.\n",
    "Scale your data.\n",
    "Consider using automated feature selection."
   ]
  },
  {
   "cell_type": "code",
   "execution_count": 46,
   "metadata": {},
   "outputs": [],
   "source": [
    "df['MS SubClass']=df['MS SubClass'].map({20:'1_1946+',\n",
    "                                         30:'1_1945-',\n",
    "                                         40:'1_fin_attic',\n",
    "                                         45:'1.5_unfin',\n",
    "                                         50:'1.5_fin',\n",
    "                                         60:'2_1946+',\n",
    "                                         70:'2_1945-',\n",
    "                                         75:'2.5_all',\n",
    "                                         80:'split_multi',\n",
    "                                         85:'split_foyer',\n",
    "                                         90:'duplex_all',\n",
    "                                         120:'1_pud',\n",
    "                                         150:'1.5_pud',\n",
    "                                         160:'2_pud_1946+',\n",
    "                                         180:'multi_pud',\n",
    "                                         190:'2_fam_conv'\n",
    "                                         })"
   ]
  },
  {
   "cell_type": "code",
   "execution_count": 47,
   "metadata": {},
   "outputs": [],
   "source": [
    "df.drop('House Style', axis=1, inplace=True)"
   ]
  },
  {
   "cell_type": "code",
   "execution_count": 48,
   "metadata": {},
   "outputs": [],
   "source": [
    "def two_to_one(col1, col2, res_col):\n",
    "    feat_list = set((list(df[col1].unique())+(list(df[col2].unique()))))\n",
    "    foo = pd.get_dummies(data=df, columns=[col1,col2])\n",
    "    \n",
    "    for feat in feat_list:\n",
    "        cols = foo.columns.str.contains(feat)\n",
    "        foo[f'{res_col}_{feat}'] = foo[foo.columns[cols]].max(1)\n",
    "       \n",
    "    return foo"
   ]
  },
  {
   "cell_type": "code",
   "execution_count": 49,
   "metadata": {},
   "outputs": [],
   "source": [
    "df = two_to_one('Condition 1', 'Condition 2', 'Condition')"
   ]
  },
  {
   "cell_type": "code",
   "execution_count": 50,
   "metadata": {},
   "outputs": [],
   "source": [
    "def comb_dummy(str, res_col):\n",
    "    cols = df.columns.str.contains(str)\n",
    "    df[res_col] = df[df.columns[cols]].max(1)\n",
    "    \n",
    "    return df.columns"
   ]
  },
  {
   "cell_type": "code",
   "execution_count": 51,
   "metadata": {},
   "outputs": [
    {
     "data": {
      "text/plain": [
       "Index(['MS SubClass', 'MS Zoning', 'Lot Frontage', 'Lot Area', 'Alley',\n",
       "       'Lot Shape', 'Land Contour', 'Utilities', 'Lot Config', 'Land Slope',\n",
       "       'Neighborhood', 'Bldg Type', 'Overall Qual', 'Overall Cond',\n",
       "       'Year Built', 'Year Remod/Add', 'Roof Style', 'Roof Matl',\n",
       "       'Exterior 1st', 'Exterior 2nd', 'Mas Vnr Type', 'Mas Vnr Area',\n",
       "       'Exter Qual', 'Exter Cond', 'Foundation', 'Bsmt Qual', 'Bsmt Cond',\n",
       "       'Bsmt Exposure', 'BsmtFin Type 1', 'BsmtFin SF 1', 'BsmtFin Type 2',\n",
       "       'BsmtFin SF 2', 'Bsmt Unf SF', 'Total Bsmt SF', 'Heating', 'Heating QC',\n",
       "       'Central Air', '1st Flr SF', '2nd Flr SF', 'Gr Liv Area',\n",
       "       'Bedroom AbvGr', 'Kitchen AbvGr', 'Kitchen Qual', 'TotRms AbvGrd',\n",
       "       'Functional', 'Fireplaces', 'Fireplace Qu', 'Garage Type',\n",
       "       'Garage Yr Blt', 'Garage Finish', 'Garage Cars', 'Garage Area',\n",
       "       'Garage Qual', 'Garage Cond', 'Paved Drive', 'Wood Deck SF',\n",
       "       'Open Porch SF', 'Pool Area', 'Fence', 'Misc Feature', 'Misc Val',\n",
       "       'Sale Type', 'Basement', 'Bsmt Baths', 'Paved Street', 'Porch', 'Baths',\n",
       "       'Condition 1_Artery', 'Condition 1_Feedr', 'Condition 1_Norm',\n",
       "       'Condition 1_PosA', 'Condition 1_PosN', 'Condition 1_RRAe',\n",
       "       'Condition 1_RRAn', 'Condition 1_RRNe', 'Condition 1_RRNn',\n",
       "       'Condition 2_Feedr', 'Condition 2_Norm', 'Condition 2_PosA',\n",
       "       'Condition 2_PosN', 'Condition_Artery', 'Condition_RRNe',\n",
       "       'Condition_PosN', 'Condition_RRAn', 'Condition_Norm', 'Condition_PosA',\n",
       "       'Condition_Feedr', 'Condition_RRNn', 'Condition_RRAe', 'Condition_RR'],\n",
       "      dtype='object')"
      ]
     },
     "execution_count": 51,
     "metadata": {},
     "output_type": "execute_result"
    }
   ],
   "source": [
    "comb_dummy('RR', 'Condition_RR')"
   ]
  },
  {
   "cell_type": "code",
   "execution_count": 52,
   "metadata": {},
   "outputs": [
    {
     "data": {
      "text/plain": [
       "Index(['MS SubClass', 'MS Zoning', 'Lot Frontage', 'Lot Area', 'Alley',\n",
       "       'Lot Shape', 'Land Contour', 'Utilities', 'Lot Config', 'Land Slope',\n",
       "       'Neighborhood', 'Bldg Type', 'Overall Qual', 'Overall Cond',\n",
       "       'Year Built', 'Year Remod/Add', 'Roof Style', 'Roof Matl',\n",
       "       'Exterior 1st', 'Exterior 2nd', 'Mas Vnr Type', 'Mas Vnr Area',\n",
       "       'Exter Qual', 'Exter Cond', 'Foundation', 'Bsmt Qual', 'Bsmt Cond',\n",
       "       'Bsmt Exposure', 'BsmtFin Type 1', 'BsmtFin SF 1', 'BsmtFin Type 2',\n",
       "       'BsmtFin SF 2', 'Bsmt Unf SF', 'Total Bsmt SF', 'Heating', 'Heating QC',\n",
       "       'Central Air', '1st Flr SF', '2nd Flr SF', 'Gr Liv Area',\n",
       "       'Bedroom AbvGr', 'Kitchen AbvGr', 'Kitchen Qual', 'TotRms AbvGrd',\n",
       "       'Functional', 'Fireplaces', 'Fireplace Qu', 'Garage Type',\n",
       "       'Garage Yr Blt', 'Garage Finish', 'Garage Cars', 'Garage Area',\n",
       "       'Garage Qual', 'Garage Cond', 'Paved Drive', 'Wood Deck SF',\n",
       "       'Open Porch SF', 'Pool Area', 'Fence', 'Misc Feature', 'Misc Val',\n",
       "       'Sale Type', 'Basement', 'Bsmt Baths', 'Paved Street', 'Porch', 'Baths',\n",
       "       'Condition 1_Artery', 'Condition 1_Feedr', 'Condition 1_Norm',\n",
       "       'Condition 1_PosA', 'Condition 1_PosN', 'Condition 1_RRAe',\n",
       "       'Condition 1_RRAn', 'Condition 1_RRNe', 'Condition 1_RRNn',\n",
       "       'Condition 2_Feedr', 'Condition 2_Norm', 'Condition 2_PosA',\n",
       "       'Condition 2_PosN', 'Condition_Artery', 'Condition_RRNe',\n",
       "       'Condition_PosN', 'Condition_RRAn', 'Condition_Norm', 'Condition_PosA',\n",
       "       'Condition_Feedr', 'Condition_RRNn', 'Condition_RRAe', 'Condition_RR',\n",
       "       'Condition_Street'],\n",
       "      dtype='object')"
      ]
     },
     "execution_count": 52,
     "metadata": {},
     "output_type": "execute_result"
    }
   ],
   "source": [
    "comb_dummy('Artery|Feedr','Condition_Street')"
   ]
  },
  {
   "cell_type": "code",
   "execution_count": 53,
   "metadata": {},
   "outputs": [
    {
     "data": {
      "text/plain": [
       "Index(['MS SubClass', 'MS Zoning', 'Lot Frontage', 'Lot Area', 'Alley',\n",
       "       'Lot Shape', 'Land Contour', 'Utilities', 'Lot Config', 'Land Slope',\n",
       "       'Neighborhood', 'Bldg Type', 'Overall Qual', 'Overall Cond',\n",
       "       'Year Built', 'Year Remod/Add', 'Roof Style', 'Roof Matl',\n",
       "       'Exterior 1st', 'Exterior 2nd', 'Mas Vnr Type', 'Mas Vnr Area',\n",
       "       'Exter Qual', 'Exter Cond', 'Foundation', 'Bsmt Qual', 'Bsmt Cond',\n",
       "       'Bsmt Exposure', 'BsmtFin Type 1', 'BsmtFin SF 1', 'BsmtFin Type 2',\n",
       "       'BsmtFin SF 2', 'Bsmt Unf SF', 'Total Bsmt SF', 'Heating', 'Heating QC',\n",
       "       'Central Air', '1st Flr SF', '2nd Flr SF', 'Gr Liv Area',\n",
       "       'Bedroom AbvGr', 'Kitchen AbvGr', 'Kitchen Qual', 'TotRms AbvGrd',\n",
       "       'Functional', 'Fireplaces', 'Fireplace Qu', 'Garage Type',\n",
       "       'Garage Yr Blt', 'Garage Finish', 'Garage Cars', 'Garage Area',\n",
       "       'Garage Qual', 'Garage Cond', 'Paved Drive', 'Wood Deck SF',\n",
       "       'Open Porch SF', 'Pool Area', 'Fence', 'Misc Feature', 'Misc Val',\n",
       "       'Sale Type', 'Basement', 'Bsmt Baths', 'Paved Street', 'Porch', 'Baths',\n",
       "       'Condition 1_Artery', 'Condition 1_Feedr', 'Condition 1_Norm',\n",
       "       'Condition 1_PosA', 'Condition 1_PosN', 'Condition 1_RRAe',\n",
       "       'Condition 1_RRAn', 'Condition 1_RRNe', 'Condition 1_RRNn',\n",
       "       'Condition 2_Feedr', 'Condition 2_Norm', 'Condition 2_PosA',\n",
       "       'Condition 2_PosN', 'Condition_Artery', 'Condition_RRNe',\n",
       "       'Condition_PosN', 'Condition_RRAn', 'Condition_Norm', 'Condition_PosA',\n",
       "       'Condition_Feedr', 'Condition_RRNn', 'Condition_RRAe', 'Condition_RR',\n",
       "       'Condition_Street', 'Condition_Park_Sch'],\n",
       "      dtype='object')"
      ]
     },
     "execution_count": 53,
     "metadata": {},
     "output_type": "execute_result"
    }
   ],
   "source": [
    "comb_dummy('Pos','Condition_Park_Sch')"
   ]
  },
  {
   "cell_type": "code",
   "execution_count": 54,
   "metadata": {},
   "outputs": [
    {
     "data": {
      "text/plain": [
       "Index(['Condition 1_Artery', 'Condition 1_Feedr', 'Condition 1_Norm',\n",
       "       'Condition 1_PosA', 'Condition 1_PosN', 'Condition 1_RRAe',\n",
       "       'Condition 1_RRAn', 'Condition 1_RRNe', 'Condition 1_RRNn',\n",
       "       'Condition 2_Feedr', 'Condition 2_Norm', 'Condition 2_PosA',\n",
       "       'Condition 2_PosN', 'Condition_Artery', 'Condition_RRNe',\n",
       "       'Condition_PosN', 'Condition_RRAn', 'Condition_PosA', 'Condition_Feedr',\n",
       "       'Condition_RRNn', 'Condition_RRAe'],\n",
       "      dtype='object')"
      ]
     },
     "execution_count": 54,
     "metadata": {},
     "output_type": "execute_result"
    }
   ],
   "source": [
    "drop_list = df.columns.str.contains('Artery|Feedr|RR.|Pos|Condition\\s\\d')\n",
    "df.columns[drop_list]"
   ]
  },
  {
   "cell_type": "code",
   "execution_count": 55,
   "metadata": {},
   "outputs": [],
   "source": [
    "df.drop(df.columns[drop_list], axis=1, inplace=True)"
   ]
  },
  {
   "cell_type": "code",
   "execution_count": 56,
   "metadata": {},
   "outputs": [],
   "source": [
    "df = two_to_one('Exterior 1st','Exterior 2nd', 'Exterior')"
   ]
  },
  {
   "cell_type": "code",
   "execution_count": 57,
   "metadata": {},
   "outputs": [
    {
     "data": {
      "text/plain": [
       "Index(['MS SubClass', 'MS Zoning', 'Lot Frontage', 'Lot Area', 'Alley',\n",
       "       'Lot Shape', 'Land Contour', 'Utilities', 'Lot Config', 'Land Slope',\n",
       "       ...\n",
       "       'Exterior_CemntBd', 'Exterior_HdBoard', 'Exterior_AsbShng',\n",
       "       'Exterior_AsphShn', 'Exterior_Wd Sdng', 'Exterior_BrkFace',\n",
       "       'Exterior_VinylSd', 'Exterior_CmentBd', 'Exterior_CBlock',\n",
       "       'Exterior_Asph'],\n",
       "      dtype='object', length=118)"
      ]
     },
     "execution_count": 57,
     "metadata": {},
     "output_type": "execute_result"
    }
   ],
   "source": [
    "comb_dummy('_As|\\sAs', 'Exterior_Asph')"
   ]
  },
  {
   "cell_type": "code",
   "execution_count": 58,
   "metadata": {},
   "outputs": [
    {
     "data": {
      "text/plain": [
       "Index(['MS SubClass', 'MS Zoning', 'Lot Frontage', 'Lot Area', 'Alley',\n",
       "       'Lot Shape', 'Land Contour', 'Utilities', 'Lot Config', 'Land Slope',\n",
       "       ...\n",
       "       'Exterior_HdBoard', 'Exterior_AsbShng', 'Exterior_AsphShn',\n",
       "       'Exterior_Wd Sdng', 'Exterior_BrkFace', 'Exterior_VinylSd',\n",
       "       'Exterior_CmentBd', 'Exterior_CBlock', 'Exterior_Asph', 'Exterior_Wd'],\n",
       "      dtype='object', length=119)"
      ]
     },
     "execution_count": 58,
     "metadata": {},
     "output_type": "execute_result"
    }
   ],
   "source": [
    "comb_dummy('Wd', 'Exterior_Wd')"
   ]
  },
  {
   "cell_type": "code",
   "execution_count": 59,
   "metadata": {},
   "outputs": [
    {
     "data": {
      "text/plain": [
       "Index(['MS SubClass', 'MS Zoning', 'Lot Frontage', 'Lot Area', 'Alley',\n",
       "       'Lot Shape', 'Land Contour', 'Utilities', 'Lot Config', 'Land Slope',\n",
       "       ...\n",
       "       'Exterior_AsbShng', 'Exterior_AsphShn', 'Exterior_Wd Sdng',\n",
       "       'Exterior_BrkFace', 'Exterior_VinylSd', 'Exterior_CmentBd',\n",
       "       'Exterior_CBlock', 'Exterior_Asph', 'Exterior_Wd', 'Exterior_Brk'],\n",
       "      dtype='object', length=120)"
      ]
     },
     "execution_count": 59,
     "metadata": {},
     "output_type": "execute_result"
    }
   ],
   "source": [
    "comb_dummy('Brk','Exterior_Brk')"
   ]
  },
  {
   "cell_type": "code",
   "execution_count": 60,
   "metadata": {},
   "outputs": [
    {
     "data": {
      "text/plain": [
       "Index(['MS SubClass', 'MS Zoning', 'Lot Frontage', 'Lot Area', 'Alley',\n",
       "       'Lot Shape', 'Land Contour', 'Utilities', 'Lot Config', 'Land Slope',\n",
       "       ...\n",
       "       'Exterior_AsphShn', 'Exterior_Wd Sdng', 'Exterior_BrkFace',\n",
       "       'Exterior_VinylSd', 'Exterior_CmentBd', 'Exterior_CBlock',\n",
       "       'Exterior_Asph', 'Exterior_Wd', 'Exterior_Brk', 'Exterior_Cmnt'],\n",
       "      dtype='object', length=121)"
      ]
     },
     "execution_count": 60,
     "metadata": {},
     "output_type": "execute_result"
    }
   ],
   "source": [
    "comb_dummy('ntBd', 'Exterior_Cmnt')"
   ]
  },
  {
   "cell_type": "code",
   "execution_count": 61,
   "metadata": {},
   "outputs": [
    {
     "data": {
      "text/plain": [
       "Index(['Exterior 1st_AsbShng', 'Exterior 1st_AsphShn', 'Exterior 1st_BrkComm',\n",
       "       'Exterior 1st_BrkFace', 'Exterior 1st_CemntBd', 'Exterior 1st_HdBoard',\n",
       "       'Exterior 1st_MetalSd', 'Exterior 1st_Plywood', 'Exterior 1st_PreCast',\n",
       "       'Exterior 1st_Stucco', 'Exterior 1st_VinylSd', 'Exterior 1st_Wd Sdng',\n",
       "       'Exterior 1st_WdShing', 'Exterior 2nd_AsbShng', 'Exterior 2nd_AsphShn',\n",
       "       'Exterior 2nd_Brk Cmn', 'Exterior 2nd_BrkFace', 'Exterior 2nd_CBlock',\n",
       "       'Exterior 2nd_CmentBd', 'Exterior 2nd_HdBoard', 'Exterior 2nd_ImStucc',\n",
       "       'Exterior 2nd_MetalSd', 'Exterior 2nd_Other', 'Exterior 2nd_Plywood',\n",
       "       'Exterior 2nd_PreCast', 'Exterior 2nd_Stucco', 'Exterior 2nd_VinylSd',\n",
       "       'Exterior 2nd_Wd Sdng', 'Exterior 2nd_Wd Shng', 'Exterior_Brk Cmn',\n",
       "       'Exterior_Wd Shng', 'Exterior_BrkComm', 'Exterior_CemntBd',\n",
       "       'Exterior_AsbShng', 'Exterior_Wd Sdng', 'Exterior_BrkFace',\n",
       "       'Exterior_CmentBd'],\n",
       "      dtype='object')"
      ]
     },
     "execution_count": 61,
     "metadata": {},
     "output_type": "execute_result"
    }
   ],
   "source": [
    "drop_list = df.columns.str.contains('Exterior\\s|ntBd|Wd\\s|Brk.|Asb|Asphs')\n",
    "df.columns[drop_list]"
   ]
  },
  {
   "cell_type": "code",
   "execution_count": 62,
   "metadata": {},
   "outputs": [],
   "source": [
    "df.drop(df.columns[drop_list], axis=1,inplace=True)"
   ]
  },
  {
   "cell_type": "code",
   "execution_count": 63,
   "metadata": {},
   "outputs": [],
   "source": [
    "df = two_to_one('BsmtFin Type 1','BsmtFin Type 2', 'Bsmt Fin')"
   ]
  },
  {
   "cell_type": "code",
   "execution_count": 64,
   "metadata": {},
   "outputs": [
    {
     "data": {
      "text/plain": [
       "Index(['BsmtFin Type 1_ALQ', 'BsmtFin Type 1_BLQ', 'BsmtFin Type 1_GLQ',\n",
       "       'BsmtFin Type 1_LwQ', 'BsmtFin Type 1_Rec', 'BsmtFin Type 1_Unf',\n",
       "       'BsmtFin Type 1_none', 'BsmtFin Type 2_ALQ', 'BsmtFin Type 2_BLQ',\n",
       "       'BsmtFin Type 2_GLQ', 'BsmtFin Type 2_LwQ', 'BsmtFin Type 2_Rec',\n",
       "       'BsmtFin Type 2_Unf', 'BsmtFin Type 2_none'],\n",
       "      dtype='object')"
      ]
     },
     "execution_count": 64,
     "metadata": {},
     "output_type": "execute_result"
    }
   ],
   "source": [
    "drop_list = df.columns.str.contains('BsmtFin Type')\n",
    "df.columns[drop_list]"
   ]
  },
  {
   "cell_type": "code",
   "execution_count": 65,
   "metadata": {},
   "outputs": [],
   "source": [
    "df.drop(df.columns[drop_list],axis=1,inplace=True)"
   ]
  },
  {
   "cell_type": "code",
   "execution_count": 66,
   "metadata": {},
   "outputs": [],
   "source": [
    "df['BsmtFin SF'] = df['BsmtFin SF 1'] + df['BsmtFin SF 2']"
   ]
  },
  {
   "cell_type": "code",
   "execution_count": 67,
   "metadata": {},
   "outputs": [],
   "source": [
    "df.drop(['BsmtFin SF 1', 'BsmtFin SF 2'], axis=1, inplace=True)"
   ]
  },
  {
   "cell_type": "code",
   "execution_count": 68,
   "metadata": {},
   "outputs": [],
   "source": [
    "df = pd.get_dummies(data=df, columns=['MS SubClass',\n",
    "                                      'MS Zoning',\n",
    "                                      'Alley',\n",
    "                                      'Lot Shape',\n",
    "                                      'Land Contour',\n",
    "                                      'Utilities',\n",
    "                                      'Lot Config',\n",
    "                                      'Land Slope', \n",
    "                                      'Neighborhood', \n",
    "                                      'Bldg Type',  \n",
    "                                      'Roof Style', \n",
    "                                      'Roof Matl',\n",
    "                                      'Mas Vnr Type', \n",
    "                                      'Exter Qual',\n",
    "                                      'Exter Cond', \n",
    "                                      'Foundation', \n",
    "                                      'Bsmt Qual', \n",
    "                                      'Bsmt Cond', \n",
    "                                      'Bsmt Exposure',\n",
    "                                      'Heating', \n",
    "                                      'Heating QC',\n",
    "                                      'Kitchen Qual', \n",
    "                                      'Functional',\n",
    "                                      'Fireplace Qu', \n",
    "                                      'Garage Type', \n",
    "                                      'Garage Finish', \n",
    "                                      'Garage Qual',\n",
    "                                      'Garage Cond', \n",
    "                                      'Fence', \n",
    "                                      'Misc Feature', \n",
    "                                      'Sale Type',\n",
    "                                      ])"
   ]
  },
  {
   "cell_type": "code",
   "execution_count": 69,
   "metadata": {},
   "outputs": [
    {
     "data": {
      "text/plain": [
       "uint8      212\n",
       "int64       28\n",
       "float64      4\n",
       "dtype: int64"
      ]
     },
     "execution_count": 69,
     "metadata": {},
     "output_type": "execute_result"
    }
   ],
   "source": [
    "df.dtypes.value_counts()"
   ]
  },
  {
   "cell_type": "code",
   "execution_count": 70,
   "metadata": {},
   "outputs": [
    {
     "data": {
      "text/plain": [
       "Index(['Lot Frontage', 'Lot Area', 'Overall Qual', 'Overall Cond',\n",
       "       'Year Built', 'Year Remod/Add', 'Mas Vnr Area', 'Bsmt Unf SF',\n",
       "       'Total Bsmt SF', 'Central Air',\n",
       "       ...\n",
       "       'Sale Type_COD', 'Sale Type_CWD', 'Sale Type_Con', 'Sale Type_ConLD',\n",
       "       'Sale Type_ConLI', 'Sale Type_ConLw', 'Sale Type_New', 'Sale Type_Oth',\n",
       "       'Sale Type_VWD', 'Sale Type_WD '],\n",
       "      dtype='object', length=244)"
      ]
     },
     "execution_count": 70,
     "metadata": {},
     "output_type": "execute_result"
    }
   ],
   "source": [
    "df.columns"
   ]
  },
  {
   "cell_type": "code",
   "execution_count": 71,
   "metadata": {},
   "outputs": [
    {
     "name": "stdout",
     "output_type": "stream",
     "text": [
      "<class 'pandas.core.frame.DataFrame'>\n",
      "Int64Index: 879 entries, 2658 to 1939\n",
      "Columns: 244 entries, Lot Frontage to Sale Type_WD \n",
      "dtypes: float64(4), int64(28), uint8(212)\n",
      "memory usage: 408.6 KB\n"
     ]
    }
   ],
   "source": [
    "df.info()"
   ]
  },
  {
   "cell_type": "code",
   "execution_count": 72,
   "metadata": {},
   "outputs": [],
   "source": [
    "kag_col = set(df.columns)\n",
    "train_col = set(columns)\n",
    "\n",
    "not_seen = kag_col - train_col\n",
    "not_here = train_col - kag_col\n",
    "\n",
    "for col in not_seen:\n",
    "    df.drop(col,axis=1,inplace=True)\n",
    "for col in not_here:\n",
    "    df[col] = 0"
   ]
  },
  {
   "cell_type": "code",
   "execution_count": 73,
   "metadata": {},
   "outputs": [
    {
     "data": {
      "text/plain": [
       "(254,)"
      ]
     },
     "execution_count": 73,
     "metadata": {},
     "output_type": "execute_result"
    }
   ],
   "source": [
    "df.columns.shape"
   ]
  },
  {
   "cell_type": "markdown",
   "metadata": {},
   "source": [
    "Confirming that shape matches the training data that the model was fit on."
   ]
  },
  {
   "cell_type": "code",
   "execution_count": 74,
   "metadata": {},
   "outputs": [],
   "source": [
    "df.to_csv('../data/kaggle_clean.csv', index_label='Id')"
   ]
  }
 ],
 "metadata": {
  "kernelspec": {
   "display_name": "Python 3",
   "language": "python",
   "name": "python3"
  },
  "language_info": {
   "codemirror_mode": {
    "name": "ipython",
    "version": 3
   },
   "file_extension": ".py",
   "mimetype": "text/x-python",
   "name": "python",
   "nbconvert_exporter": "python",
   "pygments_lexer": "ipython3",
   "version": "3.6.7"
  }
 },
 "nbformat": 4,
 "nbformat_minor": 2
}
