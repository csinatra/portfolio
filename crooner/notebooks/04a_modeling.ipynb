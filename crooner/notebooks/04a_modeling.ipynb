{
 "cells": [
  {
   "cell_type": "markdown",
   "metadata": {},
   "source": [
    "# Notebook 04a: Modeling - Keras Embeddings"
   ]
  },
  {
   "cell_type": "markdown",
   "metadata": {},
   "source": [
    "## Contents:\n",
    "1. [Summary](#section1)\n",
    "2. [Building the Model](#section2)\n",
    "3. [Model Fitting](#section3)\n",
    "4. [Assessing the Model](#section4)\n",
    "5. [Generating Lyrics](#section5)"
   ]
  },
  {
   "cell_type": "markdown",
   "metadata": {},
   "source": [
    "# Summary<a name=\"section1\"></a>\n",
    "In this notebook I will build out a LSTM model in Keras that will take a sequence of tokenized words and predict an output. The input layer will be a Keras Embedding layer that will learn the relationships between words as the model trains, adding a layer of cohesion and an additional level of depth to the predictions. After building the model, I'll fit it on the dataset, review the training history, and finally predict on user-generated input strings."
   ]
  },
  {
   "cell_type": "markdown",
   "metadata": {},
   "source": [
    "Importing the necessary libraries."
   ]
  },
  {
   "cell_type": "code",
   "execution_count": 33,
   "metadata": {},
   "outputs": [],
   "source": [
    "import json, time, re, string, keras, pickle, h5py\n",
    "import pandas as pd\n",
    "import numpy as np\n",
    "import tensorflow as tf\n",
    "\n",
    "from numpy import random\n",
    "from scipy import sparse\n",
    "from scipy.sparse import coo_matrix\n",
    "\n",
    "from keras.preprocessing.text import Tokenizer\n",
    "from keras.preprocessing.sequence import pad_sequences\n",
    "from keras.models import Sequential\n",
    "from keras.layers import Dense, Embedding, LSTM, Flatten\n",
    "from keras.utils.np_utils import to_categorical\n",
    "from keras.callbacks import ModelCheckpoint\n",
    "import matplotlib.pyplot as plt\n",
    "import seaborn as sns\n",
    "\n",
    "%matplotlib inline\n",
    "plt.style.use('fivethirtyeight')\n",
    "\n",
    "%run ../assets/sql_cred.py"
   ]
  },
  {
   "cell_type": "markdown",
   "metadata": {},
   "source": [
    "Since this is being run on an AWS EC2 GPU instance, I am verifying that the GPU is being recognized by the kernal."
   ]
  },
  {
   "cell_type": "code",
   "execution_count": 15,
   "metadata": {},
   "outputs": [
    {
     "name": "stdout",
     "output_type": "stream",
     "text": [
      "/device:GPU:0\n"
     ]
    }
   ],
   "source": [
    "print(tf.test.gpu_device_name())\n",
    "\n",
    "config = tf.ConfigProto()\n",
    "config.gpu_options.allow_growth = True"
   ]
  },
  {
   "cell_type": "code",
   "execution_count": 16,
   "metadata": {},
   "outputs": [],
   "source": [
    "def filename_format_log(file_path, \n",
    "                        logfile = '../assets/file_log.txt', \n",
    "                        now = round(time.time()), \n",
    "                        file_description = None): \n",
    "   \n",
    "    try:\n",
    "        ext = re.search('(?<!^)(?<!\\.)\\.(?!\\.)', file_path).start() \n",
    "    except:\n",
    "        raise NameError('Please enter a relative path with a file extension.') \n",
    "    \n",
    "    stamp = re.search('(?<!^)(?<!\\.)[0-z]+_[0-z]+(?=\\.)', file_path).start()\n",
    "    formatted_name = f'{file_path[:stamp]}{now}_{file_path[stamp:]}'  \n",
    "    if not file_description:\n",
    "        file_description = f'Saved at: {time.asctime(time.gmtime(now))}'\n",
    "    with open(logfile, 'a+') as f:\n",
    "        f.write(f'{formatted_name}: {file_description}\\n')\n",
    "    return formatted_name, now, file_description"
   ]
  },
  {
   "cell_type": "code",
   "execution_count": 17,
   "metadata": {},
   "outputs": [],
   "source": [
    "X_reshape = np.load('../assets/1549597149_LSTM315_300Xreshape.npy')"
   ]
  },
  {
   "cell_type": "code",
   "execution_count": 18,
   "metadata": {},
   "outputs": [],
   "source": [
    "y_cat_coo = sparse.load_npz('../assets/1549597149_LSTM315_300ycat.npz')"
   ]
  },
  {
   "cell_type": "code",
   "execution_count": 19,
   "metadata": {},
   "outputs": [],
   "source": [
    "y_cat = y_cat_coo.toarray()"
   ]
  },
  {
   "cell_type": "code",
   "execution_count": 21,
   "metadata": {},
   "outputs": [],
   "source": [
    "with open('../assets/1549597149_LSTM315_300tokenizer.pkl', 'rb') as f:\n",
    "    tokenizer = pickle.load(f)"
   ]
  },
  {
   "cell_type": "markdown",
   "metadata": {},
   "source": [
    "Saving vocab_size to the local namespace so it can be referenced as the output shape for the final layer of my model."
   ]
  },
  {
   "cell_type": "code",
   "execution_count": 22,
   "metadata": {},
   "outputs": [],
   "source": [
    "vocab_size = len(tokenizer.word_index) + 1"
   ]
  },
  {
   "cell_type": "code",
   "execution_count": 23,
   "metadata": {},
   "outputs": [
    {
     "data": {
      "text/plain": [
       "12335"
      ]
     },
     "execution_count": 23,
     "metadata": {},
     "output_type": "execute_result"
    }
   ],
   "source": [
    "vocab_size"
   ]
  },
  {
   "cell_type": "markdown",
   "metadata": {},
   "source": [
    "## Building the Model<a name=\"section2\"></a>"
   ]
  },
  {
   "cell_type": "markdown",
   "metadata": {},
   "source": [
    "LSTM models have shown great performance for NLP processes such as text generation. They build on the framework of recurrent neural networks (RNN) by adding an additional cell state that allows the model to tune how data persists over time. This helps address one of the shortcomings of more simple RNNs - the vanishing gradient problem where data occurring earlier in the dataset becomes less likely to be considered when making predictions. This persistence is balanced by a 'forget gate' which allows data to be selectively dropped from memory. As the model trains on the input data these parameters are tuned to optimize predictions based on a given loss function. \n",
    "\n",
    "Because I want the model to understand the relationship between words, not just from a context but also from content, I am setting the input layer as an Embedding layer. This will be initialized with random weights that will be optimized as the model fits. This hope is that adding this additional layer of meaning will support better predictictions with user generated seed inputs. Since the vocabulary is relatively large, I'm starting with a relatively modest densification of the data with a 3000 feature embedding space before moving to a tighter 300 feature space (as seen below).\n",
    "\n",
    "The embedding layer will then be passed to the first LSTM layer. This layer will consist of 300 nodes and allow sequences to be passed to the next LSTM layer of 150 nodes. This aspectct is important as it relates to the core functional difference between LSTM and traditional RNN layers. Without the ability to pass sequences downstream the first layer would effectctively function like a leaky RNN. \n",
    "\n",
    "The second LSTM layer will pass the data to a dense layer with 100 nodes and a relu activation function. The idea here is that the model is wide enough in the early layers to pick out important features without overtraining and just returning an existing lyric or loop. By starting with 3000 features and narrowing as data moves downstream, there will be a funnel effect resulting in more generalizable predictions that account for a broader understanding of relationship in the data.\n",
    "\n",
    "Finally, the output layer will be a softmax activated dense layer with the same shape as the input vocabulary. This will allow for predictions tied back to the initial corpus. The model will be optimized with ADAM, an adaptive gradient descent function with randomized initialization points which allows it to be faster and generally more effective than other optimization algorithms. Finally, the model will be assessed on accuracy based on the ground truth of actual next words in the track."
   ]
  },
  {
   "cell_type": "code",
   "execution_count": 24,
   "metadata": {},
   "outputs": [],
   "source": [
    "seq_len=4\n",
    "\n",
    "# Compile model\n",
    "model = Sequential()\n",
    "model.add(Embedding(vocab_size, 300, input_length=seq_len, mask_zero=True))\n",
    "model.add(LSTM(300, return_sequences=True))\n",
    "model.add(LSTM(150))\n",
    "model.add(Dense(100, activation='relu'))\n",
    "model.add(Dense(y_cat.shape[1], activation='softmax'))\n",
    "\n",
    "model.compile(\n",
    "    loss = 'categorical_crossentropy',\n",
    "    optimizer = 'adam',\n",
    "    metrics = ['accuracy'])"
   ]
  },
  {
   "cell_type": "markdown",
   "metadata": {},
   "source": [
    "The model will be run on GPU with a relatively large batch size of 10000 sequences over 150 epochs. This is somewhat modest considering the model is being fit without the foundation of pre-trained word vectors. Considering the size of the dataset, nearly 600000 sequences, this will allow for a reasonable starting point to assess model architecture before moving toward potentially more complex or time consuming systems."
   ]
  },
  {
   "cell_type": "markdown",
   "metadata": {},
   "source": [
    "## Model Fitting<a name=\"section3\"></a>\n",
    "The model will be run in batches scaled to minimize overfitting while also allowing the model to effectively learn the data. Since the data is shuffled with each epoch, this helps mitigate the need for explicit validatation such as a train/test split. The number of epochs will be adjusted until we either see the accuracy curve begin to fall or the loss function being to grow. "
   ]
  },
  {
   "cell_type": "code",
   "execution_count": 25,
   "metadata": {},
   "outputs": [
    {
     "name": "stdout",
     "output_type": "stream",
     "text": [
      "Epoch 1/300\n",
      "567142/567142 [==============================] - 63s 112us/step - loss: 6.4909 - acc: 0.1223\n",
      "Epoch 2/300\n",
      "567142/567142 [==============================] - 61s 107us/step - loss: 5.7797 - acc: 0.1245\n",
      "Epoch 3/300\n",
      "567142/567142 [==============================] - 61s 107us/step - loss: 5.7649 - acc: 0.1245\n",
      "Epoch 4/300\n",
      "567142/567142 [==============================] - 61s 108us/step - loss: 5.7135 - acc: 0.1245\n",
      "Epoch 5/300\n",
      "567142/567142 [==============================] - 61s 107us/step - loss: 5.5009 - acc: 0.1253\n",
      "Epoch 6/300\n",
      "567142/567142 [==============================] - 61s 107us/step - loss: 5.3271 - acc: 0.1423\n",
      "Epoch 7/300\n",
      "567142/567142 [==============================] - 61s 107us/step - loss: 5.1002 - acc: 0.1674\n",
      "Epoch 8/300\n",
      "567142/567142 [==============================] - 61s 108us/step - loss: 4.9180 - acc: 0.1847\n",
      "Epoch 9/300\n",
      "567142/567142 [==============================] - 61s 108us/step - loss: 4.7972 - acc: 0.1935\n",
      "Epoch 10/300\n",
      "567142/567142 [==============================] - 61s 108us/step - loss: 4.7015 - acc: 0.2003\n",
      "Epoch 11/300\n",
      "567142/567142 [==============================] - 61s 108us/step - loss: 4.6152 - acc: 0.2070\n",
      "Epoch 12/300\n",
      "567142/567142 [==============================] - 61s 108us/step - loss: 4.5321 - acc: 0.2141\n",
      "Epoch 13/300\n",
      "567142/567142 [==============================] - 61s 108us/step - loss: 4.4496 - acc: 0.2208\n",
      "Epoch 14/300\n",
      "567142/567142 [==============================] - 61s 108us/step - loss: 4.3701 - acc: 0.2277\n",
      "Epoch 15/300\n",
      "567142/567142 [==============================] - 61s 108us/step - loss: 4.2933 - acc: 0.2348\n",
      "Epoch 16/300\n",
      "567142/567142 [==============================] - 61s 108us/step - loss: 4.2184 - acc: 0.2418\n",
      "Epoch 17/300\n",
      "567142/567142 [==============================] - 61s 108us/step - loss: 4.1473 - acc: 0.2487\n",
      "Epoch 18/300\n",
      "567142/567142 [==============================] - 61s 108us/step - loss: 4.0785 - acc: 0.2562\n",
      "Epoch 19/300\n",
      "567142/567142 [==============================] - 61s 108us/step - loss: 4.0114 - acc: 0.2639\n",
      "Epoch 20/300\n",
      "567142/567142 [==============================] - 61s 108us/step - loss: 3.9413 - acc: 0.2721\n",
      "Epoch 21/300\n",
      "567142/567142 [==============================] - 61s 108us/step - loss: 3.8754 - acc: 0.2794\n",
      "Epoch 22/300\n",
      "567142/567142 [==============================] - 61s 108us/step - loss: 3.8071 - acc: 0.2878\n",
      "Epoch 23/300\n",
      "567142/567142 [==============================] - 61s 108us/step - loss: 3.7428 - acc: 0.2960\n",
      "Epoch 24/300\n",
      "567142/567142 [==============================] - 61s 108us/step - loss: 3.6762 - acc: 0.3051\n",
      "Epoch 25/300\n",
      "567142/567142 [==============================] - 61s 108us/step - loss: 3.6108 - acc: 0.3145\n",
      "Epoch 26/300\n",
      "567142/567142 [==============================] - 61s 108us/step - loss: 3.5473 - acc: 0.3233\n",
      "Epoch 27/300\n",
      "567142/567142 [==============================] - 61s 108us/step - loss: 3.4840 - acc: 0.3326\n",
      "Epoch 28/300\n",
      "567142/567142 [==============================] - 61s 108us/step - loss: 3.4186 - acc: 0.3426\n",
      "Epoch 29/300\n",
      "567142/567142 [==============================] - 61s 108us/step - loss: 3.3563 - acc: 0.3521\n",
      "Epoch 30/300\n",
      "567142/567142 [==============================] - 61s 108us/step - loss: 3.2954 - acc: 0.3616\n",
      "Epoch 31/300\n",
      "567142/567142 [==============================] - 61s 108us/step - loss: 3.2335 - acc: 0.3714\n",
      "Epoch 32/300\n",
      "567142/567142 [==============================] - 61s 108us/step - loss: 3.1733 - acc: 0.3813\n",
      "Epoch 33/300\n",
      "567142/567142 [==============================] - 61s 108us/step - loss: 3.1155 - acc: 0.3907\n",
      "Epoch 34/300\n",
      "567142/567142 [==============================] - 61s 108us/step - loss: 3.0593 - acc: 0.4006\n",
      "Epoch 35/300\n",
      "567142/567142 [==============================] - 61s 108us/step - loss: 3.0018 - acc: 0.4098\n",
      "Epoch 36/300\n",
      "567142/567142 [==============================] - 61s 108us/step - loss: 2.9463 - acc: 0.4196\n",
      "Epoch 37/300\n",
      "567142/567142 [==============================] - 61s 108us/step - loss: 2.8940 - acc: 0.4288\n",
      "Epoch 38/300\n",
      "567142/567142 [==============================] - 61s 108us/step - loss: 2.8410 - acc: 0.4378\n",
      "Epoch 39/300\n",
      "567142/567142 [==============================] - 61s 108us/step - loss: 2.7895 - acc: 0.4465\n",
      "Epoch 40/300\n",
      "567142/567142 [==============================] - 61s 108us/step - loss: 2.7391 - acc: 0.4553\n",
      "Epoch 41/300\n",
      "567142/567142 [==============================] - 61s 108us/step - loss: 2.6909 - acc: 0.4639\n",
      "Epoch 42/300\n",
      "567142/567142 [==============================] - 61s 108us/step - loss: 2.6427 - acc: 0.4724\n",
      "Epoch 43/300\n",
      "567142/567142 [==============================] - 61s 108us/step - loss: 2.5972 - acc: 0.4798\n",
      "Epoch 44/300\n",
      "567142/567142 [==============================] - 61s 108us/step - loss: 2.5509 - acc: 0.4884\n",
      "Epoch 45/300\n",
      "567142/567142 [==============================] - 61s 108us/step - loss: 2.5086 - acc: 0.4959\n",
      "Epoch 46/300\n",
      "567142/567142 [==============================] - 61s 107us/step - loss: 2.4650 - acc: 0.5035\n",
      "Epoch 47/300\n",
      "567142/567142 [==============================] - 61s 108us/step - loss: 2.4230 - acc: 0.5111\n",
      "Epoch 48/300\n",
      "567142/567142 [==============================] - 61s 108us/step - loss: 2.3821 - acc: 0.5185\n",
      "Epoch 49/300\n",
      "567142/567142 [==============================] - 61s 108us/step - loss: 2.3415 - acc: 0.5255\n",
      "Epoch 50/300\n",
      "567142/567142 [==============================] - 61s 108us/step - loss: 2.3044 - acc: 0.5317\n",
      "Epoch 51/300\n",
      "567142/567142 [==============================] - 61s 108us/step - loss: 2.2656 - acc: 0.5387\n",
      "Epoch 52/300\n",
      "567142/567142 [==============================] - 61s 108us/step - loss: 2.2283 - acc: 0.5455\n",
      "Epoch 53/300\n",
      "567142/567142 [==============================] - 61s 108us/step - loss: 2.1926 - acc: 0.5520\n",
      "Epoch 54/300\n",
      "567142/567142 [==============================] - 61s 108us/step - loss: 2.1566 - acc: 0.5581\n",
      "Epoch 55/300\n",
      "567142/567142 [==============================] - 61s 108us/step - loss: 2.1222 - acc: 0.5649\n",
      "Epoch 56/300\n",
      "567142/567142 [==============================] - 61s 108us/step - loss: 2.0876 - acc: 0.5717\n",
      "Epoch 57/300\n",
      "567142/567142 [==============================] - 61s 108us/step - loss: 2.0564 - acc: 0.5766\n",
      "Epoch 58/300\n",
      "567142/567142 [==============================] - 61s 108us/step - loss: 2.0230 - acc: 0.5827\n",
      "Epoch 59/300\n",
      "567142/567142 [==============================] - 61s 108us/step - loss: 1.9912 - acc: 0.5887\n",
      "Epoch 60/300\n",
      "567142/567142 [==============================] - 61s 108us/step - loss: 1.9612 - acc: 0.5938\n",
      "Epoch 61/300\n",
      "567142/567142 [==============================] - 61s 108us/step - loss: 1.9302 - acc: 0.6001\n",
      "Epoch 62/300\n",
      "567142/567142 [==============================] - 61s 108us/step - loss: 1.9023 - acc: 0.6049\n",
      "Epoch 63/300\n",
      "567142/567142 [==============================] - 61s 108us/step - loss: 1.8727 - acc: 0.6104\n",
      "Epoch 64/300\n",
      "567142/567142 [==============================] - 61s 108us/step - loss: 1.8444 - acc: 0.6161\n",
      "Epoch 65/300\n",
      "567142/567142 [==============================] - 61s 108us/step - loss: 1.8161 - acc: 0.6206\n",
      "Epoch 66/300\n",
      "567142/567142 [==============================] - 61s 108us/step - loss: 1.7914 - acc: 0.6254\n",
      "Epoch 67/300\n",
      "567142/567142 [==============================] - 61s 108us/step - loss: 1.7655 - acc: 0.6302\n",
      "Epoch 68/300\n",
      "567142/567142 [==============================] - 61s 108us/step - loss: 1.7409 - acc: 0.6344\n",
      "Epoch 69/300\n",
      "567142/567142 [==============================] - 61s 108us/step - loss: 1.7128 - acc: 0.6395\n",
      "Epoch 70/300\n",
      "567142/567142 [==============================] - 61s 108us/step - loss: 1.6887 - acc: 0.6442\n",
      "Epoch 71/300\n",
      "567142/567142 [==============================] - 61s 108us/step - loss: 1.6646 - acc: 0.6486\n",
      "Epoch 72/300\n",
      "567142/567142 [==============================] - 61s 108us/step - loss: 1.6408 - acc: 0.6530\n",
      "Epoch 73/300\n",
      "567142/567142 [==============================] - 61s 108us/step - loss: 1.6181 - acc: 0.6572\n",
      "Epoch 74/300\n",
      "567142/567142 [==============================] - 61s 108us/step - loss: 1.5956 - acc: 0.6613\n",
      "Epoch 75/300\n",
      "567142/567142 [==============================] - 61s 108us/step - loss: 1.5732 - acc: 0.6655\n",
      "Epoch 76/300\n",
      "567142/567142 [==============================] - 61s 108us/step - loss: 1.5535 - acc: 0.6691\n",
      "Epoch 77/300\n",
      "567142/567142 [==============================] - 61s 108us/step - loss: 1.5334 - acc: 0.6731\n",
      "Epoch 78/300\n",
      "567142/567142 [==============================] - 61s 108us/step - loss: 1.5109 - acc: 0.6770\n",
      "Epoch 79/300\n",
      "567142/567142 [==============================] - 61s 108us/step - loss: 1.4916 - acc: 0.6807\n",
      "Epoch 80/300\n",
      "567142/567142 [==============================] - 61s 108us/step - loss: 1.4715 - acc: 0.6842\n",
      "Epoch 81/300\n",
      "567142/567142 [==============================] - 61s 108us/step - loss: 1.4513 - acc: 0.6883\n",
      "Epoch 82/300\n",
      "567142/567142 [==============================] - 61s 108us/step - loss: 1.4331 - acc: 0.6914\n",
      "Epoch 83/300\n",
      "567142/567142 [==============================] - 61s 108us/step - loss: 1.4142 - acc: 0.6948\n",
      "Epoch 84/300\n",
      "567142/567142 [==============================] - 62s 108us/step - loss: 1.3967 - acc: 0.6978\n",
      "Epoch 85/300\n",
      "567142/567142 [==============================] - 61s 108us/step - loss: 1.3789 - acc: 0.7013\n",
      "Epoch 86/300\n",
      "567142/567142 [==============================] - 61s 108us/step - loss: 1.3626 - acc: 0.7040\n",
      "Epoch 87/300\n",
      "567142/567142 [==============================] - 61s 108us/step - loss: 1.3462 - acc: 0.7075\n",
      "Epoch 88/300\n",
      "567142/567142 [==============================] - 61s 108us/step - loss: 1.3276 - acc: 0.7108\n",
      "Epoch 89/300\n",
      "567142/567142 [==============================] - 61s 108us/step - loss: 1.3124 - acc: 0.7132\n",
      "Epoch 90/300\n",
      "567142/567142 [==============================] - 61s 108us/step - loss: 1.2971 - acc: 0.7163\n",
      "Epoch 91/300\n",
      "567142/567142 [==============================] - 61s 108us/step - loss: 1.2815 - acc: 0.7194\n",
      "Epoch 92/300\n",
      "567142/567142 [==============================] - 61s 108us/step - loss: 1.2655 - acc: 0.7222\n",
      "Epoch 93/300\n",
      "567142/567142 [==============================] - 61s 108us/step - loss: 1.2516 - acc: 0.7245\n",
      "Epoch 94/300\n",
      "567142/567142 [==============================] - 61s 108us/step - loss: 1.2362 - acc: 0.7277\n",
      "Epoch 95/300\n",
      "567142/567142 [==============================] - 61s 108us/step - loss: 1.2204 - acc: 0.7304\n",
      "Epoch 96/300\n",
      "567142/567142 [==============================] - 61s 108us/step - loss: 1.2062 - acc: 0.7333\n",
      "Epoch 97/300\n",
      "567142/567142 [==============================] - 61s 108us/step - loss: 1.1943 - acc: 0.7354\n",
      "Epoch 98/300\n",
      "567142/567142 [==============================] - 61s 108us/step - loss: 1.1791 - acc: 0.7378\n",
      "Epoch 99/300\n",
      "567142/567142 [==============================] - 62s 109us/step - loss: 1.1650 - acc: 0.7412\n",
      "Epoch 100/300\n",
      "567142/567142 [==============================] - 61s 108us/step - loss: 1.1533 - acc: 0.7431\n",
      "Epoch 101/300\n",
      "567142/567142 [==============================] - 61s 108us/step - loss: 1.1422 - acc: 0.7451\n",
      "Epoch 102/300\n",
      "567142/567142 [==============================] - 61s 108us/step - loss: 1.1274 - acc: 0.7476\n",
      "Epoch 103/300\n",
      "567142/567142 [==============================] - 61s 108us/step - loss: 1.1139 - acc: 0.7498\n",
      "Epoch 104/300\n",
      "567142/567142 [==============================] - 61s 108us/step - loss: 1.1049 - acc: 0.7517\n",
      "Epoch 105/300\n",
      "567142/567142 [==============================] - 61s 108us/step - loss: 1.0946 - acc: 0.7535\n",
      "Epoch 106/300\n",
      "567142/567142 [==============================] - 61s 108us/step - loss: 1.0803 - acc: 0.7561\n",
      "Epoch 107/300\n",
      "567142/567142 [==============================] - 61s 108us/step - loss: 1.0681 - acc: 0.7585\n",
      "Epoch 108/300\n",
      "567142/567142 [==============================] - 61s 108us/step - loss: 1.0559 - acc: 0.7606\n",
      "Epoch 109/300\n",
      "567142/567142 [==============================] - 61s 108us/step - loss: 1.0464 - acc: 0.7621\n",
      "Epoch 110/300\n",
      "567142/567142 [==============================] - 61s 108us/step - loss: 1.0366 - acc: 0.7641\n",
      "Epoch 111/300\n",
      "567142/567142 [==============================] - 61s 108us/step - loss: 1.0262 - acc: 0.7660\n",
      "Epoch 112/300\n",
      "567142/567142 [==============================] - 61s 108us/step - loss: 1.0168 - acc: 0.7676\n",
      "Epoch 113/300\n",
      "567142/567142 [==============================] - 61s 108us/step - loss: 1.0062 - acc: 0.7698\n",
      "Epoch 114/300\n",
      "567142/567142 [==============================] - 62s 109us/step - loss: 0.9975 - acc: 0.7714\n",
      "Epoch 115/300\n",
      "567142/567142 [==============================] - 61s 108us/step - loss: 0.9865 - acc: 0.7734\n",
      "Epoch 116/300\n",
      "567142/567142 [==============================] - 62s 109us/step - loss: 0.9775 - acc: 0.7751\n",
      "Epoch 117/300\n",
      "567142/567142 [==============================] - 61s 108us/step - loss: 0.9665 - acc: 0.7772\n",
      "Epoch 118/300\n",
      "567142/567142 [==============================] - 61s 108us/step - loss: 0.9577 - acc: 0.7789\n",
      "Epoch 119/300\n",
      "567142/567142 [==============================] - 62s 109us/step - loss: 0.9498 - acc: 0.7802\n",
      "Epoch 120/300\n",
      "567142/567142 [==============================] - 62s 109us/step - loss: 0.9400 - acc: 0.7815\n",
      "Epoch 121/300\n",
      "567142/567142 [==============================] - 62s 109us/step - loss: 0.9297 - acc: 0.7838\n",
      "Epoch 122/300\n",
      "567142/567142 [==============================] - 62s 108us/step - loss: 0.9231 - acc: 0.7849\n",
      "Epoch 123/300\n",
      "567142/567142 [==============================] - 61s 108us/step - loss: 0.9151 - acc: 0.7867\n",
      "Epoch 124/300\n",
      "567142/567142 [==============================] - 62s 108us/step - loss: 0.9057 - acc: 0.7880\n",
      "Epoch 125/300\n",
      "567142/567142 [==============================] - 62s 109us/step - loss: 0.8978 - acc: 0.7895\n",
      "Epoch 126/300\n",
      "567142/567142 [==============================] - 61s 108us/step - loss: 0.8906 - acc: 0.7907\n",
      "Epoch 127/300\n",
      "567142/567142 [==============================] - 61s 108us/step - loss: 0.8816 - acc: 0.7928\n",
      "Epoch 128/300\n",
      "567142/567142 [==============================] - 62s 109us/step - loss: 0.8740 - acc: 0.7941\n",
      "Epoch 129/300\n",
      "567142/567142 [==============================] - 61s 108us/step - loss: 0.8650 - acc: 0.7962\n",
      "Epoch 130/300\n",
      "567142/567142 [==============================] - 61s 108us/step - loss: 0.8590 - acc: 0.7970\n",
      "Epoch 131/300\n",
      "567142/567142 [==============================] - 61s 108us/step - loss: 0.8532 - acc: 0.7975\n",
      "Epoch 132/300\n",
      "567142/567142 [==============================] - 62s 108us/step - loss: 0.8456 - acc: 0.7994\n",
      "Epoch 133/300\n",
      "567142/567142 [==============================] - 61s 108us/step - loss: 0.8376 - acc: 0.8003\n",
      "Epoch 134/300\n",
      "567142/567142 [==============================] - 62s 109us/step - loss: 0.8322 - acc: 0.8017\n",
      "Epoch 135/300\n",
      "567142/567142 [==============================] - 62s 109us/step - loss: 0.8245 - acc: 0.8028\n",
      "Epoch 136/300\n",
      "567142/567142 [==============================] - 62s 109us/step - loss: 0.8168 - acc: 0.8043\n",
      "Epoch 137/300\n",
      "567142/567142 [==============================] - 62s 109us/step - loss: 0.8118 - acc: 0.8050\n",
      "Epoch 138/300\n",
      "567142/567142 [==============================] - 62s 109us/step - loss: 0.8055 - acc: 0.8062\n",
      "Epoch 139/300\n",
      "567142/567142 [==============================] - 62s 109us/step - loss: 0.7997 - acc: 0.8073\n",
      "Epoch 140/300\n",
      "567142/567142 [==============================] - 61s 108us/step - loss: 0.7915 - acc: 0.8092\n",
      "Epoch 141/300\n",
      "567142/567142 [==============================] - 62s 109us/step - loss: 0.7880 - acc: 0.8094\n",
      "Epoch 142/300\n",
      "567142/567142 [==============================] - 62s 109us/step - loss: 0.7792 - acc: 0.8117\n",
      "Epoch 143/300\n",
      "567142/567142 [==============================] - 61s 108us/step - loss: 0.7747 - acc: 0.8115\n",
      "Epoch 144/300\n",
      "567142/567142 [==============================] - 62s 108us/step - loss: 0.7699 - acc: 0.8128\n",
      "Epoch 145/300\n",
      "567142/567142 [==============================] - 61s 108us/step - loss: 0.7646 - acc: 0.8139\n",
      "Epoch 146/300\n",
      "567142/567142 [==============================] - 61s 108us/step - loss: 0.7604 - acc: 0.8142\n",
      "Epoch 147/300\n",
      "567142/567142 [==============================] - 62s 109us/step - loss: 0.7541 - acc: 0.8151\n",
      "Epoch 148/300\n",
      "567142/567142 [==============================] - 62s 109us/step - loss: 0.7486 - acc: 0.8160\n",
      "Epoch 149/300\n",
      "567142/567142 [==============================] - 62s 108us/step - loss: 0.7435 - acc: 0.8171\n",
      "Epoch 150/300\n",
      "567142/567142 [==============================] - 62s 109us/step - loss: 0.7382 - acc: 0.8184\n",
      "Epoch 151/300\n",
      "567142/567142 [==============================] - 61s 108us/step - loss: 0.7341 - acc: 0.8194\n",
      "Epoch 152/300\n",
      "567142/567142 [==============================] - 61s 108us/step - loss: 0.7280 - acc: 0.8202\n",
      "Epoch 153/300\n",
      "567142/567142 [==============================] - 62s 108us/step - loss: 0.7249 - acc: 0.8207\n",
      "Epoch 154/300\n",
      "567142/567142 [==============================] - 62s 109us/step - loss: 0.7167 - acc: 0.8223\n",
      "Epoch 155/300\n",
      "567142/567142 [==============================] - 61s 108us/step - loss: 0.7128 - acc: 0.8227\n",
      "Epoch 156/300\n",
      "567142/567142 [==============================] - 62s 108us/step - loss: 0.7086 - acc: 0.8237\n",
      "Epoch 157/300\n",
      "567142/567142 [==============================] - 61s 108us/step - loss: 0.7070 - acc: 0.8238\n",
      "Epoch 158/300\n",
      "567142/567142 [==============================] - 62s 109us/step - loss: 0.6998 - acc: 0.8252\n",
      "Epoch 159/300\n",
      "567142/567142 [==============================] - 62s 109us/step - loss: 0.6956 - acc: 0.8258\n",
      "Epoch 160/300\n",
      "567142/567142 [==============================] - 62s 109us/step - loss: 0.6907 - acc: 0.8268\n",
      "Epoch 161/300\n",
      "567142/567142 [==============================] - 62s 109us/step - loss: 0.6869 - acc: 0.8275\n",
      "Epoch 162/300\n",
      "567142/567142 [==============================] - 62s 109us/step - loss: 0.6823 - acc: 0.8279\n",
      "Epoch 163/300\n",
      "567142/567142 [==============================] - 61s 108us/step - loss: 0.6769 - acc: 0.8295\n",
      "Epoch 164/300\n",
      "567142/567142 [==============================] - 62s 109us/step - loss: 0.6746 - acc: 0.8297\n",
      "Epoch 165/300\n",
      "567142/567142 [==============================] - 61s 108us/step - loss: 0.6699 - acc: 0.8305\n",
      "Epoch 166/300\n",
      "567142/567142 [==============================] - 61s 108us/step - loss: 0.6675 - acc: 0.8310\n",
      "Epoch 167/300\n",
      "567142/567142 [==============================] - 61s 108us/step - loss: 0.6638 - acc: 0.8312\n",
      "Epoch 168/300\n",
      "567142/567142 [==============================] - 62s 109us/step - loss: 0.6603 - acc: 0.8317\n",
      "Epoch 169/300\n",
      "567142/567142 [==============================] - 62s 109us/step - loss: 0.6544 - acc: 0.8328\n",
      "Epoch 170/300\n",
      "567142/567142 [==============================] - 62s 109us/step - loss: 0.6544 - acc: 0.8325\n",
      "Epoch 171/300\n",
      "567142/567142 [==============================] - 62s 109us/step - loss: 0.6506 - acc: 0.8336\n",
      "Epoch 172/300\n",
      "567142/567142 [==============================] - 61s 108us/step - loss: 0.6451 - acc: 0.8351\n",
      "Epoch 173/300\n",
      "567142/567142 [==============================] - 62s 109us/step - loss: 0.6416 - acc: 0.8349\n",
      "Epoch 174/300\n",
      "567142/567142 [==============================] - 62s 109us/step - loss: 0.6383 - acc: 0.8358\n",
      "Epoch 175/300\n",
      "567142/567142 [==============================] - 61s 108us/step - loss: 0.6358 - acc: 0.8362\n",
      "Epoch 176/300\n",
      "567142/567142 [==============================] - 61s 108us/step - loss: 0.6330 - acc: 0.8364\n",
      "Epoch 177/300\n",
      "567142/567142 [==============================] - 61s 108us/step - loss: 0.6283 - acc: 0.8376\n",
      "Epoch 178/300\n",
      "567142/567142 [==============================] - 62s 109us/step - loss: 0.6274 - acc: 0.8374\n",
      "Epoch 179/300\n",
      "567142/567142 [==============================] - 62s 109us/step - loss: 0.6225 - acc: 0.8385\n",
      "Epoch 180/300\n",
      "567142/567142 [==============================] - 62s 109us/step - loss: 0.6199 - acc: 0.8385\n",
      "Epoch 181/300\n",
      "567142/567142 [==============================] - 62s 109us/step - loss: 0.6190 - acc: 0.8391\n",
      "Epoch 182/300\n",
      "567142/567142 [==============================] - 62s 109us/step - loss: 0.6152 - acc: 0.8393\n",
      "Epoch 183/300\n",
      "567142/567142 [==============================] - 62s 109us/step - loss: 0.6110 - acc: 0.8404\n",
      "Epoch 184/300\n",
      "567142/567142 [==============================] - 62s 109us/step - loss: 0.6080 - acc: 0.8404\n",
      "Epoch 185/300\n",
      "567142/567142 [==============================] - 61s 108us/step - loss: 0.6046 - acc: 0.8419\n",
      "Epoch 186/300\n",
      "567142/567142 [==============================] - 62s 109us/step - loss: 0.6040 - acc: 0.8416\n",
      "Epoch 187/300\n",
      "567142/567142 [==============================] - 62s 109us/step - loss: 0.6004 - acc: 0.8421\n",
      "Epoch 188/300\n",
      "567142/567142 [==============================] - 61s 108us/step - loss: 0.5968 - acc: 0.8430\n",
      "Epoch 189/300\n",
      "567142/567142 [==============================] - 62s 108us/step - loss: 0.5942 - acc: 0.8435\n",
      "Epoch 190/300\n",
      "567142/567142 [==============================] - 62s 109us/step - loss: 0.5923 - acc: 0.8434\n",
      "Epoch 191/300\n",
      "567142/567142 [==============================] - 62s 109us/step - loss: 0.5853 - acc: 0.8446\n",
      "Epoch 194/300\n",
      "567142/567142 [==============================] - 62s 109us/step - loss: 0.5837 - acc: 0.8448\n",
      "Epoch 195/300\n",
      "567142/567142 [==============================] - 62s 108us/step - loss: 0.5788 - acc: 0.8456\n",
      "Epoch 196/300\n",
      "567142/567142 [==============================] - 61s 108us/step - loss: 0.5775 - acc: 0.8464\n",
      "Epoch 197/300\n",
      "567142/567142 [==============================] - 62s 108us/step - loss: 0.5729 - acc: 0.8467\n",
      "Epoch 198/300\n",
      "567142/567142 [==============================] - 62s 108us/step - loss: 0.5738 - acc: 0.8467\n",
      "Epoch 199/300\n",
      "567142/567142 [==============================] - 62s 108us/step - loss: 0.5713 - acc: 0.8467\n",
      "Epoch 200/300\n",
      "567142/567142 [==============================] - 61s 108us/step - loss: 0.5690 - acc: 0.8471\n",
      "Epoch 201/300\n",
      "567142/567142 [==============================] - 61s 108us/step - loss: 0.5686 - acc: 0.8474\n",
      "Epoch 202/300\n",
      "567142/567142 [==============================] - 62s 109us/step - loss: 0.5662 - acc: 0.8477\n",
      "Epoch 203/300\n",
      "567142/567142 [==============================] - 61s 108us/step - loss: 0.5634 - acc: 0.8485\n",
      "Epoch 204/300\n",
      "567142/567142 [==============================] - 62s 109us/step - loss: 0.5599 - acc: 0.8490\n",
      "Epoch 205/300\n",
      "567142/567142 [==============================] - 61s 108us/step - loss: 0.5589 - acc: 0.8490\n",
      "Epoch 206/300\n",
      "567142/567142 [==============================] - 61s 108us/step - loss: 0.5570 - acc: 0.8495\n",
      "Epoch 207/300\n",
      "567142/567142 [==============================] - 62s 108us/step - loss: 0.5553 - acc: 0.8493\n",
      "Epoch 208/300\n",
      "567142/567142 [==============================] - 61s 108us/step - loss: 0.5522 - acc: 0.8500\n",
      "Epoch 209/300\n",
      "567142/567142 [==============================] - 62s 109us/step - loss: 0.5496 - acc: 0.8507\n",
      "Epoch 210/300\n",
      "567142/567142 [==============================] - 61s 108us/step - loss: 0.5483 - acc: 0.8510\n",
      "Epoch 211/300\n",
      "567142/567142 [==============================] - 61s 108us/step - loss: 0.5475 - acc: 0.8505\n",
      "Epoch 212/300\n",
      "567142/567142 [==============================] - 62s 109us/step - loss: 0.5453 - acc: 0.8510\n",
      "Epoch 213/300\n",
      "567142/567142 [==============================] - 62s 108us/step - loss: 0.5451 - acc: 0.8511\n",
      "Epoch 214/300\n",
      "567142/567142 [==============================] - 62s 109us/step - loss: 0.5429 - acc: 0.8514\n",
      "Epoch 215/300\n",
      "567142/567142 [==============================] - 62s 109us/step - loss: 0.5413 - acc: 0.8518\n",
      "Epoch 216/300\n",
      "567142/567142 [==============================] - 62s 109us/step - loss: 0.5396 - acc: 0.8522\n",
      "Epoch 217/300\n",
      "567142/567142 [==============================] - 62s 109us/step - loss: 0.5382 - acc: 0.8524\n",
      "Epoch 218/300\n",
      "567142/567142 [==============================] - 62s 109us/step - loss: 0.5335 - acc: 0.8528\n",
      "Epoch 219/300\n",
      "567142/567142 [==============================] - 62s 109us/step - loss: 0.5342 - acc: 0.8529\n",
      "Epoch 220/300\n",
      "567142/567142 [==============================] - 62s 109us/step - loss: 0.5312 - acc: 0.8537\n",
      "Epoch 221/300\n",
      "567142/567142 [==============================] - 62s 108us/step - loss: 0.5294 - acc: 0.8537\n",
      "Epoch 222/300\n",
      "567142/567142 [==============================] - 61s 108us/step - loss: 0.5285 - acc: 0.8539\n",
      "Epoch 223/300\n",
      "567142/567142 [==============================] - 62s 109us/step - loss: 0.5277 - acc: 0.8543\n",
      "Epoch 224/300\n",
      "567142/567142 [==============================] - 62s 109us/step - loss: 0.5258 - acc: 0.8541\n",
      "Epoch 225/300\n",
      "567142/567142 [==============================] - 61s 108us/step - loss: 0.5234 - acc: 0.8547\n",
      "Epoch 226/300\n",
      "567142/567142 [==============================] - 62s 109us/step - loss: 0.5245 - acc: 0.8544\n",
      "Epoch 227/300\n",
      "567142/567142 [==============================] - 62s 109us/step - loss: 0.5212 - acc: 0.8546\n",
      "Epoch 228/300\n",
      "567142/567142 [==============================] - 62s 109us/step - loss: 0.5192 - acc: 0.8548\n",
      "Epoch 231/300\n",
      "567142/567142 [==============================] - 62s 109us/step - loss: 0.5167 - acc: 0.8554\n",
      "Epoch 232/300\n",
      "567142/567142 [==============================] - 61s 108us/step - loss: 0.5149 - acc: 0.8557\n",
      "Epoch 233/300\n",
      "567142/567142 [==============================] - 61s 108us/step - loss: 0.5133 - acc: 0.8562\n",
      "Epoch 234/300\n",
      "567142/567142 [==============================] - 62s 108us/step - loss: 0.5130 - acc: 0.8563\n",
      "Epoch 235/300\n",
      "567142/567142 [==============================] - 61s 108us/step - loss: 0.5108 - acc: 0.8565\n",
      "Epoch 236/300\n",
      "567142/567142 [==============================] - 62s 109us/step - loss: 0.5097 - acc: 0.8564\n",
      "Epoch 237/300\n",
      "567142/567142 [==============================] - 61s 108us/step - loss: 0.5082 - acc: 0.8566\n",
      "Epoch 238/300\n",
      "567142/567142 [==============================] - 62s 109us/step - loss: 0.5069 - acc: 0.8570\n",
      "Epoch 239/300\n",
      "567142/567142 [==============================] - 61s 108us/step - loss: 0.5058 - acc: 0.8571\n",
      "Epoch 240/300\n",
      "567142/567142 [==============================] - 62s 108us/step - loss: 0.5038 - acc: 0.8578\n",
      "Epoch 241/300\n",
      "567142/567142 [==============================] - 62s 109us/step - loss: 0.5033 - acc: 0.8571\n",
      "Epoch 242/300\n",
      "567142/567142 [==============================] - 62s 109us/step - loss: 0.5014 - acc: 0.8578\n",
      "Epoch 243/300\n",
      "567142/567142 [==============================] - 62s 109us/step - loss: 0.5009 - acc: 0.8575\n",
      "Epoch 244/300\n",
      "567142/567142 [==============================] - 62s 108us/step - loss: 0.4997 - acc: 0.8581\n",
      "Epoch 245/300\n",
      "567142/567142 [==============================] - 62s 109us/step - loss: 0.4995 - acc: 0.8582\n",
      "Epoch 246/300\n",
      "567142/567142 [==============================] - 62s 109us/step - loss: 0.4970 - acc: 0.8583\n",
      "Epoch 247/300\n",
      "567142/567142 [==============================] - 62s 108us/step - loss: 0.4982 - acc: 0.8578\n",
      "Epoch 248/300\n",
      "567142/567142 [==============================] - 62s 109us/step - loss: 0.4953 - acc: 0.8588\n",
      "Epoch 249/300\n",
      "567142/567142 [==============================] - 62s 108us/step - loss: 0.4935 - acc: 0.8593\n",
      "Epoch 250/300\n",
      "567142/567142 [==============================] - 62s 109us/step - loss: 0.4951 - acc: 0.8584\n",
      "Epoch 251/300\n",
      "567142/567142 [==============================] - 61s 108us/step - loss: 0.4927 - acc: 0.8589\n",
      "Epoch 252/300\n",
      "567142/567142 [==============================] - 61s 108us/step - loss: 0.4907 - acc: 0.8593\n",
      "Epoch 253/300\n",
      "567142/567142 [==============================] - 62s 109us/step - loss: 0.4909 - acc: 0.8593\n",
      "Epoch 254/300\n",
      "567142/567142 [==============================] - 62s 109us/step - loss: 0.4898 - acc: 0.8596\n",
      "Epoch 255/300\n",
      "567142/567142 [==============================] - 62s 109us/step - loss: 0.4881 - acc: 0.8599\n",
      "Epoch 256/300\n",
      "567142/567142 [==============================] - 62s 109us/step - loss: 0.4888 - acc: 0.8595\n",
      "Epoch 257/300\n",
      "567142/567142 [==============================] - 62s 109us/step - loss: 0.4881 - acc: 0.8597\n",
      "Epoch 258/300\n",
      "567142/567142 [==============================] - 62s 109us/step - loss: 0.4863 - acc: 0.8600\n",
      "Epoch 259/300\n",
      "567142/567142 [==============================] - 62s 108us/step - loss: 0.4856 - acc: 0.8601\n",
      "Epoch 260/300\n",
      "567142/567142 [==============================] - 62s 109us/step - loss: 0.4861 - acc: 0.8599\n",
      "Epoch 261/300\n",
      "567142/567142 [==============================] - 62s 108us/step - loss: 0.4850 - acc: 0.8600\n",
      "Epoch 262/300\n",
      "567142/567142 [==============================] - 62s 109us/step - loss: 0.4833 - acc: 0.8602\n",
      "Epoch 263/300\n",
      "567142/567142 [==============================] - 62s 109us/step - loss: 0.4809 - acc: 0.8603\n",
      "Epoch 264/300\n",
      "567142/567142 [==============================] - 61s 108us/step - loss: 0.4810 - acc: 0.8607\n",
      "Epoch 265/300\n",
      "567142/567142 [==============================] - 62s 109us/step - loss: 0.4811 - acc: 0.8606\n",
      "Epoch 266/300\n",
      "567142/567142 [==============================] - 62s 109us/step - loss: 0.4788 - acc: 0.8610\n",
      "Epoch 267/300\n",
      "567142/567142 [==============================] - 62s 109us/step - loss: 0.4792 - acc: 0.8608\n",
      "Epoch 268/300\n",
      "567142/567142 [==============================] - 62s 109us/step - loss: 0.4786 - acc: 0.8605\n",
      "Epoch 269/300\n",
      "567142/567142 [==============================] - 62s 109us/step - loss: 0.4770 - acc: 0.8612\n",
      "Epoch 270/300\n",
      "567142/567142 [==============================] - 62s 109us/step - loss: 0.4762 - acc: 0.8614\n",
      "Epoch 271/300\n",
      "567142/567142 [==============================] - 62s 109us/step - loss: 0.4759 - acc: 0.8612\n",
      "Epoch 272/300\n",
      "567142/567142 [==============================] - 61s 108us/step - loss: 0.4737 - acc: 0.8616\n",
      "Epoch 273/300\n",
      "567142/567142 [==============================] - 61s 108us/step - loss: 0.4740 - acc: 0.8618\n",
      "Epoch 274/300\n",
      "567142/567142 [==============================] - 62s 109us/step - loss: 0.4737 - acc: 0.8614\n",
      "Epoch 275/300\n",
      "567142/567142 [==============================] - 62s 109us/step - loss: 0.4727 - acc: 0.8618\n",
      "Epoch 276/300\n",
      "567142/567142 [==============================] - 62s 109us/step - loss: 0.4722 - acc: 0.8618\n",
      "Epoch 277/300\n",
      "567142/567142 [==============================] - 62s 109us/step - loss: 0.4711 - acc: 0.8619\n",
      "Epoch 278/300\n",
      "567142/567142 [==============================] - 62s 108us/step - loss: 0.4705 - acc: 0.8621\n",
      "Epoch 279/300\n",
      "567142/567142 [==============================] - 62s 109us/step - loss: 0.4704 - acc: 0.8618\n",
      "Epoch 280/300\n",
      "567142/567142 [==============================] - 61s 108us/step - loss: 0.4707 - acc: 0.8620\n",
      "Epoch 281/300\n",
      "567142/567142 [==============================] - 62s 109us/step - loss: 0.4696 - acc: 0.8620\n",
      "Epoch 282/300\n",
      "567142/567142 [==============================] - 62s 109us/step - loss: 0.4701 - acc: 0.8618\n",
      "Epoch 283/300\n",
      "567142/567142 [==============================] - 62s 109us/step - loss: 0.4680 - acc: 0.8626\n",
      "Epoch 284/300\n",
      "567142/567142 [==============================] - 62s 108us/step - loss: 0.4669 - acc: 0.8623\n",
      "Epoch 285/300\n",
      "567142/567142 [==============================] - 62s 109us/step - loss: 0.4660 - acc: 0.8628\n",
      "Epoch 286/300\n",
      "567142/567142 [==============================] - 62s 109us/step - loss: 0.4656 - acc: 0.8628\n",
      "Epoch 287/300\n",
      "567142/567142 [==============================] - 62s 109us/step - loss: 0.4655 - acc: 0.8627\n",
      "Epoch 288/300\n",
      "567142/567142 [==============================] - 61s 108us/step - loss: 0.4637 - acc: 0.8626\n",
      "Epoch 289/300\n",
      "567142/567142 [==============================] - 62s 109us/step - loss: 0.4651 - acc: 0.8627\n",
      "Epoch 290/300\n",
      "567142/567142 [==============================] - 62s 108us/step - loss: 0.4607 - acc: 0.8633\n",
      "Epoch 294/300\n",
      "567142/567142 [==============================] - 62s 109us/step - loss: 0.4606 - acc: 0.8632\n",
      "Epoch 295/300\n",
      "567142/567142 [==============================] - 62s 109us/step - loss: 0.4603 - acc: 0.8634\n",
      "Epoch 296/300\n",
      "567142/567142 [==============================] - 62s 108us/step - loss: 0.4595 - acc: 0.8632\n",
      "Epoch 297/300\n",
      "567142/567142 [==============================] - 62s 109us/step - loss: 0.4572 - acc: 0.8638\n",
      "Epoch 298/300\n",
      "567142/567142 [==============================] - 61s 108us/step - loss: 0.4573 - acc: 0.8638\n",
      "Epoch 299/300\n",
      "567142/567142 [==============================] - 62s 109us/step - loss: 0.4563 - acc: 0.8638\n",
      "Epoch 300/300\n",
      "567142/567142 [==============================] - 62s 108us/step - loss: 0.4562 - acc: 0.8636\n"
     ]
    }
   ],
   "source": [
    "# Train model on dataset\n",
    "with tf.device('/gpu:0'):\n",
    "    history = model.fit(X_reshape,\n",
    "              y_cat,\n",
    "              verbose=1,\n",
    "              batch_size=5000,\n",
    "              epochs=300, \n",
    "             )\n",
    "    \n",
    "formatted_name, now, file_description= filename_format_log('../models/LSTM315_300model.h5')\n",
    "model.save(formatted_name)"
   ]
  },
  {
   "cell_type": "markdown",
   "metadata": {},
   "source": [
    "The training output shows that the model was fit on 576641 samples to an accuracy of 81.05%. "
   ]
  },
  {
   "cell_type": "code",
   "execution_count": null,
   "metadata": {},
   "outputs": [],
   "source": [
    "# model = keras.models.load_model('../models/1549265762_LSTM_Model.h5')"
   ]
  },
  {
   "cell_type": "markdown",
   "metadata": {},
   "source": [
    "## Assessing the Model<a name=\"section4\"></a>"
   ]
  },
  {
   "cell_type": "markdown",
   "metadata": {},
   "source": [
    "Reviewing the model summary and looking to understand how well the model was fit to the data."
   ]
  },
  {
   "cell_type": "code",
   "execution_count": 27,
   "metadata": {},
   "outputs": [
    {
     "name": "stdout",
     "output_type": "stream",
     "text": [
      "_________________________________________________________________\n",
      "Layer (type)                 Output Shape              Param #   \n",
      "=================================================================\n",
      "embedding_1 (Embedding)      (None, 4, 300)            3700500   \n",
      "_________________________________________________________________\n",
      "lstm_1 (LSTM)                (None, 4, 300)            721200    \n",
      "_________________________________________________________________\n",
      "lstm_2 (LSTM)                (None, 150)               270600    \n",
      "_________________________________________________________________\n",
      "dense_1 (Dense)              (None, 100)               15100     \n",
      "_________________________________________________________________\n",
      "dense_2 (Dense)              (None, 12335)             1245835   \n",
      "=================================================================\n",
      "Total params: 5,953,235\n",
      "Trainable params: 5,953,235\n",
      "Non-trainable params: 0\n",
      "_________________________________________________________________\n",
      "None\n"
     ]
    }
   ],
   "source": [
    "# Print model summary\n",
    "print(model.summary())"
   ]
  },
  {
   "cell_type": "markdown",
   "metadata": {},
   "source": [
    "The model summary shows that the model trained on just under 6M parameters. Due to the shape of the input layer, nearly 4000000 of these were in the vectorized word embeddings."
   ]
  },
  {
   "cell_type": "markdown",
   "metadata": {},
   "source": [
    "Plotting training loss alongside training accuracy. "
   ]
  },
  {
   "cell_type": "code",
   "execution_count": 28,
   "metadata": {},
   "outputs": [
    {
     "data": {
      "image/png": "[encoded data removed]",
      "text/plain": [
       "<Figure size 1296x432 with 2 Axes>"
      ]
     },
     "metadata": {},
     "output_type": "display_data"
    }
   ],
   "source": [
    "fig, ax = plt.subplots(ncols=2, nrows=1, figsize=(18,6))\n",
    "\n",
    "ax[0].plot(history.history['loss'])\n",
    "ax[0].set_title(\"Loss\", fontsize=15);\n",
    "ax[0].set_xlabel(\"epochs\",fontsize=15);\n",
    "\n",
    "ax[1].plot(history.history['acc'])\n",
    "ax[1].set_title(\"Accuracy\",fontsize=15);\n",
    "ax[1].set_xlabel(\"epochs\",fontsize=15);"
   ]
  },
  {
   "cell_type": "markdown",
   "metadata": {},
   "source": [
    "The loss vs accuracy plots show that we have not started overtraining our model yet as we are still gaining accuracy. While it would be nice to validate fitting against a train / test split, the size of the dataset would not allow that operation on the current EC2 GPU instance. Additionally, from my research into this type of language processing / language generation task it seems that training the model without internal validation scoring is the norm. This is perhaps due to the fact that there is no such thing as a ground truth for predictive accuracy when it comes to the task of generating de novo text. It would in fact be detrimental if the seed text immediatedly predicted into existing lyrics as this would not accomplish the desired function of this model."
   ]
  },
  {
   "cell_type": "markdown",
   "metadata": {},
   "source": [
    "## Generating Lyrics<a name=\"section5\"></a>"
   ]
  },
  {
   "cell_type": "markdown",
   "metadata": {},
   "source": [
    "Defining a helper function to add variability into the next word predictions. The idea behind this code, inspired by the Keras LSTM example available on the Keras github repo, is that we can tune the tolerance of our model for predictive accuracy. The helper function will scale predictions and then randomly sample from a distribution of likely outcomes to tune predictive repetition and prevent song lyric looping."
   ]
  },
  {
   "cell_type": "code",
   "execution_count": 29,
   "metadata": {},
   "outputs": [],
   "source": [
    "def sample(preds, temperature=1.0):\n",
    "    preds = np.asarray(preds).astype('float64')\n",
    "    preds = np.log(preds) / temperature\n",
    "    exp_preds = np.exp(preds)\n",
    "    preds = exp_preds / np.sum(exp_preds)\n",
    "    probas = np.random.multinomial(1, preds, 1)\n",
    "    return np.argmax(probas)"
   ]
  },
  {
   "cell_type": "markdown",
   "metadata": {},
   "source": [
    "Defining a function for generating lyrics. The core functionality of this function is to take a user generated seed, clean and tokenize the text, convert it to a word vector, and then generate a prediction using our 4 in 1 out window. As these predictions are made, they are appended to a doc of specified length as well as the next seed group. This process repeats until the desired song length is produced."
   ]
  },
  {
   "cell_type": "code",
   "execution_count": 46,
   "metadata": {},
   "outputs": [],
   "source": [
    "def generate_lyrics(seed, \n",
    "                    seq_len = 4, \n",
    "                    song_len = 50,\n",
    "                    temperature = 1.0,\n",
    "                    model_dir = None):\n",
    "    \n",
    "    if model_dir:\n",
    "        model = keras.models.load_model(f'{model_dir}/*.h5')\n",
    "        \n",
    "        with open(f'{model_dir}/*.pkl', 'rb') as f:\n",
    "            tokenizer = pickle.load(f)\n",
    "    else:\n",
    "        model = model\n",
    "\n",
    "        tokenizer = tokenizer\n",
    "    \n",
    "    seed_clean = seed.lower().split(' ')\n",
    "    doc = []\n",
    "\n",
    "    while len(doc) < song_len:\n",
    "        text = [seed_clean]\n",
    "        sequence = [tokenizer.texts_to_sequences([word])[0] for word in text]\n",
    "        pad_sequence = pad_sequences(sequence, maxlen=seq_len, truncating='pre')\n",
    "        sequence_reshape = np.reshape(pad_sequence, (1, seq_len))\n",
    "\n",
    "        yhat = model.predict(sequence_reshape, verbose=0)[0]\n",
    "        next_index = sample(yhat, temperature)\n",
    "        \n",
    "        for word, index in tokenizer.word_index.items():\n",
    "            if index == next_index:\n",
    "                seed_clean.append(word)\n",
    "                doc.append(word)\n",
    "\n",
    "    return ' '.join(doc)"
   ]
  },
  {
   "cell_type": "markdown",
   "metadata": {},
   "source": [
    "Helper function borrowed from the EDA notebook to help visualize the structure of tracks produced by this model."
   ]
  },
  {
   "cell_type": "code",
   "execution_count": 31,
   "metadata": {},
   "outputs": [],
   "source": [
    "def lyric_grid(track):\n",
    "#     track = df.loc[track_id, 'clean_lyrics']\n",
    "    \n",
    "    lyrics_spaced = re.sub(r'( +)', ' ', track)\n",
    "    lyrics_spaced = re.sub(r'\\n ', '', lyrics_spaced)\n",
    "    lyrics_split = lyrics_spaced.split(' ')\n",
    "    \n",
    "    N = len(lyrics_split)\n",
    "    grid = np.zeros(shape=(N,N), dtype='int')\n",
    "    \n",
    "    for i in range(N):\n",
    "        hits = [j for j, word in enumerate(lyrics_split) if word == lyrics_split[i]]\n",
    "        grid[i,[hits]] = 1 \n",
    "    \n",
    "    plt.figure(figsize=(16,12))\n",
    "    plt.title('Repetition in Track');\n",
    "    plt.xlabel('Word Number');\n",
    "    plt.ylabel('Word Number');\n",
    "    sns.heatmap(grid, cmap='Greys', cbar=False, xticklabels=[], yticklabels=[]);\n",
    "    \n",
    "    plt.show();\n",
    "    \n",
    "    rep_ratio = np.around(((N - len(set(lyrics_split))) / N), 2)\n",
    "    \n",
    "    print('\\n')\n",
    "    print(f'The repetition ratio for this track is {rep_ratio}')\n",
    "    print('\\n')\n",
    "    print(track)\n",
    "    return "
   ]
  },
  {
   "cell_type": "markdown",
   "metadata": {},
   "source": [
    "Generating lyrics. Since the average song length in the dataset is between 240-280 words I will set the desired output length to 250."
   ]
  },
  {
   "cell_type": "code",
   "execution_count": 34,
   "metadata": {},
   "outputs": [
    {
     "name": "stderr",
     "output_type": "stream",
     "text": [
      "/home/ubuntu/anaconda3/envs/tensorflow_p36/lib/python3.6/site-packages/ipykernel_launcher.py:3: RuntimeWarning: divide by zero encountered in log\n",
      "  This is separate from the ipykernel package so we can avoid doing imports until\n"
     ]
    },
    {
     "data": {
      "image/png": "[encoded data removed]",
      "text/plain": [
       "<Figure size 1152x864 with 1 Axes>"
      ]
     },
     "metadata": {},
     "output_type": "display_data"
    },
    {
     "name": "stdout",
     "output_type": "stream",
     "text": [
      "\n",
      "\n",
      "The repetition ratio for this track is 0.4\n",
      "\n",
      "\n",
      "\n",
      " best now its my life at me \n",
      " i dont want you back \n",
      " when were grey and old \n",
      " cause i have hella feelings for you \n",
      " i wont try to keep you free \n",
      " when she act down that you see me \n",
      " silly party the bout that says stress \n",
      " so i sit with youre it \n",
      " take the last time \n",
      " youre never alright \n",
      " and nothing went down \n",
      " the rest of my life is so hard \n",
      " i tried to tell you who to \n",
      " love you feel bad \n",
      " and but it feels \n",
      " never ever \n",
      " much each time in us \n",
      " but the heaven of me \n",
      " ooh girl to death \n",
      " maybe im waking up today \n",
      " ill be good im on the pursuit of happiness and \n",
      " i know everything that was own \n",
      " hearing even just so im dumb away \n",
      " one nights took the rest of need no way to see if we were on ahead \n",
      " im sorry \n",
      " i know that you still care for me \n",
      " rosanna \n",
      " all i want is to see you smile \n",
      " you feel like summertime oh yes you do \n",
      " you call out my name baby \n",
      " hear the sound this is a secret of to im gonna have you back im doing a good life \n",
      " have a good time \n",
      " make you see the story we changed \n",
      " and we wont stop \n",
      " go \n",
      "\n"
     ]
    }
   ],
   "source": [
    "lyrics = generate_lyrics('eyes are for lovers',\n",
    "                         seq_len=4,\n",
    "                         song_len=250,\n",
    "                         model_dir=None\n",
    "                        )\n",
    "lyric_grid(lyrics)"
   ]
  },
  {
   "cell_type": "markdown",
   "metadata": {},
   "source": [
    "Overall these are fairly readable lyrics, though the word flow is not as consistent as the 3000 feature embedding space. The song structure also appears to be more choppy, however this may be an indication that as the model builds a stronger sense of how words interconnect the model requires more depth to effectively reproduce meaningful parings. Regardless, these are largely interpretable lyrics that I would not immediately identify as artificial.  "
   ]
  },
  {
   "cell_type": "markdown",
   "metadata": {},
   "source": [
    "Repeating on the same seed to gauge consistency of the output"
   ]
  },
  {
   "cell_type": "code",
   "execution_count": 35,
   "metadata": {},
   "outputs": [
    {
     "name": "stderr",
     "output_type": "stream",
     "text": [
      "/home/ubuntu/anaconda3/envs/tensorflow_p36/lib/python3.6/site-packages/ipykernel_launcher.py:3: RuntimeWarning: divide by zero encountered in log\n",
      "  This is separate from the ipykernel package so we can avoid doing imports until\n"
     ]
    },
    {
     "data": {
      "image/png": "[encoded data removed]",
      "text/plain": [
       "<Figure size 1152x864 with 1 Axes>"
      ]
     },
     "metadata": {},
     "output_type": "display_data"
    },
    {
     "name": "stdout",
     "output_type": "stream",
     "text": [
      "\n",
      "\n",
      "The repetition ratio for this track is 0.47\n",
      "\n",
      "\n",
      "so good \n",
      " dont go run dont you take me to the left past you were dead to mine \n",
      " i can still love you tonight \n",
      " this much is true \n",
      " this much is true \n",
      " this i promise you \n",
      " for you who you are not who you why dont you let me let me love you baby \n",
      " trust in me when i say \n",
      " oh love is very good \n",
      " i keep up going down for you \n",
      " im fallin in and out \n",
      " of love with you \n",
      " im in love with you \n",
      " am i wild enough \n",
      " wild enough for you \n",
      " am i wild enough \n",
      " wild enough for you \n",
      " am i wild enough \n",
      " wild enough for you \n",
      " cause its the only thing that makes us feel figured up \n",
      " ill never break your heart \n",
      " ill never make you cry \n",
      " id rather die than live without you \n",
      " ill give you everything hey girl \n",
      " if this much aint very lame uh i never done no more \n",
      " no i dont let no love let time \n",
      " hold me love me i want to see life \n",
      " driving in your car \n",
      " the speed so fast i felt like i was drunk \n",
      " city lights lay out before us \n",
      " and your arms felt nice wrapped around my shoulders and \n",
      " ii had a feeling i could be someone \n",
      " be someone be someone i know \n",
      "\n"
     ]
    }
   ],
   "source": [
    "lyrics = generate_lyrics('eyes are for lovers',\n",
    "                         seq_len=4,\n",
    "                         song_len=250,\n",
    "                         model_dir=None\n",
    "                        )\n",
    "lyric_grid(lyrics)"
   ]
  },
  {
   "cell_type": "markdown",
   "metadata": {},
   "source": [
    "This time the model began looping, indicating the predictions may benefit from a slightly looser tolerance when predicting the next word."
   ]
  },
  {
   "cell_type": "code",
   "execution_count": 36,
   "metadata": {},
   "outputs": [
    {
     "name": "stderr",
     "output_type": "stream",
     "text": [
      "/home/ubuntu/anaconda3/envs/tensorflow_p36/lib/python3.6/site-packages/ipykernel_launcher.py:3: RuntimeWarning: divide by zero encountered in log\n",
      "  This is separate from the ipykernel package so we can avoid doing imports until\n"
     ]
    },
    {
     "data": {
      "image/png": "[encoded data removed]",
      "text/plain": [
       "<Figure size 1152x864 with 1 Axes>"
      ]
     },
     "metadata": {},
     "output_type": "display_data"
    },
    {
     "name": "stdout",
     "output_type": "stream",
     "text": [
      "\n",
      "\n",
      "The repetition ratio for this track is 0.4\n",
      "\n",
      "\n",
      "\n",
      " better than ya \n",
      " understand i cant pay the empty lips \n",
      " it years not to say \n",
      " just to make this dock my home \n",
      " now im just gonna meet your way again \n",
      " find a place to make your body \n",
      " i dont want to let you go til you see the light \n",
      " take me home tonight \n",
      " i dont want another pretty face \n",
      " i dont want your body \n",
      " walks away one last \n",
      " made to know the dark thats why we fuck baby \n",
      " go hard and go again \n",
      " but in winters chill or summers breeze \n",
      " one thing will not be lovers out with my wings without you \n",
      " i cant help myself no \n",
      " you mean the world of her they never loved me \n",
      " i thought you had some kind of love baby drip drip \n",
      " thats the newest things i ever ever done \n",
      " but keep it all a hundred did you have faith \n",
      " when i was your ring nauseous wall \n",
      " the bag of em \n",
      " i wouldnt have it any other way \n",
      " heaven knows a sinner needs a saint \n",
      " oh but when you say you love me \n",
      " i couldnt make you love me \n",
      " cause i dont see me no matter what i say or kind of things \n",
      " youll leave you looking more for just long \n",
      " i hope you go love somebody \n",
      " and go get lost on the way\n"
     ]
    }
   ],
   "source": [
    "lyrics = generate_lyrics('eyes are for lovers',\n",
    "                         seq_len=4,\n",
    "                         song_len=250,\n",
    "                         model_dir=None\n",
    "                        )\n",
    "lyric_grid(lyrics)"
   ]
  },
  {
   "cell_type": "markdown",
   "metadata": {},
   "source": [
    "This is the best output so far, with an interesting variation in line length and overall consistent theme, even though some of the word combinations are VERY metaphorical."
   ]
  },
  {
   "cell_type": "code",
   "execution_count": 37,
   "metadata": {},
   "outputs": [
    {
     "name": "stderr",
     "output_type": "stream",
     "text": [
      "/home/ubuntu/anaconda3/envs/tensorflow_p36/lib/python3.6/site-packages/ipykernel_launcher.py:3: RuntimeWarning: divide by zero encountered in log\n",
      "  This is separate from the ipykernel package so we can avoid doing imports until\n"
     ]
    },
    {
     "data": {
      "image/png": "[encoded data removed]",
      "text/plain": [
       "<Figure size 1152x864 with 1 Axes>"
      ]
     },
     "metadata": {},
     "output_type": "display_data"
    },
    {
     "name": "stdout",
     "output_type": "stream",
     "text": [
      "\n",
      "\n",
      "The repetition ratio for this track is 0.47\n",
      "\n",
      "\n",
      "\n",
      " ignore right now and comes back like some other kisses fun \n",
      " well you say it til she appear it yeah \n",
      " big big booty what you got a big booty \n",
      " now baby uh youre gorgeous \n",
      " big big booty what you got a big booty \n",
      " big big booty what you got a big booty \n",
      " big big booty what you got a big booty go to work \n",
      " big big booty what you got a big booty \n",
      " but most of all you are just absolutely bootyful aint that a freak huh \n",
      " from the night that i fell in love girl \n",
      " i miss us baby oh yeah \n",
      " woo ooh stand lets watch me cry \n",
      " she is the nights that i call the fiveo \n",
      " if they show up then we are gonna give a good show \n",
      " i just wanna see you \n",
      " i wanna laugh with you \n",
      " i wanna scream keep your heart \n",
      " just pretend that you turn me in the street \n",
      " all night long all night ah yeah all night once you get started you cant sit up without years \n",
      " but i must spend all my time \n",
      " cover your crystal eyes \n",
      " and let your love show \n",
      " and youll know what i mean \n",
      " it seems live deep \n",
      " and if you wanna fall outside \n",
      " you took that upper step \n",
      " running on your mind \n",
      " you can call me names if you\n"
     ]
    }
   ],
   "source": [
    "lyrics = generate_lyrics('eyes are for lovers',\n",
    "                         seq_len=4,\n",
    "                         song_len=250,\n",
    "                         model_dir=None\n",
    "                        )\n",
    "lyric_grid(lyrics)"
   ]
  },
  {
   "cell_type": "markdown",
   "metadata": {},
   "source": [
    "The next hip-hop chart topper?"
   ]
  },
  {
   "cell_type": "code",
   "execution_count": 38,
   "metadata": {},
   "outputs": [
    {
     "name": "stderr",
     "output_type": "stream",
     "text": [
      "/home/ubuntu/anaconda3/envs/tensorflow_p36/lib/python3.6/site-packages/ipykernel_launcher.py:3: RuntimeWarning: divide by zero encountered in log\n",
      "  This is separate from the ipykernel package so we can avoid doing imports until\n"
     ]
    },
    {
     "data": {
      "image/png": "[encoded data removed]",
      "text/plain": [
       "<Figure size 1152x864 with 1 Axes>"
      ]
     },
     "metadata": {},
     "output_type": "display_data"
    },
    {
     "name": "stdout",
     "output_type": "stream",
     "text": [
      "\n",
      "\n",
      "The repetition ratio for this track is 0.52\n",
      "\n",
      "\n",
      "so good \n",
      " dont act gonna go all \n",
      " but your bitches \n",
      " you dont have to be what you want when you get older \n",
      " call out the flames \n",
      " dont know the sun i say has probably never out of the door no \n",
      " oh oh oh oh \n",
      " walk heavy will be the matter thing them on goodnight ooh \n",
      " i know you dont belong \n",
      " now im asking questions \n",
      " no one pushes me around you know everybody feels this way sometimes \n",
      " everybody feels this way sometimes \n",
      " everybody feels this way sometimes \n",
      " everybody feels this way sometimes \n",
      " everybody feels this way sometimes \n",
      " everybody feels this way sometimes \n",
      " everybody feels this way sometimes \n",
      " everybody feels this way sometimes \n",
      " everybody feels this way wild to love me oh baby how it breaks your heart \n",
      " youd make good money and come home early \n",
      " and youd kiss me and hold me each night \n",
      " we would have children and they would be so beautiful \n",
      " and wed raise them and all would be right \n",
      " ill be with you from dusk till dawn \n",
      " baby i am right here \n",
      " could give love to your body \n",
      " so only you that can stop it \n",
      " go give love to your body \n",
      " so only you that can stop it \n",
      " go give love to your body \n",
      " and last night you were in my arms i had never felt so\n"
     ]
    }
   ],
   "source": [
    "lyrics = generate_lyrics('eyes are for lovers',\n",
    "                         seq_len=4,\n",
    "                         song_len=250,\n",
    "                         model_dir=None,\n",
    "                         temperature=0.8\n",
    "                        )\n",
    "lyric_grid(lyrics)"
   ]
  },
  {
   "cell_type": "markdown",
   "metadata": {},
   "source": [
    "Decreasing the temperature / predictive tolerance increases repetition, as expected."
   ]
  },
  {
   "cell_type": "code",
   "execution_count": 40,
   "metadata": {},
   "outputs": [
    {
     "name": "stderr",
     "output_type": "stream",
     "text": [
      "/home/ubuntu/anaconda3/envs/tensorflow_p36/lib/python3.6/site-packages/ipykernel_launcher.py:3: RuntimeWarning: divide by zero encountered in log\n",
      "  This is separate from the ipykernel package so we can avoid doing imports until\n"
     ]
    },
    {
     "data": {
      "image/png": "[encoded data removed]",
      "text/plain": [
       "<Figure size 1152x864 with 1 Axes>"
      ]
     },
     "metadata": {},
     "output_type": "display_data"
    },
    {
     "name": "stdout",
     "output_type": "stream",
     "text": [
      "\n",
      "\n",
      "The repetition ratio for this track is 0.44\n",
      "\n",
      "\n",
      "so damn crazy hey \n",
      " you deserve to hear the world i am \n",
      " so hold tight \n",
      " hold tight \n",
      " oh she said \n",
      " any way you want it \n",
      " thats the way you want it \n",
      " thats the way it is \n",
      " some thingsll never change \n",
      " thats just the way it is \n",
      " thats just the way it is \n",
      " lately ive been puttin in my time \n",
      " is this the way that you want it to end \n",
      " is this the way that you leave me \n",
      " is this the kind of do that \n",
      " i want you \n",
      " you want her you need her \n",
      " but im not giving up \n",
      " ima love you boy topdown bottomup \n",
      " topdown bottomup topdown bottomup \n",
      " thinking of you \n",
      " like a river flows surely to the sea \n",
      " it was divine door \n",
      " im the only one for me \n",
      " youre the one who keeps me on my own \n",
      " because he dont mind \n",
      " something everybody happened to love her \n",
      " however leaving her a long way from her home \n",
      " and that aint no promise cracking over time \n",
      " a game truth \n",
      " you wear the game charm \n",
      " but happiness the lights have been laughing \n",
      " its been alone come and lonely to reach to you ill just to see that you give good love \n",
      " scream up the blue \n",
      " drive a little slower dont matter why would you go back itll be\n"
     ]
    }
   ],
   "source": [
    "lyrics = generate_lyrics('eyes are for lovers',\n",
    "                         seq_len=4,\n",
    "                         song_len=250,\n",
    "                         model_dir=None,\n",
    "                         temperature=1.2\n",
    "                        )\n",
    "lyric_grid(lyrics)"
   ]
  },
  {
   "cell_type": "markdown",
   "metadata": {},
   "source": [
    "Interestingly, this still has a similar repetition ratio, though it is more intermittant and mostly limited to duplicate lines"
   ]
  },
  {
   "cell_type": "code",
   "execution_count": 41,
   "metadata": {},
   "outputs": [
    {
     "name": "stderr",
     "output_type": "stream",
     "text": [
      "/home/ubuntu/anaconda3/envs/tensorflow_p36/lib/python3.6/site-packages/ipykernel_launcher.py:3: RuntimeWarning: divide by zero encountered in log\n",
      "  This is separate from the ipykernel package so we can avoid doing imports until\n"
     ]
    },
    {
     "data": {
      "image/png": "[encoded data removed]",
      "text/plain": [
       "<Figure size 1152x864 with 1 Axes>"
      ]
     },
     "metadata": {},
     "output_type": "display_data"
    },
    {
     "name": "stdout",
     "output_type": "stream",
     "text": [
      "\n",
      "\n",
      "The repetition ratio for this track is 0.39\n",
      "\n",
      "\n",
      "\n",
      " ignore right now and comes back like youve got the joy of turns \n",
      " and i would do a million things people and forget \n",
      " im reminded our fool im not a little bit deep a \n",
      " but let the words burn with me \n",
      " dont you want to see me mistreat me \n",
      " and try to store the pain inside of me \n",
      " the minute i know the time i need anything \n",
      " more i try and i try and i try and i try \n",
      " i was taking pictures \n",
      " out there havin kill \n",
      " and if you were the answer for me \n",
      " that night you went \n",
      " do stop with me alone \n",
      " when she was left this day from dying \n",
      " i dont want another pretty face \n",
      " i dont want nobodys body that your body babe \n",
      " all im trying to wait for diamond no \n",
      " or sweet now sweet simple mind cause \n",
      " its all you need \n",
      " all i ask you \n",
      " is to walk away real \n",
      " so sad are fast \n",
      " so we cant go another bit video child to almost \n",
      " oh oh oh listen to the music of the moment people long and nigga \n",
      " big moons going drunk \n",
      " remind me after bad you lie \n",
      " i dont know about my loving anymore \n",
      " all that i want to \n",
      " uh huh this shit \n",
      " huh a virgin so down \n",
      " back to bring aside \n",
      "\n"
     ]
    }
   ],
   "source": [
    "lyrics = generate_lyrics('eyes are for lovers',\n",
    "                         seq_len=4,\n",
    "                         song_len=250,\n",
    "                         model_dir=None,\n",
    "                         temperature=1.2\n",
    "                        )\n",
    "lyric_grid(lyrics)"
   ]
  },
  {
   "cell_type": "markdown",
   "metadata": {},
   "source": [
    "This is more in line with what we would expect for human produced lyrics"
   ]
  },
  {
   "cell_type": "code",
   "execution_count": 42,
   "metadata": {},
   "outputs": [
    {
     "name": "stderr",
     "output_type": "stream",
     "text": [
      "/home/ubuntu/anaconda3/envs/tensorflow_p36/lib/python3.6/site-packages/ipykernel_launcher.py:3: RuntimeWarning: divide by zero encountered in log\n",
      "  This is separate from the ipykernel package so we can avoid doing imports until\n"
     ]
    },
    {
     "data": {
      "image/png": "[encoded data removed]",
      "text/plain": [
       "<Figure size 1152x864 with 1 Axes>"
      ]
     },
     "metadata": {},
     "output_type": "display_data"
    },
    {
     "name": "stdout",
     "output_type": "stream",
     "text": [
      "\n",
      "\n",
      "The repetition ratio for this track is 0.34\n",
      "\n",
      "\n",
      "\n",
      " better than ya \n",
      " understand i cant tell \n",
      " no more kissed cold its an went true \n",
      " didnt want to feel safe fall \n",
      " and you tell me im the fool \n",
      " start em locked them now tell \n",
      " baby dont stop hard \n",
      " yeah we wont go when we for playing yo no i wont divine \n",
      " those hands \n",
      " then alone \n",
      " hey and the special look so long \n",
      " wandering on as the pain \n",
      " all night im fed up \n",
      " i am top phone im in \n",
      " with my car \n",
      " had a drop for your hand baby \n",
      " im just not a care for a while be ready \n",
      " and let yo mountain \n",
      " cause you are the best of my love \n",
      " will never forget about you \n",
      " i got a bag for monique a bag for fonna \n",
      " i got a hard head but you were dumb \n",
      " all the big special time as did \n",
      " two thoughts its burned to sleep \n",
      " never feeling like you oh \n",
      " waiting for your call \n",
      " im prepared to sacrifice my life \n",
      " i deserve a try have you show me actually what \n",
      " this is words or let me cry \n",
      " give me \n",
      " when a man loves a woman \n",
      " dont call me why youre so sorry and youre like youre \n",
      " said i was king cause you win each lord \n",
      " and thank you for the \n",
      " sure here affair\n"
     ]
    }
   ],
   "source": [
    "lyrics = generate_lyrics('eyes are for lovers',\n",
    "                         seq_len=4,\n",
    "                         song_len=250,\n",
    "                         model_dir=None,\n",
    "                         temperature=1.6\n",
    "                        )\n",
    "lyric_grid(lyrics)"
   ]
  },
  {
   "cell_type": "markdown",
   "metadata": {},
   "source": [
    "While there's no repetition, this feels like an over correctin and the word selection can at times feel disjointed."
   ]
  },
  {
   "cell_type": "markdown",
   "metadata": {},
   "source": [
    "# CONTINUE TO NOTEBOOK 04b: MODELING"
   ]
  }
 ],
 "metadata": {
  "kernelspec": {
   "display_name": "Python 3",
   "language": "python",
   "name": "python3"
  },
  "language_info": {
   "codemirror_mode": {
    "name": "ipython",
    "version": 3
   },
   "file_extension": ".py",
   "mimetype": "text/x-python",
   "name": "python",
   "nbconvert_exporter": "python",
   "pygments_lexer": "ipython3",
   "version": "3.6.8"
  }
 },
 "nbformat": 4,
 "nbformat_minor": 2
}
