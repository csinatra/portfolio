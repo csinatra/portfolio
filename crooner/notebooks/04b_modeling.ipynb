{
 "cells": [
  {
   "cell_type": "markdown",
   "metadata": {},
   "source": [
    "# Notebook 04b: Modeling - GloVe Embeddings"
   ]
  },
  {
   "cell_type": "markdown",
   "metadata": {},
   "source": [
    "## Contents:\n",
    "1. [Summary](#section1)\n",
    "2. [Embeddings](#section2)\n",
    "3. [Building the Model](#section3)\n",
    "4. [Model Fitting](#section4)\n",
    "4. [Assessing the Model](#section5)\n",
    "5. [Generating Lyrics](#section6)"
   ]
  },
  {
   "cell_type": "markdown",
   "metadata": {},
   "source": [
    "# Summary<a name=\"section1\"></a>\n",
    "In this notebook build on the previous notebook using word embeddings, however I will utilize pre-trained word vectors from the GloVe Common Crawl 42B 300d dataset. This will be interesting to compare with the learned, Keras generated embeddings as these pre-trained vectors should have a much stronger relationship based on the size of the training corpus."
   ]
  },
  {
   "cell_type": "code",
   "execution_count": 3,
   "metadata": {},
   "outputs": [],
   "source": [
    "import json, time, re, string, keras, pickle, h5py\n",
    "import pandas as pd\n",
    "import numpy as np\n",
    "import tensorflow as tf\n",
    "import matplotlib.pyplot as plt\n",
    "import seaborn as sns\n",
    "\n",
    "from numpy import random\n",
    "from scipy.sparse import coo_matrix\n",
    "from scipy import sparse\n",
    "\n",
    "from keras.preprocessing.text import Tokenizer\n",
    "from keras.preprocessing.sequence import pad_sequences\n",
    "from keras.models import Sequential\n",
    "from keras.layers import Dense, Embedding, LSTM, Flatten\n",
    "from keras.utils.np_utils import to_categorical\n",
    "from keras.callbacks import ModelCheckpoint\n",
    "\n",
    "\n",
    "%matplotlib inline\n",
    "plt.style.use('fivethirtyeight')\n",
    "\n",
    "%run ../assets/sql_cred.py"
   ]
  },
  {
   "cell_type": "code",
   "execution_count": 2,
   "metadata": {},
   "outputs": [
    {
     "name": "stdout",
     "output_type": "stream",
     "text": [
      "/device:GPU:0\n"
     ]
    }
   ],
   "source": [
    "print(tf.test.gpu_device_name())\n",
    "\n",
    "config = tf.ConfigProto()\n",
    "config.gpu_options.allow_growth = True"
   ]
  },
  {
   "cell_type": "code",
   "execution_count": 3,
   "metadata": {},
   "outputs": [],
   "source": [
    "def filename_format_log(file_path, \n",
    "                        logfile = '../assets/file_log.txt', \n",
    "                        now = round(time.time()), \n",
    "                        file_description = None): \n",
    "   \n",
    "    try:\n",
    "        ext = re.search('(?<!^)(?<!\\.)\\.(?!\\.)', file_path).start() \n",
    "    except:\n",
    "        raise NameError('Please enter a relative path with a file extension.') \n",
    "    \n",
    "    stamp = re.search('(?<!^)(?<!\\.)[0-z]+_[0-z]+(?=\\.)', file_path).start()\n",
    "    formatted_name = f'{file_path[:stamp]}{now}_{file_path[stamp:]}'  \n",
    "    if not file_description:\n",
    "        file_description = f'Saved at: {time.asctime(time.gmtime(now))}'\n",
    "    with open(logfile, 'a+') as f:\n",
    "        f.write(f'{formatted_name}: {file_description}\\n')\n",
    "    return formatted_name, now, file_description"
   ]
  },
  {
   "cell_type": "code",
   "execution_count": 4,
   "metadata": {},
   "outputs": [],
   "source": [
    "X_reshape = np.load('../assets/1549351379_LSTM350_Xreshape.npy')"
   ]
  },
  {
   "cell_type": "code",
   "execution_count": 5,
   "metadata": {},
   "outputs": [],
   "source": [
    "y_cat_coo = sparse.load_npz('../assets/1549351379_LSTM350_ycat.npz')"
   ]
  },
  {
   "cell_type": "code",
   "execution_count": 6,
   "metadata": {},
   "outputs": [],
   "source": [
    "y_cat = y_cat_coo.toarray()"
   ]
  },
  {
   "cell_type": "code",
   "execution_count": 7,
   "metadata": {},
   "outputs": [],
   "source": [
    "with open('../models/1549351379_LSTM350_tokenizer.pkl', 'rb') as f:\n",
    "    tokenizer = pickle.load(f)"
   ]
  },
  {
   "cell_type": "code",
   "execution_count": 8,
   "metadata": {},
   "outputs": [],
   "source": [
    "vocab_size = len(tokenizer.word_index) + 1"
   ]
  },
  {
   "cell_type": "code",
   "execution_count": 9,
   "metadata": {},
   "outputs": [
    {
     "data": {
      "text/plain": [
       "12978"
      ]
     },
     "execution_count": 9,
     "metadata": {},
     "output_type": "execute_result"
    }
   ],
   "source": [
    "vocab_size"
   ]
  },
  {
   "cell_type": "markdown",
   "metadata": {},
   "source": [
    "## Embeddings<a name=\"section2\"></a>"
   ]
  },
  {
   "cell_type": "markdown",
   "metadata": {},
   "source": [
    "Loading the GloVe embeddings. This will create a dict from the embeddings .txt file that can be used to map the dataset into prio to model training."
   ]
  },
  {
   "cell_type": "code",
   "execution_count": 10,
   "metadata": {},
   "outputs": [
    {
     "name": "stdout",
     "output_type": "stream",
     "text": [
      "Loaded 483569 word vectors\n"
     ]
    }
   ],
   "source": [
    "embeddings_index = dict()\n",
    "\n",
    "f = open('../glove_data/glove.42B.300d.txt')\n",
    "\n",
    "for line in f:\n",
    "    values = line.split()\n",
    "    word = values[0]\n",
    "    coefs = np.asarray(values[1:], dtype='float32')\n",
    "    embeddings_index[word] = coefs\n",
    "\n",
    "f.close()\n",
    "\n",
    "print(f'Loaded {len(embeddings_index)} word vectors')"
   ]
  },
  {
   "cell_type": "markdown",
   "metadata": {},
   "source": [
    "There were 438k words present in the GloVe dataset."
   ]
  },
  {
   "cell_type": "markdown",
   "metadata": {},
   "source": [
    "Mapping the lyric vocabulary into the embedding space, producing an embedding matrix that is scaled to our vocab_size."
   ]
  },
  {
   "cell_type": "code",
   "execution_count": 11,
   "metadata": {},
   "outputs": [],
   "source": [
    "# create a weight matrix for words in training docs\n",
    "embedding_matrix = np.zeros((vocab_size, 300))\n",
    "\n",
    "for word, i in tokenizer.word_index.items():\n",
    "    embedding_vector = embeddings_index.get(word)\n",
    "    \n",
    "    if embedding_vector is not None:\n",
    "        embedding_matrix[i] = embedding_vector"
   ]
  },
  {
   "cell_type": "code",
   "execution_count": 12,
   "metadata": {},
   "outputs": [
    {
     "data": {
      "text/plain": [
       "12978"
      ]
     },
     "execution_count": 12,
     "metadata": {},
     "output_type": "execute_result"
    }
   ],
   "source": [
    "len(embedding_matrix)"
   ]
  },
  {
   "cell_type": "markdown",
   "metadata": {},
   "source": [
    "## Building the Model<a name=\"section3\"></a>\n",
    "This model is largely similar to the previous architecture with a couple exceptions. Here, we are explicitly setting the embedding layer weights to correspond to the GloVe embeddings matrix. We also have the option of allowing this to be trainable or not trainable by the model. The first run will be performed with the embeddings fixed at the GloVe values.\n",
    "\n",
    "Note, the input LSTM and second LSTM layers have been changed for a second run and the embeddings layer has been set to allow training of the embedding weights. This is in response to results from the first run that produced high repetition and low variation, an effect we would expect with more confident predictions. By broadening the model it's hoped that the model will become more sensitve to the structure and semantic nuances of song lyrics."
   ]
  },
  {
   "cell_type": "code",
   "execution_count": 14,
   "metadata": {},
   "outputs": [],
   "source": [
    "seq_len=4\n",
    "\n",
    "# Compile model\n",
    "model = Sequential()\n",
    "model.add(Embedding(vocab_size, 300, weights=[embedding_matrix], input_length=seq_len, mask_zero=True, trainable=True))\n",
    "model.add(LSTM(600, return_sequences=True))\n",
    "model.add(LSTM(300))\n",
    "model.add(Dense(100, activation='relu'))\n",
    "model.add(Dense(y_cat.shape[1], activation='softmax'))\n",
    "\n",
    "model.compile(\n",
    "    loss = 'categorical_crossentropy',\n",
    "    optimizer = 'adam',\n",
    "    metrics = ['accuracy'])"
   ]
  },
  {
   "cell_type": "markdown",
   "metadata": {},
   "source": [
    "## Model Fitting<a name=\"section4\"></a>"
   ]
  },
  {
   "cell_type": "markdown",
   "metadata": {},
   "source": [
    "In tandem with the above changes to broaden the model, we will also decrease the batch size and increase the number of epochs, allowing the model to train more deeply on the dataset. (Note, output cleared after incomplete run)"
   ]
  },
  {
   "cell_type": "code",
   "execution_count": null,
   "metadata": {},
   "outputs": [],
   "source": [
    "# Train model on dataset\n",
    "with tf.device('/gpu:0'):\n",
    "    history = model.fit(X_reshape,\n",
    "              y_cat,\n",
    "              verbose=1,\n",
    "              batch_size=2500,\n",
    "              epochs=600, \n",
    "             )\n",
    "\n",
    "formatted_name, now, file_description= filename_format_log('../models/LSTM625_42Bmodel.h5')\n",
    "\n",
    "model.save(formatted_name)"
   ]
  },
  {
   "cell_type": "code",
   "execution_count": null,
   "metadata": {},
   "outputs": [],
   "source": [
    "# model = keras.models.load_model('../assets/1549265762_LSTM_Model.h5')"
   ]
  },
  {
   "cell_type": "markdown",
   "metadata": {},
   "source": [
    "## Assessing the Model<a name=\"section5\"></a>"
   ]
  },
  {
   "cell_type": "code",
   "execution_count": 15,
   "metadata": {},
   "outputs": [
    {
     "name": "stdout",
     "output_type": "stream",
     "text": [
      "_________________________________________________________________\n",
      "Layer (type)                 Output Shape              Param #   \n",
      "=================================================================\n",
      "embedding_1 (Embedding)      (None, 4, 300)            3893400   \n",
      "_________________________________________________________________\n",
      "lstm_1 (LSTM)                (None, 4, 300)            721200    \n",
      "_________________________________________________________________\n",
      "lstm_2 (LSTM)                (None, 150)               270600    \n",
      "_________________________________________________________________\n",
      "dense_1 (Dense)              (None, 100)               15100     \n",
      "_________________________________________________________________\n",
      "dense_2 (Dense)              (None, 12978)             1310778   \n",
      "=================================================================\n",
      "Total params: 6,211,078\n",
      "Trainable params: 2,317,678\n",
      "Non-trainable params: 3,893,400\n",
      "_________________________________________________________________\n",
      "None\n"
     ]
    }
   ],
   "source": [
    "# Print model summary\n",
    "print(model.summary())"
   ]
  },
  {
   "cell_type": "code",
   "execution_count": 16,
   "metadata": {},
   "outputs": [
    {
     "data": {
      "image/png": "[encoded data removed]",
      "text/plain": [
       "<Figure size 1296x432 with 2 Axes>"
      ]
     },
     "metadata": {},
     "output_type": "display_data"
    }
   ],
   "source": [
    "fig, ax = plt.subplots(ncols=2, nrows=1, figsize=(18,6))\n",
    "\n",
    "ax[0].plot(history.history['loss'])\n",
    "ax[0].set_title(\"Loss\", fontsize=15);\n",
    "ax[0].set_xlabel(\"epochs\",fontsize=15);\n",
    "\n",
    "ax[1].plot(history.history['acc'])\n",
    "ax[1].set_title(\"Accuracy\",fontsize=15);\n",
    "ax[1].set_xlabel(\"epochs\",fontsize=15);"
   ]
  },
  {
   "cell_type": "markdown",
   "metadata": {},
   "source": [
    "The previous run does not seem to have reached its max accuracy or min loss, suggesting it can run for more epochs"
   ]
  },
  {
   "cell_type": "markdown",
   "metadata": {},
   "source": [
    "## Generating Lyrics<a name=\"section6\"></a>"
   ]
  },
  {
   "cell_type": "code",
   "execution_count": null,
   "metadata": {},
   "outputs": [],
   "source": [
    "def sample(preds, temperature=1.0):\n",
    "    preds = np.asarray(preds).astype('float64')\n",
    "    preds = np.log(preds) / temperature\n",
    "    exp_preds = np.exp(preds)\n",
    "    preds = exp_preds / np.sum(exp_preds)\n",
    "    probas = np.random.multinomial(1, preds, 1)\n",
    "    return np.argmax(probas)"
   ]
  },
  {
   "cell_type": "code",
   "execution_count": 46,
   "metadata": {},
   "outputs": [],
   "source": [
    "def generate_lyrics(seed, \n",
    "                    seq_len = 4, \n",
    "                    song_len = 50,\n",
    "                    temperature = 1.0,\n",
    "                    model_dir = None):\n",
    "    \n",
    "    if model_dir:\n",
    "        model = keras.models.load_model(f'{model_dir}/*.h5')\n",
    "        \n",
    "        with open(f'{model_dir}/*.pkl', 'rb') as f:\n",
    "            tokenizer = pickle.load(f)\n",
    "    else:\n",
    "        model = model\n",
    "\n",
    "        tokenizer = tokenizer\n",
    "    \n",
    "    seed_clean = seed.lower().split(' ')\n",
    "    doc = []\n",
    "\n",
    "    while len(doc) < song_len:\n",
    "        text = [seed_clean]\n",
    "        sequence = [tokenizer.texts_to_sequences([word])[0] for word in text]\n",
    "        pad_sequence = pad_sequences(sequence, maxlen=seq_len, truncating='pre')\n",
    "        sequence_reshape = np.reshape(pad_sequence, (1, seq_len))\n",
    "\n",
    "        yhat = model.predict(sequence_reshape, verbose=0)[0]\n",
    "        next_index = sample(yhat, temperature)\n",
    "        \n",
    "        for word, index in tokenizer.word_index.items():\n",
    "            if index == next_index:\n",
    "                seed_clean.append(word)\n",
    "                doc.append(word)\n",
    "\n",
    "    return ' '.join(doc)"
   ]
  },
  {
   "cell_type": "code",
   "execution_count": 4,
   "metadata": {},
   "outputs": [],
   "source": [
    "def lyric_grid(track):\n",
    "#     track = df.loc[track_id, 'clean_lyrics']\n",
    "    \n",
    "    lyrics_spaced = re.sub(r'( +)', ' ', track)\n",
    "    lyrics_spaced = re.sub(r'\\n ', '', lyrics_spaced)\n",
    "    lyrics_split = lyrics_spaced.split(' ')\n",
    "    \n",
    "    N = len(lyrics_split)\n",
    "    grid = np.zeros(shape=(N,N), dtype='int')\n",
    "    \n",
    "    for i in range(N):\n",
    "        hits = [j for j, word in enumerate(lyrics_split) if word == lyrics_split[i]]\n",
    "        grid[i,[hits]] = 1 \n",
    "    \n",
    "    plt.figure(figsize=(16,12))\n",
    "    plt.title('Repetition in Track');\n",
    "    plt.xlabel('Word Number');\n",
    "    plt.ylabel('Word Number');\n",
    "    sns.heatmap(grid, cmap='Greys', cbar=False, xticklabels=[], yticklabels=[]);\n",
    "    \n",
    "    plt.show();\n",
    "    \n",
    "    rep_ratio = np.around(((N - len(set(lyrics_split))) / N), 2)\n",
    "    \n",
    "    print('\\n')\n",
    "    print(f'The repetition ratio for this track is {rep_ratio}')\n",
    "    print('\\n')\n",
    "    print(track)\n",
    "    return "
   ]
  },
  {
   "cell_type": "code",
   "execution_count": 19,
   "metadata": {},
   "outputs": [
    {
     "name": "stderr",
     "output_type": "stream",
     "text": [
      "/home/ubuntu/anaconda3/envs/tensorflow_p36/lib/python3.6/site-packages/ipykernel_launcher.py:3: RuntimeWarning: divide by zero encountered in log\n",
      "  This is separate from the ipykernel package so we can avoid doing imports until\n"
     ]
    },
    {
     "name": "stdout",
     "output_type": "stream",
     "text": [
      "\n",
      " and i wanna fall in love over subtweets woowoowoowoooo your lines are gonna feel these plans oh love \n",
      " let me be the one you doesnt be there hello \n",
      " i wish how hard might \n",
      " you to love me now \n",
      " nah break up with it \n",
      " im still in my zone \n",
      " thats why hey \n",
      " throw me clear in captain \n",
      " his prison would can tell me how you feeling followed by a million \n",
      " ooh we goin learn to dance oh oh i got a confession it all your lies \n",
      " ohohoh i really dont care \n",
      " ohohoh i really dont care \n",
      " ohohoh i really dont care \n",
      " even if my promise was a girl she steals taste \n",
      " a better a cage of ground is here \n",
      " the taste the exit of the northern court marriage has stronger has been making through me \n",
      " now are the perfect beautiful the war i look wide nigga let off the road let it in \n",
      " no one else can feel it for you \n",
      " thats that turns through \n",
      " cause baby youre your next \n",
      " youre the girl that my love keeps bleeding simple dreams and youre the trouble ill walk at the edge \n",
      " and life is brought up above crumble where i found \n",
      " and it is make your baby feels like \n",
      " in the morning ill be with you from dusk till dawn \n",
      " ill be with you day and night day\n"
     ]
    }
   ],
   "source": [
    "lyrics = generate_lyrics('always be there love',\n",
    "                         seq_len=4,\n",
    "                         song_len=250,\n",
    "                         model_dir=None,\n",
    "                        )\n",
    "print(lyrics)"
   ]
  },
  {
   "cell_type": "code",
   "execution_count": 5,
   "metadata": {},
   "outputs": [],
   "source": [
    "track = '''and i wanna fall in love over subtweets woowoowoowoooo your lines are gonna feel these plans oh love \n",
    " let me be the one you doesnt be there hello \n",
    " i wish how hard might \n",
    " you to love me now \n",
    " nah break up with it \n",
    " im still in my zone \n",
    " thats why hey \n",
    " throw me clear in captain \n",
    " his prison would can tell me how you feeling followed by a million \n",
    " ooh we goin learn to dance oh oh i got a confession it all your lies \n",
    " ohohoh i really dont care \n",
    " ohohoh i really dont care \n",
    " ohohoh i really dont care \n",
    " even if my promise was a girl she steals taste \n",
    " a better a cage of ground is here \n",
    " the taste the exit of the northern court marriage has stronger has been making through me \n",
    " now are the perfect beautiful the war i look wide nigga let off the road let it in \n",
    " no one else can feel it for you \n",
    " thats that turns through \n",
    " cause baby youre your next \n",
    " youre the girl that my love keeps bleeding simple dreams and youre the trouble ill walk at the edge \n",
    " and life is brought up above crumble where i found \n",
    " and it is make your baby feels like \n",
    " in the morning ill be with you from dusk till dawn \n",
    " ill be with you day and night day'''"
   ]
  },
  {
   "cell_type": "code",
   "execution_count": 6,
   "metadata": {},
   "outputs": [
    {
     "data": {
      "image/png": "[encoded data removed]",
      "text/plain": [
       "<Figure size 1152x864 with 1 Axes>"
      ]
     },
     "metadata": {},
     "output_type": "display_data"
    },
    {
     "name": "stdout",
     "output_type": "stream",
     "text": [
      "\n",
      "\n",
      "The repetition ratio for this track is 0.4\n",
      "\n",
      "\n",
      "and i wanna fall in love over subtweets woowoowoowoooo your lines are gonna feel these plans oh love \n",
      " let me be the one you doesnt be there hello \n",
      " i wish how hard might \n",
      " you to love me now \n",
      " nah break up with it \n",
      " im still in my zone \n",
      " thats why hey \n",
      " throw me clear in captain \n",
      " his prison would can tell me how you feeling followed by a million \n",
      " ooh we goin learn to dance oh oh i got a confession it all your lies \n",
      " ohohoh i really dont care \n",
      " ohohoh i really dont care \n",
      " ohohoh i really dont care \n",
      " even if my promise was a girl she steals taste \n",
      " a better a cage of ground is here \n",
      " the taste the exit of the northern court marriage has stronger has been making through me \n",
      " now are the perfect beautiful the war i look wide nigga let off the road let it in \n",
      " no one else can feel it for you \n",
      " thats that turns through \n",
      " cause baby youre your next \n",
      " youre the girl that my love keeps bleeding simple dreams and youre the trouble ill walk at the edge \n",
      " and life is brought up above crumble where i found \n",
      " and it is make your baby feels like \n",
      " in the morning ill be with you from dusk till dawn \n",
      " ill be with you day and night day\n"
     ]
    }
   ],
   "source": [
    "lyric_grid(track)"
   ]
  },
  {
   "cell_type": "markdown",
   "metadata": {},
   "source": [
    "Good structure with a wide variation in line length. Some repetition, word selection is chppy."
   ]
  },
  {
   "cell_type": "code",
   "execution_count": 20,
   "metadata": {},
   "outputs": [
    {
     "name": "stderr",
     "output_type": "stream",
     "text": [
      "/home/ubuntu/anaconda3/envs/tensorflow_p36/lib/python3.6/site-packages/ipykernel_launcher.py:3: RuntimeWarning: divide by zero encountered in log\n",
      "  This is separate from the ipykernel package so we can avoid doing imports until\n"
     ]
    },
    {
     "name": "stdout",
     "output_type": "stream",
     "text": [
      "\n",
      " so i could fall into the sky \n",
      " figure miles from hey \n",
      " we loose across that creature \n",
      " i dont know what i would be without you \n",
      " even though we break up in the end \n",
      " youve bet you should i know ill admit you till it smile \n",
      " i know i want it baby \n",
      " this is what this is for \n",
      " boy \n",
      " at her future land time \n",
      " oh baby let me grab your heart \n",
      " its a hunger that pop a average \n",
      " she can still take up a blue miles \n",
      " and then your wife seems to think youre good for your blood is covered wrapped while my hands beating legs \n",
      " saying talking bout a mil back \n",
      " i moonwalk open your fast undone \n",
      " love ours seas got a long way \n",
      " and it in my hand has told me to say that its true \n",
      " god must have spent a little more time a little \n",
      " a little more time on you \n",
      " on my mind constantly \n",
      " in this stains in the room its just a name taller \n",
      " wide little and dont like art to the living then you happy as the years youd be leaving with me and afterwards we ring and rain \n",
      " i need you more \n",
      " how much it could have have been meant \n",
      " lucky rather \n",
      " be here life like of to them against the castle and and sing \n",
      " says\n"
     ]
    }
   ],
   "source": [
    "lyrics = generate_lyrics('always be there love',\n",
    "                         seq_len=4,\n",
    "                         song_len=250,\n",
    "                         model_dir=None\n",
    "                        )\n",
    "print(lyrics)"
   ]
  },
  {
   "cell_type": "code",
   "execution_count": 7,
   "metadata": {},
   "outputs": [],
   "source": [
    "track ='''so i could fall into the sky \n",
    " figure miles from hey \n",
    " we loose across that creature \n",
    " i dont know what i would be without you \n",
    " even though we break up in the end \n",
    " youve bet you should i know ill admit you till it smile \n",
    " i know i want it baby \n",
    " this is what this is for \n",
    " boy \n",
    " at her future land time \n",
    " oh baby let me grab your heart \n",
    " its a hunger that pop a average \n",
    " she can still take up a blue miles \n",
    " and then your wife seems to think youre good for your blood is covered wrapped while my hands beating legs \n",
    " saying talking bout a mil back \n",
    " i moonwalk open your fast undone \n",
    " love ours seas got a long way \n",
    " and it in my hand has told me to say that its true \n",
    " god must have spent a little more time a little \n",
    " a little more time on you \n",
    " on my mind constantly \n",
    " in this stains in the room its just a name taller \n",
    " wide little and dont like art to the living then you happy as the years youd be leaving with me and afterwards we ring and rain \n",
    " i need you more \n",
    " how much it could have have been meant \n",
    " lucky rather \n",
    " be here life like of to them against the castle and and sing \n",
    " says'''"
   ]
  },
  {
   "cell_type": "code",
   "execution_count": 8,
   "metadata": {},
   "outputs": [
    {
     "data": {
      "image/png": "[encoded data removed]",
      "text/plain": [
       "<Figure size 1152x864 with 1 Axes>"
      ]
     },
     "metadata": {},
     "output_type": "display_data"
    },
    {
     "name": "stdout",
     "output_type": "stream",
     "text": [
      "\n",
      "\n",
      "The repetition ratio for this track is 0.36\n",
      "\n",
      "\n",
      "so i could fall into the sky \n",
      " figure miles from hey \n",
      " we loose across that creature \n",
      " i dont know what i would be without you \n",
      " even though we break up in the end \n",
      " youve bet you should i know ill admit you till it smile \n",
      " i know i want it baby \n",
      " this is what this is for \n",
      " boy \n",
      " at her future land time \n",
      " oh baby let me grab your heart \n",
      " its a hunger that pop a average \n",
      " she can still take up a blue miles \n",
      " and then your wife seems to think youre good for your blood is covered wrapped while my hands beating legs \n",
      " saying talking bout a mil back \n",
      " i moonwalk open your fast undone \n",
      " love ours seas got a long way \n",
      " and it in my hand has told me to say that its true \n",
      " god must have spent a little more time a little \n",
      " a little more time on you \n",
      " on my mind constantly \n",
      " in this stains in the room its just a name taller \n",
      " wide little and dont like art to the living then you happy as the years youd be leaving with me and afterwards we ring and rain \n",
      " i need you more \n",
      " how much it could have have been meant \n",
      " lucky rather \n",
      " be here life like of to them against the castle and and sing \n",
      " says\n"
     ]
    }
   ],
   "source": [
    "lyric_grid(track)"
   ]
  },
  {
   "cell_type": "markdown",
   "metadata": {},
   "source": [
    "This one is all over the place, potentially meaning the tolerance needs to become more strict when generating predictions"
   ]
  },
  {
   "cell_type": "code",
   "execution_count": 21,
   "metadata": {},
   "outputs": [
    {
     "name": "stderr",
     "output_type": "stream",
     "text": [
      "/home/ubuntu/anaconda3/envs/tensorflow_p36/lib/python3.6/site-packages/ipykernel_launcher.py:3: RuntimeWarning: divide by zero encountered in log\n",
      "  This is separate from the ipykernel package so we can avoid doing imports until\n"
     ]
    },
    {
     "name": "stdout",
     "output_type": "stream",
     "text": [
      "together \n",
      " when all that we wants \n",
      " keeps keep on holding away \n",
      " i know youre trying to heal your eyes \n",
      " would think of all you missed about you here \n",
      " said it just hate to love you anywhere i would to change but your heart can get a melt in my mind \n",
      " it will bring us back to the city in the northern chill \n",
      " a baby being born to the overkill \n",
      " more rough like things \n",
      " but wont stop its all over them were young \n",
      " look titties on playin outta game \n",
      " thirty feeling oclock touchin me \n",
      " yeah \n",
      " cause baby its a prime time for our love \n",
      " aint nobody peekin no less common distance \n",
      " no were start to fool the things \n",
      " of us need to groove theres no wonder \n",
      " i cant keep it together \n",
      " you dont really need to do \n",
      " they will you like this \n",
      " i need a nig i need a nigga from the house we cried upon a sea struck at the night \n",
      " and repeats repeats in it craze \n",
      " woah \n",
      " the pussy started rings upon grow home \n",
      " and down on three night night \n",
      " going on sit on catch free \n",
      " cause i cant resist it no more \n",
      " oh doctor please \n",
      " someone to listen behind \n",
      " when god stays it \n",
      " she should have to stay \n",
      " but you are not alone lone lone \n",
      " why\n"
     ]
    }
   ],
   "source": [
    "lyrics = generate_lyrics('always be there love',\n",
    "                         seq_len=4,\n",
    "                         song_len=250,\n",
    "                         model_dir=None\n",
    "                        )\n",
    "print(lyrics)"
   ]
  },
  {
   "cell_type": "code",
   "execution_count": 9,
   "metadata": {},
   "outputs": [],
   "source": [
    "track = '''together \n",
    " when all that we wants \n",
    " keeps keep on holding away \n",
    " i know youre trying to heal your eyes \n",
    " would think of all you missed about you here \n",
    " said it just hate to love you anywhere i would to change but your heart can get a melt in my mind \n",
    " it will bring us back to the city in the northern chill \n",
    " a baby being born to the overkill \n",
    " more rough like things \n",
    " but wont stop its all over them were young \n",
    " look titties on playin outta game \n",
    " thirty feeling oclock touchin me \n",
    " yeah \n",
    " cause baby its a prime time for our love \n",
    " aint nobody peekin no less common distance \n",
    " no were start to fool the things \n",
    " of us need to groove theres no wonder \n",
    " i cant keep it together \n",
    " you dont really need to do \n",
    " they will you like this \n",
    " i need a nig i need a nigga from the house we cried upon a sea struck at the night \n",
    " and repeats repeats in it craze \n",
    " woah \n",
    " the pussy started rings upon grow home \n",
    " and down on three night night \n",
    " going on sit on catch free \n",
    " cause i cant resist it no more \n",
    " oh doctor please \n",
    " someone to listen behind \n",
    " when god stays it \n",
    " she should have to stay \n",
    " but you are not alone lone lone \n",
    " why'''"
   ]
  },
  {
   "cell_type": "code",
   "execution_count": 10,
   "metadata": {},
   "outputs": [
    {
     "data": {
      "image/png": "[encoded data removed]",
      "text/plain": [
       "<Figure size 1152x864 with 1 Axes>"
      ]
     },
     "metadata": {},
     "output_type": "display_data"
    },
    {
     "name": "stdout",
     "output_type": "stream",
     "text": [
      "\n",
      "\n",
      "The repetition ratio for this track is 0.34\n",
      "\n",
      "\n",
      "together \n",
      " when all that we wants \n",
      " keeps keep on holding away \n",
      " i know youre trying to heal your eyes \n",
      " would think of all you missed about you here \n",
      " said it just hate to love you anywhere i would to change but your heart can get a melt in my mind \n",
      " it will bring us back to the city in the northern chill \n",
      " a baby being born to the overkill \n",
      " more rough like things \n",
      " but wont stop its all over them were young \n",
      " look titties on playin outta game \n",
      " thirty feeling oclock touchin me \n",
      " yeah \n",
      " cause baby its a prime time for our love \n",
      " aint nobody peekin no less common distance \n",
      " no were start to fool the things \n",
      " of us need to groove theres no wonder \n",
      " i cant keep it together \n",
      " you dont really need to do \n",
      " they will you like this \n",
      " i need a nig i need a nigga from the house we cried upon a sea struck at the night \n",
      " and repeats repeats in it craze \n",
      " woah \n",
      " the pussy started rings upon grow home \n",
      " and down on three night night \n",
      " going on sit on catch free \n",
      " cause i cant resist it no more \n",
      " oh doctor please \n",
      " someone to listen behind \n",
      " when god stays it \n",
      " she should have to stay \n",
      " but you are not alone lone lone \n",
      " why\n"
     ]
    }
   ],
   "source": [
    "lyric_grid(track)"
   ]
  },
  {
   "cell_type": "markdown",
   "metadata": {},
   "source": [
    "A much more poetic output but still slightly disjointed."
   ]
  },
  {
   "cell_type": "code",
   "execution_count": 22,
   "metadata": {},
   "outputs": [
    {
     "name": "stderr",
     "output_type": "stream",
     "text": [
      "/home/ubuntu/anaconda3/envs/tensorflow_p36/lib/python3.6/site-packages/ipykernel_launcher.py:3: RuntimeWarning: divide by zero encountered in log\n",
      "  This is separate from the ipykernel package so we can avoid doing imports until\n"
     ]
    },
    {
     "name": "stdout",
     "output_type": "stream",
     "text": [
      "\n",
      " and i wanna fly with a child \n",
      " dont you lose you girl i \n",
      " oh yeah yeah yeah yeah lately i think of you and i will keep you warm through the shadows of the night \n",
      " dont say okay with crazy whatever you are \n",
      " im the one that locked me in \n",
      " suffocatin and im wondering how ill find every time time \n",
      " i see her face \n",
      " and in my arms \n",
      " for the heavens to know you baby \n",
      " aint comin down to a strangers and no relief \n",
      " my hands may a long one youve been gone weve been the feeding memory can you open a breath ill be there should be dreaming of you right away \n",
      " before two may an ice of a vacancy \n",
      " yeah sayin as a while \n",
      " bitch i might end \n",
      " so we didnt have to pretend that much thing as break up in the end \n",
      " im not lost anymore cause \n",
      " ill only be waiting on my hate every proof \n",
      " look if your hair still calling me what next as long ago \n",
      " oh and now im feeling rough \n",
      " and if they laugh then fuck em all all \n",
      " and then i can get so much free and with this song \n",
      " i love you tonight \n",
      " these bout it relationships life \n",
      " tears for all of for what i could \n",
      " wasnt left your angel done for me \n",
      " being with\n"
     ]
    }
   ],
   "source": [
    "lyrics = generate_lyrics('always be there love',\n",
    "                         seq_len=4,\n",
    "                         song_len=250,\n",
    "                         model_dir=None\n",
    "                        )\n",
    "print(lyrics)"
   ]
  },
  {
   "cell_type": "code",
   "execution_count": 11,
   "metadata": {},
   "outputs": [],
   "source": [
    "track = '''and i wanna fly with a child \n",
    " dont you lose you girl i \n",
    " oh yeah yeah yeah yeah lately i think of you and i will keep you warm through the shadows of the night \n",
    " dont say okay with crazy whatever you are \n",
    " im the one that locked me in \n",
    " suffocatin and im wondering how ill find every time time \n",
    " i see her face \n",
    " and in my arms \n",
    " for the heavens to know you baby \n",
    " aint comin down to a strangers and no relief \n",
    " my hands may a long one youve been gone weve been the feeding memory can you open a breath ill be there should be dreaming of you right away \n",
    " before two may an ice of a vacancy \n",
    " yeah sayin as a while \n",
    " bitch i might end \n",
    " so we didnt have to pretend that much thing as break up in the end \n",
    " im not lost anymore cause \n",
    " ill only be waiting on my hate every proof \n",
    " look if your hair still calling me what next as long ago \n",
    " oh and now im feeling rough \n",
    " and if they laugh then fuck em all all \n",
    " and then i can get so much free and with this song \n",
    " i love you tonight \n",
    " these bout it relationships life \n",
    " tears for all of for what i could \n",
    " wasnt left your angel done for me \n",
    " being with'''"
   ]
  },
  {
   "cell_type": "code",
   "execution_count": 12,
   "metadata": {},
   "outputs": [
    {
     "data": {
      "image/png": "[encoded data removed]",
      "text/plain": [
       "<Figure size 1152x864 with 1 Axes>"
      ]
     },
     "metadata": {},
     "output_type": "display_data"
    },
    {
     "name": "stdout",
     "output_type": "stream",
     "text": [
      "\n",
      "\n",
      "The repetition ratio for this track is 0.38\n",
      "\n",
      "\n",
      "and i wanna fly with a child \n",
      " dont you lose you girl i \n",
      " oh yeah yeah yeah yeah lately i think of you and i will keep you warm through the shadows of the night \n",
      " dont say okay with crazy whatever you are \n",
      " im the one that locked me in \n",
      " suffocatin and im wondering how ill find every time time \n",
      " i see her face \n",
      " and in my arms \n",
      " for the heavens to know you baby \n",
      " aint comin down to a strangers and no relief \n",
      " my hands may a long one youve been gone weve been the feeding memory can you open a breath ill be there should be dreaming of you right away \n",
      " before two may an ice of a vacancy \n",
      " yeah sayin as a while \n",
      " bitch i might end \n",
      " so we didnt have to pretend that much thing as break up in the end \n",
      " im not lost anymore cause \n",
      " ill only be waiting on my hate every proof \n",
      " look if your hair still calling me what next as long ago \n",
      " oh and now im feeling rough \n",
      " and if they laugh then fuck em all all \n",
      " and then i can get so much free and with this song \n",
      " i love you tonight \n",
      " these bout it relationships life \n",
      " tears for all of for what i could \n",
      " wasnt left your angel done for me \n",
      " being with\n"
     ]
    }
   ],
   "source": [
    "lyric_grid(track)"
   ]
  },
  {
   "cell_type": "markdown",
   "metadata": {},
   "source": [
    "Some repetition and stilted structure, perhaps too strict with predictions."
   ]
  },
  {
   "cell_type": "code",
   "execution_count": 24,
   "metadata": {},
   "outputs": [
    {
     "name": "stderr",
     "output_type": "stream",
     "text": [
      "/home/ubuntu/anaconda3/envs/tensorflow_p36/lib/python3.6/site-packages/ipykernel_launcher.py:3: RuntimeWarning: divide by zero encountered in log\n",
      "  This is separate from the ipykernel package so we can avoid doing imports until\n"
     ]
    },
    {
     "name": "stdout",
     "output_type": "stream",
     "text": [
      "\n",
      " so i said im so good yeah \n",
      " oh let me bang it oh let me bang it oh let me bang it out \n",
      " oh let me bang it oh let me bang it out \n",
      " oh let me bang it oh let me bang it out \n",
      " oh let me bang it oh let me laugh inside your heart \n",
      " youre not here with me \n",
      " in the middle of the night \n",
      " dont hate me \n",
      " am i in the way \n",
      " there might be there might be something \n",
      " that something between us makes it worth the pain \n",
      " climb all the mountains in the way \n",
      " there might be there might be something \n",
      " that something between us makes it worth the pain \n",
      " climb all the mountains in the way \n",
      " that a lot other ones come get crazy \n",
      " you always love me but unforgettable \n",
      " for the day of me since \n",
      " i didnt i didnt i did i did i tasted you yeah i eat a bag to make you something \n",
      " that i could use somebody \n",
      " someone like youre my devil \n",
      " and your body ooh you can light me fire through the instant \n",
      " so they are still the first time at night until day today im not up for im drunk records \n",
      " it in need it but \n",
      " im gonna love you like im gonna lose you \n",
      " so im gonna love you now like\n"
     ]
    }
   ],
   "source": [
    "lyrics = generate_lyrics('always be there love',\n",
    "                         seq_len=4,\n",
    "                         song_len=250,\n",
    "                         model_dir=None,\n",
    "                         temperature=0.8\n",
    "                        )\n",
    "print(lyrics)"
   ]
  },
  {
   "cell_type": "code",
   "execution_count": 13,
   "metadata": {},
   "outputs": [],
   "source": [
    "track = ''' so i said im so good yeah \n",
    " oh let me bang it oh let me bang it oh let me bang it out \n",
    " oh let me bang it oh let me bang it out \n",
    " oh let me bang it oh let me bang it out \n",
    " oh let me bang it oh let me laugh inside your heart \n",
    " youre not here with me \n",
    " in the middle of the night \n",
    " dont hate me \n",
    " am i in the way \n",
    " there might be there might be something \n",
    " that something between us makes it worth the pain \n",
    " climb all the mountains in the way \n",
    " there might be there might be something \n",
    " that something between us makes it worth the pain \n",
    " climb all the mountains in the way \n",
    " that a lot other ones come get crazy \n",
    " you always love me but unforgettable \n",
    " for the day of me since \n",
    " i didnt i didnt i did i did i tasted you yeah i eat a bag to make you something \n",
    " that i could use somebody \n",
    " someone like youre my devil \n",
    " and your body ooh you can light me fire through the instant \n",
    " so they are still the first time at night until day today im not up for im drunk records \n",
    " it in need it but \n",
    " im gonna love you like im gonna lose you \n",
    " so im gonna love you now like'''"
   ]
  },
  {
   "cell_type": "code",
   "execution_count": 14,
   "metadata": {},
   "outputs": [
    {
     "data": {
      "image/png": "[encoded data removed]",
      "text/plain": [
       "<Figure size 1152x864 with 1 Axes>"
      ]
     },
     "metadata": {},
     "output_type": "display_data"
    },
    {
     "name": "stdout",
     "output_type": "stream",
     "text": [
      "\n",
      "\n",
      "The repetition ratio for this track is 0.58\n",
      "\n",
      "\n",
      " so i said im so good yeah \n",
      " oh let me bang it oh let me bang it oh let me bang it out \n",
      " oh let me bang it oh let me bang it out \n",
      " oh let me bang it oh let me bang it out \n",
      " oh let me bang it oh let me laugh inside your heart \n",
      " youre not here with me \n",
      " in the middle of the night \n",
      " dont hate me \n",
      " am i in the way \n",
      " there might be there might be something \n",
      " that something between us makes it worth the pain \n",
      " climb all the mountains in the way \n",
      " there might be there might be something \n",
      " that something between us makes it worth the pain \n",
      " climb all the mountains in the way \n",
      " that a lot other ones come get crazy \n",
      " you always love me but unforgettable \n",
      " for the day of me since \n",
      " i didnt i didnt i did i did i tasted you yeah i eat a bag to make you something \n",
      " that i could use somebody \n",
      " someone like youre my devil \n",
      " and your body ooh you can light me fire through the instant \n",
      " so they are still the first time at night until day today im not up for im drunk records \n",
      " it in need it but \n",
      " im gonna love you like im gonna lose you \n",
      " so im gonna love you now like\n"
     ]
    }
   ],
   "source": [
    "lyric_grid(track)"
   ]
  },
  {
   "cell_type": "markdown",
   "metadata": {},
   "source": [
    "For how much structure we see in the repetition grid, this is actually a fairly coherent set of lines that could actually be a track. It's clear that a large part of model deployment will involve tuning the sensitivity to find the correct balance of repetition, structure, and literalism. Overall though, this is a fairly impressive model that is roughly consistent with the untrained word embeddings from the previous notebook."
   ]
  }
 ],
 "metadata": {
  "kernelspec": {
   "display_name": "Python 3",
   "language": "python",
   "name": "python3"
  },
  "language_info": {
   "codemirror_mode": {
    "name": "ipython",
    "version": 3
   },
   "file_extension": ".py",
   "mimetype": "text/x-python",
   "name": "python",
   "nbconvert_exporter": "python",
   "pygments_lexer": "ipython3",
   "version": "3.6.8"
  }
 },
 "nbformat": 4,
 "nbformat_minor": 2
}
