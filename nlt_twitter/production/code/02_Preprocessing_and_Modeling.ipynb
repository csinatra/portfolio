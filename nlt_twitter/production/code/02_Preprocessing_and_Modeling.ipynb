{
 "cells": [
  {
   "cell_type": "markdown",
   "metadata": {},
   "source": [
    "# Preprocessing and Modeling"
   ]
  },
  {
   "cell_type": "markdown",
   "metadata": {},
   "source": [
    "## Contents\n",
    "-  [Data Import and Cleaning](#Data-Import-and-Cleaning)\n",
    "-  [Sandy Hurricane](#Sandy-Hurricane)\n",
    "-  [Oklahoma Tornado](#Oklahoma-Tornado)\n",
    "-  [Alberta Floods and Queensland Flood](#Alberta-Floods-and-Queensland-Flood)\n",
    "-  [All Disasters](#All-Disasters)\n",
    "-  [Pickle Models for Future Predictions](#Pickle-Models-for-Future-Predictions)"
   ]
  },
  {
   "cell_type": "code",
   "execution_count": 1,
   "metadata": {},
   "outputs": [],
   "source": [
    "import pickle, warnings\n",
    "\n",
    "import pandas as pd\n",
    "import seaborn as sns\n",
    "import numpy as np\n",
    "import matplotlib.pyplot as plt\n",
    "\n",
    "from sklearn.feature_extraction.text import TfidfVectorizer\n",
    "from sklearn.feature_extraction.stop_words import ENGLISH_STOP_WORDS\n",
    "from sklearn.model_selection import train_test_split, GridSearchCV\n",
    "from sklearn.ensemble import RandomForestClassifier\n",
    "from sklearn.linear_model import LogisticRegression\n",
    "from sklearn.metrics import confusion_matrix\n",
    "\n",
    "warnings.filterwarnings('ignore')\n",
    "\n",
    "sns.set_style('darkgrid')\n",
    "sns.set_palette(palette='colorblind')\n",
    "np.random.seed(44)\n",
    "%matplotlib inline\n",
    "\n",
    "np."
   ]
  },
  {
   "cell_type": "markdown",
   "metadata": {},
   "source": [
    "## Data Import and Cleaning"
   ]
  },
  {
   "cell_type": "code",
   "execution_count": 2,
   "metadata": {},
   "outputs": [],
   "source": [
    "final_df = pd.read_csv('./data/final_df', na_filter=False)"
   ]
  },
  {
   "cell_type": "code",
   "execution_count": 3,
   "metadata": {},
   "outputs": [],
   "source": [
    "final_df.drop(columns=['Unnamed: 0'], inplace=True)"
   ]
  },
  {
   "cell_type": "code",
   "execution_count": 4,
   "metadata": {},
   "outputs": [
    {
     "data": {
      "text/html": [
       "<div>\n",
       "<style scoped>\n",
       "    .dataframe tbody tr th:only-of-type {\n",
       "        vertical-align: middle;\n",
       "    }\n",
       "\n",
       "    .dataframe tbody tr th {\n",
       "        vertical-align: top;\n",
       "    }\n",
       "\n",
       "    .dataframe thead th {\n",
       "        text-align: right;\n",
       "    }\n",
       "</style>\n",
       "<table border=\"1\" class=\"dataframe\">\n",
       "  <thead>\n",
       "    <tr style=\"text-align: right;\">\n",
       "      <th></th>\n",
       "      <th>id</th>\n",
       "      <th>text</th>\n",
       "      <th>label_on-topic</th>\n",
       "      <th>disaster_type</th>\n",
       "      <th>processed</th>\n",
       "      <th>tokenized</th>\n",
       "      <th>lemmatized</th>\n",
       "    </tr>\n",
       "  </thead>\n",
       "  <tbody>\n",
       "    <tr>\n",
       "      <th>0</th>\n",
       "      <td>'262596552399396864'</td>\n",
       "      <td>I've got enough candles to supply a Mexican fa...</td>\n",
       "      <td>False</td>\n",
       "      <td>hurricane</td>\n",
       "      <td>i've got enough candles to supply a mexican fa...</td>\n",
       "      <td>['i', 've', 'got', 'enough', 'candles', 'to', ...</td>\n",
       "      <td>i ve got enough candle to supply a mexican family</td>\n",
       "    </tr>\n",
       "    <tr>\n",
       "      <th>1</th>\n",
       "      <td>'263044104500420609'</td>\n",
       "      <td>Sandy be soooo mad that she be shattering our ...</td>\n",
       "      <td>True</td>\n",
       "      <td>hurricane</td>\n",
       "      <td>sandy be soooo mad that she be shattering our ...</td>\n",
       "      <td>['sandy', 'be', 'soooo', 'mad', 'that', 'she',...</td>\n",
       "      <td>sandy be soooo mad that she be shattering our ...</td>\n",
       "    </tr>\n",
       "    <tr>\n",
       "      <th>2</th>\n",
       "      <td>'263309629973491712'</td>\n",
       "      <td>@ibexgirl thankfully Hurricane Waugh played it...</td>\n",
       "      <td>False</td>\n",
       "      <td>hurricane</td>\n",
       "      <td>ibexgirl thankfully hurricane waugh played it ...</td>\n",
       "      <td>['ibexgirl', 'thankfully', 'hurricane', 'waugh...</td>\n",
       "      <td>ibexgirl thankfully hurricane waugh played it ...</td>\n",
       "    </tr>\n",
       "    <tr>\n",
       "      <th>3</th>\n",
       "      <td>'263422851133079552'</td>\n",
       "      <td>@taos you never got that magnificent case of B...</td>\n",
       "      <td>False</td>\n",
       "      <td>hurricane</td>\n",
       "      <td>taos you never got that magnificent case of bu...</td>\n",
       "      <td>['taos', 'you', 'never', 'got', 'that', 'magni...</td>\n",
       "      <td>tao you never got that magnificent case of bur...</td>\n",
       "    </tr>\n",
       "    <tr>\n",
       "      <th>4</th>\n",
       "      <td>'262404311223504896'</td>\n",
       "      <td>I'm at Mad River Bar &amp;amp; Grille (New York, N...</td>\n",
       "      <td>False</td>\n",
       "      <td>hurricane</td>\n",
       "      <td>i'm at mad river bar &amp;amp; grille (new york, ny)</td>\n",
       "      <td>['i', 'm', 'at', 'mad', 'river', 'bar', 'amp',...</td>\n",
       "      <td>i m at mad river bar amp grille new york ny</td>\n",
       "    </tr>\n",
       "  </tbody>\n",
       "</table>\n",
       "</div>"
      ],
      "text/plain": [
       "                     id                                               text  \\\n",
       "0  '262596552399396864'  I've got enough candles to supply a Mexican fa...   \n",
       "1  '263044104500420609'  Sandy be soooo mad that she be shattering our ...   \n",
       "2  '263309629973491712'  @ibexgirl thankfully Hurricane Waugh played it...   \n",
       "3  '263422851133079552'  @taos you never got that magnificent case of B...   \n",
       "4  '262404311223504896'  I'm at Mad River Bar &amp; Grille (New York, N...   \n",
       "\n",
       "  label_on-topic disaster_type  \\\n",
       "0          False     hurricane   \n",
       "1           True     hurricane   \n",
       "2          False     hurricane   \n",
       "3          False     hurricane   \n",
       "4          False     hurricane   \n",
       "\n",
       "                                           processed  \\\n",
       "0  i've got enough candles to supply a mexican fa...   \n",
       "1  sandy be soooo mad that she be shattering our ...   \n",
       "2  ibexgirl thankfully hurricane waugh played it ...   \n",
       "3  taos you never got that magnificent case of bu...   \n",
       "4  i'm at mad river bar &amp; grille (new york, ny)    \n",
       "\n",
       "                                           tokenized  \\\n",
       "0  ['i', 've', 'got', 'enough', 'candles', 'to', ...   \n",
       "1  ['sandy', 'be', 'soooo', 'mad', 'that', 'she',...   \n",
       "2  ['ibexgirl', 'thankfully', 'hurricane', 'waugh...   \n",
       "3  ['taos', 'you', 'never', 'got', 'that', 'magni...   \n",
       "4  ['i', 'm', 'at', 'mad', 'river', 'bar', 'amp',...   \n",
       "\n",
       "                                          lemmatized  \n",
       "0  i ve got enough candle to supply a mexican family  \n",
       "1  sandy be soooo mad that she be shattering our ...  \n",
       "2  ibexgirl thankfully hurricane waugh played it ...  \n",
       "3  tao you never got that magnificent case of bur...  \n",
       "4        i m at mad river bar amp grille new york ny  "
      ]
     },
     "execution_count": 4,
     "metadata": {},
     "output_type": "execute_result"
    }
   ],
   "source": [
    "final_df.head()"
   ]
  },
  {
   "cell_type": "markdown",
   "metadata": {},
   "source": [
    "We'll check our target feature `label_on-topic` to make sure our data was imported correctly."
   ]
  },
  {
   "cell_type": "code",
   "execution_count": 5,
   "metadata": {},
   "outputs": [
    {
     "data": {
      "text/plain": [
       "True                                                         21568\n",
       "False                                                        18495\n",
       "                                                                 2\n",
       "&amp; i anit offering that shit to oomf anymore . toodone        1\n",
       "Name: label_on-topic, dtype: int64"
      ]
     },
     "execution_count": 5,
     "metadata": {},
     "output_type": "execute_result"
    }
   ],
   "source": [
    "final_df['label_on-topic'].value_counts()"
   ]
  },
  {
   "cell_type": "markdown",
   "metadata": {},
   "source": [
    "We expect to only see either 1 for `on-topic` or 0 for `off-topic`. We will drop all rows that don't equate to that."
   ]
  },
  {
   "cell_type": "code",
   "execution_count": 6,
   "metadata": {},
   "outputs": [],
   "source": [
    "final_df = final_df[(final_df['label_on-topic'] != '') & \n",
    "                    (final_df['label_on-topic'] != '&amp; i anit offering that shit to oomf anymore . toodone')]"
   ]
  },
  {
   "cell_type": "markdown",
   "metadata": {},
   "source": [
    "We will filter our dataframe and arbitrarily choose disaster types to model on. We expect to see the same trends for all disaster types."
   ]
  },
  {
   "cell_type": "code",
   "execution_count": 7,
   "metadata": {},
   "outputs": [
    {
     "data": {
      "text/html": [
       "<div>\n",
       "<style scoped>\n",
       "    .dataframe tbody tr th:only-of-type {\n",
       "        vertical-align: middle;\n",
       "    }\n",
       "\n",
       "    .dataframe tbody tr th {\n",
       "        vertical-align: top;\n",
       "    }\n",
       "\n",
       "    .dataframe thead th {\n",
       "        text-align: right;\n",
       "    }\n",
       "</style>\n",
       "<table border=\"1\" class=\"dataframe\">\n",
       "  <thead>\n",
       "    <tr style=\"text-align: right;\">\n",
       "      <th></th>\n",
       "      <th>id</th>\n",
       "      <th>text</th>\n",
       "      <th>label_on-topic</th>\n",
       "      <th>disaster_type</th>\n",
       "      <th>processed</th>\n",
       "      <th>tokenized</th>\n",
       "      <th>lemmatized</th>\n",
       "    </tr>\n",
       "  </thead>\n",
       "  <tbody>\n",
       "    <tr>\n",
       "      <th>0</th>\n",
       "      <td>'262596552399396864'</td>\n",
       "      <td>I've got enough candles to supply a Mexican fa...</td>\n",
       "      <td>False</td>\n",
       "      <td>hurricane</td>\n",
       "      <td>i've got enough candles to supply a mexican fa...</td>\n",
       "      <td>['i', 've', 'got', 'enough', 'candles', 'to', ...</td>\n",
       "      <td>i ve got enough candle to supply a mexican family</td>\n",
       "    </tr>\n",
       "    <tr>\n",
       "      <th>1</th>\n",
       "      <td>'263044104500420609'</td>\n",
       "      <td>Sandy be soooo mad that she be shattering our ...</td>\n",
       "      <td>True</td>\n",
       "      <td>hurricane</td>\n",
       "      <td>sandy be soooo mad that she be shattering our ...</td>\n",
       "      <td>['sandy', 'be', 'soooo', 'mad', 'that', 'she',...</td>\n",
       "      <td>sandy be soooo mad that she be shattering our ...</td>\n",
       "    </tr>\n",
       "    <tr>\n",
       "      <th>2</th>\n",
       "      <td>'263309629973491712'</td>\n",
       "      <td>@ibexgirl thankfully Hurricane Waugh played it...</td>\n",
       "      <td>False</td>\n",
       "      <td>hurricane</td>\n",
       "      <td>ibexgirl thankfully hurricane waugh played it ...</td>\n",
       "      <td>['ibexgirl', 'thankfully', 'hurricane', 'waugh...</td>\n",
       "      <td>ibexgirl thankfully hurricane waugh played it ...</td>\n",
       "    </tr>\n",
       "    <tr>\n",
       "      <th>3</th>\n",
       "      <td>'263422851133079552'</td>\n",
       "      <td>@taos you never got that magnificent case of B...</td>\n",
       "      <td>False</td>\n",
       "      <td>hurricane</td>\n",
       "      <td>taos you never got that magnificent case of bu...</td>\n",
       "      <td>['taos', 'you', 'never', 'got', 'that', 'magni...</td>\n",
       "      <td>tao you never got that magnificent case of bur...</td>\n",
       "    </tr>\n",
       "    <tr>\n",
       "      <th>4</th>\n",
       "      <td>'262404311223504896'</td>\n",
       "      <td>I'm at Mad River Bar &amp;amp; Grille (New York, N...</td>\n",
       "      <td>False</td>\n",
       "      <td>hurricane</td>\n",
       "      <td>i'm at mad river bar &amp;amp; grille (new york, ny)</td>\n",
       "      <td>['i', 'm', 'at', 'mad', 'river', 'bar', 'amp',...</td>\n",
       "      <td>i m at mad river bar amp grille new york ny</td>\n",
       "    </tr>\n",
       "  </tbody>\n",
       "</table>\n",
       "</div>"
      ],
      "text/plain": [
       "                     id                                               text  \\\n",
       "0  '262596552399396864'  I've got enough candles to supply a Mexican fa...   \n",
       "1  '263044104500420609'  Sandy be soooo mad that she be shattering our ...   \n",
       "2  '263309629973491712'  @ibexgirl thankfully Hurricane Waugh played it...   \n",
       "3  '263422851133079552'  @taos you never got that magnificent case of B...   \n",
       "4  '262404311223504896'  I'm at Mad River Bar &amp; Grille (New York, N...   \n",
       "\n",
       "  label_on-topic disaster_type  \\\n",
       "0          False     hurricane   \n",
       "1           True     hurricane   \n",
       "2          False     hurricane   \n",
       "3          False     hurricane   \n",
       "4          False     hurricane   \n",
       "\n",
       "                                           processed  \\\n",
       "0  i've got enough candles to supply a mexican fa...   \n",
       "1  sandy be soooo mad that she be shattering our ...   \n",
       "2  ibexgirl thankfully hurricane waugh played it ...   \n",
       "3  taos you never got that magnificent case of bu...   \n",
       "4  i'm at mad river bar &amp; grille (new york, ny)    \n",
       "\n",
       "                                           tokenized  \\\n",
       "0  ['i', 've', 'got', 'enough', 'candles', 'to', ...   \n",
       "1  ['sandy', 'be', 'soooo', 'mad', 'that', 'she',...   \n",
       "2  ['ibexgirl', 'thankfully', 'hurricane', 'waugh...   \n",
       "3  ['taos', 'you', 'never', 'got', 'that', 'magni...   \n",
       "4  ['i', 'm', 'at', 'mad', 'river', 'bar', 'amp',...   \n",
       "\n",
       "                                          lemmatized  \n",
       "0  i ve got enough candle to supply a mexican family  \n",
       "1  sandy be soooo mad that she be shattering our ...  \n",
       "2  ibexgirl thankfully hurricane waugh played it ...  \n",
       "3  tao you never got that magnificent case of bur...  \n",
       "4        i m at mad river bar amp grille new york ny  "
      ]
     },
     "execution_count": 7,
     "metadata": {},
     "output_type": "execute_result"
    }
   ],
   "source": [
    "final_df.head()"
   ]
  },
  {
   "cell_type": "markdown",
   "metadata": {},
   "source": [
    "## Sandy Hurricane"
   ]
  },
  {
   "cell_type": "markdown",
   "metadata": {},
   "source": [
    "### Model Prep"
   ]
  },
  {
   "cell_type": "code",
   "execution_count": 8,
   "metadata": {},
   "outputs": [],
   "source": [
    "X = final_df.loc[final_df['disaster_type'] == 'hurricane', ['lemmatized']]\n",
    "y = final_df.loc[final_df['disaster_type'] == 'hurricane', ['label_on-topic']]"
   ]
  },
  {
   "cell_type": "code",
   "execution_count": 9,
   "metadata": {},
   "outputs": [],
   "source": [
    "X_train, X_test, y_train, y_test = train_test_split(X, \n",
    "                                                    y, \n",
    "                                                    stratify=y,\n",
    "                                                    random_state=44)"
   ]
  },
  {
   "cell_type": "markdown",
   "metadata": {},
   "source": [
    "#### TF-IDF"
   ]
  },
  {
   "cell_type": "markdown",
   "metadata": {},
   "source": [
    "We want to use TF-IDF to determine which words are most discriminating between tweets. Words that occur frequently are penalized and rare words are given more influence in our model. \n",
    "\n",
    "We instantiate TfidfVectorizer() and set:\n",
    "-  `ngram_range = (1, 2)`: Set an upper and lower bound of 1 and 2. Word sequence will contain at least 1 and up to 2 words.\n",
    "-  `stop_words='english'`: Filter out commonly used words in English\n",
    "-  `min_df = 25`: Ignore terms that occur in less than 25 documents of the corpus\n",
    "-  `max_df = 1.0`: There is no maximum threshold since terms cannot have a document frequency greater than `100%`. \n",
    "\n",
    "We then create a dataframe that contains each word and its frequency. This is done for both `X_train` and `X_test`."
   ]
  },
  {
   "cell_type": "markdown",
   "metadata": {},
   "source": [
    "##### X_train"
   ]
  },
  {
   "cell_type": "code",
   "execution_count": 10,
   "metadata": {},
   "outputs": [],
   "source": [
    "tfidf_sh = TfidfVectorizer(ngram_range=(1, 2),\n",
    "                           stop_words='english',\n",
    "                           min_df=25, \n",
    "                           max_df=1.0)\n",
    "X_train_tfidf = tfidf_sh.fit_transform(X_train['lemmatized'])\n",
    "X_train_tfidf_df = pd.DataFrame(X_train_tfidf.toarray(), columns=tfidf_sh.get_feature_names())"
   ]
  },
  {
   "cell_type": "markdown",
   "metadata": {},
   "source": [
    "##### Replicate for X_test"
   ]
  },
  {
   "cell_type": "code",
   "execution_count": 11,
   "metadata": {},
   "outputs": [],
   "source": [
    "X_test_tfidf = tfidf_sh.transform(X_test['lemmatized'])\n",
    "X_test_tfidf_df = pd.DataFrame(X_test_tfidf.toarray(), columns=tfidf_sh.get_feature_names())"
   ]
  },
  {
   "cell_type": "code",
   "execution_count": 12,
   "metadata": {},
   "outputs": [
    {
     "data": {
      "text/plain": [
       "(2502, 421)"
      ]
     },
     "execution_count": 12,
     "metadata": {},
     "output_type": "execute_result"
    }
   ],
   "source": [
    "X_test_tfidf_df.shape"
   ]
  },
  {
   "cell_type": "markdown",
   "metadata": {},
   "source": [
    "### Modeling"
   ]
  },
  {
   "cell_type": "markdown",
   "metadata": {},
   "source": [
    "#### Baseline Model"
   ]
  },
  {
   "cell_type": "code",
   "execution_count": 13,
   "metadata": {},
   "outputs": [
    {
     "data": {
      "text/plain": [
       "True     0.613309\n",
       "False    0.386691\n",
       "Name: label_on-topic, dtype: float64"
      ]
     },
     "execution_count": 13,
     "metadata": {},
     "output_type": "execute_result"
    }
   ],
   "source": [
    "y['label_on-topic'].value_counts(normalize=True)"
   ]
  },
  {
   "cell_type": "markdown",
   "metadata": {},
   "source": [
    "Since `on-topic` is our majority class, an accuracy score of 61.33% is our baseline model. If we classify all tweets as being `on-topic`, we will be predicting correctly 61.33% of the time."
   ]
  },
  {
   "cell_type": "markdown",
   "metadata": {},
   "source": [
    "#### Random Forest"
   ]
  },
  {
   "cell_type": "markdown",
   "metadata": {},
   "source": [
    "We will use Random Forest in order to measure feature importance and determine which terms provide the most information gained. \n",
    "\n",
    "We instantiate Random Forest Classifier and perform Grid Search to find the most optimal hyperparameters:\n",
    "-  **n_estimators**: Number of trees our model builds before taking an average of the predictions. \n",
    "-  **min_samples_split**: Minimum number of samples required for a node to split\n",
    "-  **max_depth**: Maximum number of levels in each tree. We include the default value of `None` in addition to our other values."
   ]
  },
  {
   "cell_type": "code",
   "execution_count": 14,
   "metadata": {},
   "outputs": [
    {
     "name": "stdout",
     "output_type": "stream",
     "text": [
      "Score on Training Set: 0.9661604050093259\n",
      "Score on Testing Set: 0.9224620303756994\n"
     ]
    },
    {
     "data": {
      "text/plain": [
       "{'max_depth': None, 'min_samples_split': 10, 'n_estimators': 35}"
      ]
     },
     "execution_count": 14,
     "metadata": {},
     "output_type": "execute_result"
    }
   ],
   "source": [
    "rf = RandomForestClassifier()\n",
    "rf_params = {\n",
    "    'n_estimators': [30, 35, 45],\n",
    "    'min_samples_split': [2, 3, 5, 7, 10],\n",
    "    'max_depth': [None, 5, 7, 10]\n",
    "    \n",
    "}\n",
    "gs_rf_sh = GridSearchCV(rf, param_grid=rf_params, cv=5)\n",
    "gs_rf_sh.fit(X_train_tfidf_df, y_train['label_on-topic'])\n",
    "print('Score on Training Set:', gs_rf_sh.score(X_train_tfidf_df, y_train['label_on-topic']))\n",
    "print('Score on Testing Set:', gs_rf_sh.score(X_test_tfidf_df, y_test['label_on-topic']))\n",
    "gs_rf_sh.best_params_"
   ]
  },
  {
   "cell_type": "markdown",
   "metadata": {},
   "source": [
    "### Confusion Matrix\n",
    "\n",
    "To show the type of error our model is prone to, we will create a confusion matrix showing the count of true positives, true negatives, false positives (type I error) and false negatives (type II error)."
   ]
  },
  {
   "cell_type": "code",
   "execution_count": 15,
   "metadata": {
    "collapsed": true
   },
   "outputs": [],
   "source": [
    "cm = confusion_matrix(y_test, gs_rf_sh.predict(X_test_tfidf_df))"
   ]
  },
  {
   "cell_type": "code",
   "execution_count": 16,
   "metadata": {
    "collapsed": true
   },
   "outputs": [
    {
     "data": {
      "text/html": [
       "<div>\n",
       "<style scoped>\n",
       "    .dataframe tbody tr th:only-of-type {\n",
       "        vertical-align: middle;\n",
       "    }\n",
       "\n",
       "    .dataframe tbody tr th {\n",
       "        vertical-align: top;\n",
       "    }\n",
       "\n",
       "    .dataframe thead th {\n",
       "        text-align: right;\n",
       "    }\n",
       "</style>\n",
       "<table border=\"1\" class=\"dataframe\">\n",
       "  <thead>\n",
       "    <tr style=\"text-align: right;\">\n",
       "      <th></th>\n",
       "      <th>predict_0</th>\n",
       "      <th>predict_1</th>\n",
       "    </tr>\n",
       "  </thead>\n",
       "  <tbody>\n",
       "    <tr>\n",
       "      <th>actual_0</th>\n",
       "      <td>860</td>\n",
       "      <td>108</td>\n",
       "    </tr>\n",
       "    <tr>\n",
       "      <th>actual_1</th>\n",
       "      <td>86</td>\n",
       "      <td>1448</td>\n",
       "    </tr>\n",
       "  </tbody>\n",
       "</table>\n",
       "</div>"
      ],
      "text/plain": [
       "          predict_0  predict_1\n",
       "actual_0        860        108\n",
       "actual_1         86       1448"
      ]
     },
     "execution_count": 16,
     "metadata": {},
     "output_type": "execute_result"
    }
   ],
   "source": [
    "cm_df = pd.DataFrame(cm, columns = ('predict_0','predict_1') , index = ('actual_0', 'actual_1'))\n",
    "cm_df"
   ]
  },
  {
   "cell_type": "markdown",
   "metadata": {},
   "source": [
    "-  For `y_train`, we will correctly predict the class in which a tweet belongs in `96.94%` of the time.\n",
    "-  For `y_test`, we will correctly predict the class in which a tweet belongs in `92.49%` of the time."
   ]
  },
  {
   "cell_type": "markdown",
   "metadata": {},
   "source": [
    "##### Takeaways"
   ]
  },
  {
   "cell_type": "markdown",
   "metadata": {},
   "source": [
    "-  The model is suffering from high variance, with our training score being rougly `4.45%` higher than our test score. \n",
    "-  The accuracy scores are greater than our baseline model of `61.33%`."
   ]
  },
  {
   "cell_type": "markdown",
   "metadata": {},
   "source": [
    "##### Important Features"
   ]
  },
  {
   "cell_type": "code",
   "execution_count": 17,
   "metadata": {},
   "outputs": [],
   "source": [
    "feat_importance = pd.DataFrame(gs_rf_sh.best_estimator_.feature_importances_, X_train_tfidf_df.columns, columns=['importance'])"
   ]
  },
  {
   "cell_type": "code",
   "execution_count": 18,
   "metadata": {},
   "outputs": [],
   "source": [
    "top_feat = feat_importance.sort_values('importance', ascending=False).head(20)"
   ]
  },
  {
   "cell_type": "code",
   "execution_count": 19,
   "metadata": {},
   "outputs": [
    {
     "data": {
      "image/png": "[encoded data removed]",
      "text/plain": [
       "<Figure size 1440x720 with 1 Axes>"
      ]
     },
     "metadata": {
      "needs_background": "light"
     },
     "output_type": "display_data"
    }
   ],
   "source": [
    "plt.figure(figsize=(20,10))\n",
    "plt.barh(top_feat.index, top_feat['importance'])\n",
    "plt.title('Top 20 Features', fontsize=30)\n",
    "plt.xlabel('Amount of Information Gained', fontsize=25)\n",
    "plt.ylabel('Feature', fontsize=25)\n",
    "plt.xticks(fontsize=20)\n",
    "plt.yticks(fontsize=20);"
   ]
  },
  {
   "cell_type": "markdown",
   "metadata": {},
   "source": [
    "-  Terms with the most information gained are either referring to the disaster type (`hurricane`) or the name itself.\n",
    "-  Words like `safe`, `love`, and`hope` are most likely from well-wishers not affected by the disaster."
   ]
  },
  {
   "cell_type": "markdown",
   "metadata": {},
   "source": [
    "#### Logistic Regression"
   ]
  },
  {
   "cell_type": "markdown",
   "metadata": {},
   "source": [
    "We will use logistic regression to measure feature importance and determine the words contained in tweets that give them high odds of being classified as `on-topic`. Grid-search was applied on logistic regression to calculate the best hyperparameters for our model.\n",
    "- **'C'**: Inverse of regularization strength where smaller values specify stronger regularization\n",
    "- **'penalty'**: Specifies the regularization norm"
   ]
  },
  {
   "cell_type": "code",
   "execution_count": 20,
   "metadata": {},
   "outputs": [
    {
     "name": "stdout",
     "output_type": "stream",
     "text": [
      "Score on Training Set: 0.968593778160722\n",
      "Score on Testing Set: 0.9606262862715096\n"
     ]
    },
    {
     "data": {
      "text/plain": [
       "{'C': 1, 'penalty': 'l2'}"
      ]
     },
     "execution_count": 20,
     "metadata": {},
     "output_type": "execute_result"
    }
   ],
   "source": [
    "lr = LogisticRegression()\n",
    "lr_params = {'C': [0.001, 0.01, 0.1, 1, 10, 100, 1000],\n",
    "             'penalty' : ['l1','l2']   \n",
    "}\n",
    "gs_lr_sh = GridSearchCV(lr, param_grid = lr_params, scoring = 'roc_auc', cv = 3)\n",
    "gs_lr_sh.fit(X_train_tfidf_df, y_train['label_on-topic'])\n",
    "print('Score on Training Set:', gs_lr_sh.score(X_train_tfidf_df, y_train['label_on-topic']))\n",
    "print('Score on Testing Set:', gs_lr_sh.score(X_test_tfidf_df, y_test['label_on-topic']))\n",
    "gs_lr_sh.best_params_"
   ]
  },
  {
   "cell_type": "markdown",
   "metadata": {},
   "source": [
    "### Confusion Matrix"
   ]
  },
  {
   "cell_type": "code",
   "execution_count": 21,
   "metadata": {
    "collapsed": true
   },
   "outputs": [],
   "source": [
    "cm = confusion_matrix(y_test, gs_lr_sh.predict(X_test_tfidf_df))"
   ]
  },
  {
   "cell_type": "code",
   "execution_count": 22,
   "metadata": {
    "collapsed": true
   },
   "outputs": [
    {
     "data": {
      "text/html": [
       "<div>\n",
       "<style scoped>\n",
       "    .dataframe tbody tr th:only-of-type {\n",
       "        vertical-align: middle;\n",
       "    }\n",
       "\n",
       "    .dataframe tbody tr th {\n",
       "        vertical-align: top;\n",
       "    }\n",
       "\n",
       "    .dataframe thead th {\n",
       "        text-align: right;\n",
       "    }\n",
       "</style>\n",
       "<table border=\"1\" class=\"dataframe\">\n",
       "  <thead>\n",
       "    <tr style=\"text-align: right;\">\n",
       "      <th></th>\n",
       "      <th>predict_0</th>\n",
       "      <th>predict_1</th>\n",
       "    </tr>\n",
       "  </thead>\n",
       "  <tbody>\n",
       "    <tr>\n",
       "      <th>actual_0</th>\n",
       "      <td>882</td>\n",
       "      <td>86</td>\n",
       "    </tr>\n",
       "    <tr>\n",
       "      <th>actual_1</th>\n",
       "      <td>109</td>\n",
       "      <td>1425</td>\n",
       "    </tr>\n",
       "  </tbody>\n",
       "</table>\n",
       "</div>"
      ],
      "text/plain": [
       "          predict_0  predict_1\n",
       "actual_0        882         86\n",
       "actual_1        109       1425"
      ]
     },
     "execution_count": 22,
     "metadata": {},
     "output_type": "execute_result"
    }
   ],
   "source": [
    "cm_df = pd.DataFrame(cm, columns = ('predict_0','predict_1') , index = ('actual_0', 'actual_1'))\n",
    "cm_df"
   ]
  },
  {
   "cell_type": "markdown",
   "metadata": {},
   "source": [
    "-  For `y_train`, we will correctly predict the class in which a tweet belongs in `96.86%` of the time.\n",
    "-  For `y_test`, we will correctly predict the class in which a tweet belongs in `96.06%` of the time."
   ]
  },
  {
   "cell_type": "markdown",
   "metadata": {},
   "source": [
    "##### Takeaways\n",
    "- The model is still slightly overfitting to the train data because the variance explained from train data is 0.8% higher than the variance explained in the test data."
   ]
  },
  {
   "cell_type": "code",
   "execution_count": 23,
   "metadata": {},
   "outputs": [
    {
     "data": {
      "text/html": [
       "<div>\n",
       "<style scoped>\n",
       "    .dataframe tbody tr th:only-of-type {\n",
       "        vertical-align: middle;\n",
       "    }\n",
       "\n",
       "    .dataframe tbody tr th {\n",
       "        vertical-align: top;\n",
       "    }\n",
       "\n",
       "    .dataframe thead th {\n",
       "        text-align: right;\n",
       "    }\n",
       "</style>\n",
       "<table border=\"1\" class=\"dataframe\">\n",
       "  <thead>\n",
       "    <tr style=\"text-align: right;\">\n",
       "      <th></th>\n",
       "      <th>weights</th>\n",
       "      <th>odds</th>\n",
       "    </tr>\n",
       "  </thead>\n",
       "  <tbody>\n",
       "    <tr>\n",
       "      <th>hurricane</th>\n",
       "      <td>15.545379</td>\n",
       "      <td>5.639912e+06</td>\n",
       "    </tr>\n",
       "    <tr>\n",
       "      <th>sandy</th>\n",
       "      <td>8.370842</td>\n",
       "      <td>4.319269e+03</td>\n",
       "    </tr>\n",
       "    <tr>\n",
       "      <th>storm</th>\n",
       "      <td>4.600614</td>\n",
       "      <td>9.954538e+01</td>\n",
       "    </tr>\n",
       "    <tr>\n",
       "      <th>frankenstorm</th>\n",
       "      <td>4.521823</td>\n",
       "      <td>9.200315e+01</td>\n",
       "    </tr>\n",
       "    <tr>\n",
       "      <th>hurricanesandy</th>\n",
       "      <td>4.204209</td>\n",
       "      <td>6.696764e+01</td>\n",
       "    </tr>\n",
       "    <tr>\n",
       "      <th>power</th>\n",
       "      <td>3.645939</td>\n",
       "      <td>3.831872e+01</td>\n",
       "    </tr>\n",
       "    <tr>\n",
       "      <th>hurricane sandy</th>\n",
       "      <td>2.705418</td>\n",
       "      <td>1.496057e+01</td>\n",
       "    </tr>\n",
       "    <tr>\n",
       "      <th>water</th>\n",
       "      <td>2.627362</td>\n",
       "      <td>1.383722e+01</td>\n",
       "    </tr>\n",
       "    <tr>\n",
       "      <th>flood</th>\n",
       "      <td>2.391798</td>\n",
       "      <td>1.093314e+01</td>\n",
       "    </tr>\n",
       "    <tr>\n",
       "      <th>wind</th>\n",
       "      <td>2.366369</td>\n",
       "      <td>1.065863e+01</td>\n",
       "    </tr>\n",
       "    <tr>\n",
       "      <th>damage</th>\n",
       "      <td>2.104146</td>\n",
       "      <td>8.200098e+00</td>\n",
       "    </tr>\n",
       "    <tr>\n",
       "      <th>relief</th>\n",
       "      <td>2.101233</td>\n",
       "      <td>8.176243e+00</td>\n",
       "    </tr>\n",
       "    <tr>\n",
       "      <th>coast</th>\n",
       "      <td>2.078543</td>\n",
       "      <td>7.992811e+00</td>\n",
       "    </tr>\n",
       "    <tr>\n",
       "      <th>nyc</th>\n",
       "      <td>2.014689</td>\n",
       "      <td>7.498395e+00</td>\n",
       "    </tr>\n",
       "    <tr>\n",
       "      <th>warning</th>\n",
       "      <td>1.968066</td>\n",
       "      <td>7.156822e+00</td>\n",
       "    </tr>\n",
       "    <tr>\n",
       "      <th>hurricannesandy</th>\n",
       "      <td>1.958552</td>\n",
       "      <td>7.089057e+00</td>\n",
       "    </tr>\n",
       "    <tr>\n",
       "      <th>disaster</th>\n",
       "      <td>1.913159</td>\n",
       "      <td>6.774453e+00</td>\n",
       "    </tr>\n",
       "    <tr>\n",
       "      <th>manhattan</th>\n",
       "      <td>1.879632</td>\n",
       "      <td>6.551093e+00</td>\n",
       "    </tr>\n",
       "    <tr>\n",
       "      <th>island</th>\n",
       "      <td>1.836319</td>\n",
       "      <td>6.273401e+00</td>\n",
       "    </tr>\n",
       "    <tr>\n",
       "      <th>weather</th>\n",
       "      <td>1.831486</td>\n",
       "      <td>6.243158e+00</td>\n",
       "    </tr>\n",
       "  </tbody>\n",
       "</table>\n",
       "</div>"
      ],
      "text/plain": [
       "                   weights          odds\n",
       "hurricane        15.545379  5.639912e+06\n",
       "sandy             8.370842  4.319269e+03\n",
       "storm             4.600614  9.954538e+01\n",
       "frankenstorm      4.521823  9.200315e+01\n",
       "hurricanesandy    4.204209  6.696764e+01\n",
       "power             3.645939  3.831872e+01\n",
       "hurricane sandy   2.705418  1.496057e+01\n",
       "water             2.627362  1.383722e+01\n",
       "flood             2.391798  1.093314e+01\n",
       "wind              2.366369  1.065863e+01\n",
       "damage            2.104146  8.200098e+00\n",
       "relief            2.101233  8.176243e+00\n",
       "coast             2.078543  7.992811e+00\n",
       "nyc               2.014689  7.498395e+00\n",
       "warning           1.968066  7.156822e+00\n",
       "hurricannesandy   1.958552  7.089057e+00\n",
       "disaster          1.913159  6.774453e+00\n",
       "manhattan         1.879632  6.551093e+00\n",
       "island            1.836319  6.273401e+00\n",
       "weather           1.831486  6.243158e+00"
      ]
     },
     "execution_count": 23,
     "metadata": {},
     "output_type": "execute_result"
    }
   ],
   "source": [
    "lr_sh_odds = pd.DataFrame(gs_lr_sh.best_estimator_.coef_, columns = X_train_tfidf_df.columns).T\n",
    "lr_sh_odds.columns = ['weights']\n",
    "lr_sh_odds['odds'] = np.exp(lr_sh_odds['weights'])\n",
    "lr_sh_odds.sort_values(by='odds', ascending=False).head(20)"
   ]
  },
  {
   "cell_type": "code",
   "execution_count": 24,
   "metadata": {},
   "outputs": [
    {
     "data": {
      "image/png": "[encoded data removed]",
      "text/plain": [
       "<Figure size 1440x720 with 1 Axes>"
      ]
     },
     "metadata": {
      "needs_background": "light"
     },
     "output_type": "display_data"
    }
   ],
   "source": [
    "plt.figure(figsize=(20,10))\n",
    "plt.barh(lr_sh_odds.sort_values(by='odds', ascending=False).head(20).index, \n",
    "         lr_sh_odds.sort_values(by='odds', ascending=False).head(20)['odds'],\n",
    "         log=True)\n",
    "plt.title(f'Top 20 words with Positive Impact on Odds\\n Accuracy: 96%', fontsize=30)\n",
    "plt.xlabel('Odds', fontsize=25)\n",
    "plt.ylabel('Feature', fontsize=25)\n",
    "plt.xticks(fontsize=20)\n",
    "plt.yticks(fontsize=20);"
   ]
  },
  {
   "cell_type": "markdown",
   "metadata": {},
   "source": [
    "## Oklahoma Tornado"
   ]
  },
  {
   "cell_type": "markdown",
   "metadata": {},
   "source": [
    "### Model Prep"
   ]
  },
  {
   "cell_type": "code",
   "execution_count": 25,
   "metadata": {},
   "outputs": [],
   "source": [
    "X = final_df.loc[final_df['disaster_type'] == 'tornado', ['lemmatized']]\n",
    "y = final_df.loc[final_df['disaster_type'] == 'tornado', ['label_on-topic']]"
   ]
  },
  {
   "cell_type": "code",
   "execution_count": 26,
   "metadata": {},
   "outputs": [],
   "source": [
    "X_train, X_test, y_train, y_test = train_test_split(X, \n",
    "                                                    y, \n",
    "                                                    stratify=y,\n",
    "                                                    random_state=44)"
   ]
  },
  {
   "cell_type": "markdown",
   "metadata": {},
   "source": [
    "#### TF-IDF"
   ]
  },
  {
   "cell_type": "markdown",
   "metadata": {},
   "source": [
    "We instantiate TfidfVectorizer() and set the same parameters as before."
   ]
  },
  {
   "cell_type": "markdown",
   "metadata": {},
   "source": [
    "##### X_train"
   ]
  },
  {
   "cell_type": "code",
   "execution_count": 27,
   "metadata": {},
   "outputs": [],
   "source": [
    "tfidf_ot = TfidfVectorizer(ngram_range=(1, 2),\n",
    "                           stop_words='english',\n",
    "                           min_df=25, \n",
    "                           max_df=1.0)\n",
    "X_train_tfidf = tfidf_ot.fit_transform(X_train['lemmatized'])\n",
    "X_train_tfidf_df = pd.DataFrame(X_train_tfidf.toarray(), columns=tfidf_ot.get_feature_names())"
   ]
  },
  {
   "cell_type": "markdown",
   "metadata": {},
   "source": [
    "##### Replicate for X_test"
   ]
  },
  {
   "cell_type": "code",
   "execution_count": 28,
   "metadata": {},
   "outputs": [],
   "source": [
    "X_test_tfidf = tfidf_ot.transform(X_test['lemmatized'])\n",
    "X_test_tfidf_df = pd.DataFrame(X_test_tfidf.toarray(), columns=tfidf_ot.get_feature_names())"
   ]
  },
  {
   "cell_type": "code",
   "execution_count": 29,
   "metadata": {},
   "outputs": [
    {
     "data": {
      "text/plain": [
       "(2498, 460)"
      ]
     },
     "execution_count": 29,
     "metadata": {},
     "output_type": "execute_result"
    }
   ],
   "source": [
    "X_test_tfidf_df.shape"
   ]
  },
  {
   "cell_type": "markdown",
   "metadata": {},
   "source": [
    "### Modeling"
   ]
  },
  {
   "cell_type": "markdown",
   "metadata": {},
   "source": [
    "#### Baseline Model"
   ]
  },
  {
   "cell_type": "code",
   "execution_count": 30,
   "metadata": {},
   "outputs": [
    {
     "data": {
      "text/plain": [
       "False    0.516865\n",
       "True     0.483135\n",
       "Name: label_on-topic, dtype: float64"
      ]
     },
     "execution_count": 30,
     "metadata": {},
     "output_type": "execute_result"
    }
   ],
   "source": [
    "y['label_on-topic'].value_counts(normalize=True)"
   ]
  },
  {
   "cell_type": "markdown",
   "metadata": {},
   "source": [
    "`on-topic` is our majority class again, with a similar imbalance as Alberta Floods and Queensland Flood. If we classify all tweets as being `on-topic`, we will be predicting correctly 53.84% of the time."
   ]
  },
  {
   "cell_type": "markdown",
   "metadata": {},
   "source": [
    "#### Random Forest"
   ]
  },
  {
   "cell_type": "code",
   "execution_count": 31,
   "metadata": {},
   "outputs": [
    {
     "name": "stdout",
     "output_type": "stream",
     "text": [
      "Score on Training Set: 0.977445615908181\n",
      "Score on Testing Set: 0.9359487590072058\n"
     ]
    },
    {
     "data": {
      "text/plain": [
       "{'max_depth': None, 'min_samples_split': 10, 'n_estimators': 45}"
      ]
     },
     "execution_count": 31,
     "metadata": {},
     "output_type": "execute_result"
    }
   ],
   "source": [
    "rf = RandomForestClassifier()\n",
    "rf_params = {\n",
    "    'n_estimators': [30, 35, 45],\n",
    "    'min_samples_split': [2, 3, 5, 7, 10],\n",
    "    'max_depth': [None, 5, 7, 10]\n",
    "    \n",
    "}\n",
    "gs_rf_ot = GridSearchCV(rf, param_grid=rf_params, cv=5)\n",
    "gs_rf_ot.fit(X_train_tfidf_df, y_train['label_on-topic'])\n",
    "print('Score on Training Set:', gs_rf_ot.score(X_train_tfidf_df, y_train['label_on-topic']))\n",
    "print('Score on Testing Set:', gs_rf_ot.score(X_test_tfidf_df, y_test['label_on-topic']))\n",
    "gs_rf_ot.best_params_"
   ]
  },
  {
   "cell_type": "markdown",
   "metadata": {},
   "source": [
    "-  For `y_train`, we will correctly predict the class in which a tweet belongs in `97.74%` of the time.\n",
    "-  For `y_test`, we will correctly predict the class in which a tweet belongs in `93.59%` of the time."
   ]
  },
  {
   "cell_type": "markdown",
   "metadata": {},
   "source": [
    "### Confusion Matrix"
   ]
  },
  {
   "cell_type": "code",
   "execution_count": 32,
   "metadata": {
    "collapsed": true
   },
   "outputs": [],
   "source": [
    "cm = confusion_matrix(y_test, gs_rf_ot.predict(X_test_tfidf_df))"
   ]
  },
  {
   "cell_type": "code",
   "execution_count": 33,
   "metadata": {
    "collapsed": true
   },
   "outputs": [
    {
     "data": {
      "text/html": [
       "<div>\n",
       "<style scoped>\n",
       "    .dataframe tbody tr th:only-of-type {\n",
       "        vertical-align: middle;\n",
       "    }\n",
       "\n",
       "    .dataframe tbody tr th {\n",
       "        vertical-align: top;\n",
       "    }\n",
       "\n",
       "    .dataframe thead th {\n",
       "        text-align: right;\n",
       "    }\n",
       "</style>\n",
       "<table border=\"1\" class=\"dataframe\">\n",
       "  <thead>\n",
       "    <tr style=\"text-align: right;\">\n",
       "      <th></th>\n",
       "      <th>predict_0</th>\n",
       "      <th>predict_1</th>\n",
       "    </tr>\n",
       "  </thead>\n",
       "  <tbody>\n",
       "    <tr>\n",
       "      <th>actual_0</th>\n",
       "      <td>1184</td>\n",
       "      <td>107</td>\n",
       "    </tr>\n",
       "    <tr>\n",
       "      <th>actual_1</th>\n",
       "      <td>53</td>\n",
       "      <td>1154</td>\n",
       "    </tr>\n",
       "  </tbody>\n",
       "</table>\n",
       "</div>"
      ],
      "text/plain": [
       "          predict_0  predict_1\n",
       "actual_0       1184        107\n",
       "actual_1         53       1154"
      ]
     },
     "execution_count": 33,
     "metadata": {},
     "output_type": "execute_result"
    }
   ],
   "source": [
    "cm_df = pd.DataFrame(cm, columns = ('predict_0','predict_1') , index = ('actual_0', 'actual_1'))\n",
    "cm_df"
   ]
  },
  {
   "cell_type": "markdown",
   "metadata": {},
   "source": [
    "##### Takeaways"
   ]
  },
  {
   "cell_type": "markdown",
   "metadata": {},
   "source": [
    "-  The model is suffering from high variance, with our training score being rougly `4.15%` higher than our test score. \n",
    "-  The accuracy scores are greater than our baseline model of `61.33%`."
   ]
  },
  {
   "cell_type": "markdown",
   "metadata": {},
   "source": [
    "##### Important Features"
   ]
  },
  {
   "cell_type": "markdown",
   "metadata": {},
   "source": [
    "We generated using gridsearch the most importance features that provide the most amount of information gained and plotted the top 20 words."
   ]
  },
  {
   "cell_type": "code",
   "execution_count": 34,
   "metadata": {},
   "outputs": [],
   "source": [
    "feat_importance = pd.DataFrame(gs_rf_ot.best_estimator_.feature_importances_, X_train_tfidf_df.columns, columns=['importance'])"
   ]
  },
  {
   "cell_type": "code",
   "execution_count": 35,
   "metadata": {},
   "outputs": [],
   "source": [
    "top_feat = feat_importance.sort_values('importance', ascending=False).head(20)"
   ]
  },
  {
   "cell_type": "code",
   "execution_count": 36,
   "metadata": {},
   "outputs": [
    {
     "data": {
      "image/png": "[encoded data removed]",
      "text/plain": [
       "<Figure size 1440x720 with 1 Axes>"
      ]
     },
     "metadata": {
      "needs_background": "light"
     },
     "output_type": "display_data"
    }
   ],
   "source": [
    "plt.figure(figsize=(20,10))\n",
    "plt.barh(top_feat.index, top_feat['importance'])\n",
    "plt.title('Top 20 Features', fontsize=30)\n",
    "plt.xlabel('Amount of Information Gained', fontsize=25)\n",
    "plt.ylabel('Feature', fontsize=25)\n",
    "plt.xticks(fontsize=20)\n",
    "plt.yticks(fontsize=20);"
   ]
  },
  {
   "cell_type": "markdown",
   "metadata": {},
   "source": [
    "-  Terms with the most information gained are either referring to the disaster type (`tornado`) or the name itself.\n",
    "-  Words like `tornado victim`, `prayer oklahoma`, and `ok` are most likely from well-wishers not affected by the disaster."
   ]
  },
  {
   "cell_type": "markdown",
   "metadata": {},
   "source": [
    "#### Logistic Regression"
   ]
  },
  {
   "cell_type": "markdown",
   "metadata": {},
   "source": [
    "We will use logistic regression to measure feature importance and determine the words contained in tweets that give them high odds of being classified as `on-topic`. Grid-search was applied on logistic regression to calculate the best hyperparameters for our model.\n",
    "- <b>'C': Inverse of regularization strength where smaller values specify stronger regularization\n",
    "- <b>'penalty': Specifies the regularization norm"
   ]
  },
  {
   "cell_type": "code",
   "execution_count": 37,
   "metadata": {},
   "outputs": [
    {
     "name": "stdout",
     "output_type": "stream",
     "text": [
      "Score on Training Set: 0.9827201849323763\n",
      "Score on Testing Set: 0.9728337216995875\n"
     ]
    },
    {
     "data": {
      "text/plain": [
       "{'C': 10, 'penalty': 'l2'}"
      ]
     },
     "execution_count": 37,
     "metadata": {},
     "output_type": "execute_result"
    }
   ],
   "source": [
    "lr = LogisticRegression()\n",
    "lr_params = {'C': [0.001, 0.01, 0.1, 1, 10, 100, 1000],\n",
    "             'penalty' : ['l1','l2']   \n",
    "}\n",
    "gs_lr_ot = GridSearchCV(lr, param_grid = lr_params, scoring = 'roc_auc', cv = 3)\n",
    "gs_lr_ot.fit(X_train_tfidf_df, y_train['label_on-topic'])\n",
    "print('Score on Training Set:', gs_lr_ot.score(X_train_tfidf_df, y_train['label_on-topic']))\n",
    "print('Score on Testing Set:', gs_lr_ot.score(X_test_tfidf_df, y_test['label_on-topic']))\n",
    "gs_lr_ot.best_params_"
   ]
  },
  {
   "cell_type": "markdown",
   "metadata": {},
   "source": [
    "-  For `y_train`, we will correctly predict the class in which a tweet belongs in `98.27%` of the time.\n",
    "-  For `y_test`, we will correctly predict the class in which a tweet belongs in `97.28%` of the time."
   ]
  },
  {
   "cell_type": "markdown",
   "metadata": {},
   "source": [
    "### Confusion Matrix"
   ]
  },
  {
   "cell_type": "code",
   "execution_count": 38,
   "metadata": {
    "collapsed": true
   },
   "outputs": [],
   "source": [
    "cm = confusion_matrix(y_test, gs_lr_ot.predict(X_test_tfidf_df))"
   ]
  },
  {
   "cell_type": "code",
   "execution_count": 39,
   "metadata": {
    "collapsed": true
   },
   "outputs": [
    {
     "data": {
      "text/html": [
       "<div>\n",
       "<style scoped>\n",
       "    .dataframe tbody tr th:only-of-type {\n",
       "        vertical-align: middle;\n",
       "    }\n",
       "\n",
       "    .dataframe tbody tr th {\n",
       "        vertical-align: top;\n",
       "    }\n",
       "\n",
       "    .dataframe thead th {\n",
       "        text-align: right;\n",
       "    }\n",
       "</style>\n",
       "<table border=\"1\" class=\"dataframe\">\n",
       "  <thead>\n",
       "    <tr style=\"text-align: right;\">\n",
       "      <th></th>\n",
       "      <th>predict_0</th>\n",
       "      <th>predict_1</th>\n",
       "    </tr>\n",
       "  </thead>\n",
       "  <tbody>\n",
       "    <tr>\n",
       "      <th>actual_0</th>\n",
       "      <td>1211</td>\n",
       "      <td>80</td>\n",
       "    </tr>\n",
       "    <tr>\n",
       "      <th>actual_1</th>\n",
       "      <td>102</td>\n",
       "      <td>1105</td>\n",
       "    </tr>\n",
       "  </tbody>\n",
       "</table>\n",
       "</div>"
      ],
      "text/plain": [
       "          predict_0  predict_1\n",
       "actual_0       1211         80\n",
       "actual_1        102       1105"
      ]
     },
     "execution_count": 39,
     "metadata": {},
     "output_type": "execute_result"
    }
   ],
   "source": [
    "cm_df = pd.DataFrame(cm, columns = ('predict_0','predict_1') , index = ('actual_0', 'actual_1'))\n",
    "cm_df"
   ]
  },
  {
   "cell_type": "markdown",
   "metadata": {},
   "source": [
    "##### Takeaways\n",
    "- The model is still slightly overfitting to the train data because the variance explained from train data is 1% higher than the variance explained in the test data."
   ]
  },
  {
   "cell_type": "markdown",
   "metadata": {},
   "source": [
    "##### Odds"
   ]
  },
  {
   "cell_type": "markdown",
   "metadata": {},
   "source": [
    "We made a table of the top 20 words with positive impact on odds meaning tweets with these words have the highest odds of being classified as `on-topic`. The tweets containing the word `tornado` are 149081 times as likely to be classified as `on-topic`."
   ]
  },
  {
   "cell_type": "code",
   "execution_count": 40,
   "metadata": {},
   "outputs": [
    {
     "data": {
      "text/html": [
       "<div>\n",
       "<style scoped>\n",
       "    .dataframe tbody tr th:only-of-type {\n",
       "        vertical-align: middle;\n",
       "    }\n",
       "\n",
       "    .dataframe tbody tr th {\n",
       "        vertical-align: top;\n",
       "    }\n",
       "\n",
       "    .dataframe thead th {\n",
       "        text-align: right;\n",
       "    }\n",
       "</style>\n",
       "<table border=\"1\" class=\"dataframe\">\n",
       "  <thead>\n",
       "    <tr style=\"text-align: right;\">\n",
       "      <th></th>\n",
       "      <th>weights</th>\n",
       "      <th>odds</th>\n",
       "    </tr>\n",
       "  </thead>\n",
       "  <tbody>\n",
       "    <tr>\n",
       "      <th>tornado</th>\n",
       "      <td>11.912231</td>\n",
       "      <td>149078.846090</td>\n",
       "    </tr>\n",
       "    <tr>\n",
       "      <th>prayforoklahoma</th>\n",
       "      <td>9.119605</td>\n",
       "      <td>9132.597469</td>\n",
       "    </tr>\n",
       "    <tr>\n",
       "      <th>prayer</th>\n",
       "      <td>8.688379</td>\n",
       "      <td>5933.553336</td>\n",
       "    </tr>\n",
       "    <tr>\n",
       "      <th>oklahoma</th>\n",
       "      <td>8.001139</td>\n",
       "      <td>2984.355241</td>\n",
       "    </tr>\n",
       "    <tr>\n",
       "      <th>devastation</th>\n",
       "      <td>7.723858</td>\n",
       "      <td>2261.668287</td>\n",
       "    </tr>\n",
       "    <tr>\n",
       "      <th>donation</th>\n",
       "      <td>6.444024</td>\n",
       "      <td>628.932453</td>\n",
       "    </tr>\n",
       "    <tr>\n",
       "      <th>victim</th>\n",
       "      <td>6.374967</td>\n",
       "      <td>586.965793</td>\n",
       "    </tr>\n",
       "    <tr>\n",
       "      <th>redcross</th>\n",
       "      <td>6.161849</td>\n",
       "      <td>474.304343</td>\n",
       "    </tr>\n",
       "    <tr>\n",
       "      <th>donating</th>\n",
       "      <td>5.721448</td>\n",
       "      <td>305.346807</td>\n",
       "    </tr>\n",
       "    <tr>\n",
       "      <th>disaster</th>\n",
       "      <td>5.568342</td>\n",
       "      <td>261.999434</td>\n",
       "    </tr>\n",
       "    <tr>\n",
       "      <th>damage</th>\n",
       "      <td>5.521900</td>\n",
       "      <td>250.109918</td>\n",
       "    </tr>\n",
       "    <tr>\n",
       "      <th>twister</th>\n",
       "      <td>5.507859</td>\n",
       "      <td>246.622484</td>\n",
       "    </tr>\n",
       "    <tr>\n",
       "      <th>tragedy</th>\n",
       "      <td>5.458718</td>\n",
       "      <td>234.796299</td>\n",
       "    </tr>\n",
       "    <tr>\n",
       "      <th>sending</th>\n",
       "      <td>5.400167</td>\n",
       "      <td>221.443293</td>\n",
       "    </tr>\n",
       "    <tr>\n",
       "      <th>lost</th>\n",
       "      <td>5.396330</td>\n",
       "      <td>220.595280</td>\n",
       "    </tr>\n",
       "    <tr>\n",
       "      <th>rubble</th>\n",
       "      <td>5.356028</td>\n",
       "      <td>211.881606</td>\n",
       "    </tr>\n",
       "    <tr>\n",
       "      <th>praying</th>\n",
       "      <td>5.193846</td>\n",
       "      <td>180.160138</td>\n",
       "    </tr>\n",
       "    <tr>\n",
       "      <th>affected</th>\n",
       "      <td>5.151966</td>\n",
       "      <td>172.770827</td>\n",
       "    </tr>\n",
       "    <tr>\n",
       "      <th>405</th>\n",
       "      <td>5.114025</td>\n",
       "      <td>166.338566</td>\n",
       "    </tr>\n",
       "    <tr>\n",
       "      <th>people oklahoma</th>\n",
       "      <td>5.047638</td>\n",
       "      <td>155.654447</td>\n",
       "    </tr>\n",
       "  </tbody>\n",
       "</table>\n",
       "</div>"
      ],
      "text/plain": [
       "                   weights           odds\n",
       "tornado          11.912231  149078.846090\n",
       "prayforoklahoma   9.119605    9132.597469\n",
       "prayer            8.688379    5933.553336\n",
       "oklahoma          8.001139    2984.355241\n",
       "devastation       7.723858    2261.668287\n",
       "donation          6.444024     628.932453\n",
       "victim            6.374967     586.965793\n",
       "redcross          6.161849     474.304343\n",
       "donating          5.721448     305.346807\n",
       "disaster          5.568342     261.999434\n",
       "damage            5.521900     250.109918\n",
       "twister           5.507859     246.622484\n",
       "tragedy           5.458718     234.796299\n",
       "sending           5.400167     221.443293\n",
       "lost              5.396330     220.595280\n",
       "rubble            5.356028     211.881606\n",
       "praying           5.193846     180.160138\n",
       "affected          5.151966     172.770827\n",
       "405               5.114025     166.338566\n",
       "people oklahoma   5.047638     155.654447"
      ]
     },
     "execution_count": 40,
     "metadata": {},
     "output_type": "execute_result"
    }
   ],
   "source": [
    "lr_ot_odds = pd.DataFrame(gs_lr_ot.best_estimator_.coef_, columns = X_train_tfidf_df.columns).T\n",
    "lr_ot_odds.columns = ['weights']\n",
    "lr_ot_odds['odds'] = np.exp(lr_ot_odds['weights'])\n",
    "lr_ot_odds.sort_values(by='odds', ascending=False).head(20)"
   ]
  },
  {
   "cell_type": "markdown",
   "metadata": {},
   "source": [
    "We created a horizontal bar chart of the top 20 words of our logistic regression model that have the highest odds of classifying a tweet as `on-topic`."
   ]
  },
  {
   "cell_type": "code",
   "execution_count": 41,
   "metadata": {},
   "outputs": [
    {
     "data": {
      "image/png": "[encoded data removed]",
      "text/plain": [
       "<Figure size 1440x720 with 1 Axes>"
      ]
     },
     "metadata": {
      "needs_background": "light"
     },
     "output_type": "display_data"
    }
   ],
   "source": [
    "plt.figure(figsize=(20,10))\n",
    "plt.barh(lr_ot_odds.sort_values(by='odds', ascending=False).head(20).index, \n",
    "         lr_ot_odds.sort_values(by='odds', ascending=False).head(20)['odds'],\n",
    "         log=True)\n",
    "plt.title('Top 20 words with Positive Impact on Odds\\n Accuracy: 97%', fontsize=30)\n",
    "plt.xlabel('Odds', fontsize=25)\n",
    "plt.ylabel('Feature', fontsize=25)\n",
    "plt.xticks(fontsize=20)\n",
    "plt.yticks(fontsize=20);"
   ]
  },
  {
   "cell_type": "markdown",
   "metadata": {},
   "source": [
    "- words such as tornado and oklahoma are referencing the tornado disaster itself in Oklahoma\n",
    "- words such as affected and praying are most likely from people not affected by the disasters who are talking about the disasters"
   ]
  },
  {
   "cell_type": "markdown",
   "metadata": {},
   "source": [
    "## Alberta Floods and Queensland Flood"
   ]
  },
  {
   "cell_type": "markdown",
   "metadata": {},
   "source": [
    "We repeat the same process for disaster type `flood` (Alberta and Queensland)."
   ]
  },
  {
   "cell_type": "markdown",
   "metadata": {},
   "source": [
    "### Model Prep"
   ]
  },
  {
   "cell_type": "code",
   "execution_count": 42,
   "metadata": {},
   "outputs": [],
   "source": [
    "X = final_df.loc[final_df['disaster_type'] == 'flood', ['lemmatized']]\n",
    "y = final_df.loc[final_df['disaster_type'] == 'flood', ['label_on-topic']]"
   ]
  },
  {
   "cell_type": "code",
   "execution_count": 43,
   "metadata": {},
   "outputs": [],
   "source": [
    "X_train, X_test, y_train, y_test = train_test_split(X, \n",
    "                                                    y, \n",
    "                                                    stratify=y,\n",
    "                                                    random_state=44)"
   ]
  },
  {
   "cell_type": "markdown",
   "metadata": {},
   "source": [
    "#### TF-IDF"
   ]
  },
  {
   "cell_type": "markdown",
   "metadata": {},
   "source": [
    "We instantiate TfidfVectorizer() and set the same parameters as before."
   ]
  },
  {
   "cell_type": "markdown",
   "metadata": {},
   "source": [
    "##### X_train"
   ]
  },
  {
   "cell_type": "code",
   "execution_count": 44,
   "metadata": {},
   "outputs": [],
   "source": [
    "tfidf_fl = TfidfVectorizer(ngram_range=(1, 2),\n",
    "                           stop_words='english',\n",
    "                           min_df=25, \n",
    "                           max_df=1.0)\n",
    "X_train_tfidf = tfidf_fl.fit_transform(X_train['lemmatized'])\n",
    "X_train_tfidf_df = pd.DataFrame(X_train_tfidf.toarray(), columns=tfidf_fl.get_feature_names())"
   ]
  },
  {
   "cell_type": "markdown",
   "metadata": {},
   "source": [
    "##### Replicate for X_test"
   ]
  },
  {
   "cell_type": "code",
   "execution_count": 45,
   "metadata": {},
   "outputs": [],
   "source": [
    "X_test_tfidf = tfidf_fl.transform(X_test['lemmatized'])\n",
    "X_test_tfidf_df = pd.DataFrame(X_test_tfidf.toarray(), columns=tfidf_fl.get_feature_names())"
   ]
  },
  {
   "cell_type": "code",
   "execution_count": 46,
   "metadata": {},
   "outputs": [
    {
     "data": {
      "text/plain": [
       "(5016, 1060)"
      ]
     },
     "execution_count": 46,
     "metadata": {},
     "output_type": "execute_result"
    }
   ],
   "source": [
    "X_test_tfidf_df.shape"
   ]
  },
  {
   "cell_type": "markdown",
   "metadata": {},
   "source": [
    "### Modeling"
   ]
  },
  {
   "cell_type": "markdown",
   "metadata": {},
   "source": [
    "#### Baseline Model"
   ]
  },
  {
   "cell_type": "code",
   "execution_count": 47,
   "metadata": {},
   "outputs": [
    {
     "data": {
      "text/plain": [
       "True     0.528459\n",
       "False    0.471541\n",
       "Name: label_on-topic, dtype: float64"
      ]
     },
     "execution_count": 47,
     "metadata": {},
     "output_type": "execute_result"
    }
   ],
   "source": [
    "y['label_on-topic'].value_counts(normalize=True)"
   ]
  },
  {
   "cell_type": "markdown",
   "metadata": {},
   "source": [
    "`on-topic` is our majority class again, but we do not see as great of an imbalance as we did with Sandy Hurricane. If we classify all tweets as being `on-topic`, we will be predicting correctly 52.85% of the time."
   ]
  },
  {
   "cell_type": "markdown",
   "metadata": {},
   "source": [
    "#### Random Forest"
   ]
  },
  {
   "cell_type": "code",
   "execution_count": 48,
   "metadata": {},
   "outputs": [
    {
     "name": "stdout",
     "output_type": "stream",
     "text": [
      "Score on Training Set: 0.9869750132908027\n",
      "Score on Testing Set: 0.9599282296650717\n"
     ]
    },
    {
     "data": {
      "text/plain": [
       "{'max_depth': None, 'min_samples_split': 7, 'n_estimators': 45}"
      ]
     },
     "execution_count": 48,
     "metadata": {},
     "output_type": "execute_result"
    }
   ],
   "source": [
    "rf = RandomForestClassifier()\n",
    "rf_params = {\n",
    "    'n_estimators': [30, 35, 45],\n",
    "    'min_samples_split': [2, 3, 5, 7, 10],\n",
    "    'max_depth': [None, 5, 7, 10]\n",
    "    \n",
    "}\n",
    "gs_rf_fl = GridSearchCV(rf, param_grid=rf_params, cv=5)\n",
    "gs_rf_fl.fit(X_train_tfidf_df, y_train['label_on-topic'])\n",
    "print('Score on Training Set:', gs_rf_fl.score(X_train_tfidf_df, y_train['label_on-topic']))\n",
    "print('Score on Testing Set:', gs_rf_fl.score(X_test_tfidf_df, y_test['label_on-topic']))\n",
    "gs_rf_fl.best_params_"
   ]
  },
  {
   "cell_type": "markdown",
   "metadata": {},
   "source": [
    "-  For `y_train`, we will correctly predict the class in which a tweet belongs in `98.56%` of the time.\n",
    "-  For `y_test`, we will correctly predict the class in which a tweet belongs in `95.95%` of the time."
   ]
  },
  {
   "cell_type": "markdown",
   "metadata": {},
   "source": [
    "### Confusion Matrix"
   ]
  },
  {
   "cell_type": "code",
   "execution_count": 49,
   "metadata": {
    "collapsed": true
   },
   "outputs": [],
   "source": [
    "cm = confusion_matrix(y_test, gs_rf_fl.predict(X_test_tfidf_df))"
   ]
  },
  {
   "cell_type": "code",
   "execution_count": 50,
   "metadata": {
    "collapsed": true
   },
   "outputs": [
    {
     "data": {
      "text/html": [
       "<div>\n",
       "<style scoped>\n",
       "    .dataframe tbody tr th:only-of-type {\n",
       "        vertical-align: middle;\n",
       "    }\n",
       "\n",
       "    .dataframe tbody tr th {\n",
       "        vertical-align: top;\n",
       "    }\n",
       "\n",
       "    .dataframe thead th {\n",
       "        text-align: right;\n",
       "    }\n",
       "</style>\n",
       "<table border=\"1\" class=\"dataframe\">\n",
       "  <thead>\n",
       "    <tr style=\"text-align: right;\">\n",
       "      <th></th>\n",
       "      <th>predict_0</th>\n",
       "      <th>predict_1</th>\n",
       "    </tr>\n",
       "  </thead>\n",
       "  <tbody>\n",
       "    <tr>\n",
       "      <th>actual_0</th>\n",
       "      <td>2235</td>\n",
       "      <td>130</td>\n",
       "    </tr>\n",
       "    <tr>\n",
       "      <th>actual_1</th>\n",
       "      <td>71</td>\n",
       "      <td>2580</td>\n",
       "    </tr>\n",
       "  </tbody>\n",
       "</table>\n",
       "</div>"
      ],
      "text/plain": [
       "          predict_0  predict_1\n",
       "actual_0       2235        130\n",
       "actual_1         71       2580"
      ]
     },
     "execution_count": 50,
     "metadata": {},
     "output_type": "execute_result"
    }
   ],
   "source": [
    "cm_df = pd.DataFrame(cm, columns = ('predict_0','predict_1') , index = ('actual_0', 'actual_1'))\n",
    "cm_df"
   ]
  },
  {
   "cell_type": "markdown",
   "metadata": {},
   "source": [
    "##### Important Features"
   ]
  },
  {
   "cell_type": "markdown",
   "metadata": {},
   "source": [
    "We generated using gridsearch the most importance features that provide the most amount of information gained and plotted the top 20 words."
   ]
  },
  {
   "cell_type": "code",
   "execution_count": 51,
   "metadata": {},
   "outputs": [],
   "source": [
    "feat_importance = pd.DataFrame(gs_rf_fl.best_estimator_.feature_importances_, X_train_tfidf_df.columns, columns=['importance'])"
   ]
  },
  {
   "cell_type": "code",
   "execution_count": 52,
   "metadata": {},
   "outputs": [],
   "source": [
    "top_feat = feat_importance.sort_values('importance', ascending=False).head(20)"
   ]
  },
  {
   "cell_type": "code",
   "execution_count": 53,
   "metadata": {},
   "outputs": [
    {
     "data": {
      "image/png": "[encoded data removed]",
      "text/plain": [
       "<Figure size 1440x720 with 1 Axes>"
      ]
     },
     "metadata": {
      "needs_background": "light"
     },
     "output_type": "display_data"
    }
   ],
   "source": [
    "plt.figure(figsize=(20,10))\n",
    "plt.barh(top_feat.index, top_feat['importance'])\n",
    "plt.title('Top 20 Features', fontsize=30)\n",
    "plt.xlabel('Amount of Information Gained', fontsize=25)\n",
    "plt.ylabel('Feature', fontsize=25)\n",
    "plt.xticks(fontsize=20)\n",
    "plt.yticks(fontsize=20);"
   ]
  },
  {
   "cell_type": "markdown",
   "metadata": {},
   "source": [
    "-  Similar to what we saw with Sandy Hurricane, the words with the most information gained are either referring to the disaster type (`flood`) or the name directly.\n",
    "-  There are several terms that refer to the flood location: `yycflood`, `queensland`, `calgary`, and `albea`."
   ]
  },
  {
   "cell_type": "markdown",
   "metadata": {},
   "source": [
    "#### Logistic Regression"
   ]
  },
  {
   "cell_type": "markdown",
   "metadata": {},
   "source": [
    "We will use logistic regression to measure feature importance and determine the words contained in tweets that give them high odds of being classified as `on-topic`. Grid-search was applied on logistic regression to calculate the best hyperparameters for our model."
   ]
  },
  {
   "cell_type": "code",
   "execution_count": 54,
   "metadata": {},
   "outputs": [
    {
     "name": "stdout",
     "output_type": "stream",
     "text": [
      "Score on Training Set: 0.9930616676382987\n",
      "Score on Testing Set: 0.9853711910539962\n"
     ]
    },
    {
     "data": {
      "text/plain": [
       "{'C': 10, 'penalty': 'l2'}"
      ]
     },
     "execution_count": 54,
     "metadata": {},
     "output_type": "execute_result"
    }
   ],
   "source": [
    "lr = LogisticRegression()\n",
    "lr_params = {'C': [0.001, 0.01, 0.1, 1, 10, 100, 1000],\n",
    "             'penalty' : ['l1','l2']   \n",
    "}\n",
    "gs_lr_fl = GridSearchCV(lr, param_grid = lr_params, scoring = 'roc_auc', cv = 3)\n",
    "gs_lr_fl.fit(X_train_tfidf_df, y_train['label_on-topic'])\n",
    "print('Score on Training Set:', gs_lr_fl.score(X_train_tfidf_df, y_train['label_on-topic']))\n",
    "print('Score on Testing Set:', gs_lr_fl.score(X_test_tfidf_df, y_test['label_on-topic']))\n",
    "gs_lr_fl.best_params_"
   ]
  },
  {
   "cell_type": "markdown",
   "metadata": {},
   "source": [
    "-  For `y_train`, we will correctly predict the class in which a tweet belongs in `98.27%` of the time.\n",
    "-  For `y_test`, we will correctly predict the class in which a tweet belongs in `97.28%` of the time."
   ]
  },
  {
   "cell_type": "markdown",
   "metadata": {},
   "source": [
    "### Confusion Matrix"
   ]
  },
  {
   "cell_type": "code",
   "execution_count": 55,
   "metadata": {
    "collapsed": true
   },
   "outputs": [],
   "source": [
    "cm = confusion_matrix(y_test, gs_lr_fl.predict(X_test_tfidf_df))"
   ]
  },
  {
   "cell_type": "code",
   "execution_count": 56,
   "metadata": {
    "collapsed": true
   },
   "outputs": [
    {
     "data": {
      "text/html": [
       "<div>\n",
       "<style scoped>\n",
       "    .dataframe tbody tr th:only-of-type {\n",
       "        vertical-align: middle;\n",
       "    }\n",
       "\n",
       "    .dataframe tbody tr th {\n",
       "        vertical-align: top;\n",
       "    }\n",
       "\n",
       "    .dataframe thead th {\n",
       "        text-align: right;\n",
       "    }\n",
       "</style>\n",
       "<table border=\"1\" class=\"dataframe\">\n",
       "  <thead>\n",
       "    <tr style=\"text-align: right;\">\n",
       "      <th></th>\n",
       "      <th>predict_0</th>\n",
       "      <th>predict_1</th>\n",
       "    </tr>\n",
       "  </thead>\n",
       "  <tbody>\n",
       "    <tr>\n",
       "      <th>actual_0</th>\n",
       "      <td>2256</td>\n",
       "      <td>109</td>\n",
       "    </tr>\n",
       "    <tr>\n",
       "      <th>actual_1</th>\n",
       "      <td>100</td>\n",
       "      <td>2551</td>\n",
       "    </tr>\n",
       "  </tbody>\n",
       "</table>\n",
       "</div>"
      ],
      "text/plain": [
       "          predict_0  predict_1\n",
       "actual_0       2256        109\n",
       "actual_1        100       2551"
      ]
     },
     "execution_count": 56,
     "metadata": {},
     "output_type": "execute_result"
    }
   ],
   "source": [
    "cm_df = pd.DataFrame(cm, columns = ('predict_0','predict_1') , index = ('actual_0', 'actual_1'))\n",
    "cm_df"
   ]
  },
  {
   "cell_type": "markdown",
   "metadata": {},
   "source": [
    "##### Odds"
   ]
  },
  {
   "cell_type": "markdown",
   "metadata": {},
   "source": [
    "We made a table of the top 20 words with positive impact on odds meaning tweets with these words have the highest odds of being classified as `on-topic`. The tweets containing the word `tornado` are 149081 times as likely to be classified as `on-topic`."
   ]
  },
  {
   "cell_type": "code",
   "execution_count": 57,
   "metadata": {},
   "outputs": [
    {
     "data": {
      "text/html": [
       "<div>\n",
       "<style scoped>\n",
       "    .dataframe tbody tr th:only-of-type {\n",
       "        vertical-align: middle;\n",
       "    }\n",
       "\n",
       "    .dataframe tbody tr th {\n",
       "        vertical-align: top;\n",
       "    }\n",
       "\n",
       "    .dataframe thead th {\n",
       "        text-align: right;\n",
       "    }\n",
       "</style>\n",
       "<table border=\"1\" class=\"dataframe\">\n",
       "  <thead>\n",
       "    <tr style=\"text-align: right;\">\n",
       "      <th></th>\n",
       "      <th>weights</th>\n",
       "      <th>odds</th>\n",
       "    </tr>\n",
       "  </thead>\n",
       "  <tbody>\n",
       "    <tr>\n",
       "      <th>flood</th>\n",
       "      <td>30.168910</td>\n",
       "      <td>1.265293e+13</td>\n",
       "    </tr>\n",
       "    <tr>\n",
       "      <th>yycflood</th>\n",
       "      <td>18.319683</td>\n",
       "      <td>9.039349e+07</td>\n",
       "    </tr>\n",
       "    <tr>\n",
       "      <th>abflood</th>\n",
       "      <td>16.000194</td>\n",
       "      <td>8.887837e+06</td>\n",
       "    </tr>\n",
       "    <tr>\n",
       "      <th>flooding</th>\n",
       "      <td>11.683274</td>\n",
       "      <td>1.185718e+05</td>\n",
       "    </tr>\n",
       "    <tr>\n",
       "      <th>flooded</th>\n",
       "      <td>10.074546</td>\n",
       "      <td>2.373120e+04</td>\n",
       "    </tr>\n",
       "    <tr>\n",
       "      <th>storm</th>\n",
       "      <td>8.158508</td>\n",
       "      <td>3.492970e+03</td>\n",
       "    </tr>\n",
       "    <tr>\n",
       "      <th>yycfloods</th>\n",
       "      <td>7.628064</td>\n",
       "      <td>2.055068e+03</td>\n",
       "    </tr>\n",
       "    <tr>\n",
       "      <th>abfloods</th>\n",
       "      <td>6.979969</td>\n",
       "      <td>1.074885e+03</td>\n",
       "    </tr>\n",
       "    <tr>\n",
       "      <th>queensland flood</th>\n",
       "      <td>6.975785</td>\n",
       "      <td>1.070397e+03</td>\n",
       "    </tr>\n",
       "    <tr>\n",
       "      <th>queensland</th>\n",
       "      <td>6.966846</td>\n",
       "      <td>1.060871e+03</td>\n",
       "    </tr>\n",
       "    <tr>\n",
       "      <th>victim</th>\n",
       "      <td>6.904664</td>\n",
       "      <td>9.969138e+02</td>\n",
       "    </tr>\n",
       "    <tr>\n",
       "      <th>flood crisis</th>\n",
       "      <td>5.935117</td>\n",
       "      <td>3.780843e+02</td>\n",
       "    </tr>\n",
       "    <tr>\n",
       "      <th>water</th>\n",
       "      <td>5.586887</td>\n",
       "      <td>2.669035e+02</td>\n",
       "    </tr>\n",
       "    <tr>\n",
       "      <th>premier_redford</th>\n",
       "      <td>5.539963</td>\n",
       "      <td>2.546685e+02</td>\n",
       "    </tr>\n",
       "    <tr>\n",
       "      <th>power</th>\n",
       "      <td>5.310675</td>\n",
       "      <td>2.024869e+02</td>\n",
       "    </tr>\n",
       "    <tr>\n",
       "      <th>calgarypolice</th>\n",
       "      <td>5.223649</td>\n",
       "      <td>1.856102e+02</td>\n",
       "    </tr>\n",
       "    <tr>\n",
       "      <th>red cross</th>\n",
       "      <td>5.204375</td>\n",
       "      <td>1.820670e+02</td>\n",
       "    </tr>\n",
       "    <tr>\n",
       "      <th>climate change</th>\n",
       "      <td>5.163756</td>\n",
       "      <td>1.748198e+02</td>\n",
       "    </tr>\n",
       "    <tr>\n",
       "      <th>evacuated</th>\n",
       "      <td>5.053730</td>\n",
       "      <td>1.566055e+02</td>\n",
       "    </tr>\n",
       "    <tr>\n",
       "      <th>resident</th>\n",
       "      <td>5.040858</td>\n",
       "      <td>1.546026e+02</td>\n",
       "    </tr>\n",
       "  </tbody>\n",
       "</table>\n",
       "</div>"
      ],
      "text/plain": [
       "                    weights          odds\n",
       "flood             30.168910  1.265293e+13\n",
       "yycflood          18.319683  9.039349e+07\n",
       "abflood           16.000194  8.887837e+06\n",
       "flooding          11.683274  1.185718e+05\n",
       "flooded           10.074546  2.373120e+04\n",
       "storm              8.158508  3.492970e+03\n",
       "yycfloods          7.628064  2.055068e+03\n",
       "abfloods           6.979969  1.074885e+03\n",
       "queensland flood   6.975785  1.070397e+03\n",
       "queensland         6.966846  1.060871e+03\n",
       "victim             6.904664  9.969138e+02\n",
       "flood crisis       5.935117  3.780843e+02\n",
       "water              5.586887  2.669035e+02\n",
       "premier_redford    5.539963  2.546685e+02\n",
       "power              5.310675  2.024869e+02\n",
       "calgarypolice      5.223649  1.856102e+02\n",
       "red cross          5.204375  1.820670e+02\n",
       "climate change     5.163756  1.748198e+02\n",
       "evacuated          5.053730  1.566055e+02\n",
       "resident           5.040858  1.546026e+02"
      ]
     },
     "execution_count": 57,
     "metadata": {},
     "output_type": "execute_result"
    }
   ],
   "source": [
    "lr_fl_odds = pd.DataFrame(gs_lr_fl.best_estimator_.coef_, columns = X_train_tfidf_df.columns).T\n",
    "lr_fl_odds.columns = ['weights']\n",
    "lr_fl_odds['odds'] = np.exp(lr_fl_odds['weights'])\n",
    "lr_fl_odds.sort_values(by='odds', ascending=False).head(20)"
   ]
  },
  {
   "cell_type": "markdown",
   "metadata": {},
   "source": [
    "We created a horizontal bar chart of the top 20 words of our logistic regression model that have the highest odds of classifying a tweet as `on-topic`."
   ]
  },
  {
   "cell_type": "code",
   "execution_count": 58,
   "metadata": {},
   "outputs": [
    {
     "data": {
      "image/png": "[encoded data removed]",
      "text/plain": [
       "<Figure size 1440x720 with 1 Axes>"
      ]
     },
     "metadata": {
      "needs_background": "light"
     },
     "output_type": "display_data"
    }
   ],
   "source": [
    "plt.figure(figsize=(20,10))\n",
    "plt.barh(lr_fl_odds.sort_values(by='odds', ascending=False).head(20).index, \n",
    "         lr_fl_odds.sort_values(by='odds', ascending=False).head(20)['odds'],\n",
    "         log=True)\n",
    "plt.title('Top 20 words with Positive Impact on Odds\\n Accuracy: 97%', fontsize=30)\n",
    "plt.xlabel('Odds', fontsize=25)\n",
    "plt.ylabel('Feature', fontsize=25)\n",
    "plt.xticks(fontsize=20)\n",
    "plt.yticks(fontsize=20);"
   ]
  },
  {
   "cell_type": "markdown",
   "metadata": {},
   "source": [
    "- Similar to what was observed in the Sandy Hurricane data, the words with highest odds were either the disaster type or the name itself."
   ]
  },
  {
   "cell_type": "markdown",
   "metadata": {},
   "source": [
    "## All Disasters"
   ]
  },
  {
   "cell_type": "markdown",
   "metadata": {},
   "source": [
    "Now, we'll model on the entire dataset to determine which words have the most information gained. The process will be the same as our prior two models."
   ]
  },
  {
   "cell_type": "markdown",
   "metadata": {},
   "source": [
    "### Model Prep"
   ]
  },
  {
   "cell_type": "code",
   "execution_count": 59,
   "metadata": {},
   "outputs": [],
   "source": [
    "X = final_df[['lemmatized']]\n",
    "y = final_df['label_on-topic']"
   ]
  },
  {
   "cell_type": "code",
   "execution_count": 60,
   "metadata": {},
   "outputs": [],
   "source": [
    "X_train, X_test, y_train, y_test = train_test_split(X, \n",
    "                                                    y, \n",
    "                                                    stratify=y,\n",
    "                                                    random_state=44)"
   ]
  },
  {
   "cell_type": "markdown",
   "metadata": {},
   "source": [
    "#### TF-IDF"
   ]
  },
  {
   "cell_type": "markdown",
   "metadata": {},
   "source": [
    "We instantiate TfidfVectorizer() and set the same parameters as before."
   ]
  },
  {
   "cell_type": "markdown",
   "metadata": {},
   "source": [
    "##### X_train"
   ]
  },
  {
   "cell_type": "code",
   "execution_count": 61,
   "metadata": {},
   "outputs": [],
   "source": [
    "tfidf_all = TfidfVectorizer(ngram_range=(1, 2),\n",
    "                            stop_words='english',\n",
    "                            min_df=25, \n",
    "                            max_df=1.0)\n",
    "X_train_tfidf = tfidf_all.fit_transform(X_train['lemmatized'])\n",
    "X_train_tfidf_df = pd.DataFrame(X_train_tfidf.toarray(), columns=tfidf_all.get_feature_names())"
   ]
  },
  {
   "cell_type": "markdown",
   "metadata": {},
   "source": [
    "##### Replicate for X_test"
   ]
  },
  {
   "cell_type": "code",
   "execution_count": 62,
   "metadata": {},
   "outputs": [],
   "source": [
    "X_test_tfidf = tfidf_all.transform(X_test['lemmatized'])\n",
    "X_test_tfidf_df = pd.DataFrame(X_test_tfidf.toarray(), columns=tfidf_all.get_feature_names())"
   ]
  },
  {
   "cell_type": "code",
   "execution_count": 63,
   "metadata": {},
   "outputs": [
    {
     "data": {
      "text/plain": [
       "(10016, 1874)"
      ]
     },
     "execution_count": 63,
     "metadata": {},
     "output_type": "execute_result"
    }
   ],
   "source": [
    "X_test_tfidf_df.shape"
   ]
  },
  {
   "cell_type": "markdown",
   "metadata": {},
   "source": [
    "### Modeling"
   ]
  },
  {
   "cell_type": "markdown",
   "metadata": {},
   "source": [
    "#### Baseline Model"
   ]
  },
  {
   "cell_type": "code",
   "execution_count": 64,
   "metadata": {},
   "outputs": [
    {
     "data": {
      "text/plain": [
       "True     0.538352\n",
       "False    0.461648\n",
       "Name: label_on-topic, dtype: float64"
      ]
     },
     "execution_count": 64,
     "metadata": {},
     "output_type": "execute_result"
    }
   ],
   "source": [
    "y.value_counts(normalize=True)"
   ]
  },
  {
   "cell_type": "markdown",
   "metadata": {},
   "source": [
    "`on-topic` is our majority class again, with a similar imbalance as Alberta Floods and Queensland Flood. If we classify all tweets as being `on-topic`, we will be predicting correctly 53.84% of the time."
   ]
  },
  {
   "cell_type": "markdown",
   "metadata": {},
   "source": [
    "#### Random Forest"
   ]
  },
  {
   "cell_type": "code",
   "execution_count": 65,
   "metadata": {},
   "outputs": [
    {
     "name": "stdout",
     "output_type": "stream",
     "text": [
      "Score on Training Set: 0.9836256531434087\n",
      "Score on Testing Set: 0.9451876996805112\n"
     ]
    },
    {
     "data": {
      "text/plain": [
       "{'max_depth': None, 'min_samples_split': 10, 'n_estimators': 45}"
      ]
     },
     "execution_count": 65,
     "metadata": {},
     "output_type": "execute_result"
    }
   ],
   "source": [
    "rf = RandomForestClassifier()\n",
    "rf_params = {\n",
    "    'n_estimators': [30, 35, 45],\n",
    "    'min_samples_split': [2, 3, 5, 7, 10],\n",
    "    'max_depth': [None, 5, 7, 10]\n",
    "    \n",
    "}\n",
    "gs_rf_all = GridSearchCV(rf, param_grid=rf_params, cv=5)\n",
    "gs_rf_all.fit(X_train_tfidf_df, y_train)\n",
    "print('Score on Training Set:', gs_rf_all.score(X_train_tfidf_df, y_train))\n",
    "print('Score on Testing Set:', gs_rf_all.score(X_test_tfidf_df, y_test))\n",
    "gs_rf_all.best_params_"
   ]
  },
  {
   "cell_type": "markdown",
   "metadata": {},
   "source": [
    "-  For `y_train`, we will correctly predict the class in which a tweet belongs in `98.83%` of the time.\n",
    "-  For `y_test`, we will correctly predict the class in which a tweet belongs in `94.42%` of the time."
   ]
  },
  {
   "cell_type": "markdown",
   "metadata": {},
   "source": [
    "### Confusion Matrix"
   ]
  },
  {
   "cell_type": "code",
   "execution_count": 66,
   "metadata": {
    "collapsed": true
   },
   "outputs": [],
   "source": [
    "cm = confusion_matrix(y_test, gs_rf_all.predict(X_test_tfidf_df))"
   ]
  },
  {
   "cell_type": "code",
   "execution_count": 67,
   "metadata": {
    "collapsed": true
   },
   "outputs": [
    {
     "data": {
      "text/html": [
       "<div>\n",
       "<style scoped>\n",
       "    .dataframe tbody tr th:only-of-type {\n",
       "        vertical-align: middle;\n",
       "    }\n",
       "\n",
       "    .dataframe tbody tr th {\n",
       "        vertical-align: top;\n",
       "    }\n",
       "\n",
       "    .dataframe thead th {\n",
       "        text-align: right;\n",
       "    }\n",
       "</style>\n",
       "<table border=\"1\" class=\"dataframe\">\n",
       "  <thead>\n",
       "    <tr style=\"text-align: right;\">\n",
       "      <th></th>\n",
       "      <th>predict_0</th>\n",
       "      <th>predict_1</th>\n",
       "    </tr>\n",
       "  </thead>\n",
       "  <tbody>\n",
       "    <tr>\n",
       "      <th>actual_0</th>\n",
       "      <td>4272</td>\n",
       "      <td>352</td>\n",
       "    </tr>\n",
       "    <tr>\n",
       "      <th>actual_1</th>\n",
       "      <td>197</td>\n",
       "      <td>5195</td>\n",
       "    </tr>\n",
       "  </tbody>\n",
       "</table>\n",
       "</div>"
      ],
      "text/plain": [
       "          predict_0  predict_1\n",
       "actual_0       4272        352\n",
       "actual_1        197       5195"
      ]
     },
     "execution_count": 67,
     "metadata": {},
     "output_type": "execute_result"
    }
   ],
   "source": [
    "cm_df = pd.DataFrame(cm, columns = ('predict_0','predict_1') , index = ('actual_0', 'actual_1'))\n",
    "cm_df"
   ]
  },
  {
   "cell_type": "markdown",
   "metadata": {},
   "source": [
    "##### Important Features"
   ]
  },
  {
   "cell_type": "markdown",
   "metadata": {},
   "source": [
    "We generated using gridsearch the most importance features that provide the most amount of information gained and plotted the top 20 words."
   ]
  },
  {
   "cell_type": "code",
   "execution_count": 68,
   "metadata": {},
   "outputs": [],
   "source": [
    "feat_importance = pd.DataFrame(gs_rf_all.best_estimator_.feature_importances_, X_train_tfidf_df.columns, columns=['importance'])"
   ]
  },
  {
   "cell_type": "code",
   "execution_count": 69,
   "metadata": {},
   "outputs": [],
   "source": [
    "top_feat = feat_importance.sort_values('importance', ascending=False).head(20)"
   ]
  },
  {
   "cell_type": "code",
   "execution_count": 70,
   "metadata": {},
   "outputs": [
    {
     "data": {
      "image/png": "[encoded data removed]",
      "text/plain": [
       "<Figure size 1440x720 with 1 Axes>"
      ]
     },
     "metadata": {
      "needs_background": "light"
     },
     "output_type": "display_data"
    }
   ],
   "source": [
    "plt.figure(figsize=(20,10))\n",
    "plt.barh(top_feat.index, top_feat['importance'])\n",
    "plt.title('Top 20 Features', fontsize=30)\n",
    "plt.xlabel('Amount of Information Gained', fontsize=25)\n",
    "plt.ylabel('Feature', fontsize=25)\n",
    "plt.xticks(fontsize=20)\n",
    "plt.yticks(fontsize=20);"
   ]
  },
  {
   "cell_type": "markdown",
   "metadata": {},
   "source": [
    "-  As expected, we see a lot of overlap between the top features here and our prior two models. \n",
    "-  Given that we're looking across three different disaster types, the information gained for terms relating to the disaster name and type is less than before.\n",
    "-  For any disaster, the strongest indicator of whether a tweet is on-topic or off-topic will be the disaster type and name."
   ]
  },
  {
   "cell_type": "markdown",
   "metadata": {},
   "source": [
    "#### Logistic Regression"
   ]
  },
  {
   "cell_type": "markdown",
   "metadata": {},
   "source": [
    "We will use logistic regression to measure feature importance and determine the words contained in tweets that give them high odds of being classified as `on-topic`. Grid-search was applied on logistic regression to calculate the best hyperparameters for our model."
   ]
  },
  {
   "cell_type": "code",
   "execution_count": 71,
   "metadata": {},
   "outputs": [
    {
     "name": "stdout",
     "output_type": "stream",
     "text": [
      "Score on Training Set: 0.9833853599875809\n",
      "Score on Testing Set: 0.9803131104455658\n"
     ]
    },
    {
     "data": {
      "text/plain": [
       "{'C': 1, 'penalty': 'l2'}"
      ]
     },
     "execution_count": 71,
     "metadata": {},
     "output_type": "execute_result"
    }
   ],
   "source": [
    "lr = LogisticRegression()\n",
    "lr_params = {'C': [0.001, 0.01, 0.1, 1, 10, 100, 1000],\n",
    "             'penalty' : ['l1','l2']   \n",
    "}\n",
    "gs_lr_all = GridSearchCV(lr, param_grid = lr_params, scoring = 'roc_auc', cv = 3)\n",
    "gs_lr_all.fit(X_train_tfidf_df, y_train)\n",
    "print('Score on Training Set:', gs_lr_all.score(X_train_tfidf_df, y_train))\n",
    "print('Score on Testing Set:', gs_lr_all.score(X_test_tfidf_df, y_test))\n",
    "gs_lr_all.best_params_"
   ]
  },
  {
   "cell_type": "markdown",
   "metadata": {},
   "source": [
    "-  For `y_train`, we will correctly predict the class in which a tweet belongs in `98.34%` of the time.\n",
    "-  For `y_test`, we will correctly predict the class in which a tweet belongs in `98.03%` of the time."
   ]
  },
  {
   "cell_type": "markdown",
   "metadata": {},
   "source": [
    "### Confusion Matrix"
   ]
  },
  {
   "cell_type": "code",
   "execution_count": 72,
   "metadata": {
    "collapsed": true
   },
   "outputs": [],
   "source": [
    "cm = confusion_matrix(y_test, gs_lr_all.predict(X_test_tfidf_df))"
   ]
  },
  {
   "cell_type": "code",
   "execution_count": 73,
   "metadata": {
    "collapsed": true
   },
   "outputs": [
    {
     "data": {
      "text/html": [
       "<div>\n",
       "<style scoped>\n",
       "    .dataframe tbody tr th:only-of-type {\n",
       "        vertical-align: middle;\n",
       "    }\n",
       "\n",
       "    .dataframe tbody tr th {\n",
       "        vertical-align: top;\n",
       "    }\n",
       "\n",
       "    .dataframe thead th {\n",
       "        text-align: right;\n",
       "    }\n",
       "</style>\n",
       "<table border=\"1\" class=\"dataframe\">\n",
       "  <thead>\n",
       "    <tr style=\"text-align: right;\">\n",
       "      <th></th>\n",
       "      <th>predict_0</th>\n",
       "      <th>predict_1</th>\n",
       "    </tr>\n",
       "  </thead>\n",
       "  <tbody>\n",
       "    <tr>\n",
       "      <th>actual_0</th>\n",
       "      <td>4367</td>\n",
       "      <td>257</td>\n",
       "    </tr>\n",
       "    <tr>\n",
       "      <th>actual_1</th>\n",
       "      <td>333</td>\n",
       "      <td>5059</td>\n",
       "    </tr>\n",
       "  </tbody>\n",
       "</table>\n",
       "</div>"
      ],
      "text/plain": [
       "          predict_0  predict_1\n",
       "actual_0       4367        257\n",
       "actual_1        333       5059"
      ]
     },
     "execution_count": 73,
     "metadata": {},
     "output_type": "execute_result"
    }
   ],
   "source": [
    "cm_df = pd.DataFrame(cm, columns = ('predict_0','predict_1') , index = ('actual_0', 'actual_1'))\n",
    "cm_df"
   ]
  },
  {
   "cell_type": "markdown",
   "metadata": {},
   "source": [
    "##### Takeaways\n",
    "- The model is still slightly overfitting to the train data because the variance explained from train data is 0.3% higher than the variance explained in the test data."
   ]
  },
  {
   "cell_type": "markdown",
   "metadata": {},
   "source": [
    "##### Odds"
   ]
  },
  {
   "cell_type": "markdown",
   "metadata": {},
   "source": [
    "We made a table of the top 20 words with positive impact on odds meaning tweets with these words have the highest odds of being classified as `on-topic`. The tweets containing the word `flood` are 3.23 x 10^7 times as likely to be classified as `on-topic`."
   ]
  },
  {
   "cell_type": "code",
   "execution_count": 74,
   "metadata": {},
   "outputs": [
    {
     "data": {
      "text/html": [
       "<div>\n",
       "<style scoped>\n",
       "    .dataframe tbody tr th:only-of-type {\n",
       "        vertical-align: middle;\n",
       "    }\n",
       "\n",
       "    .dataframe tbody tr th {\n",
       "        vertical-align: top;\n",
       "    }\n",
       "\n",
       "    .dataframe thead th {\n",
       "        text-align: right;\n",
       "    }\n",
       "</style>\n",
       "<table border=\"1\" class=\"dataframe\">\n",
       "  <thead>\n",
       "    <tr style=\"text-align: right;\">\n",
       "      <th></th>\n",
       "      <th>weights</th>\n",
       "      <th>odds</th>\n",
       "    </tr>\n",
       "  </thead>\n",
       "  <tbody>\n",
       "    <tr>\n",
       "      <th>flood</th>\n",
       "      <td>17.290440</td>\n",
       "      <td>3.229554e+07</td>\n",
       "    </tr>\n",
       "    <tr>\n",
       "      <th>hurricane</th>\n",
       "      <td>16.912719</td>\n",
       "      <td>2.213607e+07</td>\n",
       "    </tr>\n",
       "    <tr>\n",
       "      <th>yycflood</th>\n",
       "      <td>12.013164</td>\n",
       "      <td>1.649114e+05</td>\n",
       "    </tr>\n",
       "    <tr>\n",
       "      <th>abflood</th>\n",
       "      <td>10.589337</td>\n",
       "      <td>3.970917e+04</td>\n",
       "    </tr>\n",
       "    <tr>\n",
       "      <th>tornado</th>\n",
       "      <td>10.304200</td>\n",
       "      <td>2.985776e+04</td>\n",
       "    </tr>\n",
       "    <tr>\n",
       "      <th>sandy</th>\n",
       "      <td>9.859402</td>\n",
       "      <td>1.913745e+04</td>\n",
       "    </tr>\n",
       "    <tr>\n",
       "      <th>oklahoma</th>\n",
       "      <td>7.998711</td>\n",
       "      <td>2.977119e+03</td>\n",
       "    </tr>\n",
       "    <tr>\n",
       "      <th>flooding</th>\n",
       "      <td>7.911237</td>\n",
       "      <td>2.727762e+03</td>\n",
       "    </tr>\n",
       "    <tr>\n",
       "      <th>frankenstorm</th>\n",
       "      <td>6.241974</td>\n",
       "      <td>5.138717e+02</td>\n",
       "    </tr>\n",
       "    <tr>\n",
       "      <th>storm</th>\n",
       "      <td>6.116661</td>\n",
       "      <td>4.533484e+02</td>\n",
       "    </tr>\n",
       "    <tr>\n",
       "      <th>queensland</th>\n",
       "      <td>5.584463</td>\n",
       "      <td>2.662572e+02</td>\n",
       "    </tr>\n",
       "    <tr>\n",
       "      <th>hurricanesandy</th>\n",
       "      <td>5.003567</td>\n",
       "      <td>1.489436e+02</td>\n",
       "    </tr>\n",
       "    <tr>\n",
       "      <th>prayer</th>\n",
       "      <td>4.674875</td>\n",
       "      <td>1.072192e+02</td>\n",
       "    </tr>\n",
       "    <tr>\n",
       "      <th>yycfloods</th>\n",
       "      <td>4.623876</td>\n",
       "      <td>1.018881e+02</td>\n",
       "    </tr>\n",
       "    <tr>\n",
       "      <th>moore</th>\n",
       "      <td>4.480703</td>\n",
       "      <td>8.829670e+01</td>\n",
       "    </tr>\n",
       "    <tr>\n",
       "      <th>prayforoklahoma</th>\n",
       "      <td>4.438980</td>\n",
       "      <td>8.468854e+01</td>\n",
       "    </tr>\n",
       "    <tr>\n",
       "      <th>power</th>\n",
       "      <td>4.356795</td>\n",
       "      <td>7.800673e+01</td>\n",
       "    </tr>\n",
       "    <tr>\n",
       "      <th>flooded</th>\n",
       "      <td>4.129585</td>\n",
       "      <td>6.215211e+01</td>\n",
       "    </tr>\n",
       "    <tr>\n",
       "      <th>victim</th>\n",
       "      <td>3.982113</td>\n",
       "      <td>5.363022e+01</td>\n",
       "    </tr>\n",
       "    <tr>\n",
       "      <th>donation</th>\n",
       "      <td>3.606464</td>\n",
       "      <td>3.683557e+01</td>\n",
       "    </tr>\n",
       "  </tbody>\n",
       "</table>\n",
       "</div>"
      ],
      "text/plain": [
       "                   weights          odds\n",
       "flood            17.290440  3.229554e+07\n",
       "hurricane        16.912719  2.213607e+07\n",
       "yycflood         12.013164  1.649114e+05\n",
       "abflood          10.589337  3.970917e+04\n",
       "tornado          10.304200  2.985776e+04\n",
       "sandy             9.859402  1.913745e+04\n",
       "oklahoma          7.998711  2.977119e+03\n",
       "flooding          7.911237  2.727762e+03\n",
       "frankenstorm      6.241974  5.138717e+02\n",
       "storm             6.116661  4.533484e+02\n",
       "queensland        5.584463  2.662572e+02\n",
       "hurricanesandy    5.003567  1.489436e+02\n",
       "prayer            4.674875  1.072192e+02\n",
       "yycfloods         4.623876  1.018881e+02\n",
       "moore             4.480703  8.829670e+01\n",
       "prayforoklahoma   4.438980  8.468854e+01\n",
       "power             4.356795  7.800673e+01\n",
       "flooded           4.129585  6.215211e+01\n",
       "victim            3.982113  5.363022e+01\n",
       "donation          3.606464  3.683557e+01"
      ]
     },
     "execution_count": 74,
     "metadata": {},
     "output_type": "execute_result"
    }
   ],
   "source": [
    "lr_all_odds = pd.DataFrame(gs_lr_all.best_estimator_.coef_, columns = X_train_tfidf_df.columns).T\n",
    "lr_all_odds.columns = ['weights']\n",
    "lr_all_odds['odds'] = np.exp(lr_all_odds['weights'])\n",
    "lr_all_odds.sort_values(by='odds', ascending=False).head(20)"
   ]
  },
  {
   "cell_type": "markdown",
   "metadata": {},
   "source": [
    "We created a horizontal bar chart of the top 20 words of our logistic regression model that have the highest odds of classifying a tweet as `on-topic`."
   ]
  },
  {
   "cell_type": "code",
   "execution_count": 75,
   "metadata": {},
   "outputs": [
    {
     "data": {
      "image/png": "[encoded data removed]",
      "text/plain": [
       "<Figure size 1440x720 with 1 Axes>"
      ]
     },
     "metadata": {
      "needs_background": "light"
     },
     "output_type": "display_data"
    }
   ],
   "source": [
    "plt.figure(figsize=(20,10))\n",
    "plt.barh(lr_all_odds.sort_values(by='odds', ascending=False).head(20).index, \n",
    "         lr_all_odds.sort_values(by='odds', ascending=False).head(20)['odds'],\n",
    "         log=True)\n",
    "plt.title('Top 20 words with Positive Impact on Odds\\n Accuracy: 98%', fontsize=30)\n",
    "plt.xlabel('Odds', fontsize=25)\n",
    "plt.ylabel('Feature', fontsize=25)\n",
    "plt.xticks(fontsize=20)\n",
    "plt.yticks(fontsize=20);"
   ]
  },
  {
   "cell_type": "markdown",
   "metadata": {},
   "source": [
    "-  As expected, we see a lot of overlap between the top features here and our prior two models. \n",
    "-  Given that we're looking across three different disaster types, the odds for terms relating to the disaster name and type is less than before.\n",
    "-  For any disaster, the strongest indicator of whether a tweet is on-topic or off-topic will be the disaster type and name."
   ]
  },
  {
   "cell_type": "markdown",
   "metadata": {},
   "source": [
    "## Pickle Models for Future Predictions"
   ]
  },
  {
   "cell_type": "code",
   "execution_count": 76,
   "metadata": {},
   "outputs": [],
   "source": [
    "with open('../assets/tfidf_flood.pkl', 'wb+') as f:\n",
    "    pickle.dump(tfidf_fl, f)"
   ]
  },
  {
   "cell_type": "code",
   "execution_count": 77,
   "metadata": {},
   "outputs": [],
   "source": [
    "with open('../assets/tfidf_flood_col.pkl', 'wb+') as f:\n",
    "    pickle.dump(tfidf_fl.get_feature_names(), f)"
   ]
  },
  {
   "cell_type": "code",
   "execution_count": 78,
   "metadata": {},
   "outputs": [],
   "source": [
    "with open('../assets/tfidf_all.pkl', 'wb+') as f:\n",
    "    pickle.dump(tfidf_all, f)"
   ]
  },
  {
   "cell_type": "code",
   "execution_count": 79,
   "metadata": {},
   "outputs": [],
   "source": [
    "with open('../assets/tfidf_all_col.pkl', 'wb+') as f:\n",
    "    pickle.dump(tfidf_all.get_feature_names(), f)"
   ]
  },
  {
   "cell_type": "code",
   "execution_count": 80,
   "metadata": {},
   "outputs": [],
   "source": [
    "with open('../assets/tfidf_hurricane.pkl', 'wb+') as f:\n",
    "    pickle.dump(tfidf_sh, f)"
   ]
  },
  {
   "cell_type": "code",
   "execution_count": 81,
   "metadata": {},
   "outputs": [],
   "source": [
    "with open('../assets/tfidf_hurricane_col.pkl', 'wb+') as f:\n",
    "    pickle.dump(tfidf_sh.get_feature_names(), f)"
   ]
  },
  {
   "cell_type": "code",
   "execution_count": 82,
   "metadata": {},
   "outputs": [],
   "source": [
    "with open('../assets/tfidf_tornado.pkl', 'wb+') as f:\n",
    "    pickle.dump(tfidf_ot, f)"
   ]
  },
  {
   "cell_type": "code",
   "execution_count": 83,
   "metadata": {},
   "outputs": [],
   "source": [
    "with open('../assets/tfidf_tornado_col.pkl', 'wb+') as f:\n",
    "    pickle.dump(tfidf_ot.get_feature_names(), f)"
   ]
  },
  {
   "cell_type": "code",
   "execution_count": 84,
   "metadata": {},
   "outputs": [],
   "source": [
    "with open('../assets/rf_flood.pkl', 'wb+') as f:\n",
    "    pickle.dump(gs_rf_fl, f)"
   ]
  },
  {
   "cell_type": "code",
   "execution_count": 85,
   "metadata": {},
   "outputs": [],
   "source": [
    "with open('../assets/rf_all.pkl', 'wb+') as f:\n",
    "    pickle.dump(gs_rf_all, f)"
   ]
  },
  {
   "cell_type": "code",
   "execution_count": 86,
   "metadata": {},
   "outputs": [],
   "source": [
    "with open('../assets/rf_hurricane.pkl', 'wb+') as f:\n",
    "    pickle.dump(gs_rf_sh, f)"
   ]
  },
  {
   "cell_type": "code",
   "execution_count": 87,
   "metadata": {},
   "outputs": [],
   "source": [
    "with open('../assets/rf_tornado.pkl', 'wb+') as f:\n",
    "    pickle.dump(gs_rf_ot, f)"
   ]
  },
  {
   "cell_type": "code",
   "execution_count": 88,
   "metadata": {},
   "outputs": [],
   "source": [
    "with open('../assets/lr_hurricane.pkl', 'wb+') as f:\n",
    "    pickle.dump(gs_lr_sh, f)"
   ]
  },
  {
   "cell_type": "code",
   "execution_count": 89,
   "metadata": {},
   "outputs": [],
   "source": [
    "with open('../assets/lr_flood.pkl', 'wb+') as f:\n",
    "    pickle.dump(gs_lr_fl, f)"
   ]
  },
  {
   "cell_type": "code",
   "execution_count": 90,
   "metadata": {},
   "outputs": [],
   "source": [
    "with open('../assets/lr_all.pkl', 'wb+') as f:\n",
    "    pickle.dump(gs_lr_all, f)"
   ]
  },
  {
   "cell_type": "code",
   "execution_count": 91,
   "metadata": {},
   "outputs": [],
   "source": [
    "with open('../assets/lr_tornado.pkl', 'wb+') as f:\n",
    "    pickle.dump(gs_lr_ot, f)"
   ]
  }
 ],
 "metadata": {
  "kernelspec": {
   "display_name": "Python 3",
   "language": "python",
   "name": "python3"
  },
  "language_info": {
   "codemirror_mode": {
    "name": "ipython",
    "version": 3
   },
   "file_extension": ".py",
   "mimetype": "text/x-python",
   "name": "python",
   "nbconvert_exporter": "python",
   "pygments_lexer": "ipython3",
   "version": "3.7.1"
  }
 },
 "nbformat": 4,
 "nbformat_minor": 2
}
