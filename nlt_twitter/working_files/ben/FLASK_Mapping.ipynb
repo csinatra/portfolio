{
 "cells": [
  {
   "cell_type": "code",
   "execution_count": 22,
   "metadata": {},
   "outputs": [],
   "source": [
    "import pandas as pd\n",
    "import csv"
   ]
  },
  {
   "cell_type": "code",
   "execution_count": 31,
   "metadata": {},
   "outputs": [],
   "source": [
    "cities = ['Charlotte, NC', \n",
    "          'Atlanta, GA', \n",
    "          'Memphis, TN', \n",
    "          'New Orleans, LA', \n",
    "          'Little Rock, AR'\n",
    "          ]"
   ]
  },
  {
   "cell_type": "code",
   "execution_count": 32,
   "metadata": {},
   "outputs": [],
   "source": [
    "df = pd.DataFrame(cities, columns=['City'])"
   ]
  },
  {
   "cell_type": "code",
   "execution_count": 33,
   "metadata": {},
   "outputs": [],
   "source": [
    "df['Latitude'] = [35.227085,\n",
    "                  33.753746,\n",
    "                  35.14953,\n",
    "                  29.951065,\n",
    "                  34.746483\n",
    "                 ]"
   ]
  },
  {
   "cell_type": "code",
   "execution_count": 34,
   "metadata": {},
   "outputs": [],
   "source": [
    "df['Longitude'] = [-80.843124, \n",
    "                   -84.386330,\n",
    "                   -90.04898,\n",
    "                   -90.071533,\n",
    "                   -92.289597\n",
    "                  ]"
   ]
  },
  {
   "cell_type": "code",
   "execution_count": 35,
   "metadata": {},
   "outputs": [],
   "source": [
    "df['Start_Date'] = ['2019-01-08', \n",
    "                    '2019-01-10',\n",
    "                    '2019-01-12',\n",
    "                    '2019-01-15',\n",
    "                    '2019-01-17'\n",
    "                   ]"
   ]
  },
  {
   "cell_type": "code",
   "execution_count": 36,
   "metadata": {},
   "outputs": [],
   "source": [
    "df.to_csv('./justintimberlake_tweets_locations.csv')"
   ]
  },
  {
   "cell_type": "code",
   "execution_count": 37,
   "metadata": {},
   "outputs": [
    {
     "data": {
      "text/plain": [
       "Index(['City', 'Latitude', 'Longitude', 'Start_Date'], dtype='object')"
      ]
     },
     "execution_count": 37,
     "metadata": {},
     "output_type": "execute_result"
    }
   ],
   "source": [
    "df.columns"
   ]
  },
  {
   "cell_type": "markdown",
   "metadata": {},
   "source": [
    "`export FLASK_APP=dashboard.py`<br>\n",
    "`flask run`"
   ]
  },
  {
   "cell_type": "markdown",
   "metadata": {},
   "source": [
    "- run this code"
   ]
  },
  {
   "cell_type": "markdown",
   "metadata": {},
   "source": [
    " - visit http://127.0.0.1:5000/"
   ]
  },
  {
   "cell_type": "code",
   "execution_count": null,
   "metadata": {},
   "outputs": [],
   "source": []
  }
 ],
 "metadata": {
  "kernelspec": {
   "display_name": "Python 3",
   "language": "python",
   "name": "python3"
  },
  "language_info": {
   "codemirror_mode": {
    "name": "ipython",
    "version": 3
   },
   "file_extension": ".py",
   "mimetype": "text/x-python",
   "name": "python",
   "nbconvert_exporter": "python",
   "pygments_lexer": "ipython3",
   "version": "3.6.8"
  }
 },
 "nbformat": 4,
 "nbformat_minor": 2
}
