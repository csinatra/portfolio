{
 "cells": [
  {
   "cell_type": "markdown",
   "metadata": {},
   "source": [
    "# Mapping Simulation"
   ]
  },
  {
   "cell_type": "markdown",
   "metadata": {},
   "source": [
    "##### This is code is built out to simulate mapping processed and classified geotagged tweets in a Flask App. For this example, we will generate 700 off-topic samples and 300 on-topic samples. The on-topic samples will be both diffuse and highly localized, with the localized samples representing a high-need area such as a disaster epicenter."
   ]
  },
  {
   "cell_type": "markdown",
   "metadata": {},
   "source": [
    "## Contents\n",
    "-  [Import Alberta Floods Data](#Import-Alberta-Floods-Data)\n",
    "-  [Generate Geo-Coordinates](#Generate-Geo-Coordinates)\n",
    "-  [Combine DataFrames](#Combine-DataFrames)\n",
    "-  [Save DataFrame](#Save-DataFrame)\n",
    "-  [Launch Flask App](#Launch-Flask-App)"
   ]
  },
  {
   "cell_type": "code",
   "execution_count": 1,
   "metadata": {},
   "outputs": [],
   "source": [
    "import csv\n",
    "import pandas as pd\n",
    "import numpy as np\n",
    "\n",
    "from sklearn.utils import shuffle"
   ]
  },
  {
   "cell_type": "markdown",
   "metadata": {},
   "source": [
    "## Import Alberta Floods Data"
   ]
  },
  {
   "cell_type": "code",
   "execution_count": 2,
   "metadata": {},
   "outputs": [],
   "source": [
    "alberta_df = pd.read_csv('../data/CrisisLexT6/2013_Alberta_Floods/2013_Alberta_Floods-ontopic_offtopic.csv')"
   ]
  },
  {
   "cell_type": "markdown",
   "metadata": {},
   "source": [
    "## Generate Geo-Coordinates"
   ]
  },
  {
   "cell_type": "markdown",
   "metadata": {},
   "source": [
    "### Off-Topic"
   ]
  },
  {
   "cell_type": "markdown",
   "metadata": {},
   "source": [
    "Select 700 samples off-topic samples for the mapping demo and assign it to dataframe `flood_df`."
   ]
  },
  {
   "cell_type": "code",
   "execution_count": 3,
   "metadata": {},
   "outputs": [],
   "source": [
    "flood_df = alberta_df[[' tweet', ' label']][alberta_df[' label'] == 'off-topic'][:700]"
   ]
  },
  {
   "cell_type": "markdown",
   "metadata": {},
   "source": [
    "Rename columns"
   ]
  },
  {
   "cell_type": "code",
   "execution_count": 4,
   "metadata": {},
   "outputs": [],
   "source": [
    "flood_df.rename(columns = {' tweet':'tweet', ' label':'label'}, inplace=True)"
   ]
  },
  {
   "cell_type": "markdown",
   "metadata": {},
   "source": [
    "Reset index in order to merge it with other dataframes."
   ]
  },
  {
   "cell_type": "code",
   "execution_count": 5,
   "metadata": {},
   "outputs": [],
   "source": [
    "flood_df.reset_index(drop=True, inplace=True)"
   ]
  },
  {
   "cell_type": "markdown",
   "metadata": {},
   "source": [
    "Randomly generate geo-coordinates representing a geo-fenced Twitter query and add the coordinates to the dataframe."
   ]
  },
  {
   "cell_type": "code",
   "execution_count": 6,
   "metadata": {},
   "outputs": [],
   "source": [
    "lat = pd.DataFrame(np.random.uniform(33.691060, 34.176593, 900))\n",
    "long = pd.DataFrame(np.random.uniform(-118.022506, -117.134077, 900))"
   ]
  },
  {
   "cell_type": "code",
   "execution_count": 7,
   "metadata": {},
   "outputs": [],
   "source": [
    "flood_df['lat'] = lat\n",
    "flood_df['long'] = long"
   ]
  },
  {
   "cell_type": "markdown",
   "metadata": {},
   "source": [
    "Check that the coordinates were properly added to each sample."
   ]
  },
  {
   "cell_type": "code",
   "execution_count": 8,
   "metadata": {},
   "outputs": [
    {
     "data": {
      "text/html": [
       "<div>\n",
       "<style scoped>\n",
       "    .dataframe tbody tr th:only-of-type {\n",
       "        vertical-align: middle;\n",
       "    }\n",
       "\n",
       "    .dataframe tbody tr th {\n",
       "        vertical-align: top;\n",
       "    }\n",
       "\n",
       "    .dataframe thead th {\n",
       "        text-align: right;\n",
       "    }\n",
       "</style>\n",
       "<table border=\"1\" class=\"dataframe\">\n",
       "  <thead>\n",
       "    <tr style=\"text-align: right;\">\n",
       "      <th></th>\n",
       "      <th>tweet</th>\n",
       "      <th>label</th>\n",
       "      <th>lat</th>\n",
       "      <th>long</th>\n",
       "    </tr>\n",
       "  </thead>\n",
       "  <tbody>\n",
       "    <tr>\n",
       "      <th>0</th>\n",
       "      <td>@Jay1972Jay Nope. Mid 80's. It's off Metallica...</td>\n",
       "      <td>off-topic</td>\n",
       "      <td>33.854271</td>\n",
       "      <td>-117.643958</td>\n",
       "    </tr>\n",
       "    <tr>\n",
       "      <th>1</th>\n",
       "      <td>Nothing like a :16 second downpour to give us ...</td>\n",
       "      <td>off-topic</td>\n",
       "      <td>33.955365</td>\n",
       "      <td>-117.570415</td>\n",
       "    </tr>\n",
       "    <tr>\n",
       "      <th>2</th>\n",
       "      <td>Party hard , suns down , still warm , lovin li...</td>\n",
       "      <td>off-topic</td>\n",
       "      <td>34.095789</td>\n",
       "      <td>-117.272218</td>\n",
       "    </tr>\n",
       "    <tr>\n",
       "      <th>3</th>\n",
       "      <td>@Exclusionzone if you compare yourself to wate...</td>\n",
       "      <td>off-topic</td>\n",
       "      <td>33.800306</td>\n",
       "      <td>-117.154119</td>\n",
       "    </tr>\n",
       "    <tr>\n",
       "      <th>4</th>\n",
       "      <td>and is usually viewed in a #heroic light, rece...</td>\n",
       "      <td>off-topic</td>\n",
       "      <td>34.045244</td>\n",
       "      <td>-117.623747</td>\n",
       "    </tr>\n",
       "  </tbody>\n",
       "</table>\n",
       "</div>"
      ],
      "text/plain": [
       "                                               tweet      label        lat  \\\n",
       "0  @Jay1972Jay Nope. Mid 80's. It's off Metallica...  off-topic  33.854271   \n",
       "1  Nothing like a :16 second downpour to give us ...  off-topic  33.955365   \n",
       "2  Party hard , suns down , still warm , lovin li...  off-topic  34.095789   \n",
       "3  @Exclusionzone if you compare yourself to wate...  off-topic  33.800306   \n",
       "4  and is usually viewed in a #heroic light, rece...  off-topic  34.045244   \n",
       "\n",
       "         long  \n",
       "0 -117.643958  \n",
       "1 -117.570415  \n",
       "2 -117.272218  \n",
       "3 -117.154119  \n",
       "4 -117.623747  "
      ]
     },
     "execution_count": 8,
     "metadata": {},
     "output_type": "execute_result"
    }
   ],
   "source": [
    "flood_df.head()"
   ]
  },
  {
   "cell_type": "markdown",
   "metadata": {},
   "source": [
    "### On-Topic - Localized"
   ]
  },
  {
   "cell_type": "markdown",
   "metadata": {},
   "source": [
    "We'll be repeating the process for 100 localized on-topic examples. We expect to see more off-topic than on-topic tweets during natural disasters so a smaller sample size is taken. These will be assigned to dataframe `flood_df2`."
   ]
  },
  {
   "cell_type": "code",
   "execution_count": 9,
   "metadata": {},
   "outputs": [],
   "source": [
    "flood_df2 = alberta_df[[' tweet', ' label']][alberta_df[' label'] == 'on-topic'][:100]\n",
    "flood_df2.rename(columns = {' tweet':'tweet', ' label':'label'}, inplace=True)\n",
    "flood_df2.reset_index(drop=True, inplace=True)"
   ]
  },
  {
   "cell_type": "markdown",
   "metadata": {},
   "source": [
    "Generate coordinates within a smaller bounding box to simulate higher density of emergency-related Twitter traffic."
   ]
  },
  {
   "cell_type": "code",
   "execution_count": 10,
   "metadata": {},
   "outputs": [],
   "source": [
    "lat2 = pd.Series(np.random.uniform(34.080250, 34.027232, 100))\n",
    "long2 = pd.Series(np.random.uniform(-117.378770,  -117.314329, 100))"
   ]
  },
  {
   "cell_type": "code",
   "execution_count": 11,
   "metadata": {},
   "outputs": [],
   "source": [
    "flood_df2['lat'] = lat2\n",
    "flood_df2['long'] = long2"
   ]
  },
  {
   "cell_type": "code",
   "execution_count": 12,
   "metadata": {},
   "outputs": [
    {
     "data": {
      "text/html": [
       "<div>\n",
       "<style scoped>\n",
       "    .dataframe tbody tr th:only-of-type {\n",
       "        vertical-align: middle;\n",
       "    }\n",
       "\n",
       "    .dataframe tbody tr th {\n",
       "        vertical-align: top;\n",
       "    }\n",
       "\n",
       "    .dataframe thead th {\n",
       "        text-align: right;\n",
       "    }\n",
       "</style>\n",
       "<table border=\"1\" class=\"dataframe\">\n",
       "  <thead>\n",
       "    <tr style=\"text-align: right;\">\n",
       "      <th></th>\n",
       "      <th>tweet</th>\n",
       "      <th>label</th>\n",
       "      <th>lat</th>\n",
       "      <th>long</th>\n",
       "    </tr>\n",
       "  </thead>\n",
       "  <tbody>\n",
       "    <tr>\n",
       "      <th>0</th>\n",
       "      <td>@NelsonTagoona so glad that you missed the flo...</td>\n",
       "      <td>on-topic</td>\n",
       "      <td>34.043506</td>\n",
       "      <td>-117.343093</td>\n",
       "    </tr>\n",
       "    <tr>\n",
       "      <th>1</th>\n",
       "      <td>@LiseMouskaal 17th Avenue is flooded from McLe...</td>\n",
       "      <td>on-topic</td>\n",
       "      <td>34.048252</td>\n",
       "      <td>-117.373203</td>\n",
       "    </tr>\n",
       "    <tr>\n",
       "      <th>2</th>\n",
       "      <td>@Crackmacs same seems like 1/2 of#yyc is shut ...</td>\n",
       "      <td>on-topic</td>\n",
       "      <td>34.036121</td>\n",
       "      <td>-117.371700</td>\n",
       "    </tr>\n",
       "    <tr>\n",
       "      <th>3</th>\n",
       "      <td>Supreme bug protection. Cooking for a house fu...</td>\n",
       "      <td>on-topic</td>\n",
       "      <td>34.032642</td>\n",
       "      <td>-117.369655</td>\n",
       "    </tr>\n",
       "    <tr>\n",
       "      <th>4</th>\n",
       "      <td>Lies Okotoks tells itself... The river only fl...</td>\n",
       "      <td>on-topic</td>\n",
       "      <td>34.055958</td>\n",
       "      <td>-117.370801</td>\n",
       "    </tr>\n",
       "  </tbody>\n",
       "</table>\n",
       "</div>"
      ],
      "text/plain": [
       "                                               tweet     label        lat  \\\n",
       "0  @NelsonTagoona so glad that you missed the flo...  on-topic  34.043506   \n",
       "1  @LiseMouskaal 17th Avenue is flooded from McLe...  on-topic  34.048252   \n",
       "2  @Crackmacs same seems like 1/2 of#yyc is shut ...  on-topic  34.036121   \n",
       "3  Supreme bug protection. Cooking for a house fu...  on-topic  34.032642   \n",
       "4  Lies Okotoks tells itself... The river only fl...  on-topic  34.055958   \n",
       "\n",
       "         long  \n",
       "0 -117.343093  \n",
       "1 -117.373203  \n",
       "2 -117.371700  \n",
       "3 -117.369655  \n",
       "4 -117.370801  "
      ]
     },
     "execution_count": 12,
     "metadata": {},
     "output_type": "execute_result"
    }
   ],
   "source": [
    "flood_df2.head()"
   ]
  },
  {
   "cell_type": "markdown",
   "metadata": {},
   "source": [
    "### On-Topic - Diffused"
   ]
  },
  {
   "cell_type": "markdown",
   "metadata": {},
   "source": [
    "Create 200 diffuse samples that are on-topic, representing general conversation about a disaster. These will be assigned to dataframe `flood_df3`."
   ]
  },
  {
   "cell_type": "code",
   "execution_count": 13,
   "metadata": {},
   "outputs": [],
   "source": [
    "flood_df3 = alberta_df[[' tweet', ' label']][alberta_df[' label'] == 'on-topic'][100:300]\n",
    "flood_df3.rename(columns = {' tweet':'tweet', ' label':'label'}, inplace=True)\n",
    "flood_df3.reset_index(drop=True, inplace=True)"
   ]
  },
  {
   "cell_type": "code",
   "execution_count": 14,
   "metadata": {},
   "outputs": [],
   "source": [
    "lat3 = pd.DataFrame(np.random.uniform(33.691060, 34.176593, 200))\n",
    "long3 = pd.DataFrame(np.random.uniform(-118.022506, -117.134077, 200))"
   ]
  },
  {
   "cell_type": "code",
   "execution_count": 15,
   "metadata": {},
   "outputs": [],
   "source": [
    "flood_df3['lat'] = lat3\n",
    "flood_df3['long'] = long3"
   ]
  },
  {
   "cell_type": "code",
   "execution_count": 16,
   "metadata": {},
   "outputs": [
    {
     "data": {
      "text/html": [
       "<div>\n",
       "<style scoped>\n",
       "    .dataframe tbody tr th:only-of-type {\n",
       "        vertical-align: middle;\n",
       "    }\n",
       "\n",
       "    .dataframe tbody tr th {\n",
       "        vertical-align: top;\n",
       "    }\n",
       "\n",
       "    .dataframe thead th {\n",
       "        text-align: right;\n",
       "    }\n",
       "</style>\n",
       "<table border=\"1\" class=\"dataframe\">\n",
       "  <thead>\n",
       "    <tr style=\"text-align: right;\">\n",
       "      <th></th>\n",
       "      <th>tweet</th>\n",
       "      <th>label</th>\n",
       "      <th>lat</th>\n",
       "      <th>long</th>\n",
       "    </tr>\n",
       "  </thead>\n",
       "  <tbody>\n",
       "    <tr>\n",
       "      <th>0</th>\n",
       "      <td>Flood Party Update #3: My pants took themselve...</td>\n",
       "      <td>on-topic</td>\n",
       "      <td>34.111649</td>\n",
       "      <td>-117.520021</td>\n",
       "    </tr>\n",
       "    <tr>\n",
       "      <th>1</th>\n",
       "      <td>Help rescue workers by staying home for the re...</td>\n",
       "      <td>on-topic</td>\n",
       "      <td>33.712400</td>\n",
       "      <td>-117.137996</td>\n",
       "    </tr>\n",
       "    <tr>\n",
       "      <th>2</th>\n",
       "      <td>@jeanniedixon the water is 3 to 4 metres deep ...</td>\n",
       "      <td>on-topic</td>\n",
       "      <td>34.016128</td>\n",
       "      <td>-118.000052</td>\n",
       "    </tr>\n",
       "    <tr>\n",
       "      <th>3</th>\n",
       "      <td>@thomaskeeper as long as resources aren't take...</td>\n",
       "      <td>on-topic</td>\n",
       "      <td>33.855105</td>\n",
       "      <td>-117.198551</td>\n",
       "    </tr>\n",
       "    <tr>\n",
       "      <th>4</th>\n",
       "      <td>Just drove through southern Alberta. All exits...</td>\n",
       "      <td>on-topic</td>\n",
       "      <td>33.698364</td>\n",
       "      <td>-117.152067</td>\n",
       "    </tr>\n",
       "  </tbody>\n",
       "</table>\n",
       "</div>"
      ],
      "text/plain": [
       "                                               tweet     label        lat  \\\n",
       "0  Flood Party Update #3: My pants took themselve...  on-topic  34.111649   \n",
       "1  Help rescue workers by staying home for the re...  on-topic  33.712400   \n",
       "2  @jeanniedixon the water is 3 to 4 metres deep ...  on-topic  34.016128   \n",
       "3  @thomaskeeper as long as resources aren't take...  on-topic  33.855105   \n",
       "4  Just drove through southern Alberta. All exits...  on-topic  33.698364   \n",
       "\n",
       "         long  \n",
       "0 -117.520021  \n",
       "1 -117.137996  \n",
       "2 -118.000052  \n",
       "3 -117.198551  \n",
       "4 -117.152067  "
      ]
     },
     "execution_count": 16,
     "metadata": {},
     "output_type": "execute_result"
    }
   ],
   "source": [
    "flood_df3.head()"
   ]
  },
  {
   "cell_type": "markdown",
   "metadata": {},
   "source": [
    "## Combine DataFrames"
   ]
  },
  {
   "cell_type": "markdown",
   "metadata": {},
   "source": [
    "Concatenate the three sample groups and shuffle to represent data processed by our classification pipeline."
   ]
  },
  {
   "cell_type": "code",
   "execution_count": 17,
   "metadata": {},
   "outputs": [],
   "source": [
    "flood_df = shuffle(pd.concat([flood_df, flood_df2, flood_df3], axis=0))"
   ]
  },
  {
   "cell_type": "markdown",
   "metadata": {},
   "source": [
    "Reset index and verify proper output."
   ]
  },
  {
   "cell_type": "code",
   "execution_count": 18,
   "metadata": {},
   "outputs": [],
   "source": [
    "flood_df.reset_index(drop=True, inplace=True)"
   ]
  },
  {
   "cell_type": "code",
   "execution_count": 19,
   "metadata": {},
   "outputs": [
    {
     "data": {
      "text/html": [
       "<div>\n",
       "<style scoped>\n",
       "    .dataframe tbody tr th:only-of-type {\n",
       "        vertical-align: middle;\n",
       "    }\n",
       "\n",
       "    .dataframe tbody tr th {\n",
       "        vertical-align: top;\n",
       "    }\n",
       "\n",
       "    .dataframe thead th {\n",
       "        text-align: right;\n",
       "    }\n",
       "</style>\n",
       "<table border=\"1\" class=\"dataframe\">\n",
       "  <thead>\n",
       "    <tr style=\"text-align: right;\">\n",
       "      <th></th>\n",
       "      <th>tweet</th>\n",
       "      <th>label</th>\n",
       "      <th>lat</th>\n",
       "      <th>long</th>\n",
       "    </tr>\n",
       "  </thead>\n",
       "  <tbody>\n",
       "    <tr>\n",
       "      <th>0</th>\n",
       "      <td>@jackshope They are airlifting our crew into C...</td>\n",
       "      <td>off-topic</td>\n",
       "      <td>34.082321</td>\n",
       "      <td>-117.335853</td>\n",
       "    </tr>\n",
       "    <tr>\n",
       "      <th>1</th>\n",
       "      <td>#Skywire was boring, what was exciting was whe...</td>\n",
       "      <td>off-topic</td>\n",
       "      <td>34.122635</td>\n",
       "      <td>-117.243592</td>\n",
       "    </tr>\n",
       "    <tr>\n",
       "      <th>2</th>\n",
       "      <td>@WBrettWilson @TarzanDan whenever works for yo...</td>\n",
       "      <td>off-topic</td>\n",
       "      <td>34.092197</td>\n",
       "      <td>-117.266696</td>\n",
       "    </tr>\n",
       "    <tr>\n",
       "      <th>3</th>\n",
       "      <td>@joshclassenCTV you are dead wrong sir there i...</td>\n",
       "      <td>on-topic</td>\n",
       "      <td>34.049241</td>\n",
       "      <td>-117.378255</td>\n",
       "    </tr>\n",
       "    <tr>\n",
       "      <th>4</th>\n",
       "      <td>I'm at Canada Olympic Park (Calgary, AB) http:...</td>\n",
       "      <td>off-topic</td>\n",
       "      <td>33.704540</td>\n",
       "      <td>-117.192101</td>\n",
       "    </tr>\n",
       "  </tbody>\n",
       "</table>\n",
       "</div>"
      ],
      "text/plain": [
       "                                               tweet      label        lat  \\\n",
       "0  @jackshope They are airlifting our crew into C...  off-topic  34.082321   \n",
       "1  #Skywire was boring, what was exciting was whe...  off-topic  34.122635   \n",
       "2  @WBrettWilson @TarzanDan whenever works for yo...  off-topic  34.092197   \n",
       "3  @joshclassenCTV you are dead wrong sir there i...   on-topic  34.049241   \n",
       "4  I'm at Canada Olympic Park (Calgary, AB) http:...  off-topic  33.704540   \n",
       "\n",
       "         long  \n",
       "0 -117.335853  \n",
       "1 -117.243592  \n",
       "2 -117.266696  \n",
       "3 -117.378255  \n",
       "4 -117.192101  "
      ]
     },
     "execution_count": 19,
     "metadata": {},
     "output_type": "execute_result"
    }
   ],
   "source": [
    "flood_df.head()"
   ]
  },
  {
   "cell_type": "markdown",
   "metadata": {},
   "source": [
    "## Save DataFrame"
   ]
  },
  {
   "cell_type": "markdown",
   "metadata": {},
   "source": [
    "Export to a CSV file in order to be read in by the Flask App."
   ]
  },
  {
   "cell_type": "code",
   "execution_count": 20,
   "metadata": {},
   "outputs": [],
   "source": [
    "flood_df.to_csv('../data/map_data.csv')"
   ]
  },
  {
   "cell_type": "markdown",
   "metadata": {},
   "source": [
    "## Launch Flask App"
   ]
  },
  {
   "cell_type": "markdown",
   "metadata": {},
   "source": [
    "**In terminal**: \n",
    "1. `cd` into working directory\n",
    "2.  `export FLASK_APP=../assets/dashboard.py`\n",
    "3.  `flask run`\n",
    "\n",
    "**Visit http://127.0.0.1:5000/**"
   ]
  }
 ],
 "metadata": {
  "kernelspec": {
   "display_name": "Python 3",
   "language": "python",
   "name": "python3"
  },
  "language_info": {
   "codemirror_mode": {
    "name": "ipython",
    "version": 3
   },
   "file_extension": ".py",
   "mimetype": "text/x-python",
   "name": "python",
   "nbconvert_exporter": "python",
   "pygments_lexer": "ipython3",
   "version": "3.6.5"
  }
 },
 "nbformat": 4,
 "nbformat_minor": 2
}
