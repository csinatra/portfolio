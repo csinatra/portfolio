{
 "cells": [
  {
   "cell_type": "markdown",
   "metadata": {},
   "source": [
    "# Map Demo Code"
   ]
  },
  {
   "cell_type": "markdown",
   "metadata": {},
   "source": [
    "This is code is built out to simulate mapping processed and classified geotagged tweets in a Flask app. For this example, we will generate 700 off-topic samples and 300 on-topic samples. The on-topic samples will be both diffuse and highly localized, with the localized samples representing a high-need area such as a disaster epicenter."
   ]
  },
  {
   "cell_type": "code",
   "execution_count": 1,
   "metadata": {},
   "outputs": [],
   "source": [
    "import csv\n",
    "import pandas as pd\n",
    "import numpy as np\n",
    "\n",
    "from sklearn.utils import shuffle"
   ]
  },
  {
   "cell_type": "markdown",
   "metadata": {},
   "source": [
    "Reading in the labeled twitter data from the CrisisLex dataset."
   ]
  },
  {
   "cell_type": "code",
   "execution_count": 2,
   "metadata": {},
   "outputs": [],
   "source": [
    "alberta_df = pd.read_csv('data/CrisisLexT6/2013_Alberta_Floods/2013_Alberta_Floods-ontopic_offtopic.csv')"
   ]
  },
  {
   "cell_type": "markdown",
   "metadata": {},
   "source": [
    "Selecting 700 samples off-topic samples for the mapping demo"
   ]
  },
  {
   "cell_type": "code",
   "execution_count": 4,
   "metadata": {},
   "outputs": [],
   "source": [
    "flood_df = alberta_df[[' tweet', ' label']][alberta_df[' label'] == 'off-topic'][:700]"
   ]
  },
  {
   "cell_type": "markdown",
   "metadata": {},
   "source": [
    "Fixing labels"
   ]
  },
  {
   "cell_type": "code",
   "execution_count": 5,
   "metadata": {},
   "outputs": [],
   "source": [
    "flood_df.rename(columns = {' tweet':'tweet', ' label':'label'}, inplace=True)"
   ]
  },
  {
   "cell_type": "markdown",
   "metadata": {},
   "source": [
    "Resetting the index"
   ]
  },
  {
   "cell_type": "code",
   "execution_count": 6,
   "metadata": {},
   "outputs": [],
   "source": [
    "flood_df.reset_index(drop=True, inplace=True)"
   ]
  },
  {
   "cell_type": "markdown",
   "metadata": {},
   "source": [
    "Randomly generating geocoordinates representing a geofenced Twitter query"
   ]
  },
  {
   "cell_type": "code",
   "execution_count": 7,
   "metadata": {},
   "outputs": [],
   "source": [
    "lat = pd.DataFrame(np.random.uniform(33.691060, 34.176593, 900))\n",
    "long = pd.DataFrame(np.random.uniform(-118.022506, -117.134077, 900))"
   ]
  },
  {
   "cell_type": "markdown",
   "metadata": {},
   "source": [
    "Adding the coordinates to the dataframe"
   ]
  },
  {
   "cell_type": "code",
   "execution_count": 8,
   "metadata": {},
   "outputs": [],
   "source": [
    "flood_df['lat'] = lat\n",
    "flood_df['long'] = long"
   ]
  },
  {
   "cell_type": "markdown",
   "metadata": {},
   "source": [
    "Checking that the coordinates were properly added to each sample"
   ]
  },
  {
   "cell_type": "code",
   "execution_count": 9,
   "metadata": {},
   "outputs": [
    {
     "data": {
      "text/html": [
       "<div>\n",
       "<style scoped>\n",
       "    .dataframe tbody tr th:only-of-type {\n",
       "        vertical-align: middle;\n",
       "    }\n",
       "\n",
       "    .dataframe tbody tr th {\n",
       "        vertical-align: top;\n",
       "    }\n",
       "\n",
       "    .dataframe thead th {\n",
       "        text-align: right;\n",
       "    }\n",
       "</style>\n",
       "<table border=\"1\" class=\"dataframe\">\n",
       "  <thead>\n",
       "    <tr style=\"text-align: right;\">\n",
       "      <th></th>\n",
       "      <th>tweet</th>\n",
       "      <th>label</th>\n",
       "      <th>lat</th>\n",
       "      <th>long</th>\n",
       "    </tr>\n",
       "  </thead>\n",
       "  <tbody>\n",
       "    <tr>\n",
       "      <th>0</th>\n",
       "      <td>@Jay1972Jay Nope. Mid 80's. It's off Metallica...</td>\n",
       "      <td>off-topic</td>\n",
       "      <td>34.152273</td>\n",
       "      <td>-117.762256</td>\n",
       "    </tr>\n",
       "    <tr>\n",
       "      <th>1</th>\n",
       "      <td>Nothing like a :16 second downpour to give us ...</td>\n",
       "      <td>off-topic</td>\n",
       "      <td>33.915592</td>\n",
       "      <td>-117.258652</td>\n",
       "    </tr>\n",
       "    <tr>\n",
       "      <th>2</th>\n",
       "      <td>Party hard , suns down , still warm , lovin li...</td>\n",
       "      <td>off-topic</td>\n",
       "      <td>34.110415</td>\n",
       "      <td>-117.416912</td>\n",
       "    </tr>\n",
       "    <tr>\n",
       "      <th>3</th>\n",
       "      <td>@Exclusionzone if you compare yourself to wate...</td>\n",
       "      <td>off-topic</td>\n",
       "      <td>33.864682</td>\n",
       "      <td>-117.220539</td>\n",
       "    </tr>\n",
       "    <tr>\n",
       "      <th>4</th>\n",
       "      <td>and is usually viewed in a #heroic light, rece...</td>\n",
       "      <td>off-topic</td>\n",
       "      <td>33.839287</td>\n",
       "      <td>-117.353948</td>\n",
       "    </tr>\n",
       "  </tbody>\n",
       "</table>\n",
       "</div>"
      ],
      "text/plain": [
       "                                               tweet      label        lat  \\\n",
       "0  @Jay1972Jay Nope. Mid 80's. It's off Metallica...  off-topic  34.152273   \n",
       "1  Nothing like a :16 second downpour to give us ...  off-topic  33.915592   \n",
       "2  Party hard , suns down , still warm , lovin li...  off-topic  34.110415   \n",
       "3  @Exclusionzone if you compare yourself to wate...  off-topic  33.864682   \n",
       "4  and is usually viewed in a #heroic light, rece...  off-topic  33.839287   \n",
       "\n",
       "         long  \n",
       "0 -117.762256  \n",
       "1 -117.258652  \n",
       "2 -117.416912  \n",
       "3 -117.220539  \n",
       "4 -117.353948  "
      ]
     },
     "execution_count": 9,
     "metadata": {},
     "output_type": "execute_result"
    }
   ],
   "source": [
    "flood_df.head()"
   ]
  },
  {
   "cell_type": "markdown",
   "metadata": {},
   "source": [
    "Repeating the process for 100 localized on-topic examples"
   ]
  },
  {
   "cell_type": "code",
   "execution_count": 10,
   "metadata": {},
   "outputs": [],
   "source": [
    "flood_df2 = alberta_df[[' tweet', ' label']][alberta_df[' label'] == 'on-topic'][:100]"
   ]
  },
  {
   "cell_type": "code",
   "execution_count": 11,
   "metadata": {},
   "outputs": [],
   "source": [
    "flood_df2.rename(columns = {' tweet':'tweet', ' label':'label'}, inplace=True)"
   ]
  },
  {
   "cell_type": "code",
   "execution_count": 12,
   "metadata": {},
   "outputs": [],
   "source": [
    "flood_df2.reset_index(drop=True, inplace=True)"
   ]
  },
  {
   "cell_type": "markdown",
   "metadata": {},
   "source": [
    "Generating coordinates within a smaller bounding box to simulate higher density of emergency related Twitter traffic"
   ]
  },
  {
   "cell_type": "code",
   "execution_count": 13,
   "metadata": {},
   "outputs": [],
   "source": [
    "lat2 = pd.Series(np.random.uniform(34.080250, 34.027232, 100))\n",
    "long2 = pd.Series(np.random.uniform(-117.378770,  -117.314329, 100))"
   ]
  },
  {
   "cell_type": "code",
   "execution_count": 14,
   "metadata": {},
   "outputs": [],
   "source": [
    "flood_df2['lat'] = lat2\n",
    "flood_df2['long'] = long2"
   ]
  },
  {
   "cell_type": "code",
   "execution_count": 15,
   "metadata": {},
   "outputs": [
    {
     "data": {
      "text/html": [
       "<div>\n",
       "<style scoped>\n",
       "    .dataframe tbody tr th:only-of-type {\n",
       "        vertical-align: middle;\n",
       "    }\n",
       "\n",
       "    .dataframe tbody tr th {\n",
       "        vertical-align: top;\n",
       "    }\n",
       "\n",
       "    .dataframe thead th {\n",
       "        text-align: right;\n",
       "    }\n",
       "</style>\n",
       "<table border=\"1\" class=\"dataframe\">\n",
       "  <thead>\n",
       "    <tr style=\"text-align: right;\">\n",
       "      <th></th>\n",
       "      <th>tweet</th>\n",
       "      <th>label</th>\n",
       "      <th>lat</th>\n",
       "      <th>long</th>\n",
       "    </tr>\n",
       "  </thead>\n",
       "  <tbody>\n",
       "    <tr>\n",
       "      <th>0</th>\n",
       "      <td>@NelsonTagoona so glad that you missed the flo...</td>\n",
       "      <td>on-topic</td>\n",
       "      <td>34.055422</td>\n",
       "      <td>-117.368385</td>\n",
       "    </tr>\n",
       "    <tr>\n",
       "      <th>1</th>\n",
       "      <td>@LiseMouskaal 17th Avenue is flooded from McLe...</td>\n",
       "      <td>on-topic</td>\n",
       "      <td>34.042341</td>\n",
       "      <td>-117.349695</td>\n",
       "    </tr>\n",
       "    <tr>\n",
       "      <th>2</th>\n",
       "      <td>@Crackmacs same seems like 1/2 of#yyc is shut ...</td>\n",
       "      <td>on-topic</td>\n",
       "      <td>34.072679</td>\n",
       "      <td>-117.325771</td>\n",
       "    </tr>\n",
       "    <tr>\n",
       "      <th>3</th>\n",
       "      <td>Supreme bug protection. Cooking for a house fu...</td>\n",
       "      <td>on-topic</td>\n",
       "      <td>34.075758</td>\n",
       "      <td>-117.333793</td>\n",
       "    </tr>\n",
       "    <tr>\n",
       "      <th>4</th>\n",
       "      <td>Lies Okotoks tells itself... The river only fl...</td>\n",
       "      <td>on-topic</td>\n",
       "      <td>34.072618</td>\n",
       "      <td>-117.328879</td>\n",
       "    </tr>\n",
       "  </tbody>\n",
       "</table>\n",
       "</div>"
      ],
      "text/plain": [
       "                                               tweet     label        lat  \\\n",
       "0  @NelsonTagoona so glad that you missed the flo...  on-topic  34.055422   \n",
       "1  @LiseMouskaal 17th Avenue is flooded from McLe...  on-topic  34.042341   \n",
       "2  @Crackmacs same seems like 1/2 of#yyc is shut ...  on-topic  34.072679   \n",
       "3  Supreme bug protection. Cooking for a house fu...  on-topic  34.075758   \n",
       "4  Lies Okotoks tells itself... The river only fl...  on-topic  34.072618   \n",
       "\n",
       "         long  \n",
       "0 -117.368385  \n",
       "1 -117.349695  \n",
       "2 -117.325771  \n",
       "3 -117.333793  \n",
       "4 -117.328879  "
      ]
     },
     "execution_count": 15,
     "metadata": {},
     "output_type": "execute_result"
    }
   ],
   "source": [
    "flood_df2.head()"
   ]
  },
  {
   "cell_type": "markdown",
   "metadata": {},
   "source": [
    "Creating 200 diffuse samples that are on-topic, representing general conversation about a disaster."
   ]
  },
  {
   "cell_type": "code",
   "execution_count": 16,
   "metadata": {},
   "outputs": [],
   "source": [
    "flood_df3 = alberta_df[[' tweet', ' label']][alberta_df[' label'] == 'on-topic'][100:300]"
   ]
  },
  {
   "cell_type": "code",
   "execution_count": 17,
   "metadata": {},
   "outputs": [],
   "source": [
    "flood_df3.rename(columns = {' tweet':'tweet', ' label':'label'}, inplace=True)"
   ]
  },
  {
   "cell_type": "code",
   "execution_count": 18,
   "metadata": {},
   "outputs": [],
   "source": [
    "flood_df3.reset_index(drop=True, inplace=True)"
   ]
  },
  {
   "cell_type": "code",
   "execution_count": 19,
   "metadata": {},
   "outputs": [],
   "source": [
    "lat3 = pd.DataFrame(np.random.uniform(33.691060, 34.176593, 200))\n",
    "long3 = pd.DataFrame(np.random.uniform(-118.022506, -117.134077, 200))"
   ]
  },
  {
   "cell_type": "code",
   "execution_count": 20,
   "metadata": {},
   "outputs": [],
   "source": [
    "flood_df3['lat'] = lat3\n",
    "flood_df3['long'] = long3"
   ]
  },
  {
   "cell_type": "code",
   "execution_count": 21,
   "metadata": {},
   "outputs": [
    {
     "data": {
      "text/html": [
       "<div>\n",
       "<style scoped>\n",
       "    .dataframe tbody tr th:only-of-type {\n",
       "        vertical-align: middle;\n",
       "    }\n",
       "\n",
       "    .dataframe tbody tr th {\n",
       "        vertical-align: top;\n",
       "    }\n",
       "\n",
       "    .dataframe thead th {\n",
       "        text-align: right;\n",
       "    }\n",
       "</style>\n",
       "<table border=\"1\" class=\"dataframe\">\n",
       "  <thead>\n",
       "    <tr style=\"text-align: right;\">\n",
       "      <th></th>\n",
       "      <th>tweet</th>\n",
       "      <th>label</th>\n",
       "      <th>lat</th>\n",
       "      <th>long</th>\n",
       "    </tr>\n",
       "  </thead>\n",
       "  <tbody>\n",
       "    <tr>\n",
       "      <th>0</th>\n",
       "      <td>@NelsonTagoona so glad that you missed the flo...</td>\n",
       "      <td>on-topic</td>\n",
       "      <td>33.720486</td>\n",
       "      <td>-117.140681</td>\n",
       "    </tr>\n",
       "    <tr>\n",
       "      <th>1</th>\n",
       "      <td>@LiseMouskaal 17th Avenue is flooded from McLe...</td>\n",
       "      <td>on-topic</td>\n",
       "      <td>33.802934</td>\n",
       "      <td>-117.389930</td>\n",
       "    </tr>\n",
       "    <tr>\n",
       "      <th>2</th>\n",
       "      <td>@Crackmacs same seems like 1/2 of#yyc is shut ...</td>\n",
       "      <td>on-topic</td>\n",
       "      <td>33.740254</td>\n",
       "      <td>-117.508032</td>\n",
       "    </tr>\n",
       "    <tr>\n",
       "      <th>3</th>\n",
       "      <td>Supreme bug protection. Cooking for a house fu...</td>\n",
       "      <td>on-topic</td>\n",
       "      <td>33.882427</td>\n",
       "      <td>-117.750186</td>\n",
       "    </tr>\n",
       "    <tr>\n",
       "      <th>4</th>\n",
       "      <td>Lies Okotoks tells itself... The river only fl...</td>\n",
       "      <td>on-topic</td>\n",
       "      <td>34.037415</td>\n",
       "      <td>-117.986673</td>\n",
       "    </tr>\n",
       "  </tbody>\n",
       "</table>\n",
       "</div>"
      ],
      "text/plain": [
       "                                               tweet     label        lat  \\\n",
       "0  @NelsonTagoona so glad that you missed the flo...  on-topic  33.720486   \n",
       "1  @LiseMouskaal 17th Avenue is flooded from McLe...  on-topic  33.802934   \n",
       "2  @Crackmacs same seems like 1/2 of#yyc is shut ...  on-topic  33.740254   \n",
       "3  Supreme bug protection. Cooking for a house fu...  on-topic  33.882427   \n",
       "4  Lies Okotoks tells itself... The river only fl...  on-topic  34.037415   \n",
       "\n",
       "         long  \n",
       "0 -117.140681  \n",
       "1 -117.389930  \n",
       "2 -117.508032  \n",
       "3 -117.750186  \n",
       "4 -117.986673  "
      ]
     },
     "execution_count": 21,
     "metadata": {},
     "output_type": "execute_result"
    }
   ],
   "source": [
    "flood_df3.head()"
   ]
  },
  {
   "cell_type": "markdown",
   "metadata": {},
   "source": [
    "Concatenating the three sample groups and shuffling to represent data processed by our classification pipeline."
   ]
  },
  {
   "cell_type": "code",
   "execution_count": 22,
   "metadata": {},
   "outputs": [],
   "source": [
    "flood_df = shuffle(pd.concat([flood_df, flood_df2, flood_df3], axis=0))"
   ]
  },
  {
   "cell_type": "markdown",
   "metadata": {},
   "source": [
    "Resetting the index"
   ]
  },
  {
   "cell_type": "code",
   "execution_count": 23,
   "metadata": {},
   "outputs": [],
   "source": [
    "flood_df.reset_index(drop=True, inplace=True)"
   ]
  },
  {
   "cell_type": "markdown",
   "metadata": {},
   "source": [
    "Verifying proper output"
   ]
  },
  {
   "cell_type": "code",
   "execution_count": 24,
   "metadata": {},
   "outputs": [
    {
     "data": {
      "text/html": [
       "<div>\n",
       "<style scoped>\n",
       "    .dataframe tbody tr th:only-of-type {\n",
       "        vertical-align: middle;\n",
       "    }\n",
       "\n",
       "    .dataframe tbody tr th {\n",
       "        vertical-align: top;\n",
       "    }\n",
       "\n",
       "    .dataframe thead th {\n",
       "        text-align: right;\n",
       "    }\n",
       "</style>\n",
       "<table border=\"1\" class=\"dataframe\">\n",
       "  <thead>\n",
       "    <tr style=\"text-align: right;\">\n",
       "      <th></th>\n",
       "      <th>tweet</th>\n",
       "      <th>label</th>\n",
       "      <th>lat</th>\n",
       "      <th>long</th>\n",
       "    </tr>\n",
       "  </thead>\n",
       "  <tbody>\n",
       "    <tr>\n",
       "      <th>0</th>\n",
       "      <td>@FactsInYourFace: In Iowa, it's illegal to pre...</td>\n",
       "      <td>off-topic</td>\n",
       "      <td>34.042372</td>\n",
       "      <td>-117.711962</td>\n",
       "    </tr>\n",
       "    <tr>\n",
       "      <th>1</th>\n",
       "      <td>@Traceybregman RT pls Canadian or not...it's t...</td>\n",
       "      <td>on-topic</td>\n",
       "      <td>33.762928</td>\n",
       "      <td>-117.798810</td>\n",
       "    </tr>\n",
       "    <tr>\n",
       "      <th>2</th>\n",
       "      <td>You'll never make a mistake quite as large as ...</td>\n",
       "      <td>off-topic</td>\n",
       "      <td>34.104322</td>\n",
       "      <td>-117.712032</td>\n",
       "    </tr>\n",
       "    <tr>\n",
       "      <th>3</th>\n",
       "      <td>AZ Emergency Information Network for up to dat...</td>\n",
       "      <td>on-topic</td>\n",
       "      <td>33.865796</td>\n",
       "      <td>-117.727407</td>\n",
       "    </tr>\n",
       "    <tr>\n",
       "      <th>4</th>\n",
       "      <td>new that he had to. To fail was to die, and ta...</td>\n",
       "      <td>off-topic</td>\n",
       "      <td>34.050320</td>\n",
       "      <td>-117.789941</td>\n",
       "    </tr>\n",
       "  </tbody>\n",
       "</table>\n",
       "</div>"
      ],
      "text/plain": [
       "                                               tweet      label        lat  \\\n",
       "0  @FactsInYourFace: In Iowa, it's illegal to pre...  off-topic  34.042372   \n",
       "1  @Traceybregman RT pls Canadian or not...it's t...   on-topic  33.762928   \n",
       "2  You'll never make a mistake quite as large as ...  off-topic  34.104322   \n",
       "3  AZ Emergency Information Network for up to dat...   on-topic  33.865796   \n",
       "4  new that he had to. To fail was to die, and ta...  off-topic  34.050320   \n",
       "\n",
       "         long  \n",
       "0 -117.711962  \n",
       "1 -117.798810  \n",
       "2 -117.712032  \n",
       "3 -117.727407  \n",
       "4 -117.789941  "
      ]
     },
     "execution_count": 24,
     "metadata": {},
     "output_type": "execute_result"
    }
   ],
   "source": [
    "flood_df.head()"
   ]
  },
  {
   "cell_type": "markdown",
   "metadata": {},
   "source": [
    "Exporting to .csv to be read in by the Flask App"
   ]
  },
  {
   "cell_type": "code",
   "execution_count": 25,
   "metadata": {},
   "outputs": [],
   "source": [
    "flood_df.to_csv('data/map_data.csv')"
   ]
  },
  {
   "cell_type": "markdown",
   "metadata": {},
   "source": [
    "# Code to launch the Flask App"
   ]
  },
  {
   "cell_type": "markdown",
   "metadata": {},
   "source": [
    "In terminal: \n",
    "- cd into working directory\n",
    "- run the commands below"
   ]
  },
  {
   "cell_type": "markdown",
   "metadata": {},
   "source": [
    "`export FLASK_APP=assets/dashboard.py`<br>\n",
    "`flask run`"
   ]
  },
  {
   "cell_type": "markdown",
   "metadata": {},
   "source": [
    " - visit http://127.0.0.1:5000/"
   ]
  }
 ],
 "metadata": {
  "kernelspec": {
   "display_name": "Python 3",
   "language": "python",
   "name": "python3"
  },
  "language_info": {
   "codemirror_mode": {
    "name": "ipython",
    "version": 3
   },
   "file_extension": ".py",
   "mimetype": "text/x-python",
   "name": "python",
   "nbconvert_exporter": "python",
   "pygments_lexer": "ipython3",
   "version": "3.7.1"
  }
 },
 "nbformat": 4,
 "nbformat_minor": 2
}
