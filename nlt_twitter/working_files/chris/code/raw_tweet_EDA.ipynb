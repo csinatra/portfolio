{
 "cells": [
  {
   "cell_type": "code",
   "execution_count": 5,
   "metadata": {},
   "outputs": [],
   "source": [
    "import json, time, re, nltk, hdbscan, spacy, string\n",
    "import psycopg2 as pg2\n",
    "import numpy as np\n",
    "import pandas as pd\n",
    "import matplotlib.pyplot as plt\n",
    "import seaborn as sns\n",
    "\n",
    "from sys import getsizeof\n",
    "from datetime import datetime\n",
    "from nltk.tokenize import RegexpTokenizer\n",
    "from nltk.stem import WordNetLemmatizer\n",
    "from psycopg2.extras import RealDictCursor, Json\n",
    "from spacy.lang.en.examples import sentences\n",
    "\n",
    "from sklearn.feature_extraction.text import CountVectorizer, TfidfVectorizer\n",
    "from sklearn.feature_extraction.stop_words import ENGLISH_STOP_WORDS\n",
    "from sklearn.decomposition import TruncatedSVD\n",
    "from sklearn.metrics.pairwise import cosine_similarity\n",
    "\n",
    "np.random.seed(42)\n",
    "\n",
    "%matplotlib inline\n",
    "sns.set_context('poster')\n",
    "sns.set_style('white')\n",
    "sns.set_color_codes()\n",
    "plot_kwds = {'alpha' : 0.5, 's' : 80, 'linewidths':0}"
   ]
  },
  {
   "cell_type": "code",
   "execution_count": 6,
   "metadata": {},
   "outputs": [],
   "source": [
    "%run sql_test.py"
   ]
  },
  {
   "cell_type": "code",
   "execution_count": 7,
   "metadata": {},
   "outputs": [],
   "source": [
    "def con_cur_to_db(dbname=DBNAME, dict_cur=None):\n",
    "    ''' \n",
    "    Returns both a connection and a cursor object for your database\n",
    "    '''\n",
    "\n",
    "    con = pg2.connect(host=IP_ADDRESS, #allows you to navigate db\n",
    "                  dbname=dbname,\n",
    "                  user=USER,\n",
    "                  password=PASSWORD)\n",
    "    if dict_cur:\n",
    "        cur = con.cursor(cursor_factory=RealDictCursor)\n",
    "    else:\n",
    "        cur = con.cursor()\n",
    "    return con, cur\n",
    "    \n",
    "def execute_query(query, dbname=DBNAME, dict_cur=None, command=False):\n",
    "    '''\n",
    "    Executes a query directly to a database, without having to create a cursor and connection each time. \n",
    "    '''\n",
    "    con, cur = con_cur_to_db(dbname, dict_cur)\n",
    "    cur.execute(f'{query}')\n",
    "    if not command:\n",
    "        data = cur.fetchall()\n",
    "        con.close()\n",
    "        return data\n",
    "    con.commit() #sends to server\n",
    "    con.close() #closes server connection\n",
    "\n",
    "def insert_entry_json(data, tablename=None):\n",
    "    con, cur = con_cur_to_db()\n",
    "    for x in data:\n",
    "        cur.execute(f'INSERT INTO {tablename} (data) VALUES ({Json(x)});')\n",
    "    con.commit()\n",
    "    con.close()"
   ]
  },
  {
   "cell_type": "code",
   "execution_count": 8,
   "metadata": {},
   "outputs": [],
   "source": [
    "query = \"\"\"SELECT data->>'text'\n",
    "FROM raw_tweets;\n",
    "\"\"\"\n",
    "response = execute_query(query, dict_cur=True)\n",
    "\n",
    "df = pd.DataFrame(response).drop_duplicates()"
   ]
  },
  {
   "cell_type": "code",
   "execution_count": 9,
   "metadata": {},
   "outputs": [],
   "source": [
    "df.columns = ['text']"
   ]
  },
  {
   "cell_type": "code",
   "execution_count": 10,
   "metadata": {},
   "outputs": [
    {
     "data": {
      "text/plain": [
       "(21422, 1)"
      ]
     },
     "execution_count": 10,
     "metadata": {},
     "output_type": "execute_result"
    }
   ],
   "source": [
    "df.shape"
   ]
  },
  {
   "cell_type": "code",
   "execution_count": 11,
   "metadata": {},
   "outputs": [],
   "source": [
    "def processTweet(tweet):\n",
    "    #Convert to lower case\n",
    "    tweet = tweet.lower()\n",
    "    #Remove additional white spaces\n",
    "    tweet = re.sub('[\\s]+', ' ', tweet)\n",
    "    #Convert www.* or https?://* to URL\n",
    "    tweet = re.sub('((www\\.[^\\s]+)|(https?://[^\\s]+))','URL',tweet)\n",
    "    #Eliminate hastags\n",
    "    tweet = re.sub(r'#([^\\s]+)', r'\\1', tweet)\n",
    "    #Remove @ signs\n",
    "    tweet = re.sub('@', '', tweet)\n",
    "    return tweet"
   ]
  },
  {
   "cell_type": "code",
   "execution_count": 12,
   "metadata": {},
   "outputs": [],
   "source": [
    "tweet_list = [i for i in df['text']]"
   ]
  },
  {
   "cell_type": "code",
   "execution_count": 13,
   "metadata": {},
   "outputs": [
    {
     "data": {
      "text/plain": [
       "['On a positive note the doctor told me I only gained 32 pounds my entire pregnancy 🙌🏼',\n",
       " 'The Gathering coming to the Hilton University Place in Charlotte NC August 15th- 18th 2019. Many great legends will… https://t.co/LsWkWjsp6p',\n",
       " 'RT @pun8o: プレゼント企画✨\\n\\nディズニー [チケット]🎫\\n\\n応募\\u3000→\\u3000フォロー&amp;リツイート\\n結果\\u3000→\\u3000当選者にはDMでお知らせします\\n\\n６名の当選となります！\\n応募期限は今月末までです🌟 https://t.co/QqudI9A7zu',\n",
       " 'RT @mitchellvii: CREEP SHOW: Pelosi and Schumer Freak Out Viewers... Blank Stares, Scowls and Crazy Eyes Consume Dem Response (VIDEO) https…',\n",
       " \"@MarvelStudios @iKBoy I dont see how ppl can say they don't think she'll be good in this movie lol\"]"
      ]
     },
     "execution_count": 13,
     "metadata": {},
     "output_type": "execute_result"
    }
   ],
   "source": [
    "tweet_list[:5]"
   ]
  },
  {
   "cell_type": "markdown",
   "metadata": {},
   "source": [
    "Create a column of processed tweets utilizing the created function above:"
   ]
  },
  {
   "cell_type": "code",
   "execution_count": 14,
   "metadata": {},
   "outputs": [],
   "source": [
    "df['processed'] = [processTweet(i) for i in tweet_list]"
   ]
  },
  {
   "cell_type": "code",
   "execution_count": 119,
   "metadata": {},
   "outputs": [
    {
     "data": {
      "text/plain": [
       "40"
      ]
     },
     "execution_count": 119,
     "metadata": {},
     "output_type": "execute_result"
    }
   ],
   "source": [
    "df['processed'].str.contains('timberlake').sum()"
   ]
  },
  {
   "cell_type": "code",
   "execution_count": 16,
   "metadata": {},
   "outputs": [],
   "source": [
    "tokenizer = RegexpTokenizer(r'\\w+')"
   ]
  },
  {
   "cell_type": "code",
   "execution_count": 17,
   "metadata": {},
   "outputs": [],
   "source": [
    "df['clean_processed'] = df['processed'].map(lambda x: tokenizer.tokenize(x))"
   ]
  },
  {
   "cell_type": "code",
   "execution_count": 18,
   "metadata": {},
   "outputs": [
    {
     "data": {
      "text/html": [
       "<div>\n",
       "<style scoped>\n",
       "    .dataframe tbody tr th:only-of-type {\n",
       "        vertical-align: middle;\n",
       "    }\n",
       "\n",
       "    .dataframe tbody tr th {\n",
       "        vertical-align: top;\n",
       "    }\n",
       "\n",
       "    .dataframe thead th {\n",
       "        text-align: right;\n",
       "    }\n",
       "</style>\n",
       "<table border=\"1\" class=\"dataframe\">\n",
       "  <thead>\n",
       "    <tr style=\"text-align: right;\">\n",
       "      <th></th>\n",
       "      <th>text</th>\n",
       "      <th>processed</th>\n",
       "      <th>clean_processed</th>\n",
       "    </tr>\n",
       "  </thead>\n",
       "  <tbody>\n",
       "    <tr>\n",
       "      <th>0</th>\n",
       "      <td>On a positive note the doctor told me I only g...</td>\n",
       "      <td>on a positive note the doctor told me i only g...</td>\n",
       "      <td>[on, a, positive, note, the, doctor, told, me,...</td>\n",
       "    </tr>\n",
       "    <tr>\n",
       "      <th>1</th>\n",
       "      <td>The Gathering coming to the Hilton University ...</td>\n",
       "      <td>the gathering coming to the hilton university ...</td>\n",
       "      <td>[the, gathering, coming, to, the, hilton, univ...</td>\n",
       "    </tr>\n",
       "    <tr>\n",
       "      <th>2</th>\n",
       "      <td>RT @pun8o: プレゼント企画✨\\n\\nディズニー [チケット]🎫\\n\\n応募　→　フ...</td>\n",
       "      <td>rt pun8o: プレゼント企画✨ ディズニー [チケット]🎫 応募 → フォロー&amp;amp...</td>\n",
       "      <td>[rt, pun8o, プレゼント企画, ディズニー, チケット, 応募, フォロー, am...</td>\n",
       "    </tr>\n",
       "    <tr>\n",
       "      <th>3</th>\n",
       "      <td>RT @mitchellvii: CREEP SHOW: Pelosi and Schume...</td>\n",
       "      <td>rt mitchellvii: creep show: pelosi and schumer...</td>\n",
       "      <td>[rt, mitchellvii, creep, show, pelosi, and, sc...</td>\n",
       "    </tr>\n",
       "    <tr>\n",
       "      <th>4</th>\n",
       "      <td>@MarvelStudios @iKBoy I dont see how ppl can s...</td>\n",
       "      <td>marvelstudios ikboy i dont see how ppl can say...</td>\n",
       "      <td>[marvelstudios, ikboy, i, dont, see, how, ppl,...</td>\n",
       "    </tr>\n",
       "  </tbody>\n",
       "</table>\n",
       "</div>"
      ],
      "text/plain": [
       "                                                text  \\\n",
       "0  On a positive note the doctor told me I only g...   \n",
       "1  The Gathering coming to the Hilton University ...   \n",
       "2  RT @pun8o: プレゼント企画✨\\n\\nディズニー [チケット]🎫\\n\\n応募　→　フ...   \n",
       "3  RT @mitchellvii: CREEP SHOW: Pelosi and Schume...   \n",
       "4  @MarvelStudios @iKBoy I dont see how ppl can s...   \n",
       "\n",
       "                                           processed  \\\n",
       "0  on a positive note the doctor told me i only g...   \n",
       "1  the gathering coming to the hilton university ...   \n",
       "2  rt pun8o: プレゼント企画✨ ディズニー [チケット]🎫 応募 → フォロー&amp...   \n",
       "3  rt mitchellvii: creep show: pelosi and schumer...   \n",
       "4  marvelstudios ikboy i dont see how ppl can say...   \n",
       "\n",
       "                                     clean_processed  \n",
       "0  [on, a, positive, note, the, doctor, told, me,...  \n",
       "1  [the, gathering, coming, to, the, hilton, univ...  \n",
       "2  [rt, pun8o, プレゼント企画, ディズニー, チケット, 応募, フォロー, am...  \n",
       "3  [rt, mitchellvii, creep, show, pelosi, and, sc...  \n",
       "4  [marvelstudios, ikboy, i, dont, see, how, ppl,...  "
      ]
     },
     "execution_count": 18,
     "metadata": {},
     "output_type": "execute_result"
    }
   ],
   "source": [
    "df.head()"
   ]
  },
  {
   "cell_type": "code",
   "execution_count": 19,
   "metadata": {},
   "outputs": [],
   "source": [
    "lemmatizer = WordNetLemmatizer()"
   ]
  },
  {
   "cell_type": "code",
   "execution_count": 20,
   "metadata": {},
   "outputs": [],
   "source": [
    "df['lemm_clean_processed'] = df['clean_processed'].map(lambda x: ' '.join([lemmatizer.lemmatize(word) for word in x]))"
   ]
  },
  {
   "cell_type": "code",
   "execution_count": 21,
   "metadata": {},
   "outputs": [
    {
     "data": {
      "text/html": [
       "<div>\n",
       "<style scoped>\n",
       "    .dataframe tbody tr th:only-of-type {\n",
       "        vertical-align: middle;\n",
       "    }\n",
       "\n",
       "    .dataframe tbody tr th {\n",
       "        vertical-align: top;\n",
       "    }\n",
       "\n",
       "    .dataframe thead th {\n",
       "        text-align: right;\n",
       "    }\n",
       "</style>\n",
       "<table border=\"1\" class=\"dataframe\">\n",
       "  <thead>\n",
       "    <tr style=\"text-align: right;\">\n",
       "      <th></th>\n",
       "      <th>text</th>\n",
       "      <th>processed</th>\n",
       "      <th>clean_processed</th>\n",
       "      <th>lemm_clean_processed</th>\n",
       "    </tr>\n",
       "  </thead>\n",
       "  <tbody>\n",
       "    <tr>\n",
       "      <th>0</th>\n",
       "      <td>On a positive note the doctor told me I only g...</td>\n",
       "      <td>on a positive note the doctor told me i only g...</td>\n",
       "      <td>[on, a, positive, note, the, doctor, told, me,...</td>\n",
       "      <td>on a positive note the doctor told me i only g...</td>\n",
       "    </tr>\n",
       "    <tr>\n",
       "      <th>1</th>\n",
       "      <td>The Gathering coming to the Hilton University ...</td>\n",
       "      <td>the gathering coming to the hilton university ...</td>\n",
       "      <td>[the, gathering, coming, to, the, hilton, univ...</td>\n",
       "      <td>the gathering coming to the hilton university ...</td>\n",
       "    </tr>\n",
       "    <tr>\n",
       "      <th>2</th>\n",
       "      <td>RT @pun8o: プレゼント企画✨\\n\\nディズニー [チケット]🎫\\n\\n応募　→　フ...</td>\n",
       "      <td>rt pun8o: プレゼント企画✨ ディズニー [チケット]🎫 応募 → フォロー&amp;amp...</td>\n",
       "      <td>[rt, pun8o, プレゼント企画, ディズニー, チケット, 応募, フォロー, am...</td>\n",
       "      <td>rt pun8o プレゼント企画 ディズニー チケット 応募 フォロー amp リツイート ...</td>\n",
       "    </tr>\n",
       "    <tr>\n",
       "      <th>3</th>\n",
       "      <td>RT @mitchellvii: CREEP SHOW: Pelosi and Schume...</td>\n",
       "      <td>rt mitchellvii: creep show: pelosi and schumer...</td>\n",
       "      <td>[rt, mitchellvii, creep, show, pelosi, and, sc...</td>\n",
       "      <td>rt mitchellvii creep show pelosi and schumer f...</td>\n",
       "    </tr>\n",
       "    <tr>\n",
       "      <th>4</th>\n",
       "      <td>@MarvelStudios @iKBoy I dont see how ppl can s...</td>\n",
       "      <td>marvelstudios ikboy i dont see how ppl can say...</td>\n",
       "      <td>[marvelstudios, ikboy, i, dont, see, how, ppl,...</td>\n",
       "      <td>marvelstudios ikboy i dont see how ppl can say...</td>\n",
       "    </tr>\n",
       "  </tbody>\n",
       "</table>\n",
       "</div>"
      ],
      "text/plain": [
       "                                                text  \\\n",
       "0  On a positive note the doctor told me I only g...   \n",
       "1  The Gathering coming to the Hilton University ...   \n",
       "2  RT @pun8o: プレゼント企画✨\\n\\nディズニー [チケット]🎫\\n\\n応募　→　フ...   \n",
       "3  RT @mitchellvii: CREEP SHOW: Pelosi and Schume...   \n",
       "4  @MarvelStudios @iKBoy I dont see how ppl can s...   \n",
       "\n",
       "                                           processed  \\\n",
       "0  on a positive note the doctor told me i only g...   \n",
       "1  the gathering coming to the hilton university ...   \n",
       "2  rt pun8o: プレゼント企画✨ ディズニー [チケット]🎫 応募 → フォロー&amp...   \n",
       "3  rt mitchellvii: creep show: pelosi and schumer...   \n",
       "4  marvelstudios ikboy i dont see how ppl can say...   \n",
       "\n",
       "                                     clean_processed  \\\n",
       "0  [on, a, positive, note, the, doctor, told, me,...   \n",
       "1  [the, gathering, coming, to, the, hilton, univ...   \n",
       "2  [rt, pun8o, プレゼント企画, ディズニー, チケット, 応募, フォロー, am...   \n",
       "3  [rt, mitchellvii, creep, show, pelosi, and, sc...   \n",
       "4  [marvelstudios, ikboy, i, dont, see, how, ppl,...   \n",
       "\n",
       "                                lemm_clean_processed  \n",
       "0  on a positive note the doctor told me i only g...  \n",
       "1  the gathering coming to the hilton university ...  \n",
       "2  rt pun8o プレゼント企画 ディズニー チケット 応募 フォロー amp リツイート ...  \n",
       "3  rt mitchellvii creep show pelosi and schumer f...  \n",
       "4  marvelstudios ikboy i dont see how ppl can say...  "
      ]
     },
     "execution_count": 21,
     "metadata": {},
     "output_type": "execute_result"
    }
   ],
   "source": [
    "df.head()"
   ]
  },
  {
   "cell_type": "code",
   "execution_count": 79,
   "metadata": {},
   "outputs": [
    {
     "data": {
      "text/plain": [
       "(21422, 4)"
      ]
     },
     "execution_count": 79,
     "metadata": {},
     "output_type": "execute_result"
    }
   ],
   "source": [
    "df.shape"
   ]
  },
  {
   "cell_type": "code",
   "execution_count": 98,
   "metadata": {},
   "outputs": [
    {
     "name": "stdout",
     "output_type": "stream",
     "text": [
      "<class 'pandas.core.frame.DataFrame'>\n",
      "Int64Index: 21422 entries, 0 to 289770\n",
      "Data columns (total 4 columns):\n",
      "text                    21422 non-null object\n",
      "processed               21422 non-null object\n",
      "clean_processed         21422 non-null object\n",
      "lemm_clean_processed    21422 non-null object\n",
      "dtypes: object(4)\n",
      "memory usage: 1.4+ MB\n"
     ]
    }
   ],
   "source": [
    "df.info()"
   ]
  },
  {
   "cell_type": "code",
   "execution_count": 22,
   "metadata": {},
   "outputs": [],
   "source": [
    "lemm_clean_processed_list = [i for i in df['lemm_clean_processed']]"
   ]
  },
  {
   "cell_type": "markdown",
   "metadata": {},
   "source": [
    "Utilize countvectorizer:"
   ]
  },
  {
   "cell_type": "markdown",
   "metadata": {},
   "source": [
    "min_df will remember words that are in a document at least once. For example, if min_df = 3, will only remember words that are a part of 3 documents in a corpus. max_df refers to the %-age of documents within a corpus that a word occurs in. For example, if max_df = 0.9, words that occur in more than 90% of my documents will be ignored. By default, max_df is equal to 1."
   ]
  },
  {
   "cell_type": "code",
   "execution_count": 23,
   "metadata": {},
   "outputs": [],
   "source": [
    "cv = CountVectorizer(ngram_range = (1,2),\n",
    "                     stop_words = 'english',\n",
    "                     min_df = 15,\n",
    "                     max_df = 1.0)"
   ]
  },
  {
   "cell_type": "code",
   "execution_count": 24,
   "metadata": {},
   "outputs": [],
   "source": [
    "df_cv = pd.SparseDataFrame(cv.fit_transform(df['lemm_clean_processed']), \n",
    "                     columns = cv.get_feature_names())"
   ]
  },
  {
   "cell_type": "code",
   "execution_count": 25,
   "metadata": {},
   "outputs": [
    {
     "data": {
      "text/plain": [
       "885512"
      ]
     },
     "execution_count": 25,
     "metadata": {},
     "output_type": "execute_result"
    }
   ],
   "source": [
    "getsizeof(df_cv)"
   ]
  },
  {
   "cell_type": "code",
   "execution_count": 26,
   "metadata": {},
   "outputs": [],
   "source": [
    "df_cv.fillna(0, inplace=True)"
   ]
  },
  {
   "cell_type": "code",
   "execution_count": 27,
   "metadata": {},
   "outputs": [
    {
     "data": {
      "text/plain": [
       "Index(['00', '000', '01', '07', '10', '100', '11', '110', '110 free', '12',\n",
       "       ...\n",
       "       'york', 'young', 'younger', 'yourvoice', 'yourvoice america', 'youtube',\n",
       "       'youtube playlist', 'youtube video', 'zero', 'zip'],\n",
       "      dtype='object', length=1880)"
      ]
     },
     "execution_count": 27,
     "metadata": {},
     "output_type": "execute_result"
    }
   ],
   "source": [
    "df_cv.columns"
   ]
  },
  {
   "cell_type": "markdown",
   "metadata": {},
   "source": [
    "Perform SVD to reduce dimensionality to about ~1000 (Currently ~1800)...Have to run an instance with about ~8GB of RAM (~0.08cents to perform one calculation); shut off the instance and restart this instance.. "
   ]
  },
  {
   "cell_type": "markdown",
   "metadata": {},
   "source": [
    "tfidf dataframe"
   ]
  },
  {
   "cell_type": "markdown",
   "metadata": {},
   "source": [
    "custom_stop = ['url',\n",
    "               'rt',\n",
    "               'mitchellvii',\n",
    "               'wa',\n",
    "               'ha',\n",
    "               'just',\n",
    "               'good',\n",
    "               'free',\n",
    "               'purchase',\n",
    "               'shipping',\n",
    "               'don',\n",
    "               'buy',\n",
    "               'sale',\n",
    "               'snkrconnecthq',\n",
    "               \n",
    "              ]\n",
    "\n",
    "stop_words = ENGLISH_STOP_WORDS.union(custom_stop)"
   ]
  },
  {
   "cell_type": "code",
   "execution_count": 28,
   "metadata": {},
   "outputs": [],
   "source": [
    "tfidf = TfidfVectorizer(ngram_range=(1,2), \n",
    "                        stop_words = 'english', \n",
    "                        min_df = 25, \n",
    "                        max_df = 1.0)"
   ]
  },
  {
   "cell_type": "code",
   "execution_count": 29,
   "metadata": {},
   "outputs": [],
   "source": [
    "df_tfidf = pd.SparseDataFrame(tfidf.fit_transform(df['lemm_clean_processed']),\n",
    "                        columns = tfidf.get_feature_names())"
   ]
  },
  {
   "cell_type": "code",
   "execution_count": 30,
   "metadata": {},
   "outputs": [
    {
     "data": {
      "text/plain": [
       "(21422, 1056)"
      ]
     },
     "execution_count": 30,
     "metadata": {},
     "output_type": "execute_result"
    }
   ],
   "source": [
    "df_tfidf.shape"
   ]
  },
  {
   "cell_type": "code",
   "execution_count": 31,
   "metadata": {},
   "outputs": [],
   "source": [
    "df_tfidf.fillna(0, inplace = True)"
   ]
  },
  {
   "cell_type": "code",
   "execution_count": 32,
   "metadata": {},
   "outputs": [
    {
     "data": {
      "text/html": [
       "<div>\n",
       "<style scoped>\n",
       "    .dataframe tbody tr th:only-of-type {\n",
       "        vertical-align: middle;\n",
       "    }\n",
       "\n",
       "    .dataframe tbody tr th {\n",
       "        vertical-align: top;\n",
       "    }\n",
       "\n",
       "    .dataframe thead th {\n",
       "        text-align: right;\n",
       "    }\n",
       "</style>\n",
       "<table border=\"1\" class=\"dataframe\">\n",
       "  <thead>\n",
       "    <tr style=\"text-align: right;\">\n",
       "      <th></th>\n",
       "      <th>00</th>\n",
       "      <th>000</th>\n",
       "      <th>10</th>\n",
       "      <th>100</th>\n",
       "      <th>11</th>\n",
       "      <th>12</th>\n",
       "      <th>120</th>\n",
       "      <th>13</th>\n",
       "      <th>130</th>\n",
       "      <th>130 free</th>\n",
       "      <th>...</th>\n",
       "      <th>year url</th>\n",
       "      <th>yep</th>\n",
       "      <th>yes</th>\n",
       "      <th>yesterday</th>\n",
       "      <th>yo</th>\n",
       "      <th>young</th>\n",
       "      <th>youtube</th>\n",
       "      <th>youtube playlist</th>\n",
       "      <th>youtube video</th>\n",
       "      <th>zip</th>\n",
       "    </tr>\n",
       "  </thead>\n",
       "  <tbody>\n",
       "    <tr>\n",
       "      <th>0</th>\n",
       "      <td>0.0</td>\n",
       "      <td>0.0</td>\n",
       "      <td>0.0</td>\n",
       "      <td>0.0</td>\n",
       "      <td>0.0</td>\n",
       "      <td>0.0</td>\n",
       "      <td>0.0</td>\n",
       "      <td>0.0</td>\n",
       "      <td>0.0</td>\n",
       "      <td>0.0</td>\n",
       "      <td>...</td>\n",
       "      <td>0.0</td>\n",
       "      <td>0.0</td>\n",
       "      <td>0.0</td>\n",
       "      <td>0.0</td>\n",
       "      <td>0.0</td>\n",
       "      <td>0.0</td>\n",
       "      <td>0.0</td>\n",
       "      <td>0.0</td>\n",
       "      <td>0.0</td>\n",
       "      <td>0.0</td>\n",
       "    </tr>\n",
       "    <tr>\n",
       "      <th>1</th>\n",
       "      <td>0.0</td>\n",
       "      <td>0.0</td>\n",
       "      <td>0.0</td>\n",
       "      <td>0.0</td>\n",
       "      <td>0.0</td>\n",
       "      <td>0.0</td>\n",
       "      <td>0.0</td>\n",
       "      <td>0.0</td>\n",
       "      <td>0.0</td>\n",
       "      <td>0.0</td>\n",
       "      <td>...</td>\n",
       "      <td>0.0</td>\n",
       "      <td>0.0</td>\n",
       "      <td>0.0</td>\n",
       "      <td>0.0</td>\n",
       "      <td>0.0</td>\n",
       "      <td>0.0</td>\n",
       "      <td>0.0</td>\n",
       "      <td>0.0</td>\n",
       "      <td>0.0</td>\n",
       "      <td>0.0</td>\n",
       "    </tr>\n",
       "    <tr>\n",
       "      <th>2</th>\n",
       "      <td>0.0</td>\n",
       "      <td>0.0</td>\n",
       "      <td>0.0</td>\n",
       "      <td>0.0</td>\n",
       "      <td>0.0</td>\n",
       "      <td>0.0</td>\n",
       "      <td>0.0</td>\n",
       "      <td>0.0</td>\n",
       "      <td>0.0</td>\n",
       "      <td>0.0</td>\n",
       "      <td>...</td>\n",
       "      <td>0.0</td>\n",
       "      <td>0.0</td>\n",
       "      <td>0.0</td>\n",
       "      <td>0.0</td>\n",
       "      <td>0.0</td>\n",
       "      <td>0.0</td>\n",
       "      <td>0.0</td>\n",
       "      <td>0.0</td>\n",
       "      <td>0.0</td>\n",
       "      <td>0.0</td>\n",
       "    </tr>\n",
       "    <tr>\n",
       "      <th>3</th>\n",
       "      <td>0.0</td>\n",
       "      <td>0.0</td>\n",
       "      <td>0.0</td>\n",
       "      <td>0.0</td>\n",
       "      <td>0.0</td>\n",
       "      <td>0.0</td>\n",
       "      <td>0.0</td>\n",
       "      <td>0.0</td>\n",
       "      <td>0.0</td>\n",
       "      <td>0.0</td>\n",
       "      <td>...</td>\n",
       "      <td>0.0</td>\n",
       "      <td>0.0</td>\n",
       "      <td>0.0</td>\n",
       "      <td>0.0</td>\n",
       "      <td>0.0</td>\n",
       "      <td>0.0</td>\n",
       "      <td>0.0</td>\n",
       "      <td>0.0</td>\n",
       "      <td>0.0</td>\n",
       "      <td>0.0</td>\n",
       "    </tr>\n",
       "    <tr>\n",
       "      <th>4</th>\n",
       "      <td>0.0</td>\n",
       "      <td>0.0</td>\n",
       "      <td>0.0</td>\n",
       "      <td>0.0</td>\n",
       "      <td>0.0</td>\n",
       "      <td>0.0</td>\n",
       "      <td>0.0</td>\n",
       "      <td>0.0</td>\n",
       "      <td>0.0</td>\n",
       "      <td>0.0</td>\n",
       "      <td>...</td>\n",
       "      <td>0.0</td>\n",
       "      <td>0.0</td>\n",
       "      <td>0.0</td>\n",
       "      <td>0.0</td>\n",
       "      <td>0.0</td>\n",
       "      <td>0.0</td>\n",
       "      <td>0.0</td>\n",
       "      <td>0.0</td>\n",
       "      <td>0.0</td>\n",
       "      <td>0.0</td>\n",
       "    </tr>\n",
       "  </tbody>\n",
       "</table>\n",
       "<p>5 rows × 1056 columns</p>\n",
       "</div>"
      ],
      "text/plain": [
       "    00  000   10  100   11   12  120   13  130  130 free ...   year url  yep  \\\n",
       "0  0.0  0.0  0.0  0.0  0.0  0.0  0.0  0.0  0.0       0.0 ...        0.0  0.0   \n",
       "1  0.0  0.0  0.0  0.0  0.0  0.0  0.0  0.0  0.0       0.0 ...        0.0  0.0   \n",
       "2  0.0  0.0  0.0  0.0  0.0  0.0  0.0  0.0  0.0       0.0 ...        0.0  0.0   \n",
       "3  0.0  0.0  0.0  0.0  0.0  0.0  0.0  0.0  0.0       0.0 ...        0.0  0.0   \n",
       "4  0.0  0.0  0.0  0.0  0.0  0.0  0.0  0.0  0.0       0.0 ...        0.0  0.0   \n",
       "\n",
       "   yes  yesterday   yo  young  youtube  youtube playlist  youtube video  zip  \n",
       "0  0.0        0.0  0.0    0.0      0.0               0.0            0.0  0.0  \n",
       "1  0.0        0.0  0.0    0.0      0.0               0.0            0.0  0.0  \n",
       "2  0.0        0.0  0.0    0.0      0.0               0.0            0.0  0.0  \n",
       "3  0.0        0.0  0.0    0.0      0.0               0.0            0.0  0.0  \n",
       "4  0.0        0.0  0.0    0.0      0.0               0.0            0.0  0.0  \n",
       "\n",
       "[5 rows x 1056 columns]"
      ]
     },
     "execution_count": 32,
     "metadata": {},
     "output_type": "execute_result"
    }
   ],
   "source": [
    "df_tfidf.head()"
   ]
  },
  {
   "cell_type": "markdown",
   "metadata": {},
   "source": [
    "### SVD"
   ]
  },
  {
   "cell_type": "code",
   "execution_count": 33,
   "metadata": {},
   "outputs": [
    {
     "data": {
      "text/plain": [
       "(21422, 1000)"
      ]
     },
     "execution_count": 33,
     "metadata": {},
     "output_type": "execute_result"
    }
   ],
   "source": [
    "SVD = TruncatedSVD(n_components=1000) \n",
    "# doesn't center out data...versus PCA which it does...\n",
    "# ##If we didn't fit before train_test_split (WHY DO WE NEED TO FIT TRANSFORM BEFORE TRAIN TEST SPLIT...)\n",
    "svd_matrix = SVD.fit_transform(df_tfidf)\n",
    "svd_matrix.shape"
   ]
  },
  {
   "cell_type": "code",
   "execution_count": 34,
   "metadata": {},
   "outputs": [],
   "source": [
    "component_names = pd.Series([\"component_\"+str(i+1) for i in range(1000)])"
   ]
  },
  {
   "cell_type": "code",
   "execution_count": 35,
   "metadata": {},
   "outputs": [
    {
     "data": {
      "text/plain": [
       "(1000, 1056)"
      ]
     },
     "execution_count": 35,
     "metadata": {},
     "output_type": "execute_result"
    }
   ],
   "source": [
    "SVD.components_.shape"
   ]
  },
  {
   "cell_type": "code",
   "execution_count": 39,
   "metadata": {},
   "outputs": [
    {
     "data": {
      "image/png": "[encoded data removed]",
      "text/plain": [
       "<Figure size 1440x720 with 1 Axes>"
      ]
     },
     "metadata": {
      "needs_background": "light"
     },
     "output_type": "display_data"
    }
   ],
   "source": [
    "fig = plt.figure(figsize=(20,10))\n",
    "plt.bar(np.array(range(1000))+1, \n",
    "        SVD.explained_variance_ratio_, \n",
    "        color='g', \n",
    "        label='Explained Variance')\n",
    "plt.plot(np.array(range(1000))+1, \n",
    "         np.cumsum(SVD.explained_variance_ratio_), \n",
    "         label='Cumulative Explained Variance')\n",
    "plt.legend(fontsize=16)\n",
    "plt.xlabel('Component', fontsize=20)\n",
    "plt.ylabel('Variance Ratio', fontsize=20)\n",
    "plt.title('Explained Variance by Component', fontsize=36);"
   ]
  },
  {
   "cell_type": "code",
   "execution_count": 41,
   "metadata": {},
   "outputs": [
    {
     "data": {
      "text/plain": [
       "array([0.07277584, 0.09190323, 0.10268834, 0.10860638, 0.11485275,\n",
       "       0.12080174, 0.12650296, 0.13204213, 0.13721215, 0.14242354,\n",
       "       0.1474821 , 0.15243225, 0.15686774, 0.16129233, 0.16559715,\n",
       "       0.16985583, 0.1739408 , 0.17800312, 0.18199848, 0.18593369,\n",
       "       0.18980081, 0.19358001, 0.19734758, 0.20096185, 0.20449415,\n",
       "       0.20801397, 0.21149804, 0.21492402, 0.2182592 , 0.22156527,\n",
       "       0.22483169, 0.22806543, 0.231258  , 0.23440684, 0.23750351,\n",
       "       0.2405346 , 0.24349856, 0.24645827, 0.24936262, 0.25220796,\n",
       "       0.25504266, 0.25785496, 0.26064842, 0.26341141, 0.26614736,\n",
       "       0.26884709, 0.2715332 , 0.27417421, 0.27675895, 0.27932658,\n",
       "       0.28185922, 0.28437563, 0.28685701, 0.28933418, 0.29176295,\n",
       "       0.29414032, 0.29649295, 0.29880987, 0.30111443, 0.3033929 ,\n",
       "       0.30564876, 0.30789135, 0.3101118 , 0.31230184, 0.31448717,\n",
       "       0.31661873, 0.31872395, 0.32077731, 0.32281526, 0.32483289,\n",
       "       0.32681885, 0.32876121, 0.33070939, 0.33263592, 0.33454466,\n",
       "       0.33644385, 0.33833899, 0.34021947, 0.34207356, 0.34392469,\n",
       "       0.34575719, 0.3475757 , 0.34939533, 0.35120778, 0.35301468,\n",
       "       0.35481163, 0.35660169, 0.35838495, 0.36015871, 0.36190785,\n",
       "       0.3636532 , 0.36538204, 0.36710013, 0.36881581, 0.37052177,\n",
       "       0.37222012, 0.37390103, 0.37557164, 0.3772329 , 0.37888956,\n",
       "       0.38053635, 0.38216494, 0.38379091, 0.38540723, 0.38701862,\n",
       "       0.38861556, 0.3902078 , 0.39179553, 0.39337611, 0.39495493,\n",
       "       0.39651568, 0.39807617, 0.39962233, 0.40116197, 0.40269136,\n",
       "       0.40421391, 0.40573289, 0.40724717, 0.40875656, 0.41025782,\n",
       "       0.4117475 , 0.41322852, 0.41470369, 0.41617138, 0.41763402,\n",
       "       0.41909465, 0.42054787, 0.42199713, 0.42343896, 0.42487455,\n",
       "       0.42630286, 0.42772458, 0.42913085, 0.43053233, 0.43192633,\n",
       "       0.43330987, 0.43469002, 0.43606567, 0.4374366 , 0.43879812,\n",
       "       0.44014311, 0.44148779, 0.44282876, 0.44416254, 0.44549229,\n",
       "       0.44681853, 0.44813854, 0.44945176, 0.45076261, 0.45205965,\n",
       "       0.45335449, 0.45464531, 0.45593073, 0.45721405, 0.45848939,\n",
       "       0.45976284, 0.46103423, 0.46229542, 0.4635539 , 0.46480936,\n",
       "       0.46606139, 0.46730884, 0.46855429, 0.46978964, 0.4710222 ,\n",
       "       0.47225206, 0.47347246, 0.47468911, 0.47590013, 0.47710812,\n",
       "       0.47831539, 0.47952069, 0.48072312, 0.48191975, 0.48310851,\n",
       "       0.4842947 , 0.48547621, 0.48665123, 0.48782244, 0.48899075,\n",
       "       0.49015715, 0.49131793, 0.49247654, 0.49362748, 0.49477625,\n",
       "       0.49592284, 0.49706579, 0.49820821, 0.49934352, 0.50047687,\n",
       "       0.50160396, 0.50272254, 0.50384058, 0.50495767, 0.50607137,\n",
       "       0.50717882, 0.50828151, 0.5093838 , 0.51048315, 0.5115767 ,\n",
       "       0.51266697, 0.51375072, 0.51483227, 0.51590893, 0.51698398,\n",
       "       0.51805127, 0.51911588, 0.52017923, 0.52123918, 0.52229694,\n",
       "       0.52334541, 0.5243894 , 0.52543237, 0.5264718 , 0.52750678,\n",
       "       0.52853966, 0.52956634, 0.53058796, 0.53160726, 0.53262524,\n",
       "       0.53364231, 0.53465513, 0.53566293, 0.53666701, 0.53766935,\n",
       "       0.5386657 , 0.53965841, 0.54065027, 0.54163934, 0.54262625,\n",
       "       0.54361044, 0.54459228, 0.54556934, 0.5465443 , 0.54751644,\n",
       "       0.54848113, 0.54944409, 0.55040649, 0.55136514, 0.55232116,\n",
       "       0.55327558, 0.55422931, 0.55518132, 0.5561278 , 0.557069  ,\n",
       "       0.5580082 , 0.55894514, 0.55988141, 0.56081485, 0.56174474,\n",
       "       0.56267372, 0.5635984 , 0.56452268, 0.5654439 , 0.56636436,\n",
       "       0.56728243, 0.56819811, 0.56911006, 0.57002127, 0.57092924,\n",
       "       0.57183446, 0.57273804, 0.57363958, 0.57453941, 0.57543828,\n",
       "       0.57633526, 0.57723153, 0.57812559, 0.57901742, 0.57990528,\n",
       "       0.58079163, 0.58167612, 0.58255791, 0.58343885, 0.58431643,\n",
       "       0.58519092, 0.58606442, 0.58693525, 0.58780278, 0.58866981,\n",
       "       0.58953516, 0.59039777, 0.59125944, 0.59211677, 0.59297248,\n",
       "       0.59382448, 0.59467553, 0.59552378, 0.59636943, 0.59721205,\n",
       "       0.59805316, 0.59889386, 0.59972951, 0.60056321, 0.60139661,\n",
       "       0.60222645, 0.60305581, 0.60388319, 0.60470905, 0.6055337 ,\n",
       "       0.60635697, 0.60717772, 0.60799793, 0.6088135 , 0.60962722,\n",
       "       0.61043961, 0.61125103, 0.61205996, 0.61286852, 0.61367432,\n",
       "       0.61447854, 0.61528146, 0.61608382, 0.61688492, 0.61768355,\n",
       "       0.61848154, 0.61927698, 0.62006998, 0.62086239, 0.62165276,\n",
       "       0.6224421 , 0.62323002, 0.62401474, 0.62479901, 0.62558113,\n",
       "       0.62636267, 0.62714254, 0.62791911, 0.62869417, 0.62946831,\n",
       "       0.63024099, 0.63101027, 0.63177834, 0.6325441 , 0.63330776,\n",
       "       0.63406868, 0.63482921, 0.63558717, 0.63634364, 0.63709935,\n",
       "       0.63785468, 0.63860865, 0.6393601 , 0.64011065, 0.64086014,\n",
       "       0.64160646, 0.64235213, 0.64309652, 0.64383954, 0.64458143,\n",
       "       0.64532208, 0.64605883, 0.64679456, 0.64752966, 0.64826319,\n",
       "       0.64899559, 0.64972811, 0.65045806, 0.6511874 , 0.65191496,\n",
       "       0.65264219, 0.6533678 , 0.65409158, 0.65481361, 0.65553397,\n",
       "       0.65625257, 0.65697073, 0.65768573, 0.65840029, 0.65911227,\n",
       "       0.6598235 , 0.66053308, 0.66124201, 0.66194843, 0.6626538 ,\n",
       "       0.66335782, 0.66406118, 0.66476292, 0.66546381, 0.66616271,\n",
       "       0.6668616 , 0.66755948, 0.66825669, 0.66895217, 0.66964705,\n",
       "       0.67033882, 0.67103026, 0.67172064, 0.67241034, 0.67309789,\n",
       "       0.67378424, 0.67446841, 0.67514931, 0.67583006, 0.67651022,\n",
       "       0.67718984, 0.67786675, 0.67854231, 0.6792177 , 0.67989173,\n",
       "       0.68056451, 0.68123455, 0.68190399, 0.68257212, 0.68323926,\n",
       "       0.68390365, 0.68456768, 0.6852306 , 0.68589233, 0.68655324,\n",
       "       0.68721312, 0.68787096, 0.6885279 , 0.6891837 , 0.68983738,\n",
       "       0.69048934, 0.69113962, 0.69178772, 0.69243548, 0.69308196,\n",
       "       0.69372695, 0.69437054, 0.6950134 , 0.69565373, 0.69629342,\n",
       "       0.69693244, 0.69756922, 0.69820499, 0.69884008, 0.6994736 ,\n",
       "       0.70010594, 0.70073702, 0.70136774, 0.70199526, 0.70262258,\n",
       "       0.70324935, 0.70387525, 0.7044993 , 0.70512185, 0.70574361,\n",
       "       0.70636432, 0.70698368, 0.70760121, 0.70821693, 0.70883173,\n",
       "       0.70944486, 0.7100563 , 0.71066544, 0.71127416, 0.71188253,\n",
       "       0.71249029, 0.71309609, 0.71370123, 0.71430505, 0.71490819,\n",
       "       0.71550846, 0.71610841, 0.71670755, 0.71730538, 0.71790208,\n",
       "       0.71849785, 0.71909281, 0.71968631, 0.72027914, 0.72087021,\n",
       "       0.7214605 , 0.72205027, 0.72263835, 0.72322623, 0.7238112 ,\n",
       "       0.72439555, 0.72497901, 0.72556175, 0.72614308, 0.7267234 ,\n",
       "       0.7273028 , 0.72788121, 0.72845821, 0.72903459, 0.72960908,\n",
       "       0.73018252, 0.73075593, 0.73132783, 0.73189869, 0.73246812,\n",
       "       0.73303682, 0.73360449, 0.73417062, 0.7347366 , 0.73530195,\n",
       "       0.7358658 , 0.7364284 , 0.73698936, 0.73754965, 0.73810917,\n",
       "       0.73866753, 0.73922537, 0.7397829 , 0.74033887, 0.74089429,\n",
       "       0.7414484 , 0.74200099, 0.74255318, 0.74310446, 0.74365466,\n",
       "       0.74420384, 0.74475248, 0.74529974, 0.74584622, 0.74639217,\n",
       "       0.7469375 , 0.74748149, 0.74802466, 0.7485664 , 0.74910804,\n",
       "       0.74964784, 0.75018704, 0.75072601, 0.75126445, 0.7518012 ,\n",
       "       0.75233743, 0.75287273, 0.75340758, 0.75394135, 0.75447443,\n",
       "       0.75500674, 0.75553787, 0.75606825, 0.75659796, 0.75712669,\n",
       "       0.75765461, 0.75818077, 0.75870645, 0.75923097, 0.75975482,\n",
       "       0.76027797, 0.76080052, 0.7613221 , 0.76184319, 0.76236355,\n",
       "       0.76288229, 0.76340051, 0.76391773, 0.76443402, 0.76494904,\n",
       "       0.76546367, 0.76597735, 0.76649055, 0.76700259, 0.76751391,\n",
       "       0.76802345, 0.76853263, 0.76904156, 0.76954956, 0.77005712,\n",
       "       0.77056388, 0.77106881, 0.77157324, 0.77207729, 0.77258093,\n",
       "       0.77308349, 0.77358495, 0.77408516, 0.77458455, 0.7750837 ,\n",
       "       0.77558201, 0.77607843, 0.77657452, 0.77706997, 0.77756483,\n",
       "       0.77805945, 0.77855293, 0.77904582, 0.77953779, 0.78002908,\n",
       "       0.78051992, 0.7810101 , 0.78149976, 0.78198881, 0.78247716,\n",
       "       0.78296516, 0.78345229, 0.78393838, 0.78442374, 0.78490836,\n",
       "       0.78539143, 0.78587415, 0.78635648, 0.78683869, 0.7873196 ,\n",
       "       0.78779963, 0.78827862, 0.78875747, 0.78923503, 0.78971132,\n",
       "       0.79018705, 0.79066179, 0.79113584, 0.79160961, 0.79208291,\n",
       "       0.79255582, 0.79302793, 0.79349965, 0.79397113, 0.79444124,\n",
       "       0.79491085, 0.79537985, 0.79584822, 0.79631547, 0.79678202,\n",
       "       0.79724746, 0.7977126 , 0.79817673, 0.79864016, 0.79910326,\n",
       "       0.79956498, 0.80002612, 0.80048695, 0.80094687, 0.80140579,\n",
       "       0.80186376, 0.80232098, 0.80277798, 0.80323409, 0.80368906,\n",
       "       0.80414382, 0.80459797, 0.80505143, 0.80550377, 0.80595484,\n",
       "       0.80640561, 0.80685594, 0.80730512, 0.807754  , 0.80820233,\n",
       "       0.80865001, 0.80909724, 0.80954371, 0.80998903, 0.8104341 ,\n",
       "       0.81087849, 0.81132151, 0.81176412, 0.81220567, 0.81264658,\n",
       "       0.81308652, 0.81352574, 0.81396413, 0.81440179, 0.81483914,\n",
       "       0.81527515, 0.81571072, 0.81614576, 0.81658023, 0.81701439,\n",
       "       0.81744764, 0.81788016, 0.81831225, 0.81874283, 0.81917295,\n",
       "       0.81960231, 0.82003131, 0.8204594 , 0.82088604, 0.82131232,\n",
       "       0.82173767, 0.82216211, 0.82258603, 0.82300953, 0.82343163,\n",
       "       0.82385344, 0.82427412, 0.82469465, 0.82511491, 0.8255333 ,\n",
       "       0.82595113, 0.82636865, 0.82678503, 0.82720111, 0.82761584,\n",
       "       0.82802994, 0.82844334, 0.82885621, 0.82926848, 0.82968036,\n",
       "       0.83009079, 0.83050085, 0.83091031, 0.83131927, 0.8317265 ,\n",
       "       0.83213332, 0.83253841, 0.83294326, 0.83334747, 0.83375132,\n",
       "       0.83415418, 0.83455691, 0.83495887, 0.83536032, 0.83576065,\n",
       "       0.83616088, 0.83655876, 0.83695649, 0.83735372, 0.83775018,\n",
       "       0.8381461 , 0.83854076, 0.83893495, 0.83932832, 0.8397205 ,\n",
       "       0.84011174, 0.84050209, 0.84089214, 0.8412812 , 0.84166922,\n",
       "       0.84205721, 0.84244408, 0.8428306 , 0.843217  , 0.84360292,\n",
       "       0.84398856, 0.8443736 , 0.84475721, 0.84514036, 0.84552275,\n",
       "       0.84590462, 0.84628638, 0.84666658, 0.84704648, 0.84742529,\n",
       "       0.84780348, 0.84818135, 0.84855878, 0.84893552, 0.8493119 ,\n",
       "       0.84968752, 0.8500628 , 0.85043753, 0.85081138, 0.85118406,\n",
       "       0.85155619, 0.85192778, 0.85229825, 0.85266826, 0.85303744,\n",
       "       0.85340586, 0.85377349, 0.8541403 , 0.85450674, 0.85487257,\n",
       "       0.85523767, 0.85560185, 0.85596506, 0.85632805, 0.8566902 ,\n",
       "       0.85705159, 0.85741255, 0.85777319, 0.85813349, 0.85849316,\n",
       "       0.85885145, 0.85920914, 0.85956596, 0.85992228, 0.86027751,\n",
       "       0.86063233, 0.8609866 , 0.86133999, 0.86169198, 0.86204331,\n",
       "       0.86239416, 0.86274437, 0.8630941 , 0.86344322, 0.86379168,\n",
       "       0.86413876, 0.8644856 , 0.86483203, 0.8651774 , 0.86552243,\n",
       "       0.86586716, 0.86621107, 0.86655418, 0.86689664, 0.86723835,\n",
       "       0.86757943, 0.86791972, 0.8682587 , 0.86859729, 0.86893473,\n",
       "       0.86927163, 0.86960743, 0.86994241, 0.87027625, 0.87060982,\n",
       "       0.87094272, 0.87127534, 0.87160689, 0.87193721, 0.87226669,\n",
       "       0.87259542, 0.87292357, 0.87325131, 0.87357821, 0.87390386,\n",
       "       0.8742278 , 0.87455122, 0.87487403, 0.87519624, 0.87551744,\n",
       "       0.87583826, 0.876158  , 0.87647618, 0.87679403, 0.87711135,\n",
       "       0.8774277 , 0.87774378, 0.87805929, 0.8783741 , 0.87868739,\n",
       "       0.87900001, 0.87931157, 0.87962256, 0.87993273, 0.88024253,\n",
       "       0.88055142, 0.88085869, 0.8811652 , 0.88147122, 0.88177595,\n",
       "       0.88208035, 0.88238413, 0.88268601, 0.88298725, 0.88328748,\n",
       "       0.88358693, 0.88388585, 0.88418301, 0.8844783 , 0.88477312,\n",
       "       0.88506701, 0.88535949, 0.88565151, 0.88594283, 0.88623313,\n",
       "       0.88652236, 0.8868109 , 0.88709825, 0.88738374, 0.88766848,\n",
       "       0.88795215, 0.88823537, 0.88851776, 0.88879887, 0.88907966,\n",
       "       0.88935761, 0.88963446, 0.88991048, 0.89018467, 0.89045747,\n",
       "       0.89072861, 0.890999  , 0.89126906, 0.89153741, 0.89180509,\n",
       "       0.89207224, 0.89233734, 0.89260084, 0.89286322, 0.89312471,\n",
       "       0.89338503, 0.89364348, 0.89389983, 0.89415569, 0.89440924,\n",
       "       0.89466182, 0.89491135, 0.89515796, 0.89540371, 0.89564808,\n",
       "       0.89589218, 0.89613465, 0.89637639, 0.89661613, 0.89685487,\n",
       "       0.89709202, 0.89732716, 0.8975592 , 0.89778975, 0.89801853,\n",
       "       0.89824353, 0.89846706, 0.89868918, 0.89890983, 0.89912764,\n",
       "       0.89934438, 0.89955874, 0.89976784, 0.8999761 , 0.90018215,\n",
       "       0.90038342, 0.90058268, 0.9007783 , 0.90097295, 0.90116066,\n",
       "       0.90134517, 0.90152822, 0.90170766, 0.90188554, 0.90206155,\n",
       "       0.90223527, 0.90240796, 0.90257938, 0.90274954, 0.90291787,\n",
       "       0.90308471, 0.90325077, 0.90340964, 0.9035674 , 0.90372316,\n",
       "       0.90387727, 0.90402821, 0.90417499, 0.90432136, 0.90446655,\n",
       "       0.90461012, 0.90475276, 0.90489189, 0.90502884, 0.90516393,\n",
       "       0.90529626, 0.90542766, 0.90555799, 0.90568621, 0.90581249,\n",
       "       0.90593632, 0.90605963, 0.90618279, 0.90630467, 0.90642182,\n",
       "       0.90653731, 0.90664987, 0.90675625, 0.9068606 , 0.90696336,\n",
       "       0.90706272, 0.90716141, 0.90725861, 0.90735473, 0.90744787,\n",
       "       0.90753897, 0.90762903, 0.90771827, 0.90780566, 0.90789165,\n",
       "       0.90797629, 0.90805848, 0.90813938, 0.90821836, 0.9082944 ,\n",
       "       0.90837034, 0.90844358, 0.9085141 , 0.90858348, 0.90865164,\n",
       "       0.90871869, 0.90878437, 0.90884954, 0.90891385, 0.9089775 ,\n",
       "       0.90903782, 0.90909785, 0.90915617, 0.90921329, 0.90927009,\n",
       "       0.90932617, 0.90938119, 0.9094339 , 0.90948638, 0.90953341,\n",
       "       0.90957804, 0.90962128, 0.90966223, 0.90970093, 0.90973908,\n",
       "       0.90977619, 0.90981221, 0.90984716, 0.90988182, 0.90991455,\n",
       "       0.90994437, 0.90997371, 0.91000108, 0.91002795, 0.91005453,\n",
       "       0.91008044, 0.91010507, 0.91012951, 0.91015283, 0.91017536])"
      ]
     },
     "execution_count": 41,
     "metadata": {},
     "output_type": "execute_result"
    }
   ],
   "source": [
    "np.cumsum(SVD.explained_variance_)"
   ]
  },
  {
   "cell_type": "code",
   "execution_count": 42,
   "metadata": {},
   "outputs": [],
   "source": [
    "component_names = [\"component_\"+str(i+1) for i in range(1000)]\n",
    "svd_df = pd.SparseDataFrame(svd_matrix,columns=component_names)"
   ]
  },
  {
   "cell_type": "code",
   "execution_count": 43,
   "metadata": {},
   "outputs": [
    {
     "data": {
      "text/html": [
       "<div>\n",
       "<style scoped>\n",
       "    .dataframe tbody tr th:only-of-type {\n",
       "        vertical-align: middle;\n",
       "    }\n",
       "\n",
       "    .dataframe tbody tr th {\n",
       "        vertical-align: top;\n",
       "    }\n",
       "\n",
       "    .dataframe thead th {\n",
       "        text-align: right;\n",
       "    }\n",
       "</style>\n",
       "<table border=\"1\" class=\"dataframe\">\n",
       "  <thead>\n",
       "    <tr style=\"text-align: right;\">\n",
       "      <th></th>\n",
       "      <th>component_1</th>\n",
       "      <th>component_2</th>\n",
       "      <th>component_3</th>\n",
       "      <th>component_4</th>\n",
       "      <th>component_5</th>\n",
       "      <th>component_6</th>\n",
       "      <th>component_7</th>\n",
       "      <th>component_8</th>\n",
       "      <th>component_9</th>\n",
       "      <th>component_10</th>\n",
       "      <th>...</th>\n",
       "      <th>component_991</th>\n",
       "      <th>component_992</th>\n",
       "      <th>component_993</th>\n",
       "      <th>component_994</th>\n",
       "      <th>component_995</th>\n",
       "      <th>component_996</th>\n",
       "      <th>component_997</th>\n",
       "      <th>component_998</th>\n",
       "      <th>component_999</th>\n",
       "      <th>component_1000</th>\n",
       "    </tr>\n",
       "  </thead>\n",
       "  <tbody>\n",
       "    <tr>\n",
       "      <th>0</th>\n",
       "      <td>0.000763</td>\n",
       "      <td>0.003600</td>\n",
       "      <td>-0.000719</td>\n",
       "      <td>0.013132</td>\n",
       "      <td>0.000306</td>\n",
       "      <td>0.004348</td>\n",
       "      <td>-0.000667</td>\n",
       "      <td>0.000021</td>\n",
       "      <td>0.002468</td>\n",
       "      <td>-0.002633</td>\n",
       "      <td>...</td>\n",
       "      <td>0.000068</td>\n",
       "      <td>0.000252</td>\n",
       "      <td>0.000150</td>\n",
       "      <td>0.000381</td>\n",
       "      <td>0.000669</td>\n",
       "      <td>0.000307</td>\n",
       "      <td>-0.001478</td>\n",
       "      <td>0.000684</td>\n",
       "      <td>0.000034</td>\n",
       "      <td>-0.000204</td>\n",
       "    </tr>\n",
       "    <tr>\n",
       "      <th>1</th>\n",
       "      <td>0.104693</td>\n",
       "      <td>0.008187</td>\n",
       "      <td>-0.000663</td>\n",
       "      <td>0.053874</td>\n",
       "      <td>0.004920</td>\n",
       "      <td>0.005132</td>\n",
       "      <td>-0.023113</td>\n",
       "      <td>0.003995</td>\n",
       "      <td>0.052652</td>\n",
       "      <td>-0.017968</td>\n",
       "      <td>...</td>\n",
       "      <td>0.000951</td>\n",
       "      <td>0.000195</td>\n",
       "      <td>0.001228</td>\n",
       "      <td>-0.000440</td>\n",
       "      <td>0.000225</td>\n",
       "      <td>0.001832</td>\n",
       "      <td>-0.004197</td>\n",
       "      <td>0.001264</td>\n",
       "      <td>0.000323</td>\n",
       "      <td>0.000234</td>\n",
       "    </tr>\n",
       "    <tr>\n",
       "      <th>2</th>\n",
       "      <td>0.361589</td>\n",
       "      <td>0.459405</td>\n",
       "      <td>-0.018528</td>\n",
       "      <td>-0.011607</td>\n",
       "      <td>0.019071</td>\n",
       "      <td>-0.016191</td>\n",
       "      <td>-0.004097</td>\n",
       "      <td>-0.021493</td>\n",
       "      <td>0.059154</td>\n",
       "      <td>-0.003334</td>\n",
       "      <td>...</td>\n",
       "      <td>0.000463</td>\n",
       "      <td>-0.000300</td>\n",
       "      <td>-0.000591</td>\n",
       "      <td>-0.000767</td>\n",
       "      <td>0.000306</td>\n",
       "      <td>-0.000057</td>\n",
       "      <td>-0.000370</td>\n",
       "      <td>-0.000374</td>\n",
       "      <td>-0.000041</td>\n",
       "      <td>-0.001863</td>\n",
       "    </tr>\n",
       "    <tr>\n",
       "      <th>3</th>\n",
       "      <td>0.017566</td>\n",
       "      <td>0.161691</td>\n",
       "      <td>-0.014753</td>\n",
       "      <td>0.018574</td>\n",
       "      <td>-0.007673</td>\n",
       "      <td>-0.001119</td>\n",
       "      <td>-0.011162</td>\n",
       "      <td>-0.012572</td>\n",
       "      <td>0.005956</td>\n",
       "      <td>-0.000798</td>\n",
       "      <td>...</td>\n",
       "      <td>-0.000543</td>\n",
       "      <td>0.002232</td>\n",
       "      <td>-0.001896</td>\n",
       "      <td>-0.002930</td>\n",
       "      <td>-0.003844</td>\n",
       "      <td>0.000578</td>\n",
       "      <td>-0.002813</td>\n",
       "      <td>0.001696</td>\n",
       "      <td>-0.002092</td>\n",
       "      <td>-0.000369</td>\n",
       "    </tr>\n",
       "    <tr>\n",
       "      <th>4</th>\n",
       "      <td>0.008087</td>\n",
       "      <td>0.028835</td>\n",
       "      <td>-0.008641</td>\n",
       "      <td>0.213131</td>\n",
       "      <td>-0.022344</td>\n",
       "      <td>-0.036412</td>\n",
       "      <td>0.057618</td>\n",
       "      <td>0.009185</td>\n",
       "      <td>0.232568</td>\n",
       "      <td>0.137481</td>\n",
       "      <td>...</td>\n",
       "      <td>0.000072</td>\n",
       "      <td>-0.000043</td>\n",
       "      <td>-0.000096</td>\n",
       "      <td>0.000480</td>\n",
       "      <td>0.000212</td>\n",
       "      <td>0.000248</td>\n",
       "      <td>0.000311</td>\n",
       "      <td>0.000276</td>\n",
       "      <td>0.000152</td>\n",
       "      <td>0.000239</td>\n",
       "    </tr>\n",
       "  </tbody>\n",
       "</table>\n",
       "<p>5 rows × 1000 columns</p>\n",
       "</div>"
      ],
      "text/plain": [
       "   component_1  component_2  component_3  component_4  component_5  \\\n",
       "0     0.000763     0.003600    -0.000719     0.013132     0.000306   \n",
       "1     0.104693     0.008187    -0.000663     0.053874     0.004920   \n",
       "2     0.361589     0.459405    -0.018528    -0.011607     0.019071   \n",
       "3     0.017566     0.161691    -0.014753     0.018574    -0.007673   \n",
       "4     0.008087     0.028835    -0.008641     0.213131    -0.022344   \n",
       "\n",
       "   component_6  component_7  component_8  component_9  component_10  \\\n",
       "0     0.004348    -0.000667     0.000021     0.002468     -0.002633   \n",
       "1     0.005132    -0.023113     0.003995     0.052652     -0.017968   \n",
       "2    -0.016191    -0.004097    -0.021493     0.059154     -0.003334   \n",
       "3    -0.001119    -0.011162    -0.012572     0.005956     -0.000798   \n",
       "4    -0.036412     0.057618     0.009185     0.232568      0.137481   \n",
       "\n",
       "        ...        component_991  component_992  component_993  component_994  \\\n",
       "0       ...             0.000068       0.000252       0.000150       0.000381   \n",
       "1       ...             0.000951       0.000195       0.001228      -0.000440   \n",
       "2       ...             0.000463      -0.000300      -0.000591      -0.000767   \n",
       "3       ...            -0.000543       0.002232      -0.001896      -0.002930   \n",
       "4       ...             0.000072      -0.000043      -0.000096       0.000480   \n",
       "\n",
       "   component_995  component_996  component_997  component_998  component_999  \\\n",
       "0       0.000669       0.000307      -0.001478       0.000684       0.000034   \n",
       "1       0.000225       0.001832      -0.004197       0.001264       0.000323   \n",
       "2       0.000306      -0.000057      -0.000370      -0.000374      -0.000041   \n",
       "3      -0.003844       0.000578      -0.002813       0.001696      -0.002092   \n",
       "4       0.000212       0.000248       0.000311       0.000276       0.000152   \n",
       "\n",
       "   component_1000  \n",
       "0       -0.000204  \n",
       "1        0.000234  \n",
       "2       -0.001863  \n",
       "3       -0.000369  \n",
       "4        0.000239  \n",
       "\n",
       "[5 rows x 1000 columns]"
      ]
     },
     "execution_count": 43,
     "metadata": {},
     "output_type": "execute_result"
    }
   ],
   "source": [
    "svd_df.head()"
   ]
  },
  {
   "cell_type": "code",
   "execution_count": 44,
   "metadata": {},
   "outputs": [],
   "source": [
    "loadings = pd.SparseDataFrame(SVD.components_,\n",
    "                              index=component_names,\n",
    "                              columns=df_tfidf.columns).T"
   ]
  },
  {
   "cell_type": "code",
   "execution_count": 45,
   "metadata": {},
   "outputs": [],
   "source": [
    "loadings['abs_component_1'] = np.abs(loadings.component_1)\n",
    "loadings['abs_component_2'] = np.abs(loadings.component_2)\n",
    "loadings['abs_component_3'] = np.abs(loadings.component_3)\n",
    "loadings['abs_component_4'] = np.abs(loadings.component_4)"
   ]
  },
  {
   "cell_type": "code",
   "execution_count": 46,
   "metadata": {},
   "outputs": [
    {
     "data": {
      "text/html": [
       "<div>\n",
       "<style scoped>\n",
       "    .dataframe tbody tr th:only-of-type {\n",
       "        vertical-align: middle;\n",
       "    }\n",
       "\n",
       "    .dataframe tbody tr th {\n",
       "        vertical-align: top;\n",
       "    }\n",
       "\n",
       "    .dataframe thead th {\n",
       "        text-align: right;\n",
       "    }\n",
       "</style>\n",
       "<table border=\"1\" class=\"dataframe\">\n",
       "  <thead>\n",
       "    <tr style=\"text-align: right;\">\n",
       "      <th></th>\n",
       "      <th>component_1</th>\n",
       "      <th>component_2</th>\n",
       "      <th>component_3</th>\n",
       "      <th>component_4</th>\n",
       "      <th>component_5</th>\n",
       "      <th>component_6</th>\n",
       "      <th>component_7</th>\n",
       "      <th>component_8</th>\n",
       "      <th>component_9</th>\n",
       "      <th>component_10</th>\n",
       "      <th>...</th>\n",
       "      <th>component_995</th>\n",
       "      <th>component_996</th>\n",
       "      <th>component_997</th>\n",
       "      <th>component_998</th>\n",
       "      <th>component_999</th>\n",
       "      <th>component_1000</th>\n",
       "      <th>abs_component_1</th>\n",
       "      <th>abs_component_2</th>\n",
       "      <th>abs_component_3</th>\n",
       "      <th>abs_component_4</th>\n",
       "    </tr>\n",
       "  </thead>\n",
       "  <tbody>\n",
       "    <tr>\n",
       "      <th>00</th>\n",
       "      <td>0.000778</td>\n",
       "      <td>0.001449</td>\n",
       "      <td>-0.000124</td>\n",
       "      <td>0.004630</td>\n",
       "      <td>-0.000716</td>\n",
       "      <td>0.001178</td>\n",
       "      <td>0.000149</td>\n",
       "      <td>0.000199</td>\n",
       "      <td>0.012501</td>\n",
       "      <td>-0.010824</td>\n",
       "      <td>...</td>\n",
       "      <td>-0.000837</td>\n",
       "      <td>-0.000173</td>\n",
       "      <td>-0.000774</td>\n",
       "      <td>0.000719</td>\n",
       "      <td>-0.000272</td>\n",
       "      <td>0.000042</td>\n",
       "      <td>0.000778</td>\n",
       "      <td>0.001449</td>\n",
       "      <td>0.000124</td>\n",
       "      <td>0.004630</td>\n",
       "    </tr>\n",
       "    <tr>\n",
       "      <th>000</th>\n",
       "      <td>0.001080</td>\n",
       "      <td>0.005306</td>\n",
       "      <td>-0.000519</td>\n",
       "      <td>0.005720</td>\n",
       "      <td>-0.000432</td>\n",
       "      <td>-0.001776</td>\n",
       "      <td>-0.002579</td>\n",
       "      <td>0.004127</td>\n",
       "      <td>0.004204</td>\n",
       "      <td>-0.002673</td>\n",
       "      <td>...</td>\n",
       "      <td>-0.000627</td>\n",
       "      <td>-0.000134</td>\n",
       "      <td>0.002362</td>\n",
       "      <td>0.000606</td>\n",
       "      <td>-0.004150</td>\n",
       "      <td>-0.000127</td>\n",
       "      <td>0.001080</td>\n",
       "      <td>0.005306</td>\n",
       "      <td>0.000519</td>\n",
       "      <td>0.005720</td>\n",
       "    </tr>\n",
       "    <tr>\n",
       "      <th>10</th>\n",
       "      <td>0.002954</td>\n",
       "      <td>0.009496</td>\n",
       "      <td>0.009391</td>\n",
       "      <td>0.016573</td>\n",
       "      <td>-0.002950</td>\n",
       "      <td>-0.001380</td>\n",
       "      <td>-0.006681</td>\n",
       "      <td>-0.000409</td>\n",
       "      <td>0.012022</td>\n",
       "      <td>-0.008319</td>\n",
       "      <td>...</td>\n",
       "      <td>0.000064</td>\n",
       "      <td>0.001081</td>\n",
       "      <td>0.001786</td>\n",
       "      <td>-0.003420</td>\n",
       "      <td>0.000509</td>\n",
       "      <td>-0.000325</td>\n",
       "      <td>0.002954</td>\n",
       "      <td>0.009496</td>\n",
       "      <td>0.009391</td>\n",
       "      <td>0.016573</td>\n",
       "    </tr>\n",
       "    <tr>\n",
       "      <th>100</th>\n",
       "      <td>0.001452</td>\n",
       "      <td>0.004386</td>\n",
       "      <td>0.013690</td>\n",
       "      <td>0.008116</td>\n",
       "      <td>-0.001502</td>\n",
       "      <td>-0.002334</td>\n",
       "      <td>0.006076</td>\n",
       "      <td>-0.000299</td>\n",
       "      <td>-0.000368</td>\n",
       "      <td>0.001890</td>\n",
       "      <td>...</td>\n",
       "      <td>0.000225</td>\n",
       "      <td>-0.018638</td>\n",
       "      <td>0.001597</td>\n",
       "      <td>0.000572</td>\n",
       "      <td>0.000101</td>\n",
       "      <td>0.000163</td>\n",
       "      <td>0.001452</td>\n",
       "      <td>0.004386</td>\n",
       "      <td>0.013690</td>\n",
       "      <td>0.008116</td>\n",
       "    </tr>\n",
       "    <tr>\n",
       "      <th>11</th>\n",
       "      <td>0.001051</td>\n",
       "      <td>0.004584</td>\n",
       "      <td>0.001693</td>\n",
       "      <td>0.006550</td>\n",
       "      <td>-0.001599</td>\n",
       "      <td>0.002068</td>\n",
       "      <td>-0.000224</td>\n",
       "      <td>-0.000224</td>\n",
       "      <td>0.007772</td>\n",
       "      <td>-0.005277</td>\n",
       "      <td>...</td>\n",
       "      <td>0.000373</td>\n",
       "      <td>-0.000138</td>\n",
       "      <td>0.001359</td>\n",
       "      <td>0.001487</td>\n",
       "      <td>-0.000102</td>\n",
       "      <td>0.000200</td>\n",
       "      <td>0.001051</td>\n",
       "      <td>0.004584</td>\n",
       "      <td>0.001693</td>\n",
       "      <td>0.006550</td>\n",
       "    </tr>\n",
       "  </tbody>\n",
       "</table>\n",
       "<p>5 rows × 1004 columns</p>\n",
       "</div>"
      ],
      "text/plain": [
       "     component_1  component_2  component_3  component_4  component_5  \\\n",
       "00      0.000778     0.001449    -0.000124     0.004630    -0.000716   \n",
       "000     0.001080     0.005306    -0.000519     0.005720    -0.000432   \n",
       "10      0.002954     0.009496     0.009391     0.016573    -0.002950   \n",
       "100     0.001452     0.004386     0.013690     0.008116    -0.001502   \n",
       "11      0.001051     0.004584     0.001693     0.006550    -0.001599   \n",
       "\n",
       "     component_6  component_7  component_8  component_9  component_10  \\\n",
       "00      0.001178     0.000149     0.000199     0.012501     -0.010824   \n",
       "000    -0.001776    -0.002579     0.004127     0.004204     -0.002673   \n",
       "10     -0.001380    -0.006681    -0.000409     0.012022     -0.008319   \n",
       "100    -0.002334     0.006076    -0.000299    -0.000368      0.001890   \n",
       "11      0.002068    -0.000224    -0.000224     0.007772     -0.005277   \n",
       "\n",
       "          ...         component_995  component_996  component_997  \\\n",
       "00        ...             -0.000837      -0.000173      -0.000774   \n",
       "000       ...             -0.000627      -0.000134       0.002362   \n",
       "10        ...              0.000064       0.001081       0.001786   \n",
       "100       ...              0.000225      -0.018638       0.001597   \n",
       "11        ...              0.000373      -0.000138       0.001359   \n",
       "\n",
       "     component_998  component_999  component_1000  abs_component_1  \\\n",
       "00        0.000719      -0.000272        0.000042         0.000778   \n",
       "000       0.000606      -0.004150       -0.000127         0.001080   \n",
       "10       -0.003420       0.000509       -0.000325         0.002954   \n",
       "100       0.000572       0.000101        0.000163         0.001452   \n",
       "11        0.001487      -0.000102        0.000200         0.001051   \n",
       "\n",
       "     abs_component_2  abs_component_3  abs_component_4  \n",
       "00          0.001449         0.000124         0.004630  \n",
       "000         0.005306         0.000519         0.005720  \n",
       "10          0.009496         0.009391         0.016573  \n",
       "100         0.004386         0.013690         0.008116  \n",
       "11          0.004584         0.001693         0.006550  \n",
       "\n",
       "[5 rows x 1004 columns]"
      ]
     },
     "execution_count": 46,
     "metadata": {},
     "output_type": "execute_result"
    }
   ],
   "source": [
    "loadings.head()"
   ]
  },
  {
   "cell_type": "code",
   "execution_count": 47,
   "metadata": {
    "scrolled": true
   },
   "outputs": [
    {
     "data": {
      "text/html": [
       "<div>\n",
       "<style scoped>\n",
       "    .dataframe tbody tr th:only-of-type {\n",
       "        vertical-align: middle;\n",
       "    }\n",
       "\n",
       "    .dataframe tbody tr th {\n",
       "        vertical-align: top;\n",
       "    }\n",
       "\n",
       "    .dataframe thead th {\n",
       "        text-align: right;\n",
       "    }\n",
       "</style>\n",
       "<table border=\"1\" class=\"dataframe\">\n",
       "  <thead>\n",
       "    <tr style=\"text-align: right;\">\n",
       "      <th></th>\n",
       "      <th>component_1</th>\n",
       "    </tr>\n",
       "  </thead>\n",
       "  <tbody>\n",
       "    <tr>\n",
       "      <th>url</th>\n",
       "      <td>0.992409</td>\n",
       "    </tr>\n",
       "    <tr>\n",
       "      <th>rt</th>\n",
       "      <td>0.103699</td>\n",
       "    </tr>\n",
       "    <tr>\n",
       "      <th>url url</th>\n",
       "      <td>0.034879</td>\n",
       "    </tr>\n",
       "    <tr>\n",
       "      <th>just</th>\n",
       "      <td>0.012125</td>\n",
       "    </tr>\n",
       "    <tr>\n",
       "      <th>new</th>\n",
       "      <td>0.009599</td>\n",
       "    </tr>\n",
       "    <tr>\n",
       "      <th>like</th>\n",
       "      <td>0.009184</td>\n",
       "    </tr>\n",
       "    <tr>\n",
       "      <th>amp</th>\n",
       "      <td>0.009029</td>\n",
       "    </tr>\n",
       "    <tr>\n",
       "      <th>wa</th>\n",
       "      <td>0.008999</td>\n",
       "    </tr>\n",
       "    <tr>\n",
       "      <th>love</th>\n",
       "      <td>0.008762</td>\n",
       "    </tr>\n",
       "    <tr>\n",
       "      <th>time</th>\n",
       "      <td>0.007926</td>\n",
       "    </tr>\n",
       "    <tr>\n",
       "      <th>charlotte</th>\n",
       "      <td>0.007480</td>\n",
       "    </tr>\n",
       "    <tr>\n",
       "      <th>today</th>\n",
       "      <td>0.006938</td>\n",
       "    </tr>\n",
       "    <tr>\n",
       "      <th>good</th>\n",
       "      <td>0.006878</td>\n",
       "    </tr>\n",
       "    <tr>\n",
       "      <th>ha</th>\n",
       "      <td>0.006864</td>\n",
       "    </tr>\n",
       "    <tr>\n",
       "      <th>know</th>\n",
       "      <td>0.006813</td>\n",
       "    </tr>\n",
       "    <tr>\n",
       "      <th>people</th>\n",
       "      <td>0.006598</td>\n",
       "    </tr>\n",
       "    <tr>\n",
       "      <th>don</th>\n",
       "      <td>0.006482</td>\n",
       "    </tr>\n",
       "    <tr>\n",
       "      <th>2019</th>\n",
       "      <td>0.006348</td>\n",
       "    </tr>\n",
       "    <tr>\n",
       "      <th>day</th>\n",
       "      <td>0.006246</td>\n",
       "    </tr>\n",
       "    <tr>\n",
       "      <th>need</th>\n",
       "      <td>0.006073</td>\n",
       "    </tr>\n",
       "  </tbody>\n",
       "</table>\n",
       "</div>"
      ],
      "text/plain": [
       "           component_1\n",
       "url           0.992409\n",
       "rt            0.103699\n",
       "url url       0.034879\n",
       "just          0.012125\n",
       "new           0.009599\n",
       "like          0.009184\n",
       "amp           0.009029\n",
       "wa            0.008999\n",
       "love          0.008762\n",
       "time          0.007926\n",
       "charlotte     0.007480\n",
       "today         0.006938\n",
       "good          0.006878\n",
       "ha            0.006864\n",
       "know          0.006813\n",
       "people        0.006598\n",
       "don           0.006482\n",
       "2019          0.006348\n",
       "day           0.006246\n",
       "need          0.006073"
      ]
     },
     "execution_count": 47,
     "metadata": {},
     "output_type": "execute_result"
    }
   ],
   "source": [
    "loadings.sort_values('abs_component_1',ascending=False).head(20)[['component_1']]"
   ]
  },
  {
   "cell_type": "code",
   "execution_count": 48,
   "metadata": {},
   "outputs": [
    {
     "data": {
      "text/html": [
       "<div>\n",
       "<style scoped>\n",
       "    .dataframe tbody tr th:only-of-type {\n",
       "        vertical-align: middle;\n",
       "    }\n",
       "\n",
       "    .dataframe tbody tr th {\n",
       "        vertical-align: top;\n",
       "    }\n",
       "\n",
       "    .dataframe thead th {\n",
       "        text-align: right;\n",
       "    }\n",
       "</style>\n",
       "<table border=\"1\" class=\"dataframe\">\n",
       "  <thead>\n",
       "    <tr style=\"text-align: right;\">\n",
       "      <th></th>\n",
       "      <th>component_2</th>\n",
       "    </tr>\n",
       "  </thead>\n",
       "  <tbody>\n",
       "    <tr>\n",
       "      <th>rt</th>\n",
       "      <td>0.969221</td>\n",
       "    </tr>\n",
       "    <tr>\n",
       "      <th>url</th>\n",
       "      <td>-0.112232</td>\n",
       "    </tr>\n",
       "    <tr>\n",
       "      <th>mitchellvii</th>\n",
       "      <td>0.043501</td>\n",
       "    </tr>\n",
       "    <tr>\n",
       "      <th>rt mitchellvii</th>\n",
       "      <td>0.043293</td>\n",
       "    </tr>\n",
       "    <tr>\n",
       "      <th>amp</th>\n",
       "      <td>0.039612</td>\n",
       "    </tr>\n",
       "    <tr>\n",
       "      <th>available</th>\n",
       "      <td>0.038678</td>\n",
       "    </tr>\n",
       "    <tr>\n",
       "      <th>just</th>\n",
       "      <td>0.038083</td>\n",
       "    </tr>\n",
       "    <tr>\n",
       "      <th>purchase</th>\n",
       "      <td>0.036648</td>\n",
       "    </tr>\n",
       "    <tr>\n",
       "      <th>free</th>\n",
       "      <td>0.036524</td>\n",
       "    </tr>\n",
       "    <tr>\n",
       "      <th>available purchase</th>\n",
       "      <td>0.036383</td>\n",
       "    </tr>\n",
       "    <tr>\n",
       "      <th>like</th>\n",
       "      <td>0.036141</td>\n",
       "    </tr>\n",
       "    <tr>\n",
       "      <th>wa</th>\n",
       "      <td>0.035575</td>\n",
       "    </tr>\n",
       "    <tr>\n",
       "      <th>buy</th>\n",
       "      <td>0.033621</td>\n",
       "    </tr>\n",
       "    <tr>\n",
       "      <th>shipping</th>\n",
       "      <td>0.032033</td>\n",
       "    </tr>\n",
       "    <tr>\n",
       "      <th>shipping buy</th>\n",
       "      <td>0.030394</td>\n",
       "    </tr>\n",
       "    <tr>\n",
       "      <th>don</th>\n",
       "      <td>0.029697</td>\n",
       "    </tr>\n",
       "    <tr>\n",
       "      <th>free shipping</th>\n",
       "      <td>0.028960</td>\n",
       "    </tr>\n",
       "    <tr>\n",
       "      <th>time</th>\n",
       "      <td>0.028869</td>\n",
       "    </tr>\n",
       "    <tr>\n",
       "      <th>love</th>\n",
       "      <td>0.027792</td>\n",
       "    </tr>\n",
       "    <tr>\n",
       "      <th>day</th>\n",
       "      <td>0.027194</td>\n",
       "    </tr>\n",
       "  </tbody>\n",
       "</table>\n",
       "</div>"
      ],
      "text/plain": [
       "                    component_2\n",
       "rt                     0.969221\n",
       "url                   -0.112232\n",
       "mitchellvii            0.043501\n",
       "rt mitchellvii         0.043293\n",
       "amp                    0.039612\n",
       "available              0.038678\n",
       "just                   0.038083\n",
       "purchase               0.036648\n",
       "free                   0.036524\n",
       "available purchase     0.036383\n",
       "like                   0.036141\n",
       "wa                     0.035575\n",
       "buy                    0.033621\n",
       "shipping               0.032033\n",
       "shipping buy           0.030394\n",
       "don                    0.029697\n",
       "free shipping          0.028960\n",
       "time                   0.028869\n",
       "love                   0.027792\n",
       "day                    0.027194"
      ]
     },
     "execution_count": 48,
     "metadata": {},
     "output_type": "execute_result"
    }
   ],
   "source": [
    "loadings.sort_values('abs_component_2',ascending=False).head(20)[['component_2']]"
   ]
  },
  {
   "cell_type": "code",
   "execution_count": 49,
   "metadata": {},
   "outputs": [
    {
     "data": {
      "text/html": [
       "<div>\n",
       "<style scoped>\n",
       "    .dataframe tbody tr th:only-of-type {\n",
       "        vertical-align: middle;\n",
       "    }\n",
       "\n",
       "    .dataframe tbody tr th {\n",
       "        vertical-align: top;\n",
       "    }\n",
       "\n",
       "    .dataframe thead th {\n",
       "        text-align: right;\n",
       "    }\n",
       "</style>\n",
       "<table border=\"1\" class=\"dataframe\">\n",
       "  <thead>\n",
       "    <tr style=\"text-align: right;\">\n",
       "      <th></th>\n",
       "      <th>component_3</th>\n",
       "    </tr>\n",
       "  </thead>\n",
       "  <tbody>\n",
       "    <tr>\n",
       "      <th>available</th>\n",
       "      <td>0.316487</td>\n",
       "    </tr>\n",
       "    <tr>\n",
       "      <th>purchase</th>\n",
       "      <td>0.309632</td>\n",
       "    </tr>\n",
       "    <tr>\n",
       "      <th>available purchase</th>\n",
       "      <td>0.308289</td>\n",
       "    </tr>\n",
       "    <tr>\n",
       "      <th>free</th>\n",
       "      <td>0.305371</td>\n",
       "    </tr>\n",
       "    <tr>\n",
       "      <th>buy</th>\n",
       "      <td>0.297164</td>\n",
       "    </tr>\n",
       "    <tr>\n",
       "      <th>shipping</th>\n",
       "      <td>0.287911</td>\n",
       "    </tr>\n",
       "    <tr>\n",
       "      <th>shipping buy</th>\n",
       "      <td>0.280864</td>\n",
       "    </tr>\n",
       "    <tr>\n",
       "      <th>free shipping</th>\n",
       "      <td>0.269851</td>\n",
       "    </tr>\n",
       "    <tr>\n",
       "      <th>buy url</th>\n",
       "      <td>0.253548</td>\n",
       "    </tr>\n",
       "    <tr>\n",
       "      <th>nike</th>\n",
       "      <td>0.162117</td>\n",
       "    </tr>\n",
       "    <tr>\n",
       "      <th>sale</th>\n",
       "      <td>0.147197</td>\n",
       "    </tr>\n",
       "    <tr>\n",
       "      <th>purchase sale</th>\n",
       "      <td>0.139958</td>\n",
       "    </tr>\n",
       "    <tr>\n",
       "      <th>rt</th>\n",
       "      <td>-0.116201</td>\n",
       "    </tr>\n",
       "    <tr>\n",
       "      <th>air</th>\n",
       "      <td>0.107495</td>\n",
       "    </tr>\n",
       "    <tr>\n",
       "      <th>black</th>\n",
       "      <td>0.102856</td>\n",
       "    </tr>\n",
       "    <tr>\n",
       "      <th>adidas</th>\n",
       "      <td>0.076619</td>\n",
       "    </tr>\n",
       "    <tr>\n",
       "      <th>nike air</th>\n",
       "      <td>0.071511</td>\n",
       "    </tr>\n",
       "    <tr>\n",
       "      <th>snkrconnecthq</th>\n",
       "      <td>0.069832</td>\n",
       "    </tr>\n",
       "    <tr>\n",
       "      <th>rt snkrconnecthq</th>\n",
       "      <td>0.069832</td>\n",
       "    </tr>\n",
       "    <tr>\n",
       "      <th>black available</th>\n",
       "      <td>0.067415</td>\n",
       "    </tr>\n",
       "  </tbody>\n",
       "</table>\n",
       "</div>"
      ],
      "text/plain": [
       "                    component_3\n",
       "available              0.316487\n",
       "purchase               0.309632\n",
       "available purchase     0.308289\n",
       "free                   0.305371\n",
       "buy                    0.297164\n",
       "shipping               0.287911\n",
       "shipping buy           0.280864\n",
       "free shipping          0.269851\n",
       "buy url                0.253548\n",
       "nike                   0.162117\n",
       "sale                   0.147197\n",
       "purchase sale          0.139958\n",
       "rt                    -0.116201\n",
       "air                    0.107495\n",
       "black                  0.102856\n",
       "adidas                 0.076619\n",
       "nike air               0.071511\n",
       "snkrconnecthq          0.069832\n",
       "rt snkrconnecthq       0.069832\n",
       "black available        0.067415"
      ]
     },
     "execution_count": 49,
     "metadata": {},
     "output_type": "execute_result"
    }
   ],
   "source": [
    "loadings.sort_values('abs_component_3',ascending=False).head(20)[['component_3']]"
   ]
  },
  {
   "cell_type": "code",
   "execution_count": 50,
   "metadata": {},
   "outputs": [
    {
     "data": {
      "text/html": [
       "<div>\n",
       "<style scoped>\n",
       "    .dataframe tbody tr th:only-of-type {\n",
       "        vertical-align: middle;\n",
       "    }\n",
       "\n",
       "    .dataframe tbody tr th {\n",
       "        vertical-align: top;\n",
       "    }\n",
       "\n",
       "    .dataframe thead th {\n",
       "        text-align: right;\n",
       "    }\n",
       "</style>\n",
       "<table border=\"1\" class=\"dataframe\">\n",
       "  <thead>\n",
       "    <tr style=\"text-align: right;\">\n",
       "      <th></th>\n",
       "      <th>component_4</th>\n",
       "    </tr>\n",
       "  </thead>\n",
       "  <tbody>\n",
       "    <tr>\n",
       "      <th>just</th>\n",
       "      <td>0.418255</td>\n",
       "    </tr>\n",
       "    <tr>\n",
       "      <th>like</th>\n",
       "      <td>0.387160</td>\n",
       "    </tr>\n",
       "    <tr>\n",
       "      <th>wa</th>\n",
       "      <td>0.369792</td>\n",
       "    </tr>\n",
       "    <tr>\n",
       "      <th>don</th>\n",
       "      <td>0.227332</td>\n",
       "    </tr>\n",
       "    <tr>\n",
       "      <th>know</th>\n",
       "      <td>0.217200</td>\n",
       "    </tr>\n",
       "    <tr>\n",
       "      <th>love</th>\n",
       "      <td>0.182656</td>\n",
       "    </tr>\n",
       "    <tr>\n",
       "      <th>good</th>\n",
       "      <td>0.163646</td>\n",
       "    </tr>\n",
       "    <tr>\n",
       "      <th>lol</th>\n",
       "      <td>0.160097</td>\n",
       "    </tr>\n",
       "    <tr>\n",
       "      <th>rt</th>\n",
       "      <td>-0.151910</td>\n",
       "    </tr>\n",
       "    <tr>\n",
       "      <th>time</th>\n",
       "      <td>0.132907</td>\n",
       "    </tr>\n",
       "    <tr>\n",
       "      <th>need</th>\n",
       "      <td>0.126381</td>\n",
       "    </tr>\n",
       "    <tr>\n",
       "      <th>people</th>\n",
       "      <td>0.116170</td>\n",
       "    </tr>\n",
       "    <tr>\n",
       "      <th>got</th>\n",
       "      <td>0.111559</td>\n",
       "    </tr>\n",
       "    <tr>\n",
       "      <th>want</th>\n",
       "      <td>0.098199</td>\n",
       "    </tr>\n",
       "    <tr>\n",
       "      <th>really</th>\n",
       "      <td>0.094993</td>\n",
       "    </tr>\n",
       "    <tr>\n",
       "      <th>day</th>\n",
       "      <td>0.094412</td>\n",
       "    </tr>\n",
       "    <tr>\n",
       "      <th>think</th>\n",
       "      <td>0.093464</td>\n",
       "    </tr>\n",
       "    <tr>\n",
       "      <th>look</th>\n",
       "      <td>0.084944</td>\n",
       "    </tr>\n",
       "    <tr>\n",
       "      <th>amp</th>\n",
       "      <td>0.084355</td>\n",
       "    </tr>\n",
       "    <tr>\n",
       "      <th>year</th>\n",
       "      <td>0.080054</td>\n",
       "    </tr>\n",
       "  </tbody>\n",
       "</table>\n",
       "</div>"
      ],
      "text/plain": [
       "        component_4\n",
       "just       0.418255\n",
       "like       0.387160\n",
       "wa         0.369792\n",
       "don        0.227332\n",
       "know       0.217200\n",
       "love       0.182656\n",
       "good       0.163646\n",
       "lol        0.160097\n",
       "rt        -0.151910\n",
       "time       0.132907\n",
       "need       0.126381\n",
       "people     0.116170\n",
       "got        0.111559\n",
       "want       0.098199\n",
       "really     0.094993\n",
       "day        0.094412\n",
       "think      0.093464\n",
       "look       0.084944\n",
       "amp        0.084355\n",
       "year       0.080054"
      ]
     },
     "execution_count": 50,
     "metadata": {},
     "output_type": "execute_result"
    }
   ],
   "source": [
    "loadings.sort_values('abs_component_4',ascending=False).head(20)[['component_4']]"
   ]
  },
  {
   "cell_type": "code",
   "execution_count": 112,
   "metadata": {},
   "outputs": [
    {
     "data": {
      "text/plain": [
       "(21422, 21422)"
      ]
     },
     "execution_count": 112,
     "metadata": {},
     "output_type": "execute_result"
    }
   ],
   "source": [
    "cos_sim_mat = cosine_similarity(svd_df, svd_df)\n",
    "cos_sim_mat.shape"
   ]
  },
  {
   "cell_type": "code",
   "execution_count": 52,
   "metadata": {},
   "outputs": [
    {
     "data": {
      "text/plain": [
       "array([    1,  5962, 10830,    25, 10604,  3474, 21286,  5793,  9679,\n",
       "        4881])"
      ]
     },
     "execution_count": 52,
     "metadata": {},
     "output_type": "execute_result"
    }
   ],
   "source": [
    "np.argsort(cos_sim_mat[1])[:-11:-1]"
   ]
  },
  {
   "cell_type": "code",
   "execution_count": 53,
   "metadata": {},
   "outputs": [
    {
     "data": {
      "text/plain": [
       "array([1.        , 0.7038541 , 0.7038541 , 0.68349388, 0.59607281,\n",
       "       0.58755926, 0.58755926, 0.57959418, 0.57959418, 0.56944061])"
      ]
     },
     "execution_count": 53,
     "metadata": {},
     "output_type": "execute_result"
    }
   ],
   "source": [
    "np.sort(cos_sim_mat[1])[:-11:-1]"
   ]
  },
  {
   "cell_type": "code",
   "execution_count": 69,
   "metadata": {},
   "outputs": [],
   "source": [
    "#cos_sim_df = df_tfidf.loc[np.argsort(cos_sim_mat[500])[:-1], :]"
   ]
  },
  {
   "cell_type": "code",
   "execution_count": 80,
   "metadata": {},
   "outputs": [
    {
     "data": {
      "text/html": [
       "<div>\n",
       "<style scoped>\n",
       "    .dataframe tbody tr th:only-of-type {\n",
       "        vertical-align: middle;\n",
       "    }\n",
       "\n",
       "    .dataframe tbody tr th {\n",
       "        vertical-align: top;\n",
       "    }\n",
       "\n",
       "    .dataframe thead th {\n",
       "        text-align: right;\n",
       "    }\n",
       "</style>\n",
       "<table border=\"1\" class=\"dataframe\">\n",
       "  <thead>\n",
       "    <tr style=\"text-align: right;\">\n",
       "      <th></th>\n",
       "      <th>00</th>\n",
       "      <th>000</th>\n",
       "      <th>10</th>\n",
       "      <th>100</th>\n",
       "      <th>11</th>\n",
       "      <th>12</th>\n",
       "      <th>120</th>\n",
       "      <th>13</th>\n",
       "      <th>130</th>\n",
       "      <th>130 free</th>\n",
       "      <th>...</th>\n",
       "      <th>year url</th>\n",
       "      <th>yep</th>\n",
       "      <th>yes</th>\n",
       "      <th>yesterday</th>\n",
       "      <th>yo</th>\n",
       "      <th>young</th>\n",
       "      <th>youtube</th>\n",
       "      <th>youtube playlist</th>\n",
       "      <th>youtube video</th>\n",
       "      <th>zip</th>\n",
       "    </tr>\n",
       "  </thead>\n",
       "  <tbody>\n",
       "    <tr>\n",
       "      <th>862</th>\n",
       "      <td>0.0</td>\n",
       "      <td>0.0</td>\n",
       "      <td>0.0</td>\n",
       "      <td>0.0</td>\n",
       "      <td>0.0</td>\n",
       "      <td>0.0</td>\n",
       "      <td>0.0</td>\n",
       "      <td>0.0</td>\n",
       "      <td>0.0</td>\n",
       "      <td>0.0</td>\n",
       "      <td>...</td>\n",
       "      <td>0.0</td>\n",
       "      <td>0.0</td>\n",
       "      <td>0.0</td>\n",
       "      <td>0.0</td>\n",
       "      <td>0.0</td>\n",
       "      <td>0.0</td>\n",
       "      <td>0.0</td>\n",
       "      <td>0.0</td>\n",
       "      <td>0.0</td>\n",
       "      <td>0.0</td>\n",
       "    </tr>\n",
       "    <tr>\n",
       "      <th>220</th>\n",
       "      <td>0.0</td>\n",
       "      <td>0.0</td>\n",
       "      <td>0.0</td>\n",
       "      <td>0.0</td>\n",
       "      <td>0.0</td>\n",
       "      <td>0.0</td>\n",
       "      <td>0.0</td>\n",
       "      <td>0.0</td>\n",
       "      <td>0.0</td>\n",
       "      <td>0.0</td>\n",
       "      <td>...</td>\n",
       "      <td>0.0</td>\n",
       "      <td>0.0</td>\n",
       "      <td>0.0</td>\n",
       "      <td>0.0</td>\n",
       "      <td>0.0</td>\n",
       "      <td>0.0</td>\n",
       "      <td>0.0</td>\n",
       "      <td>0.0</td>\n",
       "      <td>0.0</td>\n",
       "      <td>0.0</td>\n",
       "    </tr>\n",
       "    <tr>\n",
       "      <th>801</th>\n",
       "      <td>0.0</td>\n",
       "      <td>0.0</td>\n",
       "      <td>0.0</td>\n",
       "      <td>0.0</td>\n",
       "      <td>0.0</td>\n",
       "      <td>0.0</td>\n",
       "      <td>0.0</td>\n",
       "      <td>0.0</td>\n",
       "      <td>0.0</td>\n",
       "      <td>0.0</td>\n",
       "      <td>...</td>\n",
       "      <td>0.0</td>\n",
       "      <td>0.0</td>\n",
       "      <td>0.0</td>\n",
       "      <td>0.0</td>\n",
       "      <td>0.0</td>\n",
       "      <td>0.0</td>\n",
       "      <td>0.0</td>\n",
       "      <td>0.0</td>\n",
       "      <td>0.0</td>\n",
       "      <td>0.0</td>\n",
       "    </tr>\n",
       "    <tr>\n",
       "      <th>803</th>\n",
       "      <td>0.0</td>\n",
       "      <td>0.0</td>\n",
       "      <td>0.0</td>\n",
       "      <td>0.0</td>\n",
       "      <td>0.0</td>\n",
       "      <td>0.0</td>\n",
       "      <td>0.0</td>\n",
       "      <td>0.0</td>\n",
       "      <td>0.0</td>\n",
       "      <td>0.0</td>\n",
       "      <td>...</td>\n",
       "      <td>0.0</td>\n",
       "      <td>0.0</td>\n",
       "      <td>0.0</td>\n",
       "      <td>0.0</td>\n",
       "      <td>0.0</td>\n",
       "      <td>0.0</td>\n",
       "      <td>0.0</td>\n",
       "      <td>0.0</td>\n",
       "      <td>0.0</td>\n",
       "      <td>0.0</td>\n",
       "    </tr>\n",
       "    <tr>\n",
       "      <th>918</th>\n",
       "      <td>0.0</td>\n",
       "      <td>0.0</td>\n",
       "      <td>0.0</td>\n",
       "      <td>0.0</td>\n",
       "      <td>0.0</td>\n",
       "      <td>0.0</td>\n",
       "      <td>0.0</td>\n",
       "      <td>0.0</td>\n",
       "      <td>0.0</td>\n",
       "      <td>0.0</td>\n",
       "      <td>...</td>\n",
       "      <td>0.0</td>\n",
       "      <td>0.0</td>\n",
       "      <td>0.0</td>\n",
       "      <td>0.0</td>\n",
       "      <td>0.0</td>\n",
       "      <td>0.0</td>\n",
       "      <td>0.0</td>\n",
       "      <td>0.0</td>\n",
       "      <td>0.0</td>\n",
       "      <td>0.0</td>\n",
       "    </tr>\n",
       "  </tbody>\n",
       "</table>\n",
       "<p>5 rows × 1056 columns</p>\n",
       "</div>"
      ],
      "text/plain": [
       "      00  000   10  100   11   12  120   13  130  130 free ...   year url  \\\n",
       "862  0.0  0.0  0.0  0.0  0.0  0.0  0.0  0.0  0.0       0.0 ...        0.0   \n",
       "220  0.0  0.0  0.0  0.0  0.0  0.0  0.0  0.0  0.0       0.0 ...        0.0   \n",
       "801  0.0  0.0  0.0  0.0  0.0  0.0  0.0  0.0  0.0       0.0 ...        0.0   \n",
       "803  0.0  0.0  0.0  0.0  0.0  0.0  0.0  0.0  0.0       0.0 ...        0.0   \n",
       "918  0.0  0.0  0.0  0.0  0.0  0.0  0.0  0.0  0.0       0.0 ...        0.0   \n",
       "\n",
       "     yep  yes  yesterday   yo  young  youtube  youtube playlist  \\\n",
       "862  0.0  0.0        0.0  0.0    0.0      0.0               0.0   \n",
       "220  0.0  0.0        0.0  0.0    0.0      0.0               0.0   \n",
       "801  0.0  0.0        0.0  0.0    0.0      0.0               0.0   \n",
       "803  0.0  0.0        0.0  0.0    0.0      0.0               0.0   \n",
       "918  0.0  0.0        0.0  0.0    0.0      0.0               0.0   \n",
       "\n",
       "     youtube video  zip  \n",
       "862            0.0  0.0  \n",
       "220            0.0  0.0  \n",
       "801            0.0  0.0  \n",
       "803            0.0  0.0  \n",
       "918            0.0  0.0  \n",
       "\n",
       "[5 rows x 1056 columns]"
      ]
     },
     "execution_count": 80,
     "metadata": {},
     "output_type": "execute_result"
    }
   ],
   "source": [
    "cos_sim_df.head()"
   ]
  },
  {
   "cell_type": "code",
   "execution_count": 111,
   "metadata": {},
   "outputs": [
    {
     "data": {
      "text/html": [
       "<div>\n",
       "<style scoped>\n",
       "    .dataframe tbody tr th:only-of-type {\n",
       "        vertical-align: middle;\n",
       "    }\n",
       "\n",
       "    .dataframe tbody tr th {\n",
       "        vertical-align: top;\n",
       "    }\n",
       "\n",
       "    .dataframe thead th {\n",
       "        text-align: right;\n",
       "    }\n",
       "</style>\n",
       "<table border=\"1\" class=\"dataframe\">\n",
       "  <thead>\n",
       "    <tr style=\"text-align: right;\">\n",
       "      <th></th>\n",
       "      <th>text</th>\n",
       "      <th>processed</th>\n",
       "      <th>clean_processed</th>\n",
       "      <th>lemm_clean_processed</th>\n",
       "    </tr>\n",
       "  </thead>\n",
       "  <tbody>\n",
       "    <tr>\n",
       "      <th>0</th>\n",
       "      <td>On a positive note the doctor told me I only g...</td>\n",
       "      <td>on a positive note the doctor told me i only g...</td>\n",
       "      <td>[on, a, positive, note, the, doctor, told, me,...</td>\n",
       "      <td>on a positive note the doctor told me i only g...</td>\n",
       "    </tr>\n",
       "    <tr>\n",
       "      <th>1</th>\n",
       "      <td>The Gathering coming to the Hilton University ...</td>\n",
       "      <td>the gathering coming to the hilton university ...</td>\n",
       "      <td>[the, gathering, coming, to, the, hilton, univ...</td>\n",
       "      <td>the gathering coming to the hilton university ...</td>\n",
       "    </tr>\n",
       "    <tr>\n",
       "      <th>2</th>\n",
       "      <td>RT @pun8o: プレゼント企画✨\\n\\nディズニー [チケット]🎫\\n\\n応募　→　フ...</td>\n",
       "      <td>rt pun8o: プレゼント企画✨ ディズニー [チケット]🎫 応募 → フォロー&amp;amp...</td>\n",
       "      <td>[rt, pun8o, プレゼント企画, ディズニー, チケット, 応募, フォロー, am...</td>\n",
       "      <td>rt pun8o プレゼント企画 ディズニー チケット 応募 フォロー amp リツイート ...</td>\n",
       "    </tr>\n",
       "    <tr>\n",
       "      <th>3</th>\n",
       "      <td>RT @mitchellvii: CREEP SHOW: Pelosi and Schume...</td>\n",
       "      <td>rt mitchellvii: creep show: pelosi and schumer...</td>\n",
       "      <td>[rt, mitchellvii, creep, show, pelosi, and, sc...</td>\n",
       "      <td>rt mitchellvii creep show pelosi and schumer f...</td>\n",
       "    </tr>\n",
       "    <tr>\n",
       "      <th>4</th>\n",
       "      <td>@MarvelStudios @iKBoy I dont see how ppl can s...</td>\n",
       "      <td>marvelstudios ikboy i dont see how ppl can say...</td>\n",
       "      <td>[marvelstudios, ikboy, i, dont, see, how, ppl,...</td>\n",
       "      <td>marvelstudios ikboy i dont see how ppl can say...</td>\n",
       "    </tr>\n",
       "  </tbody>\n",
       "</table>\n",
       "</div>"
      ],
      "text/plain": [
       "                                                text  \\\n",
       "0  On a positive note the doctor told me I only g...   \n",
       "1  The Gathering coming to the Hilton University ...   \n",
       "2  RT @pun8o: プレゼント企画✨\\n\\nディズニー [チケット]🎫\\n\\n応募　→　フ...   \n",
       "3  RT @mitchellvii: CREEP SHOW: Pelosi and Schume...   \n",
       "4  @MarvelStudios @iKBoy I dont see how ppl can s...   \n",
       "\n",
       "                                           processed  \\\n",
       "0  on a positive note the doctor told me i only g...   \n",
       "1  the gathering coming to the hilton university ...   \n",
       "2  rt pun8o: プレゼント企画✨ ディズニー [チケット]🎫 応募 → フォロー&amp...   \n",
       "3  rt mitchellvii: creep show: pelosi and schumer...   \n",
       "4  marvelstudios ikboy i dont see how ppl can say...   \n",
       "\n",
       "                                     clean_processed  \\\n",
       "0  [on, a, positive, note, the, doctor, told, me,...   \n",
       "1  [the, gathering, coming, to, the, hilton, univ...   \n",
       "2  [rt, pun8o, プレゼント企画, ディズニー, チケット, 応募, フォロー, am...   \n",
       "3  [rt, mitchellvii, creep, show, pelosi, and, sc...   \n",
       "4  [marvelstudios, ikboy, i, dont, see, how, ppl,...   \n",
       "\n",
       "                                lemm_clean_processed  \n",
       "0  on a positive note the doctor told me i only g...  \n",
       "1  the gathering coming to the hilton university ...  \n",
       "2  rt pun8o プレゼント企画 ディズニー チケット 応募 フォロー amp リツイート ...  \n",
       "3  rt mitchellvii creep show pelosi and schumer f...  \n",
       "4  marvelstudios ikboy i dont see how ppl can say...  "
      ]
     },
     "execution_count": 111,
     "metadata": {},
     "output_type": "execute_result"
    }
   ],
   "source": []
  },
  {
   "cell_type": "code",
   "execution_count": 87,
   "metadata": {},
   "outputs": [
    {
     "data": {
      "text/plain": [
       "Int64Index([  862,   220,   801,   803,   918,   521,   823,   490,   275,\n",
       "              977,\n",
       "            ...\n",
       "            10891, 20587,  1099,  5843,  6534, 14924, 15842, 17549,   553,\n",
       "              500],\n",
       "           dtype='int64', length=21421)"
      ]
     },
     "execution_count": 87,
     "metadata": {},
     "output_type": "execute_result"
    }
   ],
   "source": [
    "cos_sim_df.index"
   ]
  },
  {
   "cell_type": "code",
   "execution_count": 106,
   "metadata": {},
   "outputs": [
    {
     "data": {
      "text/plain": [
       "text                       @galaxytravonte thirsty ass\n",
       "processed                   galaxytravonte thirsty ass\n",
       "clean_processed         [galaxytravonte, thirsty, ass]\n",
       "lemm_clean_processed         galaxytravonte thirsty as\n",
       "Name: 2290, dtype: object"
      ]
     },
     "execution_count": 106,
     "metadata": {},
     "output_type": "execute_result"
    }
   ],
   "source": [
    "df.iloc[220]"
   ]
  },
  {
   "cell_type": "code",
   "execution_count": 100,
   "metadata": {},
   "outputs": [],
   "source": [
    "for i in cos_sim_df.index:\n",
    "    df_tfidf.iloc[i]"
   ]
  },
  {
   "cell_type": "code",
   "execution_count": 77,
   "metadata": {},
   "outputs": [
    {
     "data": {
      "text/plain": [
       "862                                                    NaN\n",
       "220      rt streetwearvice mitchell amp ness men s andr...\n",
       "801                                                    NaN\n",
       "803                                                    NaN\n",
       "918      alroker jeremykappell news10nbc i heard one ve...\n",
       "521                                                    NaN\n",
       "823                                                    NaN\n",
       "490                                                    NaN\n",
       "275                                                    NaN\n",
       "977                                                    NaN\n",
       "688                                                    NaN\n",
       "20153                                                  NaN\n",
       "2372                                                   NaN\n",
       "761                                                    NaN\n",
       "298                                                    NaN\n",
       "10800                                                  NaN\n",
       "718                                                    NaN\n",
       "991                                                    NaN\n",
       "7519                                                   NaN\n",
       "9816                                                   NaN\n",
       "1770                                                   NaN\n",
       "13972                                                  NaN\n",
       "19783                                                  NaN\n",
       "9305                                                   NaN\n",
       "18048                                                  NaN\n",
       "10172                                                  NaN\n",
       "10161                                                  NaN\n",
       "13320                                                  NaN\n",
       "2381                                                   NaN\n",
       "8180                                                   NaN\n",
       "                               ...                        \n",
       "5342                                                   NaN\n",
       "19763                                                  NaN\n",
       "10978                                                  NaN\n",
       "9147                                                   NaN\n",
       "10954                                                  NaN\n",
       "19949                                                  NaN\n",
       "1645                                                   NaN\n",
       "19766                                                  NaN\n",
       "5896                                                   NaN\n",
       "11267                                                  NaN\n",
       "3897                                                   NaN\n",
       "6227                                                   NaN\n",
       "7483                                                   NaN\n",
       "14698                                                  NaN\n",
       "4527                                                   NaN\n",
       "20891                                                  NaN\n",
       "6243                                                   NaN\n",
       "12631                                                  NaN\n",
       "18890                                                  NaN\n",
       "17884                                                  NaN\n",
       "10891                                                  NaN\n",
       "20587                                                  NaN\n",
       "1099     new position interested in hearing more sr ful...\n",
       "5843     now playing on urban hitz radio 2 chainz girl ...\n",
       "6534                                                   NaN\n",
       "14924                                                  NaN\n",
       "15842                                                  NaN\n",
       "17549                                                  NaN\n",
       "553                                                    NaN\n",
       "500                                                    NaN\n",
       "Name: lemm_clean_processed, Length: 21421, dtype: object"
      ]
     },
     "execution_count": 77,
     "metadata": {},
     "output_type": "execute_result"
    }
   ],
   "source": [
    "df.loc[cos_sim_df.index, 'lemm_clean_processed']"
   ]
  },
  {
   "cell_type": "code",
   "execution_count": 59,
   "metadata": {},
   "outputs": [
    {
     "data": {
      "text/html": [
       "<div>\n",
       "<style scoped>\n",
       "    .dataframe tbody tr th:only-of-type {\n",
       "        vertical-align: middle;\n",
       "    }\n",
       "\n",
       "    .dataframe tbody tr th {\n",
       "        vertical-align: top;\n",
       "    }\n",
       "\n",
       "    .dataframe thead th {\n",
       "        text-align: right;\n",
       "    }\n",
       "</style>\n",
       "<table border=\"1\" class=\"dataframe\">\n",
       "  <thead>\n",
       "    <tr style=\"text-align: right;\">\n",
       "      <th></th>\n",
       "      <th>text</th>\n",
       "      <th>processed</th>\n",
       "      <th>clean_processed</th>\n",
       "      <th>lemm_clean_processed</th>\n",
       "    </tr>\n",
       "  </thead>\n",
       "  <tbody>\n",
       "    <tr>\n",
       "      <th>0</th>\n",
       "      <td>On a positive note the doctor told me I only g...</td>\n",
       "      <td>on a positive note the doctor told me i only g...</td>\n",
       "      <td>[on, a, positive, note, the, doctor, told, me,...</td>\n",
       "      <td>on a positive note the doctor told me i only g...</td>\n",
       "    </tr>\n",
       "    <tr>\n",
       "      <th>1</th>\n",
       "      <td>The Gathering coming to the Hilton University ...</td>\n",
       "      <td>the gathering coming to the hilton university ...</td>\n",
       "      <td>[the, gathering, coming, to, the, hilton, univ...</td>\n",
       "      <td>the gathering coming to the hilton university ...</td>\n",
       "    </tr>\n",
       "    <tr>\n",
       "      <th>2</th>\n",
       "      <td>RT @pun8o: プレゼント企画✨\\n\\nディズニー [チケット]🎫\\n\\n応募　→　フ...</td>\n",
       "      <td>rt pun8o: プレゼント企画✨ ディズニー [チケット]🎫 応募 → フォロー&amp;amp...</td>\n",
       "      <td>[rt, pun8o, プレゼント企画, ディズニー, チケット, 応募, フォロー, am...</td>\n",
       "      <td>rt pun8o プレゼント企画 ディズニー チケット 応募 フォロー amp リツイート ...</td>\n",
       "    </tr>\n",
       "    <tr>\n",
       "      <th>3</th>\n",
       "      <td>RT @mitchellvii: CREEP SHOW: Pelosi and Schume...</td>\n",
       "      <td>rt mitchellvii: creep show: pelosi and schumer...</td>\n",
       "      <td>[rt, mitchellvii, creep, show, pelosi, and, sc...</td>\n",
       "      <td>rt mitchellvii creep show pelosi and schumer f...</td>\n",
       "    </tr>\n",
       "    <tr>\n",
       "      <th>4</th>\n",
       "      <td>@MarvelStudios @iKBoy I dont see how ppl can s...</td>\n",
       "      <td>marvelstudios ikboy i dont see how ppl can say...</td>\n",
       "      <td>[marvelstudios, ikboy, i, dont, see, how, ppl,...</td>\n",
       "      <td>marvelstudios ikboy i dont see how ppl can say...</td>\n",
       "    </tr>\n",
       "  </tbody>\n",
       "</table>\n",
       "</div>"
      ],
      "text/plain": [
       "                                                text  \\\n",
       "0  On a positive note the doctor told me I only g...   \n",
       "1  The Gathering coming to the Hilton University ...   \n",
       "2  RT @pun8o: プレゼント企画✨\\n\\nディズニー [チケット]🎫\\n\\n応募　→　フ...   \n",
       "3  RT @mitchellvii: CREEP SHOW: Pelosi and Schume...   \n",
       "4  @MarvelStudios @iKBoy I dont see how ppl can s...   \n",
       "\n",
       "                                           processed  \\\n",
       "0  on a positive note the doctor told me i only g...   \n",
       "1  the gathering coming to the hilton university ...   \n",
       "2  rt pun8o: プレゼント企画✨ ディズニー [チケット]🎫 応募 → フォロー&amp...   \n",
       "3  rt mitchellvii: creep show: pelosi and schumer...   \n",
       "4  marvelstudios ikboy i dont see how ppl can say...   \n",
       "\n",
       "                                     clean_processed  \\\n",
       "0  [on, a, positive, note, the, doctor, told, me,...   \n",
       "1  [the, gathering, coming, to, the, hilton, univ...   \n",
       "2  [rt, pun8o, プレゼント企画, ディズニー, チケット, 応募, フォロー, am...   \n",
       "3  [rt, mitchellvii, creep, show, pelosi, and, sc...   \n",
       "4  [marvelstudios, ikboy, i, dont, see, how, ppl,...   \n",
       "\n",
       "                                lemm_clean_processed  \n",
       "0  on a positive note the doctor told me i only g...  \n",
       "1  the gathering coming to the hilton university ...  \n",
       "2  rt pun8o プレゼント企画 ディズニー チケット 応募 フォロー amp リツイート ...  \n",
       "3  rt mitchellvii creep show pelosi and schumer f...  \n",
       "4  marvelstudios ikboy i dont see how ppl can say...  "
      ]
     },
     "execution_count": 59,
     "metadata": {},
     "output_type": "execute_result"
    }
   ],
   "source": [
    "df.head()"
   ]
  },
  {
   "cell_type": "code",
   "execution_count": 56,
   "metadata": {},
   "outputs": [
    {
     "name": "stdout",
     "output_type": "stream",
     "text": [
      "(21422, 1056)\n"
     ]
    }
   ],
   "source": [
    "df_tfidf.head()\n",
    "print(df_tfidf.shape)"
   ]
  },
  {
   "cell_type": "code",
   "execution_count": 65,
   "metadata": {},
   "outputs": [
    {
     "data": {
      "text/plain": [
       "array([[ 1.00000000e+00, -1.48562229e-06,  7.91716110e-08, ...,\n",
       "         2.99938836e-07, -5.28686332e-06,  2.13309228e-06],\n",
       "       [-1.48562229e-06,  1.00000000e+00,  2.96194078e-02, ...,\n",
       "         1.04740702e-02,  1.26859521e-02,  1.18364796e-02],\n",
       "       [ 7.91716110e-08,  2.96194078e-02,  1.00000000e+00, ...,\n",
       "         3.33585684e-02,  4.04217319e-02,  1.28447686e-01],\n",
       "       ...,\n",
       "       [ 2.99938836e-07,  1.04740702e-02,  3.33585684e-02, ...,\n",
       "         1.00000000e+00,  1.43011720e-02,  1.33686097e-02],\n",
       "       [-5.28686332e-06,  1.26859521e-02,  4.04217319e-02, ...,\n",
       "         1.43011720e-02,  1.00000000e+00,  1.61898933e-02],\n",
       "       [ 2.13309228e-06,  1.18364796e-02,  1.28447686e-01, ...,\n",
       "         1.33686097e-02,  1.61898933e-02,  1.00000000e+00]])"
      ]
     },
     "execution_count": 65,
     "metadata": {},
     "output_type": "execute_result"
    }
   ],
   "source": [
    "cos_sim_mat"
   ]
  },
  {
   "cell_type": "code",
   "execution_count": 64,
   "metadata": {},
   "outputs": [
    {
     "ename": "TypeError",
     "evalue": "__init__() got an unexpected keyword argument 'values'",
     "output_type": "error",
     "traceback": [
      "\u001b[0;31m---------------------------------------------------------------------------\u001b[0m",
      "\u001b[0;31mTypeError\u001b[0m                                 Traceback (most recent call last)",
      "\u001b[0;32m<ipython-input-64-5f3d7f320eda>\u001b[0m in \u001b[0;36m<module>\u001b[0;34m\u001b[0m\n\u001b[0;32m----> 1\u001b[0;31m \u001b[0msimilar_df\u001b[0m \u001b[0;34m=\u001b[0m \u001b[0mpd\u001b[0m\u001b[0;34m.\u001b[0m\u001b[0mDataFrame\u001b[0m\u001b[0;34m(\u001b[0m\u001b[0mcos_sim_mat\u001b[0m\u001b[0;34m,\u001b[0m \u001b[0mindex\u001b[0m\u001b[0;34m=\u001b[0m\u001b[0mdf\u001b[0m\u001b[0;34m.\u001b[0m\u001b[0mindex\u001b[0m\u001b[0;34m,\u001b[0m \u001b[0mcolumns\u001b[0m\u001b[0;34m=\u001b[0m\u001b[0;34m'text'\u001b[0m\u001b[0;34m,\u001b[0m \u001b[0mvalues\u001b[0m \u001b[0;34m=\u001b[0m \u001b[0mdf\u001b[0m\u001b[0;34m[\u001b[0m\u001b[0;34m'lemm_clean_processed'\u001b[0m\u001b[0;34m]\u001b[0m\u001b[0;34m)\u001b[0m\u001b[0;34m\u001b[0m\u001b[0;34m\u001b[0m\u001b[0m\n\u001b[0m",
      "\u001b[0;31mTypeError\u001b[0m: __init__() got an unexpected keyword argument 'values'"
     ]
    }
   ],
   "source": [
    "similar_df = pd.DataFrame(cos_sim_mat, index=df.index, columns='text', values = cos_sim_mat)"
   ]
  },
  {
   "cell_type": "code",
   "execution_count": 63,
   "metadata": {},
   "outputs": [
    {
     "data": {
      "text/html": [
       "<div>\n",
       "<style scoped>\n",
       "    .dataframe tbody tr th:only-of-type {\n",
       "        vertical-align: middle;\n",
       "    }\n",
       "\n",
       "    .dataframe tbody tr th {\n",
       "        vertical-align: top;\n",
       "    }\n",
       "\n",
       "    .dataframe thead th {\n",
       "        text-align: right;\n",
       "    }\n",
       "</style>\n",
       "<table border=\"1\" class=\"dataframe\">\n",
       "  <thead>\n",
       "    <tr style=\"text-align: right;\">\n",
       "      <th>lemm_clean_processed</th>\n",
       "      <th>on a positive note the doctor told me i only gained 32 pound my entire pregnancy</th>\n",
       "      <th>the gathering coming to the hilton university place in charlotte nc august 15th 18th 2019 many great legend will URL</th>\n",
       "      <th>rt pun8o プレゼント企画 ディズニー チケット 応募 フォロー amp リツイート 結果 当選者にはdmでお知らせします ６名の当選となります 応募期限は今月末までです URL</th>\n",
       "      <th>rt mitchellvii creep show pelosi and schumer freak out viewer blank stare scowl and crazy eye consume dem response video http</th>\n",
       "      <th>marvelstudios ikboy i dont see how ppl can say they don t think she ll be good in this movie lol</th>\n",
       "      <th>rt mitchellvii democrat are now saying trump is lying about border security to american really so illegal migration isn t a probl</th>\n",
       "      <th>rt mitchellvii mueller is claiming that manafort showed polling data to a russian business associate with tie to russian intelligence</th>\n",
       "      <th>URL</th>\n",
       "      <th>your imagination is a force to be reckoned with now especiall more for aries URL</th>\n",
       "      <th>rt wcnc urgent it only take 2 second to share and help find this missing family nationwide search for mom and two child reported</th>\n",
       "      <th>...</th>\n",
       "      <th>transparency is your friend today if you re making up the rul more for leo URL</th>\n",
       "      <th>teslatunity yeah it will be worth it at any price when it is fully legal happy to upgrade it then</th>\n",
       "      <th>the 2019 nc transportation summit kick off today ncdot mike fox nc go chair marc finlayson ncdot_trogdon an URL</th>\n",
       "      <th>mitchell amp ness men s andre dawson miami marlin authentic mesh batting practice v neck jersey is now available to URL</th>\n",
       "      <th>dabo swinney shoot dance in wild clemson locker room celebration URL</th>\n",
       "      <th>the outspoken way of a bos or someone else in an influential more for scorpio URL</th>\n",
       "      <th>put on your future vision glass they are made out of intuit more for taurus URL</th>\n",
       "      <th>juicing one of my favorite food ginger i add this juice to my morning tea or daily tonic sometimes i also URL</th>\n",
       "      <th>your imagination is a force to be reckoned with now especiall more for aries URL</th>\n",
       "      <th>rt officialmryeso video out now link in bio URL</th>\n",
       "    </tr>\n",
       "  </thead>\n",
       "  <tbody>\n",
       "    <tr>\n",
       "      <th>0</th>\n",
       "      <td>1.000000e+00</td>\n",
       "      <td>-1.485622e-06</td>\n",
       "      <td>7.917161e-08</td>\n",
       "      <td>9.123818e-07</td>\n",
       "      <td>8.354415e-07</td>\n",
       "      <td>-1.338964e-07</td>\n",
       "      <td>-6.037517e-07</td>\n",
       "      <td>-1.379811e-08</td>\n",
       "      <td>-0.000005</td>\n",
       "      <td>0.000005</td>\n",
       "      <td>...</td>\n",
       "      <td>-3.583178e-06</td>\n",
       "      <td>4.606073e-07</td>\n",
       "      <td>-2.224187e-07</td>\n",
       "      <td>5.068052e-09</td>\n",
       "      <td>2.620070e-06</td>\n",
       "      <td>1.102120e-07</td>\n",
       "      <td>0.000002</td>\n",
       "      <td>2.999388e-07</td>\n",
       "      <td>-0.000005</td>\n",
       "      <td>0.000002</td>\n",
       "    </tr>\n",
       "    <tr>\n",
       "      <th>1</th>\n",
       "      <td>-1.485622e-06</td>\n",
       "      <td>1.000000e+00</td>\n",
       "      <td>2.961941e-02</td>\n",
       "      <td>-5.025312e-06</td>\n",
       "      <td>-3.281271e-07</td>\n",
       "      <td>-1.238502e-06</td>\n",
       "      <td>-9.259209e-07</td>\n",
       "      <td>9.641824e-02</td>\n",
       "      <td>0.012686</td>\n",
       "      <td>0.000028</td>\n",
       "      <td>...</td>\n",
       "      <td>1.093737e-02</td>\n",
       "      <td>-9.585193e-07</td>\n",
       "      <td>4.141211e-01</td>\n",
       "      <td>7.856645e-03</td>\n",
       "      <td>1.583841e-02</td>\n",
       "      <td>1.132549e-02</td>\n",
       "      <td>0.009700</td>\n",
       "      <td>1.047407e-02</td>\n",
       "      <td>0.012686</td>\n",
       "      <td>0.011836</td>\n",
       "    </tr>\n",
       "    <tr>\n",
       "      <th>2</th>\n",
       "      <td>7.917161e-08</td>\n",
       "      <td>2.961941e-02</td>\n",
       "      <td>1.000000e+00</td>\n",
       "      <td>6.233353e-02</td>\n",
       "      <td>1.476563e-06</td>\n",
       "      <td>5.669675e-02</td>\n",
       "      <td>9.684853e-02</td>\n",
       "      <td>3.071328e-01</td>\n",
       "      <td>0.040422</td>\n",
       "      <td>0.064044</td>\n",
       "      <td>...</td>\n",
       "      <td>3.482613e-02</td>\n",
       "      <td>2.467689e-06</td>\n",
       "      <td>3.702589e-02</td>\n",
       "      <td>2.056012e-01</td>\n",
       "      <td>5.045440e-02</td>\n",
       "      <td>3.608499e-02</td>\n",
       "      <td>0.030959</td>\n",
       "      <td>3.335857e-02</td>\n",
       "      <td>0.040422</td>\n",
       "      <td>0.128448</td>\n",
       "    </tr>\n",
       "    <tr>\n",
       "      <th>3</th>\n",
       "      <td>9.123818e-07</td>\n",
       "      <td>-5.025312e-06</td>\n",
       "      <td>6.233353e-02</td>\n",
       "      <td>1.000000e+00</td>\n",
       "      <td>3.085318e-07</td>\n",
       "      <td>1.422362e-01</td>\n",
       "      <td>2.429503e-01</td>\n",
       "      <td>-7.967884e-08</td>\n",
       "      <td>0.000004</td>\n",
       "      <td>0.017649</td>\n",
       "      <td>...</td>\n",
       "      <td>8.683359e-07</td>\n",
       "      <td>-4.201703e-06</td>\n",
       "      <td>4.541128e-07</td>\n",
       "      <td>6.939646e-05</td>\n",
       "      <td>-2.935224e-05</td>\n",
       "      <td>-4.881753e-07</td>\n",
       "      <td>0.000008</td>\n",
       "      <td>2.460783e-06</td>\n",
       "      <td>0.000004</td>\n",
       "      <td>0.137805</td>\n",
       "    </tr>\n",
       "    <tr>\n",
       "      <th>4</th>\n",
       "      <td>8.354415e-07</td>\n",
       "      <td>-3.281271e-07</td>\n",
       "      <td>1.476563e-06</td>\n",
       "      <td>3.085318e-07</td>\n",
       "      <td>1.000000e+00</td>\n",
       "      <td>-1.701213e-06</td>\n",
       "      <td>-4.833532e-07</td>\n",
       "      <td>3.621475e-08</td>\n",
       "      <td>0.000006</td>\n",
       "      <td>-0.000002</td>\n",
       "      <td>...</td>\n",
       "      <td>1.138363e-05</td>\n",
       "      <td>-1.354994e-07</td>\n",
       "      <td>-5.127523e-07</td>\n",
       "      <td>-1.107722e-05</td>\n",
       "      <td>9.235529e-08</td>\n",
       "      <td>5.290349e-07</td>\n",
       "      <td>0.000004</td>\n",
       "      <td>1.598465e-06</td>\n",
       "      <td>0.000006</td>\n",
       "      <td>-0.000002</td>\n",
       "    </tr>\n",
       "  </tbody>\n",
       "</table>\n",
       "<p>5 rows × 21422 columns</p>\n",
       "</div>"
      ],
      "text/plain": [
       "lemm_clean_processed  on a positive note the doctor told me i only gained 32 pound my entire pregnancy  \\\n",
       "0                                                          1.000000e+00                                  \n",
       "1                                                         -1.485622e-06                                  \n",
       "2                                                          7.917161e-08                                  \n",
       "3                                                          9.123818e-07                                  \n",
       "4                                                          8.354415e-07                                  \n",
       "\n",
       "lemm_clean_processed  the gathering coming to the hilton university place in charlotte nc august 15th 18th 2019 many great legend will URL  \\\n",
       "0                                                         -1.485622e-06                                                                      \n",
       "1                                                          1.000000e+00                                                                      \n",
       "2                                                          2.961941e-02                                                                      \n",
       "3                                                         -5.025312e-06                                                                      \n",
       "4                                                         -3.281271e-07                                                                      \n",
       "\n",
       "lemm_clean_processed  rt pun8o プレゼント企画 ディズニー チケット 応募 フォロー amp リツイート 結果 当選者にはdmでお知らせします ６名の当選となります 応募期限は今月末までです URL  \\\n",
       "0                                                          7.917161e-08                                              \n",
       "1                                                          2.961941e-02                                              \n",
       "2                                                          1.000000e+00                                              \n",
       "3                                                          6.233353e-02                                              \n",
       "4                                                          1.476563e-06                                              \n",
       "\n",
       "lemm_clean_processed  rt mitchellvii creep show pelosi and schumer freak out viewer blank stare scowl and crazy eye consume dem response video http  \\\n",
       "0                                                          9.123818e-07                                                                               \n",
       "1                                                         -5.025312e-06                                                                               \n",
       "2                                                          6.233353e-02                                                                               \n",
       "3                                                          1.000000e+00                                                                               \n",
       "4                                                          3.085318e-07                                                                               \n",
       "\n",
       "lemm_clean_processed  marvelstudios ikboy i dont see how ppl can say they don t think she ll be good in this movie lol  \\\n",
       "0                                                          8.354415e-07                                                  \n",
       "1                                                         -3.281271e-07                                                  \n",
       "2                                                          1.476563e-06                                                  \n",
       "3                                                          3.085318e-07                                                  \n",
       "4                                                          1.000000e+00                                                  \n",
       "\n",
       "lemm_clean_processed  rt mitchellvii democrat are now saying trump is lying about border security to american really so illegal migration isn t a probl  \\\n",
       "0                                                         -1.338964e-07                                                                                   \n",
       "1                                                         -1.238502e-06                                                                                   \n",
       "2                                                          5.669675e-02                                                                                   \n",
       "3                                                          1.422362e-01                                                                                   \n",
       "4                                                         -1.701213e-06                                                                                   \n",
       "\n",
       "lemm_clean_processed  rt mitchellvii mueller is claiming that manafort showed polling data to a russian business associate with tie to russian intelligence  \\\n",
       "0                                                         -6.037517e-07                                                                                       \n",
       "1                                                         -9.259209e-07                                                                                       \n",
       "2                                                          9.684853e-02                                                                                       \n",
       "3                                                          2.429503e-01                                                                                       \n",
       "4                                                         -4.833532e-07                                                                                       \n",
       "\n",
       "lemm_clean_processed           URL  \\\n",
       "0                    -1.379811e-08   \n",
       "1                     9.641824e-02   \n",
       "2                     3.071328e-01   \n",
       "3                    -7.967884e-08   \n",
       "4                     3.621475e-08   \n",
       "\n",
       "lemm_clean_processed  your imagination is a force to be reckoned with now especiall more for aries URL  \\\n",
       "0                                                             -0.000005                                  \n",
       "1                                                              0.012686                                  \n",
       "2                                                              0.040422                                  \n",
       "3                                                              0.000004                                  \n",
       "4                                                              0.000006                                  \n",
       "\n",
       "lemm_clean_processed  rt wcnc urgent it only take 2 second to share and help find this missing family nationwide search for mom and two child reported  \\\n",
       "0                                                              0.000005                                                                                  \n",
       "1                                                              0.000028                                                                                  \n",
       "2                                                              0.064044                                                                                  \n",
       "3                                                              0.017649                                                                                  \n",
       "4                                                             -0.000002                                                                                  \n",
       "\n",
       "lemm_clean_processed                       ...                         \\\n",
       "0                                          ...                          \n",
       "1                                          ...                          \n",
       "2                                          ...                          \n",
       "3                                          ...                          \n",
       "4                                          ...                          \n",
       "\n",
       "lemm_clean_processed  transparency is your friend today if you re making up the rul more for leo URL  \\\n",
       "0                                                         -3.583178e-06                                \n",
       "1                                                          1.093737e-02                                \n",
       "2                                                          3.482613e-02                                \n",
       "3                                                          8.683359e-07                                \n",
       "4                                                          1.138363e-05                                \n",
       "\n",
       "lemm_clean_processed  teslatunity yeah it will be worth it at any price when it is fully legal happy to upgrade it then  \\\n",
       "0                                                          4.606073e-07                                                   \n",
       "1                                                         -9.585193e-07                                                   \n",
       "2                                                          2.467689e-06                                                   \n",
       "3                                                         -4.201703e-06                                                   \n",
       "4                                                         -1.354994e-07                                                   \n",
       "\n",
       "lemm_clean_processed  the 2019 nc transportation summit kick off today ncdot mike fox nc go chair marc finlayson ncdot_trogdon an URL  \\\n",
       "0                                                         -2.224187e-07                                                                 \n",
       "1                                                          4.141211e-01                                                                 \n",
       "2                                                          3.702589e-02                                                                 \n",
       "3                                                          4.541128e-07                                                                 \n",
       "4                                                         -5.127523e-07                                                                 \n",
       "\n",
       "lemm_clean_processed  mitchell amp ness men s andre dawson miami marlin authentic mesh batting practice v neck jersey is now available to URL  \\\n",
       "0                                                          5.068052e-09                                                                         \n",
       "1                                                          7.856645e-03                                                                         \n",
       "2                                                          2.056012e-01                                                                         \n",
       "3                                                          6.939646e-05                                                                         \n",
       "4                                                         -1.107722e-05                                                                         \n",
       "\n",
       "lemm_clean_processed  dabo swinney shoot dance in wild clemson locker room celebration URL  \\\n",
       "0                                                          2.620070e-06                      \n",
       "1                                                          1.583841e-02                      \n",
       "2                                                          5.045440e-02                      \n",
       "3                                                         -2.935224e-05                      \n",
       "4                                                          9.235529e-08                      \n",
       "\n",
       "lemm_clean_processed  the outspoken way of a bos or someone else in an influential more for scorpio URL  \\\n",
       "0                                                          1.102120e-07                                   \n",
       "1                                                          1.132549e-02                                   \n",
       "2                                                          3.608499e-02                                   \n",
       "3                                                         -4.881753e-07                                   \n",
       "4                                                          5.290349e-07                                   \n",
       "\n",
       "lemm_clean_processed  put on your future vision glass they are made out of intuit more for taurus URL  \\\n",
       "0                                                              0.000002                                 \n",
       "1                                                              0.009700                                 \n",
       "2                                                              0.030959                                 \n",
       "3                                                              0.000008                                 \n",
       "4                                                              0.000004                                 \n",
       "\n",
       "lemm_clean_processed  juicing one of my favorite food ginger i add this juice to my morning tea or daily tonic sometimes i also URL  \\\n",
       "0                                                          2.999388e-07                                                               \n",
       "1                                                          1.047407e-02                                                               \n",
       "2                                                          3.335857e-02                                                               \n",
       "3                                                          2.460783e-06                                                               \n",
       "4                                                          1.598465e-06                                                               \n",
       "\n",
       "lemm_clean_processed  your imagination is a force to be reckoned with now especiall more for aries URL  \\\n",
       "0                                                             -0.000005                                  \n",
       "1                                                              0.012686                                  \n",
       "2                                                              0.040422                                  \n",
       "3                                                              0.000004                                  \n",
       "4                                                              0.000006                                  \n",
       "\n",
       "lemm_clean_processed  rt officialmryeso video out now link in bio URL  \n",
       "0                                                            0.000002  \n",
       "1                                                            0.011836  \n",
       "2                                                            0.128448  \n",
       "3                                                            0.137805  \n",
       "4                                                           -0.000002  \n",
       "\n",
       "[5 rows x 21422 columns]"
      ]
     },
     "execution_count": 63,
     "metadata": {},
     "output_type": "execute_result"
    }
   ],
   "source": [
    "similar_df.head()"
   ]
  },
  {
   "cell_type": "code",
   "execution_count": 53,
   "metadata": {},
   "outputs": [
    {
     "name": "stdout",
     "output_type": "stream",
     "text": [
      "Office Space (1999)\n",
      "Average Rating 4.090425531914893\n",
      "Number of ratings 94\n",
      "\n",
      "Recommendations\n",
      "title\n",
      "Big Lebowski, The (1998)                              0.455962\n",
      "Ferris Bueller's Day Off (1986)                       0.458094\n",
      "Groundhog Day (1993)                                  0.465074\n",
      "South Park: Bigger, Longer and Uncut (1999)           0.465806\n",
      "Austin Powers: The Spy Who Shagged Me (1999)          0.469728\n",
      "Monty Python and the Holy Grail (1975)                0.471704\n",
      "Dogma (1999)                                          0.472235\n",
      "Austin Powers: International Man of Mystery (1997)    0.472711\n",
      "Reservoir Dogs (1992)                                 0.486166\n",
      "American Beauty (1999)                                0.490346\n",
      "Name: Office Space (1999), dtype: float64\n",
      "\n",
      "***********************\n",
      "\n"
     ]
    }
   ],
   "source": [
    "search = 'Office Space'\n",
    "\n",
    "for t in movies[movies['title'].str.contains(search)]['title']:\n",
    "    print(t)\n",
    "    print(f'Average Rating {ratings_with_title[ratings_with_title[\"title\"] == t][\"rating\"].mean()}')\n",
    "    print(f'Number of ratings {ratings_with_title[ratings_with_title[\"title\"] == t].shape[0]}')\n",
    "    print('')\n",
    "    print('Recommendations')\n",
    "    print(recommender_df[t].sort_values()[1:11])\n",
    "    print('')\n",
    "    print('***********************')\n",
    "    print('')"
   ]
  },
  {
   "cell_type": "markdown",
   "metadata": {},
   "source": [
    "### HDBSCAN"
   ]
  },
  {
   "cell_type": "code",
   "execution_count": 99,
   "metadata": {},
   "outputs": [
    {
     "data": {
      "text/plain": [
       "<Figure size 1440x720 with 0 Axes>"
      ]
     },
     "metadata": {},
     "output_type": "display_data"
    }
   ],
   "source": [
    "plt.figure(figsize=(20,10));\n",
    "# plt.scatter(df_tfidf.T[0], df_tfidf.T[1])"
   ]
  },
  {
   "cell_type": "code",
   "execution_count": 61,
   "metadata": {},
   "outputs": [
    {
     "data": {
      "text/plain": [
       "HDBSCAN(algorithm='best', allow_single_cluster=False, alpha=1.0,\n",
       "    approx_min_span_tree=True, cluster_selection_method='eom',\n",
       "    core_dist_n_jobs=4, gen_min_span_tree=True, leaf_size=40,\n",
       "    match_reference_implementation=False, memory=Memory(location=None),\n",
       "    metric='euclidean', min_cluster_size=50, min_samples=None, p=None,\n",
       "    prediction_data=False)"
      ]
     },
     "execution_count": 61,
     "metadata": {},
     "output_type": "execute_result"
    }
   ],
   "source": [
    "cluster = hdbscan.HDBSCAN(min_cluster_size = 50, gen_min_span_tree = True)\n",
    "cluster.fit(svd_df)"
   ]
  },
  {
   "cell_type": "code",
   "execution_count": 62,
   "metadata": {},
   "outputs": [
    {
     "data": {
      "text/plain": [
       "array([-1, -1, -1, ..., 10, -1, -1])"
      ]
     },
     "execution_count": 62,
     "metadata": {},
     "output_type": "execute_result"
    }
   ],
   "source": [
    "cluster.labels_"
   ]
  },
  {
   "cell_type": "code",
   "execution_count": 63,
   "metadata": {},
   "outputs": [
    {
     "ename": "AttributeError",
     "evalue": "No minimum spanning tree was generated.This may be due to optimized algorithm variations that skip explicit generation of the spanning tree.",
     "output_type": "error",
     "traceback": [
      "\u001b[0;31m---------------------------------------------------------------------------\u001b[0m",
      "\u001b[0;31mAttributeError\u001b[0m                            Traceback (most recent call last)",
      "\u001b[0;32m<ipython-input-63-85c977a34b04>\u001b[0m in \u001b[0;36m<module>\u001b[0;34m\u001b[0m\n\u001b[1;32m      1\u001b[0m \u001b[0mplt\u001b[0m\u001b[0;34m.\u001b[0m\u001b[0mfigure\u001b[0m\u001b[0;34m(\u001b[0m\u001b[0mfigsize\u001b[0m\u001b[0;34m=\u001b[0m\u001b[0;34m(\u001b[0m\u001b[0;36m20\u001b[0m\u001b[0;34m,\u001b[0m\u001b[0;36m10\u001b[0m\u001b[0;34m)\u001b[0m\u001b[0;34m)\u001b[0m\u001b[0;34m\u001b[0m\u001b[0;34m\u001b[0m\u001b[0m\n\u001b[0;32m----> 2\u001b[0;31m cluster.minimum_spanning_tree_.plot(edge_cmap='viridis',\n\u001b[0m\u001b[1;32m      3\u001b[0m                                     \u001b[0medge_alpha\u001b[0m\u001b[0;34m=\u001b[0m\u001b[0;36m0.6\u001b[0m\u001b[0;34m,\u001b[0m\u001b[0;34m\u001b[0m\u001b[0;34m\u001b[0m\u001b[0m\n\u001b[1;32m      4\u001b[0m                                     \u001b[0mnode_size\u001b[0m\u001b[0;34m=\u001b[0m\u001b[0;36m80\u001b[0m\u001b[0;34m,\u001b[0m\u001b[0;34m\u001b[0m\u001b[0;34m\u001b[0m\u001b[0m\n\u001b[1;32m      5\u001b[0m                                     edge_linewidth=2)\n",
      "\u001b[0;32m~/anaconda3/lib/python3.7/site-packages/hdbscan/hdbscan_.py\u001b[0m in \u001b[0;36mminimum_spanning_tree_\u001b[0;34m(self)\u001b[0m\n\u001b[1;32m    951\u001b[0m                 \u001b[0;32mreturn\u001b[0m \u001b[0;32mNone\u001b[0m\u001b[0;34m\u001b[0m\u001b[0;34m\u001b[0m\u001b[0m\n\u001b[1;32m    952\u001b[0m         \u001b[0;32melse\u001b[0m\u001b[0;34m:\u001b[0m\u001b[0;34m\u001b[0m\u001b[0;34m\u001b[0m\u001b[0m\n\u001b[0;32m--> 953\u001b[0;31m             raise AttributeError('No minimum spanning tree was generated.'\n\u001b[0m\u001b[1;32m    954\u001b[0m                  \u001b[0;34m'This may be due to optimized algorithm variations that skip'\u001b[0m\u001b[0;34m\u001b[0m\u001b[0;34m\u001b[0m\u001b[0m\n\u001b[1;32m    955\u001b[0m                  ' explicit generation of the spanning tree.')\n",
      "\u001b[0;31mAttributeError\u001b[0m: No minimum spanning tree was generated.This may be due to optimized algorithm variations that skip explicit generation of the spanning tree."
     ]
    },
    {
     "data": {
      "text/plain": [
       "<Figure size 1440x720 with 0 Axes>"
      ]
     },
     "metadata": {},
     "output_type": "display_data"
    }
   ],
   "source": [
    "plt.figure(figsize=(20,10))\n",
    "cluster.minimum_spanning_tree_.plot(edge_cmap='viridis',\n",
    "                                    edge_alpha=0.6,\n",
    "                                    node_size=80,\n",
    "                                    edge_linewidth=2)"
   ]
  },
  {
   "cell_type": "markdown",
   "metadata": {},
   "source": [
    "## We can also visually represent the clustering hierarchy"
   ]
  },
  {
   "cell_type": "markdown",
   "metadata": {},
   "source": [
    "plt.figure(figsize=(20,10))\n",
    "cluster.single_linkage_tree_.plot(cmap='viridis', colorbar=True)"
   ]
  },
  {
   "cell_type": "markdown",
   "metadata": {},
   "source": [
    "## If we condense this plot, we can get a better idea of our final clusters"
   ]
  },
  {
   "cell_type": "code",
   "execution_count": 64,
   "metadata": {},
   "outputs": [
    {
     "data": {
      "text/plain": [
       "<matplotlib.axes._subplots.AxesSubplot at 0x14d1cb3c8>"
      ]
     },
     "execution_count": 64,
     "metadata": {},
     "output_type": "execute_result"
    },
    {
     "data": {
      "image/png": "[encoded data removed]",
      "text/plain": [
       "<Figure size 1440x720 with 2 Axes>"
      ]
     },
     "metadata": {
      "needs_background": "light"
     },
     "output_type": "display_data"
    }
   ],
   "source": [
    "plt.figure(figsize=(20,10))\n",
    "cluster.condensed_tree_.plot()"
   ]
  },
  {
   "cell_type": "markdown",
   "metadata": {},
   "source": [
    "## And then we can actually visually represent which clusters are selected"
   ]
  },
  {
   "cell_type": "code",
   "execution_count": 65,
   "metadata": {},
   "outputs": [
    {
     "data": {
      "text/plain": [
       "<matplotlib.axes._subplots.AxesSubplot at 0x14e9ff0b8>"
      ]
     },
     "execution_count": 65,
     "metadata": {},
     "output_type": "execute_result"
    },
    {
     "data": {
      "image/png": "[encoded data removed]",
      "text/plain": [
       "<Figure size 1440x720 with 2 Axes>"
      ]
     },
     "metadata": {
      "needs_background": "light"
     },
     "output_type": "display_data"
    }
   ],
   "source": [
    "plt.figure(figsize=(20,10))\n",
    "cluster.condensed_tree_.plot(select_clusters=True, selection_palette=sns.color_palette())"
   ]
  },
  {
   "cell_type": "markdown",
   "metadata": {},
   "source": [
    "## Let's look at these clusters back in our original scatterplot"
   ]
  },
  {
   "cell_type": "code",
   "execution_count": 9,
   "metadata": {},
   "outputs": [
    {
     "data": {
      "text/plain": [
       "<matplotlib.collections.PathCollection at 0x12e6dbda0>"
      ]
     },
     "execution_count": 9,
     "metadata": {},
     "output_type": "execute_result"
    },
    {
     "data": {
      "image/png": "[encoded data removed]",
      "text/plain": [
       "<Figure size 432x288 with 1 Axes>"
      ]
     },
     "metadata": {
      "needs_background": "light"
     },
     "output_type": "display_data"
    }
   ],
   "source": [
    "palette = sns.color_palette()\n",
    "cluster_colors = [sns.desaturate(palette[col], sat)\n",
    "                  if col >= 0 else (0.5, 0.5, 0.5) for col, sat in\n",
    "                  zip(clusterer.labels_, clusterer.probabilities_)]\n",
    "plt.scatter(test_data.T[0], test_data.T[1], c=cluster_colors, **plot_kwds)"
   ]
  },
  {
   "cell_type": "markdown",
   "metadata": {},
   "source": [
    "### Using spaCy"
   ]
  },
  {
   "cell_type": "code",
   "execution_count": 23,
   "metadata": {},
   "outputs": [],
   "source": [
    "nlp = spacy.load('en_core_web_md')"
   ]
  },
  {
   "cell_type": "code",
   "execution_count": 24,
   "metadata": {},
   "outputs": [],
   "source": [
    "#Function to clean up text\n",
    "def cleanup_text(docs, logging=False):\n",
    "    texts = []\n",
    "    counter = 1\n",
    "    for doc in docs:\n",
    "        if counter % 1000 == 0 and logging:\n",
    "            print(f\"Processed {counter} out of {len(docs)} documents.\")\n",
    "        doc = nlp(doc, disable=['parser', 'ner']) #disabling default models of spacy\n",
    "        tokens = [tok.lemma_.lower().strip() for tok in doc if tok.lemma_ != '-PRON-']  #Applyint tokenizing and lemmatizing\n",
    "        tokens = [tok for tok in tokens if tok not in ENGLISH_STOP_WORDS and tok not in string.punctuation] #Removing stopwords and punctuations\n",
    "        tokens = ' '.join(tokens) \n",
    "        texts.append(tokens)  #Appending clean titles to texts list\n",
    "    return pd.Series(texts)   #Returning texts list as pd Series"
   ]
  },
  {
   "cell_type": "code",
   "execution_count": 25,
   "metadata": {},
   "outputs": [
    {
     "data": {
      "text/plain": [
       "0    text\n",
       "dtype: object"
      ]
     },
     "execution_count": 25,
     "metadata": {},
     "output_type": "execute_result"
    }
   ],
   "source": [
    "cleanup_text(df)"
   ]
  },
  {
   "cell_type": "code",
   "execution_count": 3,
   "metadata": {},
   "outputs": [
    {
     "ename": "ModuleNotFoundError",
     "evalue": "No module named 'spacy'",
     "output_type": "error",
     "traceback": [
      "\u001b[0;31m---------------------------------------------------------------------------\u001b[0m",
      "\u001b[0;31mModuleNotFoundError\u001b[0m                       Traceback (most recent call last)",
      "\u001b[0;32m<ipython-input-3-0f87f98b7209>\u001b[0m in \u001b[0;36m<module>\u001b[0;34m\u001b[0m\n\u001b[0;32m----> 1\u001b[0;31m \u001b[0;32mimport\u001b[0m \u001b[0mspacy\u001b[0m\u001b[0;34m\u001b[0m\u001b[0;34m\u001b[0m\u001b[0m\n\u001b[0m\u001b[1;32m      2\u001b[0m \u001b[0mnlp\u001b[0m \u001b[0;34m=\u001b[0m \u001b[0mspacy\u001b[0m\u001b[0;34m.\u001b[0m\u001b[0mload\u001b[0m\u001b[0;34m(\u001b[0m\u001b[0;34m'en_core_web_sm'\u001b[0m\u001b[0;34m)\u001b[0m\u001b[0;34m\u001b[0m\u001b[0;34m\u001b[0m\u001b[0m\n\u001b[1;32m      3\u001b[0m \u001b[0mpunctuations\u001b[0m \u001b[0;34m=\u001b[0m \u001b[0mstring\u001b[0m\u001b[0;34m.\u001b[0m\u001b[0mpunctuation\u001b[0m\u001b[0;34m\u001b[0m\u001b[0;34m\u001b[0m\u001b[0m\n\u001b[1;32m      4\u001b[0m \u001b[0;34m\u001b[0m\u001b[0m\n\u001b[1;32m      5\u001b[0m \u001b[0;31m#Function to clean up text\u001b[0m\u001b[0;34m\u001b[0m\u001b[0;34m\u001b[0m\u001b[0;34m\u001b[0m\u001b[0m\n",
      "\u001b[0;31mModuleNotFoundError\u001b[0m: No module named 'spacy'"
     ]
    }
   ],
   "source": [
    "tweets_clean = cleanup_text(lemm_clean_processed_list)\n",
    "tweets_clean = ' '.join(lemm_clean_processed_list).split()\n",
    "\n",
    "tweets_counts = Counter(tweets_clean)\n",
    "\n",
    "tweets_common_words = [word[0] for word in tweets_counts.most_common(20)]\n",
    "tweets_common_counts = [word[1] for word in tweets_counts.most_common(20)]\n",
    "fig = plt.figure(figsize=(18,6))\n",
    "sns.barplot(x=tweets_common_words, y=tweets_common_counts, palette = \"GnBu_d\")\n",
    "sns.set(font_scale=1.5, rc={'figure.figsize':(8, 8)})\n",
    "plt.title('Most Common Words used in tweets')\n",
    "plt.show()"
   ]
  }
 ],
 "metadata": {
  "kernelspec": {
   "display_name": "Python 3",
   "language": "python",
   "name": "python3"
  },
  "language_info": {
   "codemirror_mode": {
    "name": "ipython",
    "version": 3
   },
   "file_extension": ".py",
   "mimetype": "text/x-python",
   "name": "python",
   "nbconvert_exporter": "python",
   "pygments_lexer": "ipython3",
   "version": "3.6.8"
  }
 },
 "nbformat": 4,
 "nbformat_minor": 2
}
