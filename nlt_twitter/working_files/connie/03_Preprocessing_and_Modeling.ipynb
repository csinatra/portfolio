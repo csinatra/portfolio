{
 "cells": [
  {
   "cell_type": "markdown",
   "metadata": {},
   "source": [
    "# Preprocessing and Modeling"
   ]
  },
  {
   "cell_type": "code",
   "execution_count": 50,
   "metadata": {},
   "outputs": [
    {
     "name": "stderr",
     "output_type": "stream",
     "text": [
      "/Users/connie/anaconda3/lib/python3.6/importlib/_bootstrap.py:219: RuntimeWarning: numpy.dtype size changed, may indicate binary incompatibility. Expected 96, got 88\n",
      "  return f(*args, **kwds)\n"
     ]
    }
   ],
   "source": [
    "import pandas as pd\n",
    "import seaborn as sns\n",
    "import numpy as np\n",
    "import matplotlib.pyplot as plt\n",
    "from sklearn.feature_extraction.text import TfidfVectorizer\n",
    "from sklearn.feature_extraction.stop_words import ENGLISH_STOP_WORDS\n",
    "from sklearn.model_selection import train_test_split, GridSearchCV\n",
    "from sklearn.ensemble import RandomForestClassifier\n",
    "from sklearn.linear_model import LogisticRegression\n",
    "import pickle\n",
    "\n",
    "sns.set_style('darkgrid')\n",
    "sns.set_palette(palette='colorblind')\n",
    "np.random.seed(44)\n",
    "%matplotlib inline"
   ]
  },
  {
   "cell_type": "markdown",
   "metadata": {},
   "source": [
    "## Import Data"
   ]
  },
  {
   "cell_type": "code",
   "execution_count": 5,
   "metadata": {},
   "outputs": [],
   "source": [
    "final_df = pd.read_csv('./data/final_df', na_filter=False)"
   ]
  },
  {
   "cell_type": "code",
   "execution_count": 6,
   "metadata": {},
   "outputs": [],
   "source": [
    "final_df.drop(columns=['Unnamed: 0'], inplace=True)"
   ]
  },
  {
   "cell_type": "code",
   "execution_count": 108,
   "metadata": {},
   "outputs": [
    {
     "data": {
      "text/html": [
       "<div>\n",
       "<style scoped>\n",
       "    .dataframe tbody tr th:only-of-type {\n",
       "        vertical-align: middle;\n",
       "    }\n",
       "\n",
       "    .dataframe tbody tr th {\n",
       "        vertical-align: top;\n",
       "    }\n",
       "\n",
       "    .dataframe thead th {\n",
       "        text-align: right;\n",
       "    }\n",
       "</style>\n",
       "<table border=\"1\" class=\"dataframe\">\n",
       "  <thead>\n",
       "    <tr style=\"text-align: right;\">\n",
       "      <th></th>\n",
       "      <th>id</th>\n",
       "      <th>text</th>\n",
       "      <th>label_on-topic</th>\n",
       "      <th>type</th>\n",
       "      <th>processed</th>\n",
       "      <th>tokenized</th>\n",
       "      <th>lemmatized</th>\n",
       "    </tr>\n",
       "  </thead>\n",
       "  <tbody>\n",
       "    <tr>\n",
       "      <th>0</th>\n",
       "      <td>'262596552399396864'</td>\n",
       "      <td>I've got enough candles to supply a Mexican fa...</td>\n",
       "      <td>0</td>\n",
       "      <td>hurricane</td>\n",
       "      <td>i've got enough candles to supply a mexican fa...</td>\n",
       "      <td>['i', 've', 'got', 'enough', 'candles', 'to', ...</td>\n",
       "      <td>i ve got enough candle to supply a mexican family</td>\n",
       "    </tr>\n",
       "    <tr>\n",
       "      <th>1</th>\n",
       "      <td>'263044104500420609'</td>\n",
       "      <td>Sandy be soooo mad that she be shattering our ...</td>\n",
       "      <td>1</td>\n",
       "      <td>hurricane</td>\n",
       "      <td>sandy be soooo mad that she be shattering our ...</td>\n",
       "      <td>['sandy', 'be', 'soooo', 'mad', 'that', 'she',...</td>\n",
       "      <td>sandy be soooo mad that she be shattering our ...</td>\n",
       "    </tr>\n",
       "    <tr>\n",
       "      <th>2</th>\n",
       "      <td>'263309629973491712'</td>\n",
       "      <td>@ibexgirl thankfully Hurricane Waugh played it...</td>\n",
       "      <td>0</td>\n",
       "      <td>hurricane</td>\n",
       "      <td>ibexgirl thankfully hurricane waugh played it ...</td>\n",
       "      <td>['ibexgirl', 'thankfully', 'hurricane', 'waugh...</td>\n",
       "      <td>ibexgirl thankfully hurricane waugh played it ...</td>\n",
       "    </tr>\n",
       "    <tr>\n",
       "      <th>3</th>\n",
       "      <td>'263422851133079552'</td>\n",
       "      <td>@taos you never got that magnificent case of B...</td>\n",
       "      <td>0</td>\n",
       "      <td>hurricane</td>\n",
       "      <td>taos you never got that magnificent case of bu...</td>\n",
       "      <td>['taos', 'you', 'never', 'got', 'that', 'magni...</td>\n",
       "      <td>tao you never got that magnificent case of bur...</td>\n",
       "    </tr>\n",
       "    <tr>\n",
       "      <th>4</th>\n",
       "      <td>'262404311223504896'</td>\n",
       "      <td>I'm at Mad River Bar &amp;amp; Grille (New York, N...</td>\n",
       "      <td>0</td>\n",
       "      <td>hurricane</td>\n",
       "      <td>i'm at mad river bar &amp;amp; grille (new york, ny)</td>\n",
       "      <td>['i', 'm', 'at', 'mad', 'river', 'bar', 'amp',...</td>\n",
       "      <td>i m at mad river bar amp grille new york ny</td>\n",
       "    </tr>\n",
       "  </tbody>\n",
       "</table>\n",
       "</div>"
      ],
      "text/plain": [
       "                     id                                               text  \\\n",
       "0  '262596552399396864'  I've got enough candles to supply a Mexican fa...   \n",
       "1  '263044104500420609'  Sandy be soooo mad that she be shattering our ...   \n",
       "2  '263309629973491712'  @ibexgirl thankfully Hurricane Waugh played it...   \n",
       "3  '263422851133079552'  @taos you never got that magnificent case of B...   \n",
       "4  '262404311223504896'  I'm at Mad River Bar &amp; Grille (New York, N...   \n",
       "\n",
       "  label_on-topic       type  \\\n",
       "0              0  hurricane   \n",
       "1              1  hurricane   \n",
       "2              0  hurricane   \n",
       "3              0  hurricane   \n",
       "4              0  hurricane   \n",
       "\n",
       "                                           processed  \\\n",
       "0  i've got enough candles to supply a mexican fa...   \n",
       "1  sandy be soooo mad that she be shattering our ...   \n",
       "2  ibexgirl thankfully hurricane waugh played it ...   \n",
       "3  taos you never got that magnificent case of bu...   \n",
       "4  i'm at mad river bar &amp; grille (new york, ny)    \n",
       "\n",
       "                                           tokenized  \\\n",
       "0  ['i', 've', 'got', 'enough', 'candles', 'to', ...   \n",
       "1  ['sandy', 'be', 'soooo', 'mad', 'that', 'she',...   \n",
       "2  ['ibexgirl', 'thankfully', 'hurricane', 'waugh...   \n",
       "3  ['taos', 'you', 'never', 'got', 'that', 'magni...   \n",
       "4  ['i', 'm', 'at', 'mad', 'river', 'bar', 'amp',...   \n",
       "\n",
       "                                          lemmatized  \n",
       "0  i ve got enough candle to supply a mexican family  \n",
       "1  sandy be soooo mad that she be shattering our ...  \n",
       "2  ibexgirl thankfully hurricane waugh played it ...  \n",
       "3  tao you never got that magnificent case of bur...  \n",
       "4        i m at mad river bar amp grille new york ny  "
      ]
     },
     "execution_count": 108,
     "metadata": {},
     "output_type": "execute_result"
    }
   ],
   "source": [
    "final_df.head()"
   ]
  },
  {
   "cell_type": "markdown",
   "metadata": {},
   "source": [
    "We'll check our target feature `label_on-topic` to make sure our data was imported correctly."
   ]
  },
  {
   "cell_type": "code",
   "execution_count": 121,
   "metadata": {},
   "outputs": [
    {
     "data": {
      "text/plain": [
       "1                                                            21568\n",
       "0                                                            18495\n",
       "                                                                 2\n",
       "&amp; i anit offering that shit to oomf anymore . toodone        1\n",
       "Name: label_on-topic, dtype: int64"
      ]
     },
     "execution_count": 121,
     "metadata": {},
     "output_type": "execute_result"
    }
   ],
   "source": [
    "final_df['label_on-topic'].value_counts()"
   ]
  },
  {
   "cell_type": "markdown",
   "metadata": {},
   "source": [
    "We expect to only see either 1 for `on-topic` or 0 for `off-topic`. We will drop all rows that don't equate to that."
   ]
  },
  {
   "cell_type": "code",
   "execution_count": 7,
   "metadata": {},
   "outputs": [],
   "source": [
    "final_df = final_df[(final_df['label_on-topic'] != '') & \n",
    "                    (final_df['label_on-topic'] != '&amp; i anit offering that shit to oomf anymore . toodone')]"
   ]
  },
  {
   "cell_type": "markdown",
   "metadata": {},
   "source": [
    "We will filter our dataframe and arbitrarily choose disaster types to model on. We expect to see the same trends for all disaster types."
   ]
  },
  {
   "cell_type": "code",
   "execution_count": 24,
   "metadata": {},
   "outputs": [],
   "source": [
    "final_df['label_on-topic'] = pd.to_numeric(final_df['label_on-topic'])"
   ]
  },
  {
   "cell_type": "markdown",
   "metadata": {},
   "source": [
    "## Sandy Hurricane"
   ]
  },
  {
   "cell_type": "markdown",
   "metadata": {},
   "source": [
    "### Model Prep"
   ]
  },
  {
   "cell_type": "code",
   "execution_count": 39,
   "metadata": {},
   "outputs": [],
   "source": [
    "X = final_df.loc[final_df['type'] == 'hurricane', ['lemmatized']]\n",
    "y = final_df.loc[final_df['type'] == 'hurricane', ['label_on-topic']]"
   ]
  },
  {
   "cell_type": "code",
   "execution_count": 28,
   "metadata": {},
   "outputs": [],
   "source": [
    "X_train, X_test, y_train, y_test = train_test_split(X, \n",
    "                                                    y, \n",
    "                                                    stratify=y,\n",
    "                                                    random_state=44)"
   ]
  },
  {
   "cell_type": "markdown",
   "metadata": {},
   "source": [
    "#### TF-IDF"
   ]
  },
  {
   "cell_type": "markdown",
   "metadata": {},
   "source": [
    "We want to use TF-IDF to determine which words are most discriminating between tweets. Words that occue frequently are penalized and rare words are given more influence in our model. \n",
    "\n",
    "We instantiate TfidfVectorizer() and set:\n",
    "-  `ngram_range = (1, 2)`: Set an upper and lower bound of 1 and 2. Word sequence will contain at least 1 and up to 2 words.\n",
    "-  `stop_words='english'`: Filter out commonly used words in English\n",
    "-  `min_df = 25`: Ignore terms that occur in less than 25 documents of the corpus\n",
    "-  `max_df = 1.0`: There is no maximum threshold since terms cannot have a document frequency greater than `100%`. \n",
    "\n",
    "We then create a dataframe that contains each word and its frequency. This is done for both `X_train` and `X_test`."
   ]
  },
  {
   "cell_type": "markdown",
   "metadata": {},
   "source": [
    "##### X_train"
   ]
  },
  {
   "cell_type": "code",
   "execution_count": 31,
   "metadata": {},
   "outputs": [],
   "source": [
    "tfidf = TfidfVectorizer(ngram_range=(1, 2),\n",
    "                        stop_words='english',\n",
    "                        min_df=25, \n",
    "                        max_df=1.0)\n",
    "X_train_tfidf = tfidf.fit_transform(X_train['lemmatized'])\n",
    "X_train_tfidf_df = pd.DataFrame(X_train_tfidf.toarray(), columns=tfidf.get_feature_names())"
   ]
  },
  {
   "cell_type": "markdown",
   "metadata": {},
   "source": [
    "##### Replicate for X_test"
   ]
  },
  {
   "cell_type": "code",
   "execution_count": 32,
   "metadata": {},
   "outputs": [],
   "source": [
    "X_test_tfidf = tfidf.transform(X_test['lemmatized'])\n",
    "X_test_tfidf_df = pd.DataFrame(X_test_tfidf.toarray(), columns=tfidf.get_feature_names())"
   ]
  },
  {
   "cell_type": "code",
   "execution_count": 33,
   "metadata": {},
   "outputs": [
    {
     "data": {
      "text/plain": [
       "(2502, 421)"
      ]
     },
     "execution_count": 33,
     "metadata": {},
     "output_type": "execute_result"
    }
   ],
   "source": [
    "X_test_tfidf_df.shape"
   ]
  },
  {
   "cell_type": "markdown",
   "metadata": {},
   "source": [
    "### Modeling"
   ]
  },
  {
   "cell_type": "markdown",
   "metadata": {},
   "source": [
    "#### Baseline Model"
   ]
  },
  {
   "cell_type": "code",
   "execution_count": 44,
   "metadata": {},
   "outputs": [
    {
     "data": {
      "text/plain": [
       "1    0.613309\n",
       "0    0.386691\n",
       "Name: label_on-topic, dtype: float64"
      ]
     },
     "execution_count": 44,
     "metadata": {},
     "output_type": "execute_result"
    }
   ],
   "source": [
    "y['label_on-topic'].value_counts(normalize=True)"
   ]
  },
  {
   "cell_type": "markdown",
   "metadata": {},
   "source": [
    "Since `on-topic` is our majority class, an accuracy score of 61.33% is our baseline model. If we classify all tweets as being `on-topic`, we will be predicting correctly 61.33% of the time."
   ]
  },
  {
   "cell_type": "markdown",
   "metadata": {},
   "source": [
    "#### Random Forest"
   ]
  },
  {
   "cell_type": "markdown",
   "metadata": {},
   "source": [
    "We will use Random Forest in order to measure feature importance and determine which terms provide the most information gained. \n",
    "\n",
    "We instantiate Random Forest Classifier and perform Grid Search to find the most optimal hyperparameters:\n",
    "-  **n_estimators**: Number of trees our model builds before taking an average of the predictions. \n",
    "-  **min_samples_split**: Minimum number of samples required for a node to split\n",
    "-  **max_depth**: Maximum number of levels in each tree. We include the default value of `None` in addition to our other values."
   ]
  },
  {
   "cell_type": "code",
   "execution_count": 46,
   "metadata": {},
   "outputs": [
    {
     "name": "stdout",
     "output_type": "stream",
     "text": [
      "Score on Training Set: 0.9693578470556888\n",
      "Score on Testing Set: 0.9248601119104716\n"
     ]
    },
    {
     "data": {
      "text/plain": [
       "{'max_depth': None, 'min_samples_split': 7, 'n_estimators': 45}"
      ]
     },
     "execution_count": 46,
     "metadata": {},
     "output_type": "execute_result"
    }
   ],
   "source": [
    "rf = RandomForestClassifier()\n",
    "rf_params = {\n",
    "    'n_estimators': [30, 35, 45],\n",
    "    'min_samples_split': [2, 3, 5, 7, 10],\n",
    "    'max_depth': [None, 5, 7, 10]\n",
    "    \n",
    "}\n",
    "gs_rf_sh = GridSearchCV(rf, param_grid=rf_params, cv=5)\n",
    "gs_rf_sh.fit(X_train_tfidf_df, y_train['label_on-topic'])\n",
    "print('Score on Training Set:', gs_rf_sh.score(X_train_tfidf_df, y_train['label_on-topic']))\n",
    "print('Score on Testing Set:', gs_rf_sh.score(X_test_tfidf_df, y_test['label_on-topic']))\n",
    "gs_rf_sh.best_params_"
   ]
  },
  {
   "cell_type": "markdown",
   "metadata": {},
   "source": [
    "-  For `y_train`, we will correctly predict the class in which a tweet belongs in `96.94%` of the time.\n",
    "-  For `y_test`, we will correctly predict the class in which a tweet belongs in `92.49%` of the time."
   ]
  },
  {
   "cell_type": "markdown",
   "metadata": {},
   "source": [
    "##### Takeaways"
   ]
  },
  {
   "cell_type": "markdown",
   "metadata": {},
   "source": [
    "-  The model is suffering from high varaince, with our training score being rougly `4.45%` higher than our test score. \n",
    "-  The accuracy scores are greater than our baseline model of `61.33%`."
   ]
  },
  {
   "cell_type": "markdown",
   "metadata": {},
   "source": [
    "##### Important Features"
   ]
  },
  {
   "cell_type": "code",
   "execution_count": 47,
   "metadata": {},
   "outputs": [],
   "source": [
    "feat_importance = pd.DataFrame(gs_rf_sh.best_estimator_.feature_importances_, X_train_tfidf_df.columns, columns=['importance'])"
   ]
  },
  {
   "cell_type": "code",
   "execution_count": 48,
   "metadata": {},
   "outputs": [],
   "source": [
    "top_feat = feat_importance.sort_values('importance', ascending=False).head(20)"
   ]
  },
  {
   "cell_type": "code",
   "execution_count": 49,
   "metadata": {},
   "outputs": [
    {
     "data": {
      "image/png": "[encoded data removed]",
      "text/plain": [
       "<Figure size 1440x720 with 1 Axes>"
      ]
     },
     "metadata": {},
     "output_type": "display_data"
    }
   ],
   "source": [
    "plt.figure(figsize=(20,10))\n",
    "plt.barh(top_feat.index, top_feat['importance'])\n",
    "plt.title('Top 20 Features', fontsize=30)\n",
    "plt.xlabel('Amount of Information Gained', fontsize=25)\n",
    "plt.ylabel('Feature', fontsize=25)\n",
    "plt.xticks(fontsize=20)\n",
    "plt.yticks(fontsize=20);"
   ]
  },
  {
   "cell_type": "markdown",
   "metadata": {},
   "source": [
    "-  Terms with the most information gained are either referring to the disaster type (`hurricane`) or the name itself.\n",
    "-  Words like `safe`, `love`, and`hope` are most likely from well-wishers not affected by the disaster."
   ]
  },
  {
   "cell_type": "markdown",
   "metadata": {},
   "source": [
    "## Oklahoma Tornado"
   ]
  },
  {
   "cell_type": "markdown",
   "metadata": {},
   "source": [
    "### Model Prep"
   ]
  },
  {
   "cell_type": "code",
   "execution_count": 35,
   "metadata": {},
   "outputs": [],
   "source": [
    "X = final_df.loc[final_df['type'] == 'tornado', ['lemmatized']]\n",
    "y = final_df.loc[final_df['type'] == 'tornado', ['label_on-topic']]"
   ]
  },
  {
   "cell_type": "code",
   "execution_count": 36,
   "metadata": {},
   "outputs": [],
   "source": [
    "X_train, X_test, y_train, y_test = train_test_split(X, \n",
    "                                                    y, \n",
    "                                                    stratify=y,\n",
    "                                                    random_state=44)"
   ]
  },
  {
   "cell_type": "markdown",
   "metadata": {},
   "source": [
    "#### TF-IDF"
   ]
  },
  {
   "cell_type": "markdown",
   "metadata": {},
   "source": [
    "We instantiate TfidfVectorizer() and set the same parameters as before."
   ]
  },
  {
   "cell_type": "markdown",
   "metadata": {},
   "source": [
    "##### X_train"
   ]
  },
  {
   "cell_type": "code",
   "execution_count": 37,
   "metadata": {},
   "outputs": [],
   "source": [
    "tfidf = TfidfVectorizer(ngram_range=(1, 2),\n",
    "                        stop_words='english',\n",
    "                        min_df=25, \n",
    "                        max_df=1.0)\n",
    "X_train_tfidf = tfidf.fit_transform(X_train['lemmatized'])\n",
    "X_train_tfidf_df = pd.DataFrame(X_train_tfidf.toarray(), columns=tfidf.get_feature_names())"
   ]
  },
  {
   "cell_type": "markdown",
   "metadata": {},
   "source": [
    "##### Replicate for X_test"
   ]
  },
  {
   "cell_type": "code",
   "execution_count": 38,
   "metadata": {},
   "outputs": [],
   "source": [
    "X_test_tfidf = tfidf.transform(X_test['lemmatized'])\n",
    "X_test_tfidf_df = pd.DataFrame(X_test_tfidf.toarray(), columns=tfidf.get_feature_names())"
   ]
  },
  {
   "cell_type": "code",
   "execution_count": 39,
   "metadata": {},
   "outputs": [
    {
     "data": {
      "text/plain": [
       "(2498, 460)"
      ]
     },
     "execution_count": 39,
     "metadata": {},
     "output_type": "execute_result"
    }
   ],
   "source": [
    "X_test_tfidf_df.shape"
   ]
  },
  {
   "cell_type": "markdown",
   "metadata": {},
   "source": [
    "### Modeling"
   ]
  },
  {
   "cell_type": "markdown",
   "metadata": {},
   "source": [
    "#### Baseline Model"
   ]
  },
  {
   "cell_type": "code",
   "execution_count": 41,
   "metadata": {},
   "outputs": [
    {
     "data": {
      "text/plain": [
       "0    0.516865\n",
       "1    0.483135\n",
       "Name: label_on-topic, dtype: float64"
      ]
     },
     "execution_count": 41,
     "metadata": {},
     "output_type": "execute_result"
    }
   ],
   "source": [
    "y['label_on-topic'].value_counts(normalize=True)"
   ]
  },
  {
   "cell_type": "markdown",
   "metadata": {},
   "source": [
    "`on-topic` is our majority class again, with a similar imbalance as Alberta Floods and Queensland Flood. If we classify all tweets as being `on-topic`, we will be predicting correctly 53.84% of the time."
   ]
  },
  {
   "cell_type": "code",
   "execution_count": 43,
   "metadata": {},
   "outputs": [
    {
     "name": "stdout",
     "output_type": "stream",
     "text": [
      "Score on Training Set: 0.9827200422816696\n",
      "Score on Testing Set: 0.9728343634504893\n"
     ]
    },
    {
     "data": {
      "text/plain": [
       "{'C': 10, 'penalty': 'l2'}"
      ]
     },
     "execution_count": 43,
     "metadata": {},
     "output_type": "execute_result"
    }
   ],
   "source": [
    "lr = LogisticRegression()\n",
    "lr_params = {'C': [0.001, 0.01, 0.1, 1, 10, 100, 1000],\n",
    "             'penalty' : ['l1','l2']   \n",
    "}\n",
    "gs_lr_ot = GridSearchCV(lr, param_grid = lr_params, scoring = 'roc_auc', cv = 3)\n",
    "gs_lr_ot.fit(X_train_tfidf_df, y_train['label_on-topic'])\n",
    "print('Score on Training Set:', gs_lr_ot.score(X_train_tfidf_df, y_train['label_on-topic']))\n",
    "print('Score on Testing Set:', gs_lr_ot.score(X_test_tfidf_df, y_test['label_on-topic']))\n",
    "gs_lr_ot.best_params_"
   ]
  },
  {
   "cell_type": "markdown",
   "metadata": {},
   "source": [
    "##### Odds"
   ]
  },
  {
   "cell_type": "code",
   "execution_count": 46,
   "metadata": {},
   "outputs": [
    {
     "data": {
      "text/html": [
       "<div>\n",
       "<style scoped>\n",
       "    .dataframe tbody tr th:only-of-type {\n",
       "        vertical-align: middle;\n",
       "    }\n",
       "\n",
       "    .dataframe tbody tr th {\n",
       "        vertical-align: top;\n",
       "    }\n",
       "\n",
       "    .dataframe thead th {\n",
       "        text-align: right;\n",
       "    }\n",
       "</style>\n",
       "<table border=\"1\" class=\"dataframe\">\n",
       "  <thead>\n",
       "    <tr style=\"text-align: right;\">\n",
       "      <th></th>\n",
       "      <th>weights</th>\n",
       "      <th>odds</th>\n",
       "      <th>abs_weights</th>\n",
       "    </tr>\n",
       "  </thead>\n",
       "  <tbody>\n",
       "    <tr>\n",
       "      <th>tornado</th>\n",
       "      <td>11.912247</td>\n",
       "      <td>149081.242683</td>\n",
       "      <td>11.912247</td>\n",
       "    </tr>\n",
       "    <tr>\n",
       "      <th>prayforoklahoma</th>\n",
       "      <td>9.116243</td>\n",
       "      <td>9101.945458</td>\n",
       "      <td>9.116243</td>\n",
       "    </tr>\n",
       "    <tr>\n",
       "      <th>prayer</th>\n",
       "      <td>8.688857</td>\n",
       "      <td>5936.390772</td>\n",
       "      <td>8.688857</td>\n",
       "    </tr>\n",
       "    <tr>\n",
       "      <th>oklahoma</th>\n",
       "      <td>8.001383</td>\n",
       "      <td>2985.082724</td>\n",
       "      <td>8.001383</td>\n",
       "    </tr>\n",
       "    <tr>\n",
       "      <th>devastation</th>\n",
       "      <td>7.722705</td>\n",
       "      <td>2259.062673</td>\n",
       "      <td>7.722705</td>\n",
       "    </tr>\n",
       "    <tr>\n",
       "      <th>donation</th>\n",
       "      <td>6.443826</td>\n",
       "      <td>628.808033</td>\n",
       "      <td>6.443826</td>\n",
       "    </tr>\n",
       "    <tr>\n",
       "      <th>victim</th>\n",
       "      <td>6.373741</td>\n",
       "      <td>586.247165</td>\n",
       "      <td>6.373741</td>\n",
       "    </tr>\n",
       "    <tr>\n",
       "      <th>redcross</th>\n",
       "      <td>6.160988</td>\n",
       "      <td>473.896250</td>\n",
       "      <td>6.160988</td>\n",
       "    </tr>\n",
       "    <tr>\n",
       "      <th>donating</th>\n",
       "      <td>5.720924</td>\n",
       "      <td>305.186724</td>\n",
       "      <td>5.720924</td>\n",
       "    </tr>\n",
       "    <tr>\n",
       "      <th>disaster</th>\n",
       "      <td>5.567559</td>\n",
       "      <td>261.794211</td>\n",
       "      <td>5.567559</td>\n",
       "    </tr>\n",
       "    <tr>\n",
       "      <th>damage</th>\n",
       "      <td>5.521500</td>\n",
       "      <td>250.009666</td>\n",
       "      <td>5.521500</td>\n",
       "    </tr>\n",
       "    <tr>\n",
       "      <th>twister</th>\n",
       "      <td>5.507201</td>\n",
       "      <td>246.460377</td>\n",
       "      <td>5.507201</td>\n",
       "    </tr>\n",
       "    <tr>\n",
       "      <th>tragedy</th>\n",
       "      <td>5.458447</td>\n",
       "      <td>234.732631</td>\n",
       "      <td>5.458447</td>\n",
       "    </tr>\n",
       "    <tr>\n",
       "      <th>sending</th>\n",
       "      <td>5.398866</td>\n",
       "      <td>221.155494</td>\n",
       "      <td>5.398866</td>\n",
       "    </tr>\n",
       "    <tr>\n",
       "      <th>lost</th>\n",
       "      <td>5.395746</td>\n",
       "      <td>220.466576</td>\n",
       "      <td>5.395746</td>\n",
       "    </tr>\n",
       "    <tr>\n",
       "      <th>rubble</th>\n",
       "      <td>5.355694</td>\n",
       "      <td>211.811000</td>\n",
       "      <td>5.355694</td>\n",
       "    </tr>\n",
       "    <tr>\n",
       "      <th>praying</th>\n",
       "      <td>5.193190</td>\n",
       "      <td>180.041999</td>\n",
       "      <td>5.193190</td>\n",
       "    </tr>\n",
       "    <tr>\n",
       "      <th>affected</th>\n",
       "      <td>5.149340</td>\n",
       "      <td>172.317750</td>\n",
       "      <td>5.149340</td>\n",
       "    </tr>\n",
       "    <tr>\n",
       "      <th>405</th>\n",
       "      <td>5.113648</td>\n",
       "      <td>166.275800</td>\n",
       "      <td>5.113648</td>\n",
       "    </tr>\n",
       "    <tr>\n",
       "      <th>people oklahoma</th>\n",
       "      <td>5.046211</td>\n",
       "      <td>155.432449</td>\n",
       "      <td>5.046211</td>\n",
       "    </tr>\n",
       "  </tbody>\n",
       "</table>\n",
       "</div>"
      ],
      "text/plain": [
       "                   weights           odds  abs_weights\n",
       "tornado          11.912247  149081.242683    11.912247\n",
       "prayforoklahoma   9.116243    9101.945458     9.116243\n",
       "prayer            8.688857    5936.390772     8.688857\n",
       "oklahoma          8.001383    2985.082724     8.001383\n",
       "devastation       7.722705    2259.062673     7.722705\n",
       "donation          6.443826     628.808033     6.443826\n",
       "victim            6.373741     586.247165     6.373741\n",
       "redcross          6.160988     473.896250     6.160988\n",
       "donating          5.720924     305.186724     5.720924\n",
       "disaster          5.567559     261.794211     5.567559\n",
       "damage            5.521500     250.009666     5.521500\n",
       "twister           5.507201     246.460377     5.507201\n",
       "tragedy           5.458447     234.732631     5.458447\n",
       "sending           5.398866     221.155494     5.398866\n",
       "lost              5.395746     220.466576     5.395746\n",
       "rubble            5.355694     211.811000     5.355694\n",
       "praying           5.193190     180.041999     5.193190\n",
       "affected          5.149340     172.317750     5.149340\n",
       "405               5.113648     166.275800     5.113648\n",
       "people oklahoma   5.046211     155.432449     5.046211"
      ]
     },
     "execution_count": 46,
     "metadata": {},
     "output_type": "execute_result"
    }
   ],
   "source": [
    "lr_ot_odds = pd.DataFrame(gs_lr_ot.best_estimator_.coef_, columns = X_train_tfidf_df.columns).T\n",
    "lr_ot_odds.columns = ['weights']\n",
    "lr_ot_odds['odds'] = np.exp(lr_ot_odds['weights'])\n",
    "lr_ot_odds['abs_weights'] = np.abs(lr_ot_odds['weights'])\n",
    "lr_ot_odds.sort_values(by='abs_weights', ascending=False).head(20)"
   ]
  },
  {
   "cell_type": "code",
   "execution_count": 47,
   "metadata": {},
   "outputs": [
    {
     "data": {
      "image/png": "[encoded data removed]",
      "text/plain": [
       "<Figure size 1440x720 with 1 Axes>"
      ]
     },
     "metadata": {},
     "output_type": "display_data"
    }
   ],
   "source": [
    "plt.figure(figsize=(20,10))\n",
    "plt.barh(lr_ot_odds.sort_values(by='odds', ascending=False).head(20).index, \n",
    "         lr_ot_odds.sort_values(by='odds', ascending=False).head(20)['odds'],\n",
    "         log=True)\n",
    "plt.title('Top 20 words with Positive Impact on Odds\\n Accuracy: 97%', fontsize=30)\n",
    "plt.xlabel('Odds', fontsize=25)\n",
    "plt.ylabel('Feature', fontsize=25)\n",
    "plt.xticks(fontsize=20)\n",
    "plt.yticks(fontsize=20);"
   ]
  },
  {
   "cell_type": "markdown",
   "metadata": {},
   "source": [
    "## Alberta Floods and Queensland Flood"
   ]
  },
  {
   "cell_type": "markdown",
   "metadata": {},
   "source": [
    "We repeat the same process for disaster type `flood` (Alberta and Queensland)."
   ]
  },
  {
   "cell_type": "markdown",
   "metadata": {},
   "source": [
    "### Model Prep"
   ]
  },
  {
   "cell_type": "code",
   "execution_count": 50,
   "metadata": {},
   "outputs": [],
   "source": [
    "X = final_df.loc[final_df['type'] == 'flood', ['lemmatized']]\n",
    "y = final_df.loc[final_df['type'] == 'flood', ['label_on-topic']]"
   ]
  },
  {
   "cell_type": "code",
   "execution_count": 51,
   "metadata": {},
   "outputs": [],
   "source": [
    "X_train, X_test, y_train, y_test = train_test_split(X, \n",
    "                                                    y, \n",
    "                                                    stratify=y,\n",
    "                                                    random_state=44)"
   ]
  },
  {
   "cell_type": "markdown",
   "metadata": {},
   "source": [
    "#### TF-IDF"
   ]
  },
  {
   "cell_type": "markdown",
   "metadata": {},
   "source": [
    "We instantiate TfidfVectorizer() and set the same parameters as before."
   ]
  },
  {
   "cell_type": "markdown",
   "metadata": {},
   "source": [
    "##### X_train"
   ]
  },
  {
   "cell_type": "code",
   "execution_count": 52,
   "metadata": {},
   "outputs": [],
   "source": [
    "tfidf = TfidfVectorizer(ngram_range=(1, 2),\n",
    "                        stop_words='english',\n",
    "                        min_df=25, \n",
    "                        max_df=1.0)\n",
    "X_train_tfidf = tfidf.fit_transform(X_train['lemmatized'])\n",
    "X_train_tfidf_df = pd.DataFrame(X_train_tfidf.toarray(), columns=tfidf.get_feature_names())"
   ]
  },
  {
   "cell_type": "markdown",
   "metadata": {},
   "source": [
    "##### Replicate for X_test"
   ]
  },
  {
   "cell_type": "code",
   "execution_count": 53,
   "metadata": {},
   "outputs": [],
   "source": [
    "X_test_tfidf = tfidf.transform(X_test['lemmatized'])\n",
    "X_test_tfidf_df = pd.DataFrame(X_test_tfidf.toarray(), columns=tfidf.get_feature_names())"
   ]
  },
  {
   "cell_type": "code",
   "execution_count": 54,
   "metadata": {},
   "outputs": [
    {
     "data": {
      "text/plain": [
       "(5016, 1060)"
      ]
     },
     "execution_count": 54,
     "metadata": {},
     "output_type": "execute_result"
    }
   ],
   "source": [
    "X_test_tfidf_df.shape"
   ]
  },
  {
   "cell_type": "markdown",
   "metadata": {},
   "source": [
    "### Modeling"
   ]
  },
  {
   "cell_type": "markdown",
   "metadata": {},
   "source": [
    "#### Baseline Model"
   ]
  },
  {
   "cell_type": "code",
   "execution_count": 55,
   "metadata": {},
   "outputs": [
    {
     "data": {
      "text/plain": [
       "1    0.528459\n",
       "0    0.471541\n",
       "Name: label_on-topic, dtype: float64"
      ]
     },
     "execution_count": 55,
     "metadata": {},
     "output_type": "execute_result"
    }
   ],
   "source": [
    "y['label_on-topic'].value_counts(normalize=True)"
   ]
  },
  {
   "cell_type": "markdown",
   "metadata": {},
   "source": [
    "`on-topic` is our majority class again, but we do not see as great of an imbalance as we did with Sandy Hurricane. If we classify all tweets as being `on-topic`, we will be predicting correctly 52.85% of the time."
   ]
  },
  {
   "cell_type": "markdown",
   "metadata": {},
   "source": [
    "#### Random Forest"
   ]
  },
  {
   "cell_type": "code",
   "execution_count": 56,
   "metadata": {},
   "outputs": [
    {
     "name": "stdout",
     "output_type": "stream",
     "text": [
      "Score on Training Set: 0.9855794790005317\n",
      "Score on Testing Set: 0.9595295055821371\n"
     ]
    },
    {
     "data": {
      "text/plain": [
       "{'max_depth': None, 'min_samples_split': 10, 'n_estimators': 35}"
      ]
     },
     "execution_count": 56,
     "metadata": {},
     "output_type": "execute_result"
    }
   ],
   "source": [
    "rf = RandomForestClassifier()\n",
    "rf_params = {\n",
    "    'n_estimators': [30, 35, 45],\n",
    "    'min_samples_split': [2, 3, 5, 7, 10],\n",
    "    'max_depth': [None, 5, 7, 10]\n",
    "    \n",
    "}\n",
    "gs_rf_fl = GridSearchCV(rf, param_grid=rf_params, cv=5)\n",
    "gs_rf_fl.fit(X_train_tfidf_df, y_train['label_on-topic'])\n",
    "print('Score on Training Set:', gs_rf_fl.score(X_train_tfidf_df, y_train['label_on-topic']))\n",
    "print('Score on Testing Set:', gs_rf_fl.score(X_test_tfidf_df, y_test['label_on-topic']))\n",
    "gs_rf_fl.best_params_"
   ]
  },
  {
   "cell_type": "markdown",
   "metadata": {},
   "source": [
    "-  For `y_train`, we will correctly predict the class in which a tweet belongs in `98.56%` of the time.\n",
    "-  For `y_test`, we will correctly predict the class in which a tweet belongs in `95.95%` of the time."
   ]
  },
  {
   "cell_type": "markdown",
   "metadata": {},
   "source": [
    "##### Important Features"
   ]
  },
  {
   "cell_type": "code",
   "execution_count": 57,
   "metadata": {},
   "outputs": [],
   "source": [
    "feat_importance = pd.DataFrame(gs_rf_fl.best_estimator_.feature_importances_, X_train_tfidf_df.columns, columns=['importance'])"
   ]
  },
  {
   "cell_type": "code",
   "execution_count": 58,
   "metadata": {},
   "outputs": [],
   "source": [
    "top_feat = feat_importance.sort_values('importance', ascending=False).head(20)"
   ]
  },
  {
   "cell_type": "code",
   "execution_count": 59,
   "metadata": {},
   "outputs": [
    {
     "data": {
      "image/png": "[encoded data removed]",
      "text/plain": [
       "<Figure size 1440x720 with 1 Axes>"
      ]
     },
     "metadata": {},
     "output_type": "display_data"
    }
   ],
   "source": [
    "plt.figure(figsize=(20,10))\n",
    "plt.barh(top_feat.index, top_feat['importance'])\n",
    "plt.title('Top 20 Features', fontsize=30)\n",
    "plt.xlabel('Amount of Information Gained', fontsize=25)\n",
    "plt.ylabel('Feature', fontsize=25)\n",
    "plt.xticks(fontsize=20)\n",
    "plt.yticks(fontsize=20);"
   ]
  },
  {
   "cell_type": "markdown",
   "metadata": {},
   "source": [
    "-  Similar to what we saw with Sandy Hurricane, the words with the most information gained are either referring to the disaster type (`flood`) or the name directly.\n",
    "-  There are several terms that refer to the flood location: `yycflood`, `queensland`, `calgary`, and `albea`."
   ]
  },
  {
   "cell_type": "markdown",
   "metadata": {},
   "source": [
    "#### Logistic Regression"
   ]
  },
  {
   "cell_type": "code",
   "execution_count": 51,
   "metadata": {},
   "outputs": [
    {
     "name": "stdout",
     "output_type": "stream",
     "text": [
      "Score on Training Set: 0.9827200422816696\n",
      "Score on Testing Set: 0.9728343634504893\n"
     ]
    },
    {
     "data": {
      "text/plain": [
       "{'C': 10, 'penalty': 'l2'}"
      ]
     },
     "execution_count": 51,
     "metadata": {},
     "output_type": "execute_result"
    }
   ],
   "source": [
    "lr = LogisticRegression()\n",
    "lr_params = {'C': [0.001, 0.01, 0.1, 1, 10, 100, 1000],\n",
    "             'penalty' : ['l1','l2']   \n",
    "}\n",
    "gs_lr_fl = GridSearchCV(lr, param_grid = lr_params, scoring = 'roc_auc', cv = 3)\n",
    "gs_lr_fl.fit(X_train_tfidf_df, y_train['label_on-topic'])\n",
    "print('Score on Training Set:', gs_lr_fl.score(X_train_tfidf_df, y_train['label_on-topic']))\n",
    "print('Score on Testing Set:', gs_lr_fl.score(X_test_tfidf_df, y_test['label_on-topic']))\n",
    "gs_lr_fl.best_params_"
   ]
  },
  {
   "cell_type": "markdown",
   "metadata": {},
   "source": [
    "##### Odds"
   ]
  },
  {
   "cell_type": "code",
   "execution_count": 53,
   "metadata": {},
   "outputs": [
    {
     "data": {
      "text/html": [
       "<div>\n",
       "<style scoped>\n",
       "    .dataframe tbody tr th:only-of-type {\n",
       "        vertical-align: middle;\n",
       "    }\n",
       "\n",
       "    .dataframe tbody tr th {\n",
       "        vertical-align: top;\n",
       "    }\n",
       "\n",
       "    .dataframe thead th {\n",
       "        text-align: right;\n",
       "    }\n",
       "</style>\n",
       "<table border=\"1\" class=\"dataframe\">\n",
       "  <thead>\n",
       "    <tr style=\"text-align: right;\">\n",
       "      <th></th>\n",
       "      <th>weights</th>\n",
       "      <th>odds</th>\n",
       "      <th>abs_weights</th>\n",
       "    </tr>\n",
       "  </thead>\n",
       "  <tbody>\n",
       "    <tr>\n",
       "      <th>tornado</th>\n",
       "      <td>11.912247</td>\n",
       "      <td>149081.242683</td>\n",
       "      <td>11.912247</td>\n",
       "    </tr>\n",
       "    <tr>\n",
       "      <th>prayforoklahoma</th>\n",
       "      <td>9.116243</td>\n",
       "      <td>9101.945458</td>\n",
       "      <td>9.116243</td>\n",
       "    </tr>\n",
       "    <tr>\n",
       "      <th>prayer</th>\n",
       "      <td>8.688857</td>\n",
       "      <td>5936.390772</td>\n",
       "      <td>8.688857</td>\n",
       "    </tr>\n",
       "    <tr>\n",
       "      <th>oklahoma</th>\n",
       "      <td>8.001383</td>\n",
       "      <td>2985.082724</td>\n",
       "      <td>8.001383</td>\n",
       "    </tr>\n",
       "    <tr>\n",
       "      <th>devastation</th>\n",
       "      <td>7.722705</td>\n",
       "      <td>2259.062673</td>\n",
       "      <td>7.722705</td>\n",
       "    </tr>\n",
       "    <tr>\n",
       "      <th>donation</th>\n",
       "      <td>6.443826</td>\n",
       "      <td>628.808033</td>\n",
       "      <td>6.443826</td>\n",
       "    </tr>\n",
       "    <tr>\n",
       "      <th>victim</th>\n",
       "      <td>6.373741</td>\n",
       "      <td>586.247165</td>\n",
       "      <td>6.373741</td>\n",
       "    </tr>\n",
       "    <tr>\n",
       "      <th>redcross</th>\n",
       "      <td>6.160988</td>\n",
       "      <td>473.896250</td>\n",
       "      <td>6.160988</td>\n",
       "    </tr>\n",
       "    <tr>\n",
       "      <th>donating</th>\n",
       "      <td>5.720924</td>\n",
       "      <td>305.186724</td>\n",
       "      <td>5.720924</td>\n",
       "    </tr>\n",
       "    <tr>\n",
       "      <th>disaster</th>\n",
       "      <td>5.567559</td>\n",
       "      <td>261.794211</td>\n",
       "      <td>5.567559</td>\n",
       "    </tr>\n",
       "    <tr>\n",
       "      <th>damage</th>\n",
       "      <td>5.521500</td>\n",
       "      <td>250.009666</td>\n",
       "      <td>5.521500</td>\n",
       "    </tr>\n",
       "    <tr>\n",
       "      <th>twister</th>\n",
       "      <td>5.507201</td>\n",
       "      <td>246.460377</td>\n",
       "      <td>5.507201</td>\n",
       "    </tr>\n",
       "    <tr>\n",
       "      <th>tragedy</th>\n",
       "      <td>5.458447</td>\n",
       "      <td>234.732631</td>\n",
       "      <td>5.458447</td>\n",
       "    </tr>\n",
       "    <tr>\n",
       "      <th>sending</th>\n",
       "      <td>5.398866</td>\n",
       "      <td>221.155494</td>\n",
       "      <td>5.398866</td>\n",
       "    </tr>\n",
       "    <tr>\n",
       "      <th>lost</th>\n",
       "      <td>5.395746</td>\n",
       "      <td>220.466576</td>\n",
       "      <td>5.395746</td>\n",
       "    </tr>\n",
       "    <tr>\n",
       "      <th>rubble</th>\n",
       "      <td>5.355694</td>\n",
       "      <td>211.811000</td>\n",
       "      <td>5.355694</td>\n",
       "    </tr>\n",
       "    <tr>\n",
       "      <th>praying</th>\n",
       "      <td>5.193190</td>\n",
       "      <td>180.041999</td>\n",
       "      <td>5.193190</td>\n",
       "    </tr>\n",
       "    <tr>\n",
       "      <th>affected</th>\n",
       "      <td>5.149340</td>\n",
       "      <td>172.317750</td>\n",
       "      <td>5.149340</td>\n",
       "    </tr>\n",
       "    <tr>\n",
       "      <th>405</th>\n",
       "      <td>5.113648</td>\n",
       "      <td>166.275800</td>\n",
       "      <td>5.113648</td>\n",
       "    </tr>\n",
       "    <tr>\n",
       "      <th>people oklahoma</th>\n",
       "      <td>5.046211</td>\n",
       "      <td>155.432449</td>\n",
       "      <td>5.046211</td>\n",
       "    </tr>\n",
       "  </tbody>\n",
       "</table>\n",
       "</div>"
      ],
      "text/plain": [
       "                   weights           odds  abs_weights\n",
       "tornado          11.912247  149081.242683    11.912247\n",
       "prayforoklahoma   9.116243    9101.945458     9.116243\n",
       "prayer            8.688857    5936.390772     8.688857\n",
       "oklahoma          8.001383    2985.082724     8.001383\n",
       "devastation       7.722705    2259.062673     7.722705\n",
       "donation          6.443826     628.808033     6.443826\n",
       "victim            6.373741     586.247165     6.373741\n",
       "redcross          6.160988     473.896250     6.160988\n",
       "donating          5.720924     305.186724     5.720924\n",
       "disaster          5.567559     261.794211     5.567559\n",
       "damage            5.521500     250.009666     5.521500\n",
       "twister           5.507201     246.460377     5.507201\n",
       "tragedy           5.458447     234.732631     5.458447\n",
       "sending           5.398866     221.155494     5.398866\n",
       "lost              5.395746     220.466576     5.395746\n",
       "rubble            5.355694     211.811000     5.355694\n",
       "praying           5.193190     180.041999     5.193190\n",
       "affected          5.149340     172.317750     5.149340\n",
       "405               5.113648     166.275800     5.113648\n",
       "people oklahoma   5.046211     155.432449     5.046211"
      ]
     },
     "execution_count": 53,
     "metadata": {},
     "output_type": "execute_result"
    }
   ],
   "source": [
    "lr_fl_odds = pd.DataFrame(gs_lr_fl.best_estimator_.coef_, columns = X_train_tfidf_df.columns).T\n",
    "lr_fl_odds.columns = ['weights']\n",
    "lr_fl_odds['odds'] = np.exp(lr_fl_odds['weights'])\n",
    "lr_fl_odds['abs_weights'] = np.abs(lr_fl_odds['weights'])\n",
    "lr_fl_odds.sort_values(by='abs_weights', ascending=False).head(20)"
   ]
  },
  {
   "cell_type": "code",
   "execution_count": 54,
   "metadata": {},
   "outputs": [
    {
     "data": {
      "image/png": "[encoded data removed]",
      "text/plain": [
       "<Figure size 1440x720 with 1 Axes>"
      ]
     },
     "metadata": {},
     "output_type": "display_data"
    }
   ],
   "source": [
    "plt.figure(figsize=(20,10))\n",
    "plt.barh(lr_fl_odds.sort_values(by='odds', ascending=False).head(20).index, \n",
    "         lr_fl_odds.sort_values(by='odds', ascending=False).head(20)['odds'],\n",
    "         log=True)\n",
    "plt.title('Top 20 words with Positive Impact on Odds\\n Accuracy: 97%', fontsize=30)\n",
    "plt.xlabel('Odds', fontsize=25)\n",
    "plt.ylabel('Feature', fontsize=25)\n",
    "plt.xticks(fontsize=20)\n",
    "plt.yticks(fontsize=20);"
   ]
  },
  {
   "cell_type": "markdown",
   "metadata": {},
   "source": [
    "## All Disasters"
   ]
  },
  {
   "cell_type": "markdown",
   "metadata": {},
   "source": [
    "Now, we'll model on the entire dataset to determine which words have the most information gained. The process will be the same as our prior two models."
   ]
  },
  {
   "cell_type": "markdown",
   "metadata": {},
   "source": [
    "### Model Prep"
   ]
  },
  {
   "cell_type": "code",
   "execution_count": 25,
   "metadata": {},
   "outputs": [],
   "source": [
    "X = final_df[['lemmatized']]\n",
    "y = final_df['label_on-topic']"
   ]
  },
  {
   "cell_type": "code",
   "execution_count": 26,
   "metadata": {},
   "outputs": [],
   "source": [
    "X_train, X_test, y_train, y_test = train_test_split(X, \n",
    "                                                    y, \n",
    "                                                    stratify=y,\n",
    "                                                    random_state=44)"
   ]
  },
  {
   "cell_type": "markdown",
   "metadata": {},
   "source": [
    "#### TF-IDF"
   ]
  },
  {
   "cell_type": "markdown",
   "metadata": {},
   "source": [
    "We instantiate TfidfVectorizer() and set the same parameters as before."
   ]
  },
  {
   "cell_type": "markdown",
   "metadata": {},
   "source": [
    "##### X_train"
   ]
  },
  {
   "cell_type": "code",
   "execution_count": 27,
   "metadata": {},
   "outputs": [],
   "source": [
    "tfidf = TfidfVectorizer(ngram_range=(1, 2),\n",
    "                        stop_words='english',\n",
    "                        min_df=25, \n",
    "                        max_df=1.0)\n",
    "X_train_tfidf = tfidf.fit_transform(X_train['lemmatized'])\n",
    "X_train_tfidf_df = pd.DataFrame(X_train_tfidf.toarray(), columns=tfidf.get_feature_names())"
   ]
  },
  {
   "cell_type": "markdown",
   "metadata": {},
   "source": [
    "##### Replicate for X_test"
   ]
  },
  {
   "cell_type": "code",
   "execution_count": 28,
   "metadata": {},
   "outputs": [],
   "source": [
    "X_test_tfidf = tfidf.transform(X_test['lemmatized'])\n",
    "X_test_tfidf_df = pd.DataFrame(X_test_tfidf.toarray(), columns=tfidf.get_feature_names())"
   ]
  },
  {
   "cell_type": "code",
   "execution_count": 29,
   "metadata": {},
   "outputs": [
    {
     "data": {
      "text/plain": [
       "(10016, 1874)"
      ]
     },
     "execution_count": 29,
     "metadata": {},
     "output_type": "execute_result"
    }
   ],
   "source": [
    "X_test_tfidf_df.shape"
   ]
  },
  {
   "cell_type": "markdown",
   "metadata": {},
   "source": [
    "### Modeling"
   ]
  },
  {
   "cell_type": "markdown",
   "metadata": {},
   "source": [
    "#### Baseline Model"
   ]
  },
  {
   "cell_type": "code",
   "execution_count": 136,
   "metadata": {},
   "outputs": [
    {
     "data": {
      "text/plain": [
       "1    0.538352\n",
       "0    0.461648\n",
       "Name: label_on-topic, dtype: float64"
      ]
     },
     "execution_count": 136,
     "metadata": {},
     "output_type": "execute_result"
    }
   ],
   "source": [
    "y.value_counts(normalize=True)"
   ]
  },
  {
   "cell_type": "markdown",
   "metadata": {},
   "source": [
    "`on-topic` is our majority class again, with a similar imbalance as Alberta Floods and Queensland Flood. If we classify all tweets as being `on-topic`, we will be predicting correctly 53.84% of the time."
   ]
  },
  {
   "cell_type": "markdown",
   "metadata": {},
   "source": [
    "#### Random Forest"
   ]
  },
  {
   "cell_type": "code",
   "execution_count": 137,
   "metadata": {},
   "outputs": [
    {
     "name": "stdout",
     "output_type": "stream",
     "text": [
      "Score on Training Set: 0.9882517389423237\n",
      "Score on Testing Set: 0.9441892971246006\n"
     ]
    },
    {
     "data": {
      "text/plain": [
       "{'max_depth': None, 'min_samples_split': 5, 'n_estimators': 35}"
      ]
     },
     "execution_count": 137,
     "metadata": {},
     "output_type": "execute_result"
    }
   ],
   "source": [
    "rf = RandomForestClassifier()\n",
    "rf_params = {\n",
    "    'n_estimators': [30, 35, 45],\n",
    "    'min_samples_split': [2, 3, 5, 7, 10],\n",
    "    'max_depth': [None, 5, 7, 10]\n",
    "    \n",
    "}\n",
    "gs_rf_all = GridSearchCV(rf, param_grid=rf_params, cv=5)\n",
    "gs_rf_all.fit(X_train_tfidf_df, y_train)\n",
    "print('Score on Training Set:', gs_rf_all.score(X_train_tfidf_df, y_train))\n",
    "print('Score on Testing Set:', gs_rf_all.score(X_test_tfidf_df, y_test))\n",
    "gs_rf_all.best_params_"
   ]
  },
  {
   "cell_type": "markdown",
   "metadata": {},
   "source": [
    "-  For `y_train`, we will correctly predict the class in which a tweet belongs in `98.83%` of the time.\n",
    "-  For `y_test`, we will correctly predict the class in which a tweet belongs in `94.42%` of the time."
   ]
  },
  {
   "cell_type": "markdown",
   "metadata": {},
   "source": [
    "##### Important Features"
   ]
  },
  {
   "cell_type": "code",
   "execution_count": 138,
   "metadata": {},
   "outputs": [],
   "source": [
    "feat_importance = pd.DataFrame(gs_rf_all.best_estimator_.feature_importances_, X_train_tfidf_df.columns, columns=['importance'])"
   ]
  },
  {
   "cell_type": "code",
   "execution_count": 139,
   "metadata": {},
   "outputs": [],
   "source": [
    "top_feat = feat_importance.sort_values('importance', ascending=False).head(20)"
   ]
  },
  {
   "cell_type": "code",
   "execution_count": 140,
   "metadata": {},
   "outputs": [
    {
     "data": {
      "image/png": "[encoded data removed]",
      "text/plain": [
       "<Figure size 1440x720 with 1 Axes>"
      ]
     },
     "metadata": {},
     "output_type": "display_data"
    }
   ],
   "source": [
    "plt.figure(figsize=(20,10))\n",
    "plt.barh(top_feat.index, top_feat['importance'])\n",
    "plt.title('Top 20 Features', fontsize=30)\n",
    "plt.xlabel('Amount of Information Gained', fontsize=25)\n",
    "plt.ylabel('Feature', fontsize=25)\n",
    "plt.xticks(fontsize=20)\n",
    "plt.yticks(fontsize=20);"
   ]
  },
  {
   "cell_type": "markdown",
   "metadata": {},
   "source": [
    "-  As expected, we see a lot of overlap between the top features here and our prior two models. \n",
    "-  Given that we're looking across three different disaster types, the information gained for terms relating to the disaster name and type is less than before.\n",
    "-  For any disaster, the strongest indicator of whether a tweet is on-topic or off-topic will be the disaster type and name."
   ]
  },
  {
   "cell_type": "markdown",
   "metadata": {},
   "source": [
    "#### Logistic Regression"
   ]
  },
  {
   "cell_type": "code",
   "execution_count": 30,
   "metadata": {},
   "outputs": [
    {
     "name": "stdout",
     "output_type": "stream",
     "text": [
      "Score on Training Set: 0.9833853599875809\n",
      "Score on Testing Set: 0.980313110445566\n"
     ]
    },
    {
     "data": {
      "text/plain": [
       "{'C': 1, 'penalty': 'l2'}"
      ]
     },
     "execution_count": 30,
     "metadata": {},
     "output_type": "execute_result"
    }
   ],
   "source": [
    "lr = LogisticRegression()\n",
    "lr_params = {'C': [0.001, 0.01, 0.1, 1, 10, 100, 1000],\n",
    "             'penalty' : ['l1','l2']   \n",
    "}\n",
    "gs_lr_all = GridSearchCV(lr, param_grid = lr_params, scoring = 'roc_auc', cv = 3)\n",
    "gs_lr_all.fit(X_train_tfidf_df, y_train)\n",
    "print('Score on Training Set:', gs_lr_all.score(X_train_tfidf_df, y_train))\n",
    "print('Score on Testing Set:', gs_lr_all.score(X_test_tfidf_df, y_test))\n",
    "gs_lr_all.best_params_"
   ]
  },
  {
   "cell_type": "markdown",
   "metadata": {},
   "source": [
    "##### Odds"
   ]
  },
  {
   "cell_type": "code",
   "execution_count": 32,
   "metadata": {},
   "outputs": [
    {
     "data": {
      "text/html": [
       "<div>\n",
       "<style scoped>\n",
       "    .dataframe tbody tr th:only-of-type {\n",
       "        vertical-align: middle;\n",
       "    }\n",
       "\n",
       "    .dataframe tbody tr th {\n",
       "        vertical-align: top;\n",
       "    }\n",
       "\n",
       "    .dataframe thead th {\n",
       "        text-align: right;\n",
       "    }\n",
       "</style>\n",
       "<table border=\"1\" class=\"dataframe\">\n",
       "  <thead>\n",
       "    <tr style=\"text-align: right;\">\n",
       "      <th></th>\n",
       "      <th>weights</th>\n",
       "      <th>odds</th>\n",
       "      <th>abs_weights</th>\n",
       "    </tr>\n",
       "  </thead>\n",
       "  <tbody>\n",
       "    <tr>\n",
       "      <th>flood</th>\n",
       "      <td>17.290440</td>\n",
       "      <td>3.229554e+07</td>\n",
       "      <td>17.290440</td>\n",
       "    </tr>\n",
       "    <tr>\n",
       "      <th>hurricane</th>\n",
       "      <td>16.912719</td>\n",
       "      <td>2.213607e+07</td>\n",
       "      <td>16.912719</td>\n",
       "    </tr>\n",
       "    <tr>\n",
       "      <th>yycflood</th>\n",
       "      <td>12.013164</td>\n",
       "      <td>1.649114e+05</td>\n",
       "      <td>12.013164</td>\n",
       "    </tr>\n",
       "    <tr>\n",
       "      <th>abflood</th>\n",
       "      <td>10.589337</td>\n",
       "      <td>3.970917e+04</td>\n",
       "      <td>10.589337</td>\n",
       "    </tr>\n",
       "    <tr>\n",
       "      <th>tornado</th>\n",
       "      <td>10.304200</td>\n",
       "      <td>2.985776e+04</td>\n",
       "      <td>10.304200</td>\n",
       "    </tr>\n",
       "    <tr>\n",
       "      <th>sandy</th>\n",
       "      <td>9.859402</td>\n",
       "      <td>1.913745e+04</td>\n",
       "      <td>9.859402</td>\n",
       "    </tr>\n",
       "    <tr>\n",
       "      <th>oklahoma</th>\n",
       "      <td>7.998711</td>\n",
       "      <td>2.977119e+03</td>\n",
       "      <td>7.998711</td>\n",
       "    </tr>\n",
       "    <tr>\n",
       "      <th>flooding</th>\n",
       "      <td>7.911237</td>\n",
       "      <td>2.727762e+03</td>\n",
       "      <td>7.911237</td>\n",
       "    </tr>\n",
       "    <tr>\n",
       "      <th>frankenstorm</th>\n",
       "      <td>6.241974</td>\n",
       "      <td>5.138717e+02</td>\n",
       "      <td>6.241974</td>\n",
       "    </tr>\n",
       "    <tr>\n",
       "      <th>storm</th>\n",
       "      <td>6.116661</td>\n",
       "      <td>4.533484e+02</td>\n",
       "      <td>6.116661</td>\n",
       "    </tr>\n",
       "    <tr>\n",
       "      <th>queensland</th>\n",
       "      <td>5.584463</td>\n",
       "      <td>2.662572e+02</td>\n",
       "      <td>5.584463</td>\n",
       "    </tr>\n",
       "    <tr>\n",
       "      <th>hurricanesandy</th>\n",
       "      <td>5.003567</td>\n",
       "      <td>1.489436e+02</td>\n",
       "      <td>5.003567</td>\n",
       "    </tr>\n",
       "    <tr>\n",
       "      <th>prayer</th>\n",
       "      <td>4.674875</td>\n",
       "      <td>1.072192e+02</td>\n",
       "      <td>4.674875</td>\n",
       "    </tr>\n",
       "    <tr>\n",
       "      <th>yycfloods</th>\n",
       "      <td>4.623876</td>\n",
       "      <td>1.018881e+02</td>\n",
       "      <td>4.623876</td>\n",
       "    </tr>\n",
       "    <tr>\n",
       "      <th>moore</th>\n",
       "      <td>4.480703</td>\n",
       "      <td>8.829670e+01</td>\n",
       "      <td>4.480703</td>\n",
       "    </tr>\n",
       "    <tr>\n",
       "      <th>prayforoklahoma</th>\n",
       "      <td>4.438980</td>\n",
       "      <td>8.468854e+01</td>\n",
       "      <td>4.438980</td>\n",
       "    </tr>\n",
       "    <tr>\n",
       "      <th>power</th>\n",
       "      <td>4.356795</td>\n",
       "      <td>7.800673e+01</td>\n",
       "      <td>4.356795</td>\n",
       "    </tr>\n",
       "    <tr>\n",
       "      <th>flooded</th>\n",
       "      <td>4.129585</td>\n",
       "      <td>6.215211e+01</td>\n",
       "      <td>4.129585</td>\n",
       "    </tr>\n",
       "    <tr>\n",
       "      <th>victim</th>\n",
       "      <td>3.982113</td>\n",
       "      <td>5.363022e+01</td>\n",
       "      <td>3.982113</td>\n",
       "    </tr>\n",
       "    <tr>\n",
       "      <th>donation</th>\n",
       "      <td>3.606464</td>\n",
       "      <td>3.683557e+01</td>\n",
       "      <td>3.606464</td>\n",
       "    </tr>\n",
       "  </tbody>\n",
       "</table>\n",
       "</div>"
      ],
      "text/plain": [
       "                   weights          odds  abs_weights\n",
       "flood            17.290440  3.229554e+07    17.290440\n",
       "hurricane        16.912719  2.213607e+07    16.912719\n",
       "yycflood         12.013164  1.649114e+05    12.013164\n",
       "abflood          10.589337  3.970917e+04    10.589337\n",
       "tornado          10.304200  2.985776e+04    10.304200\n",
       "sandy             9.859402  1.913745e+04     9.859402\n",
       "oklahoma          7.998711  2.977119e+03     7.998711\n",
       "flooding          7.911237  2.727762e+03     7.911237\n",
       "frankenstorm      6.241974  5.138717e+02     6.241974\n",
       "storm             6.116661  4.533484e+02     6.116661\n",
       "queensland        5.584463  2.662572e+02     5.584463\n",
       "hurricanesandy    5.003567  1.489436e+02     5.003567\n",
       "prayer            4.674875  1.072192e+02     4.674875\n",
       "yycfloods         4.623876  1.018881e+02     4.623876\n",
       "moore             4.480703  8.829670e+01     4.480703\n",
       "prayforoklahoma   4.438980  8.468854e+01     4.438980\n",
       "power             4.356795  7.800673e+01     4.356795\n",
       "flooded           4.129585  6.215211e+01     4.129585\n",
       "victim            3.982113  5.363022e+01     3.982113\n",
       "donation          3.606464  3.683557e+01     3.606464"
      ]
     },
     "execution_count": 32,
     "metadata": {},
     "output_type": "execute_result"
    }
   ],
   "source": [
    "lr_all_odds = pd.DataFrame(gs_lr_all.best_estimator_.coef_, columns = X_train_tfidf_df.columns).T\n",
    "lr_all_odds.columns = ['weights']\n",
    "lr_all_odds['odds'] = np.exp(lr_all_odds['weights'])\n",
    "lr_all_odds['abs_weights'] = np.abs(lr_all_odds['weights'])\n",
    "lr_all_odds.sort_values(by='abs_weights', ascending=False).head(20)"
   ]
  },
  {
   "cell_type": "code",
   "execution_count": 34,
   "metadata": {},
   "outputs": [
    {
     "data": {
      "image/png": "[encoded data removed]",
      "text/plain": [
       "<Figure size 1440x720 with 1 Axes>"
      ]
     },
     "metadata": {},
     "output_type": "display_data"
    }
   ],
   "source": [
    "plt.figure(figsize=(20,10))\n",
    "plt.barh(lr_all_odds.sort_values(by='odds', ascending=False).head(20).index, \n",
    "         lr_all_odds.sort_values(by='odds', ascending=False).head(20)['odds'],\n",
    "         log=True)\n",
    "plt.title('Top 20 words with Positive Impact on Odds\\n Accuracy: 98%', fontsize=30)\n",
    "plt.xlabel('Odds', fontsize=25)\n",
    "plt.ylabel('Feature', fontsize=25)\n",
    "plt.xticks(fontsize=20)\n",
    "plt.yticks(fontsize=20);"
   ]
  },
  {
   "cell_type": "markdown",
   "metadata": {},
   "source": [
    "## Pickle Models for Future Predictions"
   ]
  },
  {
   "cell_type": "code",
   "execution_count": 145,
   "metadata": {},
   "outputs": [],
   "source": [
    "with open('./assets/rf_flood.pkl', 'wb+') as f:\n",
    "    pickle.dump(gs_rf_fl, f)"
   ]
  },
  {
   "cell_type": "code",
   "execution_count": 146,
   "metadata": {},
   "outputs": [],
   "source": [
    "with open('./assets/rf_all.pkl', 'wb+') as f:\n",
    "    pickle.dump(gs_rf_all, f)"
   ]
  },
  {
   "cell_type": "code",
   "execution_count": 57,
   "metadata": {},
   "outputs": [
    {
     "ename": "NameError",
     "evalue": "name 'gs_rf_sh' is not defined",
     "output_type": "error",
     "traceback": [
      "\u001b[0;31m---------------------------------------------------------------------------\u001b[0m",
      "\u001b[0;31mNameError\u001b[0m                                 Traceback (most recent call last)",
      "\u001b[0;32m<ipython-input-57-95b793856b3e>\u001b[0m in \u001b[0;36m<module>\u001b[0;34m()\u001b[0m\n\u001b[1;32m      1\u001b[0m \u001b[0;32mwith\u001b[0m \u001b[0mopen\u001b[0m\u001b[0;34m(\u001b[0m\u001b[0;34m'./assets/rf_hurricane.pkl'\u001b[0m\u001b[0;34m,\u001b[0m \u001b[0;34m'wb+'\u001b[0m\u001b[0;34m)\u001b[0m \u001b[0;32mas\u001b[0m \u001b[0mf\u001b[0m\u001b[0;34m:\u001b[0m\u001b[0;34m\u001b[0m\u001b[0m\n\u001b[0;32m----> 2\u001b[0;31m     \u001b[0mpickle\u001b[0m\u001b[0;34m.\u001b[0m\u001b[0mdump\u001b[0m\u001b[0;34m(\u001b[0m\u001b[0mgs_rf_sh\u001b[0m\u001b[0;34m,\u001b[0m \u001b[0mf\u001b[0m\u001b[0;34m)\u001b[0m\u001b[0;34m\u001b[0m\u001b[0m\n\u001b[0m",
      "\u001b[0;31mNameError\u001b[0m: name 'gs_rf_sh' is not defined"
     ]
    }
   ],
   "source": [
    "with open('./assets/rf_hurricane.pkl', 'wb+') as f:\n",
    "    pickle.dump(gs_rf_sh, f)"
   ]
  },
  {
   "cell_type": "code",
   "execution_count": 56,
   "metadata": {},
   "outputs": [],
   "source": [
    "with open('./assets/lr_flood.pkl', 'wb+') as f:\n",
    "    pickle.dump(gs_lr_fl, f)"
   ]
  },
  {
   "cell_type": "code",
   "execution_count": 31,
   "metadata": {},
   "outputs": [],
   "source": [
    "with open('./assets/lr_all.pkl', 'wb+') as f:\n",
    "    pickle.dump(gs_lr_all, f)"
   ]
  },
  {
   "cell_type": "code",
   "execution_count": 48,
   "metadata": {},
   "outputs": [],
   "source": [
    "with open('./assets/lr_tornado.pkl', 'wb+') as f:\n",
    "    pickle.dump(gs_lr_ot, f)"
   ]
  }
 ],
 "metadata": {
  "kernelspec": {
   "display_name": "Python 3",
   "language": "python",
   "name": "python3"
  },
  "language_info": {
   "codemirror_mode": {
    "name": "ipython",
    "version": 3
   },
   "file_extension": ".py",
   "mimetype": "text/x-python",
   "name": "python",
   "nbconvert_exporter": "python",
   "pygments_lexer": "ipython3",
   "version": "3.6.5"
  }
 },
 "nbformat": 4,
 "nbformat_minor": 2
}
