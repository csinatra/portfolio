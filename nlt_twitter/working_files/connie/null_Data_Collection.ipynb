{
 "cells": [
  {
   "cell_type": "markdown",
   "metadata": {},
   "source": [
    "# Data Collection"
   ]
  },
  {
   "cell_type": "markdown",
   "metadata": {},
   "source": [
    "## Installation"
   ]
  },
  {
   "cell_type": "code",
   "execution_count": 1,
   "metadata": {},
   "outputs": [
    {
     "name": "stdout",
     "output_type": "stream",
     "text": [
      "Requirement already satisfied: python-twitter in /Users/connie/anaconda3/lib/python3.6/site-packages (3.5)\n",
      "Requirement already satisfied: future in /Users/connie/anaconda3/lib/python3.6/site-packages (from python-twitter) (0.17.1)\n",
      "Requirement already satisfied: requests in /Users/connie/anaconda3/lib/python3.6/site-packages (from python-twitter) (2.18.4)\n",
      "Requirement already satisfied: requests-oauthlib in /Users/connie/anaconda3/lib/python3.6/site-packages (from python-twitter) (1.0.0)\n",
      "Requirement already satisfied: chardet<3.1.0,>=3.0.2 in /Users/connie/anaconda3/lib/python3.6/site-packages (from requests->python-twitter) (3.0.4)\n",
      "Requirement already satisfied: idna<2.7,>=2.5 in /Users/connie/anaconda3/lib/python3.6/site-packages (from requests->python-twitter) (2.6)\n",
      "Requirement already satisfied: urllib3<1.23,>=1.21.1 in /Users/connie/anaconda3/lib/python3.6/site-packages (from requests->python-twitter) (1.22)\n",
      "Requirement already satisfied: certifi>=2017.4.17 in /Users/connie/anaconda3/lib/python3.6/site-packages (from requests->python-twitter) (2018.4.16)\n",
      "Requirement already satisfied: oauthlib>=0.6.2 in /Users/connie/anaconda3/lib/python3.6/site-packages (from requests-oauthlib->python-twitter) (2.1.0)\n"
     ]
    }
   ],
   "source": [
    "! pip install python-twitter"
   ]
  },
  {
   "cell_type": "code",
   "execution_count": 1,
   "metadata": {},
   "outputs": [],
   "source": [
    "import twitter"
   ]
  },
  {
   "cell_type": "markdown",
   "metadata": {},
   "source": [
    "## Application Token"
   ]
  },
  {
   "cell_type": "code",
   "execution_count": 2,
   "metadata": {},
   "outputs": [],
   "source": [
    "api = twitter.Api(consumer_key = 'WuBAkr5TGQmgadzpHmOeSzPWk',\n",
    "                  consumer_secret = 'pfim3bjV2X6ONw1Xf7qktrgLZ54gCZku7e2BcjT61Fz5SKCvUz',\n",
    "                  access_token_key = '1080999232427909120-pWDWD3VwbiYwlfCIo05cKCLXmKNooH',\n",
    "                  access_token_secret = 'HYwBAbszupAT56B6giElUv2IVsNRBx5scB3LvdseFMOPP')"
   ]
  },
  {
   "cell_type": "markdown",
   "metadata": {},
   "source": [
    "## Search"
   ]
  },
  {
   "cell_type": "code",
   "execution_count": 45,
   "metadata": {},
   "outputs": [],
   "source": [
    "results = api.GetSearch(raw_query = 'q=justin%20timberlake%20%23justintimberlake&count=100')"
   ]
  },
  {
   "cell_type": "code",
   "execution_count": 46,
   "metadata": {},
   "outputs": [
    {
     "data": {
      "text/plain": [
       "100"
      ]
     },
     "execution_count": 46,
     "metadata": {},
     "output_type": "execute_result"
    }
   ],
   "source": [
    "len(results)"
   ]
  },
  {
   "cell_type": "code",
   "execution_count": 22,
   "metadata": {},
   "outputs": [
    {
     "data": {
      "text/plain": [
       "[Status(ID=1082122234028797952, ScreenName=kingbc83, Created=Mon Jan 07 03:50:20 +0000 2019, Text='RT @AlexJaySINGER: Music cures my anxiety..Music literally is my medicine 💯🎶\\n\\nCRY ME A RIVER - Justin Timberlake 🎸  #JustinTimberlake #Cove…'),\n",
       " Status(ID=1082116892913995777, ScreenName=AlexJaySINGER, Created=Mon Jan 07 03:29:06 +0000 2019, Text='RT @AlexJaySINGER: Music cures my anxiety..Music literally is my medicine 💯🎶\\n\\nCRY ME A RIVER - Justin Timberlake 🎸  #JustinTimberlake #Cove…'),\n",
       " Status(ID=1082116571500290048, ScreenName=PLG_JT2020, Created=Mon Jan 07 03:27:50 +0000 2019, Text='RT @Kristie_Meave: At Justin Timberlake concert and he just called for a shot to “all the babies on the way and not caring about work tomor…'),\n",
       " Status(ID=1082113380775792640, ScreenName=Kristie_Meave, Created=Mon Jan 07 03:15:09 +0000 2019, Text='At Justin Timberlake concert and he just called for a shot to “all the babies on the way and not caring about work… https://t.co/1vvagAyZM8'),\n",
       " Status(ID=1082108849363058688, ScreenName=brandon_banks28, Created=Mon Jan 07 02:57:08 +0000 2019, Text='RT @AlexJaySINGER: Music cures my anxiety..Music literally is my medicine 💯🎶\\n\\nCRY ME A RIVER - Justin Timberlake 🎸  #JustinTimberlake #Cove…')]"
      ]
     },
     "execution_count": 22,
     "metadata": {},
     "output_type": "execute_result"
    }
   ],
   "source": [
    "results[0:5]"
   ]
  },
  {
   "cell_type": "code",
   "execution_count": 12,
   "metadata": {},
   "outputs": [
    {
     "data": {
      "text/plain": [
       "twitter.models.Status"
      ]
     },
     "execution_count": 12,
     "metadata": {},
     "output_type": "execute_result"
    }
   ],
   "source": [
    "type(results[0])"
   ]
  },
  {
   "cell_type": "code",
   "execution_count": 29,
   "metadata": {},
   "outputs": [
    {
     "name": "stdout",
     "output_type": "stream",
     "text": [
      "Help on class Status in twitter:\n",
      "\n",
      "twitter.Status = class Status(TwitterModel)\n",
      " |  A class representing the Status structure used by the twitter API.\n",
      " |  \n",
      " |  Method resolution order:\n",
      " |      Status\n",
      " |      TwitterModel\n",
      " |      builtins.object\n",
      " |  \n",
      " |  Methods defined here:\n",
      " |  \n",
      " |  __init__(self, **kwargs)\n",
      " |      Initialize self.  See help(type(self)) for accurate signature.\n",
      " |  \n",
      " |  __repr__(self)\n",
      " |      A string representation of this twitter.Status instance.\n",
      " |      The return value is the ID of status, username and datetime.\n",
      " |      \n",
      " |      Returns:\n",
      " |          string: A string representation of this twitter.Status instance with\n",
      " |          the ID of status, username and datetime.\n",
      " |  \n",
      " |  ----------------------------------------------------------------------\n",
      " |  Class methods defined here:\n",
      " |  \n",
      " |  NewFromJsonDict(data, **kwargs) from builtins.type\n",
      " |      Create a new instance based on a JSON dict.\n",
      " |      \n",
      " |      Args:\n",
      " |          data: A JSON dict, as converted from the JSON in the twitter API\n",
      " |      \n",
      " |      Returns:\n",
      " |          A twitter.Status instance\n",
      " |  \n",
      " |  ----------------------------------------------------------------------\n",
      " |  Data descriptors defined here:\n",
      " |  \n",
      " |  created_at_in_seconds\n",
      " |      Get the time this status message was posted, in seconds since\n",
      " |      the epoch (1 Jan 1970).\n",
      " |      \n",
      " |      Returns:\n",
      " |          int: The time this status message was posted, in seconds since\n",
      " |          the epoch.\n",
      " |  \n",
      " |  ----------------------------------------------------------------------\n",
      " |  Methods inherited from TwitterModel:\n",
      " |  \n",
      " |  AsDict(self)\n",
      " |      Create a dictionary representation of the object. Please see inline\n",
      " |      comments on construction when dictionaries contain TwitterModels.\n",
      " |  \n",
      " |  AsJsonString(self, ensure_ascii=True)\n",
      " |      Returns the TwitterModel as a JSON string based on key/value\n",
      " |      pairs returned from the AsDict() method.\n",
      " |  \n",
      " |  __eq__(self, other)\n",
      " |      Return self==value.\n",
      " |  \n",
      " |  __hash__(self)\n",
      " |      Return hash(self).\n",
      " |  \n",
      " |  __ne__(self, other)\n",
      " |      Return self!=value.\n",
      " |  \n",
      " |  __str__(self)\n",
      " |      Returns a string representation of TwitterModel. By default\n",
      " |      this is the same as AsJsonString().\n",
      " |  \n",
      " |  ----------------------------------------------------------------------\n",
      " |  Data descriptors inherited from TwitterModel:\n",
      " |  \n",
      " |  __dict__\n",
      " |      dictionary for instance variables (if defined)\n",
      " |  \n",
      " |  __weakref__\n",
      " |      list of weak references to the object (if defined)\n",
      "\n"
     ]
    }
   ],
   "source": [
    "!pydoc twitter.Status"
   ]
  },
  {
   "cell_type": "code",
   "execution_count": 51,
   "metadata": {},
   "outputs": [],
   "source": [
    "data = {}\n",
    "for i in range(len(results)):\n",
    "    data[i] = results[i].AsDict()"
   ]
  },
  {
   "cell_type": "code",
   "execution_count": 54,
   "metadata": {},
   "outputs": [
    {
     "data": {
      "text/plain": [
       "dict_keys(['created_at', 'hashtags', 'id', 'id_str', 'lang', 'retweet_count', 'retweeted_status', 'source', 'text', 'urls', 'user', 'user_mentions'])"
      ]
     },
     "execution_count": 54,
     "metadata": {},
     "output_type": "execute_result"
    }
   ],
   "source": [
    "data[0].keys()"
   ]
  },
  {
   "cell_type": "code",
   "execution_count": 71,
   "metadata": {},
   "outputs": [
    {
     "data": {
      "text/plain": [
       "[Status(ID=1082122234028797952, ScreenName=kingbc83, Created=Mon Jan 07 03:50:20 +0000 2019, Text='RT @AlexJaySINGER: Music cures my anxiety..Music literally is my medicine 💯🎶\\n\\nCRY ME A RIVER - Justin Timberlake 🎸  #JustinTimberlake #Cove…'),\n",
       " Status(ID=1082116892913995777, ScreenName=AlexJaySINGER, Created=Mon Jan 07 03:29:06 +0000 2019, Text='RT @AlexJaySINGER: Music cures my anxiety..Music literally is my medicine 💯🎶\\n\\nCRY ME A RIVER - Justin Timberlake 🎸  #JustinTimberlake #Cove…'),\n",
       " Status(ID=1082116571500290048, ScreenName=PLG_JT2020, Created=Mon Jan 07 03:27:50 +0000 2019, Text='RT @Kristie_Meave: At Justin Timberlake concert and he just called for a shot to “all the babies on the way and not caring about work tomor…'),\n",
       " Status(ID=1082113380775792640, ScreenName=Kristie_Meave, Created=Mon Jan 07 03:15:09 +0000 2019, Text='At Justin Timberlake concert and he just called for a shot to “all the babies on the way and not caring about work… https://t.co/1vvagAyZM8'),\n",
       " Status(ID=1082108849363058688, ScreenName=brandon_banks28, Created=Mon Jan 07 02:57:08 +0000 2019, Text='RT @AlexJaySINGER: Music cures my anxiety..Music literally is my medicine 💯🎶\\n\\nCRY ME A RIVER - Justin Timberlake 🎸  #JustinTimberlake #Cove…'),\n",
       " Status(ID=1082101182561083392, ScreenName=itsme_royalt, Created=Mon Jan 07 02:26:41 +0000 2019, Text='RT @AlexJaySINGER: Music cures my anxiety..Music literally is my medicine 💯🎶\\n\\nCRY ME A RIVER - Justin Timberlake 🎸  #JustinTimberlake #Cove…'),\n",
       " Status(ID=1082093972615561216, ScreenName=DebMurphy57, Created=Mon Jan 07 01:58:02 +0000 2019, Text='Mom and daughter night out. @jtimberlake is in da house! \\n\\n👍🖤🤘\\n#maninthewoodstour #justintimberlake… https://t.co/3S44RLlx3o'),\n",
       " Status(ID=1082080245715415040, ScreenName=janegats, Created=Mon Jan 07 01:03:29 +0000 2019, Text='RT @AlexJaySINGER: Music cures my anxiety..Music literally is my medicine 💯🎶\\n\\nCRY ME A RIVER - Justin Timberlake 🎸  #JustinTimberlake #Cove…'),\n",
       " Status(ID=1082075341512998912, ScreenName=jessicabanov, Created=Mon Jan 07 00:44:00 +0000 2019, Text='Justin Timberlake!\\n#JustinTimberlake #manofthewoods https://t.co/KcR4Jt6woN'),\n",
       " Status(ID=1082074881280241665, ScreenName=admonkeystrator, Created=Mon Jan 07 00:42:10 +0000 2019, Text=\"RT @Thick44Official: Getting ready for the Justin Timberlake show. Don't tell him me and Skull are here, he would totally fangirl! #neebsga…\"),\n",
       " Status(ID=1082074504501825536, ScreenName=Thick44Official, Created=Mon Jan 07 00:40:40 +0000 2019, Text=\"Getting ready for the Justin Timberlake show. Don't tell him me and Skull are here, he would totally fangirl!… https://t.co/9MgXQsRpyO\"),\n",
       " Status(ID=1082071628505182213, ScreenName=ericdevezin, Created=Mon Jan 07 00:29:14 +0000 2019, Text='#JustinTimberlake returns to the stage after vocal cord injury https://t.co/ZVyrGqdNzY'),\n",
       " Status(ID=1082057943258939394, ScreenName=onairgunner, Created=Sun Jan 06 23:34:51 +0000 2019, Text='Cry me a river...wife and I at the Justin Timberlake show #JustinTimberlake rocks!!'),\n",
       " Status(ID=1082048836888154112, ScreenName=hot1061, Created=Sun Jan 06 22:58:40 +0000 2019, Text='@jtimberlake ANNOUNCES HE’S BACK ON TOUR AFTER CANCELING 2018 DATES DUE TO HEALTH ISSUES 🎙\\U0001f929🎵🎶🎶 #MOTW… https://t.co/EKVV01Ua1W'),\n",
       " Status(ID=1081983559722782720, ScreenName=nickmancan, Created=Sun Jan 06 18:39:17 +0000 2019, Text='Headed to see Justin Timberlake with my baby:-) this is gonna be our 1st concert together. #JustinTimberlake https://t.co/e6v4NRjA9G'),\n",
       " Status(ID=1081945951449874432, ScreenName=rafa_ferreirajt, Created=Sun Jan 06 16:09:51 +0000 2019, Text='RT @MDanitnkids: @bchartsbc Ser aclamado e ter Soldout é essencial, justin timberlake nunca, nunca, Nunca decepciona!!! \\n#justintimberlake…'),\n",
       " Status(ID=1081939995206828032, ScreenName=VuurEenhoorn, Created=Sun Jan 06 15:46:10 +0000 2019, Text=\"Vandaag knutselde ik de door 8+ers gemaakte videoclip in elkaar. Justin Timberlake's 'Can't Stop The Feeling'. Te g… https://t.co/vUXXnyZK3I\"),\n",
       " Status(ID=1081926051452911616, ScreenName=JTcold_, Created=Sun Jan 06 14:50:46 +0000 2019, Text='RT @MDanitnkids: @bchartsbc Ser aclamado e ter Soldout é essencial, justin timberlake nunca, nunca, Nunca decepciona!!! \\n#justintimberlake…'),\n",
       " Status(ID=1081855060617936896, ScreenName=herringbonelife, Created=Sun Jan 06 10:08:41 +0000 2019, Text='RT @LooMee_TV: Justin Timberlake nimmt seine Tour wieder auf https://t.co/Wgl41JurDu #MusikNews #JustinTimberlake'),\n",
       " Status(ID=1081854276727595009, ScreenName=LooMee_TV, Created=Sun Jan 06 10:05:34 +0000 2019, Text='Justin Timberlake nimmt seine Tour wieder auf https://t.co/Wgl41JurDu #MusikNews #JustinTimberlake'),\n",
       " Status(ID=1081809466578882560, ScreenName=Jaylenever, Created=Sun Jan 06 07:07:30 +0000 2019, Text='RT @AlexJaySINGER: Music cures my anxiety..Music literally is my medicine 💯🎶\\n\\nCRY ME A RIVER - Justin Timberlake 🎸  #JustinTimberlake #Cove…'),\n",
       " Status(ID=1081790736981508097, ScreenName=SophiaCIce1, Created=Sun Jan 06 05:53:05 +0000 2019, Text='RT @AlexJaySINGER: Music cures my anxiety..Music literally is my medicine 💯🎶\\n\\nCRY ME A RIVER - Justin Timberlake 🎸  #JustinTimberlake #Cove…'),\n",
       " Status(ID=1081788718464278528, ScreenName=_BeBreezy__, Created=Sun Jan 06 05:45:03 +0000 2019, Text='RT @AlexJaySINGER: Music cures my anxiety..Music literally is my medicine 💯🎶\\n\\nCRY ME A RIVER - Justin Timberlake 🎸  #JustinTimberlake #Cove…'),\n",
       " Status(ID=1081749952555114496, ScreenName=MDanitnkids, Created=Sun Jan 06 03:11:01 +0000 2019, Text='@bchartsbc Ser aclamado e ter Soldout é essencial, justin timberlake nunca, nunca, Nunca decepciona!!!… https://t.co/Y5PmvKAKkn')]"
      ]
     },
     "execution_count": 71,
     "metadata": {},
     "output_type": "execute_result"
    }
   ],
   "source": [
    "results[11:35]"
   ]
  },
  {
   "cell_type": "code",
   "execution_count": null,
   "metadata": {},
   "outputs": [],
   "source": []
  }
 ],
 "metadata": {
  "kernelspec": {
   "display_name": "Python 3",
   "language": "python",
   "name": "python3"
  },
  "language_info": {
   "codemirror_mode": {
    "name": "ipython",
    "version": 3
   },
   "file_extension": ".py",
   "mimetype": "text/x-python",
   "name": "python",
   "nbconvert_exporter": "python",
   "pygments_lexer": "ipython3",
   "version": "3.6.5"
  }
 },
 "nbformat": 4,
 "nbformat_minor": 2
}
