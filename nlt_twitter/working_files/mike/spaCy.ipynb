{
 "cells": [
  {
   "cell_type": "markdown",
   "metadata": {},
   "source": [
    "# Not using spaCy"
   ]
  },
  {
   "cell_type": "markdown",
   "metadata": {},
   "source": [
    "### Use RegEx"
   ]
  },
  {
   "cell_type": "markdown",
   "metadata": {},
   "source": [
    "Create a function to clean tweets such as lowering, removing any URLs, replacing hashtags and trimming "
   ]
  },
  {
   "cell_type": "code",
   "execution_count": 53,
   "metadata": {},
   "outputs": [],
   "source": [
    "import re\n",
    "\n",
    "def processTweet(tweet):\n",
    "    #Convert to lower case\n",
    "    tweet = tweet.lower()\n",
    "    #Remove additional white spaces\n",
    "    tweet = re.sub('[\\s]+', ' ', tweet)\n",
    "    #Convert www.* or https?://* to URL\n",
    "    tweet = re.sub('((www\\.[^\\s]+)|(https?://[^\\s]+))','URL',tweet)\n",
    "    #Eliminate hastags\n",
    "    tweet = re.sub(r'#([^\\s]+)', r'\\1', tweet)\n",
    "    return tweet"
   ]
  },
  {
   "cell_type": "code",
   "execution_count": 55,
   "metadata": {},
   "outputs": [
    {
     "data": {
      "text/plain": [
       "'greatest entertainer of our generation motwtour'"
      ]
     },
     "execution_count": 55,
     "metadata": {},
     "output_type": "execute_result"
    }
   ],
   "source": [
    "#example\n",
    "processTweet('Greatest entertainer of our generation #MOTWTour')"
   ]
  },
  {
   "cell_type": "code",
   "execution_count": 56,
   "metadata": {},
   "outputs": [],
   "source": [
    "from nltk.tokenize import RegexpTokenizer"
   ]
  },
  {
   "cell_type": "code",
   "execution_count": 57,
   "metadata": {},
   "outputs": [],
   "source": [
    "tokenizer = RegexpTokenizer(r'\\w+')"
   ]
  },
  {
   "cell_type": "code",
   "execution_count": null,
   "metadata": {},
   "outputs": [],
   "source": [
    "df['text_cleaned'] = df['text'].map(lambda x: tokenizer.tokenize(x))"
   ]
  },
  {
   "cell_type": "markdown",
   "metadata": {},
   "source": [
    "After splitting for each word in the tweet, we lemmatize the tweets"
   ]
  },
  {
   "cell_type": "code",
   "execution_count": null,
   "metadata": {},
   "outputs": [],
   "source": [
    "from nltk.stem import WordNetLemmatizer\n",
    "lemmatizer = WordNetLemmatizer()"
   ]
  },
  {
   "cell_type": "code",
   "execution_count": null,
   "metadata": {},
   "outputs": [],
   "source": [
    "df['text_lemm'] = df['text_cleaned'].map(lambda x: ' '.join([lemmatizer.lemmatize(word) for word in x]))"
   ]
  },
  {
   "cell_type": "code",
   "execution_count": null,
   "metadata": {},
   "outputs": [],
   "source": [
    "df['char_count'] = df['text_lemm'].map(len)\n",
    "df['word_count'] = df['text_lemm'].map(lambda x: len(x.split()))"
   ]
  },
  {
   "cell_type": "code",
   "execution_count": null,
   "metadata": {},
   "outputs": [],
   "source": []
  },
  {
   "cell_type": "markdown",
   "metadata": {},
   "source": [
    "# Using spaCy"
   ]
  },
  {
   "cell_type": "markdown",
   "metadata": {},
   "source": [
    "Each word becomes a feature/dimension for our data while each tweet becomes a document/sample. We need to measure the distance between tweets to cluster samples."
   ]
  },
  {
   "cell_type": "markdown",
   "metadata": {},
   "source": [
    "#### Sample Tweets:\n",
    "Greatest entertainer of our generation #MOTWTour <br>\n",
    "Had the most amazing night. This man is incredible 💗 #MOTWTour <br>"
   ]
  },
  {
   "cell_type": "code",
   "execution_count": 29,
   "metadata": {},
   "outputs": [],
   "source": [
    "import matplotlib.pyplot as plt\n",
    "import spacy\n",
    "import pandas as pd\n",
    "import seaborn as sns\n",
    "sns.set()\n",
    "\n",
    "%matplotlib inline"
   ]
  },
  {
   "cell_type": "code",
   "execution_count": 4,
   "metadata": {},
   "outputs": [
    {
     "name": "stdout",
     "output_type": "stream",
     "text": [
      "Collecting en_core_web_sm==2.0.0 from https://github.com/explosion/spacy-models/releases/download/en_core_web_sm-2.0.0/en_core_web_sm-2.0.0.tar.gz#egg=en_core_web_sm==2.0.0\n",
      "\u001b[?25l  Downloading https://github.com/explosion/spacy-models/releases/download/en_core_web_sm-2.0.0/en_core_web_sm-2.0.0.tar.gz (37.4MB)\n",
      "\u001b[K    100% |████████████████████████████████| 37.4MB 19.1MB/s \n",
      "\u001b[?25hInstalling collected packages: en-core-web-sm\n",
      "  Running setup.py install for en-core-web-sm ... \u001b[?25ldone\n",
      "\u001b[?25hSuccessfully installed en-core-web-sm-2.0.0\n",
      "\n",
      "\u001b[93m    Linking successful\u001b[0m\n",
      "    /Users/mintaekhong/anaconda3/lib/python3.7/site-packages/en_core_web_sm\n",
      "    -->\n",
      "    /Users/mintaekhong/anaconda3/lib/python3.7/site-packages/spacy/data/en\n",
      "\n",
      "    You can now load the model via spacy.load('en')\n",
      "\n"
     ]
    }
   ],
   "source": [
    "! python -m spacy download en"
   ]
  },
  {
   "cell_type": "code",
   "execution_count": 7,
   "metadata": {},
   "outputs": [
    {
     "name": "stdout",
     "output_type": "stream",
     "text": [
      "Requirement already satisfied: en_core_web_sm==2.0.0 from https://github.com/explosion/spacy-models/releases/download/en_core_web_sm-2.0.0/en_core_web_sm-2.0.0.tar.gz#egg=en_core_web_sm==2.0.0 in /Users/mintaekhong/anaconda3/lib/python3.7/site-packages (2.0.0)\n",
      "\n",
      "\u001b[93m    Linking successful\u001b[0m\n",
      "    /Users/mintaekhong/anaconda3/lib/python3.7/site-packages/en_core_web_sm\n",
      "    -->\n",
      "    /Users/mintaekhong/anaconda3/lib/python3.7/site-packages/spacy/data/en_core_web_sm\n",
      "\n",
      "    You can now load the model via spacy.load('en_core_web_sm')\n",
      "\n"
     ]
    }
   ],
   "source": [
    "! python -m spacy download en_core_web_sm"
   ]
  },
  {
   "cell_type": "code",
   "execution_count": 4,
   "metadata": {},
   "outputs": [],
   "source": [
    "nlp = spacy.load('en_core_web_sm')"
   ]
  },
  {
   "cell_type": "code",
   "execution_count": 11,
   "metadata": {},
   "outputs": [
    {
     "name": "stdout",
     "output_type": "stream",
     "text": [
      "Apple apple PROPN NNP nsubj Xxxxx True False\n",
      "is be VERB VBZ aux xx True True\n",
      "looking look VERB VBG ROOT xxxx True False\n",
      "at at ADP IN prep xx True True\n",
      "buying buy VERB VBG pcomp xxxx True False\n",
      "U.K. u.k. PROPN NNP compound X.X. False False\n",
      "startup startup NOUN NN dobj xxxx True False\n",
      "for for ADP IN prep xxx True True\n",
      "$ $ SYM $ quantmod $ False False\n",
      "1 1 NUM CD compound d False False\n",
      "billion billion NUM CD pobj xxxx True False\n"
     ]
    }
   ],
   "source": [
    "doc = nlp(u'Apple is looking at buying U.K. startup for $1 billion')\n",
    "for token in doc:\n",
    "    print(token.text, token.lemma_, token.pos_, token.tag_, token.dep_,\n",
    "          token.shape_, token.is_alpha, token.is_stop)"
   ]
  },
  {
   "cell_type": "markdown",
   "metadata": {},
   "source": [
    "Text: The original word text. <br>\n",
    "Lemma: The base form of the word. <br>\n",
    "POS: The simple part-of-speech tag. <br>\n",
    "Tag: The detailed part-of-speech tag. <br>\n",
    "Dep: Syntactic dependency, i.e. the relation between tokens. <br>\n",
    "Shape: The word shape – capitalisation, punctuation, digits. <br>\n",
    "is alpha: Is the token an alpha character? <br>\n",
    "is stop: Is the token part of a stop list, i.e. the most common words of the language?"
   ]
  },
  {
   "cell_type": "markdown",
   "metadata": {},
   "source": [
    "### Named Entities "
   ]
  },
  {
   "cell_type": "markdown",
   "metadata": {},
   "source": [
    "A named entity is a 'real-world object' that's assigned a name - i.e. a person, country, product or book title; spaCy can recognize various types of named entities in a document by asking a model for a prediction"
   ]
  },
  {
   "cell_type": "markdown",
   "metadata": {},
   "source": [
    "basically understands real world things and asks the model for a prediction"
   ]
  },
  {
   "cell_type": "code",
   "execution_count": 12,
   "metadata": {},
   "outputs": [
    {
     "name": "stdout",
     "output_type": "stream",
     "text": [
      "Apple 0 5 ORG\n",
      "U.K. 27 31 GPE\n",
      "$1 billion 44 54 MONEY\n"
     ]
    }
   ],
   "source": [
    "for ent in doc.ents:\n",
    "    print(ent.text, ent.start_char, ent.end_char, ent.label_)"
   ]
  },
  {
   "cell_type": "markdown",
   "metadata": {},
   "source": [
    "Text: The original entity text. <br>\n",
    "Start: Index of start of entity in the Doc. <br>\n",
    "End: Index of end of entity in the Doc. <br>\n",
    "Label: Entity label, i.e. type. <br>"
   ]
  },
  {
   "cell_type": "markdown",
   "metadata": {},
   "source": [
    "### Word vectors and similarity"
   ]
  },
  {
   "cell_type": "markdown",
   "metadata": {},
   "source": [
    "Can compare two bojects and make prediction of their similarity (useful for recommender system); can use this to compare if people are talking about similar things in their tweets"
   ]
  },
  {
   "cell_type": "code",
   "execution_count": 16,
   "metadata": {},
   "outputs": [
    {
     "name": "stdout",
     "output_type": "stream",
     "text": [
      "dog\n",
      "cat\n",
      "banana\n",
      "afskfsd\n"
     ]
    }
   ],
   "source": [
    "for token1 in tokens:\n",
    "    print (token1)"
   ]
  },
  {
   "cell_type": "code",
   "execution_count": 7,
   "metadata": {},
   "outputs": [
    {
     "name": "stdout",
     "output_type": "stream",
     "text": [
      "Greatest Greatest 1.0\n",
      "Greatest entertainer 0.15549152\n",
      "Greatest of -0.15772358\n",
      "Greatest our -0.019344667\n",
      "Greatest generation 0.12072607\n",
      "Greatest # 0.059041154\n",
      "Greatest MOTWTour -0.006385423\n",
      "entertainer Greatest 0.15549152\n",
      "entertainer entertainer 1.0\n",
      "entertainer of 0.070534796\n",
      "entertainer our 0.025099112\n",
      "entertainer generation 0.3599029\n",
      "entertainer # 0.11870659\n",
      "entertainer MOTWTour 0.06623884\n",
      "of Greatest -0.15772358\n",
      "of entertainer 0.070534796\n",
      "of of 1.0\n",
      "of our -7.6853474e-05\n",
      "of generation -0.10111474\n",
      "of # -0.18316521\n",
      "of MOTWTour -0.037120327\n",
      "our Greatest -0.019344667\n",
      "our entertainer 0.025099112\n",
      "our of -7.6853474e-05\n",
      "our our 1.0\n",
      "our generation 0.090753004\n",
      "our # -0.016377835\n",
      "our MOTWTour 0.24071787\n",
      "generation Greatest 0.12072607\n",
      "generation entertainer 0.3599029\n",
      "generation of -0.10111474\n",
      "generation our 0.090753004\n",
      "generation generation 1.0\n",
      "generation # 0.30969307\n",
      "generation MOTWTour 0.30249688\n",
      "# Greatest 0.059041154\n",
      "# entertainer 0.11870659\n",
      "# of -0.18316521\n",
      "# our -0.016377835\n",
      "# generation 0.30969307\n",
      "# # 1.0\n",
      "# MOTWTour 0.28675938\n",
      "MOTWTour Greatest -0.006385423\n",
      "MOTWTour entertainer 0.06623884\n",
      "MOTWTour of -0.037120327\n",
      "MOTWTour our 0.24071787\n",
      "MOTWTour generation 0.30249688\n",
      "MOTWTour # 0.28675938\n",
      "MOTWTour MOTWTour 1.0\n"
     ]
    }
   ],
   "source": [
    "tokens = nlp(u'Greatest entertainer of our generation #MOTWTour')\n",
    "\n",
    "for token1 in tokens:\n",
    "    for token2 in tokens:\n",
    "        print(token1.text, token2.text, token1.similarity(token2))"
   ]
  },
  {
   "cell_type": "code",
   "execution_count": 9,
   "metadata": {},
   "outputs": [
    {
     "name": "stdout",
     "output_type": "stream",
     "text": [
      "Greatest True 22.379702 True\n",
      "entertainer True 25.166908 True\n",
      "of True 25.36524 True\n",
      "our True 26.95757 True\n",
      "generation True 25.843142 True\n",
      "# True 21.032915 True\n",
      "MOTWTour True 22.959383 True\n"
     ]
    }
   ],
   "source": [
    "tokens = nlp(u'Greatest entertainer of our generation #MOTWTour') ##by calling nlp on a text, spaCy tokenizes the text and produces a Doc object\n",
    "\n",
    "for token in tokens:\n",
    "    print(token.text, token.has_vector, token.vector_norm, token.is_oov)"
   ]
  },
  {
   "cell_type": "markdown",
   "metadata": {},
   "source": [
    "Text: The original token text. <br>\n",
    "has vector: Does the token have a vector representation? <br>\n",
    "Vector norm: The L2 norm of the token's vector (the square root of the sum of the values squared) <br>\n",
    "OOV: Out-of-vocabulary"
   ]
  },
  {
   "cell_type": "markdown",
   "metadata": {},
   "source": [
    "### **From https://www.kaggle.com/nirant/hitchhiker-s-guide-to-nlp-in-spacy :**"
   ]
  },
  {
   "cell_type": "markdown",
   "metadata": {},
   "source": [
    "Use for loop to tokenize/vectorize through column by using nlp()..."
   ]
  },
  {
   "cell_type": "code",
   "execution_count": 50,
   "metadata": {},
   "outputs": [],
   "source": [
    "doc = nlp('Greatest entertainer of our generation #MOTWTour')"
   ]
  },
  {
   "cell_type": "code",
   "execution_count": 51,
   "metadata": {},
   "outputs": [
    {
     "data": {
      "text/plain": [
       "Greatest entertainer of our generation #MOTWTour"
      ]
     },
     "execution_count": 51,
     "metadata": {},
     "output_type": "execute_result"
    }
   ],
   "source": [
    "doc"
   ]
  },
  {
   "cell_type": "code",
   "execution_count": 10,
   "metadata": {},
   "outputs": [],
   "source": [
    "def explain_text_entities(text):\n",
    "    doc = nlp(text)\n",
    "    for ent in doc.ents:\n",
    "        print(f'Entity: {ent}, Label: {ent.label_}, {spacy.explain(ent.label_)}')"
   ]
  },
  {
   "cell_type": "code",
   "execution_count": 11,
   "metadata": {},
   "outputs": [
    {
     "name": "stdout",
     "output_type": "stream",
     "text": [
      "Entity: MOTWTour, Label: MONEY, Monetary values, including unit\n"
     ]
    }
   ],
   "source": [
    "explain_text_entities('Greatest entertainer of our generation #MOTWTour')"
   ]
  },
  {
   "cell_type": "code",
   "execution_count": 15,
   "metadata": {},
   "outputs": [],
   "source": [
    "# text = tweets['text'].str.cat(sep = ' ')"
   ]
  },
  {
   "cell_type": "code",
   "execution_count": 16,
   "metadata": {},
   "outputs": [],
   "source": [
    "text = 'Greatest entertainer of our generation #MOTWTour'"
   ]
  },
  {
   "cell_type": "code",
   "execution_count": 19,
   "metadata": {},
   "outputs": [],
   "source": [
    "import re\n",
    "url_reg  = r'[a-z]*[:.]+\\S+'\n",
    "text   = re.sub(url_reg, '', text)\n",
    "noise_reg = r'\\&amp'\n",
    "text   = re.sub(noise_reg, '', text)\n",
    "hastag_reg = r'#'\n",
    "text = re.sub(hastag_reg, '', text)"
   ]
  },
  {
   "cell_type": "code",
   "execution_count": 20,
   "metadata": {},
   "outputs": [
    {
     "data": {
      "text/plain": [
       "'Greatest entertainer of our generation MOTWTour'"
      ]
     },
     "execution_count": 20,
     "metadata": {},
     "output_type": "execute_result"
    }
   ],
   "source": [
    "text"
   ]
  },
  {
   "cell_type": "code",
   "execution_count": null,
   "metadata": {},
   "outputs": [],
   "source": [
    "jt_topics = []\n",
    "for ent in doc.ents:\n",
    "    if ent.label_ not in ['PERCENT', 'CARDINAL', 'DATE']:\n",
    "        jt_topics.append(ent.text.strip())"
   ]
  },
  {
   "cell_type": "code",
   "execution_count": 21,
   "metadata": {},
   "outputs": [],
   "source": [
    "doc = nlp(text)"
   ]
  },
  {
   "cell_type": "code",
   "execution_count": 25,
   "metadata": {},
   "outputs": [],
   "source": [
    "items_of_interest = list(doc.noun_chunks)\n",
    "# each element in this list is spaCy's inbuilt `Span`, which is not useful for us\n",
    "items_of_interest = [str(x) for x in items_of_interest]\n",
    "# so we've converted it to string"
   ]
  },
  {
   "cell_type": "code",
   "execution_count": 31,
   "metadata": {},
   "outputs": [
    {
     "data": {
      "image/png": "[encoded data removed]",
      "text/plain": [
       "<Figure size 360x288 with 1 Axes>"
      ]
     },
     "metadata": {
      "needs_background": "light"
     },
     "output_type": "display_data"
    }
   ],
   "source": [
    "df_nouns = pd.DataFrame(items_of_interest, columns=[\"jt fans say\"])\n",
    "plt.figure(figsize=(5,4))\n",
    "sns.countplot(y=\"jt fans say\",\n",
    "             data=df_nouns,\n",
    "             order=df_nouns[\"jt fans say\"].value_counts().iloc[:10].index)\n",
    "plt.show()\n",
    "##need more tweets"
   ]
  },
  {
   "cell_type": "code",
   "execution_count": null,
   "metadata": {},
   "outputs": [],
   "source": [
    "tokens = nlp(u'dog cat banana afskfsd') \n",
    "##by calling nlp on a text, spaCy tokenizes the text and produces a Doc object\n",
    "#Then, goes thru processing pipeline of 'tagger', 'parser', 'ner'; each pipeline component returns the processed Doc, which is then passed on to next component"
   ]
  },
  {
   "cell_type": "markdown",
   "metadata": {},
   "source": [
    "'tag': assigns part of speech tags; <br>\n",
    "'parser': assigns dependency labels; <br> \n",
    "'ner': named entity recognizer; <br> 'textcat': assigns document labels"
   ]
  },
  {
   "cell_type": "markdown",
   "metadata": {},
   "source": [
    "We need to specify the pipeline to use in the meta data!"
   ]
  },
  {
   "cell_type": "code",
   "execution_count": 20,
   "metadata": {},
   "outputs": [],
   "source": [
    "pipeline: ['tagger', 'parser', 'ner'] ##order and combination matters"
   ]
  },
  {
   "cell_type": "markdown",
   "metadata": {},
   "source": [
    "Need to determine which pipelines we want to add to our data grows exponentially with each additional pipeline."
   ]
  },
  {
   "cell_type": "markdown",
   "metadata": {},
   "source": [
    "https://github.com/belencito27/Map_Disasters_Twitter/blob/master/EDA_Tweets_Huricane_Flo.ipynb"
   ]
  }
 ],
 "metadata": {
  "kernelspec": {
   "display_name": "Python 3",
   "language": "python",
   "name": "python3"
  },
  "language_info": {
   "codemirror_mode": {
    "name": "ipython",
    "version": 3
   },
   "file_extension": ".py",
   "mimetype": "text/x-python",
   "name": "python",
   "nbconvert_exporter": "python",
   "pygments_lexer": "ipython3",
   "version": "3.7.0"
  }
 },
 "nbformat": 4,
 "nbformat_minor": 2
}
