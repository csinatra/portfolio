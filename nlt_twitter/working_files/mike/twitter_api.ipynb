{
 "cells": [
  {
   "cell_type": "code",
   "execution_count": 1,
   "metadata": {},
   "outputs": [],
   "source": [
    "import twitter\n",
    "import numpy as np\n",
    "import pandas as pd\n",
    "import json\n",
    "import time\n",
    "from datetime import datetime"
   ]
  },
  {
   "cell_type": "code",
   "execution_count": 2,
   "metadata": {},
   "outputs": [],
   "source": [
    "twitter_keys = {\n",
    "    'consumer_key':        'OoTmt8ytXol9yRJxLvBbYER5e',\n",
    "    'consumer_secret':     'wHEGZ4juW2AIUU1GFp32oA8vGtre8Se5hSPp5DfOmeNJ2a3Ld7',\n",
    "    'access_token_key':    '1080874755215872001-9F7ZdDBK2b9hgBKjSTiTQXIWY2XdyM',\n",
    "    'access_token_secret': 'HIMPWRosWf2Wlu73wEPWjsmjobO3FvtRaa3MneDW0wT3q'\n",
    "}\n",
    "\n",
    "api = twitter.Api(\n",
    "    consumer_key         =   twitter_keys['consumer_key'],\n",
    "    consumer_secret      =   twitter_keys['consumer_secret'],\n",
    "    access_token_key     =   twitter_keys['access_token_key'],\n",
    "    access_token_secret  =   twitter_keys['access_token_secret'],\n",
    "#     sleep_on_rate_limit=True\n",
    ")"
   ]
  },
  {
   "cell_type": "code",
   "execution_count": 6,
   "metadata": {},
   "outputs": [],
   "source": [
    "def streamTweets(city, geocode, before, count):\n",
    "    for i in range(1,8):\n",
    "        year, month, day = before.split('-')\n",
    "        day = int(day)\n",
    "        day-=1\n",
    "        day = str(day).zfill(2)\n",
    "        date = year + month + day\n",
    "        after = datetime.strptime(date, '%Y%m%d').strftime('%Y-%m-%d')\n",
    "        \n",
    "        results = api.GetSearch(\n",
    "            geocode=geocode,\n",
    "            return_json = True\n",
    "        )\n",
    "        now = f'{time.time():.0f}'\n",
    "        with open(f'./data/raw_json/twitter_{city}_{before}_{now}.json', 'w+') as f:\n",
    "            json.dump(results['statuses'], f)\n",
    "        before = after"
   ]
  },
  {
   "cell_type": "code",
   "execution_count": 7,
   "metadata": {},
   "outputs": [],
   "source": [
    "streamTweets(city='cha', geocode='35.2271,-80.8431,2mi', before='2019-01-08', count=100)"
   ]
  }
 ],
 "metadata": {
  "kernelspec": {
   "display_name": "Python 3",
   "language": "python",
   "name": "python3"
  },
  "language_info": {
   "codemirror_mode": {
    "name": "ipython",
    "version": 3
   },
   "file_extension": ".py",
   "mimetype": "text/x-python",
   "name": "python",
   "nbconvert_exporter": "python",
   "pygments_lexer": "ipython3",
   "version": "3.7.0"
  }
 },
 "nbformat": 4,
 "nbformat_minor": 2
}
