{
 "cells": [
  {
   "cell_type": "markdown",
   "metadata": {},
   "source": [
    "# NOTEBOOK 02: EDA"
   ]
  },
  {
   "cell_type": "markdown",
   "metadata": {},
   "source": [
    "In this notebook the data collected in Notebook 01 will be used to determine the optimal vectorization method, suggest topic-specific stop words, and provide an initial comparaive analysis of word usage between classes."
   ]
  },
  {
   "cell_type": "code",
   "execution_count": 1,
   "metadata": {},
   "outputs": [],
   "source": [
    "import re, csv, time\n",
    "import pandas as pd\n",
    "import numpy as np\n",
    "import matplotlib.pyplot as plt\n",
    "\n",
    "import warnings\n",
    "warnings.simplefilter(action='ignore', category=FutureWarning)\n",
    "\n",
    "\n",
    "from sys import getsizeof\n",
    "from nltk.tokenize import RegexpTokenizer\n",
    "\n",
    "from nltk.stem import WordNetLemmatizer\n",
    "from sklearn.feature_extraction.text import ENGLISH_STOP_WORDS, CountVectorizer, TfidfVectorizer\n",
    "\n",
    "%matplotlib inline"
   ]
  },
  {
   "cell_type": "code",
   "execution_count": 2,
   "metadata": {},
   "outputs": [],
   "source": [
    "def filename_format_log(file_path, \n",
    "                        logfile = '../assets/file_log.txt', \n",
    "                        now = round(time.time()), \n",
    "                        file_description = None): \n",
    "   \n",
    "    try:\n",
    "        ext = re.search('(?<!^)(?<!\\.)\\.(?!\\.)', file_path).start() \n",
    "    except:\n",
    "        raise NameError('Please enter a relative path with a file extension.') \n",
    "    \n",
    "    stamp = re.search('(?<!^)(?<!\\.)[a-z]+_[a-z]+(?=\\.)', file_path).start()\n",
    "    formatted_name = f'{file_path[:stamp]}{now}_{file_path[stamp:]}'  \n",
    "    if not file_description:\n",
    "        file_description = f'Word list saved at: {time.asctime(time.gmtime(now))}'\n",
    "    with open(logfile, 'a+') as f:\n",
    "        f.write(f'{formatted_name}: {file_description}\\n')\n",
    "    return formatted_name, now, file_description"
   ]
  },
  {
   "cell_type": "markdown",
   "metadata": {},
   "source": [
    "Listing out the files in the assets folder to find the df of interest."
   ]
  },
  {
   "cell_type": "code",
   "execution_count": 3,
   "metadata": {},
   "outputs": [
    {
     "name": "stdout",
     "output_type": "stream",
     "text": [
      "1544988010_comments_df.csv     1545277666_y_train.csv\n",
      "1545241316_clean_target.csv    1545336727_SVD_col.csv\n",
      "1545241316_clean_text.csv      1545336727_XtestSVD_coo.npz\n",
      "1545266972_clean_text.csv      1545336727_XtrainSVD_coo.npz\n",
      "1545266972_cvec_coo.npz        cvec_1545266972_coo_col.csv\n",
      "1545272821_eda_words.csv       file_log.txt\n",
      "1545277666_tfidf_col.csv       test_1545277666_tfidf_coo.npz\n",
      "1545277666_y_test.csv          train_1545277666_tfidf_coo.npz\n"
     ]
    }
   ],
   "source": [
    "!ls '../assets/'"
   ]
  },
  {
   "cell_type": "markdown",
   "metadata": {},
   "source": [
    "Reading in the csv to format as a dataframe."
   ]
  },
  {
   "cell_type": "code",
   "execution_count": 4,
   "metadata": {},
   "outputs": [],
   "source": [
    "df = pd.read_csv('../assets/1544988010_comments_df.csv', low_memory=False)"
   ]
  },
  {
   "cell_type": "markdown",
   "metadata": {},
   "source": [
    "Confirming the shape of the dataframe corresponds with the exported original. "
   ]
  },
  {
   "cell_type": "code",
   "execution_count": 5,
   "metadata": {},
   "outputs": [
    {
     "name": "stdout",
     "output_type": "stream",
     "text": [
      "<class 'pandas.core.frame.DataFrame'>\n",
      "RangeIndex: 200000 entries, 0 to 199999\n",
      "Data columns (total 8 columns):\n",
      "author          200000 non-null object\n",
      "body            200000 non-null object\n",
      "libertarian     200000 non-null int64\n",
      "created_utc     200000 non-null int64\n",
      "subreddit_id    200000 non-null object\n",
      "parent_id       200000 non-null object\n",
      "link_id         200000 non-null object\n",
      "permalink       200000 non-null object\n",
      "dtypes: int64(2), object(6)\n",
      "memory usage: 12.2+ MB\n"
     ]
    }
   ],
   "source": [
    "df.info()"
   ]
  },
  {
   "cell_type": "code",
   "execution_count": 6,
   "metadata": {},
   "outputs": [
    {
     "data": {
      "text/plain": [
       "(200000, 8)"
      ]
     },
     "execution_count": 6,
     "metadata": {},
     "output_type": "execute_result"
    }
   ],
   "source": [
    "df.shape"
   ]
  },
  {
   "cell_type": "markdown",
   "metadata": {},
   "source": [
    "Shape is correct. Reviewing the head to check data integrity."
   ]
  },
  {
   "cell_type": "code",
   "execution_count": 7,
   "metadata": {},
   "outputs": [
    {
     "data": {
      "text/html": [
       "<div>\n",
       "<style scoped>\n",
       "    .dataframe tbody tr th:only-of-type {\n",
       "        vertical-align: middle;\n",
       "    }\n",
       "\n",
       "    .dataframe tbody tr th {\n",
       "        vertical-align: top;\n",
       "    }\n",
       "\n",
       "    .dataframe thead th {\n",
       "        text-align: right;\n",
       "    }\n",
       "</style>\n",
       "<table border=\"1\" class=\"dataframe\">\n",
       "  <thead>\n",
       "    <tr style=\"text-align: right;\">\n",
       "      <th></th>\n",
       "      <th>author</th>\n",
       "      <th>body</th>\n",
       "      <th>libertarian</th>\n",
       "      <th>created_utc</th>\n",
       "      <th>subreddit_id</th>\n",
       "      <th>parent_id</th>\n",
       "      <th>link_id</th>\n",
       "      <th>permalink</th>\n",
       "    </tr>\n",
       "  </thead>\n",
       "  <tbody>\n",
       "    <tr>\n",
       "      <th>0</th>\n",
       "      <td>spacefish3</td>\n",
       "      <td>\"Workers' collective ownership of capital\" nev...</td>\n",
       "      <td>1</td>\n",
       "      <td>1544931627</td>\n",
       "      <td>t5_2qh63</td>\n",
       "      <td>t1_eax5n3o</td>\n",
       "      <td>t3_a21e9n</td>\n",
       "      <td>/r/Libertarian/comments/a21e9n/the_admins_lied...</td>\n",
       "    </tr>\n",
       "    <tr>\n",
       "      <th>1</th>\n",
       "      <td>EatsPandas</td>\n",
       "      <td>hmmmmmmm interesting</td>\n",
       "      <td>1</td>\n",
       "      <td>1544931620</td>\n",
       "      <td>t5_2qh63</td>\n",
       "      <td>t3_a6lw8o</td>\n",
       "      <td>t3_a6lw8o</td>\n",
       "      <td>/r/Libertarian/comments/a6lw8o/libertarianism_...</td>\n",
       "    </tr>\n",
       "    <tr>\n",
       "      <th>2</th>\n",
       "      <td>KruglorTalks</td>\n",
       "      <td>To be fair, credit to Cratchit just for litera...</td>\n",
       "      <td>1</td>\n",
       "      <td>1544931605</td>\n",
       "      <td>t5_2qh63</td>\n",
       "      <td>t3_a6k2kt</td>\n",
       "      <td>t3_a6k2kt</td>\n",
       "      <td>/r/Libertarian/comments/a6k2kt/scroogedidnothi...</td>\n",
       "    </tr>\n",
       "    <tr>\n",
       "      <th>3</th>\n",
       "      <td>Itl_chi_15</td>\n",
       "      <td>Game show hosts, they’re are truly the worst. ...</td>\n",
       "      <td>1</td>\n",
       "      <td>1544931593</td>\n",
       "      <td>t5_2qh63</td>\n",
       "      <td>t3_a686wz</td>\n",
       "      <td>t3_a686wz</td>\n",
       "      <td>/r/Libertarian/comments/a686wz/not_every_actor...</td>\n",
       "    </tr>\n",
       "    <tr>\n",
       "      <th>4</th>\n",
       "      <td>seabreezeintheclouds</td>\n",
       "      <td>I think the better explanation is who are the ...</td>\n",
       "      <td>1</td>\n",
       "      <td>1544931588</td>\n",
       "      <td>t5_2qh63</td>\n",
       "      <td>t3_a6jrtf</td>\n",
       "      <td>t3_a6jrtf</td>\n",
       "      <td>/r/Libertarian/comments/a6jrtf/the_most_libert...</td>\n",
       "    </tr>\n",
       "  </tbody>\n",
       "</table>\n",
       "</div>"
      ],
      "text/plain": [
       "                 author                                               body  \\\n",
       "0            spacefish3  \"Workers' collective ownership of capital\" nev...   \n",
       "1            EatsPandas                               hmmmmmmm interesting   \n",
       "2          KruglorTalks  To be fair, credit to Cratchit just for litera...   \n",
       "3            Itl_chi_15  Game show hosts, they’re are truly the worst. ...   \n",
       "4  seabreezeintheclouds  I think the better explanation is who are the ...   \n",
       "\n",
       "   libertarian  created_utc subreddit_id   parent_id    link_id  \\\n",
       "0            1   1544931627     t5_2qh63  t1_eax5n3o  t3_a21e9n   \n",
       "1            1   1544931620     t5_2qh63   t3_a6lw8o  t3_a6lw8o   \n",
       "2            1   1544931605     t5_2qh63   t3_a6k2kt  t3_a6k2kt   \n",
       "3            1   1544931593     t5_2qh63   t3_a686wz  t3_a686wz   \n",
       "4            1   1544931588     t5_2qh63   t3_a6jrtf  t3_a6jrtf   \n",
       "\n",
       "                                           permalink  \n",
       "0  /r/Libertarian/comments/a21e9n/the_admins_lied...  \n",
       "1  /r/Libertarian/comments/a6lw8o/libertarianism_...  \n",
       "2  /r/Libertarian/comments/a6k2kt/scroogedidnothi...  \n",
       "3  /r/Libertarian/comments/a686wz/not_every_actor...  \n",
       "4  /r/Libertarian/comments/a6jrtf/the_most_libert...  "
      ]
     },
     "execution_count": 7,
     "metadata": {},
     "output_type": "execute_result"
    }
   ],
   "source": [
    "df.head()"
   ]
  },
  {
   "cell_type": "markdown",
   "metadata": {},
   "source": [
    "Checking for any comments that have been removed or deleted as they will not contribute to our analysis."
   ]
  },
  {
   "cell_type": "code",
   "execution_count": 8,
   "metadata": {},
   "outputs": [
    {
     "data": {
      "text/plain": [
       "(15670, 8)"
      ]
     },
     "execution_count": 8,
     "metadata": {},
     "output_type": "execute_result"
    }
   ],
   "source": [
    "df[df['body'] == '[removed]'].shape"
   ]
  },
  {
   "cell_type": "code",
   "execution_count": 9,
   "metadata": {},
   "outputs": [
    {
     "data": {
      "text/plain": [
       "(36, 8)"
      ]
     },
     "execution_count": 9,
     "metadata": {},
     "output_type": "execute_result"
    }
   ],
   "source": [
    "df[df['body'] == '[deleted]'].shape"
   ]
  },
  {
   "cell_type": "markdown",
   "metadata": {},
   "source": [
    "15706 observations have no signal and will be removed from the dataset."
   ]
  },
  {
   "cell_type": "code",
   "execution_count": 10,
   "metadata": {},
   "outputs": [],
   "source": [
    "df.drop(df[df['body'] == '[removed]'].index, axis=0, inplace=True)\n",
    "df.drop(df[df['body'] == '[deleted]'].index, axis=0, inplace=True)"
   ]
  },
  {
   "cell_type": "markdown",
   "metadata": {},
   "source": [
    "Resetting the index."
   ]
  },
  {
   "cell_type": "code",
   "execution_count": 11,
   "metadata": {},
   "outputs": [],
   "source": [
    "df.reset_index(drop=True, inplace=True)"
   ]
  },
  {
   "cell_type": "markdown",
   "metadata": {},
   "source": [
    "Checking the shape of the processed dataframe."
   ]
  },
  {
   "cell_type": "code",
   "execution_count": 12,
   "metadata": {},
   "outputs": [
    {
     "data": {
      "text/plain": [
       "(184294, 8)"
      ]
     },
     "execution_count": 12,
     "metadata": {},
     "output_type": "execute_result"
    }
   ],
   "source": [
    "df.shape"
   ]
  },
  {
   "cell_type": "markdown",
   "metadata": {},
   "source": [
    "Checking the class balance."
   ]
  },
  {
   "cell_type": "code",
   "execution_count": 13,
   "metadata": {},
   "outputs": [
    {
     "data": {
      "text/plain": [
       "1    0.538536\n",
       "0    0.461464\n",
       "Name: libertarian, dtype: float64"
      ]
     },
     "execution_count": 13,
     "metadata": {},
     "output_type": "execute_result"
    }
   ],
   "source": [
    "df['libertarian'].value_counts(normalize=True)"
   ]
  },
  {
   "cell_type": "markdown",
   "metadata": {},
   "source": [
    "Since this only creates a 7% class imbalance we will consider this within the acceptable margin without requiring oversampling or other class balancing techniques. This will represent our baseline model, assuming every prediction to take on the majority class of libertarian with an accuracy of 53.8%. To be sure the negative class is represented equally in our training data we will stratify on y."
   ]
  },
  {
   "cell_type": "markdown",
   "metadata": {},
   "source": [
    "## Data Visualization"
   ]
  },
  {
   "cell_type": "markdown",
   "metadata": {},
   "source": [
    "Splitting the dataframe into just the features used for modeling."
   ]
  },
  {
   "cell_type": "code",
   "execution_count": 14,
   "metadata": {},
   "outputs": [],
   "source": [
    "words = pd.DataFrame(df,columns=['body','libertarian'])\n",
    "target = pd.DataFrame(df['libertarian'])"
   ]
  },
  {
   "cell_type": "markdown",
   "metadata": {},
   "source": [
    "Comparing the character count and word count for each class."
   ]
  },
  {
   "cell_type": "code",
   "execution_count": 15,
   "metadata": {},
   "outputs": [],
   "source": [
    "words['char_count'] = words['body'].map(len)"
   ]
  },
  {
   "cell_type": "code",
   "execution_count": 16,
   "metadata": {},
   "outputs": [],
   "source": [
    "words['word_count'] = words['body'].map(lambda x: len(x.split()))"
   ]
  },
  {
   "cell_type": "markdown",
   "metadata": {},
   "source": [
    "Confirming output before plotting."
   ]
  },
  {
   "cell_type": "code",
   "execution_count": 17,
   "metadata": {},
   "outputs": [
    {
     "data": {
      "text/html": [
       "<div>\n",
       "<style scoped>\n",
       "    .dataframe tbody tr th:only-of-type {\n",
       "        vertical-align: middle;\n",
       "    }\n",
       "\n",
       "    .dataframe tbody tr th {\n",
       "        vertical-align: top;\n",
       "    }\n",
       "\n",
       "    .dataframe thead th {\n",
       "        text-align: right;\n",
       "    }\n",
       "</style>\n",
       "<table border=\"1\" class=\"dataframe\">\n",
       "  <thead>\n",
       "    <tr style=\"text-align: right;\">\n",
       "      <th></th>\n",
       "      <th>body</th>\n",
       "      <th>libertarian</th>\n",
       "      <th>char_count</th>\n",
       "      <th>word_count</th>\n",
       "    </tr>\n",
       "  </thead>\n",
       "  <tbody>\n",
       "    <tr>\n",
       "      <th>0</th>\n",
       "      <td>\"Workers' collective ownership of capital\" nev...</td>\n",
       "      <td>1</td>\n",
       "      <td>81</td>\n",
       "      <td>12</td>\n",
       "    </tr>\n",
       "    <tr>\n",
       "      <th>1</th>\n",
       "      <td>hmmmmmmm interesting</td>\n",
       "      <td>1</td>\n",
       "      <td>20</td>\n",
       "      <td>2</td>\n",
       "    </tr>\n",
       "    <tr>\n",
       "      <th>2</th>\n",
       "      <td>To be fair, credit to Cratchit just for litera...</td>\n",
       "      <td>1</td>\n",
       "      <td>82</td>\n",
       "      <td>15</td>\n",
       "    </tr>\n",
       "    <tr>\n",
       "      <th>3</th>\n",
       "      <td>Game show hosts, they’re are truly the worst. ...</td>\n",
       "      <td>1</td>\n",
       "      <td>68</td>\n",
       "      <td>11</td>\n",
       "    </tr>\n",
       "    <tr>\n",
       "      <th>4</th>\n",
       "      <td>I think the better explanation is who are the ...</td>\n",
       "      <td>1</td>\n",
       "      <td>73</td>\n",
       "      <td>12</td>\n",
       "    </tr>\n",
       "  </tbody>\n",
       "</table>\n",
       "</div>"
      ],
      "text/plain": [
       "                                                body  libertarian  char_count  \\\n",
       "0  \"Workers' collective ownership of capital\" nev...            1          81   \n",
       "1                               hmmmmmmm interesting            1          20   \n",
       "2  To be fair, credit to Cratchit just for litera...            1          82   \n",
       "3  Game show hosts, they’re are truly the worst. ...            1          68   \n",
       "4  I think the better explanation is who are the ...            1          73   \n",
       "\n",
       "   word_count  \n",
       "0          12  \n",
       "1           2  \n",
       "2          15  \n",
       "3          11  \n",
       "4          12  "
      ]
     },
     "execution_count": 17,
     "metadata": {},
     "output_type": "execute_result"
    }
   ],
   "source": [
    "words.head()"
   ]
  },
  {
   "cell_type": "code",
   "execution_count": 18,
   "metadata": {},
   "outputs": [
    {
     "data": {
      "image/png": "[encoded data removed]",
      "text/plain": [
       "<Figure size 1440x720 with 1 Axes>"
      ]
     },
     "metadata": {
      "needs_background": "light"
     },
     "output_type": "display_data"
    }
   ],
   "source": [
    "plt.figure(figsize=(20,10))\n",
    "plt.hist([words['char_count'][words['libertarian']==0], \n",
    "          words['char_count'][words['libertarian']==1]],\n",
    "         bins=5, \n",
    "         color=['forestgreen', 'coral'], \n",
    "         ec='k')\n",
    "plt.title('Character Count by Class', fontsize=30)\n",
    "plt.xlabel('Character Count', fontsize=15)\n",
    "plt.ylabel('Distribution', fontsize = 15)\n",
    "plt.legend(['Conservative', 'Libertarian']);"
   ]
  },
  {
   "cell_type": "markdown",
   "metadata": {},
   "source": [
    "The side-by-side bar plot shows that the vast majority of the samples contain less than 2000 characters. To make this figure more informative, I will split this data into bins of <=2000 & >2000 characters."
   ]
  },
  {
   "cell_type": "code",
   "execution_count": 19,
   "metadata": {},
   "outputs": [
    {
     "data": {
      "image/png": "[encoded data removed]",
      "text/plain": [
       "<Figure size 1440x720 with 1 Axes>"
      ]
     },
     "metadata": {
      "needs_background": "light"
     },
     "output_type": "display_data"
    }
   ],
   "source": [
    "plt.figure(figsize=(20,10))\n",
    "plt.hist([words['char_count'][(words['libertarian']==0) & (words['char_count']<=2000)], \n",
    "          words['char_count'][(words['libertarian']==1) & (words['char_count']<=2000)]],\n",
    "         bins=15, \n",
    "         color=['forestgreen', 'coral'], \n",
    "         ec='k')\n",
    "plt.title('Character Count by Class (n <= 2000)', fontsize=30)\n",
    "plt.xlabel('Character Count', fontsize=15)\n",
    "plt.ylabel('Distribution', fontsize = 15)\n",
    "plt.legend(['Conservative', 'Libertarian']);\n",
    "\n",
    "# plt.savefig('../images/char_count.png', dpi=300)"
   ]
  },
  {
   "cell_type": "markdown",
   "metadata": {},
   "source": [
    "This plot shows that the Libertarian comments are consistently longer than the Conservative comments. "
   ]
  },
  {
   "cell_type": "code",
   "execution_count": 20,
   "metadata": {},
   "outputs": [
    {
     "data": {
      "image/png": "[encoded data removed]",
      "text/plain": [
       "<Figure size 1440x720 with 1 Axes>"
      ]
     },
     "metadata": {
      "needs_background": "light"
     },
     "output_type": "display_data"
    }
   ],
   "source": [
    "plt.figure(figsize=(20,10))\n",
    "plt.hist([words['char_count'][(words['libertarian']==0) & (words['char_count']>2000)], \n",
    "          words['char_count'][(words['libertarian']==1) & (words['char_count']>2000)]],\n",
    "         bins=15, \n",
    "         color=['forestgreen', 'coral'], \n",
    "         ec='k')\n",
    "plt.title('Character Count by Class (n > 2000)', fontsize=30)\n",
    "plt.xlabel('Character Count', fontsize=15)\n",
    "plt.ylabel('Distribution', fontsize = 15)\n",
    "plt.legend(['Conservative', 'Libertarian']);\n",
    "\n",
    "# plt.savefig('../images/char2000_count.png', dpi=300)"
   ]
  },
  {
   "cell_type": "markdown",
   "metadata": {},
   "source": [
    "At the higher end of character count, the distribution observed in the previous plot is maintained and the Libertarian comments are consistently longer for all values. The next set of plots will show if this holds true when viewing as a word count."
   ]
  },
  {
   "cell_type": "code",
   "execution_count": 21,
   "metadata": {},
   "outputs": [
    {
     "data": {
      "image/png": "[encoded data removed]",
      "text/plain": [
       "<Figure size 1440x720 with 1 Axes>"
      ]
     },
     "metadata": {
      "needs_background": "light"
     },
     "output_type": "display_data"
    }
   ],
   "source": [
    "plt.figure(figsize=(20,10))\n",
    "plt.hist([words['char_count'][words['libertarian']==0], \n",
    "          words['char_count'][words['libertarian']==1]],\n",
    "         bins=8, \n",
    "         color=['forestgreen', 'coral'], \n",
    "         ec='k')\n",
    "plt.title('Word Count by Class', fontsize=30)\n",
    "plt.xlabel('Word Count', fontsize=15)\n",
    "plt.ylabel('Distribution', fontsize = 15)\n",
    "plt.legend(['Conservative', 'Libertarian']);"
   ]
  },
  {
   "cell_type": "markdown",
   "metadata": {},
   "source": [
    "The word count of most posts is less than 1000 words. To get a better understanding of this distribution, the plots will again be split."
   ]
  },
  {
   "cell_type": "code",
   "execution_count": 22,
   "metadata": {},
   "outputs": [
    {
     "data": {
      "image/png": "[encoded data removed]",
      "text/plain": [
       "<Figure size 1440x720 with 1 Axes>"
      ]
     },
     "metadata": {
      "needs_background": "light"
     },
     "output_type": "display_data"
    }
   ],
   "source": [
    "plt.figure(figsize=(20,10))\n",
    "plt.hist([words['char_count'][(words['libertarian']==0) & (words['word_count']<=250)], \n",
    "          words['char_count'][(words['libertarian']==1) & (words['word_count']<=250)]],\n",
    "         bins=15, \n",
    "         color=['forestgreen', 'coral'], \n",
    "         ec='k')\n",
    "plt.title('Word Count by Class (n <= 250)', fontsize=30)\n",
    "plt.xlabel('Word Count', fontsize=15)\n",
    "plt.ylabel('Distribution', fontsize = 15)\n",
    "plt.legend(['Conservative', 'Libertarian']);"
   ]
  },
  {
   "cell_type": "markdown",
   "metadata": {},
   "source": [
    "Nearly half of the samples contain fewer than 250 words. Again, it seems that Libertarian comments are longer than Conservative comments."
   ]
  },
  {
   "cell_type": "code",
   "execution_count": 23,
   "metadata": {},
   "outputs": [
    {
     "data": {
      "image/png": "[encoded data removed]",
      "text/plain": [
       "<Figure size 1440x720 with 1 Axes>"
      ]
     },
     "metadata": {
      "needs_background": "light"
     },
     "output_type": "display_data"
    }
   ],
   "source": [
    "plt.figure(figsize=(20,10))\n",
    "plt.hist([words['char_count'][(words['libertarian']==0) & (words['word_count']>250)], \n",
    "          words['char_count'][(words['libertarian']==1) & (words['word_count']>250)]],\n",
    "         bins=15, \n",
    "         color=['forestgreen', 'coral'], \n",
    "         ec='k')\n",
    "plt.title('Word Count by Class (n > 250)', fontsize=30)\n",
    "plt.xlabel('Word Count', fontsize=15)\n",
    "plt.ylabel('Distribution', fontsize = 15)\n",
    "plt.legend(['Conservative', 'Libertarian']);\n",
    "\n",
    "# plt.savefig('../images/word250_comp.png', dpi=300)"
   ]
  },
  {
   "cell_type": "markdown",
   "metadata": {},
   "source": [
    "The other half of the dataset is more distributed, showing a similar decline among both subreddits. At 8000 words both subreddits appear to have an equal number of samples."
   ]
  },
  {
   "cell_type": "markdown",
   "metadata": {},
   "source": [
    "## Cleaning Text, Tokenizing, Lemmatizing, and Count Vectorizing"
   ]
  },
  {
   "cell_type": "markdown",
   "metadata": {},
   "source": [
    "Cleaning the text by removing subreddit links, urls, initial stop words, and any punctuation or special characters except the (') in contractions."
   ]
  },
  {
   "cell_type": "code",
   "execution_count": 24,
   "metadata": {},
   "outputs": [],
   "source": [
    "words['body'] = words.body.map(lambda x: re.sub('\\s[\\/]?r\\/[^\\s]+',' ', x))\n",
    "\n",
    "words['body'] = words.body.map(lambda x: re.sub('http[s]?:\\/\\/[^\\s]*|[^\\s]*\\.\\w{2,3}', ' ', x))\n",
    "\n",
    "words['body'] = words.body.map(lambda x: re.sub('(conservative|libertarian|trump)[s]?', ' ', x, flags=re.I&re.M))\n",
    "\n",
    "words['body'] = words.body.map(lambda x: re.sub('[^A-z0-9|\\w+\\'\\w+]', ' ', x))"
   ]
  },
  {
   "cell_type": "markdown",
   "metadata": {},
   "source": [
    "Tokenizing the text before lemmatizing to reduce the size of the feature space. After lemmatizing words to their root form the text will be rejoined ahead of vectorization."
   ]
  },
  {
   "cell_type": "code",
   "execution_count": 25,
   "metadata": {},
   "outputs": [],
   "source": [
    "lemma = WordNetLemmatizer()\n",
    "tokenizer = RegexpTokenizer(r\"\\w+\\s|\\$\\d+[\\.\\d{2,2}]?|\\S+|[\\w']+\")\n",
    "\n",
    "words['tokens'] = words.body.map(lambda x: tokenizer.tokenize(x.lower()))\n",
    "\n",
    "words['tokens'] = words.tokens.map(lambda x: [lemma.lemmatize(word) for word in x])\n",
    "\n",
    "words['tokens'] = words.tokens.map(lambda x: ' '.join([word for word in x]))"
   ]
  },
  {
   "cell_type": "markdown",
   "metadata": {},
   "source": [
    "Checking to see how many samples were eliminated after text cleaning. Since these samples provide no signal they will be eliminated from our dataset."
   ]
  },
  {
   "cell_type": "code",
   "execution_count": 26,
   "metadata": {},
   "outputs": [
    {
     "data": {
      "text/plain": [
       "1    468\n",
       "0    451\n",
       "Name: libertarian, dtype: int64"
      ]
     },
     "execution_count": 26,
     "metadata": {},
     "output_type": "execute_result"
    }
   ],
   "source": [
    "words[words['tokens']==''].libertarian.value_counts()"
   ]
  },
  {
   "cell_type": "markdown",
   "metadata": {},
   "source": [
    "Since there is a roughly equal number of samples being removed from each class our class balance has been preserved."
   ]
  },
  {
   "cell_type": "code",
   "execution_count": 28,
   "metadata": {},
   "outputs": [],
   "source": [
    "words.drop(words[words['tokens'] == ''].index, axis=0, inplace=True)"
   ]
  },
  {
   "cell_type": "code",
   "execution_count": 29,
   "metadata": {},
   "outputs": [],
   "source": [
    "words.reset_index(drop=True, inplace=True)"
   ]
  },
  {
   "cell_type": "code",
   "execution_count": 30,
   "metadata": {},
   "outputs": [
    {
     "data": {
      "text/html": [
       "<div>\n",
       "<style scoped>\n",
       "    .dataframe tbody tr th:only-of-type {\n",
       "        vertical-align: middle;\n",
       "    }\n",
       "\n",
       "    .dataframe tbody tr th {\n",
       "        vertical-align: top;\n",
       "    }\n",
       "\n",
       "    .dataframe thead th {\n",
       "        text-align: right;\n",
       "    }\n",
       "</style>\n",
       "<table border=\"1\" class=\"dataframe\">\n",
       "  <thead>\n",
       "    <tr style=\"text-align: right;\">\n",
       "      <th></th>\n",
       "      <th>body</th>\n",
       "      <th>libertarian</th>\n",
       "      <th>char_count</th>\n",
       "      <th>word_count</th>\n",
       "      <th>tokens</th>\n",
       "    </tr>\n",
       "  </thead>\n",
       "  <tbody>\n",
       "    <tr>\n",
       "      <th>0</th>\n",
       "      <td>Workers' collective ownership of capital  nev...</td>\n",
       "      <td>1</td>\n",
       "      <td>81</td>\n",
       "      <td>12</td>\n",
       "      <td>workers' collective  ownership  of  capital  n...</td>\n",
       "    </tr>\n",
       "    <tr>\n",
       "      <th>1</th>\n",
       "      <td>hmmmmmmm interesting</td>\n",
       "      <td>1</td>\n",
       "      <td>20</td>\n",
       "      <td>2</td>\n",
       "      <td>hmmmmmmm  interesting</td>\n",
       "    </tr>\n",
       "    <tr>\n",
       "      <th>2</th>\n",
       "      <td>To be fair  credit to Cratchit just for litera...</td>\n",
       "      <td>1</td>\n",
       "      <td>82</td>\n",
       "      <td>15</td>\n",
       "      <td>to  be  fair  credit  to  cratchit  just  for ...</td>\n",
       "    </tr>\n",
       "    <tr>\n",
       "      <th>3</th>\n",
       "      <td>Game show hosts  they re are truly the worst  ...</td>\n",
       "      <td>1</td>\n",
       "      <td>68</td>\n",
       "      <td>11</td>\n",
       "      <td>game  show  hosts  they  re  are  truly  the  ...</td>\n",
       "    </tr>\n",
       "    <tr>\n",
       "      <th>4</th>\n",
       "      <td>I think the better explanation is who are the ...</td>\n",
       "      <td>1</td>\n",
       "      <td>73</td>\n",
       "      <td>12</td>\n",
       "      <td>i  think  the  better  explanation  is  who  a...</td>\n",
       "    </tr>\n",
       "  </tbody>\n",
       "</table>\n",
       "</div>"
      ],
      "text/plain": [
       "                                                body  libertarian  char_count  \\\n",
       "0   Workers' collective ownership of capital  nev...            1          81   \n",
       "1                               hmmmmmmm interesting            1          20   \n",
       "2  To be fair  credit to Cratchit just for litera...            1          82   \n",
       "3  Game show hosts  they re are truly the worst  ...            1          68   \n",
       "4  I think the better explanation is who are the ...            1          73   \n",
       "\n",
       "   word_count                                             tokens  \n",
       "0          12  workers' collective  ownership  of  capital  n...  \n",
       "1           2                              hmmmmmmm  interesting  \n",
       "2          15  to  be  fair  credit  to  cratchit  just  for ...  \n",
       "3          11  game  show  hosts  they  re  are  truly  the  ...  \n",
       "4          12  i  think  the  better  explanation  is  who  a...  "
      ]
     },
     "execution_count": 30,
     "metadata": {},
     "output_type": "execute_result"
    }
   ],
   "source": [
    "words.head()"
   ]
  },
  {
   "cell_type": "markdown",
   "metadata": {},
   "source": [
    "Saving out the cleaned sample list for splitting into model training and validation sets before CountVectorization and alternative word vectorization techniques such as Tfidf."
   ]
  },
  {
   "cell_type": "code",
   "execution_count": 31,
   "metadata": {},
   "outputs": [],
   "source": [
    "formatted_name, now, file_description = filename_format_log(file_path ='../assets/eda_words.csv')\n",
    "words.to_csv(formatted_name, index=False)"
   ]
  },
  {
   "cell_type": "markdown",
   "metadata": {},
   "source": [
    "In addition to the standard set of english stop words, some topic-specific terms will also be excluded to prevent the classification models from assigning undue importance to features that would be uninformative for our investigation. Identifying words such as \"conservative\" or \"libertarian\" do not assist in elucidating more insighful terms. "
   ]
  },
  {
   "cell_type": "code",
   "execution_count": 27,
   "metadata": {},
   "outputs": [],
   "source": [
    "custom_stop = [\n",
    "    'conservative',\n",
    "    'conservatives',\n",
    "    'libertarian',\n",
    "    'libertarians',\n",
    "    'don',\n",
    "    'isn',\n",
    "    'say',\n",
    "    'way',\n",
    "    'really',\n",
    "    'things',\n",
    "    'going',\n",
    "    'actually',\n",
    "    'make',\n",
    "    've',\n",
    "    'gt',\n",
    "    'doesn',\n",
    "    'does',\n",
    "    'know',\n",
    "    'good',\n",
    "    'want',\n",
    "    'did',\n",
    "    'pay',\n",
    "    'use',\n",
    "    'thing',\n",
    "    'sure',\n",
    "    'didn',\n",
    "    'like',\n",
    "    'just',\n",
    "    'did',\n",
    "    'll',\n",
    "    'bad',\n",
    "    'need',\n",
    "    'let',\n",
    "    'lot',\n",
    "    'libertarian',\n",
    "    'yes',\n",
    "    'sub',\n",
    "    'said',\n",
    "    'saying',\n",
    "    'pretty',\n",
    "    'got',\n",
    "    'amp',\n",
    "    'shit',\n",
    "    'look',\n",
    "    'aren',\n",
    "    'x200b',\n",
    "    '32',\n",
    "    '43',\n",
    "    '31',\n",
    "    '000',\n",
    "    'yeah',\n",
    "    'wikitextbot',\n",
    "    'sneakpeekbot',\n",
    "    'imguralbumbot',\n",
    "    \n",
    "    \n",
    "]\n",
    "\n",
    "stop_words = ENGLISH_STOP_WORDS.union(custom_stop)"
   ]
  },
  {
   "cell_type": "code",
   "execution_count": 28,
   "metadata": {},
   "outputs": [],
   "source": [
    "stop_words;"
   ]
  },
  {
   "cell_type": "markdown",
   "metadata": {},
   "source": [
    "The target feature will be pulled out so it can be joined back into the resulting vectorized dataframe."
   ]
  },
  {
   "cell_type": "code",
   "execution_count": 29,
   "metadata": {},
   "outputs": [],
   "source": [
    "target = words['libertarian']"
   ]
  },
  {
   "cell_type": "code",
   "execution_count": 30,
   "metadata": {},
   "outputs": [
    {
     "data": {
      "text/plain": [
       "1    0.538536\n",
       "0    0.461464\n",
       "Name: libertarian, dtype: float64"
      ]
     },
     "execution_count": 30,
     "metadata": {},
     "output_type": "execute_result"
    }
   ],
   "source": [
    "target.value_counts(normalize=True)"
   ]
  },
  {
   "cell_type": "markdown",
   "metadata": {},
   "source": [
    "Count Vectorizing the text in preparation for model fitting. Below, the CountVectorizer function will be fit to strip accents, remove stop words, convert the text to lowercase, drop words that appear fewer than 15 times throughout the sample-space, and allow words to be used within every document as needed. "
   ]
  },
  {
   "cell_type": "code",
   "execution_count": 31,
   "metadata": {},
   "outputs": [],
   "source": [
    "cvec = CountVectorizer(strip_accents = 'unicode',  \n",
    "                       stop_words = stop_words, \n",
    "                       lowercase = True, \n",
    "                       min_df = 15, \n",
    "                       max_df = 1.0)"
   ]
  },
  {
   "cell_type": "markdown",
   "metadata": {},
   "source": [
    "Transforming the cleaned data and saving out to a clean variable for plotting."
   ]
  },
  {
   "cell_type": "code",
   "execution_count": 32,
   "metadata": {},
   "outputs": [],
   "source": [
    "cvec_mat = cvec.fit_transform(words['tokens'])"
   ]
  },
  {
   "cell_type": "markdown",
   "metadata": {},
   "source": [
    "Checking the feature-space of the vectorized matrix."
   ]
  },
  {
   "cell_type": "code",
   "execution_count": 33,
   "metadata": {},
   "outputs": [
    {
     "data": {
      "text/plain": [
       "13122"
      ]
     },
     "execution_count": 33,
     "metadata": {},
     "output_type": "execute_result"
    }
   ],
   "source": [
    "len(cvec.get_feature_names())"
   ]
  },
  {
   "cell_type": "markdown",
   "metadata": {},
   "source": [
    "Converting the word vector into a sparse dataframe."
   ]
  },
  {
   "cell_type": "code",
   "execution_count": 34,
   "metadata": {},
   "outputs": [],
   "source": [
    "cvec_df = pd.SparseDataFrame(cvec_mat, columns=cvec.get_feature_names() )"
   ]
  },
  {
   "cell_type": "markdown",
   "metadata": {},
   "source": [
    "Adding the classification for sorting by class."
   ]
  },
  {
   "cell_type": "code",
   "execution_count": 35,
   "metadata": {},
   "outputs": [],
   "source": [
    "cvec_df['libertarian'] = target"
   ]
  },
  {
   "cell_type": "markdown",
   "metadata": {},
   "source": [
    "Sorting the most frequently used words in the Libertarian comments in descending order, discounting the classification feature."
   ]
  },
  {
   "cell_type": "code",
   "execution_count": 36,
   "metadata": {},
   "outputs": [
    {
     "data": {
      "text/plain": [
       "libertarian     99249.0\n",
       "people          23264.0\n",
       "government      10882.0\n",
       "think           10480.0\n",
       "right            9747.0\n",
       "free             5759.0\n",
       "time             5415.0\n",
       "work             5260.0\n",
       "point            5164.0\n",
       "state            4845.0\n",
       "money            4686.0\n",
       "property         3772.0\n",
       "mean             3648.0\n",
       "trump            3639.0\n",
       "better           3604.0\n",
       "taxes            3518.0\n",
       "rights           3455.0\n",
       "tax              3416.0\n",
       "left             3383.0\n",
       "market           3353.0\n",
       "believe          3294.0\n",
       "person           3203.0\n",
       "power            3178.0\n",
       "private          3165.0\n",
       "capitalism       3049.0\n",
       "life             2968.0\n",
       "world            2922.0\n",
       "agree            2857.0\n",
       "wrong            2834.0\n",
       "means            2832.0\n",
       "                 ...   \n",
       "gillum              0.0\n",
       "foreskin            0.0\n",
       "kemp                0.0\n",
       "subpoenas           0.0\n",
       "maricopa            0.0\n",
       "circumcised         0.0\n",
       "uncounted           0.0\n",
       "uncover             0.0\n",
       "motorcade           0.0\n",
       "strongholds         0.0\n",
       "tester              0.0\n",
       "texan               0.0\n",
       "declassify          0.0\n",
       "crenshaw            0.0\n",
       "mutilating          0.0\n",
       "bsa                 0.0\n",
       "desantis            0.0\n",
       "hyde                0.0\n",
       "stabenow            0.0\n",
       "recused             0.0\n",
       "daca                0.0\n",
       "milano              0.0\n",
       "cuomo               0.0\n",
       "sasse               0.0\n",
       "recovers            0.0\n",
       "recounts            0.0\n",
       "nikki               0.0\n",
       "governorship        0.0\n",
       "ducey               0.0\n",
       "babylonbee          0.0\n",
       "Length: 13123, dtype: float64"
      ]
     },
     "execution_count": 36,
     "metadata": {},
     "output_type": "execute_result"
    }
   ],
   "source": [
    "cvec_df[cvec_df['libertarian'] == 1].sum().sort_values(ascending=False)"
   ]
  },
  {
   "cell_type": "markdown",
   "metadata": {},
   "source": [
    "Sorting the most frequently used words in the Conservative comments in descending order."
   ]
  },
  {
   "cell_type": "code",
   "execution_count": 37,
   "metadata": {},
   "outputs": [
    {
     "data": {
      "text/plain": [
       "people                   13420.0\n",
       "think                     7534.0\n",
       "trump                     6303.0\n",
       "right                     5651.0\n",
       "time                      4397.0\n",
       "left                      4057.0\n",
       "government                3301.0\n",
       "years                     3052.0\n",
       "vote                      3007.0\n",
       "point                     2970.0\n",
       "state                     2828.0\n",
       "country                   2605.0\n",
       "white                     2286.0\n",
       "believe                   2225.0\n",
       "democrats                 2222.0\n",
       "president                 2205.0\n",
       "mean                      2146.0\n",
       "house                     2134.0\n",
       "work                      2078.0\n",
       "news                      2056.0\n",
       "money                     2035.0\n",
       "better                    2008.0\n",
       "media                     1989.0\n",
       "party                     1982.0\n",
       "person                    1980.0\n",
       "election                  1971.0\n",
       "political                 1961.0\n",
       "life                      1955.0\n",
       "man                       1941.0\n",
       "law                       1850.0\n",
       "                          ...   \n",
       "ballooned                    0.0\n",
       "minarchy                     0.0\n",
       "bandwidth                    0.0\n",
       "spooner                      0.0\n",
       "minarchists                  0.0\n",
       "proudhon                     0.0\n",
       "coops                        0.0\n",
       "cooperatives                 0.0\n",
       "chapos                       0.0\n",
       "chapotard                    0.0\n",
       "tolls                        0.0\n",
       "toothbrush                   0.0\n",
       "8jnhy                        0.0\n",
       "kropotkin                    0.0\n",
       "chattel                      0.0\n",
       "kittenswolf                  0.0\n",
       "autobahn                     0.0\n",
       "kittens_from_space           0.0\n",
       "agression                    0.0\n",
       "goldandblack                 0.0\n",
       "reposter                     0.0\n",
       "autplayed                    0.0\n",
       "goldman                      0.0\n",
       "totesmessenger               0.0\n",
       "reposts                      0.0\n",
       "republician                  0.0\n",
       "khmer                        0.0\n",
       "enoughlibertarianspam        0.0\n",
       "chapotards                   0.0\n",
       "libertarian                  0.0\n",
       "Length: 13123, dtype: float64"
      ]
     },
     "execution_count": 37,
     "metadata": {},
     "output_type": "execute_result"
    }
   ],
   "source": [
    "cvec_df[cvec_df['libertarian'] == 0].sum().sort_values(ascending=False)"
   ]
  },
  {
   "cell_type": "markdown",
   "metadata": {},
   "source": [
    "Collecting the top 500 words for each subreddit"
   ]
  },
  {
   "cell_type": "code",
   "execution_count": 38,
   "metadata": {},
   "outputs": [],
   "source": [
    "cvec_500_cons = list(cvec_df[cvec_df['libertarian']==0].\n",
    "     mean().T.sort_values(ascending=False).head(500).index)\n",
    "\n",
    "cvec_500_libr = list(cvec_df[cvec_df['libertarian']==1].\n",
    "     mean().T.sort_values(ascending=False).head(500).index)"
   ]
  },
  {
   "cell_type": "markdown",
   "metadata": {},
   "source": [
    "Pulling out overlapping words to compare frequency and occurance."
   ]
  },
  {
   "cell_type": "code",
   "execution_count": 39,
   "metadata": {},
   "outputs": [],
   "source": [
    "cvec_overlap = [word for word in cvec_500_libr if word in cvec_500_cons]"
   ]
  },
  {
   "cell_type": "markdown",
   "metadata": {},
   "source": [
    "Listing the overlapping words."
   ]
  },
  {
   "cell_type": "code",
   "execution_count": 40,
   "metadata": {},
   "outputs": [
    {
     "data": {
      "text/plain": [
       "['blah',\n",
       " 'reassignment',\n",
       " 'womp',\n",
       " 'ding',\n",
       " 'kate',\n",
       " 'pakistani',\n",
       " 'wikileaks',\n",
       " 'incitement',\n",
       " 'co2',\n",
       " 'hoover',\n",
       " 'cough',\n",
       " 'steele',\n",
       " 'hemp',\n",
       " 'bulls',\n",
       " 'fentanyl',\n",
       " 'gun',\n",
       " 'aliens',\n",
       " 'insurance',\n",
       " 'nasa',\n",
       " 'firearm',\n",
       " 'chromosome',\n",
       " 'pit',\n",
       " 'mugger',\n",
       " 'ec',\n",
       " 'electors',\n",
       " 'women',\n",
       " 'preexisting',\n",
       " 'israel',\n",
       " 'loophole',\n",
       " 'marriage',\n",
       " 'asylum',\n",
       " 'fetus',\n",
       " 'col',\n",
       " 'eo',\n",
       " 'islamist',\n",
       " 'cursive',\n",
       " 'motherhood',\n",
       " 'curing',\n",
       " 'chomsky',\n",
       " 'solar',\n",
       " 'percent',\n",
       " 'officers',\n",
       " 'tax',\n",
       " 'people',\n",
       " 'speech',\n",
       " 'nurse',\n",
       " 'gender',\n",
       " 'probability',\n",
       " 'sex',\n",
       " 'government',\n",
       " 'temperature',\n",
       " 'cookies',\n",
       " 'lease',\n",
       " 'immigrants',\n",
       " 'operators',\n",
       " 'cannabis',\n",
       " 'tariffs',\n",
       " 'physicians',\n",
       " 'cohen',\n",
       " 'gap',\n",
       " 'tariff',\n",
       " 'cite_note',\n",
       " 'matthew',\n",
       " 'oregon',\n",
       " 'ip',\n",
       " 'abortion',\n",
       " 'healthcare',\n",
       " 'organism',\n",
       " 'fires',\n",
       " 'immigration',\n",
       " 'sherman',\n",
       " 'robin',\n",
       " 'rail',\n",
       " 'firms',\n",
       " 'data',\n",
       " 'commune',\n",
       " 'ballots',\n",
       " 'steel',\n",
       " 'men',\n",
       " 'treaties',\n",
       " 'embryo',\n",
       " 'aclu',\n",
       " 'child',\n",
       " 'rape',\n",
       " 'jobs',\n",
       " 'genes',\n",
       " 'apple',\n",
       " 'human',\n",
       " 'states',\n",
       " 'duck',\n",
       " 'carbon',\n",
       " 'trump',\n",
       " 'timber',\n",
       " 'white',\n",
       " 'billion',\n",
       " 'automation',\n",
       " 'mall',\n",
       " 'climate']"
      ]
     },
     "execution_count": 40,
     "metadata": {},
     "output_type": "execute_result"
    }
   ],
   "source": [
    "cvec_overlap"
   ]
  },
  {
   "cell_type": "markdown",
   "metadata": {},
   "source": [
    "Defining a plotting function for comparing the frequency and number of observations as well as the mean usage for each word in the ovelap set. Code inspired by D. Strodman."
   ]
  },
  {
   "cell_type": "code",
   "execution_count": 41,
   "metadata": {},
   "outputs": [],
   "source": [
    "def plot_wordvec_dist(words, dataframe, target = 'libertarian', classes = [0,1]):\n",
    "    nrows = len(words[:10])//2 if not len(words[:10])%2 else len(words)//2 + 1\n",
    "    class_0 = dataframe[dataframe[target]==classes[0]]\n",
    "    class_1 = dataframe[dataframe[target]==classes[1]]\n",
    "    fig, ax = plt.subplots(ncols=2, nrows=nrows, figsize=(20, 7*nrows))\n",
    "    ax = ax.ravel()\n",
    "    \n",
    "    for i, word in enumerate(words[:10]):\n",
    "        counts_0 = class_0[word].value_counts().to_dict()\n",
    "        counts_1 = class_1[word].value_counts().to_dict()\n",
    "        mean_0 = class_0[word].mean()\n",
    "        mean_1 = class_1[word].mean()\n",
    "        ax[i].bar(counts_0.keys(), counts_0.values(), color='forestgreen', alpha=.3)\n",
    "        ax[i].bar(counts_1.keys(), counts_1.values(), color='coral', alpha=.3)\n",
    "        ymin, ymax = ax[i].get_ylim()\n",
    "        ax[i].set_xlabel('Frequency', fontsize=15)\n",
    "        ax[i].set_ylabel('Observations', fontsize=15)\n",
    "        ax[i].plot([mean_0]*2, [ymin, ymax], ':', color='forestgreen')\n",
    "        ax[i].plot([mean_1]*2, [ymin, ymax], ':', color='coral')\n",
    "        ax[i].set_title(f'{word} frequency counts\\nmeans: {mean_0:0.03f} vs {mean_1:0.03f}', fontsize=15)\n",
    "        ax[i].legend(labels=['Conservative', 'Libertarian']);\n",
    "        \n",
    "    plt.tight_layout()"
   ]
  },
  {
   "cell_type": "markdown",
   "metadata": {},
   "source": [
    "Invoking the plotting function."
   ]
  },
  {
   "cell_type": "code",
   "execution_count": 42,
   "metadata": {},
   "outputs": [
    {
     "data": {
      "image/png": "[encoded data removed]",
      "text/plain": [
       "<Figure size 1440x2520 with 10 Axes>"
      ]
     },
     "metadata": {
      "needs_background": "light"
     },
     "output_type": "display_data"
    }
   ],
   "source": [
    "plot_wordvec_dist(cvec_overlap, cvec_df)\n",
    "\n",
    "# plt.savefig('../images/cvec_overlap.png', dpi=300)"
   ]
  },
  {
   "cell_type": "markdown",
   "metadata": {},
   "source": [
    "Plotting the top 10 overlapping terms after count vectorization. While some of these terms do not intuitively seem linked to one class or another, it is interesting to see there is pronounced class variance which suggests that there is a true signal which may be predictive after fitting models. 'Reassignment', 'Pakistani', 'incitement', 'co2', and 'hoover' seem to have the most class variance among the more politically relavent overlap words."
   ]
  },
  {
   "cell_type": "markdown",
   "metadata": {},
   "source": [
    "Reloading the clean data for Tfidf Vectorization. Tfidf accounts for the usage of a word within a set of documents and regularizes the counts to allow rare terms to carry more weight. In this way, it may help limit the influence of common words used in web comments that are not part of a standard English language stop list, thereby increasing the chance that important terms will be fit during modeling."
   ]
  },
  {
   "cell_type": "code",
   "execution_count": 32,
   "metadata": {},
   "outputs": [
    {
     "name": "stdout",
     "output_type": "stream",
     "text": [
      "1544820504_comments_df.csv   1545266972_clean_text.csv\n",
      "1544843302_comments_df.csv   1545266972_cvec_coo.npz\n",
      "1544988010_comments_df.csv   1545266972_tfidf_coo.npz\n",
      "1545241316_clean_target.csv  1545272821_eda_words.csv\n",
      "1545241316_clean_text.csv    cvec_1545266972_coo_col.csv\n",
      "1545249401_cvec_coo.npz      file_log.txt\n",
      "1545249401_cvec_coo_col.csv  tfidf_1545266972_coo_col.csv\n",
      "1545254581_clean_text.csv\n"
     ]
    }
   ],
   "source": [
    "!ls '../assets/'"
   ]
  },
  {
   "cell_type": "code",
   "execution_count": 43,
   "metadata": {},
   "outputs": [],
   "source": [
    "clean_words = pd.read_csv('../assets/1545272821_eda_words.csv', na_filter=False)"
   ]
  },
  {
   "cell_type": "markdown",
   "metadata": {},
   "source": [
    "Saving out the target"
   ]
  },
  {
   "cell_type": "code",
   "execution_count": 44,
   "metadata": {},
   "outputs": [],
   "source": [
    "clean_target = clean_words['libertarian']"
   ]
  },
  {
   "cell_type": "code",
   "execution_count": 45,
   "metadata": {},
   "outputs": [
    {
     "data": {
      "text/html": [
       "<div>\n",
       "<style scoped>\n",
       "    .dataframe tbody tr th:only-of-type {\n",
       "        vertical-align: middle;\n",
       "    }\n",
       "\n",
       "    .dataframe tbody tr th {\n",
       "        vertical-align: top;\n",
       "    }\n",
       "\n",
       "    .dataframe thead th {\n",
       "        text-align: right;\n",
       "    }\n",
       "</style>\n",
       "<table border=\"1\" class=\"dataframe\">\n",
       "  <thead>\n",
       "    <tr style=\"text-align: right;\">\n",
       "      <th></th>\n",
       "      <th>body</th>\n",
       "      <th>libertarian</th>\n",
       "      <th>char_count</th>\n",
       "      <th>word_count</th>\n",
       "      <th>tokens</th>\n",
       "    </tr>\n",
       "  </thead>\n",
       "  <tbody>\n",
       "    <tr>\n",
       "      <th>0</th>\n",
       "      <td>Workers' collective ownership of capital  nev...</td>\n",
       "      <td>1</td>\n",
       "      <td>81</td>\n",
       "      <td>12</td>\n",
       "      <td>workers' collective  ownership  of  capital  n...</td>\n",
       "    </tr>\n",
       "    <tr>\n",
       "      <th>1</th>\n",
       "      <td>hmmmmmmm interesting</td>\n",
       "      <td>1</td>\n",
       "      <td>20</td>\n",
       "      <td>2</td>\n",
       "      <td>hmmmmmmm  interesting</td>\n",
       "    </tr>\n",
       "    <tr>\n",
       "      <th>2</th>\n",
       "      <td>To be fair  credit to Cratchit just for litera...</td>\n",
       "      <td>1</td>\n",
       "      <td>82</td>\n",
       "      <td>15</td>\n",
       "      <td>to  be  fair  credit  to  cratchit  just  for ...</td>\n",
       "    </tr>\n",
       "    <tr>\n",
       "      <th>3</th>\n",
       "      <td>Game show hosts  they re are truly the worst  ...</td>\n",
       "      <td>1</td>\n",
       "      <td>68</td>\n",
       "      <td>11</td>\n",
       "      <td>game  show  hosts  they  re  are  truly  the  ...</td>\n",
       "    </tr>\n",
       "    <tr>\n",
       "      <th>4</th>\n",
       "      <td>I think the better explanation is who are the ...</td>\n",
       "      <td>1</td>\n",
       "      <td>73</td>\n",
       "      <td>12</td>\n",
       "      <td>i  think  the  better  explanation  is  who  a...</td>\n",
       "    </tr>\n",
       "  </tbody>\n",
       "</table>\n",
       "</div>"
      ],
      "text/plain": [
       "                                                body  libertarian  char_count  \\\n",
       "0   Workers' collective ownership of capital  nev...            1          81   \n",
       "1                               hmmmmmmm interesting            1          20   \n",
       "2  To be fair  credit to Cratchit just for litera...            1          82   \n",
       "3  Game show hosts  they re are truly the worst  ...            1          68   \n",
       "4  I think the better explanation is who are the ...            1          73   \n",
       "\n",
       "   word_count                                             tokens  \n",
       "0          12  workers' collective  ownership  of  capital  n...  \n",
       "1           2                              hmmmmmmm  interesting  \n",
       "2          15  to  be  fair  credit  to  cratchit  just  for ...  \n",
       "3          11  game  show  hosts  they  re  are  truly  the  ...  \n",
       "4          12  i  think  the  better  explanation  is  who  a...  "
      ]
     },
     "execution_count": 45,
     "metadata": {},
     "output_type": "execute_result"
    }
   ],
   "source": [
    "clean_words.head()"
   ]
  },
  {
   "cell_type": "markdown",
   "metadata": {},
   "source": [
    "Tfidf vectorizing with the same parameters as the Count Vectorization."
   ]
  },
  {
   "cell_type": "code",
   "execution_count": 46,
   "metadata": {},
   "outputs": [],
   "source": [
    "tfidf = TfidfVectorizer(strip_accents = 'unicode',  \n",
    "                        stop_words = stop_words, \n",
    "                        lowercase = True, \n",
    "                        min_df = 15, \n",
    "                        max_df = 1.0)"
   ]
  },
  {
   "cell_type": "markdown",
   "metadata": {},
   "source": [
    "Fitting and transforming the data."
   ]
  },
  {
   "cell_type": "code",
   "execution_count": 47,
   "metadata": {},
   "outputs": [],
   "source": [
    "tfidf_mat = tfidf.fit_transform(clean_words['tokens'])"
   ]
  },
  {
   "cell_type": "markdown",
   "metadata": {},
   "source": [
    "Checking the size of the feature space"
   ]
  },
  {
   "cell_type": "code",
   "execution_count": 49,
   "metadata": {},
   "outputs": [
    {
     "data": {
      "text/plain": [
       "13122"
      ]
     },
     "execution_count": 49,
     "metadata": {},
     "output_type": "execute_result"
    }
   ],
   "source": [
    "len(tfidf.get_feature_names())"
   ]
  },
  {
   "cell_type": "markdown",
   "metadata": {},
   "source": [
    "Converting to a sparse dataframe"
   ]
  },
  {
   "cell_type": "code",
   "execution_count": 50,
   "metadata": {},
   "outputs": [],
   "source": [
    "tfidf_df = pd.SparseDataFrame(tfidf_mat, columns=tfidf.get_feature_names())"
   ]
  },
  {
   "cell_type": "markdown",
   "metadata": {},
   "source": [
    "Adding back the target for a comparitive analysis of word usage between classes."
   ]
  },
  {
   "cell_type": "code",
   "execution_count": 51,
   "metadata": {},
   "outputs": [],
   "source": [
    "tfidf_df['libertarian'] = clean_target"
   ]
  },
  {
   "cell_type": "markdown",
   "metadata": {},
   "source": [
    "Sorting the most frequently used words in the Libertarian comments in descending order, discounting the classification feature."
   ]
  },
  {
   "cell_type": "code",
   "execution_count": 52,
   "metadata": {},
   "outputs": [
    {
     "data": {
      "text/plain": [
       "libertarian     98781.000000\n",
       "people           2074.920662\n",
       "government       1292.175239\n",
       "right            1251.465636\n",
       "think            1226.327080\n",
       "free              822.118587\n",
       "point             738.298805\n",
       "time              675.578198\n",
       "work              663.051849\n",
       "lol               660.061195\n",
       "money             618.535580\n",
       "state             604.734412\n",
       "mean              600.920898\n",
       "fuck              591.256705\n",
       "post              576.932377\n",
       "taxes             568.602766\n",
       "property          543.203309\n",
       "trump             542.138157\n",
       "capitalism        527.631652\n",
       "better            527.049455\n",
       "tax               519.965285\n",
       "wrong             510.495704\n",
       "socialism         508.646383\n",
       "left              500.993180\n",
       "agree             493.110589\n",
       "rights            468.958382\n",
       "believe           468.828535\n",
       "private           456.324334\n",
       "power             450.590016\n",
       "market            450.417190\n",
       "                    ...     \n",
       "stabenow            0.000000\n",
       "uncounted           0.000000\n",
       "tester              0.000000\n",
       "milano              0.000000\n",
       "uncover             0.000000\n",
       "kemp                0.000000\n",
       "recused             0.000000\n",
       "maricopa            0.000000\n",
       "nv                  0.000000\n",
       "donnelly            0.000000\n",
       "strongholds         0.000000\n",
       "mcsally             0.000000\n",
       "gillum              0.000000\n",
       "kobach              0.000000\n",
       "knowles             0.000000\n",
       "sasse               0.000000\n",
       "sinema              0.000000\n",
       "declassify          0.000000\n",
       "motorcade           0.000000\n",
       "ducey               0.000000\n",
       "cuomo               0.000000\n",
       "foreskin            0.000000\n",
       "recounts            0.000000\n",
       "arlington           0.000000\n",
       "governorship        0.000000\n",
       "recovers            0.000000\n",
       "babylonbee          0.000000\n",
       "daca                0.000000\n",
       "bsa                 0.000000\n",
       "nikki               0.000000\n",
       "Length: 13123, dtype: float64"
      ]
     },
     "execution_count": 52,
     "metadata": {},
     "output_type": "execute_result"
    }
   ],
   "source": [
    "tfidf_df[tfidf_df['libertarian'] == 1].sum().sort_values(ascending=False)"
   ]
  },
  {
   "cell_type": "markdown",
   "metadata": {},
   "source": [
    "Sorting the most frequently used words in the Conservative comments in descending order."
   ]
  },
  {
   "cell_type": "code",
   "execution_count": 53,
   "metadata": {},
   "outputs": [
    {
     "data": {
      "text/plain": [
       "people                   1322.282355\n",
       "think                     988.073370\n",
       "trump                     933.369432\n",
       "right                     812.800380\n",
       "time                      654.190641\n",
       "left                      627.973491\n",
       "vote                      540.125910\n",
       "lol                       505.165522\n",
       "years                     469.493224\n",
       "point                     461.425142\n",
       "man                       427.282273\n",
       "democrats                 424.172182\n",
       "country                   416.221673\n",
       "mean                      408.003671\n",
       "house                     402.834264\n",
       "government                400.921706\n",
       "state                     395.255920\n",
       "news                      394.359175\n",
       "president                 391.736220\n",
       "white                     391.718354\n",
       "election                  376.945801\n",
       "believe                   364.475786\n",
       "wrong                     356.741386\n",
       "won                       355.739527\n",
       "agree                     347.536909\n",
       "better                    344.212346\n",
       "media                     342.847778\n",
       "party                     326.817620\n",
       "republicans               326.283957\n",
       "money                     324.084129\n",
       "                            ...     \n",
       "mutualists                  0.000000\n",
       "leninism                    0.000000\n",
       "autobahn                    0.000000\n",
       "enoughlibertarianspam       0.000000\n",
       "enslaving                   0.000000\n",
       "initiating                  0.000000\n",
       "unban                       0.000000\n",
       "unbanning                   0.000000\n",
       "excludeme                   0.000000\n",
       "piggyback                   0.000000\n",
       "physical_removal            0.000000\n",
       "extracted                   0.000000\n",
       "faggot                      0.000000\n",
       "unionize                    0.000000\n",
       "famines                     0.000000\n",
       "unowned                     0.000000\n",
       "ancom                       0.000000\n",
       "anarcho_capitalism          0.000000\n",
       "albertfairfax               0.000000\n",
       "obligate                    0.000000\n",
       "georgism                    0.000000\n",
       "georgist                    0.000000\n",
       "agression                   0.000000\n",
       "ventures                    0.000000\n",
       "nigger                      0.000000\n",
       "nicotine                    0.000000\n",
       "goldandblack                0.000000\n",
       "goldman                     0.000000\n",
       "gubmint                     0.000000\n",
       "libertarian                 0.000000\n",
       "Length: 13123, dtype: float64"
      ]
     },
     "execution_count": 53,
     "metadata": {},
     "output_type": "execute_result"
    }
   ],
   "source": [
    "tfidf_df[tfidf_df['libertarian'] == 0].sum().sort_values(ascending=False)"
   ]
  },
  {
   "cell_type": "markdown",
   "metadata": {},
   "source": [
    "Collecting the top 500 words for each subreddit"
   ]
  },
  {
   "cell_type": "code",
   "execution_count": 54,
   "metadata": {},
   "outputs": [],
   "source": [
    "tfidf_500_cons = list(tfidf_df[tfidf_df['libertarian']==0].\n",
    "     mean().T.sort_values(ascending=False).head(500).index)\n",
    "\n",
    "tfidf_500_libr = list(tfidf_df[tfidf_df['libertarian']==1].\n",
    "     mean().T.sort_values(ascending=False).head(500).index)"
   ]
  },
  {
   "cell_type": "markdown",
   "metadata": {},
   "source": [
    "Pulling out overlapping words to compare frequency and occurance."
   ]
  },
  {
   "cell_type": "code",
   "execution_count": 55,
   "metadata": {},
   "outputs": [],
   "source": [
    "tfidf_overlap = [word for word in tfidf_500_libr if word in tfidf_500_cons]"
   ]
  },
  {
   "cell_type": "markdown",
   "metadata": {},
   "source": [
    "Listing the overlapping words."
   ]
  },
  {
   "cell_type": "code",
   "execution_count": 56,
   "metadata": {},
   "outputs": [
    {
     "data": {
      "text/plain": [
       "['si',\n",
       " 'whoosh',\n",
       " 'womp',\n",
       " 'derp',\n",
       " 'amen',\n",
       " 'touche',\n",
       " 'intensifies',\n",
       " 'felicia',\n",
       " 'remindme',\n",
       " 'm8',\n",
       " 'cortex',\n",
       " 'plz',\n",
       " 'ouch',\n",
       " 'wat',\n",
       " 'fag',\n",
       " 'poe',\n",
       " 'bye',\n",
       " 'ding',\n",
       " 'backfired',\n",
       " 'wut',\n",
       " 'blah',\n",
       " 'thots',\n",
       " 'topminds',\n",
       " 'misspelled',\n",
       " 'godwin',\n",
       " 'underrated',\n",
       " 'remembers',\n",
       " 'kek',\n",
       " 'allot',\n",
       " 'bruh',\n",
       " 'copypasta',\n",
       " 'chapotardhouse',\n",
       " 'fucktard',\n",
       " 'yawn',\n",
       " 'concur',\n",
       " 'sayin',\n",
       " 'dammit',\n",
       " 'aww',\n",
       " 'oof',\n",
       " 'clap',\n",
       " 'champ',\n",
       " 'reichstag',\n",
       " 'cucks',\n",
       " 'checkmate',\n",
       " 'laughs',\n",
       " 'wack',\n",
       " 'tf',\n",
       " 'thot',\n",
       " 'stonetoss',\n",
       " 'comrade',\n",
       " 'nsfw',\n",
       " 'username',\n",
       " 'gif',\n",
       " 'optimism',\n",
       " 'tmor',\n",
       " 'finest',\n",
       " 'btfo',\n",
       " 'funnier',\n",
       " 'ooh',\n",
       " 'sigh',\n",
       " 'unironically',\n",
       " 'lmfao',\n",
       " 'crickets',\n",
       " 'unsub',\n",
       " 'spice',\n",
       " 'doe',\n",
       " 'chad',\n",
       " 'classy',\n",
       " 'hahahahaha',\n",
       " 'cough',\n",
       " 'stinky',\n",
       " 'dat',\n",
       " 'naw',\n",
       " 'sarcasm',\n",
       " 'ninja',\n",
       " 'hahahaha',\n",
       " 'snl',\n",
       " 'boner',\n",
       " 'yikes',\n",
       " 'tfw',\n",
       " 'dawg',\n",
       " 'darth',\n",
       " 'muted',\n",
       " 'pls',\n",
       " 'cock',\n",
       " 'voat',\n",
       " 'outoftheloop',\n",
       " 'bingo',\n",
       " 'ditto',\n",
       " 'unbearable',\n",
       " 'simpsons',\n",
       " 'hmmmm',\n",
       " 'tan',\n",
       " 'sd',\n",
       " 'hahahah',\n",
       " 'scotsman',\n",
       " 'pinko',\n",
       " 'drumpf',\n",
       " 'whew',\n",
       " 'absolutes',\n",
       " 'awww',\n",
       " 'comeback',\n",
       " 'ht',\n",
       " 'sack',\n",
       " 'faggots',\n",
       " 'reposted',\n",
       " 'paywall',\n",
       " 'adorable',\n",
       " 'whataboutism',\n",
       " 'curse',\n",
       " 'rofl',\n",
       " 'riddance',\n",
       " 'heh',\n",
       " 'libtard',\n",
       " 'brigader',\n",
       " 'swanson',\n",
       " 'duckduckgo',\n",
       " 'hemp',\n",
       " 'reposting',\n",
       " 'satire',\n",
       " 'popcorn',\n",
       " 'nerd',\n",
       " 'nuh',\n",
       " 'tds',\n",
       " 'renamed',\n",
       " 'latestagecapitalism',\n",
       " 'enlighten',\n",
       " 'dummy',\n",
       " 'ummm',\n",
       " 'simpson',\n",
       " 'ahhh',\n",
       " 'dork',\n",
       " 'chabanais',\n",
       " 'sandwiches',\n",
       " 'wayne',\n",
       " 'hail',\n",
       " 'spooky',\n",
       " 'bu',\n",
       " 'fries',\n",
       " 'kanye',\n",
       " 'fam',\n",
       " 'retardation',\n",
       " 'twat',\n",
       " 'crock',\n",
       " 'duh',\n",
       " 'frog',\n",
       " 'vegans',\n",
       " 'dang',\n",
       " 'jfc',\n",
       " 'pun',\n",
       " 'chuckle',\n",
       " 'ct',\n",
       " 'kettle',\n",
       " 'hawley',\n",
       " 'ftfy',\n",
       " 'sir',\n",
       " 'imbecile',\n",
       " 'sarcastic',\n",
       " 'fart',\n",
       " 'tards',\n",
       " 'larping',\n",
       " 'ha',\n",
       " 'peach',\n",
       " 'tard',\n",
       " 'epic',\n",
       " 'rite',\n",
       " 'edgy',\n",
       " 'soo',\n",
       " 'lizard',\n",
       " 'ugh',\n",
       " 'nailed',\n",
       " 'chapotraphouse',\n",
       " 'thee',\n",
       " 'quarantine',\n",
       " 'homie',\n",
       " 'tm',\n",
       " 'nerds',\n",
       " 'motherfucker',\n",
       " 'butthurt',\n",
       " 'clone',\n",
       " 'babylon',\n",
       " 'lurking']"
      ]
     },
     "execution_count": 56,
     "metadata": {},
     "output_type": "execute_result"
    }
   ],
   "source": [
    "tfidf_overlap"
   ]
  },
  {
   "cell_type": "markdown",
   "metadata": {},
   "source": [
    "Interesting to see a very different group of features identified by Tfidf vectorization. Given that there seems to be a much strong connection to politically relavent words in the Tfidf dataset for both classes, we will proceed with this data for modeling."
   ]
  },
  {
   "cell_type": "markdown",
   "metadata": {},
   "source": [
    "# CONTINUE TO NOTEBOOK 03"
   ]
  }
 ],
 "metadata": {
  "kernelspec": {
   "display_name": "Python 3",
   "language": "python",
   "name": "python3"
  },
  "language_info": {
   "codemirror_mode": {
    "name": "ipython",
    "version": 3
   },
   "file_extension": ".py",
   "mimetype": "text/x-python",
   "name": "python",
   "nbconvert_exporter": "python",
   "pygments_lexer": "ipython3",
   "version": "3.7.2"
  }
 },
 "nbformat": 4,
 "nbformat_minor": 2
}
