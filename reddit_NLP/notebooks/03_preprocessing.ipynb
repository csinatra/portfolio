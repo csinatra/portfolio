{
 "cells": [
  {
   "cell_type": "markdown",
   "metadata": {},
   "source": [
    "# NOTEBOOK 03: PREPROCESSING"
   ]
  },
  {
   "cell_type": "markdown",
   "metadata": {},
   "source": [
    "In this notebook, the data will be prepared for modeling by following the preprocessing steps used during EDA. The data will be split into training and validation sets ahead of Tfidf vectorization and SVD feature reduction. "
   ]
  },
  {
   "cell_type": "code",
   "execution_count": 19,
   "metadata": {},
   "outputs": [],
   "source": [
    "import re, csv, time, json, pickle\n",
    "import pandas as pd\n",
    "import numpy as np\n",
    "import seaborn as sns\n",
    "import matplotlib.pyplot as plt\n",
    "import sys\n",
    "\n",
    "import warnings\n",
    "warnings.simplefilter(action='ignore', category=FutureWarning)\n",
    "\n",
    "from scipy import sparse\n",
    "\n",
    "from nltk.tokenize import RegexpTokenizer\n",
    "from nltk.stem import WordNetLemmatizer\n",
    "from sklearn.feature_extraction.text import ENGLISH_STOP_WORDS, CountVectorizer, TfidfVectorizer\n",
    "from sklearn.decomposition import TruncatedSVD\n",
    "from sklearn.metrics.pairwise import cosine_similarity\n",
    "from sklearn.model_selection import train_test_split\n",
    "\n",
    "np.random.seed(42)\n",
    "\n",
    "%matplotlib inline"
   ]
  },
  {
   "cell_type": "code",
   "execution_count": 30,
   "metadata": {},
   "outputs": [],
   "source": [
    "def filename_format_log(file_path, \n",
    "                        logfile = '../assets/file_log.txt', \n",
    "                        now = round(time.time()), \n",
    "                        file_description = None): \n",
    "   \n",
    "    try:\n",
    "        ext = re.search('(?<!^)(?<!\\.)\\.(?!\\.)', file_path).start() \n",
    "    except:\n",
    "        raise NameError('Please enter a relative path with a file extension.') \n",
    "    \n",
    "    stamp = re.search('(?<!^)(?<!\\.)[A-z]+_[A-z]+(?=\\.)', file_path).start()\n",
    "    formatted_name = f'{file_path[:stamp]}{now}_{file_path[stamp:]}'  \n",
    "    if not file_description:\n",
    "        file_description = f'Word list saved at: {time.asctime(time.gmtime(now))}'\n",
    "    with open(logfile, 'a+') as f:\n",
    "        f.write(f'{formatted_name}: {file_description}\\n')\n",
    "    return formatted_name, now, file_description"
   ]
  },
  {
   "cell_type": "code",
   "execution_count": 3,
   "metadata": {},
   "outputs": [
    {
     "name": "stdout",
     "output_type": "stream",
     "text": [
      "1544820504_comments_df.csv     1545272821_eda_words.csv\n",
      "1544843302_comments_df.csv     1545277666_tfidf_col.csv\n",
      "1544988010_comments_df.csv     1545277666_y_test.csv\n",
      "1545241316_clean_target.csv    1545277666_y_train.csv\n",
      "1545241316_clean_text.csv      1545285057_tfidf_col.csv\n",
      "1545249401_cvec_coo.npz        cvec_1545266972_coo_col.csv\n",
      "1545249401_cvec_coo_col.csv    file_log.txt\n",
      "1545254581_clean_text.csv      test_1545277666_tfidf_coo.npz\n",
      "1545266972_clean_text.csv      tfidf_1545266972_coo_col.csv\n",
      "1545266972_cvec_coo.npz        train_1545277666_tfidf_coo.npz\n",
      "1545266972_tfidf_coo.npz\n"
     ]
    }
   ],
   "source": [
    "!ls '../assets/'"
   ]
  },
  {
   "cell_type": "code",
   "execution_count": 4,
   "metadata": {},
   "outputs": [],
   "source": [
    "eda_words = pd.read_csv('../assets/1545272821_eda_words.csv', na_filter=False)"
   ]
  },
  {
   "cell_type": "code",
   "execution_count": 5,
   "metadata": {},
   "outputs": [
    {
     "data": {
      "text/html": [
       "<div>\n",
       "<style scoped>\n",
       "    .dataframe tbody tr th:only-of-type {\n",
       "        vertical-align: middle;\n",
       "    }\n",
       "\n",
       "    .dataframe tbody tr th {\n",
       "        vertical-align: top;\n",
       "    }\n",
       "\n",
       "    .dataframe thead th {\n",
       "        text-align: right;\n",
       "    }\n",
       "</style>\n",
       "<table border=\"1\" class=\"dataframe\">\n",
       "  <thead>\n",
       "    <tr style=\"text-align: right;\">\n",
       "      <th></th>\n",
       "      <th>body</th>\n",
       "      <th>libertarian</th>\n",
       "      <th>char_count</th>\n",
       "      <th>word_count</th>\n",
       "      <th>tokens</th>\n",
       "    </tr>\n",
       "  </thead>\n",
       "  <tbody>\n",
       "    <tr>\n",
       "      <th>0</th>\n",
       "      <td>Workers' collective ownership of capital  nev...</td>\n",
       "      <td>1</td>\n",
       "      <td>81</td>\n",
       "      <td>12</td>\n",
       "      <td>workers' collective  ownership  of  capital  n...</td>\n",
       "    </tr>\n",
       "    <tr>\n",
       "      <th>1</th>\n",
       "      <td>hmmmmmmm interesting</td>\n",
       "      <td>1</td>\n",
       "      <td>20</td>\n",
       "      <td>2</td>\n",
       "      <td>hmmmmmmm  interesting</td>\n",
       "    </tr>\n",
       "    <tr>\n",
       "      <th>2</th>\n",
       "      <td>To be fair  credit to Cratchit just for litera...</td>\n",
       "      <td>1</td>\n",
       "      <td>82</td>\n",
       "      <td>15</td>\n",
       "      <td>to  be  fair  credit  to  cratchit  just  for ...</td>\n",
       "    </tr>\n",
       "    <tr>\n",
       "      <th>3</th>\n",
       "      <td>Game show hosts  they re are truly the worst  ...</td>\n",
       "      <td>1</td>\n",
       "      <td>68</td>\n",
       "      <td>11</td>\n",
       "      <td>game  show  hosts  they  re  are  truly  the  ...</td>\n",
       "    </tr>\n",
       "    <tr>\n",
       "      <th>4</th>\n",
       "      <td>I think the better explanation is who are the ...</td>\n",
       "      <td>1</td>\n",
       "      <td>73</td>\n",
       "      <td>12</td>\n",
       "      <td>i  think  the  better  explanation  is  who  a...</td>\n",
       "    </tr>\n",
       "  </tbody>\n",
       "</table>\n",
       "</div>"
      ],
      "text/plain": [
       "                                                body  libertarian  char_count  \\\n",
       "0   Workers' collective ownership of capital  nev...            1          81   \n",
       "1                               hmmmmmmm interesting            1          20   \n",
       "2  To be fair  credit to Cratchit just for litera...            1          82   \n",
       "3  Game show hosts  they re are truly the worst  ...            1          68   \n",
       "4  I think the better explanation is who are the ...            1          73   \n",
       "\n",
       "   word_count                                             tokens  \n",
       "0          12  workers' collective  ownership  of  capital  n...  \n",
       "1           2                              hmmmmmmm  interesting  \n",
       "2          15  to  be  fair  credit  to  cratchit  just  for ...  \n",
       "3          11  game  show  hosts  they  re  are  truly  the  ...  \n",
       "4          12  i  think  the  better  explanation  is  who  a...  "
      ]
     },
     "execution_count": 5,
     "metadata": {},
     "output_type": "execute_result"
    }
   ],
   "source": [
    "eda_words.head()"
   ]
  },
  {
   "cell_type": "markdown",
   "metadata": {},
   "source": [
    "## Count Vectorizing"
   ]
  },
  {
   "cell_type": "markdown",
   "metadata": {},
   "source": [
    "Count Vectorizing is the process of splitting a body of text into single words and their associated count within the document. This is used as the foundation for model fitting."
   ]
  },
  {
   "cell_type": "code",
   "execution_count": 6,
   "metadata": {},
   "outputs": [],
   "source": [
    "X = eda_words.drop('libertarian', axis=1)\n",
    "y = eda_words['libertarian']"
   ]
  },
  {
   "cell_type": "code",
   "execution_count": 7,
   "metadata": {},
   "outputs": [],
   "source": [
    "X_train, X_test, y_train, y_test = train_test_split(X, y, stratify=y, random_state=42)"
   ]
  },
  {
   "cell_type": "code",
   "execution_count": 8,
   "metadata": {},
   "outputs": [],
   "source": [
    "custom_stop = [\n",
    "    'conservative',\n",
    "    'conservatives',\n",
    "    'libertarian',\n",
    "    'libertarians',\n",
    "    'don',\n",
    "    'isn',\n",
    "    'say',\n",
    "    'way',\n",
    "    'really',\n",
    "    'things',\n",
    "    'going',\n",
    "    'actually',\n",
    "    'make',\n",
    "    've',\n",
    "    'gt',\n",
    "    'doesn',\n",
    "    'does',\n",
    "    'know',\n",
    "    'good',\n",
    "    'want',\n",
    "    'did',\n",
    "    'pay',\n",
    "    'use',\n",
    "    'thing',\n",
    "    'sure',\n",
    "    'didn',\n",
    "    'like',\n",
    "    'just',\n",
    "    'did',\n",
    "    'll',\n",
    "    'bad',\n",
    "    'need',\n",
    "    'let',\n",
    "    'lot',\n",
    "    'libertarian',\n",
    "    'yes',\n",
    "    'sub',\n",
    "    'said',\n",
    "    'saying',\n",
    "    'pretty',\n",
    "    'got',\n",
    "    'amp',\n",
    "    'shit',\n",
    "    'look',\n",
    "    'aren',\n",
    "    'x200b',\n",
    "    '32',\n",
    "    '43',\n",
    "    '31',\n",
    "    '000',\n",
    "    'yeah',\n",
    "    'wikitextbot',\n",
    "    'sneakpeekbot',\n",
    "    'imguralbumbot',\n",
    "    \n",
    "    \n",
    "]\n",
    "\n",
    "stop_words = ENGLISH_STOP_WORDS.union(custom_stop)"
   ]
  },
  {
   "cell_type": "markdown",
   "metadata": {},
   "source": [
    "We saw in EDA that Tfidf identified a more informative syntatical difference between classes, suggesting it may be a better method for class prediction. Since the data is very wide, model fitting will likely perform better after the feature-space has been reduced by SVD, which also works best in conjunction with Tfidf vectorization. For model fitting and prediction, we will use Tfidf or Tfidf/SVD transformed data."
   ]
  },
  {
   "cell_type": "code",
   "execution_count": 9,
   "metadata": {},
   "outputs": [],
   "source": [
    "tfidf = TfidfVectorizer(strip_accents = 'unicode',  \n",
    "                        stop_words = stop_words, \n",
    "                        lowercase = True, \n",
    "                        min_df = 15, \n",
    "                        max_df = 1.0)"
   ]
  },
  {
   "cell_type": "markdown",
   "metadata": {},
   "source": [
    "Fitting and transforming the training data."
   ]
  },
  {
   "cell_type": "code",
   "execution_count": 10,
   "metadata": {},
   "outputs": [],
   "source": [
    "X_train_tfidf_mat = tfidf.fit_transform(X_train['tokens'])"
   ]
  },
  {
   "cell_type": "markdown",
   "metadata": {},
   "source": [
    "Checking the number of features"
   ]
  },
  {
   "cell_type": "code",
   "execution_count": 11,
   "metadata": {},
   "outputs": [
    {
     "data": {
      "text/plain": [
       "11323"
      ]
     },
     "execution_count": 11,
     "metadata": {},
     "output_type": "execute_result"
    }
   ],
   "source": [
    "len(tfidf.get_feature_names())"
   ]
  },
  {
   "cell_type": "markdown",
   "metadata": {},
   "source": [
    "Creating a sparse dataframe so the data can be saved out or used for SVD feature reduction."
   ]
  },
  {
   "cell_type": "code",
   "execution_count": 12,
   "metadata": {},
   "outputs": [],
   "source": [
    "X_train_tfidf = pd.SparseDataFrame(X_train_tfidf_mat, columns=tfidf.get_feature_names())"
   ]
  },
  {
   "cell_type": "code",
   "execution_count": 13,
   "metadata": {},
   "outputs": [],
   "source": [
    "X_test_tfidf = pd.SparseDataFrame(tfidf.transform(X_test['tokens']), columns=tfidf.get_feature_names())"
   ]
  },
  {
   "cell_type": "markdown",
   "metadata": {},
   "source": [
    "Converting to a COO sparse matrix to save out the data"
   ]
  },
  {
   "cell_type": "markdown",
   "metadata": {},
   "source": [
    "XtrainTFIDF_coo = X_train_tfidf.to_coo()\n",
    "XtestTFIDF_coo = X_test_tfidf.to_coo()"
   ]
  },
  {
   "cell_type": "markdown",
   "metadata": {},
   "source": [
    "columns = pd.Series(tfidf.get_feature_names())\n",
    "\n",
    "formatted_name, now, file_description = filename_format_log(file_path ='../assets/TFIDF_col.csv')\n",
    "columns.to_csv(formatted_name, index=False)"
   ]
  },
  {
   "cell_type": "markdown",
   "metadata": {},
   "source": [
    "formatted_name, now, file_description = filename_format_log(file_path ='../assets/XtrainTFIDF_coo.npz')\n",
    "sparse.save_npz(formatted_name, XtrainTFIDF_coo)\n",
    "\n",
    "formatted_name, now, file_description = filename_format_log(file_path ='../assets/XtestTFIDF_coo.npz')\n",
    "sparse.save_npz(formatted_name, XtestTFIDF_coo)\n",
    "\n",
    "formatted_name, now, file_description = filename_format_log(file_path ='../assets/y_train.csv')\n",
    "y_train.to_csv(formatted_name, index=False)\n",
    "\n",
    "formatted_name, now, file_description = filename_format_log(file_path ='../assets/y_test.csv')\n",
    "y_test.to_csv(formatted_name, index=False)"
   ]
  },
  {
   "cell_type": "markdown",
   "metadata": {},
   "source": [
    "## SVD"
   ]
  },
  {
   "cell_type": "markdown",
   "metadata": {},
   "source": [
    "Singular Value Decomposition is a linear algebra method for reducing the dimensionality of a matrix by evaluating which features contain the most information while eliminating colinearities. When used for text-based data in combination with Tfidf Vectorization, each feature is assigned \"meaning\" based on its usage, allowing for Latent Semantic Analysis (LSA) of a document. This method of compression allows for a importance weight to be assigned to each feature such that little information is lost while size of the data is greatly reduced."
   ]
  },
  {
   "cell_type": "markdown",
   "metadata": {},
   "source": [
    "Filling nulls with 0 for SVD."
   ]
  },
  {
   "cell_type": "code",
   "execution_count": 14,
   "metadata": {},
   "outputs": [],
   "source": [
    "X_train_tfidf.fillna(0, inplace=True)\n",
    "X_test_tfidf.fillna(0, inplace=True)"
   ]
  },
  {
   "cell_type": "code",
   "execution_count": 15,
   "metadata": {
    "scrolled": true
   },
   "outputs": [
    {
     "data": {
      "text/plain": [
       "(137531, 2000)"
      ]
     },
     "execution_count": 15,
     "metadata": {},
     "output_type": "execute_result"
    }
   ],
   "source": [
    "SVD = TruncatedSVD(n_components=2000, random_state=42)\n",
    "svd_matrix = SVD.fit_transform(X_train_tfidf)\n",
    "svd_matrix.shape"
   ]
  },
  {
   "cell_type": "code",
   "execution_count": null,
   "metadata": {},
   "outputs": [],
   "source": [
    "svd_test = SVD.transform(X_train_tfidf)"
   ]
  },
  {
   "cell_type": "code",
   "execution_count": 21,
   "metadata": {},
   "outputs": [
    {
     "data": {
      "text/plain": [
       "2.200496112"
      ]
     },
     "execution_count": 21,
     "metadata": {},
     "output_type": "execute_result"
    }
   ],
   "source": [
    "sys.getsizeof(svd_matrix) / 1e9"
   ]
  },
  {
   "cell_type": "code",
   "execution_count": 25,
   "metadata": {},
   "outputs": [],
   "source": [
    "TrainSVD_coo = sparse.coo_matrix(svd_matrix)"
   ]
  },
  {
   "cell_type": "code",
   "execution_count": 54,
   "metadata": {},
   "outputs": [
    {
     "data": {
      "text/plain": [
       "56"
      ]
     },
     "execution_count": 54,
     "metadata": {},
     "output_type": "execute_result"
    }
   ],
   "source": [
    "sys.getsizeof(TrainSVD_coo)"
   ]
  },
  {
   "cell_type": "code",
   "execution_count": 27,
   "metadata": {},
   "outputs": [
    {
     "data": {
      "text/plain": [
       "<137531x2000 sparse matrix of type '<class 'numpy.float64'>'\n",
       "\twith 268398000 stored elements in COOrdinate format>"
      ]
     },
     "execution_count": 27,
     "metadata": {},
     "output_type": "execute_result"
    }
   ],
   "source": [
    "TrainSVD_coo"
   ]
  },
  {
   "cell_type": "code",
   "execution_count": 28,
   "metadata": {},
   "outputs": [],
   "source": [
    "TestSVD_coo = sparse.coo_matrix(svd_test)"
   ]
  },
  {
   "cell_type": "markdown",
   "metadata": {},
   "source": [
    "formatted_name, now, file_description = filename_format_log(file_path ='../assets/XtrainSVD_coo.npz')\n",
    "sparse.save_npz(formatted_name, TrainSVD_coo)\n",
    "\n",
    "formatted_name, now, file_description = filename_format_log(file_path ='../assets/XtestSVD_coo.npz')\n",
    "sparse.save_npz(formatted_name, TestSVD_coo)"
   ]
  },
  {
   "cell_type": "markdown",
   "metadata": {},
   "source": [
    "formatted_name, now, file_description = filename_format_log(file_path ='../assets/XtrainSVD_raw.csv')\n",
    "np.savetxt(formatted_name, svd_matrix, delimiter=\",\")"
   ]
  },
  {
   "cell_type": "markdown",
   "metadata": {},
   "source": [
    "formatted_name, now, file_description = filename_format_log(file_path ='../assets/XtestSVD_raw.csv')\n",
    "np.savetxt(formatted_name, svd_test, delimiter=\",\")"
   ]
  },
  {
   "cell_type": "code",
   "execution_count": 33,
   "metadata": {},
   "outputs": [],
   "source": [
    "component_names = pd.Series([\"component_\"+str(i+1) for i in range(2000)])"
   ]
  },
  {
   "cell_type": "code",
   "execution_count": 34,
   "metadata": {},
   "outputs": [],
   "source": [
    "formatted_name, now, file_description = filename_format_log(file_path ='../assets/SVD_col.csv')\n",
    "component_names.to_csv(formatted_name, index=False)"
   ]
  },
  {
   "cell_type": "markdown",
   "metadata": {},
   "source": [
    "Checking the shape of the components matrix, note that 11323 was the original rank of our data."
   ]
  },
  {
   "cell_type": "code",
   "execution_count": 37,
   "metadata": {},
   "outputs": [
    {
     "data": {
      "text/plain": [
       "(2000, 11323)"
      ]
     },
     "execution_count": 37,
     "metadata": {},
     "output_type": "execute_result"
    }
   ],
   "source": [
    "SVD.components_.shape"
   ]
  },
  {
   "cell_type": "markdown",
   "metadata": {},
   "source": [
    "Plotting the explained variance to visually understand how much information is captured by the 100 features we selected during SVD. To maximize predictive power, I will set a threshold of 80% information retention to determine the size of the target feature-space."
   ]
  },
  {
   "cell_type": "code",
   "execution_count": 38,
   "metadata": {},
   "outputs": [
    {
     "data": {
      "image/png": "[encoded data removed]",
      "text/plain": [
       "<Figure size 1440x720 with 1 Axes>"
      ]
     },
     "metadata": {
      "needs_background": "light"
     },
     "output_type": "display_data"
    }
   ],
   "source": [
    "fig = plt.figure(figsize=(20,10))\n",
    "plt.bar(np.array(range(2000))+1, \n",
    "        SVD.explained_variance_ratio_, \n",
    "        color='g', \n",
    "        label='Explained Variance')\n",
    "plt.plot(np.array(range(2000))+1, \n",
    "         np.cumsum(SVD.explained_variance_ratio_), \n",
    "         label='Cumulative Explained Variance')\n",
    "plt.legend(fontsize=16)\n",
    "plt.xlabel('Component', fontsize=20)\n",
    "plt.ylabel('Variance Ratio', fontsize=20)\n",
    "plt.title('Explained Variance by Component', fontsize=36);"
   ]
  },
  {
   "cell_type": "markdown",
   "metadata": {},
   "source": [
    "Checking to see how much variance was explained by the feature reduction."
   ]
  },
  {
   "cell_type": "code",
   "execution_count": 39,
   "metadata": {},
   "outputs": [
    {
     "data": {
      "text/plain": [
       "array([0.55805373, 0.55820968, 0.55836555, 0.55852133, 0.55867704,\n",
       "       0.55883271, 0.55898827, 0.55914372, 0.55929909, 0.55945433,\n",
       "       0.55960952, 0.55976464, 0.55991953, 0.56007439, 0.56022915,\n",
       "       0.56038391, 0.56053853, 0.56069311, 0.56084755, 0.56100192,\n",
       "       0.56115612, 0.5613102 , 0.5614642 , 0.56161814, 0.56177203,\n",
       "       0.56192584, 0.56207953, 0.56223315, 0.56238662, 0.56254001,\n",
       "       0.56269328, 0.56284644, 0.56299948, 0.56315239, 0.56330526,\n",
       "       0.56345802, 0.56361076, 0.5637633 , 0.5639157 , 0.56406806,\n",
       "       0.56422037, 0.56437263, 0.56452485, 0.564677  , 0.56482899,\n",
       "       0.56498084, 0.56513259, 0.56528427, 0.56543587, 0.56558742,\n",
       "       0.56573881, 0.56589013, 0.56604132, 0.56619244, 0.56634346,\n",
       "       0.56649434, 0.5666452 , 0.56679599, 0.56694668, 0.56709733,\n",
       "       0.56724786, 0.56739831, 0.56754874, 0.56769904, 0.56784919,\n",
       "       0.56799935, 0.56814934, 0.56829922, 0.56844897, 0.56859866,\n",
       "       0.56874828, 0.56889784, 0.56904734, 0.56919666, 0.56934589,\n",
       "       0.56949502, 0.56964397, 0.56979279, 0.56994159, 0.57009031,\n",
       "       0.57023893, 0.57038747, 0.57053594, 0.57068422, 0.57083245,\n",
       "       0.57098063, 0.57112872, 0.57127664, 0.57142449, 0.57157225,\n",
       "       0.57171991, 0.5718675 , 0.57201503, 0.5721624 , 0.5723097 ,\n",
       "       0.57245691, 0.57260397, 0.572751  , 0.57289792, 0.57304477,\n",
       "       0.57319149, 0.57333807, 0.57348461, 0.57363112, 0.57377747,\n",
       "       0.57392372, 0.57406991, 0.574216  , 0.57436204, 0.57450791,\n",
       "       0.57465374, 0.57479946, 0.57494513, 0.57509073, 0.57523624,\n",
       "       0.57538169, 0.57552711, 0.57567245, 0.57581771, 0.5759629 ,\n",
       "       0.57610799, 0.57625298, 0.57639788, 0.57654258, 0.57668719,\n",
       "       0.57683178, 0.57697623, 0.5771206 , 0.5772649 , 0.57740915,\n",
       "       0.57755322, 0.57769713, 0.57784095, 0.57798464, 0.57812826,\n",
       "       0.57827181, 0.57841531, 0.57855869, 0.57870193, 0.57884505,\n",
       "       0.57898814, 0.57913114, 0.57927409, 0.57941693, 0.5795597 ,\n",
       "       0.57970239, 0.579845  , 0.57998754, 0.58012997, 0.58027231,\n",
       "       0.58041456, 0.58055673, 0.5806988 , 0.58084081, 0.58098275,\n",
       "       0.58112457, 0.58126633, 0.58140799, 0.58154961, 0.58169119,\n",
       "       0.58183269, 0.58197384, 0.58211493, 0.58225597, 0.58239693,\n",
       "       0.58253779, 0.58267857, 0.58281929, 0.58295992, 0.58310051,\n",
       "       0.58324099, 0.5833814 , 0.58352169, 0.58366189, 0.58380201,\n",
       "       0.58394201, 0.5840819 , 0.58422172, 0.58436148, 0.58450105,\n",
       "       0.58464055, 0.58477993, 0.58491919, 0.58505837, 0.58519751,\n",
       "       0.58533656, 0.58547547, 0.58561431, 0.58575304, 0.58589176,\n",
       "       0.58603031, 0.58616877, 0.58630716, 0.58644548, 0.58658363,\n",
       "       0.58672173, 0.58685975, 0.58699766, 0.58713554, 0.58727329,\n",
       "       0.58741099, 0.58754856, 0.58768605, 0.5878235 , 0.58796078,\n",
       "       0.58809796, 0.58823507, 0.58837205, 0.58850897, 0.58864574,\n",
       "       0.58878248, 0.58891919, 0.58905578, 0.58919234, 0.58932878,\n",
       "       0.5894652 , 0.58960152, 0.5897378 , 0.58987394, 0.59000993,\n",
       "       0.5901458 , 0.59028163, 0.59041729, 0.59055286, 0.59068832,\n",
       "       0.59082371, 0.59095898, 0.59109421, 0.59122936, 0.59136444,\n",
       "       0.59149942, 0.59163426, 0.59176898, 0.59190364, 0.59203825,\n",
       "       0.59217269, 0.59230706, 0.59244133, 0.5925755 , 0.59270966,\n",
       "       0.59284366, 0.59297755, 0.59311141, 0.59324517, 0.59337884,\n",
       "       0.59351241, 0.59364595, 0.59377937, 0.59391271, 0.59404594,\n",
       "       0.59417911, 0.59431217, 0.5944451 , 0.59457798, 0.59471073,\n",
       "       0.59484341, 0.59497605, 0.59510858, 0.59524097, 0.59537334,\n",
       "       0.5955056 , 0.59563778, 0.59576988, 0.59590189, 0.59603377,\n",
       "       0.59616544, 0.59629709, 0.5964286 , 0.5965601 , 0.59669153,\n",
       "       0.59682287, 0.5969542 , 0.59708536, 0.59721639, 0.59734739,\n",
       "       0.5974783 , 0.59760906, 0.59773979, 0.59787041, 0.59800095,\n",
       "       0.59813142, 0.5982618 , 0.59839204, 0.59852224, 0.5986524 ,\n",
       "       0.59878241, 0.59891239, 0.59904235, 0.59917211, 0.59930185,\n",
       "       0.59943143, 0.59956093, 0.59969034, 0.59981963, 0.59994885,\n",
       "       0.60007797, 0.60020701, 0.600336  , 0.60046487, 0.60059369,\n",
       "       0.60072235, 0.60085094, 0.60097948, 0.60110788, 0.60123621,\n",
       "       0.60136451, 0.60149277, 0.60162084, 0.60174877, 0.60187658,\n",
       "       0.60200433, 0.60213203, 0.60225962, 0.60238713, 0.60251456,\n",
       "       0.60264192, 0.6027692 , 0.60289635, 0.6030234 , 0.6031504 ,\n",
       "       0.60327737, 0.60340415, 0.60353083, 0.60365745, 0.60378399,\n",
       "       0.60391041, 0.6040368 , 0.6041631 , 0.60428931, 0.60441543,\n",
       "       0.6045415 , 0.60466744, 0.60479328, 0.60491903, 0.60504474,\n",
       "       0.6051702 , 0.60529562, 0.60542093, 0.60554621, 0.60567146,\n",
       "       0.60579659, 0.60592168, 0.60604664, 0.60617149, 0.60629626,\n",
       "       0.60642094, 0.60654557, 0.60667009, 0.60679447, 0.60691874,\n",
       "       0.60704299, 0.60716709, 0.60729113, 0.6074151 , 0.60753898,\n",
       "       0.60766277, 0.60778654, 0.60791013, 0.60803365, 0.60815706,\n",
       "       0.60828041, 0.60840367, 0.6085269 , 0.60865011, 0.60877311,\n",
       "       0.60889602, 0.6090189 , 0.60914168, 0.6092644 , 0.60938702,\n",
       "       0.6095095 , 0.60963195, 0.60975428, 0.60987647, 0.60999862,\n",
       "       0.61012071, 0.61024265, 0.6103645 , 0.6104862 , 0.61060786,\n",
       "       0.61072938, 0.61085085, 0.61097225, 0.6110935 , 0.61121467,\n",
       "       0.61133573, 0.61145675, 0.61157772, 0.61169864, 0.61181948,\n",
       "       0.61194023, 0.61206092, 0.61218148, 0.61230202, 0.61242231,\n",
       "       0.6125425 , 0.61266263, 0.61278258, 0.61290251, 0.61302234,\n",
       "       0.61314203, 0.61326167, 0.61338124, 0.61350075, 0.6136202 ,\n",
       "       0.61373954, 0.61385883, 0.61397805, 0.61409722, 0.61421626,\n",
       "       0.61433523, 0.61445407, 0.61457279, 0.61469137, 0.61480985,\n",
       "       0.61492824, 0.61504659, 0.61516485, 0.61528298, 0.61540102,\n",
       "       0.615519  , 0.61563688, 0.61575466, 0.61587241, 0.61599011,\n",
       "       0.61610763, 0.61622506, 0.61634239, 0.61645962, 0.6165768 ,\n",
       "       0.61669392, 0.61681096, 0.61692787, 0.61704469, 0.61716146,\n",
       "       0.61727816, 0.6173948 , 0.61751141, 0.61762794, 0.61774436,\n",
       "       0.61786064, 0.61797683, 0.61809287, 0.6182088 , 0.61832465,\n",
       "       0.61844045, 0.61855618, 0.61867177, 0.61878733, 0.61890279,\n",
       "       0.61901806, 0.61913319, 0.61924827, 0.61936322, 0.61947807,\n",
       "       0.6195928 , 0.61970752, 0.61982214, 0.61993658, 0.62005093,\n",
       "       0.62016514, 0.62027918, 0.62039317, 0.620507  , 0.62062075,\n",
       "       0.62073447, 0.6208481 , 0.62096167, 0.62107515, 0.62118862,\n",
       "       0.62130201, 0.62141516, 0.62152819, 0.6216412 , 0.62175407,\n",
       "       0.6218668 , 0.62197943, 0.62209195, 0.62220426, 0.62231654,\n",
       "       0.62242878, 0.62254095, 0.62265303, 0.62276503, 0.62287696,\n",
       "       0.6229888 , 0.62310047, 0.62321211, 0.62332344, 0.6234347 ,\n",
       "       0.62354594, 0.62365703, 0.62376799, 0.62387886, 0.62398962,\n",
       "       0.62410036, 0.62421099, 0.62432152, 0.62443201, 0.62454243,\n",
       "       0.62465266, 0.62476275, 0.62487274, 0.62498267, 0.62509241,\n",
       "       0.62520203, 0.6253116 , 0.6254211 , 0.6255304 , 0.62563953,\n",
       "       0.62574862, 0.62585755, 0.62596637, 0.62607516, 0.62618388,\n",
       "       0.62629234, 0.62640071, 0.6265089 , 0.62661706, 0.62672516,\n",
       "       0.62683307, 0.62694095, 0.62704876, 0.62715629, 0.6272638 ,\n",
       "       0.62737123, 0.62747836, 0.62758544, 0.62769246, 0.62779924,\n",
       "       0.62790594, 0.62801251, 0.62811891, 0.62822525, 0.62833136,\n",
       "       0.62843735, 0.62854321, 0.62864896, 0.62875447, 0.6288599 ,\n",
       "       0.62896519, 0.62907027, 0.62917526, 0.62927993, 0.62938445,\n",
       "       0.62948887, 0.6295932 , 0.62969741, 0.62980141, 0.62990524])"
      ]
     },
     "execution_count": 39,
     "metadata": {},
     "output_type": "execute_result"
    }
   ],
   "source": [
    "np.cumsum(SVD.explained_variance_)[1450:]"
   ]
  },
  {
   "cell_type": "code",
   "execution_count": 40,
   "metadata": {},
   "outputs": [
    {
     "data": {
      "text/plain": [
       "2000"
      ]
     },
     "execution_count": 40,
     "metadata": {},
     "output_type": "execute_result"
    }
   ],
   "source": [
    "np.where(np.cumsum(SVD.explained_variance_ratio_) < .8)[0][-1]+1"
   ]
  },
  {
   "cell_type": "code",
   "execution_count": 41,
   "metadata": {},
   "outputs": [],
   "source": [
    "component_names = [\"component_\"+str(i+1) for i in range(2000)]\n",
    "svd_df = pd.SparseDataFrame(svd_matrix,columns=component_names)"
   ]
  },
  {
   "cell_type": "code",
   "execution_count": 42,
   "metadata": {},
   "outputs": [
    {
     "data": {
      "text/html": [
       "<div>\n",
       "<style scoped>\n",
       "    .dataframe tbody tr th:only-of-type {\n",
       "        vertical-align: middle;\n",
       "    }\n",
       "\n",
       "    .dataframe tbody tr th {\n",
       "        vertical-align: top;\n",
       "    }\n",
       "\n",
       "    .dataframe thead th {\n",
       "        text-align: right;\n",
       "    }\n",
       "</style>\n",
       "<table border=\"1\" class=\"dataframe\">\n",
       "  <thead>\n",
       "    <tr style=\"text-align: right;\">\n",
       "      <th></th>\n",
       "      <th>component_1</th>\n",
       "      <th>component_2</th>\n",
       "      <th>component_3</th>\n",
       "      <th>component_4</th>\n",
       "      <th>component_5</th>\n",
       "      <th>component_6</th>\n",
       "      <th>component_7</th>\n",
       "      <th>component_8</th>\n",
       "      <th>component_9</th>\n",
       "      <th>component_10</th>\n",
       "      <th>...</th>\n",
       "      <th>component_1991</th>\n",
       "      <th>component_1992</th>\n",
       "      <th>component_1993</th>\n",
       "      <th>component_1994</th>\n",
       "      <th>component_1995</th>\n",
       "      <th>component_1996</th>\n",
       "      <th>component_1997</th>\n",
       "      <th>component_1998</th>\n",
       "      <th>component_1999</th>\n",
       "      <th>component_2000</th>\n",
       "    </tr>\n",
       "  </thead>\n",
       "  <tbody>\n",
       "    <tr>\n",
       "      <th>0</th>\n",
       "      <td>0.037019</td>\n",
       "      <td>-0.000212</td>\n",
       "      <td>0.001245</td>\n",
       "      <td>-0.015726</td>\n",
       "      <td>-0.012006</td>\n",
       "      <td>0.000506</td>\n",
       "      <td>0.007479</td>\n",
       "      <td>-0.009837</td>\n",
       "      <td>-0.013937</td>\n",
       "      <td>-0.000605</td>\n",
       "      <td>...</td>\n",
       "      <td>-0.002328</td>\n",
       "      <td>0.001012</td>\n",
       "      <td>-0.001449</td>\n",
       "      <td>-0.004495</td>\n",
       "      <td>-0.003386</td>\n",
       "      <td>-0.017899</td>\n",
       "      <td>0.011819</td>\n",
       "      <td>0.001228</td>\n",
       "      <td>0.003964</td>\n",
       "      <td>0.001882</td>\n",
       "    </tr>\n",
       "    <tr>\n",
       "      <th>1</th>\n",
       "      <td>0.060159</td>\n",
       "      <td>-0.005050</td>\n",
       "      <td>0.001202</td>\n",
       "      <td>-0.014899</td>\n",
       "      <td>-0.022917</td>\n",
       "      <td>0.000866</td>\n",
       "      <td>0.009888</td>\n",
       "      <td>-0.013411</td>\n",
       "      <td>-0.015295</td>\n",
       "      <td>-0.016358</td>\n",
       "      <td>...</td>\n",
       "      <td>-0.001926</td>\n",
       "      <td>-0.020678</td>\n",
       "      <td>0.005265</td>\n",
       "      <td>-0.006256</td>\n",
       "      <td>0.004927</td>\n",
       "      <td>-0.023348</td>\n",
       "      <td>-0.006556</td>\n",
       "      <td>-0.003822</td>\n",
       "      <td>0.028763</td>\n",
       "      <td>0.011147</td>\n",
       "    </tr>\n",
       "    <tr>\n",
       "      <th>2</th>\n",
       "      <td>0.020463</td>\n",
       "      <td>0.001249</td>\n",
       "      <td>0.001282</td>\n",
       "      <td>-0.005800</td>\n",
       "      <td>-0.004521</td>\n",
       "      <td>0.007947</td>\n",
       "      <td>0.007065</td>\n",
       "      <td>-0.006124</td>\n",
       "      <td>-0.005303</td>\n",
       "      <td>-0.002730</td>\n",
       "      <td>...</td>\n",
       "      <td>-0.048518</td>\n",
       "      <td>-0.031312</td>\n",
       "      <td>0.026564</td>\n",
       "      <td>-0.008027</td>\n",
       "      <td>-0.033640</td>\n",
       "      <td>0.018032</td>\n",
       "      <td>-0.012117</td>\n",
       "      <td>-0.009270</td>\n",
       "      <td>-0.021856</td>\n",
       "      <td>-0.019092</td>\n",
       "    </tr>\n",
       "    <tr>\n",
       "      <th>3</th>\n",
       "      <td>0.076860</td>\n",
       "      <td>0.008881</td>\n",
       "      <td>0.021480</td>\n",
       "      <td>-0.070961</td>\n",
       "      <td>-0.004598</td>\n",
       "      <td>0.139658</td>\n",
       "      <td>-0.032231</td>\n",
       "      <td>-0.001718</td>\n",
       "      <td>0.022011</td>\n",
       "      <td>0.028361</td>\n",
       "      <td>...</td>\n",
       "      <td>-0.000368</td>\n",
       "      <td>0.005717</td>\n",
       "      <td>-0.005478</td>\n",
       "      <td>-0.012041</td>\n",
       "      <td>0.020129</td>\n",
       "      <td>-0.011111</td>\n",
       "      <td>0.008026</td>\n",
       "      <td>-0.004060</td>\n",
       "      <td>-0.021796</td>\n",
       "      <td>-0.011386</td>\n",
       "    </tr>\n",
       "    <tr>\n",
       "      <th>4</th>\n",
       "      <td>0.046109</td>\n",
       "      <td>0.002497</td>\n",
       "      <td>0.004003</td>\n",
       "      <td>-0.016710</td>\n",
       "      <td>-0.008207</td>\n",
       "      <td>0.016202</td>\n",
       "      <td>0.018561</td>\n",
       "      <td>-0.018017</td>\n",
       "      <td>-0.018794</td>\n",
       "      <td>-0.009325</td>\n",
       "      <td>...</td>\n",
       "      <td>0.025005</td>\n",
       "      <td>-0.017626</td>\n",
       "      <td>-0.023984</td>\n",
       "      <td>0.003314</td>\n",
       "      <td>-0.008179</td>\n",
       "      <td>-0.015589</td>\n",
       "      <td>-0.035660</td>\n",
       "      <td>0.019742</td>\n",
       "      <td>-0.017114</td>\n",
       "      <td>-0.010257</td>\n",
       "    </tr>\n",
       "  </tbody>\n",
       "</table>\n",
       "<p>5 rows × 2000 columns</p>\n",
       "</div>"
      ],
      "text/plain": [
       "   component_1  component_2  component_3  component_4  component_5  \\\n",
       "0     0.037019    -0.000212     0.001245    -0.015726    -0.012006   \n",
       "1     0.060159    -0.005050     0.001202    -0.014899    -0.022917   \n",
       "2     0.020463     0.001249     0.001282    -0.005800    -0.004521   \n",
       "3     0.076860     0.008881     0.021480    -0.070961    -0.004598   \n",
       "4     0.046109     0.002497     0.004003    -0.016710    -0.008207   \n",
       "\n",
       "   component_6  component_7  component_8  component_9  component_10  \\\n",
       "0     0.000506     0.007479    -0.009837    -0.013937     -0.000605   \n",
       "1     0.000866     0.009888    -0.013411    -0.015295     -0.016358   \n",
       "2     0.007947     0.007065    -0.006124    -0.005303     -0.002730   \n",
       "3     0.139658    -0.032231    -0.001718     0.022011      0.028361   \n",
       "4     0.016202     0.018561    -0.018017    -0.018794     -0.009325   \n",
       "\n",
       "        ...        component_1991  component_1992  component_1993  \\\n",
       "0       ...             -0.002328        0.001012       -0.001449   \n",
       "1       ...             -0.001926       -0.020678        0.005265   \n",
       "2       ...             -0.048518       -0.031312        0.026564   \n",
       "3       ...             -0.000368        0.005717       -0.005478   \n",
       "4       ...              0.025005       -0.017626       -0.023984   \n",
       "\n",
       "   component_1994  component_1995  component_1996  component_1997  \\\n",
       "0       -0.004495       -0.003386       -0.017899        0.011819   \n",
       "1       -0.006256        0.004927       -0.023348       -0.006556   \n",
       "2       -0.008027       -0.033640        0.018032       -0.012117   \n",
       "3       -0.012041        0.020129       -0.011111        0.008026   \n",
       "4        0.003314       -0.008179       -0.015589       -0.035660   \n",
       "\n",
       "   component_1998  component_1999  component_2000  \n",
       "0        0.001228        0.003964        0.001882  \n",
       "1       -0.003822        0.028763        0.011147  \n",
       "2       -0.009270       -0.021856       -0.019092  \n",
       "3       -0.004060       -0.021796       -0.011386  \n",
       "4        0.019742       -0.017114       -0.010257  \n",
       "\n",
       "[5 rows x 2000 columns]"
      ]
     },
     "execution_count": 42,
     "metadata": {},
     "output_type": "execute_result"
    }
   ],
   "source": [
    "svd_df.head()"
   ]
  },
  {
   "cell_type": "code",
   "execution_count": 43,
   "metadata": {},
   "outputs": [],
   "source": [
    "loadings = pd.SparseDataFrame(SVD.components_,\n",
    "                              index=component_names,\n",
    "                              columns=X_train_tfidf.columns).T"
   ]
  },
  {
   "cell_type": "code",
   "execution_count": 44,
   "metadata": {},
   "outputs": [],
   "source": [
    "loadings['abs_component_1'] = np.abs(loadings.component_1)\n",
    "loadings['abs_component_2'] = np.abs(loadings.component_2)"
   ]
  },
  {
   "cell_type": "code",
   "execution_count": 45,
   "metadata": {},
   "outputs": [
    {
     "data": {
      "text/html": [
       "<div>\n",
       "<style scoped>\n",
       "    .dataframe tbody tr th:only-of-type {\n",
       "        vertical-align: middle;\n",
       "    }\n",
       "\n",
       "    .dataframe tbody tr th {\n",
       "        vertical-align: top;\n",
       "    }\n",
       "\n",
       "    .dataframe thead th {\n",
       "        text-align: right;\n",
       "    }\n",
       "</style>\n",
       "<table border=\"1\" class=\"dataframe\">\n",
       "  <thead>\n",
       "    <tr style=\"text-align: right;\">\n",
       "      <th></th>\n",
       "      <th>component_1</th>\n",
       "      <th>component_2</th>\n",
       "      <th>component_3</th>\n",
       "      <th>component_4</th>\n",
       "      <th>component_5</th>\n",
       "      <th>component_6</th>\n",
       "      <th>component_7</th>\n",
       "      <th>component_8</th>\n",
       "      <th>component_9</th>\n",
       "      <th>component_10</th>\n",
       "      <th>...</th>\n",
       "      <th>component_1993</th>\n",
       "      <th>component_1994</th>\n",
       "      <th>component_1995</th>\n",
       "      <th>component_1996</th>\n",
       "      <th>component_1997</th>\n",
       "      <th>component_1998</th>\n",
       "      <th>component_1999</th>\n",
       "      <th>component_2000</th>\n",
       "      <th>abs_component_1</th>\n",
       "      <th>abs_component_2</th>\n",
       "    </tr>\n",
       "  </thead>\n",
       "  <tbody>\n",
       "    <tr>\n",
       "      <th>00</th>\n",
       "      <td>0.000316</td>\n",
       "      <td>0.000029</td>\n",
       "      <td>-0.000110</td>\n",
       "      <td>-0.000047</td>\n",
       "      <td>-0.000005</td>\n",
       "      <td>0.000132</td>\n",
       "      <td>0.000160</td>\n",
       "      <td>-0.000118</td>\n",
       "      <td>-0.000046</td>\n",
       "      <td>-0.000129</td>\n",
       "      <td>...</td>\n",
       "      <td>-0.000211</td>\n",
       "      <td>-0.000898</td>\n",
       "      <td>-0.000603</td>\n",
       "      <td>-0.000491</td>\n",
       "      <td>0.000929</td>\n",
       "      <td>-0.000308</td>\n",
       "      <td>-0.002369</td>\n",
       "      <td>-0.000754</td>\n",
       "      <td>0.000316</td>\n",
       "      <td>0.000029</td>\n",
       "    </tr>\n",
       "    <tr>\n",
       "      <th>01</th>\n",
       "      <td>0.000650</td>\n",
       "      <td>-0.000037</td>\n",
       "      <td>0.000099</td>\n",
       "      <td>-0.000533</td>\n",
       "      <td>-0.000129</td>\n",
       "      <td>0.000258</td>\n",
       "      <td>0.000188</td>\n",
       "      <td>-0.000340</td>\n",
       "      <td>-0.000244</td>\n",
       "      <td>-0.000549</td>\n",
       "      <td>...</td>\n",
       "      <td>-0.001565</td>\n",
       "      <td>-0.002111</td>\n",
       "      <td>-0.002589</td>\n",
       "      <td>-0.001454</td>\n",
       "      <td>0.001811</td>\n",
       "      <td>0.001513</td>\n",
       "      <td>-0.002386</td>\n",
       "      <td>-0.000149</td>\n",
       "      <td>0.000650</td>\n",
       "      <td>0.000037</td>\n",
       "    </tr>\n",
       "    <tr>\n",
       "      <th>02</th>\n",
       "      <td>0.000426</td>\n",
       "      <td>-0.000006</td>\n",
       "      <td>-0.000003</td>\n",
       "      <td>-0.000309</td>\n",
       "      <td>-0.000194</td>\n",
       "      <td>0.000028</td>\n",
       "      <td>0.000195</td>\n",
       "      <td>-0.000189</td>\n",
       "      <td>-0.000216</td>\n",
       "      <td>-0.000303</td>\n",
       "      <td>...</td>\n",
       "      <td>0.001447</td>\n",
       "      <td>-0.002653</td>\n",
       "      <td>0.000370</td>\n",
       "      <td>-0.000893</td>\n",
       "      <td>0.001520</td>\n",
       "      <td>-0.000340</td>\n",
       "      <td>0.001284</td>\n",
       "      <td>-0.000967</td>\n",
       "      <td>0.000426</td>\n",
       "      <td>0.000006</td>\n",
       "    </tr>\n",
       "    <tr>\n",
       "      <th>03</th>\n",
       "      <td>0.000502</td>\n",
       "      <td>-0.000021</td>\n",
       "      <td>0.000296</td>\n",
       "      <td>-0.000045</td>\n",
       "      <td>-0.000181</td>\n",
       "      <td>0.000235</td>\n",
       "      <td>0.000065</td>\n",
       "      <td>-0.000256</td>\n",
       "      <td>-0.000111</td>\n",
       "      <td>-0.000274</td>\n",
       "      <td>...</td>\n",
       "      <td>-0.001030</td>\n",
       "      <td>0.000716</td>\n",
       "      <td>-0.002152</td>\n",
       "      <td>0.000631</td>\n",
       "      <td>-0.000500</td>\n",
       "      <td>0.001196</td>\n",
       "      <td>-0.001306</td>\n",
       "      <td>0.000804</td>\n",
       "      <td>0.000502</td>\n",
       "      <td>0.000021</td>\n",
       "    </tr>\n",
       "    <tr>\n",
       "      <th>04</th>\n",
       "      <td>0.000322</td>\n",
       "      <td>-0.000017</td>\n",
       "      <td>0.000157</td>\n",
       "      <td>-0.000048</td>\n",
       "      <td>-0.000102</td>\n",
       "      <td>0.000242</td>\n",
       "      <td>0.000003</td>\n",
       "      <td>-0.000141</td>\n",
       "      <td>-0.000144</td>\n",
       "      <td>-0.000204</td>\n",
       "      <td>...</td>\n",
       "      <td>-0.001627</td>\n",
       "      <td>0.001478</td>\n",
       "      <td>0.000218</td>\n",
       "      <td>-0.000208</td>\n",
       "      <td>-0.001829</td>\n",
       "      <td>0.000093</td>\n",
       "      <td>0.000599</td>\n",
       "      <td>-0.001874</td>\n",
       "      <td>0.000322</td>\n",
       "      <td>0.000017</td>\n",
       "    </tr>\n",
       "  </tbody>\n",
       "</table>\n",
       "<p>5 rows × 2002 columns</p>\n",
       "</div>"
      ],
      "text/plain": [
       "    component_1  component_2  component_3  component_4  component_5  \\\n",
       "00     0.000316     0.000029    -0.000110    -0.000047    -0.000005   \n",
       "01     0.000650    -0.000037     0.000099    -0.000533    -0.000129   \n",
       "02     0.000426    -0.000006    -0.000003    -0.000309    -0.000194   \n",
       "03     0.000502    -0.000021     0.000296    -0.000045    -0.000181   \n",
       "04     0.000322    -0.000017     0.000157    -0.000048    -0.000102   \n",
       "\n",
       "    component_6  component_7  component_8  component_9  component_10  \\\n",
       "00     0.000132     0.000160    -0.000118    -0.000046     -0.000129   \n",
       "01     0.000258     0.000188    -0.000340    -0.000244     -0.000549   \n",
       "02     0.000028     0.000195    -0.000189    -0.000216     -0.000303   \n",
       "03     0.000235     0.000065    -0.000256    -0.000111     -0.000274   \n",
       "04     0.000242     0.000003    -0.000141    -0.000144     -0.000204   \n",
       "\n",
       "         ...         component_1993  component_1994  component_1995  \\\n",
       "00       ...              -0.000211       -0.000898       -0.000603   \n",
       "01       ...              -0.001565       -0.002111       -0.002589   \n",
       "02       ...               0.001447       -0.002653        0.000370   \n",
       "03       ...              -0.001030        0.000716       -0.002152   \n",
       "04       ...              -0.001627        0.001478        0.000218   \n",
       "\n",
       "    component_1996  component_1997  component_1998  component_1999  \\\n",
       "00       -0.000491        0.000929       -0.000308       -0.002369   \n",
       "01       -0.001454        0.001811        0.001513       -0.002386   \n",
       "02       -0.000893        0.001520       -0.000340        0.001284   \n",
       "03        0.000631       -0.000500        0.001196       -0.001306   \n",
       "04       -0.000208       -0.001829        0.000093        0.000599   \n",
       "\n",
       "    component_2000  abs_component_1  abs_component_2  \n",
       "00       -0.000754         0.000316         0.000029  \n",
       "01       -0.000149         0.000650         0.000037  \n",
       "02       -0.000967         0.000426         0.000006  \n",
       "03        0.000804         0.000502         0.000021  \n",
       "04       -0.001874         0.000322         0.000017  \n",
       "\n",
       "[5 rows x 2002 columns]"
      ]
     },
     "execution_count": 45,
     "metadata": {},
     "output_type": "execute_result"
    }
   ],
   "source": [
    "loadings.head()"
   ]
  },
  {
   "cell_type": "code",
   "execution_count": 46,
   "metadata": {
    "scrolled": true
   },
   "outputs": [
    {
     "data": {
      "text/html": [
       "<div>\n",
       "<style scoped>\n",
       "    .dataframe tbody tr th:only-of-type {\n",
       "        vertical-align: middle;\n",
       "    }\n",
       "\n",
       "    .dataframe tbody tr th {\n",
       "        vertical-align: top;\n",
       "    }\n",
       "\n",
       "    .dataframe thead th {\n",
       "        text-align: right;\n",
       "    }\n",
       "</style>\n",
       "<table border=\"1\" class=\"dataframe\">\n",
       "  <thead>\n",
       "    <tr style=\"text-align: right;\">\n",
       "      <th></th>\n",
       "      <th>component_1</th>\n",
       "    </tr>\n",
       "  </thead>\n",
       "  <tbody>\n",
       "    <tr>\n",
       "      <th>people</th>\n",
       "      <td>0.480621</td>\n",
       "    </tr>\n",
       "    <tr>\n",
       "      <th>think</th>\n",
       "      <td>0.260281</td>\n",
       "    </tr>\n",
       "    <tr>\n",
       "      <th>right</th>\n",
       "      <td>0.240610</td>\n",
       "    </tr>\n",
       "    <tr>\n",
       "      <th>government</th>\n",
       "      <td>0.188147</td>\n",
       "    </tr>\n",
       "    <tr>\n",
       "      <th>trump</th>\n",
       "      <td>0.126642</td>\n",
       "    </tr>\n",
       "    <tr>\n",
       "      <th>time</th>\n",
       "      <td>0.112148</td>\n",
       "    </tr>\n",
       "    <tr>\n",
       "      <th>free</th>\n",
       "      <td>0.109262</td>\n",
       "    </tr>\n",
       "    <tr>\n",
       "      <th>point</th>\n",
       "      <td>0.106321</td>\n",
       "    </tr>\n",
       "    <tr>\n",
       "      <th>left</th>\n",
       "      <td>0.106191</td>\n",
       "    </tr>\n",
       "    <tr>\n",
       "      <th>work</th>\n",
       "      <td>0.090204</td>\n",
       "    </tr>\n",
       "    <tr>\n",
       "      <th>money</th>\n",
       "      <td>0.088546</td>\n",
       "    </tr>\n",
       "    <tr>\n",
       "      <th>mean</th>\n",
       "      <td>0.085090</td>\n",
       "    </tr>\n",
       "    <tr>\n",
       "      <th>state</th>\n",
       "      <td>0.083874</td>\n",
       "    </tr>\n",
       "    <tr>\n",
       "      <th>vote</th>\n",
       "      <td>0.079214</td>\n",
       "    </tr>\n",
       "    <tr>\n",
       "      <th>believe</th>\n",
       "      <td>0.076360</td>\n",
       "    </tr>\n",
       "    <tr>\n",
       "      <th>lol</th>\n",
       "      <td>0.076273</td>\n",
       "    </tr>\n",
       "    <tr>\n",
       "      <th>better</th>\n",
       "      <td>0.071748</td>\n",
       "    </tr>\n",
       "    <tr>\n",
       "      <th>wrong</th>\n",
       "      <td>0.070675</td>\n",
       "    </tr>\n",
       "    <tr>\n",
       "      <th>agree</th>\n",
       "      <td>0.070046</td>\n",
       "    </tr>\n",
       "    <tr>\n",
       "      <th>country</th>\n",
       "      <td>0.065376</td>\n",
       "    </tr>\n",
       "  </tbody>\n",
       "</table>\n",
       "</div>"
      ],
      "text/plain": [
       "            component_1\n",
       "people         0.480621\n",
       "think          0.260281\n",
       "right          0.240610\n",
       "government     0.188147\n",
       "trump          0.126642\n",
       "time           0.112148\n",
       "free           0.109262\n",
       "point          0.106321\n",
       "left           0.106191\n",
       "work           0.090204\n",
       "money          0.088546\n",
       "mean           0.085090\n",
       "state          0.083874\n",
       "vote           0.079214\n",
       "believe        0.076360\n",
       "lol            0.076273\n",
       "better         0.071748\n",
       "wrong          0.070675\n",
       "agree          0.070046\n",
       "country        0.065376"
      ]
     },
     "execution_count": 46,
     "metadata": {},
     "output_type": "execute_result"
    }
   ],
   "source": [
    "loadings.sort_values('abs_component_1',ascending=False).head(20)[['component_1']]"
   ]
  },
  {
   "cell_type": "code",
   "execution_count": 47,
   "metadata": {},
   "outputs": [
    {
     "data": {
      "text/html": [
       "<div>\n",
       "<style scoped>\n",
       "    .dataframe tbody tr th:only-of-type {\n",
       "        vertical-align: middle;\n",
       "    }\n",
       "\n",
       "    .dataframe tbody tr th {\n",
       "        vertical-align: top;\n",
       "    }\n",
       "\n",
       "    .dataframe thead th {\n",
       "        text-align: right;\n",
       "    }\n",
       "</style>\n",
       "<table border=\"1\" class=\"dataframe\">\n",
       "  <thead>\n",
       "    <tr style=\"text-align: right;\">\n",
       "      <th></th>\n",
       "      <th>component_2</th>\n",
       "    </tr>\n",
       "  </thead>\n",
       "  <tbody>\n",
       "    <tr>\n",
       "      <th>lol</th>\n",
       "      <td>0.974446</td>\n",
       "    </tr>\n",
       "    <tr>\n",
       "      <th>people</th>\n",
       "      <td>-0.178235</td>\n",
       "    </tr>\n",
       "    <tr>\n",
       "      <th>right</th>\n",
       "      <td>0.079321</td>\n",
       "    </tr>\n",
       "    <tr>\n",
       "      <th>government</th>\n",
       "      <td>-0.042384</td>\n",
       "    </tr>\n",
       "    <tr>\n",
       "      <th>fucking</th>\n",
       "      <td>0.026298</td>\n",
       "    </tr>\n",
       "    <tr>\n",
       "      <th>trump</th>\n",
       "      <td>0.025698</td>\n",
       "    </tr>\n",
       "    <tr>\n",
       "      <th>fuck</th>\n",
       "      <td>0.024691</td>\n",
       "    </tr>\n",
       "    <tr>\n",
       "      <th>post</th>\n",
       "      <td>0.023291</td>\n",
       "    </tr>\n",
       "    <tr>\n",
       "      <th>oh</th>\n",
       "      <td>0.021413</td>\n",
       "    </tr>\n",
       "    <tr>\n",
       "      <th>money</th>\n",
       "      <td>-0.016052</td>\n",
       "    </tr>\n",
       "    <tr>\n",
       "      <th>guy</th>\n",
       "      <td>0.016027</td>\n",
       "    </tr>\n",
       "    <tr>\n",
       "      <th>ok</th>\n",
       "      <td>0.015614</td>\n",
       "    </tr>\n",
       "    <tr>\n",
       "      <th>comment</th>\n",
       "      <td>0.014493</td>\n",
       "    </tr>\n",
       "    <tr>\n",
       "      <th>work</th>\n",
       "      <td>-0.013031</td>\n",
       "    </tr>\n",
       "    <tr>\n",
       "      <th>wing</th>\n",
       "      <td>0.011766</td>\n",
       "    </tr>\n",
       "    <tr>\n",
       "      <th>left</th>\n",
       "      <td>0.011750</td>\n",
       "    </tr>\n",
       "    <tr>\n",
       "      <th>taxes</th>\n",
       "      <td>-0.011668</td>\n",
       "    </tr>\n",
       "    <tr>\n",
       "      <th>read</th>\n",
       "      <td>0.011603</td>\n",
       "    </tr>\n",
       "    <tr>\n",
       "      <th>man</th>\n",
       "      <td>0.011357</td>\n",
       "    </tr>\n",
       "    <tr>\n",
       "      <th>funny</th>\n",
       "      <td>0.010409</td>\n",
       "    </tr>\n",
       "  </tbody>\n",
       "</table>\n",
       "</div>"
      ],
      "text/plain": [
       "            component_2\n",
       "lol            0.974446\n",
       "people        -0.178235\n",
       "right          0.079321\n",
       "government    -0.042384\n",
       "fucking        0.026298\n",
       "trump          0.025698\n",
       "fuck           0.024691\n",
       "post           0.023291\n",
       "oh             0.021413\n",
       "money         -0.016052\n",
       "guy            0.016027\n",
       "ok             0.015614\n",
       "comment        0.014493\n",
       "work          -0.013031\n",
       "wing           0.011766\n",
       "left           0.011750\n",
       "taxes         -0.011668\n",
       "read           0.011603\n",
       "man            0.011357\n",
       "funny          0.010409"
      ]
     },
     "execution_count": 47,
     "metadata": {},
     "output_type": "execute_result"
    }
   ],
   "source": [
    "loadings.sort_values('abs_component_2',ascending=False).head(20)[['component_2']]"
   ]
  },
  {
   "cell_type": "code",
   "execution_count": 48,
   "metadata": {},
   "outputs": [],
   "source": [
    "svd_df['y_train'] = y_train"
   ]
  },
  {
   "cell_type": "code",
   "execution_count": 49,
   "metadata": {},
   "outputs": [],
   "source": [
    "svd_df['y_train'].fillna(0, inplace=True)"
   ]
  },
  {
   "cell_type": "code",
   "execution_count": 50,
   "metadata": {},
   "outputs": [
    {
     "data": {
      "text/html": [
       "<div>\n",
       "<style scoped>\n",
       "    .dataframe tbody tr th:only-of-type {\n",
       "        vertical-align: middle;\n",
       "    }\n",
       "\n",
       "    .dataframe tbody tr th {\n",
       "        vertical-align: top;\n",
       "    }\n",
       "\n",
       "    .dataframe thead th {\n",
       "        text-align: right;\n",
       "    }\n",
       "</style>\n",
       "<table border=\"1\" class=\"dataframe\">\n",
       "  <thead>\n",
       "    <tr style=\"text-align: right;\">\n",
       "      <th></th>\n",
       "      <th>component_1</th>\n",
       "      <th>component_2</th>\n",
       "      <th>component_3</th>\n",
       "      <th>component_4</th>\n",
       "      <th>component_5</th>\n",
       "      <th>component_6</th>\n",
       "      <th>component_7</th>\n",
       "      <th>component_8</th>\n",
       "      <th>component_9</th>\n",
       "      <th>component_10</th>\n",
       "      <th>...</th>\n",
       "      <th>component_1992</th>\n",
       "      <th>component_1993</th>\n",
       "      <th>component_1994</th>\n",
       "      <th>component_1995</th>\n",
       "      <th>component_1996</th>\n",
       "      <th>component_1997</th>\n",
       "      <th>component_1998</th>\n",
       "      <th>component_1999</th>\n",
       "      <th>component_2000</th>\n",
       "      <th>y_train</th>\n",
       "    </tr>\n",
       "  </thead>\n",
       "  <tbody>\n",
       "    <tr>\n",
       "      <th>0</th>\n",
       "      <td>0.037019</td>\n",
       "      <td>-0.000212</td>\n",
       "      <td>0.001245</td>\n",
       "      <td>-0.015726</td>\n",
       "      <td>-0.012006</td>\n",
       "      <td>0.000506</td>\n",
       "      <td>0.007479</td>\n",
       "      <td>-0.009837</td>\n",
       "      <td>-0.013937</td>\n",
       "      <td>-0.000605</td>\n",
       "      <td>...</td>\n",
       "      <td>0.001012</td>\n",
       "      <td>-0.001449</td>\n",
       "      <td>-0.004495</td>\n",
       "      <td>-0.003386</td>\n",
       "      <td>-0.017899</td>\n",
       "      <td>0.011819</td>\n",
       "      <td>0.001228</td>\n",
       "      <td>0.003964</td>\n",
       "      <td>0.001882</td>\n",
       "      <td>1.0</td>\n",
       "    </tr>\n",
       "    <tr>\n",
       "      <th>1</th>\n",
       "      <td>0.060159</td>\n",
       "      <td>-0.005050</td>\n",
       "      <td>0.001202</td>\n",
       "      <td>-0.014899</td>\n",
       "      <td>-0.022917</td>\n",
       "      <td>0.000866</td>\n",
       "      <td>0.009888</td>\n",
       "      <td>-0.013411</td>\n",
       "      <td>-0.015295</td>\n",
       "      <td>-0.016358</td>\n",
       "      <td>...</td>\n",
       "      <td>-0.020678</td>\n",
       "      <td>0.005265</td>\n",
       "      <td>-0.006256</td>\n",
       "      <td>0.004927</td>\n",
       "      <td>-0.023348</td>\n",
       "      <td>-0.006556</td>\n",
       "      <td>-0.003822</td>\n",
       "      <td>0.028763</td>\n",
       "      <td>0.011147</td>\n",
       "      <td>1.0</td>\n",
       "    </tr>\n",
       "    <tr>\n",
       "      <th>2</th>\n",
       "      <td>0.020463</td>\n",
       "      <td>0.001249</td>\n",
       "      <td>0.001282</td>\n",
       "      <td>-0.005800</td>\n",
       "      <td>-0.004521</td>\n",
       "      <td>0.007947</td>\n",
       "      <td>0.007065</td>\n",
       "      <td>-0.006124</td>\n",
       "      <td>-0.005303</td>\n",
       "      <td>-0.002730</td>\n",
       "      <td>...</td>\n",
       "      <td>-0.031312</td>\n",
       "      <td>0.026564</td>\n",
       "      <td>-0.008027</td>\n",
       "      <td>-0.033640</td>\n",
       "      <td>0.018032</td>\n",
       "      <td>-0.012117</td>\n",
       "      <td>-0.009270</td>\n",
       "      <td>-0.021856</td>\n",
       "      <td>-0.019092</td>\n",
       "      <td>1.0</td>\n",
       "    </tr>\n",
       "    <tr>\n",
       "      <th>3</th>\n",
       "      <td>0.076860</td>\n",
       "      <td>0.008881</td>\n",
       "      <td>0.021480</td>\n",
       "      <td>-0.070961</td>\n",
       "      <td>-0.004598</td>\n",
       "      <td>0.139658</td>\n",
       "      <td>-0.032231</td>\n",
       "      <td>-0.001718</td>\n",
       "      <td>0.022011</td>\n",
       "      <td>0.028361</td>\n",
       "      <td>...</td>\n",
       "      <td>0.005717</td>\n",
       "      <td>-0.005478</td>\n",
       "      <td>-0.012041</td>\n",
       "      <td>0.020129</td>\n",
       "      <td>-0.011111</td>\n",
       "      <td>0.008026</td>\n",
       "      <td>-0.004060</td>\n",
       "      <td>-0.021796</td>\n",
       "      <td>-0.011386</td>\n",
       "      <td>0.0</td>\n",
       "    </tr>\n",
       "    <tr>\n",
       "      <th>4</th>\n",
       "      <td>0.046109</td>\n",
       "      <td>0.002497</td>\n",
       "      <td>0.004003</td>\n",
       "      <td>-0.016710</td>\n",
       "      <td>-0.008207</td>\n",
       "      <td>0.016202</td>\n",
       "      <td>0.018561</td>\n",
       "      <td>-0.018017</td>\n",
       "      <td>-0.018794</td>\n",
       "      <td>-0.009325</td>\n",
       "      <td>...</td>\n",
       "      <td>-0.017626</td>\n",
       "      <td>-0.023984</td>\n",
       "      <td>0.003314</td>\n",
       "      <td>-0.008179</td>\n",
       "      <td>-0.015589</td>\n",
       "      <td>-0.035660</td>\n",
       "      <td>0.019742</td>\n",
       "      <td>-0.017114</td>\n",
       "      <td>-0.010257</td>\n",
       "      <td>1.0</td>\n",
       "    </tr>\n",
       "  </tbody>\n",
       "</table>\n",
       "<p>5 rows × 2001 columns</p>\n",
       "</div>"
      ],
      "text/plain": [
       "   component_1  component_2  component_3  component_4  component_5  \\\n",
       "0     0.037019    -0.000212     0.001245    -0.015726    -0.012006   \n",
       "1     0.060159    -0.005050     0.001202    -0.014899    -0.022917   \n",
       "2     0.020463     0.001249     0.001282    -0.005800    -0.004521   \n",
       "3     0.076860     0.008881     0.021480    -0.070961    -0.004598   \n",
       "4     0.046109     0.002497     0.004003    -0.016710    -0.008207   \n",
       "\n",
       "   component_6  component_7  component_8  component_9  component_10   ...     \\\n",
       "0     0.000506     0.007479    -0.009837    -0.013937     -0.000605   ...      \n",
       "1     0.000866     0.009888    -0.013411    -0.015295     -0.016358   ...      \n",
       "2     0.007947     0.007065    -0.006124    -0.005303     -0.002730   ...      \n",
       "3     0.139658    -0.032231    -0.001718     0.022011      0.028361   ...      \n",
       "4     0.016202     0.018561    -0.018017    -0.018794     -0.009325   ...      \n",
       "\n",
       "   component_1992  component_1993  component_1994  component_1995  \\\n",
       "0        0.001012       -0.001449       -0.004495       -0.003386   \n",
       "1       -0.020678        0.005265       -0.006256        0.004927   \n",
       "2       -0.031312        0.026564       -0.008027       -0.033640   \n",
       "3        0.005717       -0.005478       -0.012041        0.020129   \n",
       "4       -0.017626       -0.023984        0.003314       -0.008179   \n",
       "\n",
       "   component_1996  component_1997  component_1998  component_1999  \\\n",
       "0       -0.017899        0.011819        0.001228        0.003964   \n",
       "1       -0.023348       -0.006556       -0.003822        0.028763   \n",
       "2        0.018032       -0.012117       -0.009270       -0.021856   \n",
       "3       -0.011111        0.008026       -0.004060       -0.021796   \n",
       "4       -0.015589       -0.035660        0.019742       -0.017114   \n",
       "\n",
       "   component_2000  y_train  \n",
       "0        0.001882      1.0  \n",
       "1        0.011147      1.0  \n",
       "2       -0.019092      1.0  \n",
       "3       -0.011386      0.0  \n",
       "4       -0.010257      1.0  \n",
       "\n",
       "[5 rows x 2001 columns]"
      ]
     },
     "execution_count": 50,
     "metadata": {},
     "output_type": "execute_result"
    }
   ],
   "source": [
    "svd_df.head()"
   ]
  },
  {
   "cell_type": "code",
   "execution_count": 51,
   "metadata": {},
   "outputs": [
    {
     "data": {
      "image/png": "[encoded data removed]",
      "text/plain": [
       "<Figure size 1440x720 with 1 Axes>"
      ]
     },
     "metadata": {
      "needs_background": "light"
     },
     "output_type": "display_data"
    }
   ],
   "source": [
    "plt.figure(figsize=(20,10))\n",
    "plt.scatter(svd_df[['component_1']][svd_df['y_train']==0], svd_df[['component_2']][svd_df['y_train']==0], c='forestgreen', alpha=.3)\n",
    "plt.scatter(svd_df[['component_1']][svd_df['y_train']==1], svd_df[['component_2']][svd_df['y_train']==1], c='coral', alpha=.3)\n",
    "plt.xlabel(f\"{', '.join(loadings.sort_values('abs_component_1',ascending=False).head(5)[['component_1']].index)}\",\n",
    "          fontsize=20)\n",
    "plt.ylabel(f\"{', '.join(loadings.sort_values('abs_component_2',ascending=False).head(5)[['component_2']].index)}\",\n",
    "          fontsize=20)\n",
    "plt.title('First Two SVD Components', fontsize=24)\n",
    "plt.legend(['Conservative', 'Liberal'], fontsize=16);\n",
    "\n",
    "plt.savefig('../images/SVD_first2.png', dpi=300)"
   ]
  },
  {
   "cell_type": "code",
   "execution_count": 53,
   "metadata": {},
   "outputs": [],
   "source": [
    "svd_sparse = sparse.csr_matrix(svd_matrix)"
   ]
  },
  {
   "cell_type": "code",
   "execution_count": null,
   "metadata": {},
   "outputs": [],
   "source": [
    "cos_sim_mat = cosine_similarity(svd_sparse, svd_sparse)\n",
    "cos_sim_mat.shape"
   ]
  },
  {
   "cell_type": "code",
   "execution_count": null,
   "metadata": {},
   "outputs": [],
   "source": [
    "np.argsort(cos_sim_mat[1])[:-11:-1]"
   ]
  },
  {
   "cell_type": "code",
   "execution_count": null,
   "metadata": {},
   "outputs": [],
   "source": [
    "np.sort(cos_sim_mat[1])[:-11:-1]"
   ]
  },
  {
   "cell_type": "code",
   "execution_count": null,
   "metadata": {},
   "outputs": [],
   "source": [
    "df.loc[np.argsort(cos_sim_mat[50])[:-11:-1], :]"
   ]
  },
  {
   "cell_type": "code",
   "execution_count": null,
   "metadata": {},
   "outputs": [],
   "source": []
  }
 ],
 "metadata": {
  "kernelspec": {
   "display_name": "Python 3",
   "language": "python",
   "name": "python3"
  },
  "language_info": {
   "codemirror_mode": {
    "name": "ipython",
    "version": 3
   },
   "file_extension": ".py",
   "mimetype": "text/x-python",
   "name": "python",
   "nbconvert_exporter": "python",
   "pygments_lexer": "ipython3",
   "version": "3.7.2"
  }
 },
 "nbformat": 4,
 "nbformat_minor": 2
}
