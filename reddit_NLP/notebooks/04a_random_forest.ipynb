{
 "cells": [
  {
   "cell_type": "markdown",
   "metadata": {},
   "source": [
    "# NOTEBOOK 04a: RANDOM FOREST"
   ]
  },
  {
   "cell_type": "markdown",
   "metadata": {},
   "source": [
    "This notebook will fit and optimize a Random Forest model on the Tfidf vectorized data. The Random Forest algorithm is a CART method that randomly selects features at each node and evaluates the gain in information through either reduction in entropy or gini. It then uses those recursive fittings to determine the relative importance of each feature for sorting classes. Features that produce splits resulting in pure classes are weighted the highest and therefore provide the most predicive value."
   ]
  },
  {
   "cell_type": "code",
   "execution_count": 1,
   "metadata": {},
   "outputs": [],
   "source": [
    "import time\n",
    "import pandas as pd\n",
    "import numpy as np\n",
    "\n",
    "from scipy import sparse\n",
    "from sklearn.ensemble import RandomForestClassifier\n",
    "from sklearn.model_selection import GridSearchCV\n",
    "import matplotlib.pyplot as plt\n",
    "\n",
    "np.random.seed(42)\n",
    "\n",
    "import warnings\n",
    "warnings.simplefilter(action='ignore', category=FutureWarning)\n",
    "\n",
    "%matplotlib inline"
   ]
  },
  {
   "cell_type": "code",
   "execution_count": 2,
   "metadata": {},
   "outputs": [
    {
     "name": "stdout",
     "output_type": "stream",
     "text": [
      "1544820504_comments_df.csv     1545277666_y_test.csv\n",
      "1544843302_comments_df.csv     1545277666_y_train.csv\n",
      "1544988010_comments_df.csv     1545285057_tfidf_col.csv\n",
      "1545241316_clean_target.csv    1545336727_SVD_col.csv\n",
      "1545241316_clean_text.csv      1545336727_XtestSVD_coo.npz\n",
      "1545249401_cvec_coo.npz        1545336727_XtestSVD_raw.csv\n",
      "1545249401_cvec_coo_col.csv    1545336727_XtrainSVD_coo.npz\n",
      "1545254581_clean_text.csv      1545336727_XtrainSVD_raw.csv\n",
      "1545266972_clean_text.csv      cvec_1545266972_coo_col.csv\n",
      "1545266972_cvec_coo.npz        file_log.txt\n",
      "1545266972_tfidf_coo.npz       test_1545277666_tfidf_coo.npz\n",
      "1545272821_eda_words.csv       tfidf_1545266972_coo_col.csv\n",
      "1545277666_tfidf_col.csv       train_1545277666_tfidf_coo.npz\n"
     ]
    }
   ],
   "source": [
    "!ls '../assets'"
   ]
  },
  {
   "cell_type": "code",
   "execution_count": 3,
   "metadata": {},
   "outputs": [],
   "source": [
    "columns = pd.read_csv('../assets/1545277666_tfidf_col.csv', na_filter=False, header=None)\n",
    "cols = np.array(columns[0])"
   ]
  },
  {
   "cell_type": "code",
   "execution_count": 4,
   "metadata": {},
   "outputs": [],
   "source": [
    "X_train_tfidf_coo=sparse.load_npz('../assets/train_1545277666_tfidf_coo.npz')\n",
    "X_train_tfidf = pd.SparseDataFrame(X_train_tfidf_coo, columns=cols)"
   ]
  },
  {
   "cell_type": "code",
   "execution_count": 5,
   "metadata": {},
   "outputs": [],
   "source": [
    "X_test_tfidf_coo=sparse.load_npz('../assets/test_1545277666_tfidf_coo.npz')\n",
    "X_test_tfidf = pd.SparseDataFrame(X_test_tfidf_coo, columns=cols)"
   ]
  },
  {
   "cell_type": "code",
   "execution_count": 6,
   "metadata": {},
   "outputs": [],
   "source": [
    "X_train_tfidf.fillna(0, inplace=True)\n",
    "X_test_tfidf.fillna(0, inplace=True)"
   ]
  },
  {
   "cell_type": "code",
   "execution_count": 7,
   "metadata": {},
   "outputs": [],
   "source": [
    "y_train = pd.read_csv('../assets/1545277666_y_train.csv', header=None)\n",
    "y_test = pd.read_csv('../assets/1545277666_y_test.csv', header=None)"
   ]
  },
  {
   "cell_type": "markdown",
   "metadata": {},
   "source": [
    "Evaluating the baseline model, which is the accuracy when predicting every sample as the majority class. Since the target is a np.array, we will take the mean. If greater than 50% we know the baseline prediction is positive class, while if it's less than 50% then we take the negative class as the baseline prediction."
   ]
  },
  {
   "cell_type": "code",
   "execution_count": 20,
   "metadata": {},
   "outputs": [
    {
     "data": {
      "text/plain": [
       "0.5386858235597792"
      ]
     },
     "execution_count": 20,
     "metadata": {},
     "output_type": "execute_result"
    }
   ],
   "source": [
    "np.mean(y_train)"
   ]
  },
  {
   "cell_type": "markdown",
   "metadata": {},
   "source": [
    "We see that the baseline prediction is 53.8% along the majority class. Using ravel to flatten the np.array into a 1-d array for modeling."
   ]
  },
  {
   "cell_type": "code",
   "execution_count": 8,
   "metadata": {},
   "outputs": [],
   "source": [
    "y_train = np.ravel(y_train)\n",
    "y_test = np.ravel(y_test)"
   ]
  },
  {
   "cell_type": "markdown",
   "metadata": {},
   "source": [
    "Setting up the gridsearch to find an optimal minimum sample split. For Random Forest algorithms, the minimum sample split is one of the hyperparameters that control tree depth, or the number of splits that a tree will have to sort classes. By default, the Random Forest algorithm produces 10 trees for each fitting. The model will only create a new branch if the number of samples on each resulting branch is greater than the min_samples_split. If not, then the branch will become a leaf. We will first fit to the min_samples_split and then consider increasing the n_estimators perameter as 10 is quite small relative to our feature-space."
   ]
  },
  {
   "cell_type": "code",
   "execution_count": 35,
   "metadata": {},
   "outputs": [],
   "source": [
    "rf = RandomForestClassifier(random_state=42)"
   ]
  },
  {
   "cell_type": "code",
   "execution_count": 36,
   "metadata": {},
   "outputs": [],
   "source": [
    "params = {\n",
    "    'min_samples_split':[25],\n",
    "    'n_estimators':[100]\n",
    "}\n",
    "\n",
    "gs = GridSearchCV(rf, \n",
    "                  param_grid=params, \n",
    "                  return_train_score=True,\n",
    "                  cv=3,\n",
    "                  verbose=2,\n",
    "                 )"
   ]
  },
  {
   "cell_type": "markdown",
   "metadata": {},
   "source": [
    "Fitting the model and listing the best hyperparameters"
   ]
  },
  {
   "cell_type": "code",
   "execution_count": 37,
   "metadata": {},
   "outputs": [
    {
     "name": "stdout",
     "output_type": "stream",
     "text": [
      "Fitting 3 folds for each of 1 candidates, totalling 3 fits\n",
      "[CV] min_samples_split=25, n_estimators=100 ..........................\n"
     ]
    },
    {
     "name": "stderr",
     "output_type": "stream",
     "text": [
      "[Parallel(n_jobs=1)]: Using backend SequentialBackend with 1 concurrent workers.\n"
     ]
    },
    {
     "name": "stdout",
     "output_type": "stream",
     "text": [
      "[CV] ........... min_samples_split=25, n_estimators=100, total=32.0min\n"
     ]
    },
    {
     "name": "stderr",
     "output_type": "stream",
     "text": [
      "[Parallel(n_jobs=1)]: Done   1 out of   1 | elapsed: 33.8min remaining:    0.0s\n"
     ]
    },
    {
     "name": "stdout",
     "output_type": "stream",
     "text": [
      "[CV] min_samples_split=25, n_estimators=100 ..........................\n",
      "[CV] ........... min_samples_split=25, n_estimators=100, total=31.8min\n",
      "[CV] min_samples_split=25, n_estimators=100 ..........................\n",
      "[CV] ........... min_samples_split=25, n_estimators=100, total=33.8min\n"
     ]
    },
    {
     "name": "stderr",
     "output_type": "stream",
     "text": [
      "[Parallel(n_jobs=1)]: Done   3 out of   3 | elapsed: 103.2min finished\n"
     ]
    },
    {
     "data": {
      "text/plain": [
       "{'min_samples_split': 25, 'n_estimators': 100}"
      ]
     },
     "execution_count": 37,
     "metadata": {},
     "output_type": "execute_result"
    }
   ],
   "source": [
    "gs.fit(X_train_tfidf, y_train)\n",
    "gs.best_params_"
   ]
  },
  {
   "cell_type": "markdown",
   "metadata": {},
   "source": [
    "The gridsearch found that the optimal value for min_smaples_split was 25 with the other hyperparameters held at their default values. Checking the training score, listed as classification accuracy."
   ]
  },
  {
   "cell_type": "code",
   "execution_count": 38,
   "metadata": {},
   "outputs": [
    {
     "data": {
      "text/plain": [
       "0.9546647664890098"
      ]
     },
     "execution_count": 38,
     "metadata": {},
     "output_type": "execute_result"
    }
   ],
   "source": [
    "gs.score(X_train_tfidf, y_train)"
   ]
  },
  {
   "cell_type": "markdown",
   "metadata": {},
   "source": [
    "The training score was significantly higher than the baseline model at 92.8%."
   ]
  },
  {
   "cell_type": "code",
   "execution_count": 39,
   "metadata": {},
   "outputs": [
    {
     "data": {
      "text/plain": [
       "0.7049559375272664"
      ]
     },
     "execution_count": 39,
     "metadata": {},
     "output_type": "execute_result"
    }
   ],
   "source": [
    "gs.score(X_test_tfidf, y_test)"
   ]
  },
  {
   "cell_type": "markdown",
   "metadata": {},
   "source": [
    "The model unfortunately performed significantly worse on the validation set, only scoring 69.6% accuracy. While this is an improvement over the baseline model, the disparity between training and validation scores indicates a low bias / high variance model that is very overfit. It's possible this would improve by considering more trees during each fit. As such, we will try increasing n_estimators to 100."
   ]
  },
  {
   "cell_type": "markdown",
   "metadata": {},
   "source": [
    "Saving out predicted probabilities to plot out features that held the most importance."
   ]
  },
  {
   "cell_type": "code",
   "execution_count": 40,
   "metadata": {},
   "outputs": [],
   "source": [
    "pred_proba = gs.predict_proba(X_test_tfidf)"
   ]
  },
  {
   "cell_type": "markdown",
   "metadata": {},
   "source": [
    "Pulling out the scored feature importances."
   ]
  },
  {
   "cell_type": "code",
   "execution_count": 41,
   "metadata": {},
   "outputs": [
    {
     "data": {
      "text/plain": [
       "array([1.56758645e-05, 9.54534878e-06, 6.51881901e-06, ...,\n",
       "       9.19815280e-06, 7.78443856e-06, 1.32586455e-05])"
      ]
     },
     "execution_count": 41,
     "metadata": {},
     "output_type": "execute_result"
    }
   ],
   "source": [
    "gs.best_estimator_.feature_importances_"
   ]
  },
  {
   "cell_type": "markdown",
   "metadata": {},
   "source": [
    "Creating a dataframe that aligns feature importance with the feature name"
   ]
  },
  {
   "cell_type": "code",
   "execution_count": 42,
   "metadata": {},
   "outputs": [],
   "source": [
    "feat_importance = pd.DataFrame(gs.best_estimator_.feature_importances_,\n",
    "                               X_train_tfidf.columns,\n",
    "                               columns=['importance'])"
   ]
  },
  {
   "cell_type": "markdown",
   "metadata": {},
   "source": [
    "Plotting out the top 20 features identfied by the model."
   ]
  },
  {
   "cell_type": "code",
   "execution_count": 43,
   "metadata": {},
   "outputs": [
    {
     "data": {
      "image/png": "[encoded data removed]",
      "text/plain": [
       "<Figure size 1440x720 with 1 Axes>"
      ]
     },
     "metadata": {
      "needs_background": "light"
     },
     "output_type": "display_data"
    }
   ],
   "source": [
    "plt.figure(figsize=(20,10))\n",
    "temp = feat_importance.sort_values('importance', ascending=False).head(20)\n",
    "plt.barh(temp.index, temp['importance'], color='forestgreen')\n",
    "plt.title('Top 20 Features', fontsize=30)\n",
    "plt.xlabel('Amount of Information Gained', fontsize=20)\n",
    "plt.ylabel('Feature', fontsize=20)\n",
    "\n",
    "plt.savefig('../images/rf20info2.png', dpi=300)"
   ]
  },
  {
   "cell_type": "markdown",
   "metadata": {},
   "source": [
    "The top 20 features are encouraging because they hold high relavence to our political subject matter without being unduly correlated with one group or the other. This indicates that the model is grasping on to features that are intuitive important to this classification problem. The only questionable word on the list is 'ism', which may be an artifact from lemmatization as a disembodied suffix. "
   ]
  },
  {
   "cell_type": "markdown",
   "metadata": {},
   "source": [
    "Listing out the min_samples_splits for plotting to understand if the gridsearch found a locally optimal value or a global optimum."
   ]
  },
  {
   "cell_type": "code",
   "execution_count": 44,
   "metadata": {},
   "outputs": [
    {
     "data": {
      "text/plain": [
       "[25]"
      ]
     },
     "execution_count": 44,
     "metadata": {},
     "output_type": "execute_result"
    }
   ],
   "source": [
    "[param['min_samples_split'] for param in gs.cv_results_['params']]"
   ]
  },
  {
   "cell_type": "code",
   "execution_count": 45,
   "metadata": {},
   "outputs": [
    {
     "data": {
      "text/plain": [
       "array([0.69675928])"
      ]
     },
     "execution_count": 45,
     "metadata": {},
     "output_type": "execute_result"
    }
   ],
   "source": [
    "gs.cv_results_['mean_test_score']"
   ]
  },
  {
   "cell_type": "code",
   "execution_count": 46,
   "metadata": {},
   "outputs": [
    {
     "data": {
      "text/plain": [
       "Text(0.5, 1.0, 'Mean Test Score vs. Min Samples Split')"
      ]
     },
     "execution_count": 46,
     "metadata": {},
     "output_type": "execute_result"
    },
    {
     "data": {
      "image/png": "[encoded data removed]",
      "text/plain": [
       "<Figure size 1440x720 with 1 Axes>"
      ]
     },
     "metadata": {
      "needs_background": "light"
     },
     "output_type": "display_data"
    }
   ],
   "source": [
    "plt.figure(figsize=(20,10))\n",
    "plt.plot([param['min_samples_split'] for param in gs.cv_results_['params']], gs.cv_results_['mean_test_score'])\n",
    "plt.xlabel('Min Samples Split', fontsize=20)\n",
    "plt.ylabel('Mean Accuracy', fontsize=20)\n",
    "plt.title('Mean Test Score vs. Min Samples Split', fontsize=30)"
   ]
  },
  {
   "cell_type": "markdown",
   "metadata": {},
   "source": [
    "We see a sharp inflection point at 25 and then a decrease to 50. There may well be values above 50 that provide a similar level of accuracy but going too large risks a shallow tree that leaves many samples incorrecly classified. At this stage it would be more informative to try optimizing n_estimators than the tree depth."
   ]
  }
 ],
 "metadata": {
  "kernelspec": {
   "display_name": "Python 3",
   "language": "python",
   "name": "python3"
  },
  "language_info": {
   "codemirror_mode": {
    "name": "ipython",
    "version": 3
   },
   "file_extension": ".py",
   "mimetype": "text/x-python",
   "name": "python",
   "nbconvert_exporter": "python",
   "pygments_lexer": "ipython3",
   "version": "3.7.1"
  }
 },
 "nbformat": 4,
 "nbformat_minor": 2
}
