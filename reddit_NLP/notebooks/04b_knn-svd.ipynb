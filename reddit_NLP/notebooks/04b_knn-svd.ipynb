{
 "cells": [
  {
   "cell_type": "markdown",
   "metadata": {},
   "source": [
    "# NOTEBOOK 04b: K-NEAREST NEIGHBORS"
   ]
  },
  {
   "cell_type": "code",
   "execution_count": 1,
   "metadata": {},
   "outputs": [],
   "source": [
    "import time\n",
    "import pandas as pd\n",
    "import numpy as np\n",
    "\n",
    "from scipy import sparse\n",
    "from sklearn.neighbors import KNeighborsClassifier\n",
    "from sklearn.model_selection import GridSearchCV\n",
    "import matplotlib.pyplot as plt\n",
    "\n",
    "np.random.seed(42)\n",
    "\n",
    "import warnings\n",
    "warnings.simplefilter(action='ignore', category=FutureWarning)\n",
    "\n",
    "%matplotlib inline"
   ]
  },
  {
   "cell_type": "code",
   "execution_count": 2,
   "metadata": {},
   "outputs": [
    {
     "name": "stdout",
     "output_type": "stream",
     "text": [
      "1544988010_comments_df.csv     1545277666_y_train.csv\n",
      "1545241316_clean_target.csv    1545336727_SVD_col.csv\n",
      "1545241316_clean_text.csv      1545336727_XtestSVD_coo.npz\n",
      "1545266972_clean_text.csv      1545336727_XtrainSVD_coo.npz\n",
      "1545266972_cvec_coo.npz        cvec_1545266972_coo_col.csv\n",
      "1545272821_eda_words.csv       file_log.txt\n",
      "1545277666_tfidf_col.csv       test_1545277666_tfidf_coo.npz\n",
      "1545277666_y_test.csv          train_1545277666_tfidf_coo.npz\n"
     ]
    }
   ],
   "source": [
    "!ls '../assets'"
   ]
  },
  {
   "cell_type": "code",
   "execution_count": 3,
   "metadata": {},
   "outputs": [],
   "source": [
    "columns = pd.read_csv('../assets/1545336727_SVD_col.csv', na_filter=False, header=None)\n",
    "cols = np.array(columns[0])"
   ]
  },
  {
   "cell_type": "code",
   "execution_count": 4,
   "metadata": {},
   "outputs": [],
   "source": [
    "XtrainSVD_coo = sparse.load_npz('../assets/1545336727_XtrainSVD_coo.npz')\n",
    "X_train_svd = pd.SparseDataFrame(XtrainSVD_coo, columns=cols)"
   ]
  },
  {
   "cell_type": "code",
   "execution_count": 5,
   "metadata": {},
   "outputs": [],
   "source": [
    "XtestSVD_coo = sparse.load_npz('../assets/1545336727_XtestSVD_coo.npz')\n",
    "X_test_svd = pd.SparseDataFrame(XtestSVD_coo, columns=cols)"
   ]
  },
  {
   "cell_type": "code",
   "execution_count": 6,
   "metadata": {},
   "outputs": [],
   "source": [
    "X_train_svd.fillna(0, inplace=True)\n",
    "X_test_svd.fillna(0, inplace=True)"
   ]
  },
  {
   "cell_type": "code",
   "execution_count": 7,
   "metadata": {},
   "outputs": [],
   "source": [
    "y_train = pd.read_csv('../assets/1545277666_y_train.csv', header=None)\n",
    "y_test = pd.read_csv('../assets/1545277666_y_test.csv', header=None)"
   ]
  },
  {
   "cell_type": "code",
   "execution_count": 8,
   "metadata": {},
   "outputs": [],
   "source": [
    "y_train = np.ravel(y_train)\n",
    "y_test = np.ravel(y_test)"
   ]
  },
  {
   "cell_type": "code",
   "execution_count": 9,
   "metadata": {},
   "outputs": [],
   "source": [
    "params = {\n",
    "    'n_neighbors': [3,21,39,51]\n",
    "}\n",
    "\n",
    "gs = GridSearchCV(KNeighborsClassifier(), \n",
    "                  param_grid=params, \n",
    "                  return_train_score=True,\n",
    "                  cv=3,\n",
    "                  verbose=2,\n",
    "                 )"
   ]
  },
  {
   "cell_type": "code",
   "execution_count": 10,
   "metadata": {},
   "outputs": [
    {
     "name": "stdout",
     "output_type": "stream",
     "text": [
      "Fitting 3 folds for each of 4 candidates, totalling 12 fits\n",
      "[CV] n_neighbors=3 ...................................................\n"
     ]
    },
    {
     "name": "stderr",
     "output_type": "stream",
     "text": [
      "[Parallel(n_jobs=1)]: Using backend SequentialBackend with 1 concurrent workers.\n"
     ]
    },
    {
     "name": "stdout",
     "output_type": "stream",
     "text": [
      "[CV] ................................... n_neighbors=3, total=190.0min\n",
      "[CV] n_neighbors=3 ...................................................\n"
     ]
    },
    {
     "name": "stderr",
     "output_type": "stream",
     "text": [
      "[Parallel(n_jobs=1)]: Done   1 out of   1 | elapsed: 569.5min remaining:    0.0s\n"
     ]
    },
    {
     "name": "stdout",
     "output_type": "stream",
     "text": [
      "[CV] ................................... n_neighbors=3, total=180.5min\n",
      "[CV] n_neighbors=3 ...................................................\n",
      "[CV] ................................... n_neighbors=3, total=177.6min\n",
      "[CV] n_neighbors=21 ..................................................\n",
      "[CV] .................................. n_neighbors=21, total=204.0min\n",
      "[CV] n_neighbors=21 ..................................................\n",
      "[CV] .................................. n_neighbors=21, total=195.9min\n",
      "[CV] n_neighbors=21 ..................................................\n",
      "[CV] .................................. n_neighbors=21, total=195.6min\n",
      "[CV] n_neighbors=39 ..................................................\n",
      "[CV] .................................. n_neighbors=39, total=195.6min\n",
      "[CV] n_neighbors=39 ..................................................\n",
      "[CV] .................................. n_neighbors=39, total=192.2min\n",
      "[CV] n_neighbors=39 ..................................................\n",
      "[CV] .................................. n_neighbors=39, total=195.6min\n",
      "[CV] n_neighbors=51 ..................................................\n",
      "[CV] .................................. n_neighbors=51, total=196.4min\n",
      "[CV] n_neighbors=51 ..................................................\n",
      "[CV] .................................. n_neighbors=51, total=205.8min\n",
      "[CV] n_neighbors=51 ..................................................\n",
      "[CV] .................................. n_neighbors=51, total=208.8min\n"
     ]
    },
    {
     "name": "stderr",
     "output_type": "stream",
     "text": [
      "[Parallel(n_jobs=1)]: Done  12 out of  12 | elapsed: 6956.0min finished\n"
     ]
    },
    {
     "data": {
      "text/plain": [
       "{'n_neighbors': 21}"
      ]
     },
     "execution_count": 10,
     "metadata": {},
     "output_type": "execute_result"
    }
   ],
   "source": [
    "gs.fit(X_train_svd, y_train)\n",
    "gs.best_params_"
   ]
  },
  {
   "cell_type": "code",
   "execution_count": 11,
   "metadata": {},
   "outputs": [
    {
     "data": {
      "text/plain": [
       "{'n_neighbors': 21}"
      ]
     },
     "execution_count": 11,
     "metadata": {},
     "output_type": "execute_result"
    }
   ],
   "source": [
    "gs.best_params_"
   ]
  },
  {
   "cell_type": "code",
   "execution_count": 12,
   "metadata": {},
   "outputs": [
    {
     "data": {
      "text/plain": [
       "0.6763493321505697"
      ]
     },
     "execution_count": 12,
     "metadata": {},
     "output_type": "execute_result"
    }
   ],
   "source": [
    "gs.score(X_train_svd, y_train)"
   ]
  },
  {
   "cell_type": "code",
   "execution_count": null,
   "metadata": {},
   "outputs": [],
   "source": [
    "gs.score(X_test_svd, y_test)"
   ]
  },
  {
   "cell_type": "code",
   "execution_count": 46,
   "metadata": {},
   "outputs": [
    {
     "data": {
      "text/plain": [
       "{'mean_fit_time': array([0.00762382, 0.00582571, 0.00423021, 0.00588241, 0.0048142 ,\n",
       "        0.0063787 , 0.00616207, 0.00358181, 0.00579386]),\n",
       " 'std_fit_time': array([0.00185505, 0.00301614, 0.00095007, 0.00165308, 0.00102656,\n",
       "        0.00315467, 0.00143439, 0.00064321, 0.00177152]),\n",
       " 'mean_score_time': array([0.03787479, 0.03771234, 0.03239565, 0.0434402 , 0.04286418,\n",
       "        0.04395003, 0.04068179, 0.03317399, 0.04016538]),\n",
       " 'std_score_time': array([0.00372267, 0.00660769, 0.0030092 , 0.01243258, 0.01739264,\n",
       "        0.01595347, 0.0146071 , 0.00707124, 0.01146533]),\n",
       " 'param_n_neighbors': masked_array(data=[3, 9, 15, 21, 27, 33, 39, 45, 51],\n",
       "              mask=[False, False, False, False, False, False, False, False,\n",
       "                    False],\n",
       "        fill_value='?',\n",
       "             dtype=object),\n",
       " 'params': [{'n_neighbors': 3},\n",
       "  {'n_neighbors': 9},\n",
       "  {'n_neighbors': 15},\n",
       "  {'n_neighbors': 21},\n",
       "  {'n_neighbors': 27},\n",
       "  {'n_neighbors': 33},\n",
       "  {'n_neighbors': 39},\n",
       "  {'n_neighbors': 45},\n",
       "  {'n_neighbors': 51}],\n",
       " 'split0_test_score': array([0.77272727, 0.76136364, 0.73863636, 0.72159091, 0.70454545,\n",
       "        0.66477273, 0.65909091, 0.65909091, 0.65340909]),\n",
       " 'split1_test_score': array([0.80681818, 0.81818182, 0.78409091, 0.75      , 0.69886364,\n",
       "        0.69886364, 0.6875    , 0.6875    , 0.67613636]),\n",
       " 'split2_test_score': array([0.85714286, 0.86285714, 0.84571429, 0.75428571, 0.69142857,\n",
       "        0.68      , 0.66857143, 0.66285714, 0.66285714]),\n",
       " 'split3_test_score': array([0.80571429, 0.83428571, 0.82285714, 0.81142857, 0.77714286,\n",
       "        0.75428571, 0.74285714, 0.70857143, 0.69714286]),\n",
       " 'split4_test_score': array([0.82857143, 0.84      , 0.80571429, 0.77714286, 0.73714286,\n",
       "        0.70285714, 0.68      , 0.68571429, 0.66857143]),\n",
       " 'mean_test_score': array([0.81413911, 0.82326112, 0.79931585, 0.76282782, 0.72177879,\n",
       "        0.70011403, 0.68757127, 0.68072976, 0.67160775]),\n",
       " 'std_test_score': array([0.02792248, 0.03416249, 0.03652086, 0.03001772, 0.0317416 ,\n",
       "        0.03031134, 0.02926032, 0.01807051, 0.01475841]),\n",
       " 'rank_test_score': array([2, 1, 3, 4, 5, 6, 7, 8, 9], dtype=int32),\n",
       " 'split0_train_score': array([0.90299572, 0.85306705, 0.80884451, 0.78174037, 0.7617689 ,\n",
       "        0.70042796, 0.68758916, 0.67475036, 0.66048502]),\n",
       " 'split1_train_score': array([0.88873039, 0.85306705, 0.80171184, 0.78459344, 0.73751783,\n",
       "        0.71184023, 0.69186876, 0.68045649, 0.65620542]),\n",
       " 'split2_train_score': array([0.88034188, 0.84045584, 0.7977208 , 0.77635328, 0.74216524,\n",
       "        0.72792023, 0.7037037 , 0.69088319, 0.68376068]),\n",
       " 'split3_train_score': array([0.89458689, 0.86039886, 0.85185185, 0.80769231, 0.78490028,\n",
       "        0.75498575, 0.72792023, 0.68945869, 0.67663818]),\n",
       " 'split4_train_score': array([0.88888889, 0.83903134, 0.8048433 , 0.78490028, 0.74358974,\n",
       "        0.71509972, 0.70797721, 0.6951567 , 0.68518519]),\n",
       " 'mean_train_score': array([0.89110875, 0.84920403, 0.81299446, 0.78705594, 0.7539884 ,\n",
       "        0.72205478, 0.70381181, 0.68614108, 0.6724549 ]),\n",
       " 'std_train_score': array([0.00748208, 0.00818761, 0.01976938, 0.0107645 , 0.01752301,\n",
       "        0.01865091, 0.01417314, 0.00744095, 0.01195579])}"
      ]
     },
     "execution_count": 46,
     "metadata": {},
     "output_type": "execute_result"
    }
   ],
   "source": [
    "gs.cv_results_"
   ]
  },
  {
   "cell_type": "markdown",
   "metadata": {},
   "source": [
    "Because we're only gridsearching a single hyperparameter, we can easily plot out the accuracy we achieve at each of our values to identify our optimal value (or ascertain where we might search more granularly for a global minimum)."
   ]
  },
  {
   "cell_type": "code",
   "execution_count": 47,
   "metadata": {},
   "outputs": [],
   "source": [
    "neighbors = []\n",
    "scores = []\n",
    "for i, model in enumerate(gs.cv_results_['params']):\n",
    "    neighbors.append(model['n_neighbors'])\n",
    "    scores.append(gs.cv_results_['mean_test_score'][i])"
   ]
  },
  {
   "cell_type": "code",
   "execution_count": 48,
   "metadata": {},
   "outputs": [
    {
     "data": {
      "text/plain": [
       "[<matplotlib.lines.Line2D at 0x1a215660f0>]"
      ]
     },
     "execution_count": 48,
     "metadata": {},
     "output_type": "execute_result"
    },
    {
     "data": {
      "image/png": "[encoded data removed]",
      "text/plain": [
       "<Figure size 1440x720 with 1 Axes>"
      ]
     },
     "metadata": {
      "needs_background": "light"
     },
     "output_type": "display_data"
    }
   ],
   "source": [
    "plt.figure(figsize=(20, 10))\n",
    "plt.plot(neighbors, scores)\n",
    "plt.xlabel('Neighbors', fontsize=20)\n",
    "plt.ylabel('Score', fontsize=20)\n",
    "plt.title('Accuracy over number of neighbors', fontsize=36)\n",
    "plt.plot([gs.best_params_['n_neighbors']]*2, [.66, .81], ':')"
   ]
  }
 ],
 "metadata": {
  "kernelspec": {
   "display_name": "Python 3",
   "language": "python",
   "name": "python3"
  },
  "language_info": {
   "codemirror_mode": {
    "name": "ipython",
    "version": 3
   },
   "file_extension": ".py",
   "mimetype": "text/x-python",
   "name": "python",
   "nbconvert_exporter": "python",
   "pygments_lexer": "ipython3",
   "version": "3.7.1"
  }
 },
 "nbformat": 4,
 "nbformat_minor": 2
}
